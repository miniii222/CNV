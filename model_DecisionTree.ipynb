{
 "cells": [
  {
   "cell_type": "code",
   "execution_count": 1,
   "metadata": {
    "ExecuteTime": {
     "end_time": "2019-03-28T04:13:35.288648Z",
     "start_time": "2019-03-28T04:13:31.648346Z"
    }
   },
   "outputs": [
    {
     "data": {
      "text/plain": [
       "['BC_32ea_k100_cyto.csv',\n",
       " 'BC_32ea_k15_cyto.csv',\n",
       " 'K15_common.csv',\n",
       " 'Normal_21ea_k100_cyto.csv',\n",
       " 'Normal_21ea_k15_cyto.csv',\n",
       " 'PC_20ea_k100_cyto.csv',\n",
       " 'PC_20ea_k15_cyto.csv',\n",
       " 'RC_20ea_k100_cyto.csv',\n",
       " 'TCGA_common.csv',\n",
       " 'TCGA_data.csv']"
      ]
     },
     "execution_count": 1,
     "metadata": {},
     "output_type": "execute_result"
    }
   ],
   "source": [
    "import pandas as pd\n",
    "import numpy as np\n",
    "import os\n",
    "os.listdir('../my/data')"
   ]
  },
  {
   "cell_type": "code",
   "execution_count": 2,
   "metadata": {
    "ExecuteTime": {
     "end_time": "2019-03-28T04:13:37.725789Z",
     "start_time": "2019-03-28T04:13:35.291847Z"
    }
   },
   "outputs": [
    {
     "name": "stdout",
     "output_type": "stream",
     "text": [
      "X_train shape : ,  (2114, 763) y_train :  (2114,)\n",
      "X_test shape : ,  (53, 763) y_test :  (53,)\n"
     ]
    }
   ],
   "source": [
    "tcga = pd.read_csv('../my/data/TCGA_common.csv')\n",
    "urine = pd.read_csv('../my/data/K15_common.csv')\n",
    "\n",
    "urine_BC_Norm=urine.loc[urine['cancer'].isin(['Normal','BC'])]\n",
    "tcga_BC_Norm=tcga.loc[tcga['y'].isin(['Normal','BC'])]\n",
    "X_train = tcga_BC_Norm.drop('y', axis = 1)\n",
    "y_train = tcga_BC_Norm['y']\n",
    "X_test = urine_BC_Norm.drop('cancer',axis=1)\n",
    "y_test= urine_BC_Norm['cancer']\n",
    "\n",
    "print('X_train shape : , ', X_train.shape, 'y_train : ', y_train.shape)\n",
    "print('X_test shape : , ', X_test.shape, 'y_test : ', y_test.shape)"
   ]
  },
  {
   "cell_type": "code",
   "execution_count": 3,
   "metadata": {
    "ExecuteTime": {
     "end_time": "2019-03-28T04:13:40.618719Z",
     "start_time": "2019-03-28T04:13:37.729371Z"
    }
   },
   "outputs": [],
   "source": [
    "from sklearn.metrics import accuracy_score\n",
    "from sklearn.metrics import recall_score\n",
    "from sklearn.metrics import precision_score\n",
    "from sklearn.metrics import confusion_matrix\n",
    "from sklearn.metrics import f1_score\n",
    "from sklearn.metrics import roc_auc_score\n",
    "from sklearn.metrics import classification_report\n",
    "\n",
    "def get_eval(y_test, pred) :\n",
    "    '''\n",
    "    print('accuracy : {0:.4f} precision : {1:.4f} recall : {2:.4f} F1 : {3:.4f} AUC : {4:.4f}'.format(\n",
    "                                                        accuracy_score(y_test, pred), \n",
    "                                                        precision_score(y_test, pred),\n",
    "                                                        recall_score(y_test, pred),\n",
    "                                                        f1_score(y_test,pred),\n",
    "                                                        roc_auc_score(y_test, pred)\n",
    "                                                                      ))\n",
    "    '''\n",
    "    \n",
    "    print('accuracy : {0:.4f}'.format(accuracy_score(y_test,pred)))\n",
    "    print(classification_report(y_test, pred))\n",
    "    print(confusion_matrix(y_test, pred))"
   ]
  },
  {
   "cell_type": "markdown",
   "metadata": {},
   "source": [
    "# scaling"
   ]
  },
  {
   "cell_type": "code",
   "execution_count": 4,
   "metadata": {
    "ExecuteTime": {
     "end_time": "2019-03-28T04:13:40.738410Z",
     "start_time": "2019-03-28T04:13:40.626320Z"
    }
   },
   "outputs": [],
   "source": [
    "from sklearn.preprocessing import MinMaxScaler,MaxAbsScaler\n",
    "#MinMaxScaler\n",
    "X_train_mms = MinMaxScaler().fit_transform(X_train)\n",
    "X_test_mms = MinMaxScaler().fit_transform(X_test)\n",
    "\n",
    "#MaxAbsScaler\n",
    "X_train_mas = MaxAbsScaler().fit_transform(X_train)\n",
    "X_test_mas = MaxAbsScaler().fit_transform(X_test)"
   ]
  },
  {
   "cell_type": "markdown",
   "metadata": {},
   "source": [
    "# default tree"
   ]
  },
  {
   "cell_type": "code",
   "execution_count": 5,
   "metadata": {
    "ExecuteTime": {
     "end_time": "2019-03-28T04:13:47.408050Z",
     "start_time": "2019-03-28T04:13:40.742073Z"
    }
   },
   "outputs": [
    {
     "name": "stdout",
     "output_type": "stream",
     "text": [
      "###original data result###\n",
      "accuracy : 0.5660\n",
      "              precision    recall  f1-score   support\n",
      "\n",
      "          BC       0.61      0.78      0.68        32\n",
      "      Normal       0.42      0.24      0.30        21\n",
      "\n",
      "   micro avg       0.57      0.57      0.57        53\n",
      "   macro avg       0.51      0.51      0.49        53\n",
      "weighted avg       0.53      0.57      0.53        53\n",
      "\n",
      "[[25  7]\n",
      " [16  5]]\n",
      "###MinMaxScaler data result###\n",
      "accuracy : 0.5849\n",
      "              precision    recall  f1-score   support\n",
      "\n",
      "          BC       0.61      0.84      0.71        32\n",
      "      Normal       0.44      0.19      0.27        21\n",
      "\n",
      "   micro avg       0.58      0.58      0.58        53\n",
      "   macro avg       0.53      0.52      0.49        53\n",
      "weighted avg       0.55      0.58      0.53        53\n",
      "\n",
      "[[27  5]\n",
      " [17  4]]\n",
      "###MaxAbsScaler data result###\n",
      "accuracy : 0.5283\n",
      "              precision    recall  f1-score   support\n",
      "\n",
      "          BC       0.59      0.75      0.66        32\n",
      "      Normal       0.33      0.19      0.24        21\n",
      "\n",
      "   micro avg       0.53      0.53      0.53        53\n",
      "   macro avg       0.46      0.47      0.45        53\n",
      "weighted avg       0.49      0.53      0.49        53\n",
      "\n",
      "[[24  8]\n",
      " [17  4]]\n"
     ]
    }
   ],
   "source": [
    "from sklearn.tree import DecisionTreeClassifier\n",
    "dt = DecisionTreeClassifier()\n",
    "\n",
    "print('###original data result###')\n",
    "dt.fit(X_train, y_train)\n",
    "get_eval(y_test, dt.predict(X_test))\n",
    "\n",
    "print('###MinMaxScaler data result###')\n",
    "dt.fit(X_train_mms, y_train)\n",
    "get_eval(y_test, dt.predict(X_test_mms))\n",
    "\n",
    "print('###MaxAbsScaler data result###')\n",
    "dt.fit(X_train_mas, y_train)\n",
    "get_eval(y_test, dt.predict(X_test_mas))"
   ]
  },
  {
   "cell_type": "code",
   "execution_count": 6,
   "metadata": {
    "ExecuteTime": {
     "end_time": "2019-03-28T04:13:47.418924Z",
     "start_time": "2019-03-28T04:13:47.410662Z"
    }
   },
   "outputs": [
    {
     "data": {
      "text/plain": [
       "{'class_weight': None,\n",
       " 'criterion': 'gini',\n",
       " 'max_depth': None,\n",
       " 'max_features': None,\n",
       " 'max_leaf_nodes': None,\n",
       " 'min_impurity_decrease': 0.0,\n",
       " 'min_impurity_split': None,\n",
       " 'min_samples_leaf': 1,\n",
       " 'min_samples_split': 2,\n",
       " 'min_weight_fraction_leaf': 0.0,\n",
       " 'presort': False,\n",
       " 'random_state': None,\n",
       " 'splitter': 'best'}"
      ]
     },
     "execution_count": 6,
     "metadata": {},
     "output_type": "execute_result"
    }
   ],
   "source": [
    "dt.get_params()"
   ]
  },
  {
   "cell_type": "code",
   "execution_count": 7,
   "metadata": {
    "ExecuteTime": {
     "end_time": "2019-03-28T04:14:08.410374Z",
     "start_time": "2019-03-28T04:13:47.425255Z"
    }
   },
   "outputs": [
    {
     "name": "stdout",
     "output_type": "stream",
     "text": [
      "GridSearchCV best accuracy : 0.9697\n",
      "GridSearchCV best hyperparameter {'max_depth': 10}\n"
     ]
    }
   ],
   "source": [
    "from sklearn.model_selection import GridSearchCV\n",
    "\n",
    "prams = {\n",
    "    'max_depth' : [6,8,10,12,16,20,24]\n",
    "}\n",
    "\n",
    "grid_cv = GridSearchCV(dt, param_grid = prams, scoring = 'accuracy', cv = 3)\n",
    "grid_cv.fit(X_train_mas, y_train)\n",
    "print('GridSearchCV best accuracy : {0:.4f}'.format(grid_cv.best_score_))\n",
    "print('GridSearchCV best hyperparameter', grid_cv.best_params_)"
   ]
  },
  {
   "cell_type": "code",
   "execution_count": 8,
   "metadata": {
    "ExecuteTime": {
     "end_time": "2019-03-28T04:14:08.457039Z",
     "start_time": "2019-03-28T04:14:08.416905Z"
    }
   },
   "outputs": [
    {
     "name": "stderr",
     "output_type": "stream",
     "text": [
      "C:\\Users\\wjssm\\Anaconda3\\lib\\site-packages\\sklearn\\utils\\deprecation.py:125: FutureWarning: You are accessing a training score ('split0_train_score'), which will not be available by default any more in 0.21. If you need training scores, please set return_train_score=True\n",
      "  warnings.warn(*warn_args, **warn_kwargs)\n",
      "C:\\Users\\wjssm\\Anaconda3\\lib\\site-packages\\sklearn\\utils\\deprecation.py:125: FutureWarning: You are accessing a training score ('split1_train_score'), which will not be available by default any more in 0.21. If you need training scores, please set return_train_score=True\n",
      "  warnings.warn(*warn_args, **warn_kwargs)\n",
      "C:\\Users\\wjssm\\Anaconda3\\lib\\site-packages\\sklearn\\utils\\deprecation.py:125: FutureWarning: You are accessing a training score ('split2_train_score'), which will not be available by default any more in 0.21. If you need training scores, please set return_train_score=True\n",
      "  warnings.warn(*warn_args, **warn_kwargs)\n",
      "C:\\Users\\wjssm\\Anaconda3\\lib\\site-packages\\sklearn\\utils\\deprecation.py:125: FutureWarning: You are accessing a training score ('mean_train_score'), which will not be available by default any more in 0.21. If you need training scores, please set return_train_score=True\n",
      "  warnings.warn(*warn_args, **warn_kwargs)\n",
      "C:\\Users\\wjssm\\Anaconda3\\lib\\site-packages\\sklearn\\utils\\deprecation.py:125: FutureWarning: You are accessing a training score ('std_train_score'), which will not be available by default any more in 0.21. If you need training scores, please set return_train_score=True\n",
      "  warnings.warn(*warn_args, **warn_kwargs)\n"
     ]
    },
    {
     "data": {
      "text/html": [
       "<div>\n",
       "<style scoped>\n",
       "    .dataframe tbody tr th:only-of-type {\n",
       "        vertical-align: middle;\n",
       "    }\n",
       "\n",
       "    .dataframe tbody tr th {\n",
       "        vertical-align: top;\n",
       "    }\n",
       "\n",
       "    .dataframe thead th {\n",
       "        text-align: right;\n",
       "    }\n",
       "</style>\n",
       "<table border=\"1\" class=\"dataframe\">\n",
       "  <thead>\n",
       "    <tr style=\"text-align: right;\">\n",
       "      <th></th>\n",
       "      <th>mean_fit_time</th>\n",
       "      <th>std_fit_time</th>\n",
       "      <th>mean_score_time</th>\n",
       "      <th>std_score_time</th>\n",
       "      <th>param_max_depth</th>\n",
       "      <th>params</th>\n",
       "      <th>split0_test_score</th>\n",
       "      <th>split1_test_score</th>\n",
       "      <th>split2_test_score</th>\n",
       "      <th>mean_test_score</th>\n",
       "      <th>std_test_score</th>\n",
       "      <th>rank_test_score</th>\n",
       "      <th>split0_train_score</th>\n",
       "      <th>split1_train_score</th>\n",
       "      <th>split2_train_score</th>\n",
       "      <th>mean_train_score</th>\n",
       "      <th>std_train_score</th>\n",
       "    </tr>\n",
       "  </thead>\n",
       "  <tbody>\n",
       "    <tr>\n",
       "      <th>0</th>\n",
       "      <td>0.806499</td>\n",
       "      <td>0.009434</td>\n",
       "      <td>0.017160</td>\n",
       "      <td>0.000378</td>\n",
       "      <td>6</td>\n",
       "      <td>{'max_depth': 6}</td>\n",
       "      <td>0.963121</td>\n",
       "      <td>0.970213</td>\n",
       "      <td>0.941761</td>\n",
       "      <td>0.958373</td>\n",
       "      <td>0.012090</td>\n",
       "      <td>6</td>\n",
       "      <td>0.995742</td>\n",
       "      <td>0.996451</td>\n",
       "      <td>0.996454</td>\n",
       "      <td>0.996216</td>\n",
       "      <td>0.000335</td>\n",
       "    </tr>\n",
       "    <tr>\n",
       "      <th>1</th>\n",
       "      <td>0.796784</td>\n",
       "      <td>0.203590</td>\n",
       "      <td>0.000675</td>\n",
       "      <td>0.000955</td>\n",
       "      <td>8</td>\n",
       "      <td>{'max_depth': 8}</td>\n",
       "      <td>0.965957</td>\n",
       "      <td>0.973050</td>\n",
       "      <td>0.943182</td>\n",
       "      <td>0.960738</td>\n",
       "      <td>0.012739</td>\n",
       "      <td>4</td>\n",
       "      <td>0.997161</td>\n",
       "      <td>0.998581</td>\n",
       "      <td>0.997163</td>\n",
       "      <td>0.997635</td>\n",
       "      <td>0.000669</td>\n",
       "    </tr>\n",
       "    <tr>\n",
       "      <th>2</th>\n",
       "      <td>0.676488</td>\n",
       "      <td>0.036057</td>\n",
       "      <td>0.003357</td>\n",
       "      <td>0.004748</td>\n",
       "      <td>10</td>\n",
       "      <td>{'max_depth': 10}</td>\n",
       "      <td>0.971631</td>\n",
       "      <td>0.967376</td>\n",
       "      <td>0.970170</td>\n",
       "      <td>0.969726</td>\n",
       "      <td>0.001766</td>\n",
       "      <td>1</td>\n",
       "      <td>0.998581</td>\n",
       "      <td>0.999290</td>\n",
       "      <td>0.997872</td>\n",
       "      <td>0.998581</td>\n",
       "      <td>0.000579</td>\n",
       "    </tr>\n",
       "    <tr>\n",
       "      <th>3</th>\n",
       "      <td>1.153780</td>\n",
       "      <td>0.044638</td>\n",
       "      <td>0.005042</td>\n",
       "      <td>0.003593</td>\n",
       "      <td>12</td>\n",
       "      <td>{'max_depth': 12}</td>\n",
       "      <td>0.961702</td>\n",
       "      <td>0.968794</td>\n",
       "      <td>0.977273</td>\n",
       "      <td>0.969253</td>\n",
       "      <td>0.006364</td>\n",
       "      <td>3</td>\n",
       "      <td>0.999290</td>\n",
       "      <td>1.000000</td>\n",
       "      <td>0.999291</td>\n",
       "      <td>0.999527</td>\n",
       "      <td>0.000334</td>\n",
       "    </tr>\n",
       "    <tr>\n",
       "      <th>4</th>\n",
       "      <td>1.146623</td>\n",
       "      <td>0.069670</td>\n",
       "      <td>0.006298</td>\n",
       "      <td>0.006227</td>\n",
       "      <td>16</td>\n",
       "      <td>{'max_depth': 16}</td>\n",
       "      <td>0.967376</td>\n",
       "      <td>0.974468</td>\n",
       "      <td>0.967330</td>\n",
       "      <td>0.969726</td>\n",
       "      <td>0.003355</td>\n",
       "      <td>1</td>\n",
       "      <td>1.000000</td>\n",
       "      <td>1.000000</td>\n",
       "      <td>1.000000</td>\n",
       "      <td>1.000000</td>\n",
       "      <td>0.000000</td>\n",
       "    </tr>\n",
       "    <tr>\n",
       "      <th>5</th>\n",
       "      <td>0.716045</td>\n",
       "      <td>0.014659</td>\n",
       "      <td>0.009587</td>\n",
       "      <td>0.005595</td>\n",
       "      <td>20</td>\n",
       "      <td>{'max_depth': 20}</td>\n",
       "      <td>0.967376</td>\n",
       "      <td>0.961702</td>\n",
       "      <td>0.938920</td>\n",
       "      <td>0.956008</td>\n",
       "      <td>0.012294</td>\n",
       "      <td>7</td>\n",
       "      <td>1.000000</td>\n",
       "      <td>1.000000</td>\n",
       "      <td>1.000000</td>\n",
       "      <td>1.000000</td>\n",
       "      <td>0.000000</td>\n",
       "    </tr>\n",
       "    <tr>\n",
       "      <th>6</th>\n",
       "      <td>1.027154</td>\n",
       "      <td>0.189414</td>\n",
       "      <td>0.002463</td>\n",
       "      <td>0.003484</td>\n",
       "      <td>24</td>\n",
       "      <td>{'max_depth': 24}</td>\n",
       "      <td>0.968794</td>\n",
       "      <td>0.965957</td>\n",
       "      <td>0.943182</td>\n",
       "      <td>0.959319</td>\n",
       "      <td>0.011461</td>\n",
       "      <td>5</td>\n",
       "      <td>1.000000</td>\n",
       "      <td>1.000000</td>\n",
       "      <td>1.000000</td>\n",
       "      <td>1.000000</td>\n",
       "      <td>0.000000</td>\n",
       "    </tr>\n",
       "  </tbody>\n",
       "</table>\n",
       "</div>"
      ],
      "text/plain": [
       "   mean_fit_time  std_fit_time  mean_score_time  std_score_time  \\\n",
       "0       0.806499      0.009434         0.017160        0.000378   \n",
       "1       0.796784      0.203590         0.000675        0.000955   \n",
       "2       0.676488      0.036057         0.003357        0.004748   \n",
       "3       1.153780      0.044638         0.005042        0.003593   \n",
       "4       1.146623      0.069670         0.006298        0.006227   \n",
       "5       0.716045      0.014659         0.009587        0.005595   \n",
       "6       1.027154      0.189414         0.002463        0.003484   \n",
       "\n",
       "  param_max_depth             params  split0_test_score  split1_test_score  \\\n",
       "0               6   {'max_depth': 6}           0.963121           0.970213   \n",
       "1               8   {'max_depth': 8}           0.965957           0.973050   \n",
       "2              10  {'max_depth': 10}           0.971631           0.967376   \n",
       "3              12  {'max_depth': 12}           0.961702           0.968794   \n",
       "4              16  {'max_depth': 16}           0.967376           0.974468   \n",
       "5              20  {'max_depth': 20}           0.967376           0.961702   \n",
       "6              24  {'max_depth': 24}           0.968794           0.965957   \n",
       "\n",
       "   split2_test_score  mean_test_score  std_test_score  rank_test_score  \\\n",
       "0           0.941761         0.958373        0.012090                6   \n",
       "1           0.943182         0.960738        0.012739                4   \n",
       "2           0.970170         0.969726        0.001766                1   \n",
       "3           0.977273         0.969253        0.006364                3   \n",
       "4           0.967330         0.969726        0.003355                1   \n",
       "5           0.938920         0.956008        0.012294                7   \n",
       "6           0.943182         0.959319        0.011461                5   \n",
       "\n",
       "   split0_train_score  split1_train_score  split2_train_score  \\\n",
       "0            0.995742            0.996451            0.996454   \n",
       "1            0.997161            0.998581            0.997163   \n",
       "2            0.998581            0.999290            0.997872   \n",
       "3            0.999290            1.000000            0.999291   \n",
       "4            1.000000            1.000000            1.000000   \n",
       "5            1.000000            1.000000            1.000000   \n",
       "6            1.000000            1.000000            1.000000   \n",
       "\n",
       "   mean_train_score  std_train_score  \n",
       "0          0.996216         0.000335  \n",
       "1          0.997635         0.000669  \n",
       "2          0.998581         0.000579  \n",
       "3          0.999527         0.000334  \n",
       "4          1.000000         0.000000  \n",
       "5          1.000000         0.000000  \n",
       "6          1.000000         0.000000  "
      ]
     },
     "execution_count": 8,
     "metadata": {},
     "output_type": "execute_result"
    }
   ],
   "source": [
    "cv_result = pd.DataFrame(grid_cv.cv_results_)\n",
    "cv_result"
   ]
  },
  {
   "cell_type": "code",
   "execution_count": 9,
   "metadata": {
    "ExecuteTime": {
     "end_time": "2019-03-28T04:14:14.374587Z",
     "start_time": "2019-03-28T04:14:08.459603Z"
    }
   },
   "outputs": [
    {
     "name": "stdout",
     "output_type": "stream",
     "text": [
      "max_depth = 4 accuracy : 0.5472\n",
      "max_depth = 6 accuracy : 0.5849\n",
      "max_depth = 7 accuracy : 0.6415\n",
      "max_depth = 8 accuracy : 0.6226\n",
      "max_depth = 10 accuracy : 0.4717\n"
     ]
    }
   ],
   "source": [
    "max_depth = [4,6,7,8,10]\n",
    "\n",
    "for depth in max_depth :\n",
    "    dt = DecisionTreeClassifier(random_state = 156, max_depth = depth)\n",
    "    dt.fit(X_train_mas, y_train)\n",
    "    pred = dt.predict(X_test_mas)\n",
    "    accuracy = accuracy_score(y_test, pred)\n",
    "    print('max_depth = {0} accuracy : {1:.4f}'.format(depth, accuracy))"
   ]
  }
 ],
 "metadata": {
  "hide_input": false,
  "kernelspec": {
   "display_name": "Python 3",
   "language": "python",
   "name": "python3"
  },
  "language_info": {
   "codemirror_mode": {
    "name": "ipython",
    "version": 3
   },
   "file_extension": ".py",
   "mimetype": "text/x-python",
   "name": "python",
   "nbconvert_exporter": "python",
   "pygments_lexer": "ipython3",
   "version": "3.7.1"
  },
  "toc": {
   "base_numbering": 1,
   "nav_menu": {},
   "number_sections": true,
   "sideBar": true,
   "skip_h1_title": false,
   "title_cell": "Table of Contents",
   "title_sidebar": "Contents",
   "toc_cell": false,
   "toc_position": {},
   "toc_section_display": true,
   "toc_window_display": true
  }
 },
 "nbformat": 4,
 "nbformat_minor": 2
}
