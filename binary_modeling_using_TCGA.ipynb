{
 "cells": [
  {
   "cell_type": "code",
   "execution_count": 1,
   "metadata": {
    "ExecuteTime": {
     "end_time": "2019-03-01T07:00:15.637932Z",
     "start_time": "2019-03-01T07:00:12.546222Z"
    }
   },
   "outputs": [],
   "source": [
    "import numpy as np\n",
    "import pandas as pd\n",
    "from matplotlib import pyplot as plt"
   ]
  },
  {
   "cell_type": "markdown",
   "metadata": {},
   "source": [
    "# 데이터 불러오기 및 전처리"
   ]
  },
  {
   "cell_type": "markdown",
   "metadata": {},
   "source": [
    "## TCGA"
   ]
  },
  {
   "cell_type": "code",
   "execution_count": 2,
   "metadata": {
    "ExecuteTime": {
     "end_time": "2019-03-01T07:00:17.675873Z",
     "start_time": "2019-03-01T07:00:15.644687Z"
    }
   },
   "outputs": [],
   "source": [
    "TCGA = pd.read_csv('TCGA_data.csv')"
   ]
  },
  {
   "cell_type": "code",
   "execution_count": 3,
   "metadata": {
    "ExecuteTime": {
     "end_time": "2019-03-01T07:00:17.703033Z",
     "start_time": "2019-03-01T07:00:17.677019Z"
    }
   },
   "outputs": [],
   "source": [
    "TCGA.loc[(TCGA.y == 'BLCA'),'y'] = 'BC'\n",
    "TCGA.loc[(TCGA.y == 'PRAD'),'y'] = 'PC'\n",
    "TCGA.loc[(TCGA.y == 'KICH'),'y'] = 'RC'\n",
    "TCGA.loc[(TCGA.y == 'KIRC'),'y'] = 'RC'\n",
    "TCGA.loc[(TCGA.y == 'KIRP'),'y'] = 'RC'"
   ]
  },
  {
   "cell_type": "code",
   "execution_count": 4,
   "metadata": {
    "ExecuteTime": {
     "end_time": "2019-03-01T07:00:17.728016Z",
     "start_time": "2019-03-01T07:00:17.707201Z"
    }
   },
   "outputs": [],
   "source": [
    "TCGA = TCGA[~ (TCGA.y== 'RC')]"
   ]
  },
  {
   "cell_type": "code",
   "execution_count": 5,
   "metadata": {
    "ExecuteTime": {
     "end_time": "2019-03-01T07:00:17.743673Z",
     "start_time": "2019-03-01T07:00:17.732008Z"
    }
   },
   "outputs": [
    {
     "data": {
      "text/plain": [
       "Normal    1706\n",
       "PC         492\n",
       "BC         408\n",
       "Name: y, dtype: int64"
      ]
     },
     "execution_count": 5,
     "metadata": {},
     "output_type": "execute_result"
    }
   ],
   "source": [
    "TCGA.y.value_counts()"
   ]
  },
  {
   "cell_type": "markdown",
   "metadata": {},
   "source": [
    "## K15"
   ]
  },
  {
   "cell_type": "code",
   "execution_count": 6,
   "metadata": {
    "ExecuteTime": {
     "end_time": "2019-03-01T07:00:17.954203Z",
     "start_time": "2019-03-01T07:00:17.747520Z"
    }
   },
   "outputs": [],
   "source": [
    "BC_15 = pd.read_csv('BC_32ea_k15_cyto.csv')\n",
    "Normal_15 = pd.read_csv('Normal_21ea_k15_cyto.csv')\n",
    "PC_15 = pd.read_csv('PC_20ea_k15_cyto.csv')\n",
    "\n",
    "#drop person id\n",
    "BC_15.drop('Unnamed: 0', axis = 1, inplace = True)\n",
    "Normal_15.drop('Unnamed: 0', axis = 1, inplace = True)\n",
    "PC_15.drop('Unnamed: 0', axis = 1, inplace = True)\n",
    "\n",
    "BC_15['cancer'] = 'BC'\n",
    "Normal_15['cancer'] = 'normal'\n",
    "PC_15['cancer'] = 'PC'\n",
    "\n",
    "K15 = pd.concat([BC_15,Normal_15,PC_15], axis = 0)\n",
    "K15.dropna(inplace=True, axis=0)"
   ]
  },
  {
   "cell_type": "code",
   "execution_count": 7,
   "metadata": {
    "ExecuteTime": {
     "end_time": "2019-03-01T07:00:17.965587Z",
     "start_time": "2019-03-01T07:00:17.955761Z"
    }
   },
   "outputs": [
    {
     "data": {
      "text/plain": [
       "BC        32\n",
       "normal    21\n",
       "PC        19\n",
       "Name: cancer, dtype: int64"
      ]
     },
     "execution_count": 7,
     "metadata": {},
     "output_type": "execute_result"
    }
   ],
   "source": [
    "K15.cancer.value_counts()"
   ]
  },
  {
   "cell_type": "markdown",
   "metadata": {},
   "source": [
    "## K100"
   ]
  },
  {
   "cell_type": "code",
   "execution_count": null,
   "metadata": {},
   "outputs": [],
   "source": []
  },
  {
   "cell_type": "markdown",
   "metadata": {},
   "source": [
    "## 공통 COLUMN"
   ]
  },
  {
   "cell_type": "code",
   "execution_count": 8,
   "metadata": {
    "ExecuteTime": {
     "end_time": "2019-03-01T07:00:21.784346Z",
     "start_time": "2019-03-01T07:00:21.769398Z"
    }
   },
   "outputs": [],
   "source": [
    "TCGA2 = TCGA.drop(list(set(TCGA.columns[:-1]) - set(K15.columns)), axis = 1)\n",
    "K15_2 = K15.drop(list(set(K15.columns[:-1]) - set(TCGA.columns)), axis = 1)"
   ]
  },
  {
   "cell_type": "markdown",
   "metadata": {},
   "source": [
    "### BC-Normal"
   ]
  },
  {
   "cell_type": "markdown",
   "metadata": {},
   "source": [
    "#### TCGA data"
   ]
  },
  {
   "cell_type": "code",
   "execution_count": 9,
   "metadata": {
    "ExecuteTime": {
     "end_time": "2019-03-01T07:00:25.286019Z",
     "start_time": "2019-03-01T07:00:25.265678Z"
    }
   },
   "outputs": [
    {
     "data": {
      "text/plain": [
       "Normal    1706\n",
       "BC         408\n",
       "Name: y, dtype: int64"
      ]
     },
     "execution_count": 9,
     "metadata": {},
     "output_type": "execute_result"
    }
   ],
   "source": [
    "TCGA_BC_Norm = TCGA2.loc[(TCGA2.y == 'BC') | (TCGA2.y == 'Normal') ]\n",
    "#reset_index\n",
    "TCGA_BC_Norm.reset_index(inplace = True, drop=True)\n",
    "TCGA_BC_Norm['y'].value_counts()"
   ]
  },
  {
   "cell_type": "code",
   "execution_count": 10,
   "metadata": {
    "ExecuteTime": {
     "end_time": "2019-03-01T07:00:25.761988Z",
     "start_time": "2019-03-01T07:00:25.738592Z"
    }
   },
   "outputs": [
    {
     "name": "stdout",
     "output_type": "stream",
     "text": [
      "BC비율 :  0.19299905392620625\n",
      "Normal비율 :  0.8070009460737938\n"
     ]
    }
   ],
   "source": [
    "print('BC비율 : ',len(TCGA_BC_Norm[TCGA_BC_Norm.y == 'BC']) / len(TCGA_BC_Norm))\n",
    "print('Normal비율 : ',len(TCGA_BC_Norm[TCGA_BC_Norm.y == 'Normal']) / len(TCGA_BC_Norm))"
   ]
  },
  {
   "cell_type": "markdown",
   "metadata": {},
   "source": [
    "#### urine data"
   ]
  },
  {
   "cell_type": "code",
   "execution_count": 11,
   "metadata": {
    "ExecuteTime": {
     "end_time": "2019-03-01T05:06:29.333327Z",
     "start_time": "2019-03-01T05:06:29.325352Z"
    }
   },
   "outputs": [
    {
     "data": {
      "text/plain": [
       "BC        32\n",
       "normal    21\n",
       "PC        19\n",
       "Name: cancer, dtype: int64"
      ]
     },
     "execution_count": 11,
     "metadata": {},
     "output_type": "execute_result"
    }
   ],
   "source": [
    "K15_2.cancer.value_counts()"
   ]
  },
  {
   "cell_type": "code",
   "execution_count": 11,
   "metadata": {
    "ExecuteTime": {
     "end_time": "2019-03-01T07:00:29.874886Z",
     "start_time": "2019-03-01T07:00:29.865636Z"
    }
   },
   "outputs": [],
   "source": [
    "K15_2.loc[K15_2.cancer == 'normal','cancer'] = 'Normal'"
   ]
  },
  {
   "cell_type": "code",
   "execution_count": 12,
   "metadata": {
    "ExecuteTime": {
     "end_time": "2019-03-01T07:00:30.180514Z",
     "start_time": "2019-03-01T07:00:30.168606Z"
    }
   },
   "outputs": [
    {
     "data": {
      "text/plain": [
       "BC        32\n",
       "Normal    21\n",
       "Name: cancer, dtype: int64"
      ]
     },
     "execution_count": 12,
     "metadata": {},
     "output_type": "execute_result"
    }
   ],
   "source": [
    "K15_BC_Norm = K15_2.loc[(K15_2.cancer == 'BC') | (K15_2.cancer == 'Normal') ]\n",
    "#reset_index\n",
    "K15_BC_Norm.reset_index(inplace = True, drop=True)\n",
    "K15_BC_Norm['cancer'].value_counts()"
   ]
  },
  {
   "cell_type": "code",
   "execution_count": 13,
   "metadata": {
    "ExecuteTime": {
     "end_time": "2019-03-01T07:00:30.477509Z",
     "start_time": "2019-03-01T07:00:30.465909Z"
    }
   },
   "outputs": [
    {
     "name": "stdout",
     "output_type": "stream",
     "text": [
      "BC비율 :  0.6037735849056604\n",
      "Normal비율 :  0.39622641509433965\n"
     ]
    }
   ],
   "source": [
    "print('BC비율 : ',len(K15_BC_Norm[K15_BC_Norm.cancer == 'BC']) / len(K15_BC_Norm))\n",
    "print('Normal비율 : ',len(K15_BC_Norm[K15_BC_Norm.cancer == 'Normal']) / len(K15_BC_Norm))"
   ]
  },
  {
   "cell_type": "markdown",
   "metadata": {},
   "source": [
    "### BC-Others"
   ]
  },
  {
   "cell_type": "markdown",
   "metadata": {},
   "source": [
    "#### TCGA data"
   ]
  },
  {
   "cell_type": "code",
   "execution_count": 76,
   "metadata": {
    "ExecuteTime": {
     "end_time": "2019-03-01T07:28:52.648283Z",
     "start_time": "2019-03-01T07:28:52.633273Z"
    }
   },
   "outputs": [],
   "source": [
    "TCGA_BC_Others = TCGA2.copy()\n",
    "TCGA_BC_Others['y'].replace(['PC','Normal'], 'Others', inplace = True)\n",
    "TCGA_BC_Others.reset_index(inplace = True, drop=True)"
   ]
  },
  {
   "cell_type": "code",
   "execution_count": 77,
   "metadata": {
    "ExecuteTime": {
     "end_time": "2019-03-01T07:28:53.324544Z",
     "start_time": "2019-03-01T07:28:53.312480Z"
    }
   },
   "outputs": [
    {
     "data": {
      "text/plain": [
       "Others    2198\n",
       "BC         408\n",
       "Name: y, dtype: int64"
      ]
     },
     "execution_count": 77,
     "metadata": {},
     "output_type": "execute_result"
    }
   ],
   "source": [
    "TCGA_BC_Others.y.value_counts()"
   ]
  },
  {
   "cell_type": "code",
   "execution_count": 16,
   "metadata": {
    "ExecuteTime": {
     "end_time": "2019-03-01T07:00:33.083367Z",
     "start_time": "2019-03-01T07:00:33.057872Z"
    }
   },
   "outputs": [
    {
     "name": "stdout",
     "output_type": "stream",
     "text": [
      "BC 비율 :  0.15656178050652342\n",
      "Others 비율 :  0.8434382194934766\n"
     ]
    }
   ],
   "source": [
    "print('BC 비율 : ',len(TCGA_BC_Others[TCGA_BC_Others.y == 'BC']) / len(TCGA_BC_Others))\n",
    "print('Others 비율 : ',len(TCGA_BC_Others[TCGA_BC_Others.y == 'Others']) / len(TCGA_BC_Others))"
   ]
  },
  {
   "cell_type": "markdown",
   "metadata": {},
   "source": [
    "#### urine data"
   ]
  },
  {
   "cell_type": "code",
   "execution_count": 17,
   "metadata": {
    "ExecuteTime": {
     "end_time": "2019-03-01T07:00:35.688046Z",
     "start_time": "2019-03-01T07:00:35.680260Z"
    }
   },
   "outputs": [
    {
     "data": {
      "text/plain": [
       "BC        32\n",
       "Normal    21\n",
       "PC        19\n",
       "Name: cancer, dtype: int64"
      ]
     },
     "execution_count": 17,
     "metadata": {},
     "output_type": "execute_result"
    }
   ],
   "source": [
    "K15_2.cancer.value_counts()"
   ]
  },
  {
   "cell_type": "code",
   "execution_count": 79,
   "metadata": {
    "ExecuteTime": {
     "end_time": "2019-03-01T07:29:34.420006Z",
     "start_time": "2019-03-01T07:29:34.406673Z"
    }
   },
   "outputs": [],
   "source": [
    "K15_BC_Others = K15_2.copy()\n",
    "K15_BC_Others['cancer'].replace(['PC','Normal'], 'Others', inplace = True)"
   ]
  },
  {
   "cell_type": "code",
   "execution_count": 80,
   "metadata": {
    "ExecuteTime": {
     "end_time": "2019-03-01T07:29:39.806571Z",
     "start_time": "2019-03-01T07:29:39.798265Z"
    }
   },
   "outputs": [
    {
     "data": {
      "text/plain": [
       "Others    40\n",
       "BC        32\n",
       "Name: cancer, dtype: int64"
      ]
     },
     "execution_count": 80,
     "metadata": {},
     "output_type": "execute_result"
    }
   ],
   "source": [
    "K15_BC_Others.cancer.value_counts()"
   ]
  },
  {
   "cell_type": "code",
   "execution_count": 81,
   "metadata": {
    "ExecuteTime": {
     "end_time": "2019-03-01T07:29:50.371932Z",
     "start_time": "2019-03-01T07:29:50.360203Z"
    }
   },
   "outputs": [
    {
     "name": "stdout",
     "output_type": "stream",
     "text": [
      "BC비율 :  0.4444444444444444\n",
      "Others비율 :  0.5555555555555556\n"
     ]
    }
   ],
   "source": [
    "print('BC비율 : ',len(K15_BC_Others[K15_BC_Others.cancer == \"BC\"]) / len(K15_BC_Others))\n",
    "print('Others비율 : ',len(K15_BC_Others[K15_BC_Others.cancer == 'Others']) / len(K15_BC_Others))"
   ]
  },
  {
   "cell_type": "markdown",
   "metadata": {},
   "source": [
    "# Modeling"
   ]
  },
  {
   "cell_type": "code",
   "execution_count": 21,
   "metadata": {
    "ExecuteTime": {
     "end_time": "2019-03-01T07:00:41.004321Z",
     "start_time": "2019-03-01T07:00:38.209406Z"
    }
   },
   "outputs": [],
   "source": [
    "from sklearn.ensemble import RandomForestClassifier\n",
    "rf1 = RandomForestClassifier()\n",
    "from sklearn.svm import SVC\n",
    "svm1 = SVC(gamma='auto')\n",
    "from sklearn.linear_model import LogisticRegression\n",
    "lr1 = LogisticRegression()\n",
    "from sklearn.ensemble import VotingClassifier\n",
    "from sklearn.tree import DecisionTreeClassifier\n",
    "tree = DecisionTreeClassifier()"
   ]
  },
  {
   "cell_type": "code",
   "execution_count": 22,
   "metadata": {
    "ExecuteTime": {
     "end_time": "2019-03-01T07:00:41.018716Z",
     "start_time": "2019-03-01T07:00:41.009944Z"
    }
   },
   "outputs": [],
   "source": [
    "from sklearn.metrics import accuracy_score\n",
    "from sklearn.metrics import classification_report\n",
    "from sklearn.metrics import confusion_matrix"
   ]
  },
  {
   "cell_type": "markdown",
   "metadata": {},
   "source": [
    "## BC-Normal"
   ]
  },
  {
   "cell_type": "code",
   "execution_count": 23,
   "metadata": {
    "ExecuteTime": {
     "end_time": "2019-03-01T07:00:41.056035Z",
     "start_time": "2019-03-01T07:00:41.024308Z"
    }
   },
   "outputs": [],
   "source": [
    "x_train = TCGA_BC_Norm.drop('y', axis = 1)\n",
    "y_train = TCGA_BC_Norm['y']\n",
    "x_test = K15_BC_Norm.drop('cancer', axis = 1)\n",
    "y_test = K15_BC_Norm['cancer']"
   ]
  },
  {
   "cell_type": "markdown",
   "metadata": {},
   "source": [
    "### randomforest"
   ]
  },
  {
   "cell_type": "code",
   "execution_count": 24,
   "metadata": {
    "ExecuteTime": {
     "end_time": "2019-03-01T07:00:44.506486Z",
     "start_time": "2019-03-01T07:00:44.127851Z"
    }
   },
   "outputs": [
    {
     "name": "stderr",
     "output_type": "stream",
     "text": [
      "C:\\Users\\wjssm\\Anaconda3\\lib\\site-packages\\sklearn\\ensemble\\forest.py:246: FutureWarning: The default value of n_estimators will change from 10 in version 0.20 to 100 in 0.22.\n",
      "  \"10 in version 0.20 to 100 in 0.22.\", FutureWarning)\n"
     ]
    },
    {
     "name": "stdout",
     "output_type": "stream",
     "text": [
      "              precision    recall  f1-score   support\n",
      "\n",
      "          BC       0.60      1.00      0.75        32\n",
      "      Normal       0.00      0.00      0.00        21\n",
      "\n",
      "   micro avg       0.60      0.60      0.60        53\n",
      "   macro avg       0.30      0.50      0.38        53\n",
      "weighted avg       0.36      0.60      0.45        53\n",
      "\n"
     ]
    },
    {
     "name": "stderr",
     "output_type": "stream",
     "text": [
      "C:\\Users\\wjssm\\Anaconda3\\lib\\site-packages\\sklearn\\metrics\\classification.py:1143: UndefinedMetricWarning: Precision and F-score are ill-defined and being set to 0.0 in labels with no predicted samples.\n",
      "  'precision', 'predicted', average, warn_for)\n"
     ]
    }
   ],
   "source": [
    "rf1.fit(x_train, y_train)\n",
    "rf1_pred = rf1.predict(x_test)\n",
    "print(classification_report(y_test, rf1_pred, target_names=['BC', 'Normal']))"
   ]
  },
  {
   "cell_type": "code",
   "execution_count": 25,
   "metadata": {
    "ExecuteTime": {
     "end_time": "2019-03-01T07:00:47.858313Z",
     "start_time": "2019-03-01T07:00:47.849829Z"
    }
   },
   "outputs": [
    {
     "data": {
      "text/plain": [
       "array([[32,  0],\n",
       "       [21,  0]], dtype=int64)"
      ]
     },
     "execution_count": 25,
     "metadata": {},
     "output_type": "execute_result"
    }
   ],
   "source": [
    "confusion_matrix(y_test, rf1_pred)"
   ]
  },
  {
   "cell_type": "markdown",
   "metadata": {},
   "source": [
    "### svm"
   ]
  },
  {
   "cell_type": "code",
   "execution_count": 26,
   "metadata": {
    "ExecuteTime": {
     "end_time": "2019-03-01T07:01:08.090464Z",
     "start_time": "2019-03-01T07:01:06.119629Z"
    }
   },
   "outputs": [
    {
     "name": "stdout",
     "output_type": "stream",
     "text": [
      "              precision    recall  f1-score   support\n",
      "\n",
      "          BC       1.00      0.25      0.40        32\n",
      "      Normal       0.47      1.00      0.64        21\n",
      "\n",
      "   micro avg       0.55      0.55      0.55        53\n",
      "   macro avg       0.73      0.62      0.52        53\n",
      "weighted avg       0.79      0.55      0.49        53\n",
      "\n"
     ]
    }
   ],
   "source": [
    "svm1.fit(x_train, y_train)\n",
    "svm1_pred = svm1.predict(x_test)\n",
    "print(classification_report(y_test, svm1_pred, target_names=['BC', 'Normal']))"
   ]
  },
  {
   "cell_type": "code",
   "execution_count": 27,
   "metadata": {
    "ExecuteTime": {
     "end_time": "2019-03-01T07:01:08.104735Z",
     "start_time": "2019-03-01T07:01:08.094478Z"
    }
   },
   "outputs": [
    {
     "data": {
      "text/plain": [
       "array([[ 8, 24],\n",
       "       [ 0, 21]], dtype=int64)"
      ]
     },
     "execution_count": 27,
     "metadata": {},
     "output_type": "execute_result"
    }
   ],
   "source": [
    "confusion_matrix(y_test, svm1_pred)"
   ]
  },
  {
   "cell_type": "markdown",
   "metadata": {},
   "source": [
    "### logistic regression"
   ]
  },
  {
   "cell_type": "code",
   "execution_count": 28,
   "metadata": {
    "ExecuteTime": {
     "end_time": "2019-03-01T07:01:13.492193Z",
     "start_time": "2019-03-01T07:01:13.137261Z"
    }
   },
   "outputs": [
    {
     "name": "stderr",
     "output_type": "stream",
     "text": [
      "C:\\Users\\wjssm\\Anaconda3\\lib\\site-packages\\sklearn\\linear_model\\logistic.py:433: FutureWarning: Default solver will be changed to 'lbfgs' in 0.22. Specify a solver to silence this warning.\n",
      "  FutureWarning)\n"
     ]
    },
    {
     "name": "stdout",
     "output_type": "stream",
     "text": [
      "              precision    recall  f1-score   support\n",
      "\n",
      "          BC       1.00      0.31      0.48        32\n",
      "      Normal       0.49      1.00      0.66        21\n",
      "\n",
      "   micro avg       0.58      0.58      0.58        53\n",
      "   macro avg       0.74      0.66      0.57        53\n",
      "weighted avg       0.80      0.58      0.55        53\n",
      "\n"
     ]
    }
   ],
   "source": [
    "lr1.fit(x_train, y_train)\n",
    "lr1_pred =  lr1.predict(x_test)\n",
    "print(classification_report(y_test,lr1_pred, target_names=['BC', 'Normal']))"
   ]
  },
  {
   "cell_type": "code",
   "execution_count": 29,
   "metadata": {
    "ExecuteTime": {
     "end_time": "2019-03-01T07:01:13.514820Z",
     "start_time": "2019-03-01T07:01:13.496199Z"
    }
   },
   "outputs": [
    {
     "data": {
      "text/plain": [
       "array([[10, 22],\n",
       "       [ 0, 21]], dtype=int64)"
      ]
     },
     "execution_count": 29,
     "metadata": {},
     "output_type": "execute_result"
    }
   ],
   "source": [
    "confusion_matrix(y_test, lr1_pred)"
   ]
  },
  {
   "cell_type": "markdown",
   "metadata": {},
   "source": [
    "### LDA"
   ]
  },
  {
   "cell_type": "code",
   "execution_count": 30,
   "metadata": {
    "ExecuteTime": {
     "end_time": "2019-03-01T07:01:18.609805Z",
     "start_time": "2019-03-01T07:01:18.593174Z"
    }
   },
   "outputs": [],
   "source": [
    "from sklearn.discriminant_analysis import LinearDiscriminantAnalysis\n",
    "lda = LinearDiscriminantAnalysis()"
   ]
  },
  {
   "cell_type": "code",
   "execution_count": 31,
   "metadata": {
    "ExecuteTime": {
     "end_time": "2019-03-01T07:01:19.859053Z",
     "start_time": "2019-03-01T07:01:18.772552Z"
    }
   },
   "outputs": [
    {
     "name": "stdout",
     "output_type": "stream",
     "text": [
      "              precision    recall  f1-score   support\n",
      "\n",
      "          BC       0.61      0.44      0.51        32\n",
      "      Normal       0.40      0.57      0.47        21\n",
      "\n",
      "   micro avg       0.49      0.49      0.49        53\n",
      "   macro avg       0.50      0.50      0.49        53\n",
      "weighted avg       0.53      0.49      0.49        53\n",
      "\n"
     ]
    },
    {
     "name": "stderr",
     "output_type": "stream",
     "text": [
      "C:\\Users\\wjssm\\Anaconda3\\lib\\site-packages\\sklearn\\discriminant_analysis.py:388: UserWarning: Variables are collinear.\n",
      "  warnings.warn(\"Variables are collinear.\")\n"
     ]
    }
   ],
   "source": [
    "lda.fit(x_train, y_train)\n",
    "lda_pred = lda.predict(x_test)\n",
    "print(classification_report(y_test, lda_pred, target_names=['BC', 'Normal']))"
   ]
  },
  {
   "cell_type": "code",
   "execution_count": 32,
   "metadata": {
    "ExecuteTime": {
     "end_time": "2019-03-01T07:01:22.289289Z",
     "start_time": "2019-03-01T07:01:22.280389Z"
    }
   },
   "outputs": [
    {
     "data": {
      "text/plain": [
       "array([[14, 18],\n",
       "       [ 9, 12]], dtype=int64)"
      ]
     },
     "execution_count": 32,
     "metadata": {},
     "output_type": "execute_result"
    }
   ],
   "source": [
    "confusion_matrix(y_test, lda_pred)"
   ]
  },
  {
   "cell_type": "markdown",
   "metadata": {},
   "source": [
    "### tree"
   ]
  },
  {
   "cell_type": "code",
   "execution_count": 33,
   "metadata": {
    "ExecuteTime": {
     "end_time": "2019-03-01T07:01:28.980009Z",
     "start_time": "2019-03-01T07:01:26.857120Z"
    }
   },
   "outputs": [
    {
     "name": "stdout",
     "output_type": "stream",
     "text": [
      "              precision    recall  f1-score   support\n",
      "\n",
      "          BC       0.63      0.75      0.69        32\n",
      "      Normal       0.47      0.33      0.39        21\n",
      "\n",
      "   micro avg       0.58      0.58      0.58        53\n",
      "   macro avg       0.55      0.54      0.54        53\n",
      "weighted avg       0.57      0.58      0.57        53\n",
      "\n"
     ]
    }
   ],
   "source": [
    "tree.fit(x_train, y_train)\n",
    "tree_pred = tree.predict(x_test)\n",
    "print(classification_report(y_test, tree_pred, target_names=['BC', 'Normal']))"
   ]
  },
  {
   "cell_type": "code",
   "execution_count": 34,
   "metadata": {
    "ExecuteTime": {
     "end_time": "2019-03-01T07:01:28.997081Z",
     "start_time": "2019-03-01T07:01:28.985037Z"
    }
   },
   "outputs": [
    {
     "data": {
      "text/plain": [
       "array([[24,  8],\n",
       "       [14,  7]], dtype=int64)"
      ]
     },
     "execution_count": 34,
     "metadata": {},
     "output_type": "execute_result"
    }
   ],
   "source": [
    "confusion_matrix(y_test, tree_pred)"
   ]
  },
  {
   "cell_type": "code",
   "execution_count": 35,
   "metadata": {
    "ExecuteTime": {
     "end_time": "2019-03-01T07:03:49.778894Z",
     "start_time": "2019-03-01T07:03:49.738025Z"
    },
    "scrolled": true
   },
   "outputs": [
    {
     "data": {
      "text/html": [
       "<div>\n",
       "<style scoped>\n",
       "    .dataframe tbody tr th:only-of-type {\n",
       "        vertical-align: middle;\n",
       "    }\n",
       "\n",
       "    .dataframe tbody tr th {\n",
       "        vertical-align: top;\n",
       "    }\n",
       "\n",
       "    .dataframe thead th {\n",
       "        text-align: right;\n",
       "    }\n",
       "</style>\n",
       "<table border=\"1\" class=\"dataframe\">\n",
       "  <thead>\n",
       "    <tr style=\"text-align: right;\">\n",
       "      <th></th>\n",
       "      <th>y_true</th>\n",
       "      <th>rf_pred</th>\n",
       "      <th>svm_pred</th>\n",
       "      <th>lr_pred</th>\n",
       "      <th>lda_pred</th>\n",
       "      <th>tree_pred</th>\n",
       "    </tr>\n",
       "  </thead>\n",
       "  <tbody>\n",
       "    <tr>\n",
       "      <th>0</th>\n",
       "      <td>BC</td>\n",
       "      <td>BC</td>\n",
       "      <td>Normal</td>\n",
       "      <td>Normal</td>\n",
       "      <td>BC</td>\n",
       "      <td>BC</td>\n",
       "    </tr>\n",
       "    <tr>\n",
       "      <th>1</th>\n",
       "      <td>BC</td>\n",
       "      <td>BC</td>\n",
       "      <td>Normal</td>\n",
       "      <td>Normal</td>\n",
       "      <td>BC</td>\n",
       "      <td>BC</td>\n",
       "    </tr>\n",
       "    <tr>\n",
       "      <th>2</th>\n",
       "      <td>BC</td>\n",
       "      <td>BC</td>\n",
       "      <td>Normal</td>\n",
       "      <td>Normal</td>\n",
       "      <td>BC</td>\n",
       "      <td>BC</td>\n",
       "    </tr>\n",
       "    <tr>\n",
       "      <th>3</th>\n",
       "      <td>BC</td>\n",
       "      <td>BC</td>\n",
       "      <td>Normal</td>\n",
       "      <td>Normal</td>\n",
       "      <td>Normal</td>\n",
       "      <td>BC</td>\n",
       "    </tr>\n",
       "    <tr>\n",
       "      <th>4</th>\n",
       "      <td>BC</td>\n",
       "      <td>BC</td>\n",
       "      <td>BC</td>\n",
       "      <td>BC</td>\n",
       "      <td>BC</td>\n",
       "      <td>BC</td>\n",
       "    </tr>\n",
       "    <tr>\n",
       "      <th>5</th>\n",
       "      <td>BC</td>\n",
       "      <td>BC</td>\n",
       "      <td>Normal</td>\n",
       "      <td>BC</td>\n",
       "      <td>BC</td>\n",
       "      <td>Normal</td>\n",
       "    </tr>\n",
       "    <tr>\n",
       "      <th>6</th>\n",
       "      <td>BC</td>\n",
       "      <td>BC</td>\n",
       "      <td>Normal</td>\n",
       "      <td>Normal</td>\n",
       "      <td>BC</td>\n",
       "      <td>Normal</td>\n",
       "    </tr>\n",
       "    <tr>\n",
       "      <th>7</th>\n",
       "      <td>BC</td>\n",
       "      <td>BC</td>\n",
       "      <td>Normal</td>\n",
       "      <td>BC</td>\n",
       "      <td>Normal</td>\n",
       "      <td>BC</td>\n",
       "    </tr>\n",
       "    <tr>\n",
       "      <th>8</th>\n",
       "      <td>BC</td>\n",
       "      <td>BC</td>\n",
       "      <td>Normal</td>\n",
       "      <td>Normal</td>\n",
       "      <td>Normal</td>\n",
       "      <td>BC</td>\n",
       "    </tr>\n",
       "    <tr>\n",
       "      <th>9</th>\n",
       "      <td>BC</td>\n",
       "      <td>BC</td>\n",
       "      <td>Normal</td>\n",
       "      <td>Normal</td>\n",
       "      <td>BC</td>\n",
       "      <td>Normal</td>\n",
       "    </tr>\n",
       "    <tr>\n",
       "      <th>10</th>\n",
       "      <td>BC</td>\n",
       "      <td>BC</td>\n",
       "      <td>BC</td>\n",
       "      <td>BC</td>\n",
       "      <td>BC</td>\n",
       "      <td>BC</td>\n",
       "    </tr>\n",
       "    <tr>\n",
       "      <th>11</th>\n",
       "      <td>BC</td>\n",
       "      <td>BC</td>\n",
       "      <td>BC</td>\n",
       "      <td>BC</td>\n",
       "      <td>BC</td>\n",
       "      <td>BC</td>\n",
       "    </tr>\n",
       "    <tr>\n",
       "      <th>12</th>\n",
       "      <td>BC</td>\n",
       "      <td>BC</td>\n",
       "      <td>Normal</td>\n",
       "      <td>Normal</td>\n",
       "      <td>Normal</td>\n",
       "      <td>BC</td>\n",
       "    </tr>\n",
       "    <tr>\n",
       "      <th>13</th>\n",
       "      <td>BC</td>\n",
       "      <td>BC</td>\n",
       "      <td>Normal</td>\n",
       "      <td>BC</td>\n",
       "      <td>BC</td>\n",
       "      <td>BC</td>\n",
       "    </tr>\n",
       "    <tr>\n",
       "      <th>14</th>\n",
       "      <td>BC</td>\n",
       "      <td>BC</td>\n",
       "      <td>BC</td>\n",
       "      <td>BC</td>\n",
       "      <td>Normal</td>\n",
       "      <td>BC</td>\n",
       "    </tr>\n",
       "    <tr>\n",
       "      <th>15</th>\n",
       "      <td>BC</td>\n",
       "      <td>BC</td>\n",
       "      <td>BC</td>\n",
       "      <td>BC</td>\n",
       "      <td>BC</td>\n",
       "      <td>BC</td>\n",
       "    </tr>\n",
       "    <tr>\n",
       "      <th>16</th>\n",
       "      <td>BC</td>\n",
       "      <td>BC</td>\n",
       "      <td>Normal</td>\n",
       "      <td>Normal</td>\n",
       "      <td>Normal</td>\n",
       "      <td>BC</td>\n",
       "    </tr>\n",
       "    <tr>\n",
       "      <th>17</th>\n",
       "      <td>BC</td>\n",
       "      <td>BC</td>\n",
       "      <td>BC</td>\n",
       "      <td>Normal</td>\n",
       "      <td>BC</td>\n",
       "      <td>BC</td>\n",
       "    </tr>\n",
       "    <tr>\n",
       "      <th>18</th>\n",
       "      <td>BC</td>\n",
       "      <td>BC</td>\n",
       "      <td>BC</td>\n",
       "      <td>BC</td>\n",
       "      <td>Normal</td>\n",
       "      <td>BC</td>\n",
       "    </tr>\n",
       "    <tr>\n",
       "      <th>19</th>\n",
       "      <td>BC</td>\n",
       "      <td>BC</td>\n",
       "      <td>BC</td>\n",
       "      <td>BC</td>\n",
       "      <td>BC</td>\n",
       "      <td>Normal</td>\n",
       "    </tr>\n",
       "    <tr>\n",
       "      <th>20</th>\n",
       "      <td>BC</td>\n",
       "      <td>BC</td>\n",
       "      <td>Normal</td>\n",
       "      <td>Normal</td>\n",
       "      <td>BC</td>\n",
       "      <td>Normal</td>\n",
       "    </tr>\n",
       "    <tr>\n",
       "      <th>21</th>\n",
       "      <td>BC</td>\n",
       "      <td>BC</td>\n",
       "      <td>Normal</td>\n",
       "      <td>Normal</td>\n",
       "      <td>Normal</td>\n",
       "      <td>BC</td>\n",
       "    </tr>\n",
       "    <tr>\n",
       "      <th>22</th>\n",
       "      <td>BC</td>\n",
       "      <td>BC</td>\n",
       "      <td>Normal</td>\n",
       "      <td>Normal</td>\n",
       "      <td>Normal</td>\n",
       "      <td>BC</td>\n",
       "    </tr>\n",
       "    <tr>\n",
       "      <th>23</th>\n",
       "      <td>BC</td>\n",
       "      <td>BC</td>\n",
       "      <td>Normal</td>\n",
       "      <td>Normal</td>\n",
       "      <td>Normal</td>\n",
       "      <td>BC</td>\n",
       "    </tr>\n",
       "    <tr>\n",
       "      <th>24</th>\n",
       "      <td>BC</td>\n",
       "      <td>BC</td>\n",
       "      <td>Normal</td>\n",
       "      <td>Normal</td>\n",
       "      <td>Normal</td>\n",
       "      <td>Normal</td>\n",
       "    </tr>\n",
       "    <tr>\n",
       "      <th>25</th>\n",
       "      <td>BC</td>\n",
       "      <td>BC</td>\n",
       "      <td>Normal</td>\n",
       "      <td>Normal</td>\n",
       "      <td>Normal</td>\n",
       "      <td>Normal</td>\n",
       "    </tr>\n",
       "    <tr>\n",
       "      <th>26</th>\n",
       "      <td>BC</td>\n",
       "      <td>BC</td>\n",
       "      <td>Normal</td>\n",
       "      <td>Normal</td>\n",
       "      <td>Normal</td>\n",
       "      <td>BC</td>\n",
       "    </tr>\n",
       "    <tr>\n",
       "      <th>27</th>\n",
       "      <td>BC</td>\n",
       "      <td>BC</td>\n",
       "      <td>Normal</td>\n",
       "      <td>Normal</td>\n",
       "      <td>Normal</td>\n",
       "      <td>BC</td>\n",
       "    </tr>\n",
       "    <tr>\n",
       "      <th>28</th>\n",
       "      <td>BC</td>\n",
       "      <td>BC</td>\n",
       "      <td>Normal</td>\n",
       "      <td>Normal</td>\n",
       "      <td>Normal</td>\n",
       "      <td>BC</td>\n",
       "    </tr>\n",
       "    <tr>\n",
       "      <th>29</th>\n",
       "      <td>BC</td>\n",
       "      <td>BC</td>\n",
       "      <td>Normal</td>\n",
       "      <td>Normal</td>\n",
       "      <td>Normal</td>\n",
       "      <td>BC</td>\n",
       "    </tr>\n",
       "    <tr>\n",
       "      <th>30</th>\n",
       "      <td>BC</td>\n",
       "      <td>BC</td>\n",
       "      <td>Normal</td>\n",
       "      <td>Normal</td>\n",
       "      <td>Normal</td>\n",
       "      <td>BC</td>\n",
       "    </tr>\n",
       "    <tr>\n",
       "      <th>31</th>\n",
       "      <td>BC</td>\n",
       "      <td>BC</td>\n",
       "      <td>Normal</td>\n",
       "      <td>Normal</td>\n",
       "      <td>Normal</td>\n",
       "      <td>Normal</td>\n",
       "    </tr>\n",
       "    <tr>\n",
       "      <th>32</th>\n",
       "      <td>Normal</td>\n",
       "      <td>BC</td>\n",
       "      <td>Normal</td>\n",
       "      <td>Normal</td>\n",
       "      <td>Normal</td>\n",
       "      <td>BC</td>\n",
       "    </tr>\n",
       "    <tr>\n",
       "      <th>33</th>\n",
       "      <td>Normal</td>\n",
       "      <td>BC</td>\n",
       "      <td>Normal</td>\n",
       "      <td>Normal</td>\n",
       "      <td>BC</td>\n",
       "      <td>BC</td>\n",
       "    </tr>\n",
       "    <tr>\n",
       "      <th>34</th>\n",
       "      <td>Normal</td>\n",
       "      <td>BC</td>\n",
       "      <td>Normal</td>\n",
       "      <td>Normal</td>\n",
       "      <td>Normal</td>\n",
       "      <td>BC</td>\n",
       "    </tr>\n",
       "    <tr>\n",
       "      <th>35</th>\n",
       "      <td>Normal</td>\n",
       "      <td>BC</td>\n",
       "      <td>Normal</td>\n",
       "      <td>Normal</td>\n",
       "      <td>BC</td>\n",
       "      <td>BC</td>\n",
       "    </tr>\n",
       "    <tr>\n",
       "      <th>36</th>\n",
       "      <td>Normal</td>\n",
       "      <td>BC</td>\n",
       "      <td>Normal</td>\n",
       "      <td>Normal</td>\n",
       "      <td>BC</td>\n",
       "      <td>Normal</td>\n",
       "    </tr>\n",
       "    <tr>\n",
       "      <th>37</th>\n",
       "      <td>Normal</td>\n",
       "      <td>BC</td>\n",
       "      <td>Normal</td>\n",
       "      <td>Normal</td>\n",
       "      <td>Normal</td>\n",
       "      <td>BC</td>\n",
       "    </tr>\n",
       "    <tr>\n",
       "      <th>38</th>\n",
       "      <td>Normal</td>\n",
       "      <td>BC</td>\n",
       "      <td>Normal</td>\n",
       "      <td>Normal</td>\n",
       "      <td>Normal</td>\n",
       "      <td>BC</td>\n",
       "    </tr>\n",
       "    <tr>\n",
       "      <th>39</th>\n",
       "      <td>Normal</td>\n",
       "      <td>BC</td>\n",
       "      <td>Normal</td>\n",
       "      <td>Normal</td>\n",
       "      <td>BC</td>\n",
       "      <td>BC</td>\n",
       "    </tr>\n",
       "    <tr>\n",
       "      <th>40</th>\n",
       "      <td>Normal</td>\n",
       "      <td>BC</td>\n",
       "      <td>Normal</td>\n",
       "      <td>Normal</td>\n",
       "      <td>Normal</td>\n",
       "      <td>Normal</td>\n",
       "    </tr>\n",
       "    <tr>\n",
       "      <th>41</th>\n",
       "      <td>Normal</td>\n",
       "      <td>BC</td>\n",
       "      <td>Normal</td>\n",
       "      <td>Normal</td>\n",
       "      <td>BC</td>\n",
       "      <td>BC</td>\n",
       "    </tr>\n",
       "    <tr>\n",
       "      <th>42</th>\n",
       "      <td>Normal</td>\n",
       "      <td>BC</td>\n",
       "      <td>Normal</td>\n",
       "      <td>Normal</td>\n",
       "      <td>Normal</td>\n",
       "      <td>BC</td>\n",
       "    </tr>\n",
       "    <tr>\n",
       "      <th>43</th>\n",
       "      <td>Normal</td>\n",
       "      <td>BC</td>\n",
       "      <td>Normal</td>\n",
       "      <td>Normal</td>\n",
       "      <td>BC</td>\n",
       "      <td>Normal</td>\n",
       "    </tr>\n",
       "    <tr>\n",
       "      <th>44</th>\n",
       "      <td>Normal</td>\n",
       "      <td>BC</td>\n",
       "      <td>Normal</td>\n",
       "      <td>Normal</td>\n",
       "      <td>BC</td>\n",
       "      <td>Normal</td>\n",
       "    </tr>\n",
       "    <tr>\n",
       "      <th>45</th>\n",
       "      <td>Normal</td>\n",
       "      <td>BC</td>\n",
       "      <td>Normal</td>\n",
       "      <td>Normal</td>\n",
       "      <td>BC</td>\n",
       "      <td>BC</td>\n",
       "    </tr>\n",
       "    <tr>\n",
       "      <th>46</th>\n",
       "      <td>Normal</td>\n",
       "      <td>BC</td>\n",
       "      <td>Normal</td>\n",
       "      <td>Normal</td>\n",
       "      <td>Normal</td>\n",
       "      <td>BC</td>\n",
       "    </tr>\n",
       "    <tr>\n",
       "      <th>47</th>\n",
       "      <td>Normal</td>\n",
       "      <td>BC</td>\n",
       "      <td>Normal</td>\n",
       "      <td>Normal</td>\n",
       "      <td>Normal</td>\n",
       "      <td>Normal</td>\n",
       "    </tr>\n",
       "    <tr>\n",
       "      <th>48</th>\n",
       "      <td>Normal</td>\n",
       "      <td>BC</td>\n",
       "      <td>Normal</td>\n",
       "      <td>Normal</td>\n",
       "      <td>Normal</td>\n",
       "      <td>BC</td>\n",
       "    </tr>\n",
       "    <tr>\n",
       "      <th>49</th>\n",
       "      <td>Normal</td>\n",
       "      <td>BC</td>\n",
       "      <td>Normal</td>\n",
       "      <td>Normal</td>\n",
       "      <td>Normal</td>\n",
       "      <td>Normal</td>\n",
       "    </tr>\n",
       "    <tr>\n",
       "      <th>50</th>\n",
       "      <td>Normal</td>\n",
       "      <td>BC</td>\n",
       "      <td>Normal</td>\n",
       "      <td>Normal</td>\n",
       "      <td>Normal</td>\n",
       "      <td>BC</td>\n",
       "    </tr>\n",
       "    <tr>\n",
       "      <th>51</th>\n",
       "      <td>Normal</td>\n",
       "      <td>BC</td>\n",
       "      <td>Normal</td>\n",
       "      <td>Normal</td>\n",
       "      <td>BC</td>\n",
       "      <td>BC</td>\n",
       "    </tr>\n",
       "    <tr>\n",
       "      <th>52</th>\n",
       "      <td>Normal</td>\n",
       "      <td>BC</td>\n",
       "      <td>Normal</td>\n",
       "      <td>Normal</td>\n",
       "      <td>Normal</td>\n",
       "      <td>Normal</td>\n",
       "    </tr>\n",
       "  </tbody>\n",
       "</table>\n",
       "</div>"
      ],
      "text/plain": [
       "    y_true rf_pred svm_pred lr_pred lda_pred tree_pred\n",
       "0       BC      BC   Normal  Normal       BC        BC\n",
       "1       BC      BC   Normal  Normal       BC        BC\n",
       "2       BC      BC   Normal  Normal       BC        BC\n",
       "3       BC      BC   Normal  Normal   Normal        BC\n",
       "4       BC      BC       BC      BC       BC        BC\n",
       "5       BC      BC   Normal      BC       BC    Normal\n",
       "6       BC      BC   Normal  Normal       BC    Normal\n",
       "7       BC      BC   Normal      BC   Normal        BC\n",
       "8       BC      BC   Normal  Normal   Normal        BC\n",
       "9       BC      BC   Normal  Normal       BC    Normal\n",
       "10      BC      BC       BC      BC       BC        BC\n",
       "11      BC      BC       BC      BC       BC        BC\n",
       "12      BC      BC   Normal  Normal   Normal        BC\n",
       "13      BC      BC   Normal      BC       BC        BC\n",
       "14      BC      BC       BC      BC   Normal        BC\n",
       "15      BC      BC       BC      BC       BC        BC\n",
       "16      BC      BC   Normal  Normal   Normal        BC\n",
       "17      BC      BC       BC  Normal       BC        BC\n",
       "18      BC      BC       BC      BC   Normal        BC\n",
       "19      BC      BC       BC      BC       BC    Normal\n",
       "20      BC      BC   Normal  Normal       BC    Normal\n",
       "21      BC      BC   Normal  Normal   Normal        BC\n",
       "22      BC      BC   Normal  Normal   Normal        BC\n",
       "23      BC      BC   Normal  Normal   Normal        BC\n",
       "24      BC      BC   Normal  Normal   Normal    Normal\n",
       "25      BC      BC   Normal  Normal   Normal    Normal\n",
       "26      BC      BC   Normal  Normal   Normal        BC\n",
       "27      BC      BC   Normal  Normal   Normal        BC\n",
       "28      BC      BC   Normal  Normal   Normal        BC\n",
       "29      BC      BC   Normal  Normal   Normal        BC\n",
       "30      BC      BC   Normal  Normal   Normal        BC\n",
       "31      BC      BC   Normal  Normal   Normal    Normal\n",
       "32  Normal      BC   Normal  Normal   Normal        BC\n",
       "33  Normal      BC   Normal  Normal       BC        BC\n",
       "34  Normal      BC   Normal  Normal   Normal        BC\n",
       "35  Normal      BC   Normal  Normal       BC        BC\n",
       "36  Normal      BC   Normal  Normal       BC    Normal\n",
       "37  Normal      BC   Normal  Normal   Normal        BC\n",
       "38  Normal      BC   Normal  Normal   Normal        BC\n",
       "39  Normal      BC   Normal  Normal       BC        BC\n",
       "40  Normal      BC   Normal  Normal   Normal    Normal\n",
       "41  Normal      BC   Normal  Normal       BC        BC\n",
       "42  Normal      BC   Normal  Normal   Normal        BC\n",
       "43  Normal      BC   Normal  Normal       BC    Normal\n",
       "44  Normal      BC   Normal  Normal       BC    Normal\n",
       "45  Normal      BC   Normal  Normal       BC        BC\n",
       "46  Normal      BC   Normal  Normal   Normal        BC\n",
       "47  Normal      BC   Normal  Normal   Normal    Normal\n",
       "48  Normal      BC   Normal  Normal   Normal        BC\n",
       "49  Normal      BC   Normal  Normal   Normal    Normal\n",
       "50  Normal      BC   Normal  Normal   Normal        BC\n",
       "51  Normal      BC   Normal  Normal       BC        BC\n",
       "52  Normal      BC   Normal  Normal   Normal    Normal"
      ]
     },
     "execution_count": 35,
     "metadata": {},
     "output_type": "execute_result"
    }
   ],
   "source": [
    "pd.DataFrame({'y_true' : y_test,\n",
    "             'rf_pred' : rf1_pred,'svm_pred' : svm1_pred,\n",
    "              'lr_pred' : lr1_pred, 'lda_pred' : lda_pred, 'tree_pred' : tree_pred})"
   ]
  },
  {
   "cell_type": "markdown",
   "metadata": {},
   "source": [
    "### stacking"
   ]
  },
  {
   "cell_type": "code",
   "execution_count": 36,
   "metadata": {
    "ExecuteTime": {
     "end_time": "2019-03-01T07:04:02.960909Z",
     "start_time": "2019-03-01T07:04:02.953114Z"
    }
   },
   "outputs": [],
   "source": [
    "from sklearn.model_selection import KFold\n",
    "cv = KFold(5, shuffle=True, random_state=0)"
   ]
  },
  {
   "cell_type": "code",
   "execution_count": 39,
   "metadata": {
    "ExecuteTime": {
     "end_time": "2019-03-01T07:04:10.079709Z",
     "start_time": "2019-03-01T07:04:10.074983Z"
    }
   },
   "outputs": [],
   "source": [
    "import warnings\n",
    "warnings.filterwarnings(action='ignore')"
   ]
  },
  {
   "cell_type": "code",
   "execution_count": 52,
   "metadata": {
    "ExecuteTime": {
     "end_time": "2019-03-01T07:12:14.963125Z",
     "start_time": "2019-03-01T07:12:14.938532Z"
    }
   },
   "outputs": [],
   "source": [
    "#stacking function\n",
    "def stacking_3_models(train_data, test_data, model1, model2, model3) :\n",
    "    train_data['M1'] = np.NaN\n",
    "    train_data['M2'] = np.NaN\n",
    "\n",
    "    test_data['M1']= np.NaN\n",
    "    test_data['M2']= np.NaN\n",
    "    \n",
    "    #train data\n",
    "    for i, (idx_train, idx_cv) in enumerate(cv.split(train_data)):\n",
    "        df_train = train_data.iloc[idx_train]\n",
    "        df_cv = train_data.iloc[idx_cv]\n",
    "\n",
    "        x_train = df_train.drop(['y','M1','M2'], axis=1)\n",
    "        y_train = df_train['y']\n",
    "\n",
    "        x_cv = df_cv.drop(['y','M1','M2'], axis=1)\n",
    "        #y_cv = df_cv['y']\n",
    "\n",
    "        #rf\n",
    "        model1.fit(x_train, y_train)\n",
    "        train_data.loc[idx_cv, 'M1'] = model1.predict(x_cv)\n",
    "\n",
    "        #lr\n",
    "        model2.fit(x_train, y_train)\n",
    "        train_data.loc[idx_cv, 'M2'] = model2.predict(x_cv)\n",
    "        \n",
    "        \n",
    "    x_train = train_data.drop(['y','M1','M2'], axis=1)\n",
    "    y_train = train_data['y']\n",
    "    x_test = test_data.drop(['cancer','M1','M2'], axis = 1)\n",
    "    \n",
    "    model1.fit(x_train, y_train)\n",
    "    test_data['M1'] = model1.predict(x_test)\n",
    "    model2.fit(x_train, y_train)\n",
    "    test_data['M2'] = model2.predict(x_test)\n",
    "    \n",
    "    #M1, M2의 BC -> 0, Normal -> 1\n",
    "    train_data['M1'] = train_data['M1'].astype('category')\n",
    "    train_data['M1_cat'] = train_data['M1'].cat.codes\n",
    "    train_data['M2'] = train_data['M2'].astype('category')\n",
    "    train_data['M2_cat'] = train_data['M2'].cat.codes\n",
    "\n",
    "    test_data['M1'] = test_data['M1'].astype('category')\n",
    "    test_data['M1_cat'] = test_data['M1'].cat.codes\n",
    "    test_data['M2'] = test_data['M2'].astype('category')\n",
    "    test_data['M2_cat'] = test_data['M2'].cat.codes\n",
    "\n",
    "    #M1, M2를 숫자로 바꾼 M1_cat, M2_cat을 이용하여 final Model logistic regression \n",
    "    x_train = train_data.drop(['y','M1','M2'], axis=1)\n",
    "    y_train = train_data['y']\n",
    "    x_test = test_data.drop(['cancer','M1','M2'], axis = 1)\n",
    "    y_test = test_data['cancer']\n",
    "\n",
    "    model3.fit(x_train, y_train)\n",
    "    \n",
    "    return classification_report(y_test, model3.predict(x_test)), confusion_matrix(y_test, model3.predict(x_test))"
   ]
  },
  {
   "cell_type": "code",
   "execution_count": null,
   "metadata": {},
   "outputs": [],
   "source": [
    "#함수를 이용해서 여러가지 모델 조합으로 stacing해볼 수 있을 듯"
   ]
  },
  {
   "cell_type": "code",
   "execution_count": 54,
   "metadata": {
    "ExecuteTime": {
     "end_time": "2019-03-01T07:13:18.714311Z",
     "start_time": "2019-03-01T07:13:05.264182Z"
    }
   },
   "outputs": [
    {
     "name": "stdout",
     "output_type": "stream",
     "text": [
      "              precision    recall  f1-score   support\n",
      "\n",
      "          BC       0.59      0.41      0.48        32\n",
      "      Normal       0.39      0.57      0.46        21\n",
      "\n",
      "   micro avg       0.47      0.47      0.47        53\n",
      "   macro avg       0.49      0.49      0.47        53\n",
      "weighted avg       0.51      0.47      0.47        53\n",
      "\n",
      "[[14 18]\n",
      " [11 10]]\n"
     ]
    }
   ],
   "source": [
    "confus, report = stacking_3_models(TCGA_BC_Norm, K15_BC_Norm, rf1, lr1, lda)\n",
    "print(confus)\n",
    "print(report)"
   ]
  },
  {
   "cell_type": "code",
   "execution_count": 56,
   "metadata": {
    "ExecuteTime": {
     "end_time": "2019-03-01T07:16:52.146381Z",
     "start_time": "2019-03-01T07:16:36.807040Z"
    }
   },
   "outputs": [
    {
     "name": "stdout",
     "output_type": "stream",
     "text": [
      "              precision    recall  f1-score   support\n",
      "\n",
      "          BC       0.56      0.78      0.65        32\n",
      "      Normal       0.12      0.05      0.07        21\n",
      "\n",
      "   micro avg       0.49      0.49      0.49        53\n",
      "   macro avg       0.34      0.41      0.36        53\n",
      "weighted avg       0.38      0.49      0.42        53\n",
      "\n",
      "[[26  6]\n",
      " [20  1]]\n"
     ]
    }
   ],
   "source": [
    "confus, report = stacking_3_models(TCGA_BC_Norm, K15_BC_Norm, rf1, lr1, tree)\n",
    "print(confus)\n",
    "print(report)"
   ]
  },
  {
   "cell_type": "code",
   "execution_count": 92,
   "metadata": {
    "ExecuteTime": {
     "end_time": "2019-03-01T07:36:33.510032Z",
     "start_time": "2019-03-01T07:36:18.079824Z"
    }
   },
   "outputs": [
    {
     "name": "stdout",
     "output_type": "stream",
     "text": [
      "              precision    recall  f1-score   support\n",
      "\n",
      "          BC       0.88      0.44      0.58        32\n",
      "      Normal       0.51      0.90      0.66        21\n",
      "\n",
      "   micro avg       0.62      0.62      0.62        53\n",
      "   macro avg       0.69      0.67      0.62        53\n",
      "weighted avg       0.73      0.62      0.61        53\n",
      "\n",
      "[[14 18]\n",
      " [ 2 19]]\n"
     ]
    }
   ],
   "source": [
    "confus, report = stacking_3_models(TCGA_BC_Norm, K15_BC_Norm, svm1, lr1, tree)\n",
    "print(confus)\n",
    "print(report)"
   ]
  },
  {
   "cell_type": "markdown",
   "metadata": {},
   "source": [
    "## BC-Others"
   ]
  },
  {
   "cell_type": "code",
   "execution_count": 59,
   "metadata": {
    "ExecuteTime": {
     "end_time": "2019-03-01T07:21:01.654859Z",
     "start_time": "2019-03-01T07:21:01.632013Z"
    }
   },
   "outputs": [],
   "source": [
    "x_train = TCGA_BC_Others.drop(['target'], axis = 1)\n",
    "y_train = TCGA_BC_Others['target']\n",
    "x_test = K15_BC_Others.drop(['target'], axis = 1)\n",
    "y_test = K15_BC_Others['target']"
   ]
  },
  {
   "cell_type": "code",
   "execution_count": 60,
   "metadata": {
    "ExecuteTime": {
     "end_time": "2019-03-01T07:21:02.135647Z",
     "start_time": "2019-03-01T07:21:02.128215Z"
    }
   },
   "outputs": [
    {
     "data": {
      "text/plain": [
       "Index(['cyto.1p36.32', 'cyto.1p36.31', 'cyto.1p36.23', 'cyto.1p36.22',\n",
       "       'cyto.1p36.21', 'cyto.1p36.13', 'cyto.1p36.12', 'cyto.1p36.11',\n",
       "       'cyto.1p35.3', 'cyto.1p35.2',\n",
       "       ...\n",
       "       'cyto.9q32', 'cyto.9q33.1', 'cyto.9q33.2', 'cyto.9q33.3',\n",
       "       'cyto.9q34.11', 'cyto.9q34.12', 'cyto.9q34.13', 'cyto.9q34.2',\n",
       "       'cyto.9q34.3', 'target'],\n",
       "      dtype='object', length=764)"
      ]
     },
     "execution_count": 60,
     "metadata": {},
     "output_type": "execute_result"
    }
   ],
   "source": [
    "TCGA_BC_Others.columns"
   ]
  },
  {
   "cell_type": "code",
   "execution_count": 61,
   "metadata": {
    "ExecuteTime": {
     "end_time": "2019-03-01T07:21:03.209051Z",
     "start_time": "2019-03-01T07:21:03.202069Z"
    }
   },
   "outputs": [
    {
     "data": {
      "text/plain": [
       "Index(['cyto.10p11.1', 'cyto.10p11.21', 'cyto.10p11.22', 'cyto.10p11.23',\n",
       "       'cyto.10p12.1', 'cyto.10p12.2', 'cyto.10p12.31', 'cyto.10p12.32',\n",
       "       'cyto.10p12.33', 'cyto.10p13',\n",
       "       ...\n",
       "       'cyto.9q32', 'cyto.9q33.1', 'cyto.9q33.2', 'cyto.9q33.3',\n",
       "       'cyto.9q34.11', 'cyto.9q34.12', 'cyto.9q34.13', 'cyto.9q34.2',\n",
       "       'cyto.9q34.3', 'target'],\n",
       "      dtype='object', length=764)"
      ]
     },
     "execution_count": 61,
     "metadata": {},
     "output_type": "execute_result"
    }
   ],
   "source": [
    "K15_BC_Others.columns"
   ]
  },
  {
   "cell_type": "markdown",
   "metadata": {},
   "source": [
    "### randomforest"
   ]
  },
  {
   "cell_type": "code",
   "execution_count": 62,
   "metadata": {
    "ExecuteTime": {
     "end_time": "2019-03-01T07:21:07.541038Z",
     "start_time": "2019-03-01T07:21:06.792335Z"
    }
   },
   "outputs": [
    {
     "name": "stdout",
     "output_type": "stream",
     "text": [
      "              precision    recall  f1-score   support\n",
      "\n",
      "          BC       0.46      0.91      0.61        32\n",
      "      Others       0.67      0.15      0.24        40\n",
      "\n",
      "   micro avg       0.49      0.49      0.49        72\n",
      "   macro avg       0.56      0.53      0.43        72\n",
      "weighted avg       0.57      0.49      0.41        72\n",
      "\n"
     ]
    }
   ],
   "source": [
    "#랜포 할 때마다 바뀜 값이..\n",
    "rf1.fit(x_train, y_train)\n",
    "rf1_pred = rf1.predict(x_test)\n",
    "print(classification_report(y_test, rf1_pred, target_names=['BC', 'Others']))"
   ]
  },
  {
   "cell_type": "code",
   "execution_count": 120,
   "metadata": {
    "ExecuteTime": {
     "end_time": "2019-03-01T06:06:46.623297Z",
     "start_time": "2019-03-01T06:06:46.615320Z"
    },
    "scrolled": true
   },
   "outputs": [
    {
     "data": {
      "text/plain": [
       "array([[29,  3],\n",
       "       [33,  7]], dtype=int64)"
      ]
     },
     "execution_count": 120,
     "metadata": {},
     "output_type": "execute_result"
    }
   ],
   "source": [
    "confusion_matrix(y_test, rf1_pred)"
   ]
  },
  {
   "cell_type": "markdown",
   "metadata": {},
   "source": [
    "### svm"
   ]
  },
  {
   "cell_type": "code",
   "execution_count": 63,
   "metadata": {
    "ExecuteTime": {
     "end_time": "2019-03-01T07:21:26.113813Z",
     "start_time": "2019-03-01T07:21:22.697515Z"
    }
   },
   "outputs": [
    {
     "name": "stdout",
     "output_type": "stream",
     "text": [
      "              precision    recall  f1-score   support\n",
      "\n",
      "          BC       1.00      0.16      0.27        32\n",
      "      Others       0.60      1.00      0.75        40\n",
      "\n",
      "   micro avg       0.62      0.62      0.62        72\n",
      "   macro avg       0.80      0.58      0.51        72\n",
      "weighted avg       0.78      0.62      0.54        72\n",
      "\n"
     ]
    }
   ],
   "source": [
    "svm1.fit(x_train, y_train)\n",
    "svm1_pred = svm1.predict(x_test)\n",
    "print(classification_report(y_test, svm1_pred, target_names=['BC', 'Others']))"
   ]
  },
  {
   "cell_type": "code",
   "execution_count": 122,
   "metadata": {
    "ExecuteTime": {
     "end_time": "2019-03-01T06:06:56.459174Z",
     "start_time": "2019-03-01T06:06:56.451197Z"
    }
   },
   "outputs": [
    {
     "data": {
      "text/plain": [
       "array([[ 5, 27],\n",
       "       [ 0, 40]], dtype=int64)"
      ]
     },
     "execution_count": 122,
     "metadata": {},
     "output_type": "execute_result"
    }
   ],
   "source": [
    "confusion_matrix(y_test, svm1_pred)"
   ]
  },
  {
   "cell_type": "markdown",
   "metadata": {},
   "source": [
    "### logistic regression"
   ]
  },
  {
   "cell_type": "code",
   "execution_count": 64,
   "metadata": {
    "ExecuteTime": {
     "end_time": "2019-03-01T07:21:35.669809Z",
     "start_time": "2019-03-01T07:21:34.929187Z"
    }
   },
   "outputs": [
    {
     "name": "stdout",
     "output_type": "stream",
     "text": [
      "              precision    recall  f1-score   support\n",
      "\n",
      "          BC       1.00      0.28      0.44        32\n",
      "      Others       0.63      1.00      0.78        40\n",
      "\n",
      "   micro avg       0.68      0.68      0.68        72\n",
      "   macro avg       0.82      0.64      0.61        72\n",
      "weighted avg       0.80      0.68      0.63        72\n",
      "\n"
     ]
    }
   ],
   "source": [
    "lr1.fit(x_train, y_train)\n",
    "lr1_pred = lr1.predict(x_test)\n",
    "print(classification_report(y_test, lr1_pred, target_names=['BC', 'Others']))"
   ]
  },
  {
   "cell_type": "code",
   "execution_count": 124,
   "metadata": {
    "ExecuteTime": {
     "end_time": "2019-03-01T06:07:10.183634Z",
     "start_time": "2019-03-01T06:07:10.173662Z"
    }
   },
   "outputs": [
    {
     "data": {
      "text/plain": [
       "array([[ 9, 23],\n",
       "       [ 0, 40]], dtype=int64)"
      ]
     },
     "execution_count": 124,
     "metadata": {},
     "output_type": "execute_result"
    }
   ],
   "source": [
    "confusion_matrix(y_test, lr1.predict(x_test))"
   ]
  },
  {
   "cell_type": "markdown",
   "metadata": {},
   "source": [
    "### lda"
   ]
  },
  {
   "cell_type": "code",
   "execution_count": 65,
   "metadata": {
    "ExecuteTime": {
     "end_time": "2019-03-01T07:21:42.373501Z",
     "start_time": "2019-03-01T07:21:41.171196Z"
    }
   },
   "outputs": [
    {
     "name": "stdout",
     "output_type": "stream",
     "text": [
      "              precision    recall  f1-score   support\n",
      "\n",
      "          BC       0.34      0.34      0.34        32\n",
      "      Others       0.47      0.47      0.48        40\n",
      "\n",
      "   micro avg       0.42      0.42      0.42        72\n",
      "   macro avg       0.41      0.41      0.41        72\n",
      "weighted avg       0.42      0.42      0.42        72\n",
      "\n"
     ]
    }
   ],
   "source": [
    "lda.fit(x_train, y_train)\n",
    "lda_pred = lda.predict(x_test)\n",
    "print(classification_report(y_test, lda_pred, target_names=['BC', 'Others']))"
   ]
  },
  {
   "cell_type": "code",
   "execution_count": 126,
   "metadata": {
    "ExecuteTime": {
     "end_time": "2019-03-01T06:18:08.328669Z",
     "start_time": "2019-03-01T06:18:08.320690Z"
    }
   },
   "outputs": [
    {
     "data": {
      "text/plain": [
       "array([[11, 21],\n",
       "       [21, 19]], dtype=int64)"
      ]
     },
     "execution_count": 126,
     "metadata": {},
     "output_type": "execute_result"
    }
   ],
   "source": [
    "confusion_matrix(y_test,  lda_pred)"
   ]
  },
  {
   "cell_type": "markdown",
   "metadata": {},
   "source": [
    "### tree"
   ]
  },
  {
   "cell_type": "code",
   "execution_count": 66,
   "metadata": {
    "ExecuteTime": {
     "end_time": "2019-03-01T07:22:10.139436Z",
     "start_time": "2019-03-01T07:22:05.675130Z"
    }
   },
   "outputs": [
    {
     "name": "stdout",
     "output_type": "stream",
     "text": [
      "              precision    recall  f1-score   support\n",
      "\n",
      "          BC       0.52      0.75      0.62        32\n",
      "      Others       0.69      0.45      0.55        40\n",
      "\n",
      "   micro avg       0.58      0.58      0.58        72\n",
      "   macro avg       0.61      0.60      0.58        72\n",
      "weighted avg       0.62      0.58      0.58        72\n",
      "\n"
     ]
    }
   ],
   "source": [
    "tree.fit(x_train, y_train)\n",
    "tree_pred = tree.predict(x_test)\n",
    "print(classification_report(y_test, tree_pred, target_names=['BC', 'Others']))"
   ]
  },
  {
   "cell_type": "code",
   "execution_count": 67,
   "metadata": {
    "ExecuteTime": {
     "end_time": "2019-03-01T07:22:10.153744Z",
     "start_time": "2019-03-01T07:22:10.143736Z"
    }
   },
   "outputs": [
    {
     "data": {
      "text/plain": [
       "array([[24,  8],\n",
       "       [22, 18]], dtype=int64)"
      ]
     },
     "execution_count": 67,
     "metadata": {},
     "output_type": "execute_result"
    }
   ],
   "source": [
    "confusion_matrix(y_test,  tree_pred)"
   ]
  },
  {
   "cell_type": "code",
   "execution_count": 68,
   "metadata": {
    "ExecuteTime": {
     "end_time": "2019-03-01T07:22:44.496388Z",
     "start_time": "2019-03-01T07:22:44.452728Z"
    }
   },
   "outputs": [
    {
     "data": {
      "text/html": [
       "<div>\n",
       "<style scoped>\n",
       "    .dataframe tbody tr th:only-of-type {\n",
       "        vertical-align: middle;\n",
       "    }\n",
       "\n",
       "    .dataframe tbody tr th {\n",
       "        vertical-align: top;\n",
       "    }\n",
       "\n",
       "    .dataframe thead th {\n",
       "        text-align: right;\n",
       "    }\n",
       "</style>\n",
       "<table border=\"1\" class=\"dataframe\">\n",
       "  <thead>\n",
       "    <tr style=\"text-align: right;\">\n",
       "      <th></th>\n",
       "      <th>y_true</th>\n",
       "      <th>rf_pred</th>\n",
       "      <th>svm_pred</th>\n",
       "      <th>lr_pred</th>\n",
       "      <th>lda_pred</th>\n",
       "      <th>tree_pred</th>\n",
       "    </tr>\n",
       "  </thead>\n",
       "  <tbody>\n",
       "    <tr>\n",
       "      <th>0</th>\n",
       "      <td>BC</td>\n",
       "      <td>BC</td>\n",
       "      <td>Others</td>\n",
       "      <td>Others</td>\n",
       "      <td>Others</td>\n",
       "      <td>Others</td>\n",
       "    </tr>\n",
       "    <tr>\n",
       "      <th>1</th>\n",
       "      <td>BC</td>\n",
       "      <td>BC</td>\n",
       "      <td>Others</td>\n",
       "      <td>Others</td>\n",
       "      <td>Others</td>\n",
       "      <td>BC</td>\n",
       "    </tr>\n",
       "    <tr>\n",
       "      <th>2</th>\n",
       "      <td>BC</td>\n",
       "      <td>BC</td>\n",
       "      <td>Others</td>\n",
       "      <td>Others</td>\n",
       "      <td>Others</td>\n",
       "      <td>BC</td>\n",
       "    </tr>\n",
       "    <tr>\n",
       "      <th>3</th>\n",
       "      <td>BC</td>\n",
       "      <td>BC</td>\n",
       "      <td>Others</td>\n",
       "      <td>Others</td>\n",
       "      <td>BC</td>\n",
       "      <td>BC</td>\n",
       "    </tr>\n",
       "    <tr>\n",
       "      <th>4</th>\n",
       "      <td>BC</td>\n",
       "      <td>BC</td>\n",
       "      <td>BC</td>\n",
       "      <td>BC</td>\n",
       "      <td>Others</td>\n",
       "      <td>BC</td>\n",
       "    </tr>\n",
       "    <tr>\n",
       "      <th>5</th>\n",
       "      <td>BC</td>\n",
       "      <td>BC</td>\n",
       "      <td>Others</td>\n",
       "      <td>Others</td>\n",
       "      <td>Others</td>\n",
       "      <td>BC</td>\n",
       "    </tr>\n",
       "    <tr>\n",
       "      <th>6</th>\n",
       "      <td>BC</td>\n",
       "      <td>BC</td>\n",
       "      <td>Others</td>\n",
       "      <td>Others</td>\n",
       "      <td>Others</td>\n",
       "      <td>Others</td>\n",
       "    </tr>\n",
       "    <tr>\n",
       "      <th>7</th>\n",
       "      <td>BC</td>\n",
       "      <td>BC</td>\n",
       "      <td>Others</td>\n",
       "      <td>BC</td>\n",
       "      <td>BC</td>\n",
       "      <td>BC</td>\n",
       "    </tr>\n",
       "    <tr>\n",
       "      <th>8</th>\n",
       "      <td>BC</td>\n",
       "      <td>BC</td>\n",
       "      <td>Others</td>\n",
       "      <td>Others</td>\n",
       "      <td>Others</td>\n",
       "      <td>Others</td>\n",
       "    </tr>\n",
       "    <tr>\n",
       "      <th>9</th>\n",
       "      <td>BC</td>\n",
       "      <td>Others</td>\n",
       "      <td>Others</td>\n",
       "      <td>Others</td>\n",
       "      <td>Others</td>\n",
       "      <td>BC</td>\n",
       "    </tr>\n",
       "    <tr>\n",
       "      <th>10</th>\n",
       "      <td>BC</td>\n",
       "      <td>BC</td>\n",
       "      <td>Others</td>\n",
       "      <td>BC</td>\n",
       "      <td>Others</td>\n",
       "      <td>BC</td>\n",
       "    </tr>\n",
       "    <tr>\n",
       "      <th>11</th>\n",
       "      <td>BC</td>\n",
       "      <td>BC</td>\n",
       "      <td>BC</td>\n",
       "      <td>BC</td>\n",
       "      <td>BC</td>\n",
       "      <td>BC</td>\n",
       "    </tr>\n",
       "    <tr>\n",
       "      <th>12</th>\n",
       "      <td>BC</td>\n",
       "      <td>BC</td>\n",
       "      <td>Others</td>\n",
       "      <td>Others</td>\n",
       "      <td>Others</td>\n",
       "      <td>BC</td>\n",
       "    </tr>\n",
       "    <tr>\n",
       "      <th>13</th>\n",
       "      <td>BC</td>\n",
       "      <td>BC</td>\n",
       "      <td>Others</td>\n",
       "      <td>BC</td>\n",
       "      <td>Others</td>\n",
       "      <td>BC</td>\n",
       "    </tr>\n",
       "    <tr>\n",
       "      <th>14</th>\n",
       "      <td>BC</td>\n",
       "      <td>BC</td>\n",
       "      <td>BC</td>\n",
       "      <td>BC</td>\n",
       "      <td>Others</td>\n",
       "      <td>BC</td>\n",
       "    </tr>\n",
       "    <tr>\n",
       "      <th>15</th>\n",
       "      <td>BC</td>\n",
       "      <td>BC</td>\n",
       "      <td>Others</td>\n",
       "      <td>BC</td>\n",
       "      <td>Others</td>\n",
       "      <td>BC</td>\n",
       "    </tr>\n",
       "    <tr>\n",
       "      <th>16</th>\n",
       "      <td>BC</td>\n",
       "      <td>BC</td>\n",
       "      <td>Others</td>\n",
       "      <td>Others</td>\n",
       "      <td>BC</td>\n",
       "      <td>Others</td>\n",
       "    </tr>\n",
       "    <tr>\n",
       "      <th>17</th>\n",
       "      <td>BC</td>\n",
       "      <td>Others</td>\n",
       "      <td>Others</td>\n",
       "      <td>Others</td>\n",
       "      <td>Others</td>\n",
       "      <td>BC</td>\n",
       "    </tr>\n",
       "    <tr>\n",
       "      <th>18</th>\n",
       "      <td>BC</td>\n",
       "      <td>BC</td>\n",
       "      <td>BC</td>\n",
       "      <td>BC</td>\n",
       "      <td>BC</td>\n",
       "      <td>Others</td>\n",
       "    </tr>\n",
       "    <tr>\n",
       "      <th>19</th>\n",
       "      <td>BC</td>\n",
       "      <td>BC</td>\n",
       "      <td>BC</td>\n",
       "      <td>BC</td>\n",
       "      <td>BC</td>\n",
       "      <td>BC</td>\n",
       "    </tr>\n",
       "    <tr>\n",
       "      <th>20</th>\n",
       "      <td>BC</td>\n",
       "      <td>BC</td>\n",
       "      <td>Others</td>\n",
       "      <td>Others</td>\n",
       "      <td>Others</td>\n",
       "      <td>Others</td>\n",
       "    </tr>\n",
       "    <tr>\n",
       "      <th>21</th>\n",
       "      <td>BC</td>\n",
       "      <td>Others</td>\n",
       "      <td>Others</td>\n",
       "      <td>Others</td>\n",
       "      <td>BC</td>\n",
       "      <td>BC</td>\n",
       "    </tr>\n",
       "    <tr>\n",
       "      <th>22</th>\n",
       "      <td>BC</td>\n",
       "      <td>BC</td>\n",
       "      <td>Others</td>\n",
       "      <td>Others</td>\n",
       "      <td>BC</td>\n",
       "      <td>BC</td>\n",
       "    </tr>\n",
       "    <tr>\n",
       "      <th>23</th>\n",
       "      <td>BC</td>\n",
       "      <td>BC</td>\n",
       "      <td>Others</td>\n",
       "      <td>Others</td>\n",
       "      <td>Others</td>\n",
       "      <td>BC</td>\n",
       "    </tr>\n",
       "    <tr>\n",
       "      <th>24</th>\n",
       "      <td>BC</td>\n",
       "      <td>BC</td>\n",
       "      <td>Others</td>\n",
       "      <td>Others</td>\n",
       "      <td>Others</td>\n",
       "      <td>BC</td>\n",
       "    </tr>\n",
       "    <tr>\n",
       "      <th>25</th>\n",
       "      <td>BC</td>\n",
       "      <td>BC</td>\n",
       "      <td>Others</td>\n",
       "      <td>Others</td>\n",
       "      <td>Others</td>\n",
       "      <td>BC</td>\n",
       "    </tr>\n",
       "    <tr>\n",
       "      <th>26</th>\n",
       "      <td>BC</td>\n",
       "      <td>BC</td>\n",
       "      <td>Others</td>\n",
       "      <td>Others</td>\n",
       "      <td>Others</td>\n",
       "      <td>BC</td>\n",
       "    </tr>\n",
       "    <tr>\n",
       "      <th>27</th>\n",
       "      <td>BC</td>\n",
       "      <td>BC</td>\n",
       "      <td>Others</td>\n",
       "      <td>Others</td>\n",
       "      <td>Others</td>\n",
       "      <td>BC</td>\n",
       "    </tr>\n",
       "    <tr>\n",
       "      <th>28</th>\n",
       "      <td>BC</td>\n",
       "      <td>BC</td>\n",
       "      <td>Others</td>\n",
       "      <td>Others</td>\n",
       "      <td>BC</td>\n",
       "      <td>BC</td>\n",
       "    </tr>\n",
       "    <tr>\n",
       "      <th>29</th>\n",
       "      <td>BC</td>\n",
       "      <td>BC</td>\n",
       "      <td>Others</td>\n",
       "      <td>Others</td>\n",
       "      <td>BC</td>\n",
       "      <td>BC</td>\n",
       "    </tr>\n",
       "    <tr>\n",
       "      <th>...</th>\n",
       "      <td>...</td>\n",
       "      <td>...</td>\n",
       "      <td>...</td>\n",
       "      <td>...</td>\n",
       "      <td>...</td>\n",
       "      <td>...</td>\n",
       "    </tr>\n",
       "    <tr>\n",
       "      <th>10</th>\n",
       "      <td>Others</td>\n",
       "      <td>BC</td>\n",
       "      <td>Others</td>\n",
       "      <td>Others</td>\n",
       "      <td>BC</td>\n",
       "      <td>BC</td>\n",
       "    </tr>\n",
       "    <tr>\n",
       "      <th>11</th>\n",
       "      <td>Others</td>\n",
       "      <td>BC</td>\n",
       "      <td>Others</td>\n",
       "      <td>Others</td>\n",
       "      <td>Others</td>\n",
       "      <td>Others</td>\n",
       "    </tr>\n",
       "    <tr>\n",
       "      <th>12</th>\n",
       "      <td>Others</td>\n",
       "      <td>BC</td>\n",
       "      <td>Others</td>\n",
       "      <td>Others</td>\n",
       "      <td>Others</td>\n",
       "      <td>BC</td>\n",
       "    </tr>\n",
       "    <tr>\n",
       "      <th>13</th>\n",
       "      <td>Others</td>\n",
       "      <td>BC</td>\n",
       "      <td>Others</td>\n",
       "      <td>Others</td>\n",
       "      <td>Others</td>\n",
       "      <td>BC</td>\n",
       "    </tr>\n",
       "    <tr>\n",
       "      <th>14</th>\n",
       "      <td>Others</td>\n",
       "      <td>BC</td>\n",
       "      <td>Others</td>\n",
       "      <td>Others</td>\n",
       "      <td>BC</td>\n",
       "      <td>BC</td>\n",
       "    </tr>\n",
       "    <tr>\n",
       "      <th>15</th>\n",
       "      <td>Others</td>\n",
       "      <td>BC</td>\n",
       "      <td>Others</td>\n",
       "      <td>Others</td>\n",
       "      <td>BC</td>\n",
       "      <td>BC</td>\n",
       "    </tr>\n",
       "    <tr>\n",
       "      <th>16</th>\n",
       "      <td>Others</td>\n",
       "      <td>BC</td>\n",
       "      <td>Others</td>\n",
       "      <td>Others</td>\n",
       "      <td>BC</td>\n",
       "      <td>Others</td>\n",
       "    </tr>\n",
       "    <tr>\n",
       "      <th>17</th>\n",
       "      <td>Others</td>\n",
       "      <td>BC</td>\n",
       "      <td>Others</td>\n",
       "      <td>Others</td>\n",
       "      <td>BC</td>\n",
       "      <td>Others</td>\n",
       "    </tr>\n",
       "    <tr>\n",
       "      <th>18</th>\n",
       "      <td>Others</td>\n",
       "      <td>Others</td>\n",
       "      <td>Others</td>\n",
       "      <td>Others</td>\n",
       "      <td>BC</td>\n",
       "      <td>Others</td>\n",
       "    </tr>\n",
       "    <tr>\n",
       "      <th>19</th>\n",
       "      <td>Others</td>\n",
       "      <td>BC</td>\n",
       "      <td>Others</td>\n",
       "      <td>Others</td>\n",
       "      <td>Others</td>\n",
       "      <td>BC</td>\n",
       "    </tr>\n",
       "    <tr>\n",
       "      <th>20</th>\n",
       "      <td>Others</td>\n",
       "      <td>BC</td>\n",
       "      <td>Others</td>\n",
       "      <td>Others</td>\n",
       "      <td>Others</td>\n",
       "      <td>BC</td>\n",
       "    </tr>\n",
       "    <tr>\n",
       "      <th>0</th>\n",
       "      <td>Others</td>\n",
       "      <td>Others</td>\n",
       "      <td>Others</td>\n",
       "      <td>Others</td>\n",
       "      <td>Others</td>\n",
       "      <td>Others</td>\n",
       "    </tr>\n",
       "    <tr>\n",
       "      <th>1</th>\n",
       "      <td>Others</td>\n",
       "      <td>BC</td>\n",
       "      <td>Others</td>\n",
       "      <td>Others</td>\n",
       "      <td>BC</td>\n",
       "      <td>BC</td>\n",
       "    </tr>\n",
       "    <tr>\n",
       "      <th>2</th>\n",
       "      <td>Others</td>\n",
       "      <td>Others</td>\n",
       "      <td>Others</td>\n",
       "      <td>Others</td>\n",
       "      <td>Others</td>\n",
       "      <td>Others</td>\n",
       "    </tr>\n",
       "    <tr>\n",
       "      <th>3</th>\n",
       "      <td>Others</td>\n",
       "      <td>Others</td>\n",
       "      <td>Others</td>\n",
       "      <td>Others</td>\n",
       "      <td>BC</td>\n",
       "      <td>Others</td>\n",
       "    </tr>\n",
       "    <tr>\n",
       "      <th>4</th>\n",
       "      <td>Others</td>\n",
       "      <td>BC</td>\n",
       "      <td>Others</td>\n",
       "      <td>Others</td>\n",
       "      <td>Others</td>\n",
       "      <td>Others</td>\n",
       "    </tr>\n",
       "    <tr>\n",
       "      <th>5</th>\n",
       "      <td>Others</td>\n",
       "      <td>BC</td>\n",
       "      <td>Others</td>\n",
       "      <td>Others</td>\n",
       "      <td>Others</td>\n",
       "      <td>Others</td>\n",
       "    </tr>\n",
       "    <tr>\n",
       "      <th>6</th>\n",
       "      <td>Others</td>\n",
       "      <td>BC</td>\n",
       "      <td>Others</td>\n",
       "      <td>Others</td>\n",
       "      <td>BC</td>\n",
       "      <td>BC</td>\n",
       "    </tr>\n",
       "    <tr>\n",
       "      <th>7</th>\n",
       "      <td>Others</td>\n",
       "      <td>BC</td>\n",
       "      <td>Others</td>\n",
       "      <td>Others</td>\n",
       "      <td>Others</td>\n",
       "      <td>BC</td>\n",
       "    </tr>\n",
       "    <tr>\n",
       "      <th>8</th>\n",
       "      <td>Others</td>\n",
       "      <td>Others</td>\n",
       "      <td>Others</td>\n",
       "      <td>Others</td>\n",
       "      <td>Others</td>\n",
       "      <td>Others</td>\n",
       "    </tr>\n",
       "    <tr>\n",
       "      <th>9</th>\n",
       "      <td>Others</td>\n",
       "      <td>BC</td>\n",
       "      <td>Others</td>\n",
       "      <td>Others</td>\n",
       "      <td>Others</td>\n",
       "      <td>BC</td>\n",
       "    </tr>\n",
       "    <tr>\n",
       "      <th>10</th>\n",
       "      <td>Others</td>\n",
       "      <td>BC</td>\n",
       "      <td>Others</td>\n",
       "      <td>Others</td>\n",
       "      <td>BC</td>\n",
       "      <td>Others</td>\n",
       "    </tr>\n",
       "    <tr>\n",
       "      <th>11</th>\n",
       "      <td>Others</td>\n",
       "      <td>BC</td>\n",
       "      <td>Others</td>\n",
       "      <td>Others</td>\n",
       "      <td>Others</td>\n",
       "      <td>BC</td>\n",
       "    </tr>\n",
       "    <tr>\n",
       "      <th>12</th>\n",
       "      <td>Others</td>\n",
       "      <td>Others</td>\n",
       "      <td>Others</td>\n",
       "      <td>Others</td>\n",
       "      <td>Others</td>\n",
       "      <td>Others</td>\n",
       "    </tr>\n",
       "    <tr>\n",
       "      <th>13</th>\n",
       "      <td>Others</td>\n",
       "      <td>BC</td>\n",
       "      <td>Others</td>\n",
       "      <td>Others</td>\n",
       "      <td>BC</td>\n",
       "      <td>BC</td>\n",
       "    </tr>\n",
       "    <tr>\n",
       "      <th>14</th>\n",
       "      <td>Others</td>\n",
       "      <td>BC</td>\n",
       "      <td>Others</td>\n",
       "      <td>Others</td>\n",
       "      <td>BC</td>\n",
       "      <td>BC</td>\n",
       "    </tr>\n",
       "    <tr>\n",
       "      <th>15</th>\n",
       "      <td>Others</td>\n",
       "      <td>BC</td>\n",
       "      <td>Others</td>\n",
       "      <td>Others</td>\n",
       "      <td>BC</td>\n",
       "      <td>BC</td>\n",
       "    </tr>\n",
       "    <tr>\n",
       "      <th>17</th>\n",
       "      <td>Others</td>\n",
       "      <td>BC</td>\n",
       "      <td>Others</td>\n",
       "      <td>Others</td>\n",
       "      <td>BC</td>\n",
       "      <td>BC</td>\n",
       "    </tr>\n",
       "    <tr>\n",
       "      <th>18</th>\n",
       "      <td>Others</td>\n",
       "      <td>BC</td>\n",
       "      <td>Others</td>\n",
       "      <td>Others</td>\n",
       "      <td>Others</td>\n",
       "      <td>Others</td>\n",
       "    </tr>\n",
       "    <tr>\n",
       "      <th>19</th>\n",
       "      <td>Others</td>\n",
       "      <td>BC</td>\n",
       "      <td>Others</td>\n",
       "      <td>Others</td>\n",
       "      <td>BC</td>\n",
       "      <td>BC</td>\n",
       "    </tr>\n",
       "  </tbody>\n",
       "</table>\n",
       "<p>72 rows × 6 columns</p>\n",
       "</div>"
      ],
      "text/plain": [
       "    y_true rf_pred svm_pred lr_pred lda_pred tree_pred\n",
       "0       BC      BC   Others  Others   Others    Others\n",
       "1       BC      BC   Others  Others   Others        BC\n",
       "2       BC      BC   Others  Others   Others        BC\n",
       "3       BC      BC   Others  Others       BC        BC\n",
       "4       BC      BC       BC      BC   Others        BC\n",
       "5       BC      BC   Others  Others   Others        BC\n",
       "6       BC      BC   Others  Others   Others    Others\n",
       "7       BC      BC   Others      BC       BC        BC\n",
       "8       BC      BC   Others  Others   Others    Others\n",
       "9       BC  Others   Others  Others   Others        BC\n",
       "10      BC      BC   Others      BC   Others        BC\n",
       "11      BC      BC       BC      BC       BC        BC\n",
       "12      BC      BC   Others  Others   Others        BC\n",
       "13      BC      BC   Others      BC   Others        BC\n",
       "14      BC      BC       BC      BC   Others        BC\n",
       "15      BC      BC   Others      BC   Others        BC\n",
       "16      BC      BC   Others  Others       BC    Others\n",
       "17      BC  Others   Others  Others   Others        BC\n",
       "18      BC      BC       BC      BC       BC    Others\n",
       "19      BC      BC       BC      BC       BC        BC\n",
       "20      BC      BC   Others  Others   Others    Others\n",
       "21      BC  Others   Others  Others       BC        BC\n",
       "22      BC      BC   Others  Others       BC        BC\n",
       "23      BC      BC   Others  Others   Others        BC\n",
       "24      BC      BC   Others  Others   Others        BC\n",
       "25      BC      BC   Others  Others   Others        BC\n",
       "26      BC      BC   Others  Others   Others        BC\n",
       "27      BC      BC   Others  Others   Others        BC\n",
       "28      BC      BC   Others  Others       BC        BC\n",
       "29      BC      BC   Others  Others       BC        BC\n",
       "..     ...     ...      ...     ...      ...       ...\n",
       "10  Others      BC   Others  Others       BC        BC\n",
       "11  Others      BC   Others  Others   Others    Others\n",
       "12  Others      BC   Others  Others   Others        BC\n",
       "13  Others      BC   Others  Others   Others        BC\n",
       "14  Others      BC   Others  Others       BC        BC\n",
       "15  Others      BC   Others  Others       BC        BC\n",
       "16  Others      BC   Others  Others       BC    Others\n",
       "17  Others      BC   Others  Others       BC    Others\n",
       "18  Others  Others   Others  Others       BC    Others\n",
       "19  Others      BC   Others  Others   Others        BC\n",
       "20  Others      BC   Others  Others   Others        BC\n",
       "0   Others  Others   Others  Others   Others    Others\n",
       "1   Others      BC   Others  Others       BC        BC\n",
       "2   Others  Others   Others  Others   Others    Others\n",
       "3   Others  Others   Others  Others       BC    Others\n",
       "4   Others      BC   Others  Others   Others    Others\n",
       "5   Others      BC   Others  Others   Others    Others\n",
       "6   Others      BC   Others  Others       BC        BC\n",
       "7   Others      BC   Others  Others   Others        BC\n",
       "8   Others  Others   Others  Others   Others    Others\n",
       "9   Others      BC   Others  Others   Others        BC\n",
       "10  Others      BC   Others  Others       BC    Others\n",
       "11  Others      BC   Others  Others   Others        BC\n",
       "12  Others  Others   Others  Others   Others    Others\n",
       "13  Others      BC   Others  Others       BC        BC\n",
       "14  Others      BC   Others  Others       BC        BC\n",
       "15  Others      BC   Others  Others       BC        BC\n",
       "17  Others      BC   Others  Others       BC        BC\n",
       "18  Others      BC   Others  Others   Others    Others\n",
       "19  Others      BC   Others  Others       BC        BC\n",
       "\n",
       "[72 rows x 6 columns]"
      ]
     },
     "execution_count": 68,
     "metadata": {},
     "output_type": "execute_result"
    }
   ],
   "source": [
    "pd.DataFrame({'y_true' : y_test,\n",
    "             'rf_pred' : rf1_pred,'svm_pred' : svm1_pred,\n",
    "              'lr_pred' : lr1_pred, 'lda_pred' : lda_pred, 'tree_pred' : tree_pred})"
   ]
  },
  {
   "cell_type": "markdown",
   "metadata": {},
   "source": [
    "### stacking"
   ]
  },
  {
   "cell_type": "code",
   "execution_count": 45,
   "metadata": {
    "ExecuteTime": {
     "end_time": "2019-03-01T05:09:20.287474Z",
     "start_time": "2019-03-01T05:09:20.283451Z"
    }
   },
   "outputs": [],
   "source": [
    "from sklearn.model_selection import KFold\n",
    "cv = KFold(5, shuffle=True, random_state=0)"
   ]
  },
  {
   "cell_type": "code",
   "execution_count": 88,
   "metadata": {
    "ExecuteTime": {
     "end_time": "2019-03-01T07:34:51.309329Z",
     "start_time": "2019-03-01T07:34:43.207334Z"
    }
   },
   "outputs": [
    {
     "name": "stdout",
     "output_type": "stream",
     "text": [
      "              precision    recall  f1-score   support\n",
      "\n",
      "          BC       0.36      0.50      0.42        32\n",
      "      Others       0.43      0.30      0.35        40\n",
      "\n",
      "   micro avg       0.39      0.39      0.39        72\n",
      "   macro avg       0.40      0.40      0.39        72\n",
      "weighted avg       0.40      0.39      0.38        72\n",
      "\n",
      "[[16 16]\n",
      " [28 12]]\n"
     ]
    }
   ],
   "source": [
    "report,confus = stacking_3_models(TCGA_BC_Others, K15_BC_Others, rf1, lr1, lda)\n",
    "print(report)\n",
    "print(confus)"
   ]
  },
  {
   "cell_type": "code",
   "execution_count": 89,
   "metadata": {
    "ExecuteTime": {
     "end_time": "2019-03-01T07:35:10.913932Z",
     "start_time": "2019-03-01T07:35:00.194399Z"
    }
   },
   "outputs": [
    {
     "name": "stdout",
     "output_type": "stream",
     "text": [
      "              precision    recall  f1-score   support\n",
      "\n",
      "          BC       0.52      0.44      0.47        32\n",
      "      Others       0.60      0.68      0.64        40\n",
      "\n",
      "   micro avg       0.57      0.57      0.57        72\n",
      "   macro avg       0.56      0.56      0.55        72\n",
      "weighted avg       0.56      0.57      0.56        72\n",
      "\n",
      "[[14 18]\n",
      " [13 27]]\n"
     ]
    }
   ],
   "source": [
    "report,confus = stacking_3_models(TCGA_BC_Others, K15_BC_Others, rf1, lr1, tree)\n",
    "print(report)\n",
    "print(confus)"
   ]
  },
  {
   "cell_type": "code",
   "execution_count": 94,
   "metadata": {
    "ExecuteTime": {
     "end_time": "2019-03-01T07:37:07.901104Z",
     "start_time": "2019-03-01T07:36:44.659674Z"
    }
   },
   "outputs": [
    {
     "name": "stdout",
     "output_type": "stream",
     "text": [
      "              precision    recall  f1-score   support\n",
      "\n",
      "          BC       0.56      0.47      0.51        32\n",
      "      Others       0.62      0.70      0.66        40\n",
      "\n",
      "   micro avg       0.60      0.60      0.60        72\n",
      "   macro avg       0.59      0.58      0.58        72\n",
      "weighted avg       0.59      0.60      0.59        72\n",
      "\n",
      "[[15 17]\n",
      " [12 28]]\n"
     ]
    }
   ],
   "source": [
    "report,confus = stacking_3_models(TCGA_BC_Others, K15_BC_Others, svm1, lr1, tree)\n",
    "print(report)\n",
    "print(confus)"
   ]
  },
  {
   "cell_type": "code",
   "execution_count": 275,
   "metadata": {
    "ExecuteTime": {
     "end_time": "2019-03-01T06:52:22.306816Z",
     "start_time": "2019-03-01T06:52:22.273709Z"
    }
   },
   "outputs": [
    {
     "data": {
      "text/html": [
       "<div>\n",
       "<style scoped>\n",
       "    .dataframe tbody tr th:only-of-type {\n",
       "        vertical-align: middle;\n",
       "    }\n",
       "\n",
       "    .dataframe tbody tr th {\n",
       "        vertical-align: top;\n",
       "    }\n",
       "\n",
       "    .dataframe thead th {\n",
       "        text-align: right;\n",
       "    }\n",
       "</style>\n",
       "<table border=\"1\" class=\"dataframe\">\n",
       "  <thead>\n",
       "    <tr style=\"text-align: right;\">\n",
       "      <th></th>\n",
       "      <th>y_true</th>\n",
       "      <th>tree_stack</th>\n",
       "      <th>svm</th>\n",
       "      <th>lr</th>\n",
       "      <th>rf</th>\n",
       "      <th>lda</th>\n",
       "    </tr>\n",
       "  </thead>\n",
       "  <tbody>\n",
       "    <tr>\n",
       "      <th>0</th>\n",
       "      <td>BC</td>\n",
       "      <td>BC</td>\n",
       "      <td>Others</td>\n",
       "      <td>Others</td>\n",
       "      <td>BC</td>\n",
       "      <td>Others</td>\n",
       "    </tr>\n",
       "    <tr>\n",
       "      <th>1</th>\n",
       "      <td>BC</td>\n",
       "      <td>Others</td>\n",
       "      <td>Others</td>\n",
       "      <td>Others</td>\n",
       "      <td>BC</td>\n",
       "      <td>Others</td>\n",
       "    </tr>\n",
       "    <tr>\n",
       "      <th>2</th>\n",
       "      <td>BC</td>\n",
       "      <td>BC</td>\n",
       "      <td>Others</td>\n",
       "      <td>Others</td>\n",
       "      <td>BC</td>\n",
       "      <td>Others</td>\n",
       "    </tr>\n",
       "    <tr>\n",
       "      <th>3</th>\n",
       "      <td>BC</td>\n",
       "      <td>BC</td>\n",
       "      <td>Others</td>\n",
       "      <td>Others</td>\n",
       "      <td>BC</td>\n",
       "      <td>BC</td>\n",
       "    </tr>\n",
       "    <tr>\n",
       "      <th>4</th>\n",
       "      <td>BC</td>\n",
       "      <td>Others</td>\n",
       "      <td>BC</td>\n",
       "      <td>BC</td>\n",
       "      <td>BC</td>\n",
       "      <td>Others</td>\n",
       "    </tr>\n",
       "    <tr>\n",
       "      <th>5</th>\n",
       "      <td>BC</td>\n",
       "      <td>Others</td>\n",
       "      <td>Others</td>\n",
       "      <td>Others</td>\n",
       "      <td>BC</td>\n",
       "      <td>Others</td>\n",
       "    </tr>\n",
       "    <tr>\n",
       "      <th>6</th>\n",
       "      <td>BC</td>\n",
       "      <td>BC</td>\n",
       "      <td>Others</td>\n",
       "      <td>Others</td>\n",
       "      <td>BC</td>\n",
       "      <td>Others</td>\n",
       "    </tr>\n",
       "    <tr>\n",
       "      <th>7</th>\n",
       "      <td>BC</td>\n",
       "      <td>BC</td>\n",
       "      <td>Others</td>\n",
       "      <td>BC</td>\n",
       "      <td>BC</td>\n",
       "      <td>BC</td>\n",
       "    </tr>\n",
       "    <tr>\n",
       "      <th>8</th>\n",
       "      <td>BC</td>\n",
       "      <td>BC</td>\n",
       "      <td>Others</td>\n",
       "      <td>Others</td>\n",
       "      <td>BC</td>\n",
       "      <td>Others</td>\n",
       "    </tr>\n",
       "    <tr>\n",
       "      <th>9</th>\n",
       "      <td>BC</td>\n",
       "      <td>Others</td>\n",
       "      <td>Others</td>\n",
       "      <td>Others</td>\n",
       "      <td>Others</td>\n",
       "      <td>Others</td>\n",
       "    </tr>\n",
       "    <tr>\n",
       "      <th>10</th>\n",
       "      <td>BC</td>\n",
       "      <td>BC</td>\n",
       "      <td>Others</td>\n",
       "      <td>BC</td>\n",
       "      <td>BC</td>\n",
       "      <td>Others</td>\n",
       "    </tr>\n",
       "    <tr>\n",
       "      <th>11</th>\n",
       "      <td>BC</td>\n",
       "      <td>BC</td>\n",
       "      <td>BC</td>\n",
       "      <td>BC</td>\n",
       "      <td>BC</td>\n",
       "      <td>BC</td>\n",
       "    </tr>\n",
       "    <tr>\n",
       "      <th>12</th>\n",
       "      <td>BC</td>\n",
       "      <td>BC</td>\n",
       "      <td>Others</td>\n",
       "      <td>Others</td>\n",
       "      <td>BC</td>\n",
       "      <td>Others</td>\n",
       "    </tr>\n",
       "    <tr>\n",
       "      <th>13</th>\n",
       "      <td>BC</td>\n",
       "      <td>BC</td>\n",
       "      <td>Others</td>\n",
       "      <td>BC</td>\n",
       "      <td>BC</td>\n",
       "      <td>Others</td>\n",
       "    </tr>\n",
       "    <tr>\n",
       "      <th>14</th>\n",
       "      <td>BC</td>\n",
       "      <td>Others</td>\n",
       "      <td>BC</td>\n",
       "      <td>BC</td>\n",
       "      <td>BC</td>\n",
       "      <td>Others</td>\n",
       "    </tr>\n",
       "    <tr>\n",
       "      <th>15</th>\n",
       "      <td>BC</td>\n",
       "      <td>BC</td>\n",
       "      <td>Others</td>\n",
       "      <td>BC</td>\n",
       "      <td>BC</td>\n",
       "      <td>Others</td>\n",
       "    </tr>\n",
       "    <tr>\n",
       "      <th>16</th>\n",
       "      <td>BC</td>\n",
       "      <td>BC</td>\n",
       "      <td>Others</td>\n",
       "      <td>Others</td>\n",
       "      <td>BC</td>\n",
       "      <td>BC</td>\n",
       "    </tr>\n",
       "    <tr>\n",
       "      <th>17</th>\n",
       "      <td>BC</td>\n",
       "      <td>BC</td>\n",
       "      <td>Others</td>\n",
       "      <td>Others</td>\n",
       "      <td>BC</td>\n",
       "      <td>Others</td>\n",
       "    </tr>\n",
       "    <tr>\n",
       "      <th>18</th>\n",
       "      <td>BC</td>\n",
       "      <td>BC</td>\n",
       "      <td>BC</td>\n",
       "      <td>BC</td>\n",
       "      <td>BC</td>\n",
       "      <td>BC</td>\n",
       "    </tr>\n",
       "    <tr>\n",
       "      <th>19</th>\n",
       "      <td>BC</td>\n",
       "      <td>BC</td>\n",
       "      <td>BC</td>\n",
       "      <td>BC</td>\n",
       "      <td>BC</td>\n",
       "      <td>BC</td>\n",
       "    </tr>\n",
       "    <tr>\n",
       "      <th>20</th>\n",
       "      <td>BC</td>\n",
       "      <td>BC</td>\n",
       "      <td>Others</td>\n",
       "      <td>Others</td>\n",
       "      <td>BC</td>\n",
       "      <td>Others</td>\n",
       "    </tr>\n",
       "    <tr>\n",
       "      <th>21</th>\n",
       "      <td>BC</td>\n",
       "      <td>Others</td>\n",
       "      <td>Others</td>\n",
       "      <td>Others</td>\n",
       "      <td>Others</td>\n",
       "      <td>BC</td>\n",
       "    </tr>\n",
       "    <tr>\n",
       "      <th>22</th>\n",
       "      <td>BC</td>\n",
       "      <td>Others</td>\n",
       "      <td>Others</td>\n",
       "      <td>Others</td>\n",
       "      <td>BC</td>\n",
       "      <td>BC</td>\n",
       "    </tr>\n",
       "    <tr>\n",
       "      <th>23</th>\n",
       "      <td>BC</td>\n",
       "      <td>BC</td>\n",
       "      <td>Others</td>\n",
       "      <td>Others</td>\n",
       "      <td>BC</td>\n",
       "      <td>Others</td>\n",
       "    </tr>\n",
       "    <tr>\n",
       "      <th>24</th>\n",
       "      <td>BC</td>\n",
       "      <td>Others</td>\n",
       "      <td>Others</td>\n",
       "      <td>Others</td>\n",
       "      <td>BC</td>\n",
       "      <td>Others</td>\n",
       "    </tr>\n",
       "    <tr>\n",
       "      <th>25</th>\n",
       "      <td>BC</td>\n",
       "      <td>BC</td>\n",
       "      <td>Others</td>\n",
       "      <td>Others</td>\n",
       "      <td>BC</td>\n",
       "      <td>Others</td>\n",
       "    </tr>\n",
       "    <tr>\n",
       "      <th>26</th>\n",
       "      <td>BC</td>\n",
       "      <td>Others</td>\n",
       "      <td>Others</td>\n",
       "      <td>Others</td>\n",
       "      <td>BC</td>\n",
       "      <td>Others</td>\n",
       "    </tr>\n",
       "    <tr>\n",
       "      <th>27</th>\n",
       "      <td>BC</td>\n",
       "      <td>BC</td>\n",
       "      <td>Others</td>\n",
       "      <td>Others</td>\n",
       "      <td>BC</td>\n",
       "      <td>Others</td>\n",
       "    </tr>\n",
       "    <tr>\n",
       "      <th>28</th>\n",
       "      <td>BC</td>\n",
       "      <td>BC</td>\n",
       "      <td>Others</td>\n",
       "      <td>Others</td>\n",
       "      <td>BC</td>\n",
       "      <td>BC</td>\n",
       "    </tr>\n",
       "    <tr>\n",
       "      <th>29</th>\n",
       "      <td>BC</td>\n",
       "      <td>BC</td>\n",
       "      <td>Others</td>\n",
       "      <td>Others</td>\n",
       "      <td>BC</td>\n",
       "      <td>BC</td>\n",
       "    </tr>\n",
       "    <tr>\n",
       "      <th>...</th>\n",
       "      <td>...</td>\n",
       "      <td>...</td>\n",
       "      <td>...</td>\n",
       "      <td>...</td>\n",
       "      <td>...</td>\n",
       "      <td>...</td>\n",
       "    </tr>\n",
       "    <tr>\n",
       "      <th>10</th>\n",
       "      <td>Others</td>\n",
       "      <td>BC</td>\n",
       "      <td>Others</td>\n",
       "      <td>Others</td>\n",
       "      <td>BC</td>\n",
       "      <td>BC</td>\n",
       "    </tr>\n",
       "    <tr>\n",
       "      <th>11</th>\n",
       "      <td>Others</td>\n",
       "      <td>BC</td>\n",
       "      <td>Others</td>\n",
       "      <td>Others</td>\n",
       "      <td>BC</td>\n",
       "      <td>Others</td>\n",
       "    </tr>\n",
       "    <tr>\n",
       "      <th>12</th>\n",
       "      <td>Others</td>\n",
       "      <td>Others</td>\n",
       "      <td>Others</td>\n",
       "      <td>Others</td>\n",
       "      <td>Others</td>\n",
       "      <td>Others</td>\n",
       "    </tr>\n",
       "    <tr>\n",
       "      <th>13</th>\n",
       "      <td>Others</td>\n",
       "      <td>BC</td>\n",
       "      <td>Others</td>\n",
       "      <td>Others</td>\n",
       "      <td>BC</td>\n",
       "      <td>Others</td>\n",
       "    </tr>\n",
       "    <tr>\n",
       "      <th>14</th>\n",
       "      <td>Others</td>\n",
       "      <td>Others</td>\n",
       "      <td>Others</td>\n",
       "      <td>Others</td>\n",
       "      <td>BC</td>\n",
       "      <td>BC</td>\n",
       "    </tr>\n",
       "    <tr>\n",
       "      <th>15</th>\n",
       "      <td>Others</td>\n",
       "      <td>BC</td>\n",
       "      <td>Others</td>\n",
       "      <td>Others</td>\n",
       "      <td>BC</td>\n",
       "      <td>BC</td>\n",
       "    </tr>\n",
       "    <tr>\n",
       "      <th>16</th>\n",
       "      <td>Others</td>\n",
       "      <td>BC</td>\n",
       "      <td>Others</td>\n",
       "      <td>Others</td>\n",
       "      <td>BC</td>\n",
       "      <td>BC</td>\n",
       "    </tr>\n",
       "    <tr>\n",
       "      <th>17</th>\n",
       "      <td>Others</td>\n",
       "      <td>BC</td>\n",
       "      <td>Others</td>\n",
       "      <td>Others</td>\n",
       "      <td>BC</td>\n",
       "      <td>BC</td>\n",
       "    </tr>\n",
       "    <tr>\n",
       "      <th>18</th>\n",
       "      <td>Others</td>\n",
       "      <td>Others</td>\n",
       "      <td>Others</td>\n",
       "      <td>Others</td>\n",
       "      <td>BC</td>\n",
       "      <td>BC</td>\n",
       "    </tr>\n",
       "    <tr>\n",
       "      <th>19</th>\n",
       "      <td>Others</td>\n",
       "      <td>Others</td>\n",
       "      <td>Others</td>\n",
       "      <td>Others</td>\n",
       "      <td>BC</td>\n",
       "      <td>Others</td>\n",
       "    </tr>\n",
       "    <tr>\n",
       "      <th>20</th>\n",
       "      <td>Others</td>\n",
       "      <td>BC</td>\n",
       "      <td>Others</td>\n",
       "      <td>Others</td>\n",
       "      <td>BC</td>\n",
       "      <td>Others</td>\n",
       "    </tr>\n",
       "    <tr>\n",
       "      <th>0</th>\n",
       "      <td>Others</td>\n",
       "      <td>Others</td>\n",
       "      <td>Others</td>\n",
       "      <td>Others</td>\n",
       "      <td>BC</td>\n",
       "      <td>Others</td>\n",
       "    </tr>\n",
       "    <tr>\n",
       "      <th>1</th>\n",
       "      <td>Others</td>\n",
       "      <td>BC</td>\n",
       "      <td>Others</td>\n",
       "      <td>Others</td>\n",
       "      <td>BC</td>\n",
       "      <td>BC</td>\n",
       "    </tr>\n",
       "    <tr>\n",
       "      <th>2</th>\n",
       "      <td>Others</td>\n",
       "      <td>Others</td>\n",
       "      <td>Others</td>\n",
       "      <td>Others</td>\n",
       "      <td>BC</td>\n",
       "      <td>Others</td>\n",
       "    </tr>\n",
       "    <tr>\n",
       "      <th>3</th>\n",
       "      <td>Others</td>\n",
       "      <td>BC</td>\n",
       "      <td>Others</td>\n",
       "      <td>Others</td>\n",
       "      <td>Others</td>\n",
       "      <td>BC</td>\n",
       "    </tr>\n",
       "    <tr>\n",
       "      <th>4</th>\n",
       "      <td>Others</td>\n",
       "      <td>Others</td>\n",
       "      <td>Others</td>\n",
       "      <td>Others</td>\n",
       "      <td>Others</td>\n",
       "      <td>Others</td>\n",
       "    </tr>\n",
       "    <tr>\n",
       "      <th>5</th>\n",
       "      <td>Others</td>\n",
       "      <td>BC</td>\n",
       "      <td>Others</td>\n",
       "      <td>Others</td>\n",
       "      <td>BC</td>\n",
       "      <td>Others</td>\n",
       "    </tr>\n",
       "    <tr>\n",
       "      <th>6</th>\n",
       "      <td>Others</td>\n",
       "      <td>BC</td>\n",
       "      <td>Others</td>\n",
       "      <td>Others</td>\n",
       "      <td>BC</td>\n",
       "      <td>BC</td>\n",
       "    </tr>\n",
       "    <tr>\n",
       "      <th>7</th>\n",
       "      <td>Others</td>\n",
       "      <td>Others</td>\n",
       "      <td>Others</td>\n",
       "      <td>Others</td>\n",
       "      <td>BC</td>\n",
       "      <td>Others</td>\n",
       "    </tr>\n",
       "    <tr>\n",
       "      <th>8</th>\n",
       "      <td>Others</td>\n",
       "      <td>Others</td>\n",
       "      <td>Others</td>\n",
       "      <td>Others</td>\n",
       "      <td>Others</td>\n",
       "      <td>Others</td>\n",
       "    </tr>\n",
       "    <tr>\n",
       "      <th>9</th>\n",
       "      <td>Others</td>\n",
       "      <td>BC</td>\n",
       "      <td>Others</td>\n",
       "      <td>Others</td>\n",
       "      <td>BC</td>\n",
       "      <td>Others</td>\n",
       "    </tr>\n",
       "    <tr>\n",
       "      <th>10</th>\n",
       "      <td>Others</td>\n",
       "      <td>Others</td>\n",
       "      <td>Others</td>\n",
       "      <td>Others</td>\n",
       "      <td>BC</td>\n",
       "      <td>BC</td>\n",
       "    </tr>\n",
       "    <tr>\n",
       "      <th>11</th>\n",
       "      <td>Others</td>\n",
       "      <td>BC</td>\n",
       "      <td>Others</td>\n",
       "      <td>Others</td>\n",
       "      <td>BC</td>\n",
       "      <td>Others</td>\n",
       "    </tr>\n",
       "    <tr>\n",
       "      <th>12</th>\n",
       "      <td>Others</td>\n",
       "      <td>Others</td>\n",
       "      <td>Others</td>\n",
       "      <td>Others</td>\n",
       "      <td>Others</td>\n",
       "      <td>Others</td>\n",
       "    </tr>\n",
       "    <tr>\n",
       "      <th>13</th>\n",
       "      <td>Others</td>\n",
       "      <td>BC</td>\n",
       "      <td>Others</td>\n",
       "      <td>Others</td>\n",
       "      <td>BC</td>\n",
       "      <td>BC</td>\n",
       "    </tr>\n",
       "    <tr>\n",
       "      <th>14</th>\n",
       "      <td>Others</td>\n",
       "      <td>BC</td>\n",
       "      <td>Others</td>\n",
       "      <td>Others</td>\n",
       "      <td>BC</td>\n",
       "      <td>BC</td>\n",
       "    </tr>\n",
       "    <tr>\n",
       "      <th>15</th>\n",
       "      <td>Others</td>\n",
       "      <td>BC</td>\n",
       "      <td>Others</td>\n",
       "      <td>Others</td>\n",
       "      <td>BC</td>\n",
       "      <td>BC</td>\n",
       "    </tr>\n",
       "    <tr>\n",
       "      <th>17</th>\n",
       "      <td>Others</td>\n",
       "      <td>BC</td>\n",
       "      <td>Others</td>\n",
       "      <td>Others</td>\n",
       "      <td>BC</td>\n",
       "      <td>BC</td>\n",
       "    </tr>\n",
       "    <tr>\n",
       "      <th>18</th>\n",
       "      <td>Others</td>\n",
       "      <td>Others</td>\n",
       "      <td>Others</td>\n",
       "      <td>Others</td>\n",
       "      <td>Others</td>\n",
       "      <td>Others</td>\n",
       "    </tr>\n",
       "    <tr>\n",
       "      <th>19</th>\n",
       "      <td>Others</td>\n",
       "      <td>BC</td>\n",
       "      <td>Others</td>\n",
       "      <td>Others</td>\n",
       "      <td>BC</td>\n",
       "      <td>BC</td>\n",
       "    </tr>\n",
       "  </tbody>\n",
       "</table>\n",
       "<p>72 rows × 6 columns</p>\n",
       "</div>"
      ],
      "text/plain": [
       "    y_true tree_stack     svm      lr      rf     lda\n",
       "0       BC         BC  Others  Others      BC  Others\n",
       "1       BC     Others  Others  Others      BC  Others\n",
       "2       BC         BC  Others  Others      BC  Others\n",
       "3       BC         BC  Others  Others      BC      BC\n",
       "4       BC     Others      BC      BC      BC  Others\n",
       "5       BC     Others  Others  Others      BC  Others\n",
       "6       BC         BC  Others  Others      BC  Others\n",
       "7       BC         BC  Others      BC      BC      BC\n",
       "8       BC         BC  Others  Others      BC  Others\n",
       "9       BC     Others  Others  Others  Others  Others\n",
       "10      BC         BC  Others      BC      BC  Others\n",
       "11      BC         BC      BC      BC      BC      BC\n",
       "12      BC         BC  Others  Others      BC  Others\n",
       "13      BC         BC  Others      BC      BC  Others\n",
       "14      BC     Others      BC      BC      BC  Others\n",
       "15      BC         BC  Others      BC      BC  Others\n",
       "16      BC         BC  Others  Others      BC      BC\n",
       "17      BC         BC  Others  Others      BC  Others\n",
       "18      BC         BC      BC      BC      BC      BC\n",
       "19      BC         BC      BC      BC      BC      BC\n",
       "20      BC         BC  Others  Others      BC  Others\n",
       "21      BC     Others  Others  Others  Others      BC\n",
       "22      BC     Others  Others  Others      BC      BC\n",
       "23      BC         BC  Others  Others      BC  Others\n",
       "24      BC     Others  Others  Others      BC  Others\n",
       "25      BC         BC  Others  Others      BC  Others\n",
       "26      BC     Others  Others  Others      BC  Others\n",
       "27      BC         BC  Others  Others      BC  Others\n",
       "28      BC         BC  Others  Others      BC      BC\n",
       "29      BC         BC  Others  Others      BC      BC\n",
       "..     ...        ...     ...     ...     ...     ...\n",
       "10  Others         BC  Others  Others      BC      BC\n",
       "11  Others         BC  Others  Others      BC  Others\n",
       "12  Others     Others  Others  Others  Others  Others\n",
       "13  Others         BC  Others  Others      BC  Others\n",
       "14  Others     Others  Others  Others      BC      BC\n",
       "15  Others         BC  Others  Others      BC      BC\n",
       "16  Others         BC  Others  Others      BC      BC\n",
       "17  Others         BC  Others  Others      BC      BC\n",
       "18  Others     Others  Others  Others      BC      BC\n",
       "19  Others     Others  Others  Others      BC  Others\n",
       "20  Others         BC  Others  Others      BC  Others\n",
       "0   Others     Others  Others  Others      BC  Others\n",
       "1   Others         BC  Others  Others      BC      BC\n",
       "2   Others     Others  Others  Others      BC  Others\n",
       "3   Others         BC  Others  Others  Others      BC\n",
       "4   Others     Others  Others  Others  Others  Others\n",
       "5   Others         BC  Others  Others      BC  Others\n",
       "6   Others         BC  Others  Others      BC      BC\n",
       "7   Others     Others  Others  Others      BC  Others\n",
       "8   Others     Others  Others  Others  Others  Others\n",
       "9   Others         BC  Others  Others      BC  Others\n",
       "10  Others     Others  Others  Others      BC      BC\n",
       "11  Others         BC  Others  Others      BC  Others\n",
       "12  Others     Others  Others  Others  Others  Others\n",
       "13  Others         BC  Others  Others      BC      BC\n",
       "14  Others         BC  Others  Others      BC      BC\n",
       "15  Others         BC  Others  Others      BC      BC\n",
       "17  Others         BC  Others  Others      BC      BC\n",
       "18  Others     Others  Others  Others  Others  Others\n",
       "19  Others         BC  Others  Others      BC      BC\n",
       "\n",
       "[72 rows x 6 columns]"
      ]
     },
     "execution_count": 275,
     "metadata": {},
     "output_type": "execute_result"
    }
   ],
   "source": [
    "pd.DataFrame({'y_true' : y_test, 'tree_stack' : tree.predict(x_test),\n",
    "            'svm' : svm1_pred, 'lr' : lr1_pred, 'rf': rf1_pred,'lda' : lda_pred})"
   ]
  },
  {
   "cell_type": "code",
   "execution_count": null,
   "metadata": {},
   "outputs": [],
   "source": []
  }
 ],
 "metadata": {
  "hide_input": false,
  "kernelspec": {
   "display_name": "Python 3",
   "language": "python",
   "name": "python3"
  },
  "language_info": {
   "codemirror_mode": {
    "name": "ipython",
    "version": 3
   },
   "file_extension": ".py",
   "mimetype": "text/x-python",
   "name": "python",
   "nbconvert_exporter": "python",
   "pygments_lexer": "ipython3",
   "version": "3.7.1"
  },
  "latex_envs": {
   "LaTeX_envs_menu_present": true,
   "autoclose": false,
   "autocomplete": true,
   "bibliofile": "biblio.bib",
   "cite_by": "apalike",
   "current_citInitial": 1,
   "eqLabelWithNumbers": true,
   "eqNumInitial": 1,
   "hotkeys": {
    "equation": "Ctrl-E",
    "itemize": "Ctrl-I"
   },
   "labels_anchors": false,
   "latex_user_defs": false,
   "report_style_numbering": false,
   "user_envs_cfg": false
  },
  "notify_time": "30",
  "toc": {
   "base_numbering": 1,
   "nav_menu": {},
   "number_sections": true,
   "sideBar": true,
   "skip_h1_title": false,
   "title_cell": "Table of Contents",
   "title_sidebar": "Contents",
   "toc_cell": false,
   "toc_position": {
    "height": "calc(100% - 180px)",
    "left": "10px",
    "top": "150px",
    "width": "383.977px"
   },
   "toc_section_display": true,
   "toc_window_display": true
  }
 },
 "nbformat": 4,
 "nbformat_minor": 2
}
