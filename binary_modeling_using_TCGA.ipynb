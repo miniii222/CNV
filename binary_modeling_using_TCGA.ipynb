{
 "cells": [
  {
   "cell_type": "code",
   "execution_count": 1,
   "metadata": {
    "ExecuteTime": {
     "end_time": "2019-02-28T04:34:55.460427Z",
     "start_time": "2019-02-28T04:34:52.139159Z"
    }
   },
   "outputs": [],
   "source": [
    "import numpy as np\n",
    "import pandas as pd\n",
    "from matplotlib import pyplot as plt"
   ]
  },
  {
   "cell_type": "markdown",
   "metadata": {},
   "source": [
    "# 데이터 불러오기 및 전처리"
   ]
  },
  {
   "cell_type": "markdown",
   "metadata": {},
   "source": [
    "## TCGA"
   ]
  },
  {
   "cell_type": "code",
   "execution_count": 22,
   "metadata": {
    "ExecuteTime": {
     "end_time": "2019-02-28T04:48:10.179778Z",
     "start_time": "2019-02-28T04:48:08.467394Z"
    }
   },
   "outputs": [],
   "source": [
    "TCGA = pd.read_csv('TCGA_data.csv')"
   ]
  },
  {
   "cell_type": "code",
   "execution_count": 23,
   "metadata": {
    "ExecuteTime": {
     "end_time": "2019-02-28T04:48:10.712362Z",
     "start_time": "2019-02-28T04:48:10.682446Z"
    }
   },
   "outputs": [],
   "source": [
    "TCGA.loc[(TCGA.y == 'BLCA'),'y'] = 'BC'\n",
    "TCGA.loc[(TCGA.y == 'PRAD'),'y'] = 'PC'\n",
    "TCGA.loc[(TCGA.y == 'KICH'),'y'] = 'RC'\n",
    "TCGA.loc[(TCGA.y == 'KIRC'),'y'] = 'RC'\n",
    "TCGA.loc[(TCGA.y == 'KIRP'),'y'] = 'RC'"
   ]
  },
  {
   "cell_type": "code",
   "execution_count": 24,
   "metadata": {
    "ExecuteTime": {
     "end_time": "2019-02-28T04:48:11.004043Z",
     "start_time": "2019-02-28T04:48:10.994106Z"
    }
   },
   "outputs": [
    {
     "data": {
      "text/plain": [
       "Normal    1706\n",
       "RC         882\n",
       "PC         492\n",
       "BC         408\n",
       "Name: y, dtype: int64"
      ]
     },
     "execution_count": 24,
     "metadata": {},
     "output_type": "execute_result"
    }
   ],
   "source": [
    "TCGA.y.value_counts()"
   ]
  },
  {
   "cell_type": "markdown",
   "metadata": {},
   "source": [
    "## K15"
   ]
  },
  {
   "cell_type": "code",
   "execution_count": null,
   "metadata": {},
   "outputs": [],
   "source": [
    "BC_15 = pd.read_csv('BC_32ea_k15_cyto.csv')\n",
    "Normal_15 = pd.read_csv('Normal_21ea_k15_cyto.csv')\n",
    "PC_15 = pd.read_csv('PC_20ea_k15_cyto.csv')\n",
    "\n",
    "#drop person id\n",
    "BC_15.drop('Unnamed: 0', axis = 1, inplace = True)\n",
    "Normal_15.drop('Unnamed: 0', axis = 1, inplace = True)\n",
    "PC_15.drop('Unnamed: 0', axis = 1, inplace = True)\n",
    "\n",
    "BC_15['cancer'] = 'BC'\n",
    "Normal_15['cancer'] = 'normal'\n",
    "PC_15['cancer'] = 'PC'\n",
    "\n",
    "K15 = pd.concat([BC_15,Normal_15,PC_15], axis = 0)\n",
    "K15.dropna(inplace=True, axis=0)"
   ]
  },
  {
   "cell_type": "markdown",
   "metadata": {},
   "source": [
    "## K100"
   ]
  },
  {
   "cell_type": "code",
   "execution_count": null,
   "metadata": {},
   "outputs": [],
   "source": []
  },
  {
   "cell_type": "markdown",
   "metadata": {},
   "source": [
    "## 공통 COLUMN"
   ]
  },
  {
   "cell_type": "code",
   "execution_count": 61,
   "metadata": {
    "ExecuteTime": {
     "end_time": "2019-02-28T05:04:00.458793Z",
     "start_time": "2019-02-28T05:04:00.433859Z"
    }
   },
   "outputs": [],
   "source": [
    "TCGA2 = TCGA.drop(list(set(TCGA.columns[:-1]) - set(K15.columns)), axis = 1)\n",
    "K15_2 = K15.drop(list(set(K15.columns[:-1]) - set(TCGA.columns)), axis = 1)"
   ]
  },
  {
   "cell_type": "markdown",
   "metadata": {},
   "source": [
    "### BC-Normal"
   ]
  },
  {
   "cell_type": "markdown",
   "metadata": {},
   "source": [
    "#### TCGA data"
   ]
  },
  {
   "cell_type": "code",
   "execution_count": 39,
   "metadata": {
    "ExecuteTime": {
     "end_time": "2019-02-28T04:53:44.125116Z",
     "start_time": "2019-02-28T04:53:44.106167Z"
    }
   },
   "outputs": [
    {
     "data": {
      "text/plain": [
       "Normal    1706\n",
       "BC         408\n",
       "Name: y, dtype: int64"
      ]
     },
     "execution_count": 39,
     "metadata": {},
     "output_type": "execute_result"
    }
   ],
   "source": [
    "TCGA_BC_Norm = TCGA2.loc[(TCGA2.y == 'BC') | (TCGA2.y == 'Normal') ]\n",
    "#reset_index\n",
    "TCGA_BC_Norm.reset_index(inplace = True, drop=True)\n",
    "TCGA_BC_Norm['y'].value_counts()"
   ]
  },
  {
   "cell_type": "code",
   "execution_count": 42,
   "metadata": {
    "ExecuteTime": {
     "end_time": "2019-02-28T04:54:23.871087Z",
     "start_time": "2019-02-28T04:54:23.851141Z"
    }
   },
   "outputs": [
    {
     "name": "stdout",
     "output_type": "stream",
     "text": [
      "BC비율 :  0.19299905392620625\n",
      "Normal비율 :  0.8070009460737938\n"
     ]
    }
   ],
   "source": [
    "print('BC비율 : ',len(TCGA_BC_Norm[TCGA_BC_Norm.y == 'BC']) / len(TCGA_BC_Norm))\n",
    "print('Normal비율 : ',len(TCGA_BC_Norm[TCGA_BC_Norm.y == 'Normal']) / len(TCGA_BC_Norm))"
   ]
  },
  {
   "cell_type": "markdown",
   "metadata": {},
   "source": [
    "#### urine data"
   ]
  },
  {
   "cell_type": "code",
   "execution_count": 62,
   "metadata": {
    "ExecuteTime": {
     "end_time": "2019-02-28T05:04:06.305090Z",
     "start_time": "2019-02-28T05:04:06.298119Z"
    }
   },
   "outputs": [
    {
     "data": {
      "text/plain": [
       "BC        32\n",
       "normal    21\n",
       "PC        19\n",
       "Name: cancer, dtype: int64"
      ]
     },
     "execution_count": 62,
     "metadata": {},
     "output_type": "execute_result"
    }
   ],
   "source": [
    "K15_2.cancer.value_counts()"
   ]
  },
  {
   "cell_type": "code",
   "execution_count": 63,
   "metadata": {
    "ExecuteTime": {
     "end_time": "2019-02-28T05:04:09.516916Z",
     "start_time": "2019-02-28T05:04:09.505943Z"
    }
   },
   "outputs": [],
   "source": [
    "K15_2.loc[K15_2.cancer == 'normal','cancer'] = 'Normal'"
   ]
  },
  {
   "cell_type": "code",
   "execution_count": 174,
   "metadata": {
    "ExecuteTime": {
     "end_time": "2019-02-28T06:30:16.339766Z",
     "start_time": "2019-02-28T06:30:16.326449Z"
    }
   },
   "outputs": [
    {
     "data": {
      "text/plain": [
       "BC        32\n",
       "Normal    21\n",
       "Name: cancer, dtype: int64"
      ]
     },
     "execution_count": 174,
     "metadata": {},
     "output_type": "execute_result"
    }
   ],
   "source": [
    "K15_BC_Norm = K15_2.loc[(K15_2.cancer == 'BC') | (K15_2.cancer == 'Normal') ]\n",
    "#reset_index\n",
    "K15_BC_Norm.reset_index(inplace = True, drop=True)\n",
    "K15_BC_Norm['cancer'].value_counts()"
   ]
  },
  {
   "cell_type": "code",
   "execution_count": 66,
   "metadata": {
    "ExecuteTime": {
     "end_time": "2019-02-28T05:04:42.755693Z",
     "start_time": "2019-02-28T05:04:42.746716Z"
    }
   },
   "outputs": [
    {
     "name": "stdout",
     "output_type": "stream",
     "text": [
      "BC비율 :  0.6037735849056604\n",
      "Normal비율 :  0.39622641509433965\n"
     ]
    }
   ],
   "source": [
    "print('BC비율 : ',len(K15_BC_Norm[K15_BC_Norm.cancer == 'BC']) / len(K15_BC_Norm))\n",
    "print('Normal비율 : ',len(K15_BC_Norm[K15_BC_Norm.cancer == 'Normal']) / len(K15_BC_Norm))"
   ]
  },
  {
   "cell_type": "markdown",
   "metadata": {},
   "source": [
    "### BC-Others"
   ]
  },
  {
   "cell_type": "markdown",
   "metadata": {},
   "source": [
    "#### TCGA data"
   ]
  },
  {
   "cell_type": "code",
   "execution_count": 192,
   "metadata": {
    "ExecuteTime": {
     "end_time": "2019-02-28T07:14:12.029315Z",
     "start_time": "2019-02-28T07:14:12.010368Z"
    }
   },
   "outputs": [],
   "source": [
    "TCGA_BC_Others = TCGA2.copy()\n",
    "TCGA_BC_Others['target'] =0\n",
    "TCGA_BC_Others.loc[TCGA_BC_Others.y == 'BC', 'target'] = 1"
   ]
  },
  {
   "cell_type": "code",
   "execution_count": 193,
   "metadata": {
    "ExecuteTime": {
     "end_time": "2019-02-28T07:14:12.397536Z",
     "start_time": "2019-02-28T07:14:12.388559Z"
    }
   },
   "outputs": [
    {
     "data": {
      "text/plain": [
       "0    3080\n",
       "1     408\n",
       "Name: target, dtype: int64"
      ]
     },
     "execution_count": 193,
     "metadata": {},
     "output_type": "execute_result"
    }
   ],
   "source": [
    "TCGA_BC_Others.target.value_counts()"
   ]
  },
  {
   "cell_type": "code",
   "execution_count": 197,
   "metadata": {
    "ExecuteTime": {
     "end_time": "2019-02-28T07:16:34.396862Z",
     "start_time": "2019-02-28T07:16:34.365944Z"
    }
   },
   "outputs": [
    {
     "name": "stdout",
     "output_type": "stream",
     "text": [
      "BC 비율 :  0.11697247706422019\n",
      "Others 비율 :  0.8830275229357798\n"
     ]
    }
   ],
   "source": [
    "print('BC 비율 : ',len(TCGA_BC_Others[TCGA_BC_Others.target == 1]) / len(TCGA_BC_Others))\n",
    "print('Others 비율 : ',len(TCGA_BC_Others[TCGA_BC_Others.target == 0]) / len(TCGA_BC_Others))"
   ]
  },
  {
   "cell_type": "markdown",
   "metadata": {},
   "source": [
    "#### urine data"
   ]
  },
  {
   "cell_type": "code",
   "execution_count": 62,
   "metadata": {
    "ExecuteTime": {
     "end_time": "2019-02-28T05:04:06.305090Z",
     "start_time": "2019-02-28T05:04:06.298119Z"
    }
   },
   "outputs": [
    {
     "data": {
      "text/plain": [
       "BC        32\n",
       "normal    21\n",
       "PC        19\n",
       "Name: cancer, dtype: int64"
      ]
     },
     "execution_count": 62,
     "metadata": {},
     "output_type": "execute_result"
    }
   ],
   "source": [
    "K15_2.cancer.value_counts()"
   ]
  },
  {
   "cell_type": "code",
   "execution_count": 194,
   "metadata": {
    "ExecuteTime": {
     "end_time": "2019-02-28T07:15:43.621400Z",
     "start_time": "2019-02-28T07:15:43.610430Z"
    }
   },
   "outputs": [],
   "source": [
    "K15_BC_Others = K15_2.copy()\n",
    "K15_BC_Others['target'] =0\n",
    "K15_BC_Others.loc[K15_BC_Others.cancer == 'BC', 'target'] = 1"
   ]
  },
  {
   "cell_type": "code",
   "execution_count": 198,
   "metadata": {
    "ExecuteTime": {
     "end_time": "2019-02-28T07:16:39.080220Z",
     "start_time": "2019-02-28T07:16:39.069245Z"
    }
   },
   "outputs": [
    {
     "name": "stdout",
     "output_type": "stream",
     "text": [
      "BC비율 :  0.4444444444444444\n",
      "Others비율 :  0.5555555555555556\n"
     ]
    }
   ],
   "source": [
    "print('BC비율 : ',len(K15_BC_Others[K15_BC_Others.target == 1]) / len(K15_BC_Others))\n",
    "print('Others비율 : ',len(K15_BC_Others[K15_BC_Others.target == 0]) / len(K15_BC_Others))"
   ]
  },
  {
   "cell_type": "markdown",
   "metadata": {},
   "source": [
    "# Modeling"
   ]
  },
  {
   "cell_type": "code",
   "execution_count": 44,
   "metadata": {
    "ExecuteTime": {
     "end_time": "2019-02-28T04:55:18.335822Z",
     "start_time": "2019-02-28T04:55:18.330825Z"
    }
   },
   "outputs": [],
   "source": [
    "from sklearn.ensemble import RandomForestClassifier\n",
    "rf1 = RandomForestClassifier()\n",
    "from sklearn.svm import SVC\n",
    "svm1 = SVC(gamma='auto')\n",
    "from sklearn.linear_model import LogisticRegression\n",
    "lr1 = LogisticRegression()\n",
    "from sklearn.ensemble import VotingClassifier"
   ]
  },
  {
   "cell_type": "code",
   "execution_count": 93,
   "metadata": {
    "ExecuteTime": {
     "end_time": "2019-02-28T05:16:55.070777Z",
     "start_time": "2019-02-28T05:16:55.065789Z"
    }
   },
   "outputs": [],
   "source": [
    "from sklearn.metrics import accuracy_score\n",
    "from sklearn.metrics import classification_report\n",
    "from sklearn.metrics import confusion_matrix"
   ]
  },
  {
   "cell_type": "markdown",
   "metadata": {},
   "source": [
    "## BC-Normal"
   ]
  },
  {
   "cell_type": "code",
   "execution_count": 88,
   "metadata": {
    "ExecuteTime": {
     "end_time": "2019-02-28T05:13:29.320564Z",
     "start_time": "2019-02-28T05:13:29.305605Z"
    }
   },
   "outputs": [],
   "source": [
    "x_train = TCGA_BC_Norm.drop('y', axis = 1)\n",
    "y_train = TCGA_BC_Norm['y']\n",
    "x_test = K15_BC_Norm.drop('cancer', axis = 1)\n",
    "y_test = K15_BC_Norm['cancer']"
   ]
  },
  {
   "cell_type": "markdown",
   "metadata": {},
   "source": [
    "### randomforest"
   ]
  },
  {
   "cell_type": "code",
   "execution_count": 96,
   "metadata": {
    "ExecuteTime": {
     "end_time": "2019-02-28T05:17:38.598083Z",
     "start_time": "2019-02-28T05:17:38.378358Z"
    }
   },
   "outputs": [
    {
     "name": "stdout",
     "output_type": "stream",
     "text": [
      "              precision    recall  f1-score   support\n",
      "\n",
      "          BC       0.60      0.97      0.74        32\n",
      "      Normal       0.00      0.00      0.00        21\n",
      "\n",
      "   micro avg       0.58      0.58      0.58        53\n",
      "   macro avg       0.30      0.48      0.37        53\n",
      "weighted avg       0.36      0.58      0.45        53\n",
      "\n"
     ]
    }
   ],
   "source": [
    "rf1.fit(x_train, y_train)\n",
    "print(classification_report(y_test, rf1.predict(x_test), target_names=['BC', 'Normal']))"
   ]
  },
  {
   "cell_type": "code",
   "execution_count": 98,
   "metadata": {
    "ExecuteTime": {
     "end_time": "2019-02-28T05:17:53.589514Z",
     "start_time": "2019-02-28T05:17:53.577543Z"
    }
   },
   "outputs": [
    {
     "data": {
      "text/plain": [
       "array([[31,  1],\n",
       "       [21,  0]], dtype=int64)"
      ]
     },
     "execution_count": 98,
     "metadata": {},
     "output_type": "execute_result"
    }
   ],
   "source": [
    "confusion_matrix(y_test, rf1.predict(x_test))"
   ]
  },
  {
   "cell_type": "markdown",
   "metadata": {},
   "source": [
    "### svm"
   ]
  },
  {
   "cell_type": "code",
   "execution_count": 90,
   "metadata": {
    "ExecuteTime": {
     "end_time": "2019-02-28T05:13:48.421369Z",
     "start_time": "2019-02-28T05:13:47.401111Z"
    }
   },
   "outputs": [
    {
     "name": "stdout",
     "output_type": "stream",
     "text": [
      "              precision    recall  f1-score   support\n",
      "\n",
      "          BC       1.00      0.25      0.40        32\n",
      "      Normal       0.47      1.00      0.64        21\n",
      "\n",
      "   micro avg       0.55      0.55      0.55        53\n",
      "   macro avg       0.73      0.62      0.52        53\n",
      "weighted avg       0.79      0.55      0.49        53\n",
      "\n"
     ]
    }
   ],
   "source": [
    "svm1.fit(x_train, y_train)\n",
    "print(classification_report(y_test, svm1.predict(x_test), target_names=['BC', 'Normal']))"
   ]
  },
  {
   "cell_type": "code",
   "execution_count": 99,
   "metadata": {
    "ExecuteTime": {
     "end_time": "2019-02-28T05:19:00.417681Z",
     "start_time": "2019-02-28T05:19:00.379183Z"
    }
   },
   "outputs": [
    {
     "data": {
      "text/plain": [
       "array([[ 8, 24],\n",
       "       [ 0, 21]], dtype=int64)"
      ]
     },
     "execution_count": 99,
     "metadata": {},
     "output_type": "execute_result"
    }
   ],
   "source": [
    "confusion_matrix(y_test, svm1.predict(x_test))"
   ]
  },
  {
   "cell_type": "markdown",
   "metadata": {},
   "source": [
    "### logistic regression"
   ]
  },
  {
   "cell_type": "code",
   "execution_count": 91,
   "metadata": {
    "ExecuteTime": {
     "end_time": "2019-02-28T05:14:00.362334Z",
     "start_time": "2019-02-28T05:14:00.104773Z"
    }
   },
   "outputs": [
    {
     "name": "stderr",
     "output_type": "stream",
     "text": [
      "C:\\Users\\wjssm\\Anaconda3\\lib\\site-packages\\sklearn\\linear_model\\logistic.py:433: FutureWarning: Default solver will be changed to 'lbfgs' in 0.22. Specify a solver to silence this warning.\n",
      "  FutureWarning)\n"
     ]
    },
    {
     "name": "stdout",
     "output_type": "stream",
     "text": [
      "              precision    recall  f1-score   support\n",
      "\n",
      "          BC       1.00      0.31      0.48        32\n",
      "      Normal       0.49      1.00      0.66        21\n",
      "\n",
      "   micro avg       0.58      0.58      0.58        53\n",
      "   macro avg       0.74      0.66      0.57        53\n",
      "weighted avg       0.80      0.58      0.55        53\n",
      "\n"
     ]
    }
   ],
   "source": [
    "lr1.fit(x_train, y_train)\n",
    "print(classification_report(y_test, lr1.predict(x_test), target_names=['BC', 'Normal']))"
   ]
  },
  {
   "cell_type": "code",
   "execution_count": 100,
   "metadata": {
    "ExecuteTime": {
     "end_time": "2019-02-28T05:19:34.328905Z",
     "start_time": "2019-02-28T05:19:34.316119Z"
    }
   },
   "outputs": [
    {
     "data": {
      "text/plain": [
       "array([[10, 22],\n",
       "       [ 0, 21]], dtype=int64)"
      ]
     },
     "execution_count": 100,
     "metadata": {},
     "output_type": "execute_result"
    }
   ],
   "source": [
    "confusion_matrix(y_test, lr1.predict(x_test))"
   ]
  },
  {
   "cell_type": "markdown",
   "metadata": {},
   "source": [
    "### stacking"
   ]
  },
  {
   "cell_type": "code",
   "execution_count": 101,
   "metadata": {
    "ExecuteTime": {
     "end_time": "2019-02-28T05:21:09.672221Z",
     "start_time": "2019-02-28T05:21:09.617881Z"
    },
    "scrolled": true
   },
   "outputs": [
    {
     "data": {
      "text/html": [
       "<div>\n",
       "<style scoped>\n",
       "    .dataframe tbody tr th:only-of-type {\n",
       "        vertical-align: middle;\n",
       "    }\n",
       "\n",
       "    .dataframe tbody tr th {\n",
       "        vertical-align: top;\n",
       "    }\n",
       "\n",
       "    .dataframe thead th {\n",
       "        text-align: right;\n",
       "    }\n",
       "</style>\n",
       "<table border=\"1\" class=\"dataframe\">\n",
       "  <thead>\n",
       "    <tr style=\"text-align: right;\">\n",
       "      <th></th>\n",
       "      <th>y_true</th>\n",
       "      <th>rf_pred</th>\n",
       "      <th>svm_pred</th>\n",
       "      <th>lr_pred</th>\n",
       "    </tr>\n",
       "  </thead>\n",
       "  <tbody>\n",
       "    <tr>\n",
       "      <th>0</th>\n",
       "      <td>BC</td>\n",
       "      <td>BC</td>\n",
       "      <td>Normal</td>\n",
       "      <td>Normal</td>\n",
       "    </tr>\n",
       "    <tr>\n",
       "      <th>1</th>\n",
       "      <td>BC</td>\n",
       "      <td>BC</td>\n",
       "      <td>Normal</td>\n",
       "      <td>Normal</td>\n",
       "    </tr>\n",
       "    <tr>\n",
       "      <th>2</th>\n",
       "      <td>BC</td>\n",
       "      <td>BC</td>\n",
       "      <td>Normal</td>\n",
       "      <td>Normal</td>\n",
       "    </tr>\n",
       "    <tr>\n",
       "      <th>3</th>\n",
       "      <td>BC</td>\n",
       "      <td>BC</td>\n",
       "      <td>Normal</td>\n",
       "      <td>Normal</td>\n",
       "    </tr>\n",
       "    <tr>\n",
       "      <th>4</th>\n",
       "      <td>BC</td>\n",
       "      <td>BC</td>\n",
       "      <td>BC</td>\n",
       "      <td>BC</td>\n",
       "    </tr>\n",
       "    <tr>\n",
       "      <th>5</th>\n",
       "      <td>BC</td>\n",
       "      <td>BC</td>\n",
       "      <td>Normal</td>\n",
       "      <td>BC</td>\n",
       "    </tr>\n",
       "    <tr>\n",
       "      <th>6</th>\n",
       "      <td>BC</td>\n",
       "      <td>BC</td>\n",
       "      <td>Normal</td>\n",
       "      <td>Normal</td>\n",
       "    </tr>\n",
       "    <tr>\n",
       "      <th>7</th>\n",
       "      <td>BC</td>\n",
       "      <td>BC</td>\n",
       "      <td>Normal</td>\n",
       "      <td>BC</td>\n",
       "    </tr>\n",
       "    <tr>\n",
       "      <th>8</th>\n",
       "      <td>BC</td>\n",
       "      <td>Normal</td>\n",
       "      <td>Normal</td>\n",
       "      <td>Normal</td>\n",
       "    </tr>\n",
       "    <tr>\n",
       "      <th>9</th>\n",
       "      <td>BC</td>\n",
       "      <td>BC</td>\n",
       "      <td>Normal</td>\n",
       "      <td>Normal</td>\n",
       "    </tr>\n",
       "    <tr>\n",
       "      <th>10</th>\n",
       "      <td>BC</td>\n",
       "      <td>BC</td>\n",
       "      <td>BC</td>\n",
       "      <td>BC</td>\n",
       "    </tr>\n",
       "    <tr>\n",
       "      <th>11</th>\n",
       "      <td>BC</td>\n",
       "      <td>BC</td>\n",
       "      <td>BC</td>\n",
       "      <td>BC</td>\n",
       "    </tr>\n",
       "    <tr>\n",
       "      <th>12</th>\n",
       "      <td>BC</td>\n",
       "      <td>BC</td>\n",
       "      <td>Normal</td>\n",
       "      <td>Normal</td>\n",
       "    </tr>\n",
       "    <tr>\n",
       "      <th>13</th>\n",
       "      <td>BC</td>\n",
       "      <td>BC</td>\n",
       "      <td>Normal</td>\n",
       "      <td>BC</td>\n",
       "    </tr>\n",
       "    <tr>\n",
       "      <th>14</th>\n",
       "      <td>BC</td>\n",
       "      <td>BC</td>\n",
       "      <td>BC</td>\n",
       "      <td>BC</td>\n",
       "    </tr>\n",
       "    <tr>\n",
       "      <th>15</th>\n",
       "      <td>BC</td>\n",
       "      <td>BC</td>\n",
       "      <td>BC</td>\n",
       "      <td>BC</td>\n",
       "    </tr>\n",
       "    <tr>\n",
       "      <th>16</th>\n",
       "      <td>BC</td>\n",
       "      <td>BC</td>\n",
       "      <td>Normal</td>\n",
       "      <td>Normal</td>\n",
       "    </tr>\n",
       "    <tr>\n",
       "      <th>17</th>\n",
       "      <td>BC</td>\n",
       "      <td>BC</td>\n",
       "      <td>BC</td>\n",
       "      <td>Normal</td>\n",
       "    </tr>\n",
       "    <tr>\n",
       "      <th>18</th>\n",
       "      <td>BC</td>\n",
       "      <td>BC</td>\n",
       "      <td>BC</td>\n",
       "      <td>BC</td>\n",
       "    </tr>\n",
       "    <tr>\n",
       "      <th>19</th>\n",
       "      <td>BC</td>\n",
       "      <td>BC</td>\n",
       "      <td>BC</td>\n",
       "      <td>BC</td>\n",
       "    </tr>\n",
       "    <tr>\n",
       "      <th>20</th>\n",
       "      <td>BC</td>\n",
       "      <td>BC</td>\n",
       "      <td>Normal</td>\n",
       "      <td>Normal</td>\n",
       "    </tr>\n",
       "    <tr>\n",
       "      <th>21</th>\n",
       "      <td>BC</td>\n",
       "      <td>BC</td>\n",
       "      <td>Normal</td>\n",
       "      <td>Normal</td>\n",
       "    </tr>\n",
       "    <tr>\n",
       "      <th>22</th>\n",
       "      <td>BC</td>\n",
       "      <td>BC</td>\n",
       "      <td>Normal</td>\n",
       "      <td>Normal</td>\n",
       "    </tr>\n",
       "    <tr>\n",
       "      <th>23</th>\n",
       "      <td>BC</td>\n",
       "      <td>BC</td>\n",
       "      <td>Normal</td>\n",
       "      <td>Normal</td>\n",
       "    </tr>\n",
       "    <tr>\n",
       "      <th>24</th>\n",
       "      <td>BC</td>\n",
       "      <td>BC</td>\n",
       "      <td>Normal</td>\n",
       "      <td>Normal</td>\n",
       "    </tr>\n",
       "    <tr>\n",
       "      <th>25</th>\n",
       "      <td>BC</td>\n",
       "      <td>BC</td>\n",
       "      <td>Normal</td>\n",
       "      <td>Normal</td>\n",
       "    </tr>\n",
       "    <tr>\n",
       "      <th>26</th>\n",
       "      <td>BC</td>\n",
       "      <td>BC</td>\n",
       "      <td>Normal</td>\n",
       "      <td>Normal</td>\n",
       "    </tr>\n",
       "    <tr>\n",
       "      <th>27</th>\n",
       "      <td>BC</td>\n",
       "      <td>BC</td>\n",
       "      <td>Normal</td>\n",
       "      <td>Normal</td>\n",
       "    </tr>\n",
       "    <tr>\n",
       "      <th>28</th>\n",
       "      <td>BC</td>\n",
       "      <td>BC</td>\n",
       "      <td>Normal</td>\n",
       "      <td>Normal</td>\n",
       "    </tr>\n",
       "    <tr>\n",
       "      <th>29</th>\n",
       "      <td>BC</td>\n",
       "      <td>BC</td>\n",
       "      <td>Normal</td>\n",
       "      <td>Normal</td>\n",
       "    </tr>\n",
       "    <tr>\n",
       "      <th>30</th>\n",
       "      <td>BC</td>\n",
       "      <td>BC</td>\n",
       "      <td>Normal</td>\n",
       "      <td>Normal</td>\n",
       "    </tr>\n",
       "    <tr>\n",
       "      <th>31</th>\n",
       "      <td>BC</td>\n",
       "      <td>BC</td>\n",
       "      <td>Normal</td>\n",
       "      <td>Normal</td>\n",
       "    </tr>\n",
       "    <tr>\n",
       "      <th>32</th>\n",
       "      <td>Normal</td>\n",
       "      <td>BC</td>\n",
       "      <td>Normal</td>\n",
       "      <td>Normal</td>\n",
       "    </tr>\n",
       "    <tr>\n",
       "      <th>33</th>\n",
       "      <td>Normal</td>\n",
       "      <td>BC</td>\n",
       "      <td>Normal</td>\n",
       "      <td>Normal</td>\n",
       "    </tr>\n",
       "    <tr>\n",
       "      <th>34</th>\n",
       "      <td>Normal</td>\n",
       "      <td>BC</td>\n",
       "      <td>Normal</td>\n",
       "      <td>Normal</td>\n",
       "    </tr>\n",
       "    <tr>\n",
       "      <th>35</th>\n",
       "      <td>Normal</td>\n",
       "      <td>BC</td>\n",
       "      <td>Normal</td>\n",
       "      <td>Normal</td>\n",
       "    </tr>\n",
       "    <tr>\n",
       "      <th>36</th>\n",
       "      <td>Normal</td>\n",
       "      <td>BC</td>\n",
       "      <td>Normal</td>\n",
       "      <td>Normal</td>\n",
       "    </tr>\n",
       "    <tr>\n",
       "      <th>37</th>\n",
       "      <td>Normal</td>\n",
       "      <td>BC</td>\n",
       "      <td>Normal</td>\n",
       "      <td>Normal</td>\n",
       "    </tr>\n",
       "    <tr>\n",
       "      <th>38</th>\n",
       "      <td>Normal</td>\n",
       "      <td>BC</td>\n",
       "      <td>Normal</td>\n",
       "      <td>Normal</td>\n",
       "    </tr>\n",
       "    <tr>\n",
       "      <th>39</th>\n",
       "      <td>Normal</td>\n",
       "      <td>BC</td>\n",
       "      <td>Normal</td>\n",
       "      <td>Normal</td>\n",
       "    </tr>\n",
       "    <tr>\n",
       "      <th>40</th>\n",
       "      <td>Normal</td>\n",
       "      <td>BC</td>\n",
       "      <td>Normal</td>\n",
       "      <td>Normal</td>\n",
       "    </tr>\n",
       "    <tr>\n",
       "      <th>41</th>\n",
       "      <td>Normal</td>\n",
       "      <td>BC</td>\n",
       "      <td>Normal</td>\n",
       "      <td>Normal</td>\n",
       "    </tr>\n",
       "    <tr>\n",
       "      <th>42</th>\n",
       "      <td>Normal</td>\n",
       "      <td>BC</td>\n",
       "      <td>Normal</td>\n",
       "      <td>Normal</td>\n",
       "    </tr>\n",
       "    <tr>\n",
       "      <th>43</th>\n",
       "      <td>Normal</td>\n",
       "      <td>BC</td>\n",
       "      <td>Normal</td>\n",
       "      <td>Normal</td>\n",
       "    </tr>\n",
       "    <tr>\n",
       "      <th>44</th>\n",
       "      <td>Normal</td>\n",
       "      <td>BC</td>\n",
       "      <td>Normal</td>\n",
       "      <td>Normal</td>\n",
       "    </tr>\n",
       "    <tr>\n",
       "      <th>45</th>\n",
       "      <td>Normal</td>\n",
       "      <td>BC</td>\n",
       "      <td>Normal</td>\n",
       "      <td>Normal</td>\n",
       "    </tr>\n",
       "    <tr>\n",
       "      <th>46</th>\n",
       "      <td>Normal</td>\n",
       "      <td>BC</td>\n",
       "      <td>Normal</td>\n",
       "      <td>Normal</td>\n",
       "    </tr>\n",
       "    <tr>\n",
       "      <th>47</th>\n",
       "      <td>Normal</td>\n",
       "      <td>BC</td>\n",
       "      <td>Normal</td>\n",
       "      <td>Normal</td>\n",
       "    </tr>\n",
       "    <tr>\n",
       "      <th>48</th>\n",
       "      <td>Normal</td>\n",
       "      <td>BC</td>\n",
       "      <td>Normal</td>\n",
       "      <td>Normal</td>\n",
       "    </tr>\n",
       "    <tr>\n",
       "      <th>49</th>\n",
       "      <td>Normal</td>\n",
       "      <td>BC</td>\n",
       "      <td>Normal</td>\n",
       "      <td>Normal</td>\n",
       "    </tr>\n",
       "    <tr>\n",
       "      <th>50</th>\n",
       "      <td>Normal</td>\n",
       "      <td>BC</td>\n",
       "      <td>Normal</td>\n",
       "      <td>Normal</td>\n",
       "    </tr>\n",
       "    <tr>\n",
       "      <th>51</th>\n",
       "      <td>Normal</td>\n",
       "      <td>BC</td>\n",
       "      <td>Normal</td>\n",
       "      <td>Normal</td>\n",
       "    </tr>\n",
       "    <tr>\n",
       "      <th>52</th>\n",
       "      <td>Normal</td>\n",
       "      <td>BC</td>\n",
       "      <td>Normal</td>\n",
       "      <td>Normal</td>\n",
       "    </tr>\n",
       "  </tbody>\n",
       "</table>\n",
       "</div>"
      ],
      "text/plain": [
       "    y_true rf_pred svm_pred lr_pred\n",
       "0       BC      BC   Normal  Normal\n",
       "1       BC      BC   Normal  Normal\n",
       "2       BC      BC   Normal  Normal\n",
       "3       BC      BC   Normal  Normal\n",
       "4       BC      BC       BC      BC\n",
       "5       BC      BC   Normal      BC\n",
       "6       BC      BC   Normal  Normal\n",
       "7       BC      BC   Normal      BC\n",
       "8       BC  Normal   Normal  Normal\n",
       "9       BC      BC   Normal  Normal\n",
       "10      BC      BC       BC      BC\n",
       "11      BC      BC       BC      BC\n",
       "12      BC      BC   Normal  Normal\n",
       "13      BC      BC   Normal      BC\n",
       "14      BC      BC       BC      BC\n",
       "15      BC      BC       BC      BC\n",
       "16      BC      BC   Normal  Normal\n",
       "17      BC      BC       BC  Normal\n",
       "18      BC      BC       BC      BC\n",
       "19      BC      BC       BC      BC\n",
       "20      BC      BC   Normal  Normal\n",
       "21      BC      BC   Normal  Normal\n",
       "22      BC      BC   Normal  Normal\n",
       "23      BC      BC   Normal  Normal\n",
       "24      BC      BC   Normal  Normal\n",
       "25      BC      BC   Normal  Normal\n",
       "26      BC      BC   Normal  Normal\n",
       "27      BC      BC   Normal  Normal\n",
       "28      BC      BC   Normal  Normal\n",
       "29      BC      BC   Normal  Normal\n",
       "30      BC      BC   Normal  Normal\n",
       "31      BC      BC   Normal  Normal\n",
       "32  Normal      BC   Normal  Normal\n",
       "33  Normal      BC   Normal  Normal\n",
       "34  Normal      BC   Normal  Normal\n",
       "35  Normal      BC   Normal  Normal\n",
       "36  Normal      BC   Normal  Normal\n",
       "37  Normal      BC   Normal  Normal\n",
       "38  Normal      BC   Normal  Normal\n",
       "39  Normal      BC   Normal  Normal\n",
       "40  Normal      BC   Normal  Normal\n",
       "41  Normal      BC   Normal  Normal\n",
       "42  Normal      BC   Normal  Normal\n",
       "43  Normal      BC   Normal  Normal\n",
       "44  Normal      BC   Normal  Normal\n",
       "45  Normal      BC   Normal  Normal\n",
       "46  Normal      BC   Normal  Normal\n",
       "47  Normal      BC   Normal  Normal\n",
       "48  Normal      BC   Normal  Normal\n",
       "49  Normal      BC   Normal  Normal\n",
       "50  Normal      BC   Normal  Normal\n",
       "51  Normal      BC   Normal  Normal\n",
       "52  Normal      BC   Normal  Normal"
      ]
     },
     "execution_count": 101,
     "metadata": {},
     "output_type": "execute_result"
    }
   ],
   "source": [
    "pd.DataFrame({'y_true' : y_test,\n",
    "             'rf_pred' : rf1.predict(x_test),'svm_pred' : svm1.predict(x_test),'lr_pred' : lr1.predict(x_test)})"
   ]
  },
  {
   "cell_type": "code",
   "execution_count": 103,
   "metadata": {
    "ExecuteTime": {
     "end_time": "2019-02-28T05:24:27.526663Z",
     "start_time": "2019-02-28T05:24:27.516270Z"
    }
   },
   "outputs": [],
   "source": [
    "from sklearn.model_selection import KFold\n",
    "cv = KFold(5, shuffle=True, random_state=0)"
   ]
  },
  {
   "cell_type": "code",
   "execution_count": 175,
   "metadata": {
    "ExecuteTime": {
     "end_time": "2019-02-28T06:30:27.593059Z",
     "start_time": "2019-02-28T06:30:26.991731Z"
    }
   },
   "outputs": [],
   "source": [
    "TCGA_BC_Norm['M1'] = np.NaN\n",
    "TCGA_BC_Norm['M2'] = np.NaN\n",
    "\n",
    "K15_BC_Norm['M1']= np.NaN\n",
    "K15_BC_Norm['M2']= np.NaN"
   ]
  },
  {
   "cell_type": "code",
   "execution_count": 163,
   "metadata": {
    "ExecuteTime": {
     "end_time": "2019-02-28T06:27:43.273215Z",
     "start_time": "2019-02-28T06:27:43.265325Z"
    }
   },
   "outputs": [],
   "source": [
    "import warnings\n",
    "warnings.filterwarnings(action='ignore')"
   ]
  },
  {
   "cell_type": "code",
   "execution_count": 176,
   "metadata": {
    "ExecuteTime": {
     "end_time": "2019-02-28T06:30:39.675072Z",
     "start_time": "2019-02-28T06:30:29.149102Z"
    }
   },
   "outputs": [],
   "source": [
    "#train data\n",
    "for i, (idx_train, idx_cv) in enumerate(cv.split(TCGA_BC_Norm)):\n",
    "    df_train = TCGA_BC_Norm.iloc[idx_train]\n",
    "    df_cv = TCGA_BC_Norm.iloc[idx_cv]\n",
    "    \n",
    "    x_train = df_train.drop(['y','M1','M2'], axis=1)\n",
    "    y_train = df_train['y']\n",
    "    \n",
    "    x_cv = df_cv.drop(['y','M1','M2'], axis=1)\n",
    "    #y_cv = df_cv['y']\n",
    "    \n",
    "    #randomforest\n",
    "    rf1.fit(x_train, y_train)\n",
    "    TCGA_BC_Norm.loc[idx_cv, 'M1'] = rf1.predict(x_cv)\n",
    "    \n",
    "    #svm\n",
    "    svm1.fit(x_train, y_train)\n",
    "    TCGA_BC_Norm.loc[idx_cv, 'M2'] = svm1.predict(x_cv)"
   ]
  },
  {
   "cell_type": "code",
   "execution_count": 177,
   "metadata": {
    "ExecuteTime": {
     "end_time": "2019-02-28T06:30:39.707652Z",
     "start_time": "2019-02-28T06:30:39.677067Z"
    }
   },
   "outputs": [
    {
     "name": "stdout",
     "output_type": "stream",
     "text": [
      "randomforest accuracy :  0.9815515610217597\n",
      "svm accuracy :  0.9654683065279092\n"
     ]
    }
   ],
   "source": [
    "#cv accuracy usning train data\n",
    "print('randomforest accuracy : ',sum(TCGA_BC_Norm['y'] == TCGA_BC_Norm['M1']) / len(TCGA_BC_Norm) )\n",
    "print('svm accuracy : ',sum(TCGA_BC_Norm['y'] == TCGA_BC_Norm['M2']) / len(TCGA_BC_Norm) )"
   ]
  },
  {
   "cell_type": "code",
   "execution_count": 180,
   "metadata": {
    "ExecuteTime": {
     "end_time": "2019-02-28T06:30:44.696741Z",
     "start_time": "2019-02-28T06:30:44.677825Z"
    }
   },
   "outputs": [],
   "source": [
    "x_train = TCGA_BC_Norm.drop(['y','M1','M2'], axis=1)\n",
    "y_train = TCGA_BC_Norm['y']\n",
    "x_test = K15_BC_Norm.drop(['cancer','M1','M2'], axis = 1)"
   ]
  },
  {
   "cell_type": "code",
   "execution_count": 183,
   "metadata": {
    "ExecuteTime": {
     "end_time": "2019-02-28T06:30:49.813072Z",
     "start_time": "2019-02-28T06:30:46.553643Z"
    }
   },
   "outputs": [],
   "source": [
    "rf1.fit(x_train, y_train)\n",
    "K15_BC_Norm['M1'] = rf1.predict(x_test)\n",
    "svm1.fit(x_train, y_train)\n",
    "K15_BC_Norm['M2'] = svm1.predict(x_test)"
   ]
  },
  {
   "cell_type": "code",
   "execution_count": 184,
   "metadata": {
    "ExecuteTime": {
     "end_time": "2019-02-28T06:31:12.845292Z",
     "start_time": "2019-02-28T06:31:11.558608Z"
    }
   },
   "outputs": [],
   "source": [
    "TCGA_BC_Norm['M1'] = TCGA_BC_Norm['M1'].astype('category')\n",
    "TCGA_BC_Norm['M1_cat'] = TCGA_BC_Norm['M1'].cat.codes\n",
    "TCGA_BC_Norm['M2'] = TCGA_BC_Norm['M2'].astype('category')\n",
    "TCGA_BC_Norm['M2_cat'] = TCGA_BC_Norm['M2'].cat.codes\n",
    "\n",
    "K15_BC_Norm['M1'] = K15_BC_Norm['M1'].astype('category')\n",
    "K15_BC_Norm['M1_cat'] = K15_BC_Norm['M1'].cat.codes\n",
    "K15_BC_Norm['M2'] = K15_BC_Norm['M2'].astype('category')\n",
    "K15_BC_Norm['M2_cat'] = K15_BC_Norm['M2'].cat.codes"
   ]
  },
  {
   "cell_type": "code",
   "execution_count": 185,
   "metadata": {
    "ExecuteTime": {
     "end_time": "2019-02-28T06:31:12.874696Z",
     "start_time": "2019-02-28T06:31:12.849158Z"
    }
   },
   "outputs": [],
   "source": [
    "#final Model logistic regression using M1, M2\n",
    "x_train = TCGA_BC_Norm.drop(['y','M1','M2'], axis=1)\n",
    "y_train = TCGA_BC_Norm['y']\n",
    "x_test = K15_BC_Norm.drop(['cancer','M1','M2'], axis = 1)\n",
    "y_test = K15_BC_Norm['cancer']"
   ]
  },
  {
   "cell_type": "code",
   "execution_count": 186,
   "metadata": {
    "ExecuteTime": {
     "end_time": "2019-02-28T06:31:14.290957Z",
     "start_time": "2019-02-28T06:31:13.790059Z"
    }
   },
   "outputs": [
    {
     "name": "stdout",
     "output_type": "stream",
     "text": [
      "              precision    recall  f1-score   support\n",
      "\n",
      "          BC       1.00      0.34      0.51        32\n",
      "      Normal       0.50      1.00      0.67        21\n",
      "\n",
      "   micro avg       0.60      0.60      0.60        53\n",
      "   macro avg       0.75      0.67      0.59        53\n",
      "weighted avg       0.80      0.60      0.57        53\n",
      "\n"
     ]
    }
   ],
   "source": [
    "lr1.fit(x_train, y_train)\n",
    "print(classification_report(y_test, lr1.predict(x_test)))"
   ]
  },
  {
   "cell_type": "code",
   "execution_count": 188,
   "metadata": {
    "ExecuteTime": {
     "end_time": "2019-02-28T06:41:54.585010Z",
     "start_time": "2019-02-28T06:41:54.569130Z"
    }
   },
   "outputs": [
    {
     "data": {
      "text/plain": [
       "array([[11, 21],\n",
       "       [ 0, 21]], dtype=int64)"
      ]
     },
     "execution_count": 188,
     "metadata": {},
     "output_type": "execute_result"
    }
   ],
   "source": [
    "confusion_matrix(y_test, lr1.predict(x_test))"
   ]
  },
  {
   "cell_type": "code",
   "execution_count": 187,
   "metadata": {
    "ExecuteTime": {
     "end_time": "2019-02-28T06:31:43.172132Z",
     "start_time": "2019-02-28T06:31:43.151225Z"
    }
   },
   "outputs": [
    {
     "data": {
      "text/html": [
       "<div>\n",
       "<style scoped>\n",
       "    .dataframe tbody tr th:only-of-type {\n",
       "        vertical-align: middle;\n",
       "    }\n",
       "\n",
       "    .dataframe tbody tr th {\n",
       "        vertical-align: top;\n",
       "    }\n",
       "\n",
       "    .dataframe thead th {\n",
       "        text-align: right;\n",
       "    }\n",
       "</style>\n",
       "<table border=\"1\" class=\"dataframe\">\n",
       "  <thead>\n",
       "    <tr style=\"text-align: right;\">\n",
       "      <th></th>\n",
       "      <th>y_true</th>\n",
       "      <th>y_pred</th>\n",
       "    </tr>\n",
       "  </thead>\n",
       "  <tbody>\n",
       "    <tr>\n",
       "      <th>0</th>\n",
       "      <td>BC</td>\n",
       "      <td>Normal</td>\n",
       "    </tr>\n",
       "    <tr>\n",
       "      <th>1</th>\n",
       "      <td>BC</td>\n",
       "      <td>BC</td>\n",
       "    </tr>\n",
       "    <tr>\n",
       "      <th>2</th>\n",
       "      <td>BC</td>\n",
       "      <td>Normal</td>\n",
       "    </tr>\n",
       "    <tr>\n",
       "      <th>3</th>\n",
       "      <td>BC</td>\n",
       "      <td>Normal</td>\n",
       "    </tr>\n",
       "    <tr>\n",
       "      <th>4</th>\n",
       "      <td>BC</td>\n",
       "      <td>BC</td>\n",
       "    </tr>\n",
       "    <tr>\n",
       "      <th>5</th>\n",
       "      <td>BC</td>\n",
       "      <td>BC</td>\n",
       "    </tr>\n",
       "    <tr>\n",
       "      <th>6</th>\n",
       "      <td>BC</td>\n",
       "      <td>Normal</td>\n",
       "    </tr>\n",
       "    <tr>\n",
       "      <th>7</th>\n",
       "      <td>BC</td>\n",
       "      <td>BC</td>\n",
       "    </tr>\n",
       "    <tr>\n",
       "      <th>8</th>\n",
       "      <td>BC</td>\n",
       "      <td>Normal</td>\n",
       "    </tr>\n",
       "    <tr>\n",
       "      <th>9</th>\n",
       "      <td>BC</td>\n",
       "      <td>Normal</td>\n",
       "    </tr>\n",
       "    <tr>\n",
       "      <th>10</th>\n",
       "      <td>BC</td>\n",
       "      <td>BC</td>\n",
       "    </tr>\n",
       "    <tr>\n",
       "      <th>11</th>\n",
       "      <td>BC</td>\n",
       "      <td>BC</td>\n",
       "    </tr>\n",
       "    <tr>\n",
       "      <th>12</th>\n",
       "      <td>BC</td>\n",
       "      <td>Normal</td>\n",
       "    </tr>\n",
       "    <tr>\n",
       "      <th>13</th>\n",
       "      <td>BC</td>\n",
       "      <td>BC</td>\n",
       "    </tr>\n",
       "    <tr>\n",
       "      <th>14</th>\n",
       "      <td>BC</td>\n",
       "      <td>BC</td>\n",
       "    </tr>\n",
       "    <tr>\n",
       "      <th>15</th>\n",
       "      <td>BC</td>\n",
       "      <td>BC</td>\n",
       "    </tr>\n",
       "    <tr>\n",
       "      <th>16</th>\n",
       "      <td>BC</td>\n",
       "      <td>Normal</td>\n",
       "    </tr>\n",
       "    <tr>\n",
       "      <th>17</th>\n",
       "      <td>BC</td>\n",
       "      <td>Normal</td>\n",
       "    </tr>\n",
       "    <tr>\n",
       "      <th>18</th>\n",
       "      <td>BC</td>\n",
       "      <td>BC</td>\n",
       "    </tr>\n",
       "    <tr>\n",
       "      <th>19</th>\n",
       "      <td>BC</td>\n",
       "      <td>BC</td>\n",
       "    </tr>\n",
       "    <tr>\n",
       "      <th>20</th>\n",
       "      <td>BC</td>\n",
       "      <td>Normal</td>\n",
       "    </tr>\n",
       "    <tr>\n",
       "      <th>21</th>\n",
       "      <td>BC</td>\n",
       "      <td>Normal</td>\n",
       "    </tr>\n",
       "    <tr>\n",
       "      <th>22</th>\n",
       "      <td>BC</td>\n",
       "      <td>Normal</td>\n",
       "    </tr>\n",
       "    <tr>\n",
       "      <th>23</th>\n",
       "      <td>BC</td>\n",
       "      <td>Normal</td>\n",
       "    </tr>\n",
       "    <tr>\n",
       "      <th>24</th>\n",
       "      <td>BC</td>\n",
       "      <td>Normal</td>\n",
       "    </tr>\n",
       "    <tr>\n",
       "      <th>25</th>\n",
       "      <td>BC</td>\n",
       "      <td>Normal</td>\n",
       "    </tr>\n",
       "    <tr>\n",
       "      <th>26</th>\n",
       "      <td>BC</td>\n",
       "      <td>Normal</td>\n",
       "    </tr>\n",
       "    <tr>\n",
       "      <th>27</th>\n",
       "      <td>BC</td>\n",
       "      <td>Normal</td>\n",
       "    </tr>\n",
       "    <tr>\n",
       "      <th>28</th>\n",
       "      <td>BC</td>\n",
       "      <td>Normal</td>\n",
       "    </tr>\n",
       "    <tr>\n",
       "      <th>29</th>\n",
       "      <td>BC</td>\n",
       "      <td>Normal</td>\n",
       "    </tr>\n",
       "    <tr>\n",
       "      <th>30</th>\n",
       "      <td>BC</td>\n",
       "      <td>Normal</td>\n",
       "    </tr>\n",
       "    <tr>\n",
       "      <th>31</th>\n",
       "      <td>BC</td>\n",
       "      <td>Normal</td>\n",
       "    </tr>\n",
       "    <tr>\n",
       "      <th>32</th>\n",
       "      <td>Normal</td>\n",
       "      <td>Normal</td>\n",
       "    </tr>\n",
       "    <tr>\n",
       "      <th>33</th>\n",
       "      <td>Normal</td>\n",
       "      <td>Normal</td>\n",
       "    </tr>\n",
       "    <tr>\n",
       "      <th>34</th>\n",
       "      <td>Normal</td>\n",
       "      <td>Normal</td>\n",
       "    </tr>\n",
       "    <tr>\n",
       "      <th>35</th>\n",
       "      <td>Normal</td>\n",
       "      <td>Normal</td>\n",
       "    </tr>\n",
       "    <tr>\n",
       "      <th>36</th>\n",
       "      <td>Normal</td>\n",
       "      <td>Normal</td>\n",
       "    </tr>\n",
       "    <tr>\n",
       "      <th>37</th>\n",
       "      <td>Normal</td>\n",
       "      <td>Normal</td>\n",
       "    </tr>\n",
       "    <tr>\n",
       "      <th>38</th>\n",
       "      <td>Normal</td>\n",
       "      <td>Normal</td>\n",
       "    </tr>\n",
       "    <tr>\n",
       "      <th>39</th>\n",
       "      <td>Normal</td>\n",
       "      <td>Normal</td>\n",
       "    </tr>\n",
       "    <tr>\n",
       "      <th>40</th>\n",
       "      <td>Normal</td>\n",
       "      <td>Normal</td>\n",
       "    </tr>\n",
       "    <tr>\n",
       "      <th>41</th>\n",
       "      <td>Normal</td>\n",
       "      <td>Normal</td>\n",
       "    </tr>\n",
       "    <tr>\n",
       "      <th>42</th>\n",
       "      <td>Normal</td>\n",
       "      <td>Normal</td>\n",
       "    </tr>\n",
       "    <tr>\n",
       "      <th>43</th>\n",
       "      <td>Normal</td>\n",
       "      <td>Normal</td>\n",
       "    </tr>\n",
       "    <tr>\n",
       "      <th>44</th>\n",
       "      <td>Normal</td>\n",
       "      <td>Normal</td>\n",
       "    </tr>\n",
       "    <tr>\n",
       "      <th>45</th>\n",
       "      <td>Normal</td>\n",
       "      <td>Normal</td>\n",
       "    </tr>\n",
       "    <tr>\n",
       "      <th>46</th>\n",
       "      <td>Normal</td>\n",
       "      <td>Normal</td>\n",
       "    </tr>\n",
       "    <tr>\n",
       "      <th>47</th>\n",
       "      <td>Normal</td>\n",
       "      <td>Normal</td>\n",
       "    </tr>\n",
       "    <tr>\n",
       "      <th>48</th>\n",
       "      <td>Normal</td>\n",
       "      <td>Normal</td>\n",
       "    </tr>\n",
       "    <tr>\n",
       "      <th>49</th>\n",
       "      <td>Normal</td>\n",
       "      <td>Normal</td>\n",
       "    </tr>\n",
       "    <tr>\n",
       "      <th>50</th>\n",
       "      <td>Normal</td>\n",
       "      <td>Normal</td>\n",
       "    </tr>\n",
       "    <tr>\n",
       "      <th>51</th>\n",
       "      <td>Normal</td>\n",
       "      <td>Normal</td>\n",
       "    </tr>\n",
       "    <tr>\n",
       "      <th>52</th>\n",
       "      <td>Normal</td>\n",
       "      <td>Normal</td>\n",
       "    </tr>\n",
       "  </tbody>\n",
       "</table>\n",
       "</div>"
      ],
      "text/plain": [
       "    y_true  y_pred\n",
       "0       BC  Normal\n",
       "1       BC      BC\n",
       "2       BC  Normal\n",
       "3       BC  Normal\n",
       "4       BC      BC\n",
       "5       BC      BC\n",
       "6       BC  Normal\n",
       "7       BC      BC\n",
       "8       BC  Normal\n",
       "9       BC  Normal\n",
       "10      BC      BC\n",
       "11      BC      BC\n",
       "12      BC  Normal\n",
       "13      BC      BC\n",
       "14      BC      BC\n",
       "15      BC      BC\n",
       "16      BC  Normal\n",
       "17      BC  Normal\n",
       "18      BC      BC\n",
       "19      BC      BC\n",
       "20      BC  Normal\n",
       "21      BC  Normal\n",
       "22      BC  Normal\n",
       "23      BC  Normal\n",
       "24      BC  Normal\n",
       "25      BC  Normal\n",
       "26      BC  Normal\n",
       "27      BC  Normal\n",
       "28      BC  Normal\n",
       "29      BC  Normal\n",
       "30      BC  Normal\n",
       "31      BC  Normal\n",
       "32  Normal  Normal\n",
       "33  Normal  Normal\n",
       "34  Normal  Normal\n",
       "35  Normal  Normal\n",
       "36  Normal  Normal\n",
       "37  Normal  Normal\n",
       "38  Normal  Normal\n",
       "39  Normal  Normal\n",
       "40  Normal  Normal\n",
       "41  Normal  Normal\n",
       "42  Normal  Normal\n",
       "43  Normal  Normal\n",
       "44  Normal  Normal\n",
       "45  Normal  Normal\n",
       "46  Normal  Normal\n",
       "47  Normal  Normal\n",
       "48  Normal  Normal\n",
       "49  Normal  Normal\n",
       "50  Normal  Normal\n",
       "51  Normal  Normal\n",
       "52  Normal  Normal"
      ]
     },
     "execution_count": 187,
     "metadata": {},
     "output_type": "execute_result"
    }
   ],
   "source": [
    "pd.DataFrame({'y_true' : y_test, 'y_pred' : lr1.predict(x_test)})"
   ]
  },
  {
   "cell_type": "markdown",
   "metadata": {},
   "source": [
    "## BC-Others"
   ]
  },
  {
   "cell_type": "code",
   "execution_count": 88,
   "metadata": {
    "ExecuteTime": {
     "end_time": "2019-02-28T05:13:29.320564Z",
     "start_time": "2019-02-28T05:13:29.305605Z"
    }
   },
   "outputs": [],
   "source": [
    "x_train = TCGA_BC_Norm.drop('y', axis = 1)\n",
    "y_train = TCGA_BC_Norm['y']\n",
    "x_test = K15_BC_Norm.drop('cancer', axis = 1)\n",
    "y_test = K15_BC_Norm['cancer']"
   ]
  },
  {
   "cell_type": "markdown",
   "metadata": {},
   "source": [
    "### randomforest"
   ]
  },
  {
   "cell_type": "code",
   "execution_count": 96,
   "metadata": {
    "ExecuteTime": {
     "end_time": "2019-02-28T05:17:38.598083Z",
     "start_time": "2019-02-28T05:17:38.378358Z"
    }
   },
   "outputs": [
    {
     "name": "stdout",
     "output_type": "stream",
     "text": [
      "              precision    recall  f1-score   support\n",
      "\n",
      "          BC       0.60      0.97      0.74        32\n",
      "      Normal       0.00      0.00      0.00        21\n",
      "\n",
      "   micro avg       0.58      0.58      0.58        53\n",
      "   macro avg       0.30      0.48      0.37        53\n",
      "weighted avg       0.36      0.58      0.45        53\n",
      "\n"
     ]
    }
   ],
   "source": [
    "rf1.fit(x_train, y_train)\n",
    "print(classification_report(y_test, rf1.predict(x_test), target_names=['BC', 'Normal']))"
   ]
  },
  {
   "cell_type": "code",
   "execution_count": 98,
   "metadata": {
    "ExecuteTime": {
     "end_time": "2019-02-28T05:17:53.589514Z",
     "start_time": "2019-02-28T05:17:53.577543Z"
    }
   },
   "outputs": [
    {
     "data": {
      "text/plain": [
       "array([[31,  1],\n",
       "       [21,  0]], dtype=int64)"
      ]
     },
     "execution_count": 98,
     "metadata": {},
     "output_type": "execute_result"
    }
   ],
   "source": [
    "confusion_matrix(y_test, rf1.predict(x_test))"
   ]
  },
  {
   "cell_type": "markdown",
   "metadata": {},
   "source": [
    "### svm"
   ]
  },
  {
   "cell_type": "code",
   "execution_count": 90,
   "metadata": {
    "ExecuteTime": {
     "end_time": "2019-02-28T05:13:48.421369Z",
     "start_time": "2019-02-28T05:13:47.401111Z"
    }
   },
   "outputs": [
    {
     "name": "stdout",
     "output_type": "stream",
     "text": [
      "              precision    recall  f1-score   support\n",
      "\n",
      "          BC       1.00      0.25      0.40        32\n",
      "      Normal       0.47      1.00      0.64        21\n",
      "\n",
      "   micro avg       0.55      0.55      0.55        53\n",
      "   macro avg       0.73      0.62      0.52        53\n",
      "weighted avg       0.79      0.55      0.49        53\n",
      "\n"
     ]
    }
   ],
   "source": [
    "svm1.fit(x_train, y_train)\n",
    "print(classification_report(y_test, svm1.predict(x_test), target_names=['BC', 'Normal']))"
   ]
  },
  {
   "cell_type": "code",
   "execution_count": 99,
   "metadata": {
    "ExecuteTime": {
     "end_time": "2019-02-28T05:19:00.417681Z",
     "start_time": "2019-02-28T05:19:00.379183Z"
    }
   },
   "outputs": [
    {
     "data": {
      "text/plain": [
       "array([[ 8, 24],\n",
       "       [ 0, 21]], dtype=int64)"
      ]
     },
     "execution_count": 99,
     "metadata": {},
     "output_type": "execute_result"
    }
   ],
   "source": [
    "confusion_matrix(y_test, svm1.predict(x_test))"
   ]
  },
  {
   "cell_type": "markdown",
   "metadata": {},
   "source": [
    "### logistic regression"
   ]
  },
  {
   "cell_type": "code",
   "execution_count": 91,
   "metadata": {
    "ExecuteTime": {
     "end_time": "2019-02-28T05:14:00.362334Z",
     "start_time": "2019-02-28T05:14:00.104773Z"
    }
   },
   "outputs": [
    {
     "name": "stderr",
     "output_type": "stream",
     "text": [
      "C:\\Users\\wjssm\\Anaconda3\\lib\\site-packages\\sklearn\\linear_model\\logistic.py:433: FutureWarning: Default solver will be changed to 'lbfgs' in 0.22. Specify a solver to silence this warning.\n",
      "  FutureWarning)\n"
     ]
    },
    {
     "name": "stdout",
     "output_type": "stream",
     "text": [
      "              precision    recall  f1-score   support\n",
      "\n",
      "          BC       1.00      0.31      0.48        32\n",
      "      Normal       0.49      1.00      0.66        21\n",
      "\n",
      "   micro avg       0.58      0.58      0.58        53\n",
      "   macro avg       0.74      0.66      0.57        53\n",
      "weighted avg       0.80      0.58      0.55        53\n",
      "\n"
     ]
    }
   ],
   "source": [
    "lr1.fit(x_train, y_train)\n",
    "print(classification_report(y_test, lr1.predict(x_test), target_names=['BC', 'Normal']))"
   ]
  },
  {
   "cell_type": "code",
   "execution_count": 100,
   "metadata": {
    "ExecuteTime": {
     "end_time": "2019-02-28T05:19:34.328905Z",
     "start_time": "2019-02-28T05:19:34.316119Z"
    }
   },
   "outputs": [
    {
     "data": {
      "text/plain": [
       "array([[10, 22],\n",
       "       [ 0, 21]], dtype=int64)"
      ]
     },
     "execution_count": 100,
     "metadata": {},
     "output_type": "execute_result"
    }
   ],
   "source": [
    "confusion_matrix(y_test, lr1.predict(x_test))"
   ]
  },
  {
   "cell_type": "markdown",
   "metadata": {},
   "source": [
    "### stacking"
   ]
  },
  {
   "cell_type": "code",
   "execution_count": 101,
   "metadata": {
    "ExecuteTime": {
     "end_time": "2019-02-28T05:21:09.672221Z",
     "start_time": "2019-02-28T05:21:09.617881Z"
    },
    "scrolled": true
   },
   "outputs": [
    {
     "data": {
      "text/html": [
       "<div>\n",
       "<style scoped>\n",
       "    .dataframe tbody tr th:only-of-type {\n",
       "        vertical-align: middle;\n",
       "    }\n",
       "\n",
       "    .dataframe tbody tr th {\n",
       "        vertical-align: top;\n",
       "    }\n",
       "\n",
       "    .dataframe thead th {\n",
       "        text-align: right;\n",
       "    }\n",
       "</style>\n",
       "<table border=\"1\" class=\"dataframe\">\n",
       "  <thead>\n",
       "    <tr style=\"text-align: right;\">\n",
       "      <th></th>\n",
       "      <th>y_true</th>\n",
       "      <th>rf_pred</th>\n",
       "      <th>svm_pred</th>\n",
       "      <th>lr_pred</th>\n",
       "    </tr>\n",
       "  </thead>\n",
       "  <tbody>\n",
       "    <tr>\n",
       "      <th>0</th>\n",
       "      <td>BC</td>\n",
       "      <td>BC</td>\n",
       "      <td>Normal</td>\n",
       "      <td>Normal</td>\n",
       "    </tr>\n",
       "    <tr>\n",
       "      <th>1</th>\n",
       "      <td>BC</td>\n",
       "      <td>BC</td>\n",
       "      <td>Normal</td>\n",
       "      <td>Normal</td>\n",
       "    </tr>\n",
       "    <tr>\n",
       "      <th>2</th>\n",
       "      <td>BC</td>\n",
       "      <td>BC</td>\n",
       "      <td>Normal</td>\n",
       "      <td>Normal</td>\n",
       "    </tr>\n",
       "    <tr>\n",
       "      <th>3</th>\n",
       "      <td>BC</td>\n",
       "      <td>BC</td>\n",
       "      <td>Normal</td>\n",
       "      <td>Normal</td>\n",
       "    </tr>\n",
       "    <tr>\n",
       "      <th>4</th>\n",
       "      <td>BC</td>\n",
       "      <td>BC</td>\n",
       "      <td>BC</td>\n",
       "      <td>BC</td>\n",
       "    </tr>\n",
       "    <tr>\n",
       "      <th>5</th>\n",
       "      <td>BC</td>\n",
       "      <td>BC</td>\n",
       "      <td>Normal</td>\n",
       "      <td>BC</td>\n",
       "    </tr>\n",
       "    <tr>\n",
       "      <th>6</th>\n",
       "      <td>BC</td>\n",
       "      <td>BC</td>\n",
       "      <td>Normal</td>\n",
       "      <td>Normal</td>\n",
       "    </tr>\n",
       "    <tr>\n",
       "      <th>7</th>\n",
       "      <td>BC</td>\n",
       "      <td>BC</td>\n",
       "      <td>Normal</td>\n",
       "      <td>BC</td>\n",
       "    </tr>\n",
       "    <tr>\n",
       "      <th>8</th>\n",
       "      <td>BC</td>\n",
       "      <td>Normal</td>\n",
       "      <td>Normal</td>\n",
       "      <td>Normal</td>\n",
       "    </tr>\n",
       "    <tr>\n",
       "      <th>9</th>\n",
       "      <td>BC</td>\n",
       "      <td>BC</td>\n",
       "      <td>Normal</td>\n",
       "      <td>Normal</td>\n",
       "    </tr>\n",
       "    <tr>\n",
       "      <th>10</th>\n",
       "      <td>BC</td>\n",
       "      <td>BC</td>\n",
       "      <td>BC</td>\n",
       "      <td>BC</td>\n",
       "    </tr>\n",
       "    <tr>\n",
       "      <th>11</th>\n",
       "      <td>BC</td>\n",
       "      <td>BC</td>\n",
       "      <td>BC</td>\n",
       "      <td>BC</td>\n",
       "    </tr>\n",
       "    <tr>\n",
       "      <th>12</th>\n",
       "      <td>BC</td>\n",
       "      <td>BC</td>\n",
       "      <td>Normal</td>\n",
       "      <td>Normal</td>\n",
       "    </tr>\n",
       "    <tr>\n",
       "      <th>13</th>\n",
       "      <td>BC</td>\n",
       "      <td>BC</td>\n",
       "      <td>Normal</td>\n",
       "      <td>BC</td>\n",
       "    </tr>\n",
       "    <tr>\n",
       "      <th>14</th>\n",
       "      <td>BC</td>\n",
       "      <td>BC</td>\n",
       "      <td>BC</td>\n",
       "      <td>BC</td>\n",
       "    </tr>\n",
       "    <tr>\n",
       "      <th>15</th>\n",
       "      <td>BC</td>\n",
       "      <td>BC</td>\n",
       "      <td>BC</td>\n",
       "      <td>BC</td>\n",
       "    </tr>\n",
       "    <tr>\n",
       "      <th>16</th>\n",
       "      <td>BC</td>\n",
       "      <td>BC</td>\n",
       "      <td>Normal</td>\n",
       "      <td>Normal</td>\n",
       "    </tr>\n",
       "    <tr>\n",
       "      <th>17</th>\n",
       "      <td>BC</td>\n",
       "      <td>BC</td>\n",
       "      <td>BC</td>\n",
       "      <td>Normal</td>\n",
       "    </tr>\n",
       "    <tr>\n",
       "      <th>18</th>\n",
       "      <td>BC</td>\n",
       "      <td>BC</td>\n",
       "      <td>BC</td>\n",
       "      <td>BC</td>\n",
       "    </tr>\n",
       "    <tr>\n",
       "      <th>19</th>\n",
       "      <td>BC</td>\n",
       "      <td>BC</td>\n",
       "      <td>BC</td>\n",
       "      <td>BC</td>\n",
       "    </tr>\n",
       "    <tr>\n",
       "      <th>20</th>\n",
       "      <td>BC</td>\n",
       "      <td>BC</td>\n",
       "      <td>Normal</td>\n",
       "      <td>Normal</td>\n",
       "    </tr>\n",
       "    <tr>\n",
       "      <th>21</th>\n",
       "      <td>BC</td>\n",
       "      <td>BC</td>\n",
       "      <td>Normal</td>\n",
       "      <td>Normal</td>\n",
       "    </tr>\n",
       "    <tr>\n",
       "      <th>22</th>\n",
       "      <td>BC</td>\n",
       "      <td>BC</td>\n",
       "      <td>Normal</td>\n",
       "      <td>Normal</td>\n",
       "    </tr>\n",
       "    <tr>\n",
       "      <th>23</th>\n",
       "      <td>BC</td>\n",
       "      <td>BC</td>\n",
       "      <td>Normal</td>\n",
       "      <td>Normal</td>\n",
       "    </tr>\n",
       "    <tr>\n",
       "      <th>24</th>\n",
       "      <td>BC</td>\n",
       "      <td>BC</td>\n",
       "      <td>Normal</td>\n",
       "      <td>Normal</td>\n",
       "    </tr>\n",
       "    <tr>\n",
       "      <th>25</th>\n",
       "      <td>BC</td>\n",
       "      <td>BC</td>\n",
       "      <td>Normal</td>\n",
       "      <td>Normal</td>\n",
       "    </tr>\n",
       "    <tr>\n",
       "      <th>26</th>\n",
       "      <td>BC</td>\n",
       "      <td>BC</td>\n",
       "      <td>Normal</td>\n",
       "      <td>Normal</td>\n",
       "    </tr>\n",
       "    <tr>\n",
       "      <th>27</th>\n",
       "      <td>BC</td>\n",
       "      <td>BC</td>\n",
       "      <td>Normal</td>\n",
       "      <td>Normal</td>\n",
       "    </tr>\n",
       "    <tr>\n",
       "      <th>28</th>\n",
       "      <td>BC</td>\n",
       "      <td>BC</td>\n",
       "      <td>Normal</td>\n",
       "      <td>Normal</td>\n",
       "    </tr>\n",
       "    <tr>\n",
       "      <th>29</th>\n",
       "      <td>BC</td>\n",
       "      <td>BC</td>\n",
       "      <td>Normal</td>\n",
       "      <td>Normal</td>\n",
       "    </tr>\n",
       "    <tr>\n",
       "      <th>30</th>\n",
       "      <td>BC</td>\n",
       "      <td>BC</td>\n",
       "      <td>Normal</td>\n",
       "      <td>Normal</td>\n",
       "    </tr>\n",
       "    <tr>\n",
       "      <th>31</th>\n",
       "      <td>BC</td>\n",
       "      <td>BC</td>\n",
       "      <td>Normal</td>\n",
       "      <td>Normal</td>\n",
       "    </tr>\n",
       "    <tr>\n",
       "      <th>32</th>\n",
       "      <td>Normal</td>\n",
       "      <td>BC</td>\n",
       "      <td>Normal</td>\n",
       "      <td>Normal</td>\n",
       "    </tr>\n",
       "    <tr>\n",
       "      <th>33</th>\n",
       "      <td>Normal</td>\n",
       "      <td>BC</td>\n",
       "      <td>Normal</td>\n",
       "      <td>Normal</td>\n",
       "    </tr>\n",
       "    <tr>\n",
       "      <th>34</th>\n",
       "      <td>Normal</td>\n",
       "      <td>BC</td>\n",
       "      <td>Normal</td>\n",
       "      <td>Normal</td>\n",
       "    </tr>\n",
       "    <tr>\n",
       "      <th>35</th>\n",
       "      <td>Normal</td>\n",
       "      <td>BC</td>\n",
       "      <td>Normal</td>\n",
       "      <td>Normal</td>\n",
       "    </tr>\n",
       "    <tr>\n",
       "      <th>36</th>\n",
       "      <td>Normal</td>\n",
       "      <td>BC</td>\n",
       "      <td>Normal</td>\n",
       "      <td>Normal</td>\n",
       "    </tr>\n",
       "    <tr>\n",
       "      <th>37</th>\n",
       "      <td>Normal</td>\n",
       "      <td>BC</td>\n",
       "      <td>Normal</td>\n",
       "      <td>Normal</td>\n",
       "    </tr>\n",
       "    <tr>\n",
       "      <th>38</th>\n",
       "      <td>Normal</td>\n",
       "      <td>BC</td>\n",
       "      <td>Normal</td>\n",
       "      <td>Normal</td>\n",
       "    </tr>\n",
       "    <tr>\n",
       "      <th>39</th>\n",
       "      <td>Normal</td>\n",
       "      <td>BC</td>\n",
       "      <td>Normal</td>\n",
       "      <td>Normal</td>\n",
       "    </tr>\n",
       "    <tr>\n",
       "      <th>40</th>\n",
       "      <td>Normal</td>\n",
       "      <td>BC</td>\n",
       "      <td>Normal</td>\n",
       "      <td>Normal</td>\n",
       "    </tr>\n",
       "    <tr>\n",
       "      <th>41</th>\n",
       "      <td>Normal</td>\n",
       "      <td>BC</td>\n",
       "      <td>Normal</td>\n",
       "      <td>Normal</td>\n",
       "    </tr>\n",
       "    <tr>\n",
       "      <th>42</th>\n",
       "      <td>Normal</td>\n",
       "      <td>BC</td>\n",
       "      <td>Normal</td>\n",
       "      <td>Normal</td>\n",
       "    </tr>\n",
       "    <tr>\n",
       "      <th>43</th>\n",
       "      <td>Normal</td>\n",
       "      <td>BC</td>\n",
       "      <td>Normal</td>\n",
       "      <td>Normal</td>\n",
       "    </tr>\n",
       "    <tr>\n",
       "      <th>44</th>\n",
       "      <td>Normal</td>\n",
       "      <td>BC</td>\n",
       "      <td>Normal</td>\n",
       "      <td>Normal</td>\n",
       "    </tr>\n",
       "    <tr>\n",
       "      <th>45</th>\n",
       "      <td>Normal</td>\n",
       "      <td>BC</td>\n",
       "      <td>Normal</td>\n",
       "      <td>Normal</td>\n",
       "    </tr>\n",
       "    <tr>\n",
       "      <th>46</th>\n",
       "      <td>Normal</td>\n",
       "      <td>BC</td>\n",
       "      <td>Normal</td>\n",
       "      <td>Normal</td>\n",
       "    </tr>\n",
       "    <tr>\n",
       "      <th>47</th>\n",
       "      <td>Normal</td>\n",
       "      <td>BC</td>\n",
       "      <td>Normal</td>\n",
       "      <td>Normal</td>\n",
       "    </tr>\n",
       "    <tr>\n",
       "      <th>48</th>\n",
       "      <td>Normal</td>\n",
       "      <td>BC</td>\n",
       "      <td>Normal</td>\n",
       "      <td>Normal</td>\n",
       "    </tr>\n",
       "    <tr>\n",
       "      <th>49</th>\n",
       "      <td>Normal</td>\n",
       "      <td>BC</td>\n",
       "      <td>Normal</td>\n",
       "      <td>Normal</td>\n",
       "    </tr>\n",
       "    <tr>\n",
       "      <th>50</th>\n",
       "      <td>Normal</td>\n",
       "      <td>BC</td>\n",
       "      <td>Normal</td>\n",
       "      <td>Normal</td>\n",
       "    </tr>\n",
       "    <tr>\n",
       "      <th>51</th>\n",
       "      <td>Normal</td>\n",
       "      <td>BC</td>\n",
       "      <td>Normal</td>\n",
       "      <td>Normal</td>\n",
       "    </tr>\n",
       "    <tr>\n",
       "      <th>52</th>\n",
       "      <td>Normal</td>\n",
       "      <td>BC</td>\n",
       "      <td>Normal</td>\n",
       "      <td>Normal</td>\n",
       "    </tr>\n",
       "  </tbody>\n",
       "</table>\n",
       "</div>"
      ],
      "text/plain": [
       "    y_true rf_pred svm_pred lr_pred\n",
       "0       BC      BC   Normal  Normal\n",
       "1       BC      BC   Normal  Normal\n",
       "2       BC      BC   Normal  Normal\n",
       "3       BC      BC   Normal  Normal\n",
       "4       BC      BC       BC      BC\n",
       "5       BC      BC   Normal      BC\n",
       "6       BC      BC   Normal  Normal\n",
       "7       BC      BC   Normal      BC\n",
       "8       BC  Normal   Normal  Normal\n",
       "9       BC      BC   Normal  Normal\n",
       "10      BC      BC       BC      BC\n",
       "11      BC      BC       BC      BC\n",
       "12      BC      BC   Normal  Normal\n",
       "13      BC      BC   Normal      BC\n",
       "14      BC      BC       BC      BC\n",
       "15      BC      BC       BC      BC\n",
       "16      BC      BC   Normal  Normal\n",
       "17      BC      BC       BC  Normal\n",
       "18      BC      BC       BC      BC\n",
       "19      BC      BC       BC      BC\n",
       "20      BC      BC   Normal  Normal\n",
       "21      BC      BC   Normal  Normal\n",
       "22      BC      BC   Normal  Normal\n",
       "23      BC      BC   Normal  Normal\n",
       "24      BC      BC   Normal  Normal\n",
       "25      BC      BC   Normal  Normal\n",
       "26      BC      BC   Normal  Normal\n",
       "27      BC      BC   Normal  Normal\n",
       "28      BC      BC   Normal  Normal\n",
       "29      BC      BC   Normal  Normal\n",
       "30      BC      BC   Normal  Normal\n",
       "31      BC      BC   Normal  Normal\n",
       "32  Normal      BC   Normal  Normal\n",
       "33  Normal      BC   Normal  Normal\n",
       "34  Normal      BC   Normal  Normal\n",
       "35  Normal      BC   Normal  Normal\n",
       "36  Normal      BC   Normal  Normal\n",
       "37  Normal      BC   Normal  Normal\n",
       "38  Normal      BC   Normal  Normal\n",
       "39  Normal      BC   Normal  Normal\n",
       "40  Normal      BC   Normal  Normal\n",
       "41  Normal      BC   Normal  Normal\n",
       "42  Normal      BC   Normal  Normal\n",
       "43  Normal      BC   Normal  Normal\n",
       "44  Normal      BC   Normal  Normal\n",
       "45  Normal      BC   Normal  Normal\n",
       "46  Normal      BC   Normal  Normal\n",
       "47  Normal      BC   Normal  Normal\n",
       "48  Normal      BC   Normal  Normal\n",
       "49  Normal      BC   Normal  Normal\n",
       "50  Normal      BC   Normal  Normal\n",
       "51  Normal      BC   Normal  Normal\n",
       "52  Normal      BC   Normal  Normal"
      ]
     },
     "execution_count": 101,
     "metadata": {},
     "output_type": "execute_result"
    }
   ],
   "source": [
    "pd.DataFrame({'y_true' : y_test,\n",
    "             'rf_pred' : rf1.predict(x_test),'svm_pred' : svm1.predict(x_test),'lr_pred' : lr1.predict(x_test)})"
   ]
  },
  {
   "cell_type": "code",
   "execution_count": 103,
   "metadata": {
    "ExecuteTime": {
     "end_time": "2019-02-28T05:24:27.526663Z",
     "start_time": "2019-02-28T05:24:27.516270Z"
    }
   },
   "outputs": [],
   "source": [
    "from sklearn.model_selection import KFold\n",
    "cv = KFold(5, shuffle=True, random_state=0)"
   ]
  },
  {
   "cell_type": "code",
   "execution_count": 175,
   "metadata": {
    "ExecuteTime": {
     "end_time": "2019-02-28T06:30:27.593059Z",
     "start_time": "2019-02-28T06:30:26.991731Z"
    }
   },
   "outputs": [],
   "source": [
    "TCGA_BC_Norm['M1'] = np.NaN\n",
    "TCGA_BC_Norm['M2'] = np.NaN\n",
    "\n",
    "K15_BC_Norm['M1']= np.NaN\n",
    "K15_BC_Norm['M2']= np.NaN"
   ]
  },
  {
   "cell_type": "code",
   "execution_count": 163,
   "metadata": {
    "ExecuteTime": {
     "end_time": "2019-02-28T06:27:43.273215Z",
     "start_time": "2019-02-28T06:27:43.265325Z"
    }
   },
   "outputs": [],
   "source": [
    "import warnings\n",
    "warnings.filterwarnings(action='ignore')"
   ]
  },
  {
   "cell_type": "code",
   "execution_count": 176,
   "metadata": {
    "ExecuteTime": {
     "end_time": "2019-02-28T06:30:39.675072Z",
     "start_time": "2019-02-28T06:30:29.149102Z"
    }
   },
   "outputs": [],
   "source": [
    "#train data\n",
    "for i, (idx_train, idx_cv) in enumerate(cv.split(TCGA_BC_Norm)):\n",
    "    df_train = TCGA_BC_Norm.iloc[idx_train]\n",
    "    df_cv = TCGA_BC_Norm.iloc[idx_cv]\n",
    "    \n",
    "    x_train = df_train.drop(['y','M1','M2'], axis=1)\n",
    "    y_train = df_train['y']\n",
    "    \n",
    "    x_cv = df_cv.drop(['y','M1','M2'], axis=1)\n",
    "    #y_cv = df_cv['y']\n",
    "    \n",
    "    #randomforest\n",
    "    rf1.fit(x_train, y_train)\n",
    "    TCGA_BC_Norm.loc[idx_cv, 'M1'] = rf1.predict(x_cv)\n",
    "    \n",
    "    #svm\n",
    "    svm1.fit(x_train, y_train)\n",
    "    TCGA_BC_Norm.loc[idx_cv, 'M2'] = svm1.predict(x_cv)"
   ]
  },
  {
   "cell_type": "code",
   "execution_count": 177,
   "metadata": {
    "ExecuteTime": {
     "end_time": "2019-02-28T06:30:39.707652Z",
     "start_time": "2019-02-28T06:30:39.677067Z"
    }
   },
   "outputs": [
    {
     "name": "stdout",
     "output_type": "stream",
     "text": [
      "randomforest accuracy :  0.9815515610217597\n",
      "svm accuracy :  0.9654683065279092\n"
     ]
    }
   ],
   "source": [
    "#cv accuracy usning train data\n",
    "print('randomforest accuracy : ',sum(TCGA_BC_Norm['y'] == TCGA_BC_Norm['M1']) / len(TCGA_BC_Norm) )\n",
    "print('svm accuracy : ',sum(TCGA_BC_Norm['y'] == TCGA_BC_Norm['M2']) / len(TCGA_BC_Norm) )"
   ]
  },
  {
   "cell_type": "code",
   "execution_count": 180,
   "metadata": {
    "ExecuteTime": {
     "end_time": "2019-02-28T06:30:44.696741Z",
     "start_time": "2019-02-28T06:30:44.677825Z"
    }
   },
   "outputs": [],
   "source": [
    "x_train = TCGA_BC_Norm.drop(['y','M1','M2'], axis=1)\n",
    "y_train = TCGA_BC_Norm['y']\n",
    "x_test = K15_BC_Norm.drop(['cancer','M1','M2'], axis = 1)"
   ]
  },
  {
   "cell_type": "code",
   "execution_count": 183,
   "metadata": {
    "ExecuteTime": {
     "end_time": "2019-02-28T06:30:49.813072Z",
     "start_time": "2019-02-28T06:30:46.553643Z"
    }
   },
   "outputs": [],
   "source": [
    "rf1.fit(x_train, y_train)\n",
    "K15_BC_Norm['M1'] = rf1.predict(x_test)\n",
    "svm1.fit(x_train, y_train)\n",
    "K15_BC_Norm['M2'] = svm1.predict(x_test)"
   ]
  },
  {
   "cell_type": "code",
   "execution_count": 184,
   "metadata": {
    "ExecuteTime": {
     "end_time": "2019-02-28T06:31:12.845292Z",
     "start_time": "2019-02-28T06:31:11.558608Z"
    }
   },
   "outputs": [],
   "source": [
    "TCGA_BC_Norm['M1'] = TCGA_BC_Norm['M1'].astype('category')\n",
    "TCGA_BC_Norm['M1_cat'] = TCGA_BC_Norm['M1'].cat.codes\n",
    "TCGA_BC_Norm['M2'] = TCGA_BC_Norm['M2'].astype('category')\n",
    "TCGA_BC_Norm['M2_cat'] = TCGA_BC_Norm['M2'].cat.codes\n",
    "\n",
    "K15_BC_Norm['M1'] = K15_BC_Norm['M1'].astype('category')\n",
    "K15_BC_Norm['M1_cat'] = K15_BC_Norm['M1'].cat.codes\n",
    "K15_BC_Norm['M2'] = K15_BC_Norm['M2'].astype('category')\n",
    "K15_BC_Norm['M2_cat'] = K15_BC_Norm['M2'].cat.codes"
   ]
  },
  {
   "cell_type": "code",
   "execution_count": 185,
   "metadata": {
    "ExecuteTime": {
     "end_time": "2019-02-28T06:31:12.874696Z",
     "start_time": "2019-02-28T06:31:12.849158Z"
    }
   },
   "outputs": [],
   "source": [
    "#final Model logistic regression using M1, M2\n",
    "x_train = TCGA_BC_Norm.drop(['y','M1','M2'], axis=1)\n",
    "y_train = TCGA_BC_Norm['y']\n",
    "x_test = K15_BC_Norm.drop(['cancer','M1','M2'], axis = 1)\n",
    "y_test = K15_BC_Norm['cancer']"
   ]
  },
  {
   "cell_type": "code",
   "execution_count": 186,
   "metadata": {
    "ExecuteTime": {
     "end_time": "2019-02-28T06:31:14.290957Z",
     "start_time": "2019-02-28T06:31:13.790059Z"
    }
   },
   "outputs": [
    {
     "name": "stdout",
     "output_type": "stream",
     "text": [
      "              precision    recall  f1-score   support\n",
      "\n",
      "          BC       1.00      0.34      0.51        32\n",
      "      Normal       0.50      1.00      0.67        21\n",
      "\n",
      "   micro avg       0.60      0.60      0.60        53\n",
      "   macro avg       0.75      0.67      0.59        53\n",
      "weighted avg       0.80      0.60      0.57        53\n",
      "\n"
     ]
    }
   ],
   "source": [
    "lr1.fit(x_train, y_train)\n",
    "print(classification_report(y_test, lr1.predict(x_test)))"
   ]
  },
  {
   "cell_type": "code",
   "execution_count": 188,
   "metadata": {
    "ExecuteTime": {
     "end_time": "2019-02-28T06:41:54.585010Z",
     "start_time": "2019-02-28T06:41:54.569130Z"
    }
   },
   "outputs": [
    {
     "data": {
      "text/plain": [
       "array([[11, 21],\n",
       "       [ 0, 21]], dtype=int64)"
      ]
     },
     "execution_count": 188,
     "metadata": {},
     "output_type": "execute_result"
    }
   ],
   "source": [
    "confusion_matrix(y_test, lr1.predict(x_test))"
   ]
  },
  {
   "cell_type": "code",
   "execution_count": 187,
   "metadata": {
    "ExecuteTime": {
     "end_time": "2019-02-28T06:31:43.172132Z",
     "start_time": "2019-02-28T06:31:43.151225Z"
    }
   },
   "outputs": [
    {
     "data": {
      "text/html": [
       "<div>\n",
       "<style scoped>\n",
       "    .dataframe tbody tr th:only-of-type {\n",
       "        vertical-align: middle;\n",
       "    }\n",
       "\n",
       "    .dataframe tbody tr th {\n",
       "        vertical-align: top;\n",
       "    }\n",
       "\n",
       "    .dataframe thead th {\n",
       "        text-align: right;\n",
       "    }\n",
       "</style>\n",
       "<table border=\"1\" class=\"dataframe\">\n",
       "  <thead>\n",
       "    <tr style=\"text-align: right;\">\n",
       "      <th></th>\n",
       "      <th>y_true</th>\n",
       "      <th>y_pred</th>\n",
       "    </tr>\n",
       "  </thead>\n",
       "  <tbody>\n",
       "    <tr>\n",
       "      <th>0</th>\n",
       "      <td>BC</td>\n",
       "      <td>Normal</td>\n",
       "    </tr>\n",
       "    <tr>\n",
       "      <th>1</th>\n",
       "      <td>BC</td>\n",
       "      <td>BC</td>\n",
       "    </tr>\n",
       "    <tr>\n",
       "      <th>2</th>\n",
       "      <td>BC</td>\n",
       "      <td>Normal</td>\n",
       "    </tr>\n",
       "    <tr>\n",
       "      <th>3</th>\n",
       "      <td>BC</td>\n",
       "      <td>Normal</td>\n",
       "    </tr>\n",
       "    <tr>\n",
       "      <th>4</th>\n",
       "      <td>BC</td>\n",
       "      <td>BC</td>\n",
       "    </tr>\n",
       "    <tr>\n",
       "      <th>5</th>\n",
       "      <td>BC</td>\n",
       "      <td>BC</td>\n",
       "    </tr>\n",
       "    <tr>\n",
       "      <th>6</th>\n",
       "      <td>BC</td>\n",
       "      <td>Normal</td>\n",
       "    </tr>\n",
       "    <tr>\n",
       "      <th>7</th>\n",
       "      <td>BC</td>\n",
       "      <td>BC</td>\n",
       "    </tr>\n",
       "    <tr>\n",
       "      <th>8</th>\n",
       "      <td>BC</td>\n",
       "      <td>Normal</td>\n",
       "    </tr>\n",
       "    <tr>\n",
       "      <th>9</th>\n",
       "      <td>BC</td>\n",
       "      <td>Normal</td>\n",
       "    </tr>\n",
       "    <tr>\n",
       "      <th>10</th>\n",
       "      <td>BC</td>\n",
       "      <td>BC</td>\n",
       "    </tr>\n",
       "    <tr>\n",
       "      <th>11</th>\n",
       "      <td>BC</td>\n",
       "      <td>BC</td>\n",
       "    </tr>\n",
       "    <tr>\n",
       "      <th>12</th>\n",
       "      <td>BC</td>\n",
       "      <td>Normal</td>\n",
       "    </tr>\n",
       "    <tr>\n",
       "      <th>13</th>\n",
       "      <td>BC</td>\n",
       "      <td>BC</td>\n",
       "    </tr>\n",
       "    <tr>\n",
       "      <th>14</th>\n",
       "      <td>BC</td>\n",
       "      <td>BC</td>\n",
       "    </tr>\n",
       "    <tr>\n",
       "      <th>15</th>\n",
       "      <td>BC</td>\n",
       "      <td>BC</td>\n",
       "    </tr>\n",
       "    <tr>\n",
       "      <th>16</th>\n",
       "      <td>BC</td>\n",
       "      <td>Normal</td>\n",
       "    </tr>\n",
       "    <tr>\n",
       "      <th>17</th>\n",
       "      <td>BC</td>\n",
       "      <td>Normal</td>\n",
       "    </tr>\n",
       "    <tr>\n",
       "      <th>18</th>\n",
       "      <td>BC</td>\n",
       "      <td>BC</td>\n",
       "    </tr>\n",
       "    <tr>\n",
       "      <th>19</th>\n",
       "      <td>BC</td>\n",
       "      <td>BC</td>\n",
       "    </tr>\n",
       "    <tr>\n",
       "      <th>20</th>\n",
       "      <td>BC</td>\n",
       "      <td>Normal</td>\n",
       "    </tr>\n",
       "    <tr>\n",
       "      <th>21</th>\n",
       "      <td>BC</td>\n",
       "      <td>Normal</td>\n",
       "    </tr>\n",
       "    <tr>\n",
       "      <th>22</th>\n",
       "      <td>BC</td>\n",
       "      <td>Normal</td>\n",
       "    </tr>\n",
       "    <tr>\n",
       "      <th>23</th>\n",
       "      <td>BC</td>\n",
       "      <td>Normal</td>\n",
       "    </tr>\n",
       "    <tr>\n",
       "      <th>24</th>\n",
       "      <td>BC</td>\n",
       "      <td>Normal</td>\n",
       "    </tr>\n",
       "    <tr>\n",
       "      <th>25</th>\n",
       "      <td>BC</td>\n",
       "      <td>Normal</td>\n",
       "    </tr>\n",
       "    <tr>\n",
       "      <th>26</th>\n",
       "      <td>BC</td>\n",
       "      <td>Normal</td>\n",
       "    </tr>\n",
       "    <tr>\n",
       "      <th>27</th>\n",
       "      <td>BC</td>\n",
       "      <td>Normal</td>\n",
       "    </tr>\n",
       "    <tr>\n",
       "      <th>28</th>\n",
       "      <td>BC</td>\n",
       "      <td>Normal</td>\n",
       "    </tr>\n",
       "    <tr>\n",
       "      <th>29</th>\n",
       "      <td>BC</td>\n",
       "      <td>Normal</td>\n",
       "    </tr>\n",
       "    <tr>\n",
       "      <th>30</th>\n",
       "      <td>BC</td>\n",
       "      <td>Normal</td>\n",
       "    </tr>\n",
       "    <tr>\n",
       "      <th>31</th>\n",
       "      <td>BC</td>\n",
       "      <td>Normal</td>\n",
       "    </tr>\n",
       "    <tr>\n",
       "      <th>32</th>\n",
       "      <td>Normal</td>\n",
       "      <td>Normal</td>\n",
       "    </tr>\n",
       "    <tr>\n",
       "      <th>33</th>\n",
       "      <td>Normal</td>\n",
       "      <td>Normal</td>\n",
       "    </tr>\n",
       "    <tr>\n",
       "      <th>34</th>\n",
       "      <td>Normal</td>\n",
       "      <td>Normal</td>\n",
       "    </tr>\n",
       "    <tr>\n",
       "      <th>35</th>\n",
       "      <td>Normal</td>\n",
       "      <td>Normal</td>\n",
       "    </tr>\n",
       "    <tr>\n",
       "      <th>36</th>\n",
       "      <td>Normal</td>\n",
       "      <td>Normal</td>\n",
       "    </tr>\n",
       "    <tr>\n",
       "      <th>37</th>\n",
       "      <td>Normal</td>\n",
       "      <td>Normal</td>\n",
       "    </tr>\n",
       "    <tr>\n",
       "      <th>38</th>\n",
       "      <td>Normal</td>\n",
       "      <td>Normal</td>\n",
       "    </tr>\n",
       "    <tr>\n",
       "      <th>39</th>\n",
       "      <td>Normal</td>\n",
       "      <td>Normal</td>\n",
       "    </tr>\n",
       "    <tr>\n",
       "      <th>40</th>\n",
       "      <td>Normal</td>\n",
       "      <td>Normal</td>\n",
       "    </tr>\n",
       "    <tr>\n",
       "      <th>41</th>\n",
       "      <td>Normal</td>\n",
       "      <td>Normal</td>\n",
       "    </tr>\n",
       "    <tr>\n",
       "      <th>42</th>\n",
       "      <td>Normal</td>\n",
       "      <td>Normal</td>\n",
       "    </tr>\n",
       "    <tr>\n",
       "      <th>43</th>\n",
       "      <td>Normal</td>\n",
       "      <td>Normal</td>\n",
       "    </tr>\n",
       "    <tr>\n",
       "      <th>44</th>\n",
       "      <td>Normal</td>\n",
       "      <td>Normal</td>\n",
       "    </tr>\n",
       "    <tr>\n",
       "      <th>45</th>\n",
       "      <td>Normal</td>\n",
       "      <td>Normal</td>\n",
       "    </tr>\n",
       "    <tr>\n",
       "      <th>46</th>\n",
       "      <td>Normal</td>\n",
       "      <td>Normal</td>\n",
       "    </tr>\n",
       "    <tr>\n",
       "      <th>47</th>\n",
       "      <td>Normal</td>\n",
       "      <td>Normal</td>\n",
       "    </tr>\n",
       "    <tr>\n",
       "      <th>48</th>\n",
       "      <td>Normal</td>\n",
       "      <td>Normal</td>\n",
       "    </tr>\n",
       "    <tr>\n",
       "      <th>49</th>\n",
       "      <td>Normal</td>\n",
       "      <td>Normal</td>\n",
       "    </tr>\n",
       "    <tr>\n",
       "      <th>50</th>\n",
       "      <td>Normal</td>\n",
       "      <td>Normal</td>\n",
       "    </tr>\n",
       "    <tr>\n",
       "      <th>51</th>\n",
       "      <td>Normal</td>\n",
       "      <td>Normal</td>\n",
       "    </tr>\n",
       "    <tr>\n",
       "      <th>52</th>\n",
       "      <td>Normal</td>\n",
       "      <td>Normal</td>\n",
       "    </tr>\n",
       "  </tbody>\n",
       "</table>\n",
       "</div>"
      ],
      "text/plain": [
       "    y_true  y_pred\n",
       "0       BC  Normal\n",
       "1       BC      BC\n",
       "2       BC  Normal\n",
       "3       BC  Normal\n",
       "4       BC      BC\n",
       "5       BC      BC\n",
       "6       BC  Normal\n",
       "7       BC      BC\n",
       "8       BC  Normal\n",
       "9       BC  Normal\n",
       "10      BC      BC\n",
       "11      BC      BC\n",
       "12      BC  Normal\n",
       "13      BC      BC\n",
       "14      BC      BC\n",
       "15      BC      BC\n",
       "16      BC  Normal\n",
       "17      BC  Normal\n",
       "18      BC      BC\n",
       "19      BC      BC\n",
       "20      BC  Normal\n",
       "21      BC  Normal\n",
       "22      BC  Normal\n",
       "23      BC  Normal\n",
       "24      BC  Normal\n",
       "25      BC  Normal\n",
       "26      BC  Normal\n",
       "27      BC  Normal\n",
       "28      BC  Normal\n",
       "29      BC  Normal\n",
       "30      BC  Normal\n",
       "31      BC  Normal\n",
       "32  Normal  Normal\n",
       "33  Normal  Normal\n",
       "34  Normal  Normal\n",
       "35  Normal  Normal\n",
       "36  Normal  Normal\n",
       "37  Normal  Normal\n",
       "38  Normal  Normal\n",
       "39  Normal  Normal\n",
       "40  Normal  Normal\n",
       "41  Normal  Normal\n",
       "42  Normal  Normal\n",
       "43  Normal  Normal\n",
       "44  Normal  Normal\n",
       "45  Normal  Normal\n",
       "46  Normal  Normal\n",
       "47  Normal  Normal\n",
       "48  Normal  Normal\n",
       "49  Normal  Normal\n",
       "50  Normal  Normal\n",
       "51  Normal  Normal\n",
       "52  Normal  Normal"
      ]
     },
     "execution_count": 187,
     "metadata": {},
     "output_type": "execute_result"
    }
   ],
   "source": [
    "pd.DataFrame({'y_true' : y_test, 'y_pred' : lr1.predict(x_test)})"
   ]
  },
  {
   "cell_type": "code",
   "execution_count": null,
   "metadata": {},
   "outputs": [],
   "source": []
  }
 ],
 "metadata": {
  "hide_input": false,
  "kernelspec": {
   "display_name": "Python 3",
   "language": "python",
   "name": "python3"
  },
  "language_info": {
   "codemirror_mode": {
    "name": "ipython",
    "version": 3
   },
   "file_extension": ".py",
   "mimetype": "text/x-python",
   "name": "python",
   "nbconvert_exporter": "python",
   "pygments_lexer": "ipython3",
   "version": "3.7.1"
  },
  "latex_envs": {
   "LaTeX_envs_menu_present": true,
   "autoclose": false,
   "autocomplete": true,
   "bibliofile": "biblio.bib",
   "cite_by": "apalike",
   "current_citInitial": 1,
   "eqLabelWithNumbers": true,
   "eqNumInitial": 1,
   "hotkeys": {
    "equation": "Ctrl-E",
    "itemize": "Ctrl-I"
   },
   "labels_anchors": false,
   "latex_user_defs": false,
   "report_style_numbering": false,
   "user_envs_cfg": false
  },
  "notify_time": "30",
  "toc": {
   "base_numbering": 1,
   "nav_menu": {},
   "number_sections": true,
   "sideBar": true,
   "skip_h1_title": false,
   "title_cell": "Table of Contents",
   "title_sidebar": "Contents",
   "toc_cell": false,
   "toc_position": {
    "height": "calc(100% - 180px)",
    "left": "10px",
    "top": "150px",
    "width": "384px"
   },
   "toc_section_display": true,
   "toc_window_display": true
  }
 },
 "nbformat": 4,
 "nbformat_minor": 2
}
