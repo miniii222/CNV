{
 "cells": [
  {
   "cell_type": "code",
   "execution_count": 1,
   "metadata": {
    "ExecuteTime": {
     "end_time": "2019-04-01T02:03:35.667681Z",
     "start_time": "2019-04-01T02:03:32.099966Z"
    }
   },
   "outputs": [
    {
     "data": {
      "text/plain": [
       "['BC_1022.csv',\n",
       " 'BC_32ea_k100_cyto.csv',\n",
       " 'BC_32ea_k15_cyto.csv',\n",
       " 'K15_1022.csv',\n",
       " 'K15_common.csv',\n",
       " 'normal_1022.csv',\n",
       " 'Normal_21ea_k100_cyto.csv',\n",
       " 'Normal_21ea_k15_cyto.csv',\n",
       " 'PC_1022.csv',\n",
       " 'PC_20ea_k100_cyto.csv',\n",
       " 'PC_20ea_k15_cyto.csv',\n",
       " 'RC_20ea_k100_cyto.csv',\n",
       " 'TCGA_common.csv',\n",
       " 'TCGA_data.csv']"
      ]
     },
     "execution_count": 1,
     "metadata": {},
     "output_type": "execute_result"
    }
   ],
   "source": [
    "import pandas as pd\n",
    "import numpy as np\n",
    "import os\n",
    "os.listdir('../my/data')"
   ]
  },
  {
   "cell_type": "code",
   "execution_count": 7,
   "metadata": {
    "ExecuteTime": {
     "end_time": "2019-04-01T02:04:38.560937Z",
     "start_time": "2019-04-01T02:04:35.667427Z"
    }
   },
   "outputs": [
    {
     "name": "stdout",
     "output_type": "stream",
     "text": [
      "X_train shape : ,  (2114, 763) y_train :  (2114,)\n",
      "X_test shape : ,  (53, 763) y_test :  (53,)\n"
     ]
    }
   ],
   "source": [
    "#NA\n",
    "tcga = pd.read_csv('../my/data/TCGA_common.csv')\n",
    "urine = pd.read_csv('../my/data/K15_common.csv')\n",
    "\n",
    "urine_BC_Norm=urine.loc[urine['cancer'].isin(['Normal','BC'])]\n",
    "tcga_BC_Norm=tcga.loc[tcga['y'].isin(['Normal','BC'])]\n",
    "X_train = tcga_BC_Norm.drop('y', axis = 1)\n",
    "y_train = tcga_BC_Norm['y']\n",
    "X_test = urine_BC_Norm.drop('cancer',axis=1)\n",
    "y_test= urine_BC_Norm['cancer']\n",
    "\n",
    "print('X_train shape : , ', X_train.shape, 'y_train : ', y_train.shape)\n",
    "print('X_test shape : , ', X_test.shape, 'y_test : ', y_test.shape)"
   ]
  },
  {
   "cell_type": "code",
   "execution_count": 8,
   "metadata": {
    "ExecuteTime": {
     "end_time": "2019-04-01T02:04:38.993818Z",
     "start_time": "2019-04-01T02:04:38.566143Z"
    }
   },
   "outputs": [
    {
     "name": "stderr",
     "output_type": "stream",
     "text": [
      "C:\\Users\\wjssm\\Anaconda3\\lib\\site-packages\\ipykernel_launcher.py:1: SettingWithCopyWarning: \n",
      "A value is trying to be set on a copy of a slice from a DataFrame\n",
      "\n",
      "See the caveats in the documentation: http://pandas.pydata.org/pandas-docs/stable/indexing.html#indexing-view-versus-copy\n",
      "  \"\"\"Entry point for launching an IPython kernel.\n",
      "C:\\Users\\wjssm\\Anaconda3\\lib\\site-packages\\ipykernel_launcher.py:2: SettingWithCopyWarning: \n",
      "A value is trying to be set on a copy of a slice from a DataFrame\n",
      "\n",
      "See the caveats in the documentation: http://pandas.pydata.org/pandas-docs/stable/indexing.html#indexing-view-versus-copy\n",
      "  \n",
      "C:\\Users\\wjssm\\Anaconda3\\lib\\site-packages\\ipykernel_launcher.py:4: SettingWithCopyWarning: \n",
      "A value is trying to be set on a copy of a slice from a DataFrame\n",
      "\n",
      "See the caveats in the documentation: http://pandas.pydata.org/pandas-docs/stable/indexing.html#indexing-view-versus-copy\n",
      "  after removing the cwd from sys.path.\n",
      "C:\\Users\\wjssm\\Anaconda3\\lib\\site-packages\\ipykernel_launcher.py:5: SettingWithCopyWarning: \n",
      "A value is trying to be set on a copy of a slice from a DataFrame\n",
      "\n",
      "See the caveats in the documentation: http://pandas.pydata.org/pandas-docs/stable/indexing.html#indexing-view-versus-copy\n",
      "  \"\"\"\n"
     ]
    }
   ],
   "source": [
    "y_train[y_train == 'BC'] =1\n",
    "y_train[y_train == 'Normal'] = 0\n",
    "\n",
    "y_test[y_test == 'BC'] = 1\n",
    "y_test[y_test == 'Normal'] = 0\n",
    "\n",
    "y_train = y_train.astype('int')\n",
    "y_test = y_test.astype('int')"
   ]
  },
  {
   "cell_type": "code",
   "execution_count": 9,
   "metadata": {
    "ExecuteTime": {
     "end_time": "2019-04-01T02:04:54.695703Z",
     "start_time": "2019-04-01T02:04:54.682931Z"
    }
   },
   "outputs": [
    {
     "data": {
      "text/plain": [
       "0    1706\n",
       "1     408\n",
       "Name: y, dtype: int64"
      ]
     },
     "execution_count": 9,
     "metadata": {},
     "output_type": "execute_result"
    }
   ],
   "source": [
    "y_train.value_counts()"
   ]
  },
  {
   "cell_type": "code",
   "execution_count": 10,
   "metadata": {
    "ExecuteTime": {
     "end_time": "2019-04-01T02:05:02.307985Z",
     "start_time": "2019-04-01T02:05:02.300106Z"
    }
   },
   "outputs": [
    {
     "data": {
      "text/plain": [
       "1    32\n",
       "0    21\n",
       "Name: cancer, dtype: int64"
      ]
     },
     "execution_count": 10,
     "metadata": {},
     "output_type": "execute_result"
    }
   ],
   "source": [
    "y_test.value_counts()"
   ]
  },
  {
   "cell_type": "code",
   "execution_count": 11,
   "metadata": {
    "ExecuteTime": {
     "end_time": "2019-04-01T02:05:14.172400Z",
     "start_time": "2019-04-01T02:05:12.371086Z"
    }
   },
   "outputs": [],
   "source": [
    "from sklearn.metrics import accuracy_score\n",
    "from sklearn.metrics import recall_score\n",
    "from sklearn.metrics import precision_score\n",
    "from sklearn.metrics import confusion_matrix\n",
    "from sklearn.metrics import f1_score\n",
    "from sklearn.metrics import roc_auc_score\n",
    "from sklearn.metrics import classification_report\n",
    "from sklearn.metrics import roc_curve\n",
    "\n",
    "def get_eval(y_test, pred) :\n",
    "    \n",
    "    print('accuracy : {0:.4f} precision : {1:.4f} recall : {2:.4f} F1 : {3:.4f} AUC : {4:.4f}'.format(\n",
    "                                                        accuracy_score(y_test, pred), \n",
    "                                                        precision_score(y_test, pred),\n",
    "                                                        recall_score(y_test, pred),\n",
    "                                                        f1_score(y_test,pred),\n",
    "                                                        roc_auc_score(y_test, pred)\n",
    "                                                                      ))\n",
    "    \n",
    "    \n",
    "    \n",
    "    #print('accuracy : {0:.4f}'.format(accuracy_score(y_test,pred)), 'roc_auc_score : ', roc_auc_score(y_test,pred))\n",
    "    #print(classification_report(y_test, pred))\n",
    "    print(confusion_matrix(y_test, pred))"
   ]
  },
  {
   "cell_type": "code",
   "execution_count": 13,
   "metadata": {
    "ExecuteTime": {
     "end_time": "2019-04-01T02:05:25.924999Z",
     "start_time": "2019-04-01T02:05:25.915971Z"
    }
   },
   "outputs": [],
   "source": [
    "import matplotlib.pyplot as plt\n",
    "\n",
    "#draw roc curve\n",
    "def roc_curve_plot(y_test, pred_proba) :\n",
    "    \n",
    "    fpr, tpr, threshold = roc_curve(y_test, pred_proba)\n",
    "    plt.plot(fpr, tpr, label = 'ROC')\n",
    "    plt.plot([0,1],[0,1],'k--', label = 'Random')\n",
    "    \n",
    "    start, end = plt.xlim()\n",
    "    plt.xticks(np.round(np.arange(start, end, 0.1),2))\n",
    "    plt.xlim(0,1)\n",
    "    plt.ylim(0,1)\n",
    "    \n",
    "    plt.xlabel('FPR(1-Sensitivity)')\n",
    "    plt.ylabel('TPR(Recall)')\n",
    "    plt.legend()"
   ]
  },
  {
   "cell_type": "markdown",
   "metadata": {},
   "source": [
    "# scaling"
   ]
  },
  {
   "cell_type": "code",
   "execution_count": 14,
   "metadata": {
    "ExecuteTime": {
     "end_time": "2019-04-01T02:05:39.470832Z",
     "start_time": "2019-04-01T02:05:39.380801Z"
    }
   },
   "outputs": [],
   "source": [
    "X_test = X_test[X_train.columns]\n",
    "from sklearn.preprocessing import MinMaxScaler,MaxAbsScaler\n",
    "#MinMaxScaler\n",
    "X_train_mms = MinMaxScaler().fit_transform(X_train)\n",
    "X_test_mms = MinMaxScaler().fit_transform(X_test)\n",
    "\n",
    "#MaxAbsScaler\n",
    "X_train_mas = MaxAbsScaler().fit_transform(X_train)\n",
    "X_test_mas = MaxAbsScaler().fit_transform(X_test)"
   ]
  },
  {
   "cell_type": "code",
   "execution_count": 24,
   "metadata": {
    "ExecuteTime": {
     "end_time": "2019-04-01T02:20:56.707297Z",
     "start_time": "2019-04-01T02:20:56.698227Z"
    }
   },
   "outputs": [],
   "source": [
    "import warnings\n",
    "warnings.filterwarnings('ignore')"
   ]
  },
  {
   "cell_type": "markdown",
   "metadata": {},
   "source": [
    "# voting"
   ]
  },
  {
   "cell_type": "code",
   "execution_count": 32,
   "metadata": {
    "ExecuteTime": {
     "end_time": "2019-04-01T02:28:51.195100Z",
     "start_time": "2019-04-01T02:28:51.189444Z"
    }
   },
   "outputs": [],
   "source": [
    "from sklearn.ensemble import VotingClassifier\n",
    "\n",
    "def voting_func(models, X_train, X_test) :\n",
    "\n",
    "    soft_vote = VotingClassifier(estimators = models, voting = 'soft')\n",
    "    hard_vote = VotingClassifier(estimators = models, voting = 'hard')\n",
    "\n",
    "    print('soft voting')\n",
    "    soft_vote.fit(X_train ,y_train)\n",
    "    vote_pred = soft_vote.predict(X_test)\n",
    "    get_eval(y_test, vote_pred)\n",
    "\n",
    "    print('hard voting')\n",
    "    hard_vote.fit(X_train, y_train)\n",
    "    vote_pred = hard_vote.predict(X_test)\n",
    "    get_eval(y_test, vote_pred)"
   ]
  },
  {
   "cell_type": "markdown",
   "metadata": {},
   "source": [
    "## Original data"
   ]
  },
  {
   "cell_type": "code",
   "execution_count": 26,
   "metadata": {
    "ExecuteTime": {
     "end_time": "2019-04-01T02:21:51.577570Z",
     "start_time": "2019-04-01T02:21:23.658767Z"
    }
   },
   "outputs": [
    {
     "data": {
      "text/plain": [
       "GradientBoostingClassifier(criterion='friedman_mse', init=None,\n",
       "              learning_rate=0.1, loss='deviance', max_depth=3,\n",
       "              max_features=None, max_leaf_nodes=None,\n",
       "              min_impurity_decrease=0.0, min_impurity_split=None,\n",
       "              min_samples_leaf=1, min_samples_split=2,\n",
       "              min_weight_fraction_leaf=0.0, n_estimators=100,\n",
       "              n_iter_no_change=None, presort='auto', random_state=None,\n",
       "              subsample=1.0, tol=0.0001, validation_fraction=0.1,\n",
       "              verbose=0, warm_start=False)"
      ]
     },
     "execution_count": 26,
     "metadata": {},
     "output_type": "execute_result"
    }
   ],
   "source": [
    "#DecisionTree\n",
    "from sklearn.tree import DecisionTreeClassifier\n",
    "dt = DecisionTreeClassifier(random_state = 156, max_depth = 8)\n",
    "dt.fit(X_train, y_train)\n",
    "\n",
    "#RandomForest\n",
    "from sklearn.ensemble import RandomForestClassifier\n",
    "rf = RandomForestClassifier(n_jobs = -1, max_depth=7, min_samples_leaf=8, min_samples_split=16,\n",
    "                                n_estimators = 200)\n",
    "rf.fit(X_train, y_train)\n",
    "\n",
    "from sklearn.svm import SVC\n",
    "svc = SVC(kernel='rbf', probability=True)\n",
    "svc.fit(X_train, y_train)\n",
    "\n",
    "from sklearn.linear_model import LogisticRegression\n",
    "lr = LogisticRegression()\n",
    "lr.fit(X_train, y_train)\n",
    "\n",
    "from sklearn.ensemble import GradientBoostingClassifier\n",
    "gb = GradientBoostingClassifier()\n",
    "gb.fit(X_train, y_train)"
   ]
  },
  {
   "cell_type": "code",
   "execution_count": 35,
   "metadata": {
    "ExecuteTime": {
     "end_time": "2019-04-01T02:40:25.318048Z",
     "start_time": "2019-04-01T02:39:27.037550Z"
    }
   },
   "outputs": [
    {
     "name": "stdout",
     "output_type": "stream",
     "text": [
      "soft voting\n",
      "accuracy : 0.6038 precision : 0.6222 recall : 0.8750 F1 : 0.7273 AUC : 0.5327\n",
      "[[ 4 17]\n",
      " [ 4 28]]\n",
      "hard voting\n",
      "accuracy : 0.5849 precision : 0.6042 recall : 0.9062 F1 : 0.7250 AUC : 0.5007\n",
      "[[ 2 19]\n",
      " [ 3 29]]\n"
     ]
    }
   ],
   "source": [
    "voting_func([('DT', dt), ('RF', rf), ('SVM',svc), ('LR', lr), ('GB', gb)], X_train, X_test)"
   ]
  },
  {
   "cell_type": "markdown",
   "metadata": {},
   "source": [
    "## MinMaxScale"
   ]
  },
  {
   "cell_type": "code",
   "execution_count": 36,
   "metadata": {
    "ExecuteTime": {
     "end_time": "2019-04-01T02:42:10.162046Z",
     "start_time": "2019-04-01T02:40:25.321664Z"
    }
   },
   "outputs": [
    {
     "name": "stdout",
     "output_type": "stream",
     "text": [
      "soft voting\n",
      "accuracy : 0.6604 precision : 0.7692 recall : 0.6250 F1 : 0.6897 AUC : 0.6696\n",
      "[[15  6]\n",
      " [12 20]]\n",
      "hard voting\n",
      "accuracy : 0.5849 precision : 0.6136 recall : 0.8438 F1 : 0.7105 AUC : 0.5171\n",
      "[[ 4 17]\n",
      " [ 5 27]]\n"
     ]
    }
   ],
   "source": [
    "#DecisionTree\n",
    "from sklearn.tree import DecisionTreeClassifier\n",
    "dt = DecisionTreeClassifier(random_state = 156, max_depth = 8)\n",
    "dt.fit(X_train_mms, y_train)\n",
    "\n",
    "#RandomForest\n",
    "from sklearn.ensemble import RandomForestClassifier\n",
    "rf = RandomForestClassifier(n_jobs = -1, max_depth=7, min_samples_leaf=8, min_samples_split=16,\n",
    "                                n_estimators = 200)\n",
    "rf.fit(X_train_mms, y_train)\n",
    "\n",
    "from sklearn.svm import SVC\n",
    "svc = SVC(kernel='rbf', probability=True)\n",
    "svc.fit(X_train_mms, y_train)\n",
    "\n",
    "from sklearn.linear_model import LogisticRegression\n",
    "lr = LogisticRegression()\n",
    "lr.fit(X_train_mms, y_train)\n",
    "\n",
    "from sklearn.ensemble import GradientBoostingClassifier\n",
    "gb = GradientBoostingClassifier()\n",
    "gb.fit(X_train_mms, y_train)\n",
    "\n",
    "voting_func([('DT', dt), ('RF', rf), ('SVM',svc), ('LR', lr), ('GB', gb)], X_train_mms, X_test_mms)"
   ]
  },
  {
   "cell_type": "markdown",
   "metadata": {},
   "source": [
    "## MaxAbsScale"
   ]
  },
  {
   "cell_type": "code",
   "execution_count": null,
   "metadata": {
    "ExecuteTime": {
     "start_time": "2019-04-01T02:42:33.183Z"
    }
   },
   "outputs": [
    {
     "name": "stdout",
     "output_type": "stream",
     "text": [
      "soft voting\n"
     ]
    }
   ],
   "source": [
    "#DecisionTree\n",
    "from sklearn.tree import DecisionTreeClassifier\n",
    "dt = DecisionTreeClassifier(random_state = 156, max_depth = 8)\n",
    "dt.fit(X_train_mas, y_train)\n",
    "\n",
    "#RandomForest\n",
    "from sklearn.ensemble import RandomForestClassifier\n",
    "rf = RandomForestClassifier(n_jobs = -1, max_depth=7, min_samples_leaf=8, min_samples_split=16,\n",
    "                                n_estimators = 200)\n",
    "rf.fit(X_train_mas, y_train)\n",
    "\n",
    "from sklearn.svm import SVC\n",
    "svc = SVC(kernel='rbf', probability=True)\n",
    "svc.fit(X_train_mas, y_train)\n",
    "\n",
    "from sklearn.linear_model import LogisticRegression\n",
    "lr = LogisticRegression()\n",
    "lr.fit(X_train_mas, y_train)\n",
    "\n",
    "from sklearn.ensemble import GradientBoostingClassifier\n",
    "gb = GradientBoostingClassifier()\n",
    "gb.fit(X_train_mas, y_train)\n",
    "\n",
    "voting_func([('DT', dt), ('RF', rf), ('SVM',svc), ('LR', lr), ('GB', gb)], X_train_mas, X_test_mas)"
   ]
  }
 ],
 "metadata": {
  "hide_input": false,
  "kernelspec": {
   "display_name": "Python 3",
   "language": "python",
   "name": "python3"
  },
  "language_info": {
   "codemirror_mode": {
    "name": "ipython",
    "version": 3
   },
   "file_extension": ".py",
   "mimetype": "text/x-python",
   "name": "python",
   "nbconvert_exporter": "python",
   "pygments_lexer": "ipython3",
   "version": "3.7.1"
  },
  "toc": {
   "base_numbering": 1,
   "nav_menu": {},
   "number_sections": true,
   "sideBar": true,
   "skip_h1_title": false,
   "title_cell": "Table of Contents",
   "title_sidebar": "Contents",
   "toc_cell": false,
   "toc_position": {},
   "toc_section_display": true,
   "toc_window_display": false
  }
 },
 "nbformat": 4,
 "nbformat_minor": 2
}
