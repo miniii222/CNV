{
 "cells": [
  {
   "cell_type": "code",
   "execution_count": 1,
   "metadata": {
    "ExecuteTime": {
     "end_time": "2019-04-02T02:14:20.797561Z",
     "start_time": "2019-04-02T02:14:17.758147Z"
    }
   },
   "outputs": [
    {
     "data": {
      "text/plain": [
       "['BC_1022.csv',\n",
       " 'BC_32ea_k100_cyto.csv',\n",
       " 'BC_32ea_k15_cyto.csv',\n",
       " 'K15_1022.csv',\n",
       " 'K15_common.csv',\n",
       " 'normal_1022.csv',\n",
       " 'Normal_21ea_k100_cyto.csv',\n",
       " 'Normal_21ea_k15_cyto.csv',\n",
       " 'PC_1022.csv',\n",
       " 'PC_20ea_k100_cyto.csv',\n",
       " 'PC_20ea_k15_cyto.csv',\n",
       " 'RC_20ea_k100_cyto.csv',\n",
       " 'TCGA_common.csv',\n",
       " 'TCGA_data.csv']"
      ]
     },
     "execution_count": 1,
     "metadata": {},
     "output_type": "execute_result"
    }
   ],
   "source": [
    "import pandas as pd\n",
    "import numpy as np\n",
    "import os\n",
    "os.listdir('../my/data')"
   ]
  },
  {
   "cell_type": "code",
   "execution_count": 2,
   "metadata": {
    "ExecuteTime": {
     "end_time": "2019-04-02T02:14:22.378005Z",
     "start_time": "2019-04-02T02:14:20.800557Z"
    }
   },
   "outputs": [
    {
     "name": "stdout",
     "output_type": "stream",
     "text": [
      "X_train shape : ,  (2114, 763) y_train :  (2114,)\n",
      "X_test shape : ,  (53, 763) y_test :  (53,)\n"
     ]
    }
   ],
   "source": [
    "#NA\n",
    "tcga = pd.read_csv('../my/data/TCGA_common.csv')\n",
    "urine = pd.read_csv('../my/data/K15_common.csv')\n",
    "\n",
    "urine_BC_Norm=urine.loc[urine['cancer'].isin(['Normal','BC'])]\n",
    "tcga_BC_Norm=tcga.loc[tcga['y'].isin(['Normal','BC'])]\n",
    "X_train = tcga_BC_Norm.drop('y', axis = 1)\n",
    "y_train = tcga_BC_Norm['y']\n",
    "X_test = urine_BC_Norm.drop('cancer',axis=1)\n",
    "y_test= urine_BC_Norm['cancer']\n",
    "\n",
    "print('X_train shape : , ', X_train.shape, 'y_train : ', y_train.shape)\n",
    "print('X_test shape : , ', X_test.shape, 'y_test : ', y_test.shape)"
   ]
  },
  {
   "cell_type": "code",
   "execution_count": 3,
   "metadata": {
    "ExecuteTime": {
     "end_time": "2019-04-02T02:14:22.602555Z",
     "start_time": "2019-04-02T02:14:22.380001Z"
    }
   },
   "outputs": [
    {
     "name": "stderr",
     "output_type": "stream",
     "text": [
      "C:\\Users\\wjssm\\Anaconda3\\lib\\site-packages\\ipykernel_launcher.py:1: SettingWithCopyWarning: \n",
      "A value is trying to be set on a copy of a slice from a DataFrame\n",
      "\n",
      "See the caveats in the documentation: http://pandas.pydata.org/pandas-docs/stable/indexing.html#indexing-view-versus-copy\n",
      "  \"\"\"Entry point for launching an IPython kernel.\n",
      "C:\\Users\\wjssm\\Anaconda3\\lib\\site-packages\\pandas\\core\\generic.py:7626: SettingWithCopyWarning: \n",
      "A value is trying to be set on a copy of a slice from a DataFrame\n",
      "\n",
      "See the caveats in the documentation: http://pandas.pydata.org/pandas-docs/stable/indexing.html#indexing-view-versus-copy\n",
      "  self._update_inplace(new_data)\n",
      "C:\\Users\\wjssm\\Anaconda3\\lib\\site-packages\\IPython\\core\\interactiveshell.py:3267: SettingWithCopyWarning: \n",
      "A value is trying to be set on a copy of a slice from a DataFrame\n",
      "\n",
      "See the caveats in the documentation: http://pandas.pydata.org/pandas-docs/stable/indexing.html#indexing-view-versus-copy\n",
      "  exec(code_obj, self.user_global_ns, self.user_ns)\n",
      "C:\\Users\\wjssm\\Anaconda3\\lib\\site-packages\\ipykernel_launcher.py:2: SettingWithCopyWarning: \n",
      "A value is trying to be set on a copy of a slice from a DataFrame\n",
      "\n",
      "See the caveats in the documentation: http://pandas.pydata.org/pandas-docs/stable/indexing.html#indexing-view-versus-copy\n",
      "  \n",
      "C:\\Users\\wjssm\\Anaconda3\\lib\\site-packages\\ipykernel_launcher.py:4: SettingWithCopyWarning: \n",
      "A value is trying to be set on a copy of a slice from a DataFrame\n",
      "\n",
      "See the caveats in the documentation: http://pandas.pydata.org/pandas-docs/stable/indexing.html#indexing-view-versus-copy\n",
      "  after removing the cwd from sys.path.\n",
      "C:\\Users\\wjssm\\Anaconda3\\lib\\site-packages\\ipykernel_launcher.py:5: SettingWithCopyWarning: \n",
      "A value is trying to be set on a copy of a slice from a DataFrame\n",
      "\n",
      "See the caveats in the documentation: http://pandas.pydata.org/pandas-docs/stable/indexing.html#indexing-view-versus-copy\n",
      "  \"\"\"\n"
     ]
    }
   ],
   "source": [
    "y_train[y_train == 'BC'] =1\n",
    "y_train[y_train == 'Normal'] = 0\n",
    "\n",
    "y_test[y_test == 'BC'] = 1\n",
    "y_test[y_test == 'Normal'] = 0\n",
    "\n",
    "y_train = y_train.astype('int')\n",
    "y_test = y_test.astype('int')"
   ]
  },
  {
   "cell_type": "code",
   "execution_count": 4,
   "metadata": {
    "ExecuteTime": {
     "end_time": "2019-04-02T02:14:22.616518Z",
     "start_time": "2019-04-02T02:14:22.606543Z"
    }
   },
   "outputs": [
    {
     "data": {
      "text/plain": [
       "0    1706\n",
       "1     408\n",
       "Name: y, dtype: int64"
      ]
     },
     "execution_count": 4,
     "metadata": {},
     "output_type": "execute_result"
    }
   ],
   "source": [
    "y_train.value_counts()"
   ]
  },
  {
   "cell_type": "code",
   "execution_count": 5,
   "metadata": {
    "ExecuteTime": {
     "end_time": "2019-04-02T02:14:22.630481Z",
     "start_time": "2019-04-02T02:14:22.619510Z"
    }
   },
   "outputs": [
    {
     "data": {
      "text/plain": [
       "1    32\n",
       "0    21\n",
       "Name: cancer, dtype: int64"
      ]
     },
     "execution_count": 5,
     "metadata": {},
     "output_type": "execute_result"
    }
   ],
   "source": [
    "y_test.value_counts()"
   ]
  },
  {
   "cell_type": "code",
   "execution_count": 6,
   "metadata": {
    "ExecuteTime": {
     "end_time": "2019-04-02T02:14:24.462900Z",
     "start_time": "2019-04-02T02:14:22.634481Z"
    }
   },
   "outputs": [],
   "source": [
    "from sklearn.metrics import accuracy_score\n",
    "from sklearn.metrics import recall_score\n",
    "from sklearn.metrics import precision_score\n",
    "from sklearn.metrics import confusion_matrix\n",
    "from sklearn.metrics import f1_score\n",
    "from sklearn.metrics import roc_auc_score\n",
    "from sklearn.metrics import classification_report\n",
    "from sklearn.metrics import roc_curve\n",
    "\n",
    "def get_eval(y_test, pred) :\n",
    "    \n",
    "    print('accuracy : {0:.4f} precision : {1:.4f} recall : {2:.4f} F1 : {3:.4f} AUC : {4:.4f}'.format(\n",
    "                                                        accuracy_score(y_test, pred), \n",
    "                                                        precision_score(y_test, pred),\n",
    "                                                        recall_score(y_test, pred),\n",
    "                                                        f1_score(y_test,pred),\n",
    "                                                        roc_auc_score(y_test, pred)\n",
    "                                                                      ))\n",
    "    \n",
    "    \n",
    "    \n",
    "    #print('accuracy : {0:.4f}'.format(accuracy_score(y_test,pred)), 'roc_auc_score : ', roc_auc_score(y_test,pred))\n",
    "    #print(classification_report(y_test, pred))\n",
    "    print(confusion_matrix(y_test, pred))"
   ]
  },
  {
   "cell_type": "code",
   "execution_count": 7,
   "metadata": {
    "ExecuteTime": {
     "end_time": "2019-04-02T02:14:24.764367Z",
     "start_time": "2019-04-02T02:14:24.464896Z"
    }
   },
   "outputs": [],
   "source": [
    "import matplotlib.pyplot as plt\n",
    "\n",
    "#draw roc curve\n",
    "def roc_curve_plot(y_test, pred_proba) :\n",
    "    \n",
    "    fpr, tpr, threshold = roc_curve(y_test, pred_proba)\n",
    "    plt.plot(fpr, tpr, label = 'ROC')\n",
    "    plt.plot([0,1],[0,1],'k--', label = 'Random')\n",
    "    \n",
    "    start, end = plt.xlim()\n",
    "    plt.xticks(np.round(np.arange(start, end, 0.1),2))\n",
    "    plt.xlim(0,1)\n",
    "    plt.ylim(0,1)\n",
    "    \n",
    "    plt.xlabel('FPR(1-Sensitivity)')\n",
    "    plt.ylabel('TPR(Recall)')\n",
    "    plt.legend()"
   ]
  },
  {
   "cell_type": "markdown",
   "metadata": {},
   "source": [
    "# scaling"
   ]
  },
  {
   "cell_type": "code",
   "execution_count": 19,
   "metadata": {
    "ExecuteTime": {
     "end_time": "2019-04-02T02:21:54.486538Z",
     "start_time": "2019-04-02T02:21:54.412738Z"
    }
   },
   "outputs": [],
   "source": [
    "X_test = X_test[X_train.columns]\n",
    "from sklearn.preprocessing import MinMaxScaler,MaxAbsScaler\n",
    "#MinMaxScaler\n",
    "X_train_mms = MinMaxScaler().fit_transform(X_train)\n",
    "X_test_mms = MinMaxScaler().fit_transform(X_test)\n",
    "\n",
    "#MaxAbsScaler\n",
    "X_train_mas = MaxAbsScaler().fit_transform(X_train)\n",
    "X_test_mas = MaxAbsScaler().fit_transform(X_test)"
   ]
  },
  {
   "cell_type": "code",
   "execution_count": 20,
   "metadata": {
    "ExecuteTime": {
     "end_time": "2019-04-02T02:22:41.410888Z",
     "start_time": "2019-04-02T02:22:41.395930Z"
    }
   },
   "outputs": [
    {
     "ename": "AttributeError",
     "evalue": "'numpy.ndarray' object has no attribute 'columns'",
     "output_type": "error",
     "traceback": [
      "\u001b[1;31m---------------------------------------------------------------------------\u001b[0m",
      "\u001b[1;31mAttributeError\u001b[0m                            Traceback (most recent call last)",
      "\u001b[1;32m<ipython-input-20-81cdef99fa80>\u001b[0m in \u001b[0;36m<module>\u001b[1;34m\u001b[0m\n\u001b[1;32m----> 1\u001b[1;33m \u001b[0mX_train_mas\u001b[0m\u001b[1;33m.\u001b[0m\u001b[0mcolumns\u001b[0m\u001b[1;33m\u001b[0m\u001b[1;33m\u001b[0m\u001b[0m\n\u001b[0m",
      "\u001b[1;31mAttributeError\u001b[0m: 'numpy.ndarray' object has no attribute 'columns'"
     ]
    }
   ],
   "source": [
    "X_train_mas.columns"
   ]
  },
  {
   "cell_type": "code",
   "execution_count": 9,
   "metadata": {
    "ExecuteTime": {
     "end_time": "2019-04-02T02:14:29.010372Z",
     "start_time": "2019-04-02T02:14:29.005387Z"
    }
   },
   "outputs": [],
   "source": [
    "import warnings\n",
    "warnings.filterwarnings('ignore')"
   ]
  },
  {
   "cell_type": "markdown",
   "metadata": {},
   "source": [
    "# voting"
   ]
  },
  {
   "cell_type": "code",
   "execution_count": 10,
   "metadata": {
    "ExecuteTime": {
     "end_time": "2019-04-02T02:14:30.128144Z",
     "start_time": "2019-04-02T02:14:29.997398Z"
    }
   },
   "outputs": [],
   "source": [
    "from sklearn.ensemble import VotingClassifier\n",
    "\n",
    "def voting_func(models, X_train, X_test) :\n",
    "\n",
    "    soft_vote = VotingClassifier(estimators = models, voting = 'soft')\n",
    "    hard_vote = VotingClassifier(estimators = models, voting = 'hard')\n",
    "\n",
    "    print('soft voting')\n",
    "    soft_vote.fit(X_train ,y_train)\n",
    "    vote_pred = soft_vote.predict(X_test)\n",
    "    get_eval(y_test, vote_pred)\n",
    "\n",
    "    print('hard voting')\n",
    "    hard_vote.fit(X_train, y_train)\n",
    "    vote_pred = hard_vote.predict(X_test)\n",
    "    get_eval(y_test, vote_pred)"
   ]
  },
  {
   "cell_type": "code",
   "execution_count": 17,
   "metadata": {
    "ExecuteTime": {
     "end_time": "2019-04-02T02:20:58.284877Z",
     "start_time": "2019-04-02T02:20:58.278894Z"
    }
   },
   "outputs": [],
   "source": [
    "from sklearn.tree import DecisionTreeClassifier\n",
    "from sklearn.ensemble import RandomForestClassifier\n",
    "from sklearn.svm import SVC\n",
    "from sklearn.linear_model import LogisticRegression\n",
    "from sklearn.ensemble import GradientBoostingClassifier\n",
    "from xgboost import XGBClassifier"
   ]
  },
  {
   "cell_type": "markdown",
   "metadata": {},
   "source": [
    "## Original data"
   ]
  },
  {
   "cell_type": "code",
   "execution_count": 11,
   "metadata": {
    "ExecuteTime": {
     "end_time": "2019-04-02T02:14:44.684060Z",
     "start_time": "2019-04-02T02:14:31.143988Z"
    }
   },
   "outputs": [
    {
     "data": {
      "text/plain": [
       "GradientBoostingClassifier(criterion='friedman_mse', init=None,\n",
       "              learning_rate=0.1, loss='deviance', max_depth=3,\n",
       "              max_features=None, max_leaf_nodes=None,\n",
       "              min_impurity_decrease=0.0, min_impurity_split=None,\n",
       "              min_samples_leaf=1, min_samples_split=2,\n",
       "              min_weight_fraction_leaf=0.0, n_estimators=100,\n",
       "              n_iter_no_change=None, presort='auto', random_state=None,\n",
       "              subsample=1.0, tol=0.0001, validation_fraction=0.1,\n",
       "              verbose=0, warm_start=False)"
      ]
     },
     "execution_count": 11,
     "metadata": {},
     "output_type": "execute_result"
    }
   ],
   "source": [
    "#DecisionTree\n",
    "dt = DecisionTreeClassifier(random_state = 156, max_depth = 8)\n",
    "dt.fit(X_train, y_train)\n",
    "\n",
    "#RandomForest\n",
    "rf = RandomForestClassifier(n_jobs = -1, max_depth=7, min_samples_leaf=8, min_samples_split=16,\n",
    "                                n_estimators = 200)\n",
    "rf.fit(X_train, y_train)\n",
    "\n",
    "#SVM\n",
    "svc = SVC(kernel='rbf', probability=True)\n",
    "svc.fit(X_train, y_train)\n",
    "\n",
    "#LogisticRegression\n",
    "lr = LogisticRegression()\n",
    "lr.fit(X_train, y_train)\n",
    "\n",
    "#GBM\n",
    "gb = GradientBoostingClassifier()\n",
    "gb.fit(X_train, y_train)"
   ]
  },
  {
   "cell_type": "code",
   "execution_count": 12,
   "metadata": {
    "ExecuteTime": {
     "end_time": "2019-04-02T02:15:14.670483Z",
     "start_time": "2019-04-02T02:14:44.687050Z"
    }
   },
   "outputs": [
    {
     "name": "stdout",
     "output_type": "stream",
     "text": [
      "soft voting\n",
      "accuracy : 0.6038 precision : 0.6222 recall : 0.8750 F1 : 0.7273 AUC : 0.5327\n",
      "[[ 4 17]\n",
      " [ 4 28]]\n",
      "hard voting\n",
      "accuracy : 0.5849 precision : 0.6042 recall : 0.9062 F1 : 0.7250 AUC : 0.5007\n",
      "[[ 2 19]\n",
      " [ 3 29]]\n"
     ]
    }
   ],
   "source": [
    "voting_func([('DT', dt), ('RF', rf), ('SVM',svc), ('LR', lr), ('GB', gb)], X_train, X_test)"
   ]
  },
  {
   "cell_type": "markdown",
   "metadata": {},
   "source": [
    "## MinMaxScale"
   ]
  },
  {
   "cell_type": "code",
   "execution_count": 26,
   "metadata": {
    "ExecuteTime": {
     "end_time": "2019-04-02T02:35:28.828522Z",
     "start_time": "2019-04-02T02:34:42.445082Z"
    }
   },
   "outputs": [
    {
     "name": "stdout",
     "output_type": "stream",
     "text": [
      "[0]\tvalidation_0-logloss:0.692969\n",
      "Will train until validation_0-logloss hasn't improved in 100 rounds.\n",
      "[50]\tvalidation_0-logloss:0.684518\n",
      "[100]\tvalidation_0-logloss:0.678019\n",
      "[150]\tvalidation_0-logloss:0.673087\n",
      "[200]\tvalidation_0-logloss:0.669515\n",
      "[250]\tvalidation_0-logloss:0.667155\n",
      "[300]\tvalidation_0-logloss:0.665881\n",
      "[350]\tvalidation_0-logloss:0.66558\n",
      "[399]\tvalidation_0-logloss:0.666121\n"
     ]
    },
    {
     "data": {
      "text/plain": [
       "XGBClassifier(base_score=0.5, booster='gbtree', colsample_bylevel=1,\n",
       "       colsample_bytree=1, gamma=0, learning_rate=0.001, max_delta_step=0,\n",
       "       max_depth=7, min_child_weight=1, missing=None, n_estimators=400,\n",
       "       n_jobs=-1, nthread=None, objective='binary:logistic',\n",
       "       random_state=0, reg_alpha=0, reg_lambda=1, scale_pos_weight=1,\n",
       "       seed=None, silent=True, subsample=1)"
      ]
     },
     "execution_count": 26,
     "metadata": {},
     "output_type": "execute_result"
    }
   ],
   "source": [
    "#DecisionTree\n",
    "dt = DecisionTreeClassifier(random_state = 156, max_depth = 8)\n",
    "dt.fit(X_train_mms, y_train)\n",
    "\n",
    "#RandomForest\n",
    "rf = RandomForestClassifier(n_jobs = -1, max_depth=7, min_samples_leaf=8, min_samples_split=16,\n",
    "                                n_estimators = 200)\n",
    "rf.fit(X_train_mms, y_train)\n",
    "\n",
    "#SVM\n",
    "svc = SVC(kernel='rbf', probability=True)\n",
    "svc.fit(X_train_mms, y_train)\n",
    "\n",
    "\n",
    "lr = LogisticRegression()\n",
    "lr.fit(X_train_mms, y_train)\n",
    "\n",
    "gb = GradientBoostingClassifier()\n",
    "gb.fit(X_train_mms, y_train)\n",
    "\n",
    "xgb = XGBClassifier(learning_rate=0.001, n_estimators=400, n_jobs=-1, max_depth = 7)\n",
    "evals = [(X_test_mms, y_test)]\n",
    "xgb.fit(X_train_mms, y_train ,eval_set = evals, verbose = 50, early_stopping_rounds = 100, eval_metric = 'logloss')\n"
   ]
  },
  {
   "cell_type": "code",
   "execution_count": 27,
   "metadata": {
    "ExecuteTime": {
     "end_time": "2019-04-02T02:36:54.457564Z",
     "start_time": "2019-04-02T02:35:28.831512Z"
    }
   },
   "outputs": [
    {
     "name": "stdout",
     "output_type": "stream",
     "text": [
      "soft voting\n",
      "accuracy : 0.6038 precision : 0.7200 recall : 0.5625 F1 : 0.6316 AUC : 0.6146\n",
      "[[14  7]\n",
      " [14 18]]\n",
      "hard voting\n",
      "accuracy : 0.6226 precision : 0.6429 recall : 0.8438 F1 : 0.7297 AUC : 0.5647\n",
      "[[ 6 15]\n",
      " [ 5 27]]\n"
     ]
    }
   ],
   "source": [
    "voting_func([('DT', dt), ('SVM',svc), ('LR', lr), ('GB', gb), ('XGBoost', xgb)], X_train_mms, X_test_mms)"
   ]
  },
  {
   "cell_type": "code",
   "execution_count": 23,
   "metadata": {
    "ExecuteTime": {
     "end_time": "2019-04-02T02:26:30.811498Z",
     "start_time": "2019-04-02T02:24:59.172970Z"
    }
   },
   "outputs": [
    {
     "name": "stdout",
     "output_type": "stream",
     "text": [
      "soft voting\n",
      "accuracy : 0.6792 precision : 0.7586 recall : 0.6875 F1 : 0.7213 AUC : 0.6771\n",
      "[[14  7]\n",
      " [10 22]]\n",
      "hard voting\n",
      "accuracy : 0.6226 precision : 0.6304 recall : 0.9062 F1 : 0.7436 AUC : 0.5484\n",
      "[[ 4 17]\n",
      " [ 3 29]]\n"
     ]
    }
   ],
   "source": [
    "voting_func([('DT', dt), ('RF', rf), ('SVM',svc), ('LR', lr), ('GB', gb), ('XGBoost', xgb)], X_train_mms, X_test_mms)"
   ]
  },
  {
   "cell_type": "markdown",
   "metadata": {},
   "source": [
    "## MaxAbsScale"
   ]
  },
  {
   "cell_type": "code",
   "execution_count": 24,
   "metadata": {
    "ExecuteTime": {
     "end_time": "2019-04-02T02:31:40.827603Z",
     "start_time": "2019-04-02T02:31:00.630918Z"
    }
   },
   "outputs": [
    {
     "name": "stdout",
     "output_type": "stream",
     "text": [
      "[0]\tvalidation_0-logloss:0.693011\n",
      "Will train until validation_0-logloss hasn't improved in 100 rounds.\n",
      "[50]\tvalidation_0-logloss:0.686535\n",
      "[100]\tvalidation_0-logloss:0.681947\n",
      "[150]\tvalidation_0-logloss:0.678803\n",
      "[200]\tvalidation_0-logloss:0.676818\n",
      "[250]\tvalidation_0-logloss:0.675843\n",
      "[300]\tvalidation_0-logloss:0.675794\n",
      "[350]\tvalidation_0-logloss:0.676568\n",
      "Stopping. Best iteration:\n",
      "[277]\tvalidation_0-logloss:0.675707\n",
      "\n"
     ]
    },
    {
     "data": {
      "text/plain": [
       "XGBClassifier(base_score=0.5, booster='gbtree', colsample_bylevel=1,\n",
       "       colsample_bytree=1, gamma=0, learning_rate=0.001, max_delta_step=0,\n",
       "       max_depth=7, min_child_weight=1, missing=None, n_estimators=400,\n",
       "       n_jobs=-1, nthread=None, objective='binary:logistic',\n",
       "       random_state=0, reg_alpha=0, reg_lambda=1, scale_pos_weight=1,\n",
       "       seed=None, silent=True, subsample=1)"
      ]
     },
     "execution_count": 24,
     "metadata": {},
     "output_type": "execute_result"
    }
   ],
   "source": [
    "#DecisionTree\n",
    "dt = DecisionTreeClassifier(random_state = 156, max_depth = 8)\n",
    "dt.fit(X_train_mas, y_train)\n",
    "\n",
    "#RandomForest\n",
    "rf = RandomForestClassifier(n_jobs = -1, max_depth=7, min_samples_leaf=8, min_samples_split=16,\n",
    "                                n_estimators = 200)\n",
    "rf.fit(X_train_mas, y_train)\n",
    "\n",
    "#SVM\n",
    "svc = SVC(kernel='rbf', probability=True)\n",
    "svc.fit(X_train_mas, y_train)\n",
    "\n",
    "lr = LogisticRegression()\n",
    "lr.fit(X_train_mas, y_train)\n",
    "\n",
    "gb = GradientBoostingClassifier()\n",
    "gb.fit(X_train_mas, y_train)\n",
    "\n",
    "xgb = XGBClassifier(learning_rate=0.001, n_estimators=400, n_jobs=-1, max_depth = 7)\n",
    "evals = [(X_test_mas, y_test)]\n",
    "xgb.fit(X_train_mas, y_train ,eval_set = evals, verbose = 50, early_stopping_rounds = 100, eval_metric = 'logloss')\n"
   ]
  },
  {
   "cell_type": "code",
   "execution_count": 25,
   "metadata": {
    "ExecuteTime": {
     "end_time": "2019-04-02T02:32:14.405962Z",
     "start_time": "2019-04-02T02:31:40.830595Z"
    }
   },
   "outputs": [
    {
     "name": "stdout",
     "output_type": "stream",
     "text": [
      "soft voting\n",
      "accuracy : 0.5660 precision : 0.5918 recall : 0.9062 F1 : 0.7160 AUC : 0.4769\n",
      "[[ 1 20]\n",
      " [ 3 29]]\n",
      "hard voting\n",
      "accuracy : 0.5660 precision : 0.5918 recall : 0.9062 F1 : 0.7160 AUC : 0.4769\n",
      "[[ 1 20]\n",
      " [ 3 29]]\n"
     ]
    }
   ],
   "source": [
    "voting_func([('DT', dt), ('RF', rf), ('SVM',svc), ('LR', lr), ('GB', gb)], X_train_mas, X_test_mas)"
   ]
  }
 ],
 "metadata": {
  "hide_input": false,
  "kernelspec": {
   "display_name": "Python 3",
   "language": "python",
   "name": "python3"
  },
  "language_info": {
   "codemirror_mode": {
    "name": "ipython",
    "version": 3
   },
   "file_extension": ".py",
   "mimetype": "text/x-python",
   "name": "python",
   "nbconvert_exporter": "python",
   "pygments_lexer": "ipython3",
   "version": "3.7.1"
  },
  "toc": {
   "base_numbering": 1,
   "nav_menu": {},
   "number_sections": true,
   "sideBar": true,
   "skip_h1_title": false,
   "title_cell": "Table of Contents",
   "title_sidebar": "Contents",
   "toc_cell": false,
   "toc_position": {},
   "toc_section_display": true,
   "toc_window_display": false
  }
 },
 "nbformat": 4,
 "nbformat_minor": 2
}
