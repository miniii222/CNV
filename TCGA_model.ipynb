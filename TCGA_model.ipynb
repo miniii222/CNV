{
 "cells": [
  {
   "cell_type": "code",
   "execution_count": 1,
   "metadata": {
    "ExecuteTime": {
     "end_time": "2019-02-21T15:08:48.675054Z",
     "start_time": "2019-02-21T15:08:47.803765Z"
    }
   },
   "outputs": [],
   "source": [
    "import numpy as np\n",
    "import pandas as pd\n",
    "from matplotlib import pyplot as plt"
   ]
  },
  {
   "cell_type": "code",
   "execution_count": 2,
   "metadata": {
    "ExecuteTime": {
     "end_time": "2019-02-21T15:08:49.528918Z",
     "start_time": "2019-02-21T15:08:48.908905Z"
    }
   },
   "outputs": [],
   "source": [
    "TCGA = pd.read_csv('TCGA_data.csv')"
   ]
  },
  {
   "cell_type": "code",
   "execution_count": 18,
   "metadata": {
    "ExecuteTime": {
     "end_time": "2019-02-21T05:14:38.608029Z",
     "start_time": "2019-02-21T05:14:38.603038Z"
    }
   },
   "outputs": [
    {
     "data": {
      "text/plain": [
       "(3488, 787)"
      ]
     },
     "execution_count": 18,
     "metadata": {},
     "output_type": "execute_result"
    }
   ],
   "source": [
    "TCGA.shape"
   ]
  },
  {
   "cell_type": "code",
   "execution_count": 19,
   "metadata": {
    "ExecuteTime": {
     "end_time": "2019-02-21T05:14:50.439686Z",
     "start_time": "2019-02-21T05:14:50.434663Z"
    }
   },
   "outputs": [
    {
     "data": {
      "text/plain": [
       "Index(['cyto.1p36.32', 'cyto.1p36.31', 'cyto.1p36.23', 'cyto.1p36.22',\n",
       "       'cyto.1p36.21', 'cyto.1p36.13', 'cyto.1p36.12', 'cyto.1p36.11',\n",
       "       'cyto.1p35.3', 'cyto.1p35.2',\n",
       "       ...\n",
       "       'cyto.9q32', 'cyto.9q33.1', 'cyto.9q33.2', 'cyto.9q33.3',\n",
       "       'cyto.9q34.11', 'cyto.9q34.12', 'cyto.9q34.13', 'cyto.9q34.2',\n",
       "       'cyto.9q34.3', 'y'],\n",
       "      dtype='object', length=787)"
      ]
     },
     "execution_count": 19,
     "metadata": {},
     "output_type": "execute_result"
    }
   ],
   "source": [
    "TCGA.columns"
   ]
  },
  {
   "cell_type": "markdown",
   "metadata": {},
   "source": [
    "#### BLCA - BC\n",
    "#### PAAD - PC\n",
    "#### KICH,KIRC,KIRP-RC"
   ]
  },
  {
   "cell_type": "code",
   "execution_count": 3,
   "metadata": {
    "ExecuteTime": {
     "end_time": "2019-02-21T04:00:20.260299Z",
     "start_time": "2019-02-21T04:00:20.246816Z"
    }
   },
   "outputs": [
    {
     "data": {
      "text/plain": [
       "Normal    1706\n",
       "KIRC       528\n",
       "PRAD       492\n",
       "BLCA       408\n",
       "KIRP       288\n",
       "KICH        66\n",
       "Name: y, dtype: int64"
      ]
     },
     "execution_count": 3,
     "metadata": {},
     "output_type": "execute_result"
    }
   ],
   "source": [
    "TCGA.y.value_counts()"
   ]
  },
  {
   "cell_type": "code",
   "execution_count": 3,
   "metadata": {
    "ExecuteTime": {
     "end_time": "2019-02-21T15:08:52.760965Z",
     "start_time": "2019-02-21T15:08:52.735034Z"
    }
   },
   "outputs": [],
   "source": [
    "TCGA.loc[(TCGA.y == 'BLCA'),'y'] = 'BC'\n",
    "TCGA.loc[(TCGA.y == 'PRAD'),'y'] = 'PC'\n",
    "TCGA.loc[(TCGA.y == 'KICH'),'y'] = 'RC'\n",
    "TCGA.loc[(TCGA.y == 'KIRC'),'y'] = 'RC'\n",
    "TCGA.loc[(TCGA.y == 'KIRP'),'y'] = 'RC'"
   ]
  },
  {
   "cell_type": "code",
   "execution_count": 4,
   "metadata": {
    "ExecuteTime": {
     "end_time": "2019-02-21T15:08:53.846072Z",
     "start_time": "2019-02-21T15:08:53.837097Z"
    }
   },
   "outputs": [
    {
     "data": {
      "text/plain": [
       "Normal    1706\n",
       "RC         882\n",
       "PC         492\n",
       "BC         408\n",
       "Name: y, dtype: int64"
      ]
     },
     "execution_count": 4,
     "metadata": {},
     "output_type": "execute_result"
    }
   ],
   "source": [
    "TCGA.y.value_counts()"
   ]
  },
  {
   "cell_type": "code",
   "execution_count": 5,
   "metadata": {
    "ExecuteTime": {
     "end_time": "2019-02-21T15:08:56.667982Z",
     "start_time": "2019-02-21T15:08:55.897739Z"
    }
   },
   "outputs": [],
   "source": [
    "from sklearn.ensemble import RandomForestClassifier\n",
    "rf1 = RandomForestClassifier()\n",
    "from sklearn.svm import SVC\n",
    "svm1 = SVC()\n",
    "from sklearn.linear_model import Lasso\n",
    "lasso = Lasso()"
   ]
  },
  {
   "cell_type": "code",
   "execution_count": 6,
   "metadata": {
    "ExecuteTime": {
     "end_time": "2019-02-21T15:08:56.675407Z",
     "start_time": "2019-02-21T15:08:56.667982Z"
    }
   },
   "outputs": [],
   "source": [
    "from sklearn.metrics import accuracy_score\n",
    "from sklearn.model_selection import KFold\n",
    "cv = KFold(5, shuffle=True, random_state=0)"
   ]
  },
  {
   "cell_type": "code",
   "execution_count": 10,
   "metadata": {
    "ExecuteTime": {
     "end_time": "2019-02-21T04:02:25.879478Z",
     "start_time": "2019-02-21T04:02:25.842068Z"
    }
   },
   "outputs": [
    {
     "data": {
      "text/html": [
       "<div>\n",
       "<style scoped>\n",
       "    .dataframe tbody tr th:only-of-type {\n",
       "        vertical-align: middle;\n",
       "    }\n",
       "\n",
       "    .dataframe tbody tr th {\n",
       "        vertical-align: top;\n",
       "    }\n",
       "\n",
       "    .dataframe thead th {\n",
       "        text-align: right;\n",
       "    }\n",
       "</style>\n",
       "<table border=\"1\" class=\"dataframe\">\n",
       "  <thead>\n",
       "    <tr style=\"text-align: right;\">\n",
       "      <th></th>\n",
       "      <th>cyto.1p36.32</th>\n",
       "      <th>cyto.1p36.31</th>\n",
       "      <th>cyto.1p36.23</th>\n",
       "      <th>cyto.1p36.22</th>\n",
       "      <th>cyto.1p36.21</th>\n",
       "      <th>cyto.1p36.13</th>\n",
       "      <th>cyto.1p36.12</th>\n",
       "      <th>cyto.1p36.11</th>\n",
       "      <th>cyto.1p35.3</th>\n",
       "      <th>cyto.1p35.2</th>\n",
       "      <th>...</th>\n",
       "      <th>cyto.9q32</th>\n",
       "      <th>cyto.9q33.1</th>\n",
       "      <th>cyto.9q33.2</th>\n",
       "      <th>cyto.9q33.3</th>\n",
       "      <th>cyto.9q34.11</th>\n",
       "      <th>cyto.9q34.12</th>\n",
       "      <th>cyto.9q34.13</th>\n",
       "      <th>cyto.9q34.2</th>\n",
       "      <th>cyto.9q34.3</th>\n",
       "      <th>y</th>\n",
       "    </tr>\n",
       "  </thead>\n",
       "  <tbody>\n",
       "    <tr>\n",
       "      <th>0</th>\n",
       "      <td>-0.1624</td>\n",
       "      <td>-0.1624</td>\n",
       "      <td>-0.1624</td>\n",
       "      <td>-0.1624</td>\n",
       "      <td>-0.1624</td>\n",
       "      <td>-0.1624</td>\n",
       "      <td>-0.1624</td>\n",
       "      <td>-0.1624</td>\n",
       "      <td>-0.1624</td>\n",
       "      <td>-0.1624</td>\n",
       "      <td>...</td>\n",
       "      <td>-0.1732</td>\n",
       "      <td>-0.1732</td>\n",
       "      <td>-0.1732</td>\n",
       "      <td>-0.1732</td>\n",
       "      <td>-0.1732</td>\n",
       "      <td>-0.1732</td>\n",
       "      <td>-0.1732</td>\n",
       "      <td>-0.1732</td>\n",
       "      <td>-0.1732</td>\n",
       "      <td>BC</td>\n",
       "    </tr>\n",
       "    <tr>\n",
       "      <th>1</th>\n",
       "      <td>0.0015</td>\n",
       "      <td>0.0015</td>\n",
       "      <td>0.0015</td>\n",
       "      <td>0.0015</td>\n",
       "      <td>0.0015</td>\n",
       "      <td>0.0015</td>\n",
       "      <td>0.0015</td>\n",
       "      <td>0.0015</td>\n",
       "      <td>0.0015</td>\n",
       "      <td>0.0015</td>\n",
       "      <td>...</td>\n",
       "      <td>0.0009</td>\n",
       "      <td>0.0009</td>\n",
       "      <td>0.0009</td>\n",
       "      <td>0.0009</td>\n",
       "      <td>0.0009</td>\n",
       "      <td>0.0009</td>\n",
       "      <td>0.0009</td>\n",
       "      <td>0.0009</td>\n",
       "      <td>0.0009</td>\n",
       "      <td>Normal</td>\n",
       "    </tr>\n",
       "    <tr>\n",
       "      <th>2</th>\n",
       "      <td>0.4150</td>\n",
       "      <td>0.4150</td>\n",
       "      <td>0.4150</td>\n",
       "      <td>0.4150</td>\n",
       "      <td>0.4150</td>\n",
       "      <td>0.4150</td>\n",
       "      <td>0.4150</td>\n",
       "      <td>-0.2961</td>\n",
       "      <td>0.9639</td>\n",
       "      <td>-0.2736</td>\n",
       "      <td>...</td>\n",
       "      <td>-0.2716</td>\n",
       "      <td>-0.2716</td>\n",
       "      <td>-0.2716</td>\n",
       "      <td>-0.2716</td>\n",
       "      <td>-0.3456</td>\n",
       "      <td>-0.3456</td>\n",
       "      <td>0.2685</td>\n",
       "      <td>-0.3587</td>\n",
       "      <td>-0.3587</td>\n",
       "      <td>BC</td>\n",
       "    </tr>\n",
       "    <tr>\n",
       "      <th>3</th>\n",
       "      <td>-0.0006</td>\n",
       "      <td>-0.0006</td>\n",
       "      <td>-0.0006</td>\n",
       "      <td>-0.0006</td>\n",
       "      <td>0.0033</td>\n",
       "      <td>0.0033</td>\n",
       "      <td>0.0033</td>\n",
       "      <td>0.0033</td>\n",
       "      <td>0.0033</td>\n",
       "      <td>0.0033</td>\n",
       "      <td>...</td>\n",
       "      <td>0.0015</td>\n",
       "      <td>0.0015</td>\n",
       "      <td>0.0015</td>\n",
       "      <td>0.0015</td>\n",
       "      <td>0.0015</td>\n",
       "      <td>0.0015</td>\n",
       "      <td>0.0015</td>\n",
       "      <td>0.0015</td>\n",
       "      <td>0.0015</td>\n",
       "      <td>Normal</td>\n",
       "    </tr>\n",
       "    <tr>\n",
       "      <th>4</th>\n",
       "      <td>-0.0130</td>\n",
       "      <td>0.0030</td>\n",
       "      <td>0.0030</td>\n",
       "      <td>0.0030</td>\n",
       "      <td>0.0030</td>\n",
       "      <td>0.0030</td>\n",
       "      <td>0.0030</td>\n",
       "      <td>0.0030</td>\n",
       "      <td>0.0030</td>\n",
       "      <td>0.0030</td>\n",
       "      <td>...</td>\n",
       "      <td>-0.0024</td>\n",
       "      <td>-0.0024</td>\n",
       "      <td>-0.0024</td>\n",
       "      <td>-0.0024</td>\n",
       "      <td>-0.0024</td>\n",
       "      <td>-0.0024</td>\n",
       "      <td>-0.0024</td>\n",
       "      <td>-0.0024</td>\n",
       "      <td>-0.0024</td>\n",
       "      <td>Normal</td>\n",
       "    </tr>\n",
       "  </tbody>\n",
       "</table>\n",
       "<p>5 rows × 787 columns</p>\n",
       "</div>"
      ],
      "text/plain": [
       "   cyto.1p36.32  cyto.1p36.31  cyto.1p36.23  cyto.1p36.22  cyto.1p36.21  \\\n",
       "0       -0.1624       -0.1624       -0.1624       -0.1624       -0.1624   \n",
       "1        0.0015        0.0015        0.0015        0.0015        0.0015   \n",
       "2        0.4150        0.4150        0.4150        0.4150        0.4150   \n",
       "3       -0.0006       -0.0006       -0.0006       -0.0006        0.0033   \n",
       "4       -0.0130        0.0030        0.0030        0.0030        0.0030   \n",
       "\n",
       "   cyto.1p36.13  cyto.1p36.12  cyto.1p36.11  cyto.1p35.3  cyto.1p35.2   ...    \\\n",
       "0       -0.1624       -0.1624       -0.1624      -0.1624      -0.1624   ...     \n",
       "1        0.0015        0.0015        0.0015       0.0015       0.0015   ...     \n",
       "2        0.4150        0.4150       -0.2961       0.9639      -0.2736   ...     \n",
       "3        0.0033        0.0033        0.0033       0.0033       0.0033   ...     \n",
       "4        0.0030        0.0030        0.0030       0.0030       0.0030   ...     \n",
       "\n",
       "   cyto.9q32  cyto.9q33.1  cyto.9q33.2  cyto.9q33.3  cyto.9q34.11  \\\n",
       "0    -0.1732      -0.1732      -0.1732      -0.1732       -0.1732   \n",
       "1     0.0009       0.0009       0.0009       0.0009        0.0009   \n",
       "2    -0.2716      -0.2716      -0.2716      -0.2716       -0.3456   \n",
       "3     0.0015       0.0015       0.0015       0.0015        0.0015   \n",
       "4    -0.0024      -0.0024      -0.0024      -0.0024       -0.0024   \n",
       "\n",
       "   cyto.9q34.12  cyto.9q34.13  cyto.9q34.2  cyto.9q34.3       y  \n",
       "0       -0.1732       -0.1732      -0.1732      -0.1732      BC  \n",
       "1        0.0009        0.0009       0.0009       0.0009  Normal  \n",
       "2       -0.3456        0.2685      -0.3587      -0.3587      BC  \n",
       "3        0.0015        0.0015       0.0015       0.0015  Normal  \n",
       "4       -0.0024       -0.0024      -0.0024      -0.0024  Normal  \n",
       "\n",
       "[5 rows x 787 columns]"
      ]
     },
     "execution_count": 10,
     "metadata": {},
     "output_type": "execute_result"
    }
   ],
   "source": [
    "TCGA.head()"
   ]
  },
  {
   "cell_type": "code",
   "execution_count": 11,
   "metadata": {
    "ExecuteTime": {
     "end_time": "2019-02-21T04:02:31.045612Z",
     "start_time": "2019-02-21T04:02:31.039354Z"
    }
   },
   "outputs": [
    {
     "data": {
      "text/plain": [
       "(3488, 787)"
      ]
     },
     "execution_count": 11,
     "metadata": {},
     "output_type": "execute_result"
    }
   ],
   "source": [
    "TCGA.shape"
   ]
  },
  {
   "cell_type": "code",
   "execution_count": 14,
   "metadata": {
    "ExecuteTime": {
     "end_time": "2019-02-21T04:28:04.575207Z",
     "start_time": "2019-02-21T04:28:04.493003Z"
    }
   },
   "outputs": [
    {
     "data": {
      "text/plain": [
       "0"
      ]
     },
     "execution_count": 14,
     "metadata": {},
     "output_type": "execute_result"
    }
   ],
   "source": [
    "#na 없음.\n",
    "sum(TCGA.isnull().sum())"
   ]
  },
  {
   "cell_type": "code",
   "execution_count": 15,
   "metadata": {
    "ExecuteTime": {
     "end_time": "2019-02-21T04:31:28.613741Z",
     "start_time": "2019-02-21T04:29:31.447611Z"
    }
   },
   "outputs": [
    {
     "name": "stdout",
     "output_type": "stream",
     "text": [
      "[K = 0 ]\n",
      "-----------svm1-----------\n",
      "train accurcacy = 0.8551971326164874, cv accurcacy = 0.8510028653295129\n",
      "--------rf1--------\n",
      "train accurcacy = 0.9949820788530466, cv accurcacy = 0.9054441260744985\n",
      "[K = 1 ]\n",
      "-----------svm1-----------\n",
      "train accurcacy = 0.8548387096774194, cv accurcacy = 0.8853868194842407\n",
      "--------rf1--------\n",
      "train accurcacy = 0.9949820788530466, cv accurcacy = 0.9269340974212035\n",
      "[K = 2 ]\n",
      "-----------svm1-----------\n",
      "train accurcacy = 0.864516129032258, cv accurcacy = 0.8409742120343839\n",
      "--------rf1--------\n",
      "train accurcacy = 0.9942652329749104, cv accurcacy = 0.8968481375358166\n",
      "[K = 3 ]\n",
      "-----------svm1-----------\n",
      "train accurcacy = 0.864206377642422, cv accurcacy = 0.8407460545193687\n",
      "--------rf1--------\n",
      "train accurcacy = 0.9949838767466858, cv accurcacy = 0.9081779053084649\n",
      "[K = 4 ]\n",
      "-----------svm1-----------\n",
      "train accurcacy = 0.8609817269795772, cv accurcacy = 0.8550932568149211\n",
      "--------rf1--------\n",
      "train accurcacy = 0.9953421712647796, cv accurcacy = 0.9010043041606887\n"
     ]
    }
   ],
   "source": [
    "for i, (idx_train, idx_cv) in enumerate(cv.split(TCGA)):\n",
    "    df_train = TCGA.iloc[idx_train]\n",
    "    df_cv = TCGA.iloc[idx_cv]\n",
    "    \n",
    "    x_train = df_train.drop(['y'], axis=1)\n",
    "    y_train = df_train['y']\n",
    "    \n",
    "    x_cv = df_cv.drop(['y'], axis=1)\n",
    "    y_cv = df_cv['y']\n",
    "    \n",
    "    print('[K =',i,']')\n",
    "    print('svm')\n",
    "    svm1.fit(x_train, y_train)\n",
    "    print(\"train accurcacy = {}, cv accurcacy = {}\".format(accuracy_score(y_train, svm1.predict(x_train)), accuracy_score(y_cv, svm1.predict(x_cv))))\n",
    "    print('random forest')\n",
    "    rf1.fit(x_train, y_train)\n",
    "    print(\"train accurcacy = {}, cv accurcacy = {}\".format(accuracy_score(y_train, rf1.predict(x_train)), accuracy_score(y_cv, rf1.predict(x_cv))))\n",
    "    print('lasso')\n",
    "    lasso.fit(x_train, y_train)\n",
    "    print(\"train accurcacy = {}, cv accurcacy = {}\".format(accuracy_score(y_train, rf1.predict(x_train)), accuracy_score(y_cv, rf1.predict(x_cv))))\n",
    "    "
   ]
  },
  {
   "cell_type": "code",
   "execution_count": 24,
   "metadata": {
    "ExecuteTime": {
     "end_time": "2019-02-21T05:17:25.200766Z",
     "start_time": "2019-02-21T05:17:24.436811Z"
    }
   },
   "outputs": [
    {
     "data": {
      "text/plain": [
       "RandomForestClassifier(bootstrap=True, class_weight=None, criterion='gini',\n",
       "            max_depth=None, max_features='auto', max_leaf_nodes=None,\n",
       "            min_impurity_decrease=0.0, min_impurity_split=None,\n",
       "            min_samples_leaf=1, min_samples_split=2,\n",
       "            min_weight_fraction_leaf=0.0, n_estimators=10, n_jobs=1,\n",
       "            oob_score=False, random_state=None, verbose=0,\n",
       "            warm_start=False)"
      ]
     },
     "execution_count": 24,
     "metadata": {},
     "output_type": "execute_result"
    }
   ],
   "source": [
    "rf1.fit(TCGA.drop(['y'], axis=1), TCGA['y'] ) "
   ]
  },
  {
   "cell_type": "code",
   "execution_count": 37,
   "metadata": {
    "ExecuteTime": {
     "end_time": "2019-02-21T05:22:35.416290Z",
     "start_time": "2019-02-21T05:22:35.267620Z"
    }
   },
   "outputs": [],
   "source": [
    "import seaborn as sns"
   ]
  },
  {
   "cell_type": "code",
   "execution_count": 39,
   "metadata": {
    "ExecuteTime": {
     "end_time": "2019-02-21T05:23:17.346781Z",
     "start_time": "2019-02-21T05:23:07.202914Z"
    }
   },
   "outputs": [
    {
     "data": {
      "image/png": "[encoded data removed]",
      "text/plain": [
       "<Figure size 1440x1080 with 1 Axes>"
      ]
     },
     "metadata": {},
     "output_type": "display_data"
    }
   ],
   "source": [
    "# sorted(zip(clf.feature_importances_, X.columns), reverse=True)\n",
    "feature_imp = pd.DataFrame(sorted(zip(rf1.feature_importances_, x_train.columns)), columns=['Value','Feature'])\n",
    "\n",
    "plt.figure(figsize=(20, 15))\n",
    "sns.barplot(x=\"Value\", y=\"Feature\", data=feature_imp.sort_values(by=\"Value\", ascending=False))\n",
    "plt.title('randomforest Features (avg over folds)')\n",
    "plt.tight_layout()\n",
    "plt.show()"
   ]
  },
  {
   "cell_type": "code",
   "execution_count": 42,
   "metadata": {
    "ExecuteTime": {
     "end_time": "2019-02-21T05:24:35.215589Z",
     "start_time": "2019-02-21T05:24:34.978195Z"
    }
   },
   "outputs": [
    {
     "data": {
      "text/plain": [
       "<matplotlib.axes._subplots.AxesSubplot at 0x226fdb16c88>"
      ]
     },
     "execution_count": 42,
     "metadata": {},
     "output_type": "execute_result"
    },
    {
     "data": {
      "image/png": "[encoded data removed]",
      "text/plain": [
       "<Figure size 504x720 with 1 Axes>"
      ]
     },
     "metadata": {},
     "output_type": "display_data"
    }
   ],
   "source": [
    "plt.figure(figsize = (7,10))\n",
    "feat_importances = pd.Series(rf1.feature_importances_, index=x_train.columns)\n",
    "feat_importances.nlargest(20).plot(kind='barh')"
   ]
  },
  {
   "cell_type": "code",
   "execution_count": 43,
   "metadata": {
    "ExecuteTime": {
     "end_time": "2019-02-21T05:54:08.952208Z",
     "start_time": "2019-02-21T05:54:08.938427Z"
    }
   },
   "outputs": [
    {
     "data": {
      "text/plain": [
       "cyto.7p15.1      0.061995\n",
       "cyto.3p22.1      0.040225\n",
       "cyto.7p21.1      0.028997\n",
       "cyto.7p12.3      0.028688\n",
       "cyto.7q21.11     0.028456\n",
       "cyto.7q22.2      0.028362\n",
       "cyto.7p22.2      0.028236\n",
       "cyto.7p22.3      0.028130\n",
       "cyto.16p12.1     0.026027\n",
       "cyto.12q13.13    0.024748\n",
       "cyto.3p24.1      0.019973\n",
       "cyto.3p21.33     0.015984\n",
       "cyto.3p21.32     0.015746\n",
       "cyto.3p22.2      0.014796\n",
       "cyto.5q34        0.014373\n",
       "cyto.8p21.2      0.013510\n",
       "cyto.1q21.2      0.013510\n",
       "cyto.6q26        0.012531\n",
       "cyto.3p21.2      0.011101\n",
       "cyto.3p25.1      0.010530\n",
       "dtype: float64"
      ]
     },
     "execution_count": 43,
     "metadata": {},
     "output_type": "execute_result"
    }
   ],
   "source": [
    "feat_importances.nlargest(20)"
   ]
  },
  {
   "cell_type": "markdown",
   "metadata": {},
   "source": [
    "## K100"
   ]
  },
  {
   "cell_type": "code",
   "execution_count": 7,
   "metadata": {
    "ExecuteTime": {
     "end_time": "2019-02-21T15:09:10.700188Z",
     "start_time": "2019-02-21T15:09:10.575131Z"
    }
   },
   "outputs": [],
   "source": [
    "BC_100 = pd.read_csv('BC_32ea_k100_cyto.csv')\n",
    "Normal_100 = pd.read_csv('Normal_21ea_k100_cyto.csv')\n",
    "PC_100 = pd.read_csv('PC_20ea_k100_cyto.csv')\n",
    "RC_100 = pd.read_csv('RC_20ea_k100_cyto.csv')"
   ]
  },
  {
   "cell_type": "code",
   "execution_count": 8,
   "metadata": {
    "ExecuteTime": {
     "end_time": "2019-02-21T15:09:12.795443Z",
     "start_time": "2019-02-21T15:09:12.785470Z"
    }
   },
   "outputs": [],
   "source": [
    "#drop person id\n",
    "BC_100.drop('Unnamed: 0', axis = 1, inplace = True)\n",
    "Normal_100.drop('Unnamed: 0', axis = 1, inplace = True)\n",
    "PC_100.drop('Unnamed: 0', axis = 1, inplace = True)\n",
    "RC_100.drop('Unnamed: 0', axis = 1, inplace = True)"
   ]
  },
  {
   "cell_type": "code",
   "execution_count": 9,
   "metadata": {
    "ExecuteTime": {
     "end_time": "2019-02-21T15:09:17.541740Z",
     "start_time": "2019-02-21T15:09:17.528810Z"
    }
   },
   "outputs": [],
   "source": [
    "BC_100['cancer'] = 'BC'\n",
    "Normal_100['cancer'] = 'normal'\n",
    "PC_100['cancer'] = 'PC'\n",
    "RC_100['cancer'] = \"RC\"\n",
    "\n",
    "K100 = pd.concat([BC_100,Normal_100,PC_100,RC_100], axis = 0)"
   ]
  },
  {
   "cell_type": "code",
   "execution_count": 10,
   "metadata": {
    "ExecuteTime": {
     "end_time": "2019-02-21T15:09:22.717951Z",
     "start_time": "2019-02-21T15:09:22.713963Z"
    }
   },
   "outputs": [],
   "source": [
    "rf2 = RandomForestClassifier()\n",
    "svm2 = SVC()"
   ]
  },
  {
   "cell_type": "code",
   "execution_count": 11,
   "metadata": {
    "ExecuteTime": {
     "end_time": "2019-02-21T15:09:32.405810Z",
     "start_time": "2019-02-21T15:09:32.396837Z"
    }
   },
   "outputs": [],
   "source": [
    "K100.dropna(inplace=True)"
   ]
  },
  {
   "cell_type": "markdown",
   "metadata": {},
   "source": [
    "### TCGA 모델로 소변데이터(K100) predict"
   ]
  },
  {
   "cell_type": "code",
   "execution_count": 96,
   "metadata": {
    "ExecuteTime": {
     "end_time": "2019-02-20T06:30:03.746227Z",
     "start_time": "2019-02-20T06:30:03.715310Z"
    }
   },
   "outputs": [
    {
     "data": {
      "text/html": [
       "<div>\n",
       "<style scoped>\n",
       "    .dataframe tbody tr th:only-of-type {\n",
       "        vertical-align: middle;\n",
       "    }\n",
       "\n",
       "    .dataframe tbody tr th {\n",
       "        vertical-align: top;\n",
       "    }\n",
       "\n",
       "    .dataframe thead th {\n",
       "        text-align: right;\n",
       "    }\n",
       "</style>\n",
       "<table border=\"1\" class=\"dataframe\">\n",
       "  <thead>\n",
       "    <tr style=\"text-align: right;\">\n",
       "      <th></th>\n",
       "      <th>id</th>\n",
       "      <th>cyto.10p11.1</th>\n",
       "      <th>cyto.10p11.21</th>\n",
       "      <th>cyto.10p11.22</th>\n",
       "      <th>cyto.10p11.23</th>\n",
       "      <th>cyto.10p12.1</th>\n",
       "      <th>cyto.10p12.2</th>\n",
       "      <th>cyto.10p12.31</th>\n",
       "      <th>cyto.10p12.32</th>\n",
       "      <th>cyto.10p12.33</th>\n",
       "      <th>...</th>\n",
       "      <th>cyto.9q33.1</th>\n",
       "      <th>cyto.9q33.2</th>\n",
       "      <th>cyto.9q33.3</th>\n",
       "      <th>cyto.9q34.11</th>\n",
       "      <th>cyto.9q34.12</th>\n",
       "      <th>cyto.9q34.13</th>\n",
       "      <th>cyto.9q34.2</th>\n",
       "      <th>cyto.9q34.3</th>\n",
       "      <th>&lt;NA&gt;</th>\n",
       "      <th>cancer</th>\n",
       "    </tr>\n",
       "  </thead>\n",
       "  <tbody>\n",
       "    <tr>\n",
       "      <th>0</th>\n",
       "      <td>B001</td>\n",
       "      <td>0.181000</td>\n",
       "      <td>-0.019967</td>\n",
       "      <td>0.044536</td>\n",
       "      <td>-0.026000</td>\n",
       "      <td>0.018065</td>\n",
       "      <td>0.00490</td>\n",
       "      <td>0.048000</td>\n",
       "      <td>0.084</td>\n",
       "      <td>-0.042857</td>\n",
       "      <td>...</td>\n",
       "      <td>0.015217</td>\n",
       "      <td>-0.044152</td>\n",
       "      <td>-0.004636</td>\n",
       "      <td>0.014333</td>\n",
       "      <td>0.0116</td>\n",
       "      <td>-0.004737</td>\n",
       "      <td>-0.019571</td>\n",
       "      <td>-0.022065</td>\n",
       "      <td>-0.7450</td>\n",
       "      <td>BC</td>\n",
       "    </tr>\n",
       "    <tr>\n",
       "      <th>1</th>\n",
       "      <td>B002</td>\n",
       "      <td>0.127000</td>\n",
       "      <td>0.010733</td>\n",
       "      <td>0.031250</td>\n",
       "      <td>0.048600</td>\n",
       "      <td>0.084413</td>\n",
       "      <td>0.05160</td>\n",
       "      <td>0.092889</td>\n",
       "      <td>0.102</td>\n",
       "      <td>-0.012857</td>\n",
       "      <td>...</td>\n",
       "      <td>-0.043478</td>\n",
       "      <td>-0.046000</td>\n",
       "      <td>-0.007386</td>\n",
       "      <td>-0.009233</td>\n",
       "      <td>-0.0136</td>\n",
       "      <td>-0.060474</td>\n",
       "      <td>0.027714</td>\n",
       "      <td>0.002290</td>\n",
       "      <td>0.2550</td>\n",
       "      <td>BC</td>\n",
       "    </tr>\n",
       "    <tr>\n",
       "      <th>2</th>\n",
       "      <td>B003</td>\n",
       "      <td>0.004000</td>\n",
       "      <td>0.007567</td>\n",
       "      <td>0.024964</td>\n",
       "      <td>0.081200</td>\n",
       "      <td>-0.011391</td>\n",
       "      <td>0.03605</td>\n",
       "      <td>-0.050194</td>\n",
       "      <td>-0.093</td>\n",
       "      <td>-0.059857</td>\n",
       "      <td>...</td>\n",
       "      <td>-0.158783</td>\n",
       "      <td>-0.193576</td>\n",
       "      <td>-0.075977</td>\n",
       "      <td>-0.106667</td>\n",
       "      <td>-0.0114</td>\n",
       "      <td>-0.072421</td>\n",
       "      <td>-0.127714</td>\n",
       "      <td>-0.168903</td>\n",
       "      <td>-0.1360</td>\n",
       "      <td>BC</td>\n",
       "    </tr>\n",
       "    <tr>\n",
       "      <th>3</th>\n",
       "      <td>B004</td>\n",
       "      <td>0.135667</td>\n",
       "      <td>0.061467</td>\n",
       "      <td>-0.061286</td>\n",
       "      <td>-0.071733</td>\n",
       "      <td>0.070522</td>\n",
       "      <td>0.06270</td>\n",
       "      <td>0.020556</td>\n",
       "      <td>-0.002</td>\n",
       "      <td>0.050857</td>\n",
       "      <td>...</td>\n",
       "      <td>-0.019326</td>\n",
       "      <td>0.012515</td>\n",
       "      <td>-0.009591</td>\n",
       "      <td>0.016667</td>\n",
       "      <td>0.0438</td>\n",
       "      <td>0.019947</td>\n",
       "      <td>0.011500</td>\n",
       "      <td>0.031387</td>\n",
       "      <td>0.0100</td>\n",
       "      <td>BC</td>\n",
       "    </tr>\n",
       "    <tr>\n",
       "      <th>4</th>\n",
       "      <td>B006</td>\n",
       "      <td>-0.251000</td>\n",
       "      <td>-0.134700</td>\n",
       "      <td>-0.175750</td>\n",
       "      <td>-0.165800</td>\n",
       "      <td>-0.112522</td>\n",
       "      <td>-0.06670</td>\n",
       "      <td>-0.127972</td>\n",
       "      <td>0.026</td>\n",
       "      <td>-0.198429</td>\n",
       "      <td>...</td>\n",
       "      <td>-0.074109</td>\n",
       "      <td>0.024758</td>\n",
       "      <td>0.097000</td>\n",
       "      <td>0.018667</td>\n",
       "      <td>0.1170</td>\n",
       "      <td>0.058368</td>\n",
       "      <td>0.038571</td>\n",
       "      <td>0.020065</td>\n",
       "      <td>-0.4595</td>\n",
       "      <td>BC</td>\n",
       "    </tr>\n",
       "  </tbody>\n",
       "</table>\n",
       "<p>5 rows × 767 columns</p>\n",
       "</div>"
      ],
      "text/plain": [
       "     id  cyto.10p11.1  cyto.10p11.21  cyto.10p11.22  cyto.10p11.23  \\\n",
       "0  B001      0.181000      -0.019967       0.044536      -0.026000   \n",
       "1  B002      0.127000       0.010733       0.031250       0.048600   \n",
       "2  B003      0.004000       0.007567       0.024964       0.081200   \n",
       "3  B004      0.135667       0.061467      -0.061286      -0.071733   \n",
       "4  B006     -0.251000      -0.134700      -0.175750      -0.165800   \n",
       "\n",
       "   cyto.10p12.1  cyto.10p12.2  cyto.10p12.31  cyto.10p12.32  cyto.10p12.33  \\\n",
       "0      0.018065       0.00490       0.048000          0.084      -0.042857   \n",
       "1      0.084413       0.05160       0.092889          0.102      -0.012857   \n",
       "2     -0.011391       0.03605      -0.050194         -0.093      -0.059857   \n",
       "3      0.070522       0.06270       0.020556         -0.002       0.050857   \n",
       "4     -0.112522      -0.06670      -0.127972          0.026      -0.198429   \n",
       "\n",
       "    ...    cyto.9q33.1  cyto.9q33.2  cyto.9q33.3  cyto.9q34.11  cyto.9q34.12  \\\n",
       "0   ...       0.015217    -0.044152    -0.004636      0.014333        0.0116   \n",
       "1   ...      -0.043478    -0.046000    -0.007386     -0.009233       -0.0136   \n",
       "2   ...      -0.158783    -0.193576    -0.075977     -0.106667       -0.0114   \n",
       "3   ...      -0.019326     0.012515    -0.009591      0.016667        0.0438   \n",
       "4   ...      -0.074109     0.024758     0.097000      0.018667        0.1170   \n",
       "\n",
       "   cyto.9q34.13  cyto.9q34.2  cyto.9q34.3    <NA>  cancer  \n",
       "0     -0.004737    -0.019571    -0.022065 -0.7450      BC  \n",
       "1     -0.060474     0.027714     0.002290  0.2550      BC  \n",
       "2     -0.072421    -0.127714    -0.168903 -0.1360      BC  \n",
       "3      0.019947     0.011500     0.031387  0.0100      BC  \n",
       "4      0.058368     0.038571     0.020065 -0.4595      BC  \n",
       "\n",
       "[5 rows x 767 columns]"
      ]
     },
     "execution_count": 96,
     "metadata": {},
     "output_type": "execute_result"
    }
   ],
   "source": [
    "K100.head()"
   ]
  },
  {
   "cell_type": "code",
   "execution_count": 12,
   "metadata": {
    "ExecuteTime": {
     "end_time": "2019-02-21T15:09:50.954671Z",
     "start_time": "2019-02-21T15:09:50.937715Z"
    }
   },
   "outputs": [],
   "source": [
    "TCGA2 = TCGA.drop(list(set(TCGA.columns) - set(K100.columns)), axis = 1)"
   ]
  },
  {
   "cell_type": "code",
   "execution_count": 13,
   "metadata": {
    "ExecuteTime": {
     "end_time": "2019-02-21T15:09:51.567614Z",
     "start_time": "2019-02-21T15:09:51.561663Z"
    }
   },
   "outputs": [],
   "source": [
    "K100_2 = K100.drop(list(set(K100.columns) - set(TCGA.columns)), axis = 1)"
   ]
  },
  {
   "cell_type": "code",
   "execution_count": 15,
   "metadata": {
    "ExecuteTime": {
     "end_time": "2019-02-21T15:10:00.461746Z",
     "start_time": "2019-02-21T15:10:00.456758Z"
    }
   },
   "outputs": [
    {
     "data": {
      "text/plain": [
       "(88, 762)"
      ]
     },
     "execution_count": 15,
     "metadata": {},
     "output_type": "execute_result"
    }
   ],
   "source": [
    "K100_2.shape"
   ]
  },
  {
   "cell_type": "code",
   "execution_count": 16,
   "metadata": {
    "ExecuteTime": {
     "end_time": "2019-02-21T15:10:06.270139Z",
     "start_time": "2019-02-21T15:10:06.239224Z"
    }
   },
   "outputs": [
    {
     "data": {
      "text/html": [
       "<div>\n",
       "<style scoped>\n",
       "    .dataframe tbody tr th:only-of-type {\n",
       "        vertical-align: middle;\n",
       "    }\n",
       "\n",
       "    .dataframe tbody tr th {\n",
       "        vertical-align: top;\n",
       "    }\n",
       "\n",
       "    .dataframe thead th {\n",
       "        text-align: right;\n",
       "    }\n",
       "</style>\n",
       "<table border=\"1\" class=\"dataframe\">\n",
       "  <thead>\n",
       "    <tr style=\"text-align: right;\">\n",
       "      <th></th>\n",
       "      <th>cyto.10p11.1</th>\n",
       "      <th>cyto.10p11.21</th>\n",
       "      <th>cyto.10p11.22</th>\n",
       "      <th>cyto.10p11.23</th>\n",
       "      <th>cyto.10p12.1</th>\n",
       "      <th>cyto.10p12.2</th>\n",
       "      <th>cyto.10p12.31</th>\n",
       "      <th>cyto.10p12.32</th>\n",
       "      <th>cyto.10p12.33</th>\n",
       "      <th>cyto.10p13</th>\n",
       "      <th>...</th>\n",
       "      <th>cyto.9q31.3</th>\n",
       "      <th>cyto.9q32</th>\n",
       "      <th>cyto.9q33.1</th>\n",
       "      <th>cyto.9q33.2</th>\n",
       "      <th>cyto.9q33.3</th>\n",
       "      <th>cyto.9q34.11</th>\n",
       "      <th>cyto.9q34.12</th>\n",
       "      <th>cyto.9q34.13</th>\n",
       "      <th>cyto.9q34.2</th>\n",
       "      <th>cyto.9q34.3</th>\n",
       "    </tr>\n",
       "  </thead>\n",
       "  <tbody>\n",
       "    <tr>\n",
       "      <th>0</th>\n",
       "      <td>0.181000</td>\n",
       "      <td>-0.019967</td>\n",
       "      <td>0.044536</td>\n",
       "      <td>-0.026000</td>\n",
       "      <td>0.018065</td>\n",
       "      <td>0.00490</td>\n",
       "      <td>0.048000</td>\n",
       "      <td>0.084</td>\n",
       "      <td>-0.042857</td>\n",
       "      <td>0.01960</td>\n",
       "      <td>...</td>\n",
       "      <td>-0.059844</td>\n",
       "      <td>-0.022250</td>\n",
       "      <td>0.015217</td>\n",
       "      <td>-0.044152</td>\n",
       "      <td>-0.004636</td>\n",
       "      <td>0.014333</td>\n",
       "      <td>0.0116</td>\n",
       "      <td>-0.004737</td>\n",
       "      <td>-0.019571</td>\n",
       "      <td>-0.022065</td>\n",
       "    </tr>\n",
       "    <tr>\n",
       "      <th>1</th>\n",
       "      <td>0.127000</td>\n",
       "      <td>0.010733</td>\n",
       "      <td>0.031250</td>\n",
       "      <td>0.048600</td>\n",
       "      <td>0.084413</td>\n",
       "      <td>0.05160</td>\n",
       "      <td>0.092889</td>\n",
       "      <td>0.102</td>\n",
       "      <td>-0.012857</td>\n",
       "      <td>0.07528</td>\n",
       "      <td>...</td>\n",
       "      <td>-0.105219</td>\n",
       "      <td>-0.060821</td>\n",
       "      <td>-0.043478</td>\n",
       "      <td>-0.046000</td>\n",
       "      <td>-0.007386</td>\n",
       "      <td>-0.009233</td>\n",
       "      <td>-0.0136</td>\n",
       "      <td>-0.060474</td>\n",
       "      <td>0.027714</td>\n",
       "      <td>0.002290</td>\n",
       "    </tr>\n",
       "    <tr>\n",
       "      <th>2</th>\n",
       "      <td>0.004000</td>\n",
       "      <td>0.007567</td>\n",
       "      <td>0.024964</td>\n",
       "      <td>0.081200</td>\n",
       "      <td>-0.011391</td>\n",
       "      <td>0.03605</td>\n",
       "      <td>-0.050194</td>\n",
       "      <td>-0.093</td>\n",
       "      <td>-0.059857</td>\n",
       "      <td>-0.01634</td>\n",
       "      <td>...</td>\n",
       "      <td>-0.178719</td>\n",
       "      <td>-0.128250</td>\n",
       "      <td>-0.158783</td>\n",
       "      <td>-0.193576</td>\n",
       "      <td>-0.075977</td>\n",
       "      <td>-0.106667</td>\n",
       "      <td>-0.0114</td>\n",
       "      <td>-0.072421</td>\n",
       "      <td>-0.127714</td>\n",
       "      <td>-0.168903</td>\n",
       "    </tr>\n",
       "    <tr>\n",
       "      <th>3</th>\n",
       "      <td>0.135667</td>\n",
       "      <td>0.061467</td>\n",
       "      <td>-0.061286</td>\n",
       "      <td>-0.071733</td>\n",
       "      <td>0.070522</td>\n",
       "      <td>0.06270</td>\n",
       "      <td>0.020556</td>\n",
       "      <td>-0.002</td>\n",
       "      <td>0.050857</td>\n",
       "      <td>-0.00038</td>\n",
       "      <td>...</td>\n",
       "      <td>0.003875</td>\n",
       "      <td>-0.077036</td>\n",
       "      <td>-0.019326</td>\n",
       "      <td>0.012515</td>\n",
       "      <td>-0.009591</td>\n",
       "      <td>0.016667</td>\n",
       "      <td>0.0438</td>\n",
       "      <td>0.019947</td>\n",
       "      <td>0.011500</td>\n",
       "      <td>0.031387</td>\n",
       "    </tr>\n",
       "    <tr>\n",
       "      <th>4</th>\n",
       "      <td>-0.251000</td>\n",
       "      <td>-0.134700</td>\n",
       "      <td>-0.175750</td>\n",
       "      <td>-0.165800</td>\n",
       "      <td>-0.112522</td>\n",
       "      <td>-0.06670</td>\n",
       "      <td>-0.127972</td>\n",
       "      <td>0.026</td>\n",
       "      <td>-0.198429</td>\n",
       "      <td>-0.00408</td>\n",
       "      <td>...</td>\n",
       "      <td>-0.003344</td>\n",
       "      <td>-0.013250</td>\n",
       "      <td>-0.074109</td>\n",
       "      <td>0.024758</td>\n",
       "      <td>0.097000</td>\n",
       "      <td>0.018667</td>\n",
       "      <td>0.1170</td>\n",
       "      <td>0.058368</td>\n",
       "      <td>0.038571</td>\n",
       "      <td>0.020065</td>\n",
       "    </tr>\n",
       "  </tbody>\n",
       "</table>\n",
       "<p>5 rows × 762 columns</p>\n",
       "</div>"
      ],
      "text/plain": [
       "   cyto.10p11.1  cyto.10p11.21  cyto.10p11.22  cyto.10p11.23  cyto.10p12.1  \\\n",
       "0      0.181000      -0.019967       0.044536      -0.026000      0.018065   \n",
       "1      0.127000       0.010733       0.031250       0.048600      0.084413   \n",
       "2      0.004000       0.007567       0.024964       0.081200     -0.011391   \n",
       "3      0.135667       0.061467      -0.061286      -0.071733      0.070522   \n",
       "4     -0.251000      -0.134700      -0.175750      -0.165800     -0.112522   \n",
       "\n",
       "   cyto.10p12.2  cyto.10p12.31  cyto.10p12.32  cyto.10p12.33  cyto.10p13  \\\n",
       "0       0.00490       0.048000          0.084      -0.042857     0.01960   \n",
       "1       0.05160       0.092889          0.102      -0.012857     0.07528   \n",
       "2       0.03605      -0.050194         -0.093      -0.059857    -0.01634   \n",
       "3       0.06270       0.020556         -0.002       0.050857    -0.00038   \n",
       "4      -0.06670      -0.127972          0.026      -0.198429    -0.00408   \n",
       "\n",
       "      ...       cyto.9q31.3  cyto.9q32  cyto.9q33.1  cyto.9q33.2  cyto.9q33.3  \\\n",
       "0     ...         -0.059844  -0.022250     0.015217    -0.044152    -0.004636   \n",
       "1     ...         -0.105219  -0.060821    -0.043478    -0.046000    -0.007386   \n",
       "2     ...         -0.178719  -0.128250    -0.158783    -0.193576    -0.075977   \n",
       "3     ...          0.003875  -0.077036    -0.019326     0.012515    -0.009591   \n",
       "4     ...         -0.003344  -0.013250    -0.074109     0.024758     0.097000   \n",
       "\n",
       "   cyto.9q34.11  cyto.9q34.12  cyto.9q34.13  cyto.9q34.2  cyto.9q34.3  \n",
       "0      0.014333        0.0116     -0.004737    -0.019571    -0.022065  \n",
       "1     -0.009233       -0.0136     -0.060474     0.027714     0.002290  \n",
       "2     -0.106667       -0.0114     -0.072421    -0.127714    -0.168903  \n",
       "3      0.016667        0.0438      0.019947     0.011500     0.031387  \n",
       "4      0.018667        0.1170      0.058368     0.038571     0.020065  \n",
       "\n",
       "[5 rows x 762 columns]"
      ]
     },
     "execution_count": 16,
     "metadata": {},
     "output_type": "execute_result"
    }
   ],
   "source": [
    "K100_2.head()"
   ]
  },
  {
   "cell_type": "code",
   "execution_count": 14,
   "metadata": {
    "ExecuteTime": {
     "end_time": "2019-02-21T15:09:54.821005Z",
     "start_time": "2019-02-21T15:09:54.814025Z"
    }
   },
   "outputs": [
    {
     "data": {
      "text/plain": [
       "BC        32\n",
       "normal    21\n",
       "PC        19\n",
       "RC        16\n",
       "Name: cancer, dtype: int64"
      ]
     },
     "execution_count": 14,
     "metadata": {},
     "output_type": "execute_result"
    }
   ],
   "source": [
    "K100['cancer'].value_counts()"
   ]
  },
  {
   "cell_type": "markdown",
   "metadata": {},
   "source": [
    "#### cv"
   ]
  },
  {
   "cell_type": "code",
   "execution_count": 24,
   "metadata": {
    "ExecuteTime": {
     "end_time": "2019-02-21T15:18:36.724031Z",
     "start_time": "2019-02-21T15:17:41.032098Z"
    }
   },
   "outputs": [
    {
     "name": "stdout",
     "output_type": "stream",
     "text": [
      "[K = 0 ]\n",
      "svm\n",
      "train accurcacy = 0.8562724014336918, cv accurcacy = 0.8524355300859598\n",
      "random forest\n",
      "train accurcacy = 0.9931899641577061, cv accurcacy = 0.9025787965616046\n",
      "[K = 1 ]\n",
      "svm\n",
      "train accurcacy = 0.8548387096774194, cv accurcacy = 0.8868194842406877\n",
      "random forest\n",
      "train accurcacy = 0.9949820788530466, cv accurcacy = 0.9154727793696275\n",
      "[K = 2 ]\n",
      "svm\n",
      "train accurcacy = 0.8652329749103943, cv accurcacy = 0.8409742120343839\n",
      "random forest\n",
      "train accurcacy = 0.9949820788530466, cv accurcacy = 0.8968481375358166\n",
      "[K = 3 ]\n",
      "svm\n",
      "train accurcacy = 0.8645646721605159, cv accurcacy = 0.8421807747489239\n",
      "random forest\n",
      "train accurcacy = 0.9924758151200287, cv accurcacy = 0.9053084648493543\n",
      "[K = 4 ]\n",
      "svm\n",
      "train accurcacy = 0.8620566105338588, cv accurcacy = 0.8550932568149211\n",
      "random forest\n",
      "train accurcacy = 0.994267287710498, cv accurcacy = 0.9110473457675753\n"
     ]
    }
   ],
   "source": [
    "for i, (idx_train, idx_cv) in enumerate(cv.split(TCGA2)):\n",
    "    df_train = TCGA2.iloc[idx_train]\n",
    "    df_cv = TCGA2.iloc[idx_cv]\n",
    "    \n",
    "    x_train = df_train\n",
    "    y_train = TCGA['y'][idx_train]\n",
    "    \n",
    "    x_cv = df_cv\n",
    "    y_cv = TCGA['y'][idx_cv]\n",
    "    \n",
    "    print('[K =',i,']')\n",
    "    print('svm')\n",
    "    svm1.fit(x_train, y_train)\n",
    "    print(\"train accurcacy = {}, cv accurcacy = {}\".format(accuracy_score(y_train, svm1.predict(x_train)), accuracy_score(y_cv, svm1.predict(x_cv))))\n",
    "    \n",
    "    print('random forest')\n",
    "    rf1.fit(x_train, y_train)\n",
    "    print(\"train accurcacy = {}, cv accurcacy = {}\".format(accuracy_score(y_train, rf1.predict(x_train)), accuracy_score(y_cv, rf1.predict(x_cv))))\n",
    "    \n",
    "    "
   ]
  },
  {
   "cell_type": "markdown",
   "metadata": {},
   "source": [
    "### test"
   ]
  },
  {
   "cell_type": "code",
   "execution_count": null,
   "metadata": {},
   "outputs": [],
   "source": [
    "x_train = TCGA2\n",
    "y_train = TCGA['y']\n",
    "\n",
    "x_test = K100_2\n",
    "y_test= K100['cancer']"
   ]
  },
  {
   "cell_type": "code",
   "execution_count": 18,
   "metadata": {
    "ExecuteTime": {
     "end_time": "2019-02-21T15:10:54.055728Z",
     "start_time": "2019-02-21T15:10:38.256939Z"
    }
   },
   "outputs": [
    {
     "name": "stdout",
     "output_type": "stream",
     "text": [
      "-----------svm2-----------\n",
      "train accurcacy = 0.867545871559633, urine accurcacy = 0.07954545454545454\n",
      "--------rf2--------\n",
      "train accurcacy = 0.994552752293578, urine accurcacy = 0.19318181818181818\n"
     ]
    }
   ],
   "source": [
    "print('-----------svm2-----------')\n",
    "svm2.fit(x_train, y_train)\n",
    "print(\"train accurcacy = {}, urine accurcacy = {}\".format(accuracy_score(y_train, svm2.predict(x_train)), accuracy_score(y_test, svm2.predict(x_test))))\n",
    "\n",
    "print('--------rf2--------')\n",
    "rf2.fit(x_train, y_train)\n",
    "print(\"train accurcacy = {}, urine accurcacy = {}\".format(accuracy_score(y_train, rf2.predict(x_train)), accuracy_score(y_test, rf2.predict(x_test))))\n"
   ]
  },
  {
   "cell_type": "markdown",
   "metadata": {},
   "source": [
    "## K15"
   ]
  },
  {
   "cell_type": "code",
   "execution_count": 49,
   "metadata": {
    "ExecuteTime": {
     "end_time": "2019-02-21T15:32:49.839295Z",
     "start_time": "2019-02-21T15:32:49.729586Z"
    }
   },
   "outputs": [],
   "source": [
    "BC_15 = pd.read_csv('BC_32ea_k15_cyto.csv')\n",
    "Normal_15 = pd.read_csv('Normal_21ea_k15_cyto.csv')\n",
    "PC_15 = pd.read_csv('PC_20ea_k15_cyto.csv')"
   ]
  },
  {
   "cell_type": "code",
   "execution_count": 50,
   "metadata": {
    "ExecuteTime": {
     "end_time": "2019-02-21T15:32:54.713752Z",
     "start_time": "2019-02-21T15:32:54.704733Z"
    }
   },
   "outputs": [],
   "source": [
    "#drop person id\n",
    "BC_15.drop('Unnamed: 0', axis = 1, inplace = True)\n",
    "Normal_15.drop('Unnamed: 0', axis = 1, inplace = True)\n",
    "PC_15.drop('Unnamed: 0', axis = 1, inplace = True)"
   ]
  },
  {
   "cell_type": "code",
   "execution_count": 51,
   "metadata": {
    "ExecuteTime": {
     "end_time": "2019-02-21T15:33:00.351344Z",
     "start_time": "2019-02-21T15:33:00.342369Z"
    }
   },
   "outputs": [],
   "source": [
    "BC_15['cancer'] = 'BC'\n",
    "Normal_15['cancer'] = 'normal'\n",
    "PC_15['cancer'] = 'PC'\n",
    "\n",
    "K15 = pd.concat([BC_15,Normal_15,PC_15], axis = 0)"
   ]
  },
  {
   "cell_type": "code",
   "execution_count": 52,
   "metadata": {
    "ExecuteTime": {
     "end_time": "2019-02-21T15:33:08.311473Z",
     "start_time": "2019-02-21T15:33:08.303493Z"
    }
   },
   "outputs": [],
   "source": [
    "K15.dropna(inplace=True)"
   ]
  },
  {
   "cell_type": "code",
   "execution_count": 55,
   "metadata": {
    "ExecuteTime": {
     "end_time": "2019-02-21T15:33:45.556668Z",
     "start_time": "2019-02-21T15:33:45.549686Z"
    }
   },
   "outputs": [
    {
     "data": {
      "text/plain": [
       "Normal    1706\n",
       "RC         882\n",
       "PC         492\n",
       "BC         408\n",
       "Name: y, dtype: int64"
      ]
     },
     "execution_count": 55,
     "metadata": {},
     "output_type": "execute_result"
    }
   ],
   "source": [
    "TCGA.y.value_counts()"
   ]
  },
  {
   "cell_type": "code",
   "execution_count": 77,
   "metadata": {
    "ExecuteTime": {
     "end_time": "2019-02-21T15:43:05.134956Z",
     "start_time": "2019-02-21T15:43:05.116010Z"
    }
   },
   "outputs": [],
   "source": [
    "TT = TCGA.loc[TCGA.y != 'RC']"
   ]
  },
  {
   "cell_type": "code",
   "execution_count": 78,
   "metadata": {
    "ExecuteTime": {
     "end_time": "2019-02-21T15:43:09.669556Z",
     "start_time": "2019-02-21T15:43:09.661577Z"
    }
   },
   "outputs": [
    {
     "data": {
      "text/plain": [
       "Normal    1706\n",
       "PC         492\n",
       "BC         408\n",
       "Name: y, dtype: int64"
      ]
     },
     "execution_count": 78,
     "metadata": {},
     "output_type": "execute_result"
    }
   ],
   "source": [
    "TT.y.value_counts()"
   ]
  },
  {
   "cell_type": "code",
   "execution_count": 79,
   "metadata": {
    "ExecuteTime": {
     "end_time": "2019-02-21T15:43:20.250659Z",
     "start_time": "2019-02-21T15:43:20.236699Z"
    }
   },
   "outputs": [],
   "source": [
    "TT2 = TT.drop(list(set(TT.columns) - set(K15.columns)), axis = 1)"
   ]
  },
  {
   "cell_type": "code",
   "execution_count": 80,
   "metadata": {
    "ExecuteTime": {
     "end_time": "2019-02-21T15:43:21.037653Z",
     "start_time": "2019-02-21T15:43:21.032632Z"
    }
   },
   "outputs": [],
   "source": [
    "K15_2 = K15.drop(list(set(K15.columns) - set(TT.columns)), axis = 1)"
   ]
  },
  {
   "cell_type": "code",
   "execution_count": 81,
   "metadata": {
    "ExecuteTime": {
     "end_time": "2019-02-21T15:43:22.000718Z",
     "start_time": "2019-02-21T15:43:21.994734Z"
    }
   },
   "outputs": [
    {
     "data": {
      "text/plain": [
       "(2606, 763)"
      ]
     },
     "execution_count": 81,
     "metadata": {},
     "output_type": "execute_result"
    }
   ],
   "source": [
    "TT2.shape"
   ]
  },
  {
   "cell_type": "code",
   "execution_count": 82,
   "metadata": {
    "ExecuteTime": {
     "end_time": "2019-02-21T15:43:23.957194Z",
     "start_time": "2019-02-21T15:43:23.953169Z"
    }
   },
   "outputs": [],
   "source": [
    "rf1 = RandomForestClassifier()\n",
    "svm1 = SVC()"
   ]
  },
  {
   "cell_type": "code",
   "execution_count": 83,
   "metadata": {
    "ExecuteTime": {
     "end_time": "2019-02-21T15:43:24.341891Z",
     "start_time": "2019-02-21T15:43:24.335907Z"
    }
   },
   "outputs": [
    {
     "data": {
      "text/plain": [
       "Index(['cyto.1p36.32', 'cyto.1p36.31', 'cyto.1p36.23', 'cyto.1p36.22',\n",
       "       'cyto.1p36.21', 'cyto.1p36.13', 'cyto.1p36.12', 'cyto.1p36.11',\n",
       "       'cyto.1p35.3', 'cyto.1p35.2',\n",
       "       ...\n",
       "       'cyto.9q32', 'cyto.9q33.1', 'cyto.9q33.2', 'cyto.9q33.3',\n",
       "       'cyto.9q34.11', 'cyto.9q34.12', 'cyto.9q34.13', 'cyto.9q34.2',\n",
       "       'cyto.9q34.3', 'y'],\n",
       "      dtype='object', length=787)"
      ]
     },
     "execution_count": 83,
     "metadata": {},
     "output_type": "execute_result"
    }
   ],
   "source": [
    "TT.columns"
   ]
  },
  {
   "cell_type": "code",
   "execution_count": 90,
   "metadata": {
    "ExecuteTime": {
     "end_time": "2019-02-21T15:46:19.033760Z",
     "start_time": "2019-02-21T15:45:52.816291Z"
    }
   },
   "outputs": [
    {
     "name": "stdout",
     "output_type": "stream",
     "text": [
      "[K = 0 ]\n",
      "---svm---\n",
      "train accurcacy = 0.8771593090211133, cv accurcacy = 0.8448275862068966\n",
      "---random forest---\n",
      "train accurcacy = 0.9980806142034548, cv accurcacy = 0.9272030651340997\n",
      "[K = 1 ]\n",
      "---svm---\n",
      "train accurcacy = 0.871462829736211, cv accurcacy = 0.8714011516314779\n",
      "---random forest---\n",
      "train accurcacy = 0.9971223021582734, cv accurcacy = 0.9289827255278311\n",
      "[K = 2 ]\n",
      "---svm---\n",
      "train accurcacy = 0.8733812949640288, cv accurcacy = 0.8733205374280231\n",
      "---random forest---\n",
      "train accurcacy = 0.99568345323741, cv accurcacy = 0.9404990403071017\n",
      "[K = 3 ]\n",
      "---svm---\n",
      "train accurcacy = 0.874820143884892, cv accurcacy = 0.8541266794625719\n",
      "---random forest---\n",
      "train accurcacy = 0.9918465227817745, cv accurcacy = 0.9097888675623801\n",
      "[K = 4 ]\n",
      "---svm---\n",
      "train accurcacy = 0.8700239808153477, cv accurcacy = 0.8848368522072937\n",
      "---random forest---\n",
      "train accurcacy = 0.996642685851319, cv accurcacy = 0.9347408829174664\n"
     ]
    }
   ],
   "source": [
    "for i, (idx_train, idx_cv) in enumerate(cv.split(TT2)):\n",
    "    df_train = TT2.iloc[idx_train]\n",
    "    df_cv = TT2.iloc[idx_cv]\n",
    "    \n",
    "    x_train = df_train\n",
    "    y_train = TT['y'].iloc[idx_train]\n",
    "    \n",
    "    x_cv = df_cv\n",
    "    y_cv = TT['y'].iloc[idx_cv]\n",
    "    \n",
    "    print('[K =',i,']')\n",
    "    print('---svm---')\n",
    "    svm1.fit(x_train, y_train)\n",
    "    print(\"train accurcacy = {}, cv accurcacy = {}\".format(accuracy_score(y_train, svm1.predict(x_train)), accuracy_score(y_cv, svm1.predict(x_cv))))\n",
    "    \n",
    "    print('---random forest---')\n",
    "    rf1.fit(x_train, y_train)\n",
    "    print(\"train accurcacy = {}, cv accurcacy = {}\".format(accuracy_score(y_train, rf1.predict(x_train)), accuracy_score(y_cv, rf1.predict(x_cv))))\n",
    "    \n",
    "    "
   ]
  },
  {
   "cell_type": "markdown",
   "metadata": {},
   "source": [
    "#### test"
   ]
  },
  {
   "cell_type": "code",
   "execution_count": 91,
   "metadata": {
    "ExecuteTime": {
     "end_time": "2019-02-21T15:48:26.821243Z",
     "start_time": "2019-02-21T15:48:26.816254Z"
    }
   },
   "outputs": [],
   "source": [
    "x_train = TT2\n",
    "y_train = TT['y']\n",
    "\n",
    "x_test = K15_2\n",
    "y_test= K15['cancer']"
   ]
  },
  {
   "cell_type": "code",
   "execution_count": 92,
   "metadata": {
    "ExecuteTime": {
     "end_time": "2019-02-21T15:49:00.955898Z",
     "start_time": "2019-02-21T15:48:54.084289Z"
    }
   },
   "outputs": [
    {
     "name": "stdout",
     "output_type": "stream",
     "text": [
      "-----------svm1-----------\n",
      "train accurcacy = 0.8787413660782809, urine accurcacy = 0.1111111111111111\n",
      "--------rf1--------\n",
      "train accurcacy = 0.9953952417498081, urine accurcacy = 0.3888888888888889\n"
     ]
    }
   ],
   "source": [
    "print('-----------svm1-----------')\n",
    "svm1.fit(x_train, y_train)\n",
    "print(\"train accurcacy = {}, urine accurcacy = {}\".format(accuracy_score(y_train, svm1.predict(x_train)), accuracy_score(y_test, svm1.predict(x_test))))\n",
    "\n",
    "print('--------rf1--------')\n",
    "rf1.fit(x_train, y_train)\n",
    "print(\"train accurcacy = {}, urine accurcacy = {}\".format(accuracy_score(y_train, rf1.predict(x_train)), accuracy_score(y_test, rf1.predict(x_test))))\n"
   ]
  }
 ],
 "metadata": {
  "kernelspec": {
   "display_name": "Python 3",
   "language": "python",
   "name": "python3"
  },
  "language_info": {
   "codemirror_mode": {
    "name": "ipython",
    "version": 3
   },
   "file_extension": ".py",
   "mimetype": "text/x-python",
   "name": "python",
   "nbconvert_exporter": "python",
   "pygments_lexer": "ipython3",
   "version": "3.6.5"
  }
 },
 "nbformat": 4,
 "nbformat_minor": 2
}
