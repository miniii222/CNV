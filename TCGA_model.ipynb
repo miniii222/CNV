{
 "cells": [
  {
   "cell_type": "code",
   "execution_count": 7,
   "metadata": {
    "ExecuteTime": {
     "end_time": "2019-02-20T05:45:35.025702Z",
     "start_time": "2019-02-20T05:45:35.021711Z"
    }
   },
   "outputs": [],
   "source": [
    "import numpy as np\n",
    "import pandas as pd\n",
    "from matplotlib import pyplot as plt"
   ]
  },
  {
   "cell_type": "code",
   "execution_count": 66,
   "metadata": {
    "ExecuteTime": {
     "end_time": "2019-02-20T06:25:12.828864Z",
     "start_time": "2019-02-20T06:25:12.221451Z"
    }
   },
   "outputs": [],
   "source": [
    "TCGA = pd.read_csv('TCGA_data.csv')"
   ]
  },
  {
   "cell_type": "markdown",
   "metadata": {},
   "source": [
    "#### BLCA - BC\n",
    "#### PAAD - PC\n",
    "#### KICH,KIRC,KIRP-RC"
   ]
  },
  {
   "cell_type": "code",
   "execution_count": 67,
   "metadata": {
    "ExecuteTime": {
     "end_time": "2019-02-20T06:25:20.653647Z",
     "start_time": "2019-02-20T06:25:20.645668Z"
    }
   },
   "outputs": [
    {
     "data": {
      "text/plain": [
       "Normal    1706\n",
       "KIRC       528\n",
       "PRAD       492\n",
       "BLCA       408\n",
       "KIRP       288\n",
       "KICH        66\n",
       "Name: y, dtype: int64"
      ]
     },
     "execution_count": 67,
     "metadata": {},
     "output_type": "execute_result"
    }
   ],
   "source": [
    "TCGA.y.value_counts()"
   ]
  },
  {
   "cell_type": "code",
   "execution_count": 68,
   "metadata": {
    "ExecuteTime": {
     "end_time": "2019-02-20T06:25:24.646215Z",
     "start_time": "2019-02-20T06:25:24.621280Z"
    }
   },
   "outputs": [],
   "source": [
    "TCGA.loc[(TCGA.y == 'BLCA'),'y'] = 'BC'\n",
    "TCGA.loc[(TCGA.y == 'PAAD'),'y'] = 'PC'\n",
    "TCGA.loc[(TCGA.y == 'KICH'),'y'] = 'RC'\n",
    "TCGA.loc[(TCGA.y == 'KIRC'),'y'] = 'RC'\n",
    "TCGA.loc[(TCGA.y == 'KIRP'),'y'] = 'RC'"
   ]
  },
  {
   "cell_type": "code",
   "execution_count": 69,
   "metadata": {
    "ExecuteTime": {
     "end_time": "2019-02-20T06:25:30.493607Z",
     "start_time": "2019-02-20T06:25:30.485597Z"
    }
   },
   "outputs": [
    {
     "data": {
      "text/plain": [
       "Normal    1706\n",
       "RC         882\n",
       "PRAD       492\n",
       "BC         408\n",
       "Name: y, dtype: int64"
      ]
     },
     "execution_count": 69,
     "metadata": {},
     "output_type": "execute_result"
    }
   ],
   "source": [
    "TCGA.y.value_counts()"
   ]
  },
  {
   "cell_type": "code",
   "execution_count": 13,
   "metadata": {
    "ExecuteTime": {
     "end_time": "2019-02-20T05:47:09.142919Z",
     "start_time": "2019-02-20T05:47:07.788162Z"
    }
   },
   "outputs": [],
   "source": [
    "from sklearn.ensemble import RandomForestClassifier\n",
    "rf1 = RandomForestClassifier()\n",
    "from sklearn.svm import SVC\n",
    "svm1 = SVC()"
   ]
  },
  {
   "cell_type": "code",
   "execution_count": 14,
   "metadata": {
    "ExecuteTime": {
     "end_time": "2019-02-20T05:47:10.216200Z",
     "start_time": "2019-02-20T05:47:10.212209Z"
    }
   },
   "outputs": [],
   "source": [
    "from sklearn.metrics import accuracy_score\n",
    "from sklearn.model_selection import KFold\n",
    "cv = KFold(5, shuffle=True, random_state=0)"
   ]
  },
  {
   "cell_type": "code",
   "execution_count": 15,
   "metadata": {
    "ExecuteTime": {
     "end_time": "2019-02-20T05:47:11.930351Z",
     "start_time": "2019-02-20T05:47:11.893447Z"
    }
   },
   "outputs": [
    {
     "data": {
      "text/html": [
       "<div>\n",
       "<style scoped>\n",
       "    .dataframe tbody tr th:only-of-type {\n",
       "        vertical-align: middle;\n",
       "    }\n",
       "\n",
       "    .dataframe tbody tr th {\n",
       "        vertical-align: top;\n",
       "    }\n",
       "\n",
       "    .dataframe thead th {\n",
       "        text-align: right;\n",
       "    }\n",
       "</style>\n",
       "<table border=\"1\" class=\"dataframe\">\n",
       "  <thead>\n",
       "    <tr style=\"text-align: right;\">\n",
       "      <th></th>\n",
       "      <th>cyto.1p36.32</th>\n",
       "      <th>cyto.1p36.31</th>\n",
       "      <th>cyto.1p36.23</th>\n",
       "      <th>cyto.1p36.22</th>\n",
       "      <th>cyto.1p36.21</th>\n",
       "      <th>cyto.1p36.13</th>\n",
       "      <th>cyto.1p36.12</th>\n",
       "      <th>cyto.1p36.11</th>\n",
       "      <th>cyto.1p35.3</th>\n",
       "      <th>cyto.1p35.2</th>\n",
       "      <th>...</th>\n",
       "      <th>cyto.9q32</th>\n",
       "      <th>cyto.9q33.1</th>\n",
       "      <th>cyto.9q33.2</th>\n",
       "      <th>cyto.9q33.3</th>\n",
       "      <th>cyto.9q34.11</th>\n",
       "      <th>cyto.9q34.12</th>\n",
       "      <th>cyto.9q34.13</th>\n",
       "      <th>cyto.9q34.2</th>\n",
       "      <th>cyto.9q34.3</th>\n",
       "      <th>y</th>\n",
       "    </tr>\n",
       "  </thead>\n",
       "  <tbody>\n",
       "    <tr>\n",
       "      <th>0</th>\n",
       "      <td>-0.1624</td>\n",
       "      <td>-0.1624</td>\n",
       "      <td>-0.1624</td>\n",
       "      <td>-0.1624</td>\n",
       "      <td>-0.1624</td>\n",
       "      <td>-0.1624</td>\n",
       "      <td>-0.1624</td>\n",
       "      <td>-0.1624</td>\n",
       "      <td>-0.1624</td>\n",
       "      <td>-0.1624</td>\n",
       "      <td>...</td>\n",
       "      <td>-0.1732</td>\n",
       "      <td>-0.1732</td>\n",
       "      <td>-0.1732</td>\n",
       "      <td>-0.1732</td>\n",
       "      <td>-0.1732</td>\n",
       "      <td>-0.1732</td>\n",
       "      <td>-0.1732</td>\n",
       "      <td>-0.1732</td>\n",
       "      <td>-0.1732</td>\n",
       "      <td>BC</td>\n",
       "    </tr>\n",
       "    <tr>\n",
       "      <th>1</th>\n",
       "      <td>0.0015</td>\n",
       "      <td>0.0015</td>\n",
       "      <td>0.0015</td>\n",
       "      <td>0.0015</td>\n",
       "      <td>0.0015</td>\n",
       "      <td>0.0015</td>\n",
       "      <td>0.0015</td>\n",
       "      <td>0.0015</td>\n",
       "      <td>0.0015</td>\n",
       "      <td>0.0015</td>\n",
       "      <td>...</td>\n",
       "      <td>0.0009</td>\n",
       "      <td>0.0009</td>\n",
       "      <td>0.0009</td>\n",
       "      <td>0.0009</td>\n",
       "      <td>0.0009</td>\n",
       "      <td>0.0009</td>\n",
       "      <td>0.0009</td>\n",
       "      <td>0.0009</td>\n",
       "      <td>0.0009</td>\n",
       "      <td>Normal</td>\n",
       "    </tr>\n",
       "    <tr>\n",
       "      <th>2</th>\n",
       "      <td>0.4150</td>\n",
       "      <td>0.4150</td>\n",
       "      <td>0.4150</td>\n",
       "      <td>0.4150</td>\n",
       "      <td>0.4150</td>\n",
       "      <td>0.4150</td>\n",
       "      <td>0.4150</td>\n",
       "      <td>-0.2961</td>\n",
       "      <td>0.9639</td>\n",
       "      <td>-0.2736</td>\n",
       "      <td>...</td>\n",
       "      <td>-0.2716</td>\n",
       "      <td>-0.2716</td>\n",
       "      <td>-0.2716</td>\n",
       "      <td>-0.2716</td>\n",
       "      <td>-0.3456</td>\n",
       "      <td>-0.3456</td>\n",
       "      <td>0.2685</td>\n",
       "      <td>-0.3587</td>\n",
       "      <td>-0.3587</td>\n",
       "      <td>BC</td>\n",
       "    </tr>\n",
       "    <tr>\n",
       "      <th>3</th>\n",
       "      <td>-0.0006</td>\n",
       "      <td>-0.0006</td>\n",
       "      <td>-0.0006</td>\n",
       "      <td>-0.0006</td>\n",
       "      <td>0.0033</td>\n",
       "      <td>0.0033</td>\n",
       "      <td>0.0033</td>\n",
       "      <td>0.0033</td>\n",
       "      <td>0.0033</td>\n",
       "      <td>0.0033</td>\n",
       "      <td>...</td>\n",
       "      <td>0.0015</td>\n",
       "      <td>0.0015</td>\n",
       "      <td>0.0015</td>\n",
       "      <td>0.0015</td>\n",
       "      <td>0.0015</td>\n",
       "      <td>0.0015</td>\n",
       "      <td>0.0015</td>\n",
       "      <td>0.0015</td>\n",
       "      <td>0.0015</td>\n",
       "      <td>Normal</td>\n",
       "    </tr>\n",
       "    <tr>\n",
       "      <th>4</th>\n",
       "      <td>-0.0130</td>\n",
       "      <td>0.0030</td>\n",
       "      <td>0.0030</td>\n",
       "      <td>0.0030</td>\n",
       "      <td>0.0030</td>\n",
       "      <td>0.0030</td>\n",
       "      <td>0.0030</td>\n",
       "      <td>0.0030</td>\n",
       "      <td>0.0030</td>\n",
       "      <td>0.0030</td>\n",
       "      <td>...</td>\n",
       "      <td>-0.0024</td>\n",
       "      <td>-0.0024</td>\n",
       "      <td>-0.0024</td>\n",
       "      <td>-0.0024</td>\n",
       "      <td>-0.0024</td>\n",
       "      <td>-0.0024</td>\n",
       "      <td>-0.0024</td>\n",
       "      <td>-0.0024</td>\n",
       "      <td>-0.0024</td>\n",
       "      <td>Normal</td>\n",
       "    </tr>\n",
       "  </tbody>\n",
       "</table>\n",
       "<p>5 rows × 787 columns</p>\n",
       "</div>"
      ],
      "text/plain": [
       "   cyto.1p36.32  cyto.1p36.31  cyto.1p36.23  cyto.1p36.22  cyto.1p36.21  \\\n",
       "0       -0.1624       -0.1624       -0.1624       -0.1624       -0.1624   \n",
       "1        0.0015        0.0015        0.0015        0.0015        0.0015   \n",
       "2        0.4150        0.4150        0.4150        0.4150        0.4150   \n",
       "3       -0.0006       -0.0006       -0.0006       -0.0006        0.0033   \n",
       "4       -0.0130        0.0030        0.0030        0.0030        0.0030   \n",
       "\n",
       "   cyto.1p36.13  cyto.1p36.12  cyto.1p36.11  cyto.1p35.3  cyto.1p35.2   ...    \\\n",
       "0       -0.1624       -0.1624       -0.1624      -0.1624      -0.1624   ...     \n",
       "1        0.0015        0.0015        0.0015       0.0015       0.0015   ...     \n",
       "2        0.4150        0.4150       -0.2961       0.9639      -0.2736   ...     \n",
       "3        0.0033        0.0033        0.0033       0.0033       0.0033   ...     \n",
       "4        0.0030        0.0030        0.0030       0.0030       0.0030   ...     \n",
       "\n",
       "   cyto.9q32  cyto.9q33.1  cyto.9q33.2  cyto.9q33.3  cyto.9q34.11  \\\n",
       "0    -0.1732      -0.1732      -0.1732      -0.1732       -0.1732   \n",
       "1     0.0009       0.0009       0.0009       0.0009        0.0009   \n",
       "2    -0.2716      -0.2716      -0.2716      -0.2716       -0.3456   \n",
       "3     0.0015       0.0015       0.0015       0.0015        0.0015   \n",
       "4    -0.0024      -0.0024      -0.0024      -0.0024       -0.0024   \n",
       "\n",
       "   cyto.9q34.12  cyto.9q34.13  cyto.9q34.2  cyto.9q34.3       y  \n",
       "0       -0.1732       -0.1732      -0.1732      -0.1732      BC  \n",
       "1        0.0009        0.0009       0.0009       0.0009  Normal  \n",
       "2       -0.3456        0.2685      -0.3587      -0.3587      BC  \n",
       "3        0.0015        0.0015       0.0015       0.0015  Normal  \n",
       "4       -0.0024       -0.0024      -0.0024      -0.0024  Normal  \n",
       "\n",
       "[5 rows x 787 columns]"
      ]
     },
     "execution_count": 15,
     "metadata": {},
     "output_type": "execute_result"
    }
   ],
   "source": [
    "TCGA.head()"
   ]
  },
  {
   "cell_type": "code",
   "execution_count": 17,
   "metadata": {
    "ExecuteTime": {
     "end_time": "2019-02-20T05:48:29.611809Z",
     "start_time": "2019-02-20T05:47:29.413458Z"
    }
   },
   "outputs": [
    {
     "name": "stdout",
     "output_type": "stream",
     "text": [
      "[K = 0 ]\n",
      "-----------svm1-----------\n",
      "train accurcacy = 0.8551971326164874, cv accurcacy = 0.8510028653295129\n",
      "--------rf1--------\n",
      "train accurcacy = 0.9931899641577061, cv accurcacy = 0.9097421203438395\n",
      "[K = 1 ]\n",
      "-----------svm1-----------\n",
      "train accurcacy = 0.8548387096774194, cv accurcacy = 0.8853868194842407\n",
      "--------rf1--------\n",
      "train accurcacy = 0.9956989247311828, cv accurcacy = 0.9183381088825215\n",
      "[K = 2 ]\n",
      "-----------svm1-----------\n",
      "train accurcacy = 0.864516129032258, cv accurcacy = 0.8409742120343839\n",
      "--------rf1--------\n",
      "train accurcacy = 0.9960573476702509, cv accurcacy = 0.8868194842406877\n",
      "[K = 3 ]\n",
      "-----------svm1-----------\n",
      "train accurcacy = 0.864206377642422, cv accurcacy = 0.8407460545193687\n",
      "--------rf1--------\n",
      "train accurcacy = 0.9964170548190613, cv accurcacy = 0.9024390243902439\n",
      "[K = 4 ]\n",
      "-----------svm1-----------\n",
      "train accurcacy = 0.8609817269795772, cv accurcacy = 0.8550932568149211\n",
      "--------rf1--------\n",
      "train accurcacy = 0.9957004657828735, cv accurcacy = 0.9196556671449068\n"
     ]
    }
   ],
   "source": [
    "for i, (idx_train, idx_cv) in enumerate(cv.split(TCGA)):\n",
    "    df_train = TCGA.iloc[idx_train]\n",
    "    df_cv = TCGA.iloc[idx_cv]\n",
    "    \n",
    "    x_train = df_train.drop(['y'], axis=1)\n",
    "    y_train = df_train['y']\n",
    "    \n",
    "    x_cv = df_cv.drop(['y'], axis=1)\n",
    "    y_cv = df_cv['y']\n",
    "    \n",
    "    print('[K =',i,']')\n",
    "    print('-----------svm1-----------')\n",
    "    svm1.fit(x_train, y_train)\n",
    "    print(\"train accurcacy = {}, cv accurcacy = {}\".format(accuracy_score(y_train, svm1.predict(x_train)), accuracy_score(y_cv, svm1.predict(x_cv))))\n",
    "    \n",
    "    print('--------rf1--------')\n",
    "    rf1.fit(x_train, y_train)\n",
    "    print(\"train accurcacy = {}, cv accurcacy = {}\".format(accuracy_score(y_train, rf1.predict(x_train)), accuracy_score(y_cv, rf1.predict(x_cv))))\n",
    "    "
   ]
  },
  {
   "cell_type": "code",
   "execution_count": 18,
   "metadata": {
    "ExecuteTime": {
     "end_time": "2019-02-20T05:48:39.291942Z",
     "start_time": "2019-02-20T05:48:38.285175Z"
    }
   },
   "outputs": [
    {
     "data": {
      "text/plain": [
       "<matplotlib.axes._subplots.AxesSubplot at 0x1fa06b53390>"
      ]
     },
     "execution_count": 18,
     "metadata": {},
     "output_type": "execute_result"
    },
    {
     "data": {
      "image/png": "[encoded data removed]",
      "text/plain": [
       "<Figure size 432x288 with 1 Axes>"
      ]
     },
     "metadata": {},
     "output_type": "display_data"
    }
   ],
   "source": [
    "feat_importances = pd.Series(rf1.feature_importances_, index=x_train.columns)\n",
    "feat_importances.nlargest(30).plot(kind='barh')"
   ]
  },
  {
   "cell_type": "markdown",
   "metadata": {},
   "source": [
    "## K100"
   ]
  },
  {
   "cell_type": "code",
   "execution_count": 91,
   "metadata": {
    "ExecuteTime": {
     "end_time": "2019-02-20T06:29:39.724215Z",
     "start_time": "2019-02-20T06:29:39.586324Z"
    }
   },
   "outputs": [],
   "source": [
    "BC_100 = pd.read_csv('BC_32ea_k100_cyto.csv')\n",
    "Normal_100 = pd.read_csv('Normal_21ea_k100_cyto.csv')\n",
    "PC_100 = pd.read_csv('PC_20ea_k100_cyto.csv')\n",
    "RC_100 = pd.read_csv('RC_20ea_k100_cyto.csv')"
   ]
  },
  {
   "cell_type": "code",
   "execution_count": 92,
   "metadata": {
    "ExecuteTime": {
     "end_time": "2019-02-20T06:29:47.949136Z",
     "start_time": "2019-02-20T06:29:47.939166Z"
    }
   },
   "outputs": [],
   "source": [
    "#drop person id\n",
    "BC_100.drop('Unnamed: 0', axis = 1, inplace = True)\n",
    "Normal_100.drop('Unnamed: 0', axis = 1, inplace = True)\n",
    "PC_100.drop('Unnamed: 0', axis = 1, inplace = True)\n",
    "RC_100.drop('Unnamed: 0', axis = 1, inplace = True)"
   ]
  },
  {
   "cell_type": "code",
   "execution_count": 93,
   "metadata": {
    "ExecuteTime": {
     "end_time": "2019-02-20T06:29:54.329760Z",
     "start_time": "2019-02-20T06:29:54.315801Z"
    }
   },
   "outputs": [],
   "source": [
    "BC_100['cancer'] = 'BC'\n",
    "Normal_100['cancer'] = 'normal'\n",
    "PC_100['cancer'] = 'PC'\n",
    "RC_100['cancer'] = \"RC\"\n",
    "\n",
    "K100 = pd.concat([BC_100,Normal_100,PC_100,RC_100], axis = 0)"
   ]
  },
  {
   "cell_type": "code",
   "execution_count": 94,
   "metadata": {
    "ExecuteTime": {
     "end_time": "2019-02-20T06:29:56.422197Z",
     "start_time": "2019-02-20T06:29:56.419207Z"
    }
   },
   "outputs": [],
   "source": [
    "rf2 = RandomForestClassifier()\n",
    "svm2 = SVC()"
   ]
  },
  {
   "cell_type": "code",
   "execution_count": 95,
   "metadata": {
    "ExecuteTime": {
     "end_time": "2019-02-20T06:29:56.735443Z",
     "start_time": "2019-02-20T06:29:56.725470Z"
    }
   },
   "outputs": [],
   "source": [
    "K15.dropna(inplace=True)"
   ]
  },
  {
   "cell_type": "markdown",
   "metadata": {},
   "source": [
    "### TCGA 모델로 소변데이터(K100) predict"
   ]
  },
  {
   "cell_type": "code",
   "execution_count": 96,
   "metadata": {
    "ExecuteTime": {
     "end_time": "2019-02-20T06:30:03.746227Z",
     "start_time": "2019-02-20T06:30:03.715310Z"
    }
   },
   "outputs": [
    {
     "data": {
      "text/html": [
       "<div>\n",
       "<style scoped>\n",
       "    .dataframe tbody tr th:only-of-type {\n",
       "        vertical-align: middle;\n",
       "    }\n",
       "\n",
       "    .dataframe tbody tr th {\n",
       "        vertical-align: top;\n",
       "    }\n",
       "\n",
       "    .dataframe thead th {\n",
       "        text-align: right;\n",
       "    }\n",
       "</style>\n",
       "<table border=\"1\" class=\"dataframe\">\n",
       "  <thead>\n",
       "    <tr style=\"text-align: right;\">\n",
       "      <th></th>\n",
       "      <th>id</th>\n",
       "      <th>cyto.10p11.1</th>\n",
       "      <th>cyto.10p11.21</th>\n",
       "      <th>cyto.10p11.22</th>\n",
       "      <th>cyto.10p11.23</th>\n",
       "      <th>cyto.10p12.1</th>\n",
       "      <th>cyto.10p12.2</th>\n",
       "      <th>cyto.10p12.31</th>\n",
       "      <th>cyto.10p12.32</th>\n",
       "      <th>cyto.10p12.33</th>\n",
       "      <th>...</th>\n",
       "      <th>cyto.9q33.1</th>\n",
       "      <th>cyto.9q33.2</th>\n",
       "      <th>cyto.9q33.3</th>\n",
       "      <th>cyto.9q34.11</th>\n",
       "      <th>cyto.9q34.12</th>\n",
       "      <th>cyto.9q34.13</th>\n",
       "      <th>cyto.9q34.2</th>\n",
       "      <th>cyto.9q34.3</th>\n",
       "      <th>&lt;NA&gt;</th>\n",
       "      <th>cancer</th>\n",
       "    </tr>\n",
       "  </thead>\n",
       "  <tbody>\n",
       "    <tr>\n",
       "      <th>0</th>\n",
       "      <td>B001</td>\n",
       "      <td>0.181000</td>\n",
       "      <td>-0.019967</td>\n",
       "      <td>0.044536</td>\n",
       "      <td>-0.026000</td>\n",
       "      <td>0.018065</td>\n",
       "      <td>0.00490</td>\n",
       "      <td>0.048000</td>\n",
       "      <td>0.084</td>\n",
       "      <td>-0.042857</td>\n",
       "      <td>...</td>\n",
       "      <td>0.015217</td>\n",
       "      <td>-0.044152</td>\n",
       "      <td>-0.004636</td>\n",
       "      <td>0.014333</td>\n",
       "      <td>0.0116</td>\n",
       "      <td>-0.004737</td>\n",
       "      <td>-0.019571</td>\n",
       "      <td>-0.022065</td>\n",
       "      <td>-0.7450</td>\n",
       "      <td>BC</td>\n",
       "    </tr>\n",
       "    <tr>\n",
       "      <th>1</th>\n",
       "      <td>B002</td>\n",
       "      <td>0.127000</td>\n",
       "      <td>0.010733</td>\n",
       "      <td>0.031250</td>\n",
       "      <td>0.048600</td>\n",
       "      <td>0.084413</td>\n",
       "      <td>0.05160</td>\n",
       "      <td>0.092889</td>\n",
       "      <td>0.102</td>\n",
       "      <td>-0.012857</td>\n",
       "      <td>...</td>\n",
       "      <td>-0.043478</td>\n",
       "      <td>-0.046000</td>\n",
       "      <td>-0.007386</td>\n",
       "      <td>-0.009233</td>\n",
       "      <td>-0.0136</td>\n",
       "      <td>-0.060474</td>\n",
       "      <td>0.027714</td>\n",
       "      <td>0.002290</td>\n",
       "      <td>0.2550</td>\n",
       "      <td>BC</td>\n",
       "    </tr>\n",
       "    <tr>\n",
       "      <th>2</th>\n",
       "      <td>B003</td>\n",
       "      <td>0.004000</td>\n",
       "      <td>0.007567</td>\n",
       "      <td>0.024964</td>\n",
       "      <td>0.081200</td>\n",
       "      <td>-0.011391</td>\n",
       "      <td>0.03605</td>\n",
       "      <td>-0.050194</td>\n",
       "      <td>-0.093</td>\n",
       "      <td>-0.059857</td>\n",
       "      <td>...</td>\n",
       "      <td>-0.158783</td>\n",
       "      <td>-0.193576</td>\n",
       "      <td>-0.075977</td>\n",
       "      <td>-0.106667</td>\n",
       "      <td>-0.0114</td>\n",
       "      <td>-0.072421</td>\n",
       "      <td>-0.127714</td>\n",
       "      <td>-0.168903</td>\n",
       "      <td>-0.1360</td>\n",
       "      <td>BC</td>\n",
       "    </tr>\n",
       "    <tr>\n",
       "      <th>3</th>\n",
       "      <td>B004</td>\n",
       "      <td>0.135667</td>\n",
       "      <td>0.061467</td>\n",
       "      <td>-0.061286</td>\n",
       "      <td>-0.071733</td>\n",
       "      <td>0.070522</td>\n",
       "      <td>0.06270</td>\n",
       "      <td>0.020556</td>\n",
       "      <td>-0.002</td>\n",
       "      <td>0.050857</td>\n",
       "      <td>...</td>\n",
       "      <td>-0.019326</td>\n",
       "      <td>0.012515</td>\n",
       "      <td>-0.009591</td>\n",
       "      <td>0.016667</td>\n",
       "      <td>0.0438</td>\n",
       "      <td>0.019947</td>\n",
       "      <td>0.011500</td>\n",
       "      <td>0.031387</td>\n",
       "      <td>0.0100</td>\n",
       "      <td>BC</td>\n",
       "    </tr>\n",
       "    <tr>\n",
       "      <th>4</th>\n",
       "      <td>B006</td>\n",
       "      <td>-0.251000</td>\n",
       "      <td>-0.134700</td>\n",
       "      <td>-0.175750</td>\n",
       "      <td>-0.165800</td>\n",
       "      <td>-0.112522</td>\n",
       "      <td>-0.06670</td>\n",
       "      <td>-0.127972</td>\n",
       "      <td>0.026</td>\n",
       "      <td>-0.198429</td>\n",
       "      <td>...</td>\n",
       "      <td>-0.074109</td>\n",
       "      <td>0.024758</td>\n",
       "      <td>0.097000</td>\n",
       "      <td>0.018667</td>\n",
       "      <td>0.1170</td>\n",
       "      <td>0.058368</td>\n",
       "      <td>0.038571</td>\n",
       "      <td>0.020065</td>\n",
       "      <td>-0.4595</td>\n",
       "      <td>BC</td>\n",
       "    </tr>\n",
       "  </tbody>\n",
       "</table>\n",
       "<p>5 rows × 767 columns</p>\n",
       "</div>"
      ],
      "text/plain": [
       "     id  cyto.10p11.1  cyto.10p11.21  cyto.10p11.22  cyto.10p11.23  \\\n",
       "0  B001      0.181000      -0.019967       0.044536      -0.026000   \n",
       "1  B002      0.127000       0.010733       0.031250       0.048600   \n",
       "2  B003      0.004000       0.007567       0.024964       0.081200   \n",
       "3  B004      0.135667       0.061467      -0.061286      -0.071733   \n",
       "4  B006     -0.251000      -0.134700      -0.175750      -0.165800   \n",
       "\n",
       "   cyto.10p12.1  cyto.10p12.2  cyto.10p12.31  cyto.10p12.32  cyto.10p12.33  \\\n",
       "0      0.018065       0.00490       0.048000          0.084      -0.042857   \n",
       "1      0.084413       0.05160       0.092889          0.102      -0.012857   \n",
       "2     -0.011391       0.03605      -0.050194         -0.093      -0.059857   \n",
       "3      0.070522       0.06270       0.020556         -0.002       0.050857   \n",
       "4     -0.112522      -0.06670      -0.127972          0.026      -0.198429   \n",
       "\n",
       "    ...    cyto.9q33.1  cyto.9q33.2  cyto.9q33.3  cyto.9q34.11  cyto.9q34.12  \\\n",
       "0   ...       0.015217    -0.044152    -0.004636      0.014333        0.0116   \n",
       "1   ...      -0.043478    -0.046000    -0.007386     -0.009233       -0.0136   \n",
       "2   ...      -0.158783    -0.193576    -0.075977     -0.106667       -0.0114   \n",
       "3   ...      -0.019326     0.012515    -0.009591      0.016667        0.0438   \n",
       "4   ...      -0.074109     0.024758     0.097000      0.018667        0.1170   \n",
       "\n",
       "   cyto.9q34.13  cyto.9q34.2  cyto.9q34.3    <NA>  cancer  \n",
       "0     -0.004737    -0.019571    -0.022065 -0.7450      BC  \n",
       "1     -0.060474     0.027714     0.002290  0.2550      BC  \n",
       "2     -0.072421    -0.127714    -0.168903 -0.1360      BC  \n",
       "3      0.019947     0.011500     0.031387  0.0100      BC  \n",
       "4      0.058368     0.038571     0.020065 -0.4595      BC  \n",
       "\n",
       "[5 rows x 767 columns]"
      ]
     },
     "execution_count": 96,
     "metadata": {},
     "output_type": "execute_result"
    }
   ],
   "source": [
    "K100.head()"
   ]
  },
  {
   "cell_type": "code",
   "execution_count": 104,
   "metadata": {
    "ExecuteTime": {
     "end_time": "2019-02-20T06:32:09.027721Z",
     "start_time": "2019-02-20T06:32:09.019736Z"
    }
   },
   "outputs": [],
   "source": [
    "K100.dropna(inplace=True)"
   ]
  },
  {
   "cell_type": "code",
   "execution_count": 105,
   "metadata": {
    "ExecuteTime": {
     "end_time": "2019-02-20T06:32:12.380973Z",
     "start_time": "2019-02-20T06:32:12.363020Z"
    }
   },
   "outputs": [],
   "source": [
    "TCGA2 = TCGA.drop(list(set(TCGA.columns) - set(K100.columns)), axis = 1)"
   ]
  },
  {
   "cell_type": "code",
   "execution_count": 106,
   "metadata": {
    "ExecuteTime": {
     "end_time": "2019-02-20T06:32:14.455713Z",
     "start_time": "2019-02-20T06:32:14.450725Z"
    }
   },
   "outputs": [],
   "source": [
    "K100_2 = K100.drop(list(set(K100.columns) - set(TCGA.columns)), axis = 1)"
   ]
  },
  {
   "cell_type": "code",
   "execution_count": 107,
   "metadata": {
    "ExecuteTime": {
     "end_time": "2019-02-20T06:32:15.986891Z",
     "start_time": "2019-02-20T06:32:15.978914Z"
    }
   },
   "outputs": [
    {
     "data": {
      "text/plain": [
       "BC        32\n",
       "normal    21\n",
       "PC        19\n",
       "RC        16\n",
       "Name: cancer, dtype: int64"
      ]
     },
     "execution_count": 107,
     "metadata": {},
     "output_type": "execute_result"
    }
   ],
   "source": [
    "K100['cancer'].value_counts()"
   ]
  },
  {
   "cell_type": "code",
   "execution_count": 108,
   "metadata": {
    "ExecuteTime": {
     "end_time": "2019-02-20T06:32:19.082752Z",
     "start_time": "2019-02-20T06:32:19.074773Z"
    }
   },
   "outputs": [],
   "source": [
    "x_train = TCGA2\n",
    "y_train = TCGA['y']\n",
    "\n",
    "x_test = K100_2\n",
    "y_test = K100['cancer']"
   ]
  },
  {
   "cell_type": "code",
   "execution_count": 109,
   "metadata": {
    "ExecuteTime": {
     "end_time": "2019-02-20T06:32:34.317744Z",
     "start_time": "2019-02-20T06:32:19.924090Z"
    }
   },
   "outputs": [
    {
     "name": "stdout",
     "output_type": "stream",
     "text": [
      "[K = 4 ]\n",
      "-----------svm2-----------\n",
      "train accurcacy = 0.867545871559633, cv accurcacy = 0.07954545454545454\n",
      "--------rf2--------\n",
      "train accurcacy = 0.9942660550458715, cv accurcacy = 0.2727272727272727\n"
     ]
    }
   ],
   "source": [
    "print('-----------svm2-----------')\n",
    "svm2.fit(x_train, y_train)\n",
    "print(\"train accurcacy = {}, urine accurcacy = {}\".format(accuracy_score(y_train, svm2.predict(x_train)), accuracy_score(y_test, svm2.predict(x_test))))\n",
    "\n",
    "print('--------rf2--------')\n",
    "rf2.fit(x_train, y_train)\n",
    "print(\"train accurcacy = {}, urine accurcacy = {}\".format(accuracy_score(y_train, rf2.predict(x_train)), accuracy_score(y_test, rf2.predict(x_test))))\n"
   ]
  },
  {
   "cell_type": "code",
   "execution_count": null,
   "metadata": {},
   "outputs": [],
   "source": []
  }
 ],
 "metadata": {
  "kernelspec": {
   "display_name": "Python 3",
   "language": "python",
   "name": "python3"
  },
  "language_info": {
   "codemirror_mode": {
    "name": "ipython",
    "version": 3
   },
   "file_extension": ".py",
   "mimetype": "text/x-python",
   "name": "python",
   "nbconvert_exporter": "python",
   "pygments_lexer": "ipython3",
   "version": "3.6.5"
  }
 },
 "nbformat": 4,
 "nbformat_minor": 2
}
