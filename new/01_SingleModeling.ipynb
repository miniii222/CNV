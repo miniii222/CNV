{
 "cells": [
  {
   "cell_type": "code",
   "execution_count": 3,
   "metadata": {
    "ExecuteTime": {
     "end_time": "2019-04-20T10:17:07.047680Z",
     "start_time": "2019-04-20T10:17:07.039214Z"
    }
   },
   "outputs": [
    {
     "data": {
      "text/plain": [
       "['TCGA_data.csv', 'urine_k15_0419.csv']"
      ]
     },
     "execution_count": 3,
     "metadata": {},
     "output_type": "execute_result"
    }
   ],
   "source": [
    "import pandas as pd\n",
    "import numpy as np\n",
    "import os\n",
    "\n",
    "os.listdir('./data')"
   ]
  },
  {
   "cell_type": "code",
   "execution_count": 202,
   "metadata": {
    "ExecuteTime": {
     "end_time": "2019-04-20T12:42:27.115143Z",
     "start_time": "2019-04-20T12:42:23.444830Z"
    }
   },
   "outputs": [],
   "source": [
    "TCGA = pd.read_csv('./data/TCGA_data.csv')\n",
    "urine = pd.read_csv('./data/urine_k15_0420.csv')\n",
    "#urine = urine.drop(['Unnamed: 0','X'], axis = 1)\n",
    "#urine.to_csv('./data/urine_K15_0420.csv', index = False)"
   ]
  },
  {
   "cell_type": "code",
   "execution_count": 203,
   "metadata": {
    "ExecuteTime": {
     "end_time": "2019-04-20T12:42:27.131556Z",
     "start_time": "2019-04-20T12:42:27.118800Z"
    }
   },
   "outputs": [
    {
     "data": {
      "text/plain": [
       "Normal    1706\n",
       "KIRC       528\n",
       "PRAD       492\n",
       "BLCA       408\n",
       "KIRP       288\n",
       "KICH        66\n",
       "Name: y, dtype: int64"
      ]
     },
     "execution_count": 203,
     "metadata": {},
     "output_type": "execute_result"
    }
   ],
   "source": [
    "TCGA.y.value_counts()"
   ]
  },
  {
   "cell_type": "code",
   "execution_count": 204,
   "metadata": {
    "ExecuteTime": {
     "end_time": "2019-04-20T12:42:27.142411Z",
     "start_time": "2019-04-20T12:42:27.134586Z"
    }
   },
   "outputs": [
    {
     "name": "stdout",
     "output_type": "stream",
     "text": [
      "TCGA shape (3488, 787)\n",
      "urine shape (104, 787)\n"
     ]
    }
   ],
   "source": [
    "print('TCGA shape', TCGA.shape)\n",
    "print('urine shape', urine.shape)"
   ]
  },
  {
   "cell_type": "code",
   "execution_count": 205,
   "metadata": {
    "ExecuteTime": {
     "end_time": "2019-04-20T12:42:27.504233Z",
     "start_time": "2019-04-20T12:42:27.146500Z"
    }
   },
   "outputs": [],
   "source": [
    "TCGA = TCGA[(TCGA.y == 'BLCA') | (TCGA.y == 'Normal')]\n",
    "TCGA = TCGA.replace(['BLCA','Normal'],[ 1,0 ])\n",
    "TCGA = TCGA.reset_index(drop = True)"
   ]
  },
  {
   "cell_type": "code",
   "execution_count": 206,
   "metadata": {
    "ExecuteTime": {
     "end_time": "2019-04-20T12:42:27.515868Z",
     "start_time": "2019-04-20T12:42:27.508953Z"
    }
   },
   "outputs": [],
   "source": [
    "#TCGA.to_csv('./data/TCGA_binary.csv', index = False)"
   ]
  },
  {
   "cell_type": "code",
   "execution_count": 207,
   "metadata": {
    "ExecuteTime": {
     "end_time": "2019-04-20T12:42:27.529521Z",
     "start_time": "2019-04-20T12:42:27.518115Z"
    }
   },
   "outputs": [
    {
     "data": {
      "text/plain": [
       "(2114, 787)"
      ]
     },
     "execution_count": 207,
     "metadata": {},
     "output_type": "execute_result"
    }
   ],
   "source": [
    "TCGA.shape"
   ]
  },
  {
   "cell_type": "code",
   "execution_count": 208,
   "metadata": {
    "ExecuteTime": {
     "end_time": "2019-04-20T12:42:27.539661Z",
     "start_time": "2019-04-20T12:42:27.531572Z"
    }
   },
   "outputs": [
    {
     "data": {
      "text/plain": [
       "0    1706\n",
       "1     408\n",
       "Name: y, dtype: int64"
      ]
     },
     "execution_count": 208,
     "metadata": {},
     "output_type": "execute_result"
    }
   ],
   "source": [
    "TCGA.y.value_counts()"
   ]
  },
  {
   "cell_type": "code",
   "execution_count": 209,
   "metadata": {
    "ExecuteTime": {
     "end_time": "2019-04-20T12:42:27.597923Z",
     "start_time": "2019-04-20T12:42:27.550165Z"
    }
   },
   "outputs": [
    {
     "data": {
      "text/plain": [
       "0"
      ]
     },
     "execution_count": 209,
     "metadata": {},
     "output_type": "execute_result"
    }
   ],
   "source": [
    "#NA 없음\n",
    "TCGA.isnull().sum().sum()"
   ]
  },
  {
   "cell_type": "code",
   "execution_count": 210,
   "metadata": {
    "ExecuteTime": {
     "end_time": "2019-04-20T12:42:27.612853Z",
     "start_time": "2019-04-20T12:42:27.599918Z"
    }
   },
   "outputs": [
    {
     "data": {
      "text/plain": [
       "BLCA_15k    42\n",
       "NL_15k      21\n",
       "RCC_100k    21\n",
       "PRAD_15k    20\n",
       "Name: y, dtype: int64"
      ]
     },
     "execution_count": 210,
     "metadata": {},
     "output_type": "execute_result"
    }
   ],
   "source": [
    "urine.y.value_counts()"
   ]
  },
  {
   "cell_type": "code",
   "execution_count": 211,
   "metadata": {
    "ExecuteTime": {
     "end_time": "2019-04-20T12:42:27.782923Z",
     "start_time": "2019-04-20T12:42:27.762765Z"
    }
   },
   "outputs": [],
   "source": [
    "urine = urine[(urine.y == 'BLCA_15k') | (urine.y == 'NL_15k')]\n",
    "urine = urine.replace(['BLCA_15k','NL_15k'],[ 1,0 ])\n",
    "urine = urine.reset_index(drop = True)"
   ]
  },
  {
   "cell_type": "code",
   "execution_count": 212,
   "metadata": {
    "ExecuteTime": {
     "end_time": "2019-04-20T12:42:28.254697Z",
     "start_time": "2019-04-20T12:42:28.244210Z"
    }
   },
   "outputs": [
    {
     "data": {
      "text/plain": [
       "1    42\n",
       "0    21\n",
       "Name: y, dtype: int64"
      ]
     },
     "execution_count": 212,
     "metadata": {},
     "output_type": "execute_result"
    }
   ],
   "source": [
    "urine.y.value_counts()"
   ]
  },
  {
   "cell_type": "code",
   "execution_count": 213,
   "metadata": {
    "ExecuteTime": {
     "end_time": "2019-04-20T12:42:30.038345Z",
     "start_time": "2019-04-20T12:42:30.034382Z"
    }
   },
   "outputs": [],
   "source": [
    "#urine.to_csv('./data/urine_binary.csv', index = False)"
   ]
  },
  {
   "cell_type": "code",
   "execution_count": 214,
   "metadata": {
    "ExecuteTime": {
     "end_time": "2019-04-20T12:42:30.488549Z",
     "start_time": "2019-04-20T12:42:30.473321Z"
    }
   },
   "outputs": [],
   "source": [
    "X = TCGA.drop('y', axis = 1)\n",
    "y = TCGA['y']"
   ]
  },
  {
   "cell_type": "code",
   "execution_count": 154,
   "metadata": {
    "ExecuteTime": {
     "end_time": "2019-04-20T11:38:56.552091Z",
     "start_time": "2019-04-20T11:38:56.543937Z"
    }
   },
   "outputs": [],
   "source": [
    "from sklearn.metrics import accuracy_score\n",
    "from sklearn.metrics import recall_score\n",
    "from sklearn.metrics import precision_score\n",
    "from sklearn.metrics import confusion_matrix\n",
    "from sklearn.metrics import f1_score\n",
    "from sklearn.metrics import roc_auc_score\n",
    "from sklearn.metrics import classification_report\n",
    "from sklearn.metrics import roc_curve\n",
    "\n",
    "def get_eval(y_test, pred) :\n",
    "    \n",
    "    print('accuracy : {0:.4f} precision : {1:.4f} recall : {2:.4f} F1 : {3:.4f} AUC : {4:.4f}'.format(\n",
    "                                                        accuracy_score(y_test, pred), \n",
    "                                                        precision_score(y_test, pred),\n",
    "                                                        recall_score(y_test, pred),\n",
    "                                                        f1_score(y_test,pred),\n",
    "                                                        roc_auc_score(y_test, pred)\n",
    "                                                                      ))\n",
    "    \n",
    "    \n",
    "    \n",
    "    #print('accuracy : {0:.4f}'.format(accuracy_score(y_test,pred)), 'roc_auc_score : ', roc_auc_score(y_test,pred))\n",
    "    #print(classification_report(y_test, pred))\n",
    "    print(confusion_matrix(y_test, pred))"
   ]
  },
  {
   "cell_type": "code",
   "execution_count": 125,
   "metadata": {
    "ExecuteTime": {
     "end_time": "2019-04-20T11:04:38.202563Z",
     "start_time": "2019-04-20T11:04:38.194733Z"
    }
   },
   "outputs": [],
   "source": [
    "from sklearn.model_selection import StratifiedKFold\n",
    "\n",
    "skf = StratifiedKFold(n_splits = 5, random_state=0, shuffle = True)"
   ]
  },
  {
   "cell_type": "markdown",
   "metadata": {},
   "source": [
    "# logistic regression"
   ]
  },
  {
   "cell_type": "code",
   "execution_count": 168,
   "metadata": {
    "ExecuteTime": {
     "end_time": "2019-04-20T11:48:20.625511Z",
     "start_time": "2019-04-20T11:48:20.615535Z"
    }
   },
   "outputs": [],
   "source": [
    "from sklearn.pipeline import Pipeline\n",
    "from sklearn.linear_model import LogisticRegression\n",
    "\n",
    "from sklearn.preprocessing import StandardScaler\n",
    "from sklearn.preprocessing import MinMaxScaler\n",
    "from sklearn.preprocessing import MaxAbsScaler\n",
    "\n",
    "standardsc = StandardScaler()\n",
    "mms = MinMaxScaler()\n",
    "mas = MaxAbsScaler()\n",
    "\n",
    "lr = LogisticRegression()\n",
    "import warnings\n",
    "warnings.filterwarnings('ignore')\n",
    "\n",
    "from sklearn.pipeline import Pipeline"
   ]
  },
  {
   "cell_type": "code",
   "execution_count": 179,
   "metadata": {
    "ExecuteTime": {
     "end_time": "2019-04-20T11:59:46.846908Z",
     "start_time": "2019-04-20T11:59:46.832945Z"
    },
    "scrolled": false
   },
   "outputs": [],
   "source": [
    "def model_pipeline(model) :\n",
    "    pipeline1 = Pipeline([('StandardScaler', standardsc), ('Logistic', model)])\n",
    "    pipeline2 = Pipeline([('MinMaxScaler', mms), ('Logistic', model)])\n",
    "    pipeline3 = Pipeline([('MaxAbsScaler', mas), ('Logistic', model)])\n",
    "\n",
    "    cv_acc = []\n",
    "    pip1_acc = []\n",
    "    pip2_acc = []\n",
    "    pip3_acc = []\n",
    "\n",
    "    for i, (tr_ind, te_ind) in enumerate(skf.split(X,y)) :\n",
    "\n",
    "        X_train, X_test = X.iloc[tr_ind], X.iloc[te_ind]\n",
    "        y_train, y_test = y[tr_ind], y[te_ind]\n",
    "\n",
    "        model.fit(X_train, y_train)\n",
    "        pipeline1.fit(X_train, y_train)\n",
    "        pipeline2.fit(X_train, y_train)\n",
    "        pipeline3.fit(X_train, y_train)\n",
    "\n",
    "        cv_acc.append(accuracy_score(y[te_ind], model.predict(X_test)))\n",
    "        pip1_acc.append(accuracy_score(y[te_ind], pipeline1.predict(X_test)))\n",
    "        pip2_acc.append(accuracy_score(y[te_ind], pipeline2.predict(X_test)))\n",
    "        pip3_acc.append(accuracy_score(y[te_ind], pipeline3.predict(X_test)))\n",
    "\n",
    "        print('{0} 번째 accuracy non_scale : {1:.4f}% StandardScale : {2:.4f}% MinMax : {3:.4f}% MaxAbs : {4:.4f}%'.format(i,cv_acc[i],pip1_acc[i],pip2_acc[i],pip3_acc[i]))\n",
    "\n",
    "    print('\\n mean accuracy non_scale : {0:.4f}% StandardScale : {1:.4f}% MinMax : {2:.4f}% MaxAbs : {3:.4f}%'.format(np.mean(cv_acc),np.mean(pip1_acc),np.mean(pip2_acc),np.mean(pip3_acc)))"
   ]
  },
  {
   "cell_type": "code",
   "execution_count": 180,
   "metadata": {
    "ExecuteTime": {
     "end_time": "2019-04-20T12:00:03.682712Z",
     "start_time": "2019-04-20T11:59:58.120700Z"
    }
   },
   "outputs": [
    {
     "name": "stdout",
     "output_type": "stream",
     "text": [
      "0 번째 accuracy non_scale : 0.9788% StandardScale : 0.9764% MinMax : 0.8137% MaxAbs : 0.9741%\n",
      "1 번째 accuracy non_scale : 0.9905% StandardScale : 0.9882% MinMax : 0.8132% MaxAbs : 0.9905%\n",
      "2 번째 accuracy non_scale : 0.9787% StandardScale : 0.9787% MinMax : 0.8132% MaxAbs : 0.9716%\n",
      "3 번째 accuracy non_scale : 0.9858% StandardScale : 0.9858% MinMax : 0.8128% MaxAbs : 0.9834%\n",
      "4 번째 accuracy non_scale : 0.9763% StandardScale : 0.9787% MinMax : 0.8128% MaxAbs : 0.9739%\n",
      "\n",
      " mean accuracy non_scale : 0.9820% StandardScale : 0.9816% MinMax : 0.8131% MaxAbs : 0.9787%\n"
     ]
    }
   ],
   "source": [
    "model_pipeline(lr)"
   ]
  },
  {
   "cell_type": "code",
   "execution_count": 181,
   "metadata": {
    "ExecuteTime": {
     "end_time": "2019-04-20T12:00:21.892062Z",
     "start_time": "2019-04-20T12:00:21.208936Z"
    }
   },
   "outputs": [
    {
     "name": "stdout",
     "output_type": "stream",
     "text": [
      "accuracy : 0.6984 precision : 1.0000 recall : 0.5476 F1 : 0.7077 AUC : 0.7738\n",
      "[[21  0]\n",
      " [19 23]]\n"
     ]
    }
   ],
   "source": [
    "pipeline1.fit(X,y)\n",
    "get_eval(urine['y'],pipeline1.predict(urine.drop('y', axis = 1)))"
   ]
  },
  {
   "cell_type": "markdown",
   "metadata": {},
   "source": [
    "# randomforest"
   ]
  },
  {
   "cell_type": "code",
   "execution_count": 182,
   "metadata": {
    "ExecuteTime": {
     "end_time": "2019-04-20T12:01:06.315745Z",
     "start_time": "2019-04-20T12:01:06.312753Z"
    }
   },
   "outputs": [],
   "source": [
    "from sklearn.ensemble import RandomForestClassifier\n",
    "rf = RandomForestClassifier()"
   ]
  },
  {
   "cell_type": "code",
   "execution_count": 183,
   "metadata": {
    "ExecuteTime": {
     "end_time": "2019-04-20T12:01:19.931844Z",
     "start_time": "2019-04-20T12:01:16.128945Z"
    }
   },
   "outputs": [
    {
     "name": "stdout",
     "output_type": "stream",
     "text": [
      "0 번째 accuracy non_scale : 0.9741% StandardScale : 0.1934% MinMax : 0.1934% MaxAbs : 0.9764%\n",
      "1 번째 accuracy non_scale : 0.9882% StandardScale : 0.5177% MinMax : 0.1939% MaxAbs : 0.9858%\n",
      "2 번째 accuracy non_scale : 0.9787% StandardScale : 0.6052% MinMax : 0.1939% MaxAbs : 0.9764%\n",
      "3 번째 accuracy non_scale : 0.9858% StandardScale : 0.3934% MinMax : 0.1919% MaxAbs : 0.9858%\n",
      "4 번째 accuracy non_scale : 0.9858% StandardScale : 0.9716% MinMax : 0.1919% MaxAbs : 0.9787%\n",
      "\n",
      " mean accuracy non_scale : 0.9825% StandardScale : 0.5363% MinMax : 0.1930% MaxAbs : 0.9806%\n"
     ]
    }
   ],
   "source": [
    "model_pipeline(rf)"
   ]
  },
  {
   "cell_type": "code",
   "execution_count": 184,
   "metadata": {
    "ExecuteTime": {
     "end_time": "2019-04-20T12:01:46.472386Z",
     "start_time": "2019-04-20T12:01:46.259935Z"
    }
   },
   "outputs": [
    {
     "name": "stdout",
     "output_type": "stream",
     "text": [
      "accuracy : 0.9524 precision : 1.0000 recall : 0.9286 F1 : 0.9630 AUC : 0.9643\n",
      "[[21  0]\n",
      " [ 3 39]]\n"
     ]
    }
   ],
   "source": [
    "rf.fit(X,y)\n",
    "get_eval(urine['y'],rf.predict(urine.drop('y', axis = 1)))"
   ]
  },
  {
   "cell_type": "markdown",
   "metadata": {},
   "source": [
    "# adaboost"
   ]
  },
  {
   "cell_type": "code",
   "execution_count": 185,
   "metadata": {
    "ExecuteTime": {
     "end_time": "2019-04-20T12:02:34.413641Z",
     "start_time": "2019-04-20T12:02:34.409616Z"
    }
   },
   "outputs": [],
   "source": [
    "from sklearn.ensemble import AdaBoostClassifier\n",
    "ada = AdaBoostClassifier()"
   ]
  },
  {
   "cell_type": "code",
   "execution_count": 186,
   "metadata": {
    "ExecuteTime": {
     "end_time": "2019-04-20T12:04:06.035177Z",
     "start_time": "2019-04-20T12:02:40.767258Z"
    }
   },
   "outputs": [
    {
     "name": "stdout",
     "output_type": "stream",
     "text": [
      "0 번째 accuracy non_scale : 0.9788% StandardScale : 0.8703% MinMax : 0.1934% MaxAbs : 0.9858%\n",
      "1 번째 accuracy non_scale : 0.9905% StandardScale : 0.9811% MinMax : 0.1939% MaxAbs : 0.9882%\n",
      "2 번째 accuracy non_scale : 0.9693% StandardScale : 0.9740% MinMax : 0.1939% MaxAbs : 0.9716%\n",
      "3 번째 accuracy non_scale : 0.9787% StandardScale : 0.2133% MinMax : 0.1919% MaxAbs : 0.9787%\n",
      "4 번째 accuracy non_scale : 0.9882% StandardScale : 0.9739% MinMax : 0.1919% MaxAbs : 0.9834%\n",
      "\n",
      " mean accuracy non_scale : 0.9811% StandardScale : 0.8025% MinMax : 0.1930% MaxAbs : 0.9815%\n"
     ]
    }
   ],
   "source": [
    "model_pipeline(ada)"
   ]
  },
  {
   "cell_type": "code",
   "execution_count": 187,
   "metadata": {
    "ExecuteTime": {
     "end_time": "2019-04-20T12:06:15.108083Z",
     "start_time": "2019-04-20T12:06:09.903259Z"
    }
   },
   "outputs": [
    {
     "name": "stdout",
     "output_type": "stream",
     "text": [
      "accuracy : 0.9365 precision : 1.0000 recall : 0.9048 F1 : 0.9500 AUC : 0.9524\n",
      "[[21  0]\n",
      " [ 4 38]]\n"
     ]
    }
   ],
   "source": [
    "pipeline3 = Pipeline([('MaxAbsScaler', mas), ('AdaBoostClassifier', ada)])\n",
    "pipeline3.fit(X,y)\n",
    "get_eval(urine['y'],pipeline3.predict(urine.drop('y', axis = 1)))"
   ]
  },
  {
   "cell_type": "markdown",
   "metadata": {},
   "source": [
    "# decision tree"
   ]
  },
  {
   "cell_type": "code",
   "execution_count": 188,
   "metadata": {
    "ExecuteTime": {
     "end_time": "2019-04-20T12:07:35.740418Z",
     "start_time": "2019-04-20T12:07:35.736428Z"
    }
   },
   "outputs": [],
   "source": [
    "from sklearn.tree import DecisionTreeClassifier\n",
    "tree = DecisionTreeClassifier()"
   ]
  },
  {
   "cell_type": "code",
   "execution_count": 189,
   "metadata": {
    "ExecuteTime": {
     "end_time": "2019-04-20T12:07:57.043387Z",
     "start_time": "2019-04-20T12:07:41.144368Z"
    }
   },
   "outputs": [
    {
     "name": "stdout",
     "output_type": "stream",
     "text": [
      "0 번째 accuracy non_scale : 0.9670% StandardScale : 0.1580% MinMax : 0.1934% MaxAbs : 0.9646%\n",
      "1 번째 accuracy non_scale : 0.9551% StandardScale : 0.9409% MinMax : 0.1939% MaxAbs : 0.9740%\n",
      "2 번째 accuracy non_scale : 0.9456% StandardScale : 0.1939% MinMax : 0.1939% MaxAbs : 0.9811%\n",
      "3 번째 accuracy non_scale : 0.9123% StandardScale : 0.1635% MinMax : 0.1919% MaxAbs : 0.9645%\n",
      "4 번째 accuracy non_scale : 0.9431% StandardScale : 0.2014% MinMax : 0.1919% MaxAbs : 0.9645%\n",
      "\n",
      " mean accuracy non_scale : 0.9446% StandardScale : 0.3315% MinMax : 0.1930% MaxAbs : 0.9697%\n"
     ]
    }
   ],
   "source": [
    "model_pipeline(tree)"
   ]
  },
  {
   "cell_type": "code",
   "execution_count": 190,
   "metadata": {
    "ExecuteTime": {
     "end_time": "2019-04-20T12:08:10.462691Z",
     "start_time": "2019-04-20T12:08:09.303213Z"
    }
   },
   "outputs": [
    {
     "name": "stdout",
     "output_type": "stream",
     "text": [
      "accuracy : 0.9524 precision : 1.0000 recall : 0.9286 F1 : 0.9630 AUC : 0.9643\n",
      "[[21  0]\n",
      " [ 3 39]]\n"
     ]
    }
   ],
   "source": [
    "pipeline3 = Pipeline([('MaxAbsScaler', mas), ('tree', tree)])\n",
    "pipeline3.fit(X,y)\n",
    "get_eval(urine['y'],pipeline3.predict(urine.drop('y', axis = 1)))"
   ]
  },
  {
   "cell_type": "markdown",
   "metadata": {},
   "source": [
    "# GradientBoostingClassifier"
   ]
  },
  {
   "cell_type": "code",
   "execution_count": 191,
   "metadata": {
    "ExecuteTime": {
     "end_time": "2019-04-20T12:09:13.156657Z",
     "start_time": "2019-04-20T12:09:13.151669Z"
    }
   },
   "outputs": [],
   "source": [
    "from sklearn.ensemble import GradientBoostingClassifier\n",
    "gb = GradientBoostingClassifier()"
   ]
  },
  {
   "cell_type": "code",
   "execution_count": 192,
   "metadata": {
    "ExecuteTime": {
     "end_time": "2019-04-20T12:11:08.835955Z",
     "start_time": "2019-04-20T12:09:18.336598Z"
    }
   },
   "outputs": [
    {
     "name": "stdout",
     "output_type": "stream",
     "text": [
      "0 번째 accuracy non_scale : 0.9835% StandardScale : 0.9741% MinMax : 0.1934% MaxAbs : 0.9858%\n",
      "1 번째 accuracy non_scale : 0.9835% StandardScale : 0.9551% MinMax : 0.1939% MaxAbs : 0.9882%\n",
      "2 번째 accuracy non_scale : 0.9764% StandardScale : 0.9787% MinMax : 0.1939% MaxAbs : 0.9764%\n",
      "3 번째 accuracy non_scale : 0.9810% StandardScale : 0.9834% MinMax : 0.1919% MaxAbs : 0.9858%\n",
      "4 번째 accuracy non_scale : 0.9787% StandardScale : 0.9716% MinMax : 0.1919% MaxAbs : 0.9858%\n",
      "\n",
      " mean accuracy non_scale : 0.9806% StandardScale : 0.9726% MinMax : 0.1930% MaxAbs : 0.9844%\n"
     ]
    }
   ],
   "source": [
    "model_pipeline(gb)"
   ]
  },
  {
   "cell_type": "code",
   "execution_count": 193,
   "metadata": {
    "ExecuteTime": {
     "end_time": "2019-04-20T12:11:30.871685Z",
     "start_time": "2019-04-20T12:11:24.233755Z"
    }
   },
   "outputs": [
    {
     "name": "stdout",
     "output_type": "stream",
     "text": [
      "accuracy : 1.0000 precision : 1.0000 recall : 1.0000 F1 : 1.0000 AUC : 1.0000\n",
      "[[21  0]\n",
      " [ 0 42]]\n"
     ]
    }
   ],
   "source": [
    "pipeline3 = Pipeline([('MaxAbsScaler', mas), ('GB', gb)])\n",
    "pipeline3.fit(X,y)\n",
    "get_eval(urine['y'],pipeline3.predict(urine.drop('y', axis = 1)))"
   ]
  },
  {
   "cell_type": "markdown",
   "metadata": {},
   "source": [
    "# SVM"
   ]
  },
  {
   "cell_type": "code",
   "execution_count": 198,
   "metadata": {
    "ExecuteTime": {
     "end_time": "2019-04-20T12:40:38.908001Z",
     "start_time": "2019-04-20T12:40:38.901730Z"
    }
   },
   "outputs": [],
   "source": [
    "from sklearn.svm import SVC\n",
    "svm = SVC()"
   ]
  },
  {
   "cell_type": "code",
   "execution_count": 199,
   "metadata": {
    "ExecuteTime": {
     "end_time": "2019-04-20T12:41:22.035242Z",
     "start_time": "2019-04-20T12:40:45.290470Z"
    }
   },
   "outputs": [
    {
     "name": "stdout",
     "output_type": "stream",
     "text": [
      "0 번째 accuracy non_scale : 0.9693% StandardScale : 0.9858% MinMax : 0.8986% MaxAbs : 0.9599%\n",
      "1 번째 accuracy non_scale : 0.9764% StandardScale : 0.9882% MinMax : 0.8889% MaxAbs : 0.9669%\n",
      "2 번째 accuracy non_scale : 0.9551% StandardScale : 0.9787% MinMax : 0.8629% MaxAbs : 0.9504%\n",
      "3 번째 accuracy non_scale : 0.9668% StandardScale : 0.9882% MinMax : 0.8815% MaxAbs : 0.9597%\n",
      "4 번째 accuracy non_scale : 0.9692% StandardScale : 0.9810% MinMax : 0.9005% MaxAbs : 0.9645%\n",
      "\n",
      " mean accuracy non_scale : 0.9674% StandardScale : 0.9844% MinMax : 0.8865% MaxAbs : 0.9603%\n"
     ]
    }
   ],
   "source": [
    "model_pipeline(svm)"
   ]
  },
  {
   "cell_type": "code",
   "execution_count": 215,
   "metadata": {
    "ExecuteTime": {
     "end_time": "2019-04-20T12:42:39.326331Z",
     "start_time": "2019-04-20T12:42:38.434587Z"
    }
   },
   "outputs": [
    {
     "name": "stdout",
     "output_type": "stream",
     "text": [
      "accuracy : 0.9683 precision : 1.0000 recall : 0.9524 F1 : 0.9756 AUC : 0.9762\n",
      "[[21  0]\n",
      " [ 2 40]]\n"
     ]
    }
   ],
   "source": [
    "pipeline1 = Pipeline([('StandardScaler', standardsc), ('svm', svm)])\n",
    "pipeline1.fit(X,y)\n",
    "get_eval(urine['y'],pipeline1.predict(urine.drop('y', axis = 1)))"
   ]
  }
 ],
 "metadata": {
  "hide_input": false,
  "kernelspec": {
   "display_name": "Python 3",
   "language": "python",
   "name": "python3"
  },
  "language_info": {
   "codemirror_mode": {
    "name": "ipython",
    "version": 3
   },
   "file_extension": ".py",
   "mimetype": "text/x-python",
   "name": "python",
   "nbconvert_exporter": "python",
   "pygments_lexer": "ipython3",
   "version": "3.7.1"
  },
  "toc": {
   "base_numbering": 1,
   "nav_menu": {},
   "number_sections": true,
   "sideBar": true,
   "skip_h1_title": false,
   "title_cell": "Table of Contents",
   "title_sidebar": "Contents",
   "toc_cell": false,
   "toc_position": {},
   "toc_section_display": true,
   "toc_window_display": true
  }
 },
 "nbformat": 4,
 "nbformat_minor": 2
}
