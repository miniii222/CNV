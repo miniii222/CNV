{
 "cells": [
  {
   "cell_type": "code",
   "execution_count": 4,
   "metadata": {
    "ExecuteTime": {
     "end_time": "2019-05-07T04:09:25.488743Z",
     "start_time": "2019-05-07T04:09:25.481426Z"
    }
   },
   "outputs": [
    {
     "data": {
      "text/plain": [
       "['TCGA_binary.csv',\n",
       " 'TCGA_data.csv',\n",
       " 'urine_binary.csv',\n",
       " 'urine_k15_0419.csv',\n",
       " 'urine_K15_0420.csv',\n",
       " 'urine_k15_0423.csv',\n",
       " 'urine_k15_0428.csv']"
      ]
     },
     "execution_count": 4,
     "metadata": {},
     "output_type": "execute_result"
    }
   ],
   "source": [
    "import pandas as pd\n",
    "import numpy as np\n",
    "import os\n",
    "\n",
    "os.listdir('./data')"
   ]
  },
  {
   "cell_type": "code",
   "execution_count": 5,
   "metadata": {
    "ExecuteTime": {
     "end_time": "2019-05-07T04:09:30.548354Z",
     "start_time": "2019-05-07T04:09:25.758923Z"
    }
   },
   "outputs": [],
   "source": [
    "TCGA = pd.read_csv('./data/TCGA_data.csv')\n",
    "urine = pd.read_csv('./data/urine_k15_0428.csv')"
   ]
  },
  {
   "cell_type": "code",
   "execution_count": 6,
   "metadata": {
    "ExecuteTime": {
     "end_time": "2019-05-07T04:09:30.579298Z",
     "start_time": "2019-05-07T04:09:30.549506Z"
    }
   },
   "outputs": [
    {
     "data": {
      "text/plain": [
       "Normal    1706\n",
       "KIRC       528\n",
       "PRAD       492\n",
       "BLCA       408\n",
       "KIRP       288\n",
       "KICH        66\n",
       "Name: y, dtype: int64"
      ]
     },
     "execution_count": 6,
     "metadata": {},
     "output_type": "execute_result"
    }
   ],
   "source": [
    "TCGA.y.value_counts()"
   ]
  },
  {
   "cell_type": "code",
   "execution_count": 7,
   "metadata": {
    "ExecuteTime": {
     "end_time": "2019-05-07T04:09:30.591475Z",
     "start_time": "2019-05-07T04:09:30.583636Z"
    }
   },
   "outputs": [
    {
     "data": {
      "text/plain": [
       "(3488, 787)"
      ]
     },
     "execution_count": 7,
     "metadata": {},
     "output_type": "execute_result"
    }
   ],
   "source": [
    "TCGA.shape"
   ]
  },
  {
   "cell_type": "code",
   "execution_count": 8,
   "metadata": {
    "ExecuteTime": {
     "end_time": "2019-05-07T04:09:30.603699Z",
     "start_time": "2019-05-07T04:09:30.594711Z"
    }
   },
   "outputs": [
    {
     "data": {
      "text/plain": [
       "(123, 789)"
      ]
     },
     "execution_count": 8,
     "metadata": {},
     "output_type": "execute_result"
    }
   ],
   "source": [
    "urine.shape"
   ]
  },
  {
   "cell_type": "code",
   "execution_count": 5,
   "metadata": {
    "ExecuteTime": {
     "end_time": "2019-04-30T01:26:58.245333Z",
     "start_time": "2019-04-30T01:26:58.232079Z"
    }
   },
   "outputs": [
    {
     "data": {
      "text/plain": [
       "Normal    1706\n",
       "KIRC       528\n",
       "PRAD       492\n",
       "BLCA       408\n",
       "KIRP       288\n",
       "KICH        66\n",
       "Name: y, dtype: int64"
      ]
     },
     "execution_count": 5,
     "metadata": {},
     "output_type": "execute_result"
    }
   ],
   "source": [
    "TCGA.y.value_counts()"
   ]
  },
  {
   "cell_type": "code",
   "execution_count": 12,
   "metadata": {
    "ExecuteTime": {
     "end_time": "2019-04-30T01:28:29.821722Z",
     "start_time": "2019-04-30T01:28:29.811455Z"
    }
   },
   "outputs": [
    {
     "data": {
      "text/plain": [
       "BLCA        51\n",
       "NL          28\n",
       "PRAD        23\n",
       "RCC_100k    21\n",
       "Name: y, dtype: int64"
      ]
     },
     "execution_count": 12,
     "metadata": {},
     "output_type": "execute_result"
    }
   ],
   "source": [
    "urine.y.value_counts()"
   ]
  },
  {
   "cell_type": "code",
   "execution_count": 9,
   "metadata": {
    "ExecuteTime": {
     "end_time": "2019-05-07T04:09:35.276363Z",
     "start_time": "2019-05-07T04:09:34.881179Z"
    }
   },
   "outputs": [],
   "source": [
    "TCGA = TCGA[(TCGA.y == 'BLCA') | (TCGA.y == 'Normal')]\n",
    "TCGA = TCGA.replace(['BLCA','Normal'],[ 1,0 ])\n",
    "TCGA = TCGA.reset_index(drop = True)"
   ]
  },
  {
   "cell_type": "code",
   "execution_count": 10,
   "metadata": {
    "ExecuteTime": {
     "end_time": "2019-05-07T04:09:35.299910Z",
     "start_time": "2019-05-07T04:09:35.279355Z"
    }
   },
   "outputs": [],
   "source": [
    "urine = urine[(urine.y == 'BLCA') | (urine.y == 'NL')]\n",
    "urine = urine.replace(['BLCA','NL'],[ 1,0 ])\n",
    "urine = urine.reset_index(drop = True)"
   ]
  },
  {
   "cell_type": "code",
   "execution_count": 11,
   "metadata": {
    "ExecuteTime": {
     "end_time": "2019-05-07T04:09:36.667056Z",
     "start_time": "2019-05-07T04:09:36.637445Z"
    }
   },
   "outputs": [
    {
     "data": {
      "text/plain": [
       "0    1706\n",
       "1     408\n",
       "Name: y, dtype: int64"
      ]
     },
     "execution_count": 11,
     "metadata": {},
     "output_type": "execute_result"
    }
   ],
   "source": [
    "TCGA.y.value_counts()"
   ]
  },
  {
   "cell_type": "code",
   "execution_count": 12,
   "metadata": {
    "ExecuteTime": {
     "end_time": "2019-05-07T04:09:36.913250Z",
     "start_time": "2019-05-07T04:09:36.900603Z"
    }
   },
   "outputs": [
    {
     "data": {
      "text/plain": [
       "1    51\n",
       "0    28\n",
       "Name: y, dtype: int64"
      ]
     },
     "execution_count": 12,
     "metadata": {},
     "output_type": "execute_result"
    }
   ],
   "source": [
    "urine.y.value_counts()"
   ]
  },
  {
   "cell_type": "code",
   "execution_count": 13,
   "metadata": {
    "ExecuteTime": {
     "end_time": "2019-05-07T04:09:37.208015Z",
     "start_time": "2019-05-07T04:09:37.196963Z"
    }
   },
   "outputs": [],
   "source": [
    "urine = urine.drop(['Unnamed: 0','X'], axis = 1)"
   ]
  },
  {
   "cell_type": "code",
   "execution_count": 14,
   "metadata": {
    "ExecuteTime": {
     "end_time": "2019-05-07T04:09:37.918713Z",
     "start_time": "2019-05-07T04:09:37.902517Z"
    }
   },
   "outputs": [
    {
     "name": "stdout",
     "output_type": "stream",
     "text": [
      "TCGA shape :  (2114, 787)\n",
      "urine shape :  (79, 787)\n"
     ]
    }
   ],
   "source": [
    "print('TCGA shape : ',TCGA.shape)\n",
    "print('urine shape : ',urine.shape)"
   ]
  },
  {
   "cell_type": "markdown",
   "metadata": {},
   "source": [
    "# scaling"
   ]
  },
  {
   "cell_type": "code",
   "execution_count": 15,
   "metadata": {
    "ExecuteTime": {
     "end_time": "2019-05-07T04:09:43.522380Z",
     "start_time": "2019-05-07T04:09:43.499793Z"
    }
   },
   "outputs": [],
   "source": [
    "X = TCGA.drop('y', axis = 1)\n",
    "y = TCGA['y']\n",
    "\n",
    "urine_X = urine.drop('y', axis = 1)\n",
    "urine_y = urine['y']"
   ]
  },
  {
   "cell_type": "code",
   "execution_count": 16,
   "metadata": {
    "ExecuteTime": {
     "end_time": "2019-05-07T04:09:50.423347Z",
     "start_time": "2019-05-07T04:09:43.834716Z"
    }
   },
   "outputs": [
    {
     "data": {
      "text/plain": [
       "MaxAbsScaler(copy=True)"
      ]
     },
     "execution_count": 16,
     "metadata": {},
     "output_type": "execute_result"
    }
   ],
   "source": [
    "from sklearn.preprocessing import StandardScaler\n",
    "from sklearn.preprocessing import MinMaxScaler\n",
    "from sklearn.preprocessing import MaxAbsScaler\n",
    "\n",
    "standardsc = StandardScaler()\n",
    "mms = MinMaxScaler()\n",
    "mas = MaxAbsScaler()\n",
    "\n",
    "standardsc.fit(X)\n",
    "mms.fit(X)\n",
    "mas.fit(X)"
   ]
  },
  {
   "cell_type": "code",
   "execution_count": 17,
   "metadata": {
    "ExecuteTime": {
     "end_time": "2019-05-07T04:10:03.535181Z",
     "start_time": "2019-05-07T04:10:03.468729Z"
    }
   },
   "outputs": [
    {
     "name": "stderr",
     "output_type": "stream",
     "text": [
      "C:\\Users\\wjssm\\Anaconda3\\lib\\site-packages\\ipykernel_launcher.py:5: DataConversionWarning: Data with input dtype int64, float64 were all converted to float64 by StandardScaler.\n",
      "  \"\"\"\n"
     ]
    }
   ],
   "source": [
    "X_standard = pd.DataFrame(standardsc.transform(X), columns = X.columns)\n",
    "X_mms = pd.DataFrame(mms.transform(X), columns = X.columns)\n",
    "X_mas = pd.DataFrame(mas.transform(X), columns = X.columns)\n",
    "\n",
    "urine_X_standard = standardsc.transform(urine_X)\n",
    "urine_X_mms = mms.transform(urine_X)\n",
    "urine_X_mas = mas.transform(urine_X)"
   ]
  },
  {
   "cell_type": "code",
   "execution_count": 18,
   "metadata": {
    "ExecuteTime": {
     "end_time": "2019-05-07T04:10:04.713621Z",
     "start_time": "2019-05-07T04:10:04.546396Z"
    }
   },
   "outputs": [],
   "source": [
    "from sklearn.metrics import accuracy_score\n",
    "from sklearn.metrics import recall_score\n",
    "from sklearn.metrics import precision_score\n",
    "from sklearn.metrics import confusion_matrix\n",
    "from sklearn.metrics import f1_score\n",
    "from sklearn.metrics import roc_auc_score\n",
    "from sklearn.metrics import classification_report\n",
    "from sklearn.metrics import roc_curve\n",
    "\n",
    "def get_eval(y_test, pred) :\n",
    "    \n",
    "    print('accuracy : {0:.4f} precision : {1:.4f} recall : {2:.4f} F1 : {3:.4f} AUC : {4:.4f}'.format(\n",
    "                                                        accuracy_score(y_test, pred), \n",
    "                                                        precision_score(y_test, pred),\n",
    "                                                        recall_score(y_test, pred),\n",
    "                                                        f1_score(y_test,pred),\n",
    "                                                        roc_auc_score(y_test, pred)\n",
    "                                                                      ))\n",
    "    \n",
    "    \n",
    "    \n",
    "    #print('accuracy : {0:.4f}'.format(accuracy_score(y_test,pred)), 'roc_auc_score : ', roc_auc_score(y_test,pred))\n",
    "    #print(classification_report(y_test, pred))\n",
    "    print(confusion_matrix(y_test, pred))"
   ]
  },
  {
   "cell_type": "code",
   "execution_count": 19,
   "metadata": {
    "ExecuteTime": {
     "end_time": "2019-05-07T04:10:26.758017Z",
     "start_time": "2019-05-07T04:10:26.747503Z"
    }
   },
   "outputs": [],
   "source": [
    "from sklearn.preprocessing import Binarizer\n",
    "\n",
    "def get_eval_by_threshold(y_test, pred_prba_c1, thresholds) :\n",
    "    \n",
    "    for custom_threshold in thresholds :\n",
    "        binarizer = Binarizer(threshold=custom_threshold).fit(pred_prba_c1)\n",
    "        custom_predict = binarizer.transform(pred_prba_c1)\n",
    "        \n",
    "        print('threshold ; ', custom_threshold)\n",
    "        get_eval(y_test, custom_predict)\n",
    "        print('\\n')"
   ]
  },
  {
   "cell_type": "code",
   "execution_count": 20,
   "metadata": {
    "ExecuteTime": {
     "end_time": "2019-05-07T04:10:27.868579Z",
     "start_time": "2019-05-07T04:10:27.814607Z"
    }
   },
   "outputs": [],
   "source": [
    "from sklearn.model_selection import StratifiedKFold\n",
    "\n",
    "skf = StratifiedKFold(n_splits = 5, random_state=0, shuffle = True)"
   ]
  },
  {
   "cell_type": "markdown",
   "metadata": {},
   "source": [
    "# logistic regression"
   ]
  },
  {
   "cell_type": "code",
   "execution_count": 21,
   "metadata": {
    "ExecuteTime": {
     "end_time": "2019-05-07T04:10:36.169448Z",
     "start_time": "2019-05-07T04:10:35.570072Z"
    }
   },
   "outputs": [],
   "source": [
    "from sklearn.pipeline import Pipeline\n",
    "from sklearn.linear_model import LogisticRegression\n",
    "\n",
    "lr = LogisticRegression()\n",
    "import warnings\n",
    "warnings.filterwarnings('ignore')\n",
    "\n",
    "from sklearn.pipeline import Pipeline"
   ]
  },
  {
   "cell_type": "code",
   "execution_count": 22,
   "metadata": {
    "ExecuteTime": {
     "end_time": "2019-05-07T04:10:36.691823Z",
     "start_time": "2019-05-07T04:10:36.677642Z"
    }
   },
   "outputs": [],
   "source": [
    "def model_pipeline_2(model) :\n",
    "    \n",
    "    cv_acc = []\n",
    "    cv_acc_sc = []\n",
    "    cv_acc_mms = []\n",
    "    cv_acc_mas = []\n",
    "\n",
    "    for i, (tr_ind, te_ind) in enumerate(skf.split(X,y)) :\n",
    "\n",
    "        X_train, X_test = X.iloc[tr_ind], X.iloc[te_ind]\n",
    "        X_train_sc, X_test_sc = X_standard.iloc[tr_ind], X_standard.iloc[te_ind]\n",
    "        X_train_mms, X_test_mms = X_mms.iloc[tr_ind], X_mms.iloc[te_ind]\n",
    "        X_train_mas, X_test_mas = X_mas.iloc[tr_ind], X_mas.iloc[te_ind]\n",
    "        \n",
    "        y_train, y_test = y[tr_ind], y[te_ind]\n",
    "\n",
    "        model.fit(X_train, y_train)\n",
    "        cv_acc.append(accuracy_score(y[te_ind], model.predict(X_test)))\n",
    "        \n",
    "        model.fit(X_train_sc, y_train)\n",
    "        cv_acc_sc.append(accuracy_score(y[te_ind], model.predict(standardsc.transform(X_test_sc))))\n",
    "        \n",
    "        model.fit(X_train_mms, y_train)\n",
    "        cv_acc_mms.append(accuracy_score(y[te_ind], model.predict(mms.transform(X_test_mms))))\n",
    "        \n",
    "        model.fit(X_train_mas, y_train)\n",
    "        cv_acc_mas.append(accuracy_score(y[te_ind], model.predict(mas.transform(X_test_mas))))\n",
    "        \n",
    "        print('{0} 번째 accuracy non_scale : {1:.4f}% StandardScale : {2:.4f}% MinMax : {3:.4f}% MaxAbs : {4:.4f}%'.format(i,cv_acc[i],cv_acc_sc[i],cv_acc_mms[i],cv_acc_mas[i]))\n",
    "\n",
    "    print('\\n mean accuracy non_scale : {0:.4f}% StandardScale : {1:.4f}% MinMax : {2:.4f}% MaxAbs : {3:.4f}%'.format(np.mean(cv_acc),np.mean(cv_acc_sc),np.mean(cv_acc_mms),np.mean(cv_acc_mas)))"
   ]
  },
  {
   "cell_type": "code",
   "execution_count": 23,
   "metadata": {
    "ExecuteTime": {
     "end_time": "2019-05-07T04:10:57.839445Z",
     "start_time": "2019-05-07T04:10:46.748573Z"
    }
   },
   "outputs": [
    {
     "name": "stdout",
     "output_type": "stream",
     "text": [
      "0 번째 accuracy non_scale : 0.9764% StandardScale : 0.9575% MinMax : 0.8868% MaxAbs : 0.9717%\n",
      "1 번째 accuracy non_scale : 0.9905% StandardScale : 0.9693% MinMax : 0.8913% MaxAbs : 0.9882%\n",
      "2 번째 accuracy non_scale : 0.9764% StandardScale : 0.9645% MinMax : 0.8700% MaxAbs : 0.9716%\n",
      "3 번째 accuracy non_scale : 0.9834% StandardScale : 0.9597% MinMax : 0.8863% MaxAbs : 0.9810%\n",
      "4 번째 accuracy non_scale : 0.9763% StandardScale : 0.9787% MinMax : 0.8981% MaxAbs : 0.9739%\n",
      "\n",
      " mean accuracy non_scale : 0.9806% StandardScale : 0.9659% MinMax : 0.8865% MaxAbs : 0.9773%\n"
     ]
    }
   ],
   "source": [
    "model_pipeline_2(lr)"
   ]
  },
  {
   "cell_type": "code",
   "execution_count": 31,
   "metadata": {
    "ExecuteTime": {
     "end_time": "2019-04-30T01:30:35.792037Z",
     "start_time": "2019-04-30T01:30:35.770198Z"
    }
   },
   "outputs": [],
   "source": [
    "def model_pipeline(model) :\n",
    "    \n",
    "    \n",
    "    pipeline1 = Pipeline([('StandardScaler', standardsc), ('Logistic', model)])\n",
    "    pipeline2 = Pipeline([('MinMaxScaler', mms), ('Logistic', model)])\n",
    "    pipeline3 = Pipeline([('MaxAbsScaler', mas), ('Logistic', model)])\n",
    "\n",
    "    cv_acc = []\n",
    "    pip1_acc = []\n",
    "    pip2_acc = []\n",
    "    pip3_acc = []\n",
    "\n",
    "    for i, (tr_ind, te_ind) in enumerate(skf.split(X,y)) :\n",
    "\n",
    "        X_train, X_test = X.iloc[tr_ind], X.iloc[te_ind]\n",
    "        y_train, y_test = y[tr_ind], y[te_ind]\n",
    "\n",
    "        model.fit(X_train, y_train)\n",
    "        pipeline1.fit(X_train, y_train)\n",
    "        pipeline2.fit(X_train, y_train)\n",
    "        pipeline3.fit(X_train, y_train)\n",
    "\n",
    "        cv_acc.append(accuracy_score(y[te_ind], model.predict(X_test)))\n",
    "        pip1_acc.append(accuracy_score(y[te_ind], pipeline1.predict(X_test)))\n",
    "        pip2_acc.append(accuracy_score(y[te_ind], pipeline2.predict(X_test)))\n",
    "        pip3_acc.append(accuracy_score(y[te_ind], pipeline3.predict(X_test)))\n",
    "\n",
    "        print('{0} 번째 accuracy non_scale : {1:.4f}% StandardScale : {2:.4f}% MinMax : {3:.4f}% MaxAbs : {4:.4f}%'.format(i,cv_acc[i],pip1_acc[i],pip2_acc[i],pip3_acc[i]))\n",
    "\n",
    "    print('\\n mean accuracy non_scale : {0:.4f}% StandardScale : {1:.4f}% MinMax : {2:.4f}% MaxAbs : {3:.4f}%'.format(np.mean(cv_acc),np.mean(pip1_acc),np.mean(pip2_acc),np.mean(pip3_acc)))"
   ]
  },
  {
   "cell_type": "code",
   "execution_count": 24,
   "metadata": {
    "ExecuteTime": {
     "end_time": "2019-05-07T04:19:12.528682Z",
     "start_time": "2019-05-07T04:19:12.515530Z"
    }
   },
   "outputs": [],
   "source": [
    "#predict urine data using pipeline\n",
    "\n",
    "def pipeline_urine(model) :\n",
    "    \n",
    "    model.fit(X,y)\n",
    "    print('###non-scaled###')\n",
    "    get_eval(urine_y, model.predict(urine_X))\n",
    "\n",
    "    model.fit(X_standard,y)\n",
    "    print('###StandardScaler###')\n",
    "    get_eval(urine_y, model.predict(urine_X_standard))\n",
    "    \n",
    "    model.fit(X_mms,y)\n",
    "    print('###MinMaxScaler###')\n",
    "    get_eval(urine_y, model.predict(urine_X_mms))\n",
    "    \n",
    "    model.fit(X_mas,y)\n",
    "    print('###MaxAbsScaler###')\n",
    "    get_eval(urine_y, model.predict(urine_X_mas))"
   ]
  },
  {
   "cell_type": "code",
   "execution_count": 33,
   "metadata": {
    "ExecuteTime": {
     "end_time": "2019-04-30T01:30:58.952849Z",
     "start_time": "2019-04-30T01:30:48.160496Z"
    }
   },
   "outputs": [
    {
     "name": "stdout",
     "output_type": "stream",
     "text": [
      "0 번째 accuracy non_scale : 0.9788% StandardScale : 0.9764% MinMax : 0.8137% MaxAbs : 0.9741%\n",
      "1 번째 accuracy non_scale : 0.9905% StandardScale : 0.9882% MinMax : 0.8132% MaxAbs : 0.9905%\n",
      "2 번째 accuracy non_scale : 0.9787% StandardScale : 0.9787% MinMax : 0.8132% MaxAbs : 0.9716%\n",
      "3 번째 accuracy non_scale : 0.9858% StandardScale : 0.9858% MinMax : 0.8128% MaxAbs : 0.9834%\n",
      "4 번째 accuracy non_scale : 0.9763% StandardScale : 0.9787% MinMax : 0.8128% MaxAbs : 0.9739%\n",
      "\n",
      " mean accuracy non_scale : 0.9820% StandardScale : 0.9816% MinMax : 0.8131% MaxAbs : 0.9787%\n"
     ]
    }
   ],
   "source": [
    "model_pipeline(lr)"
   ]
  },
  {
   "cell_type": "code",
   "execution_count": 25,
   "metadata": {
    "ExecuteTime": {
     "end_time": "2019-05-07T04:19:34.561184Z",
     "start_time": "2019-05-07T04:19:32.067778Z"
    }
   },
   "outputs": [
    {
     "name": "stdout",
     "output_type": "stream",
     "text": [
      "###non-scaled###\n",
      "accuracy : 0.4937 precision : 0.9231 recall : 0.2353 F1 : 0.3750 AUC : 0.5998\n",
      "[[27  1]\n",
      " [39 12]]\n",
      "###StandardScaler###\n",
      "accuracy : 0.4937 precision : 0.7200 recall : 0.3529 F1 : 0.4737 AUC : 0.5515\n",
      "[[21  7]\n",
      " [33 18]]\n",
      "###MinMaxScaler###\n",
      "accuracy : 0.4430 precision : 1.0000 recall : 0.1373 F1 : 0.2414 AUC : 0.5686\n",
      "[[28  0]\n",
      " [44  7]]\n",
      "###MaxAbsScaler###\n",
      "accuracy : 0.5063 precision : 0.8750 recall : 0.2745 F1 : 0.4179 AUC : 0.6015\n",
      "[[26  2]\n",
      " [37 14]]\n"
     ]
    }
   ],
   "source": [
    "pipeline_urine(lr)"
   ]
  },
  {
   "cell_type": "code",
   "execution_count": 19,
   "metadata": {
    "ExecuteTime": {
     "end_time": "2019-04-30T08:31:44.103371Z",
     "start_time": "2019-04-30T08:31:43.637171Z"
    }
   },
   "outputs": [
    {
     "name": "stdout",
     "output_type": "stream",
     "text": [
      "threshold ;  0.3\n",
      "accuracy : 0.5063 precision : 0.8750 recall : 0.2745 F1 : 0.4179 AUC : 0.6015\n",
      "[[26  2]\n",
      " [37 14]]\n",
      "\n",
      "\n",
      "threshold ;  0.4\n",
      "accuracy : 0.5063 precision : 0.8750 recall : 0.2745 F1 : 0.4179 AUC : 0.6015\n",
      "[[26  2]\n",
      " [37 14]]\n",
      "\n",
      "\n",
      "threshold ;  0.5\n",
      "accuracy : 0.5063 precision : 0.8750 recall : 0.2745 F1 : 0.4179 AUC : 0.6015\n",
      "[[26  2]\n",
      " [37 14]]\n",
      "\n",
      "\n",
      "threshold ;  0.6\n",
      "accuracy : 0.4810 precision : 0.8571 recall : 0.2353 F1 : 0.3692 AUC : 0.5819\n",
      "[[26  2]\n",
      " [39 12]]\n",
      "\n",
      "\n",
      "threshold ;  0.7\n",
      "accuracy : 0.4810 precision : 0.8571 recall : 0.2353 F1 : 0.3692 AUC : 0.5819\n",
      "[[26  2]\n",
      " [39 12]]\n",
      "\n",
      "\n"
     ]
    }
   ],
   "source": [
    "lr.fit(X_mas,y)\n",
    "thresholds = [0.3,0.4,0.5,0.6,0.7]\n",
    "get_eval_by_threshold(urine_y, lr.predict_proba(urine_X_mas)[:,1].reshape(-1,1), thresholds)"
   ]
  },
  {
   "cell_type": "markdown",
   "metadata": {},
   "source": [
    "# randomforest"
   ]
  },
  {
   "cell_type": "code",
   "execution_count": 26,
   "metadata": {
    "ExecuteTime": {
     "end_time": "2019-05-07T04:22:54.487174Z",
     "start_time": "2019-05-07T04:22:54.178569Z"
    }
   },
   "outputs": [],
   "source": [
    "from sklearn.ensemble import RandomForestClassifier\n",
    "rf = RandomForestClassifier()"
   ]
  },
  {
   "cell_type": "code",
   "execution_count": 38,
   "metadata": {
    "ExecuteTime": {
     "end_time": "2019-05-07T04:29:28.455499Z",
     "start_time": "2019-05-07T04:29:28.448306Z"
    }
   },
   "outputs": [],
   "source": [
    "rf = RandomForestClassifier(random_state=0, n_estimators=20)"
   ]
  },
  {
   "cell_type": "code",
   "execution_count": 39,
   "metadata": {
    "ExecuteTime": {
     "end_time": "2019-05-07T04:29:41.874943Z",
     "start_time": "2019-05-07T04:29:29.026657Z"
    }
   },
   "outputs": [
    {
     "name": "stdout",
     "output_type": "stream",
     "text": [
      "0 번째 accuracy non_scale : 0.9835% StandardScale : 0.1981% MinMax : 0.1934% MaxAbs : 0.9811%\n",
      "1 번째 accuracy non_scale : 0.9905% StandardScale : 0.9787% MinMax : 0.1939% MaxAbs : 0.9905%\n",
      "2 번째 accuracy non_scale : 0.9835% StandardScale : 0.9669% MinMax : 0.1939% MaxAbs : 0.9787%\n",
      "3 번째 accuracy non_scale : 0.9858% StandardScale : 0.9787% MinMax : 0.1919% MaxAbs : 0.9834%\n",
      "4 번째 accuracy non_scale : 0.9787% StandardScale : 0.9313% MinMax : 0.1919% MaxAbs : 0.9834%\n",
      "\n",
      " mean accuracy non_scale : 0.9844% StandardScale : 0.8107% MinMax : 0.1930% MaxAbs : 0.9834%\n"
     ]
    }
   ],
   "source": [
    "model_pipeline_2(rf)"
   ]
  },
  {
   "cell_type": "code",
   "execution_count": 40,
   "metadata": {
    "ExecuteTime": {
     "end_time": "2019-05-07T04:29:45.184137Z",
     "start_time": "2019-05-07T04:29:41.877207Z"
    },
    "scrolled": true
   },
   "outputs": [
    {
     "name": "stdout",
     "output_type": "stream",
     "text": [
      "###non-scaled###\n",
      "accuracy : 0.6709 precision : 0.6712 recall : 0.9608 F1 : 0.7903 AUC : 0.5518\n",
      "[[ 4 24]\n",
      " [ 2 49]]\n",
      "###StandardScaler###\n",
      "accuracy : 0.6709 precision : 0.6712 recall : 0.9608 F1 : 0.7903 AUC : 0.5518\n",
      "[[ 4 24]\n",
      " [ 2 49]]\n",
      "###MinMaxScaler###\n",
      "accuracy : 0.6709 precision : 0.6712 recall : 0.9608 F1 : 0.7903 AUC : 0.5518\n",
      "[[ 4 24]\n",
      " [ 2 49]]\n",
      "###MaxAbsScaler###\n",
      "accuracy : 0.6709 precision : 0.6712 recall : 0.9608 F1 : 0.7903 AUC : 0.5518\n",
      "[[ 4 24]\n",
      " [ 2 49]]\n"
     ]
    }
   ],
   "source": [
    "pipeline_urine(rf)"
   ]
  },
  {
   "cell_type": "code",
   "execution_count": 41,
   "metadata": {
    "ExecuteTime": {
     "end_time": "2019-05-07T04:30:00.326230Z",
     "start_time": "2019-05-07T04:29:59.421543Z"
    }
   },
   "outputs": [
    {
     "name": "stdout",
     "output_type": "stream",
     "text": [
      "threshold ;  0.45\n",
      "accuracy : 0.6709 precision : 0.6667 recall : 0.9804 F1 : 0.7937 AUC : 0.5438\n",
      "[[ 3 25]\n",
      " [ 1 50]]\n",
      "\n",
      "\n",
      "threshold ;  0.5\n",
      "accuracy : 0.6709 precision : 0.6712 recall : 0.9608 F1 : 0.7903 AUC : 0.5518\n",
      "[[ 4 24]\n",
      " [ 2 49]]\n",
      "\n",
      "\n",
      "threshold ;  0.53\n",
      "accuracy : 0.6709 precision : 0.6712 recall : 0.9608 F1 : 0.7903 AUC : 0.5518\n",
      "[[ 4 24]\n",
      " [ 2 49]]\n",
      "\n",
      "\n",
      "threshold ;  0.55\n",
      "accuracy : 0.6835 precision : 0.6970 recall : 0.9020 F1 : 0.7863 AUC : 0.5938\n",
      "[[ 8 20]\n",
      " [ 5 46]]\n",
      "\n",
      "\n",
      "threshold ;  0.58\n",
      "accuracy : 0.6835 precision : 0.6970 recall : 0.9020 F1 : 0.7863 AUC : 0.5938\n",
      "[[ 8 20]\n",
      " [ 5 46]]\n",
      "\n",
      "\n",
      "threshold ;  0.6\n",
      "accuracy : 0.6582 precision : 0.6935 recall : 0.8431 F1 : 0.7611 AUC : 0.5823\n",
      "[[ 9 19]\n",
      " [ 8 43]]\n",
      "\n",
      "\n",
      "threshold ;  0.65\n",
      "accuracy : 0.5443 precision : 0.6471 recall : 0.6471 F1 : 0.6471 AUC : 0.5021\n",
      "[[10 18]\n",
      " [18 33]]\n",
      "\n",
      "\n"
     ]
    }
   ],
   "source": [
    "rf.fit(X,y)\n",
    "thresholds = [0.45,0.5,0.53,0.55, 0.58,0.6, 0.65]\n",
    "get_eval_by_threshold(urine_y, rf.predict_proba(urine_X)[:,1].reshape(-1,1), thresholds)"
   ]
  },
  {
   "cell_type": "markdown",
   "metadata": {},
   "source": [
    "# SVM"
   ]
  },
  {
   "cell_type": "code",
   "execution_count": 42,
   "metadata": {
    "ExecuteTime": {
     "end_time": "2019-05-07T04:33:50.221571Z",
     "start_time": "2019-05-07T04:33:50.216080Z"
    }
   },
   "outputs": [],
   "source": [
    "from sklearn.svm import SVC\n",
    "svm = SVC(probability=True)"
   ]
  },
  {
   "cell_type": "code",
   "execution_count": 43,
   "metadata": {
    "ExecuteTime": {
     "end_time": "2019-05-07T04:36:37.759558Z",
     "start_time": "2019-05-07T04:33:51.444588Z"
    }
   },
   "outputs": [
    {
     "name": "stdout",
     "output_type": "stream",
     "text": [
      "0 번째 accuracy non_scale : 0.9623% StandardScale : 0.1934% MinMax : 0.8066% MaxAbs : 0.9505%\n",
      "1 번째 accuracy non_scale : 0.9740% StandardScale : 0.1939% MinMax : 0.8085% MaxAbs : 0.9574%\n",
      "2 번째 accuracy non_scale : 0.9527% StandardScale : 0.1939% MinMax : 0.8109% MaxAbs : 0.9385%\n",
      "3 번째 accuracy non_scale : 0.9645% StandardScale : 0.1919% MinMax : 0.8128% MaxAbs : 0.9526%\n",
      "4 번째 accuracy non_scale : 0.9692% StandardScale : 0.1919% MinMax : 0.8081% MaxAbs : 0.9550%\n",
      "\n",
      " mean accuracy non_scale : 0.9645% StandardScale : 0.1930% MinMax : 0.8094% MaxAbs : 0.9508%\n"
     ]
    }
   ],
   "source": [
    "model_pipeline_2(svm)"
   ]
  },
  {
   "cell_type": "code",
   "execution_count": 44,
   "metadata": {
    "ExecuteTime": {
     "end_time": "2019-05-07T04:37:33.780024Z",
     "start_time": "2019-05-07T04:36:46.571421Z"
    }
   },
   "outputs": [
    {
     "name": "stdout",
     "output_type": "stream",
     "text": [
      "###non-scaled###\n",
      "accuracy : 0.6203 precision : 0.8182 recall : 0.5294 F1 : 0.6429 AUC : 0.6576\n",
      "[[22  6]\n",
      " [24 27]]\n",
      "###StandardScaler###\n",
      "accuracy : 0.7468 precision : 0.7627 recall : 0.8824 F1 : 0.8182 AUC : 0.6912\n",
      "[[14 14]\n",
      " [ 6 45]]\n",
      "###MinMaxScaler###\n",
      "accuracy : 0.5570 precision : 0.8077 recall : 0.4118 F1 : 0.5455 AUC : 0.6166\n",
      "[[23  5]\n",
      " [30 21]]\n",
      "###MaxAbsScaler###\n",
      "accuracy : 0.6203 precision : 0.8182 recall : 0.5294 F1 : 0.6429 AUC : 0.6576\n",
      "[[22  6]\n",
      " [24 27]]\n"
     ]
    }
   ],
   "source": [
    "pipeline_urine(svm)"
   ]
  },
  {
   "cell_type": "code",
   "execution_count": 45,
   "metadata": {
    "ExecuteTime": {
     "end_time": "2019-05-07T04:39:05.282212Z",
     "start_time": "2019-05-07T04:38:53.973597Z"
    }
   },
   "outputs": [
    {
     "name": "stdout",
     "output_type": "stream",
     "text": [
      "threshold ;  0.4\n",
      "accuracy : 0.6709 precision : 0.8049 recall : 0.6471 F1 : 0.7174 AUC : 0.6807\n",
      "[[20  8]\n",
      " [18 33]]\n",
      "\n",
      "\n",
      "threshold ;  0.45\n",
      "accuracy : 0.6709 precision : 0.8049 recall : 0.6471 F1 : 0.7174 AUC : 0.6807\n",
      "[[20  8]\n",
      " [18 33]]\n",
      "\n",
      "\n",
      "threshold ;  0.5\n",
      "accuracy : 0.6709 precision : 0.8049 recall : 0.6471 F1 : 0.7174 AUC : 0.6807\n",
      "[[20  8]\n",
      " [18 33]]\n",
      "\n",
      "\n",
      "threshold ;  0.55\n",
      "accuracy : 0.6582 precision : 0.8000 recall : 0.6275 F1 : 0.7033 AUC : 0.6709\n",
      "[[20  8]\n",
      " [19 32]]\n",
      "\n",
      "\n",
      "threshold ;  0.6\n",
      "accuracy : 0.6582 precision : 0.8000 recall : 0.6275 F1 : 0.7033 AUC : 0.6709\n",
      "[[20  8]\n",
      " [19 32]]\n",
      "\n",
      "\n",
      "threshold ;  0.63\n",
      "accuracy : 0.6456 precision : 0.7949 recall : 0.6078 F1 : 0.6889 AUC : 0.6611\n",
      "[[20  8]\n",
      " [20 31]]\n",
      "\n",
      "\n",
      "threshold ;  0.65\n",
      "accuracy : 0.6456 precision : 0.7949 recall : 0.6078 F1 : 0.6889 AUC : 0.6611\n",
      "[[20  8]\n",
      " [20 31]]\n",
      "\n",
      "\n",
      "threshold ;  0.7\n",
      "accuracy : 0.6456 precision : 0.7949 recall : 0.6078 F1 : 0.6889 AUC : 0.6611\n",
      "[[20  8]\n",
      " [20 31]]\n",
      "\n",
      "\n"
     ]
    }
   ],
   "source": [
    "svm.fit(X,y)\n",
    "thresholds = [0.4,0.45,0.5,0.55,0.6,0.63,0.65,0.7]\n",
    "get_eval_by_threshold(urine_y, svm.predict_proba(urine_X)[:,1].reshape(-1,1), thresholds)"
   ]
  },
  {
   "cell_type": "markdown",
   "metadata": {},
   "source": [
    "# adaboost"
   ]
  },
  {
   "cell_type": "code",
   "execution_count": 46,
   "metadata": {
    "ExecuteTime": {
     "end_time": "2019-05-07T04:39:13.648966Z",
     "start_time": "2019-05-07T04:39:13.641593Z"
    }
   },
   "outputs": [],
   "source": [
    "from sklearn.ensemble import AdaBoostClassifier\n",
    "ada = AdaBoostClassifier()"
   ]
  },
  {
   "cell_type": "code",
   "execution_count": 47,
   "metadata": {
    "ExecuteTime": {
     "end_time": "2019-05-07T04:42:17.460685Z",
     "start_time": "2019-05-07T04:39:14.405191Z"
    }
   },
   "outputs": [
    {
     "name": "stdout",
     "output_type": "stream",
     "text": [
      "0 번째 accuracy non_scale : 0.9858% StandardScale : 0.7736% MinMax : 0.1934% MaxAbs : 0.9670%\n",
      "1 번째 accuracy non_scale : 0.9882% StandardScale : 0.9835% MinMax : 0.1939% MaxAbs : 0.9882%\n",
      "2 번째 accuracy non_scale : 0.9716% StandardScale : 0.9716% MinMax : 0.1939% MaxAbs : 0.9740%\n",
      "3 번째 accuracy non_scale : 0.9787% StandardScale : 0.1943% MinMax : 0.1919% MaxAbs : 0.9763%\n",
      "4 번째 accuracy non_scale : 0.9834% StandardScale : 0.9692% MinMax : 0.1919% MaxAbs : 0.9858%\n",
      "\n",
      " mean accuracy non_scale : 0.9815% StandardScale : 0.7784% MinMax : 0.1930% MaxAbs : 0.9782%\n"
     ]
    }
   ],
   "source": [
    "model_pipeline_2(ada)"
   ]
  },
  {
   "cell_type": "code",
   "execution_count": 50,
   "metadata": {
    "ExecuteTime": {
     "end_time": "2019-05-07T04:44:24.070167Z",
     "start_time": "2019-05-07T04:44:12.559406Z"
    }
   },
   "outputs": [
    {
     "name": "stdout",
     "output_type": "stream",
     "text": [
      "threshold ;  0.3\n",
      "accuracy : 0.6456 precision : 0.6456 recall : 1.0000 F1 : 0.7846 AUC : 0.5000\n",
      "[[ 0 28]\n",
      " [ 0 51]]\n",
      "\n",
      "\n",
      "threshold ;  0.4\n",
      "accuracy : 0.6329 precision : 0.6410 recall : 0.9804 F1 : 0.7752 AUC : 0.4902\n",
      "[[ 0 28]\n",
      " [ 1 50]]\n",
      "\n",
      "\n",
      "threshold ;  0.45\n",
      "accuracy : 0.6709 precision : 0.6812 recall : 0.9216 F1 : 0.7833 AUC : 0.5679\n",
      "[[ 6 22]\n",
      " [ 4 47]]\n",
      "\n",
      "\n",
      "threshold ;  0.47\n",
      "accuracy : 0.6962 precision : 0.7288 recall : 0.8431 F1 : 0.7818 AUC : 0.6359\n",
      "[[12 16]\n",
      " [ 8 43]]\n",
      "\n",
      "\n",
      "threshold ;  0.5\n",
      "accuracy : 0.6962 precision : 0.8293 recall : 0.6667 F1 : 0.7391 AUC : 0.7083\n",
      "[[21  7]\n",
      " [17 34]]\n",
      "\n",
      "\n",
      "threshold ;  0.55\n",
      "accuracy : 0.5190 precision : 0.9333 recall : 0.2745 F1 : 0.4242 AUC : 0.6194\n",
      "[[27  1]\n",
      " [37 14]]\n",
      "\n",
      "\n",
      "threshold ;  0.6\n",
      "accuracy : 0.4304 precision : 0.8750 recall : 0.1373 F1 : 0.2373 AUC : 0.5508\n",
      "[[27  1]\n",
      " [44  7]]\n",
      "\n",
      "\n"
     ]
    }
   ],
   "source": [
    "ada.fit(X_mas,y)\n",
    "thresholds = [0.3,0.4,0.45,0.47,0.5,0.55,0.6]\n",
    "get_eval_by_threshold(urine_y, ada.predict_proba(urine_X_mas)[:,1].reshape(-1,1), thresholds)"
   ]
  },
  {
   "cell_type": "markdown",
   "metadata": {},
   "source": [
    "# GBM"
   ]
  },
  {
   "cell_type": "code",
   "execution_count": 51,
   "metadata": {
    "ExecuteTime": {
     "end_time": "2019-05-07T04:48:21.334284Z",
     "start_time": "2019-05-07T04:48:21.327866Z"
    }
   },
   "outputs": [],
   "source": [
    "from sklearn.ensemble import GradientBoostingClassifier\n",
    "gb = GradientBoostingClassifier()"
   ]
  },
  {
   "cell_type": "code",
   "execution_count": 52,
   "metadata": {
    "ExecuteTime": {
     "end_time": "2019-05-07T04:52:00.134534Z",
     "start_time": "2019-05-07T04:48:22.365816Z"
    }
   },
   "outputs": [
    {
     "name": "stdout",
     "output_type": "stream",
     "text": [
      "0 번째 accuracy non_scale : 0.9858% StandardScale : 0.9764% MinMax : 0.1934% MaxAbs : 0.9764%\n",
      "1 번째 accuracy non_scale : 0.9882% StandardScale : 0.9504% MinMax : 0.1939% MaxAbs : 0.9882%\n",
      "2 번째 accuracy non_scale : 0.9764% StandardScale : 0.9764% MinMax : 0.1939% MaxAbs : 0.9740%\n",
      "3 번째 accuracy non_scale : 0.9858% StandardScale : 0.9834% MinMax : 0.1919% MaxAbs : 0.9810%\n",
      "4 번째 accuracy non_scale : 0.9834% StandardScale : 0.9858% MinMax : 0.1919% MaxAbs : 0.9858%\n",
      "\n",
      " mean accuracy non_scale : 0.9839% StandardScale : 0.9745% MinMax : 0.1930% MaxAbs : 0.9811%\n"
     ]
    }
   ],
   "source": [
    "model_pipeline_2(gb)"
   ]
  },
  {
   "cell_type": "code",
   "execution_count": 53,
   "metadata": {
    "ExecuteTime": {
     "end_time": "2019-05-07T04:52:53.096291Z",
     "start_time": "2019-05-07T04:52:00.138268Z"
    }
   },
   "outputs": [
    {
     "name": "stdout",
     "output_type": "stream",
     "text": [
      "###non-scaled###\n",
      "accuracy : 0.6709 precision : 0.6812 recall : 0.9216 F1 : 0.7833 AUC : 0.5679\n",
      "[[ 6 22]\n",
      " [ 4 47]]\n",
      "###StandardScaler###\n",
      "accuracy : 0.6582 precision : 0.6765 recall : 0.9020 F1 : 0.7731 AUC : 0.5581\n",
      "[[ 6 22]\n",
      " [ 5 46]]\n",
      "###MinMaxScaler###\n",
      "accuracy : 0.6456 precision : 0.6667 recall : 0.9020 F1 : 0.7667 AUC : 0.5403\n",
      "[[ 5 23]\n",
      " [ 5 46]]\n",
      "###MaxAbsScaler###\n",
      "accuracy : 0.6709 precision : 0.6812 recall : 0.9216 F1 : 0.7833 AUC : 0.5679\n",
      "[[ 6 22]\n",
      " [ 4 47]]\n"
     ]
    }
   ],
   "source": [
    "pipeline_urine(gb)"
   ]
  },
  {
   "cell_type": "code",
   "execution_count": 54,
   "metadata": {
    "ExecuteTime": {
     "end_time": "2019-05-07T05:09:09.392998Z",
     "start_time": "2019-05-07T04:54:06.504842Z"
    }
   },
   "outputs": [
    {
     "name": "stdout",
     "output_type": "stream",
     "text": [
      "0 번째 accuracy non_scale : 0.9835% StandardScale : 0.9741% MinMax : 0.1934% MaxAbs : 0.9811%\n",
      "1 번째 accuracy non_scale : 0.9882% StandardScale : 0.9882% MinMax : 0.1939% MaxAbs : 0.9858%\n",
      "2 번째 accuracy non_scale : 0.9740% StandardScale : 0.9740% MinMax : 0.1939% MaxAbs : 0.9716%\n",
      "3 번째 accuracy non_scale : 0.9882% StandardScale : 0.9858% MinMax : 0.1919% MaxAbs : 0.9834%\n",
      "4 번째 accuracy non_scale : 0.9858% StandardScale : 0.9834% MinMax : 0.1919% MaxAbs : 0.9834%\n",
      "\n",
      " mean accuracy non_scale : 0.9839% StandardScale : 0.9811% MinMax : 0.1930% MaxAbs : 0.9811%\n"
     ]
    }
   ],
   "source": [
    "gb2 = GradientBoostingClassifier(n_estimators=500,learning_rate=0.01)\n",
    "model_pipeline_2(gb2)"
   ]
  },
  {
   "cell_type": "code",
   "execution_count": 55,
   "metadata": {
    "ExecuteTime": {
     "end_time": "2019-05-07T05:11:15.126831Z",
     "start_time": "2019-05-07T05:09:09.395988Z"
    }
   },
   "outputs": [
    {
     "name": "stdout",
     "output_type": "stream",
     "text": [
      "###non-scaled###\n",
      "accuracy : 0.6582 precision : 0.6765 recall : 0.9020 F1 : 0.7731 AUC : 0.5581\n",
      "[[ 6 22]\n",
      " [ 5 46]]\n",
      "###StandardScaler###\n",
      "accuracy : 0.6709 precision : 0.6866 recall : 0.9020 F1 : 0.7797 AUC : 0.5760\n",
      "[[ 7 21]\n",
      " [ 5 46]]\n",
      "###MinMaxScaler###\n",
      "accuracy : 0.6582 precision : 0.6765 recall : 0.9020 F1 : 0.7731 AUC : 0.5581\n",
      "[[ 6 22]\n",
      " [ 5 46]]\n",
      "###MaxAbsScaler###\n",
      "accuracy : 0.6709 precision : 0.6866 recall : 0.9020 F1 : 0.7797 AUC : 0.5760\n",
      "[[ 7 21]\n",
      " [ 5 46]]\n"
     ]
    }
   ],
   "source": [
    "pipeline_urine(gb2)"
   ]
  },
  {
   "cell_type": "code",
   "execution_count": 60,
   "metadata": {
    "ExecuteTime": {
     "end_time": "2019-05-07T05:25:17.242150Z",
     "start_time": "2019-05-07T05:25:10.695445Z"
    }
   },
   "outputs": [
    {
     "name": "stdout",
     "output_type": "stream",
     "text": [
      "threshold ;  0.35\n",
      "accuracy : 0.6582 precision : 0.6667 recall : 0.9412 F1 : 0.7805 AUC : 0.5420\n",
      "[[ 4 24]\n",
      " [ 3 48]]\n",
      "\n",
      "\n",
      "threshold ;  0.4\n",
      "accuracy : 0.6582 precision : 0.6714 recall : 0.9216 F1 : 0.7769 AUC : 0.5501\n",
      "[[ 5 23]\n",
      " [ 4 47]]\n",
      "\n",
      "\n",
      "threshold ;  0.45\n",
      "accuracy : 0.6709 precision : 0.6812 recall : 0.9216 F1 : 0.7833 AUC : 0.5679\n",
      "[[ 6 22]\n",
      " [ 4 47]]\n",
      "\n",
      "\n",
      "threshold ;  0.5\n",
      "accuracy : 0.6709 precision : 0.6812 recall : 0.9216 F1 : 0.7833 AUC : 0.5679\n",
      "[[ 6 22]\n",
      " [ 4 47]]\n",
      "\n",
      "\n",
      "threshold ;  0.55\n",
      "accuracy : 0.6582 precision : 0.6765 recall : 0.9020 F1 : 0.7731 AUC : 0.5581\n",
      "[[ 6 22]\n",
      " [ 5 46]]\n",
      "\n",
      "\n",
      "threshold ;  0.6\n",
      "accuracy : 0.6582 precision : 0.6765 recall : 0.9020 F1 : 0.7731 AUC : 0.5581\n",
      "[[ 6 22]\n",
      " [ 5 46]]\n",
      "\n",
      "\n"
     ]
    }
   ],
   "source": [
    "gb.fit(X_mas,y)\n",
    "thresholds = [0.35,0.4,0.45,0.5,0.55,0.6]\n",
    "get_eval_by_threshold(urine_y, gb.predict_proba(urine_X_mas)[:,1].reshape(-1,1), thresholds)"
   ]
  },
  {
   "cell_type": "markdown",
   "metadata": {},
   "source": [
    "# decision tree"
   ]
  },
  {
   "cell_type": "code",
   "execution_count": 54,
   "metadata": {
    "ExecuteTime": {
     "end_time": "2019-04-30T09:07:07.562476Z",
     "start_time": "2019-04-30T09:07:07.556684Z"
    }
   },
   "outputs": [],
   "source": [
    "from sklearn.tree import DecisionTreeClassifier\n",
    "tree = DecisionTreeClassifier()"
   ]
  },
  {
   "cell_type": "code",
   "execution_count": 55,
   "metadata": {
    "ExecuteTime": {
     "end_time": "2019-04-30T09:07:52.694183Z",
     "start_time": "2019-04-30T09:07:19.076440Z"
    }
   },
   "outputs": [
    {
     "name": "stdout",
     "output_type": "stream",
     "text": [
      "0 번째 accuracy non_scale : 0.9646% StandardScale : 0.1675% MinMax : 0.1934% MaxAbs : 0.9599%\n",
      "1 번째 accuracy non_scale : 0.9622% StandardScale : 0.8038% MinMax : 0.1939% MaxAbs : 0.9527%\n",
      "2 번째 accuracy non_scale : 0.9716% StandardScale : 0.1797% MinMax : 0.1939% MaxAbs : 0.9622%\n",
      "3 번째 accuracy non_scale : 0.9739% StandardScale : 0.1659% MinMax : 0.1919% MaxAbs : 0.9716%\n",
      "4 번째 accuracy non_scale : 0.9716% StandardScale : 0.9692% MinMax : 0.1919% MaxAbs : 0.9645%\n",
      "\n",
      " mean accuracy non_scale : 0.9688% StandardScale : 0.4572% MinMax : 0.1930% MaxAbs : 0.9622%\n"
     ]
    }
   ],
   "source": [
    "model_pipeline_2(tree)"
   ]
  },
  {
   "cell_type": "code",
   "execution_count": 56,
   "metadata": {
    "ExecuteTime": {
     "end_time": "2019-04-30T09:08:16.781388Z",
     "start_time": "2019-04-30T09:08:07.721363Z"
    }
   },
   "outputs": [
    {
     "name": "stdout",
     "output_type": "stream",
     "text": [
      "###non-scaled###\n",
      "accuracy : 0.5696 precision : 0.6349 recall : 0.7843 F1 : 0.7018 AUC : 0.4814\n",
      "[[ 5 23]\n",
      " [11 40]]\n",
      "###StandardScaler###\n",
      "accuracy : 0.6076 precision : 0.6613 recall : 0.8039 F1 : 0.7257 AUC : 0.5270\n",
      "[[ 7 21]\n",
      " [10 41]]\n",
      "###MinMaxScaler###\n",
      "accuracy : 0.6456 precision : 0.6716 recall : 0.8824 F1 : 0.7627 AUC : 0.5483\n",
      "[[ 6 22]\n",
      " [ 6 45]]\n",
      "###MaxAbsScaler###\n",
      "accuracy : 0.6582 precision : 0.6714 recall : 0.9216 F1 : 0.7769 AUC : 0.5501\n",
      "[[ 5 23]\n",
      " [ 4 47]]\n"
     ]
    }
   ],
   "source": [
    "pipeline_urine(tree)"
   ]
  },
  {
   "cell_type": "code",
   "execution_count": 114,
   "metadata": {
    "ExecuteTime": {
     "end_time": "2019-04-30T12:22:58.155454Z",
     "start_time": "2019-04-30T12:22:57.063175Z"
    }
   },
   "outputs": [
    {
     "name": "stdout",
     "output_type": "stream",
     "text": [
      "threshold ;  0.3\n",
      "accuracy : 0.6582 precision : 0.6622 recall : 0.9608 F1 : 0.7840 AUC : 0.5340\n",
      "[[ 3 25]\n",
      " [ 2 49]]\n",
      "\n",
      "\n",
      "threshold ;  0.4\n",
      "accuracy : 0.6709 precision : 0.6761 recall : 0.9412 F1 : 0.7869 AUC : 0.5599\n",
      "[[ 5 23]\n",
      " [ 3 48]]\n",
      "\n",
      "\n",
      "threshold ;  0.5\n",
      "accuracy : 0.6582 precision : 0.6765 recall : 0.9020 F1 : 0.7731 AUC : 0.5581\n",
      "[[ 6 22]\n",
      " [ 5 46]]\n",
      "\n",
      "\n",
      "threshold ;  0.6\n",
      "accuracy : 0.6709 precision : 0.6866 recall : 0.9020 F1 : 0.7797 AUC : 0.5760\n",
      "[[ 7 21]\n",
      " [ 5 46]]\n",
      "\n",
      "\n",
      "threshold ;  0.7\n",
      "accuracy : 0.6709 precision : 0.6923 recall : 0.8824 F1 : 0.7759 AUC : 0.5840\n",
      "[[ 8 20]\n",
      " [ 6 45]]\n",
      "\n",
      "\n"
     ]
    }
   ],
   "source": [
    "tree.fit(X_mas,y)\n",
    "thresholds = [0.3,0.4,0.5,0.6,0.7]\n",
    "get_eval_by_threshold(urine_y, gb.predict_proba(urine_X_mas)[:,1].reshape(-1,1), thresholds)"
   ]
  },
  {
   "cell_type": "markdown",
   "metadata": {},
   "source": [
    "# XGBoost"
   ]
  },
  {
   "cell_type": "code",
   "execution_count": 57,
   "metadata": {
    "ExecuteTime": {
     "end_time": "2019-04-30T09:27:36.364384Z",
     "start_time": "2019-04-30T09:27:36.303348Z"
    }
   },
   "outputs": [],
   "source": []
  },
  {
   "cell_type": "code",
   "execution_count": null,
   "metadata": {},
   "outputs": [],
   "source": []
  },
  {
   "cell_type": "markdown",
   "metadata": {},
   "source": [
    "# LightGBM"
   ]
  },
  {
   "cell_type": "code",
   "execution_count": 61,
   "metadata": {
    "ExecuteTime": {
     "end_time": "2019-05-07T05:33:23.078310Z",
     "start_time": "2019-05-07T05:33:22.958633Z"
    }
   },
   "outputs": [],
   "source": [
    "from lightgbm import LGBMClassifier\n",
    "lgb = LGBMClassifier()"
   ]
  },
  {
   "cell_type": "code",
   "execution_count": 62,
   "metadata": {
    "ExecuteTime": {
     "end_time": "2019-05-07T05:35:50.954005Z",
     "start_time": "2019-05-07T05:33:25.328648Z"
    }
   },
   "outputs": [
    {
     "name": "stdout",
     "output_type": "stream",
     "text": [
      "0 번째 accuracy non_scale : 0.9835% StandardScale : 0.9788% MinMax : 0.1934% MaxAbs : 0.9788%\n",
      "1 번째 accuracy non_scale : 0.9882% StandardScale : 0.9882% MinMax : 0.1939% MaxAbs : 0.9882%\n",
      "2 번째 accuracy non_scale : 0.9787% StandardScale : 0.9716% MinMax : 0.1939% MaxAbs : 0.9764%\n",
      "3 번째 accuracy non_scale : 0.9882% StandardScale : 0.9834% MinMax : 0.1919% MaxAbs : 0.9858%\n",
      "4 번째 accuracy non_scale : 0.9858% StandardScale : 0.9858% MinMax : 0.1919% MaxAbs : 0.9834%\n",
      "\n",
      " mean accuracy non_scale : 0.9849% StandardScale : 0.9816% MinMax : 0.1930% MaxAbs : 0.9825%\n"
     ]
    }
   ],
   "source": [
    "model_pipeline_2(lgb)"
   ]
  },
  {
   "cell_type": "code",
   "execution_count": 63,
   "metadata": {
    "ExecuteTime": {
     "end_time": "2019-05-07T05:36:22.588515Z",
     "start_time": "2019-05-07T05:35:53.675648Z"
    }
   },
   "outputs": [
    {
     "name": "stdout",
     "output_type": "stream",
     "text": [
      "###non-scaled###\n",
      "accuracy : 0.6709 precision : 0.6667 recall : 0.9804 F1 : 0.7937 AUC : 0.5438\n",
      "[[ 3 25]\n",
      " [ 1 50]]\n",
      "###StandardScaler###\n",
      "accuracy : 0.6962 precision : 0.6800 recall : 1.0000 F1 : 0.8095 AUC : 0.5714\n",
      "[[ 4 24]\n",
      " [ 0 51]]\n",
      "###MinMaxScaler###\n",
      "accuracy : 0.6582 precision : 0.6622 recall : 0.9608 F1 : 0.7840 AUC : 0.5340\n",
      "[[ 3 25]\n",
      " [ 2 49]]\n",
      "###MaxAbsScaler###\n",
      "accuracy : 0.6709 precision : 0.6667 recall : 0.9804 F1 : 0.7937 AUC : 0.5438\n",
      "[[ 3 25]\n",
      " [ 1 50]]\n"
     ]
    }
   ],
   "source": [
    "pipeline_urine(lgb)"
   ]
  },
  {
   "cell_type": "markdown",
   "metadata": {},
   "source": [
    "## parameter grid-search"
   ]
  },
  {
   "cell_type": "code",
   "execution_count": 65,
   "metadata": {
    "ExecuteTime": {
     "end_time": "2019-05-07T05:37:53.476768Z",
     "start_time": "2019-05-07T05:37:53.473780Z"
    }
   },
   "outputs": [],
   "source": [
    "from sklearn.model_selection import GridSearchCV"
   ]
  },
  {
   "cell_type": "markdown",
   "metadata": {},
   "source": [
    "## non-scale"
   ]
  },
  {
   "cell_type": "code",
   "execution_count": 84,
   "metadata": {
    "ExecuteTime": {
     "end_time": "2019-04-30T11:13:48.030966Z",
     "start_time": "2019-04-30T11:07:16.824719Z"
    }
   },
   "outputs": [
    {
     "name": "stdout",
     "output_type": "stream",
     "text": [
      "Training until validation scores don't improve for 30 rounds.\n",
      "[50]\tvalid_0's binary_logloss: 0.028733\tvalid_1's binary_logloss: 0.812329\n",
      "Early stopping, best iteration is:\n",
      "[23]\tvalid_0's binary_logloss: 0.0609068\tvalid_1's binary_logloss: 0.627913\n",
      "Training until validation scores don't improve for 30 rounds.\n",
      "Early stopping, best iteration is:\n",
      "[14]\tvalid_0's binary_logloss: 0.111846\tvalid_1's binary_logloss: 0.62775\n",
      "Training until validation scores don't improve for 30 rounds.\n",
      "[50]\tvalid_0's binary_logloss: 0.0249513\tvalid_1's binary_logloss: 0.570383\n",
      "Early stopping, best iteration is:\n",
      "[58]\tvalid_0's binary_logloss: 0.0233345\tvalid_1's binary_logloss: 0.567097\n",
      "Training until validation scores don't improve for 30 rounds.\n",
      "[50]\tvalid_0's binary_logloss: 0.028733\tvalid_1's binary_logloss: 0.812329\n",
      "Early stopping, best iteration is:\n",
      "[23]\tvalid_0's binary_logloss: 0.0609068\tvalid_1's binary_logloss: 0.627913\n",
      "Training until validation scores don't improve for 30 rounds.\n",
      "Early stopping, best iteration is:\n",
      "[14]\tvalid_0's binary_logloss: 0.111846\tvalid_1's binary_logloss: 0.62775\n",
      "Training until validation scores don't improve for 30 rounds.\n",
      "[50]\tvalid_0's binary_logloss: 0.0249513\tvalid_1's binary_logloss: 0.570383\n",
      "Early stopping, best iteration is:\n",
      "[58]\tvalid_0's binary_logloss: 0.0233345\tvalid_1's binary_logloss: 0.567097\n",
      "Training until validation scores don't improve for 30 rounds.\n",
      "[50]\tvalid_0's binary_logloss: 0.028733\tvalid_1's binary_logloss: 0.812329\n",
      "Early stopping, best iteration is:\n",
      "[23]\tvalid_0's binary_logloss: 0.0609068\tvalid_1's binary_logloss: 0.627913\n",
      "Training until validation scores don't improve for 30 rounds.\n",
      "Early stopping, best iteration is:\n",
      "[14]\tvalid_0's binary_logloss: 0.111846\tvalid_1's binary_logloss: 0.62775\n",
      "Training until validation scores don't improve for 30 rounds.\n",
      "[50]\tvalid_0's binary_logloss: 0.0249513\tvalid_1's binary_logloss: 0.570383\n",
      "Early stopping, best iteration is:\n",
      "[58]\tvalid_0's binary_logloss: 0.0233345\tvalid_1's binary_logloss: 0.567097\n",
      "Training until validation scores don't improve for 30 rounds.\n",
      "[50]\tvalid_0's binary_logloss: 0.0310244\tvalid_1's binary_logloss: 0.838887\n",
      "Early stopping, best iteration is:\n",
      "[22]\tvalid_0's binary_logloss: 0.0659651\tvalid_1's binary_logloss: 0.61535\n",
      "Training until validation scores don't improve for 30 rounds.\n",
      "Early stopping, best iteration is:\n",
      "[15]\tvalid_0's binary_logloss: 0.104421\tvalid_1's binary_logloss: 0.634332\n",
      "Training until validation scores don't improve for 30 rounds.\n",
      "[50]\tvalid_0's binary_logloss: 0.0298726\tvalid_1's binary_logloss: 0.65492\n",
      "Early stopping, best iteration is:\n",
      "[40]\tvalid_0's binary_logloss: 0.0357543\tvalid_1's binary_logloss: 0.635671\n",
      "Training until validation scores don't improve for 30 rounds.\n",
      "[50]\tvalid_0's binary_logloss: 0.0310244\tvalid_1's binary_logloss: 0.838887\n",
      "Early stopping, best iteration is:\n",
      "[22]\tvalid_0's binary_logloss: 0.0659651\tvalid_1's binary_logloss: 0.61535\n",
      "Training until validation scores don't improve for 30 rounds.\n",
      "Early stopping, best iteration is:\n",
      "[15]\tvalid_0's binary_logloss: 0.104421\tvalid_1's binary_logloss: 0.634332\n",
      "Training until validation scores don't improve for 30 rounds.\n",
      "[50]\tvalid_0's binary_logloss: 0.0298726\tvalid_1's binary_logloss: 0.65492\n",
      "Early stopping, best iteration is:\n",
      "[40]\tvalid_0's binary_logloss: 0.0357543\tvalid_1's binary_logloss: 0.635671\n",
      "Training until validation scores don't improve for 30 rounds.\n",
      "[50]\tvalid_0's binary_logloss: 0.0310244\tvalid_1's binary_logloss: 0.838887\n",
      "Early stopping, best iteration is:\n",
      "[22]\tvalid_0's binary_logloss: 0.0659651\tvalid_1's binary_logloss: 0.61535\n",
      "Training until validation scores don't improve for 30 rounds.\n",
      "Early stopping, best iteration is:\n",
      "[15]\tvalid_0's binary_logloss: 0.104421\tvalid_1's binary_logloss: 0.634332\n",
      "Training until validation scores don't improve for 30 rounds.\n",
      "[50]\tvalid_0's binary_logloss: 0.0298726\tvalid_1's binary_logloss: 0.65492\n",
      "Early stopping, best iteration is:\n",
      "[40]\tvalid_0's binary_logloss: 0.0357543\tvalid_1's binary_logloss: 0.635671\n",
      "Training until validation scores don't improve for 30 rounds.\n",
      "[50]\tvalid_0's binary_logloss: 0.0281871\tvalid_1's binary_logloss: 0.83649\n",
      "Early stopping, best iteration is:\n",
      "[23]\tvalid_0's binary_logloss: 0.0585993\tvalid_1's binary_logloss: 0.636081\n",
      "Training until validation scores don't improve for 30 rounds.\n",
      "Early stopping, best iteration is:\n",
      "[14]\tvalid_0's binary_logloss: 0.110911\tvalid_1's binary_logloss: 0.624082\n",
      "Training until validation scores don't improve for 30 rounds.\n",
      "[50]\tvalid_0's binary_logloss: 0.0239613\tvalid_1's binary_logloss: 0.664306\n",
      "Early stopping, best iteration is:\n",
      "[32]\tvalid_0's binary_logloss: 0.0369822\tvalid_1's binary_logloss: 0.632828\n",
      "Training until validation scores don't improve for 30 rounds.\n",
      "[50]\tvalid_0's binary_logloss: 0.0281871\tvalid_1's binary_logloss: 0.83649\n",
      "Early stopping, best iteration is:\n",
      "[23]\tvalid_0's binary_logloss: 0.0585993\tvalid_1's binary_logloss: 0.636081\n",
      "Training until validation scores don't improve for 30 rounds.\n",
      "Early stopping, best iteration is:\n",
      "[14]\tvalid_0's binary_logloss: 0.110911\tvalid_1's binary_logloss: 0.624082\n",
      "Training until validation scores don't improve for 30 rounds.\n",
      "[50]\tvalid_0's binary_logloss: 0.0239613\tvalid_1's binary_logloss: 0.664306\n",
      "Early stopping, best iteration is:\n",
      "[32]\tvalid_0's binary_logloss: 0.0369822\tvalid_1's binary_logloss: 0.632828\n",
      "Training until validation scores don't improve for 30 rounds.\n",
      "[50]\tvalid_0's binary_logloss: 0.0281871\tvalid_1's binary_logloss: 0.83649\n",
      "Early stopping, best iteration is:\n",
      "[23]\tvalid_0's binary_logloss: 0.0585993\tvalid_1's binary_logloss: 0.636081\n",
      "Training until validation scores don't improve for 30 rounds.\n",
      "Early stopping, best iteration is:\n",
      "[14]\tvalid_0's binary_logloss: 0.110911\tvalid_1's binary_logloss: 0.624082\n",
      "Training until validation scores don't improve for 30 rounds.\n",
      "[50]\tvalid_0's binary_logloss: 0.0239613\tvalid_1's binary_logloss: 0.664306\n",
      "Early stopping, best iteration is:\n",
      "[32]\tvalid_0's binary_logloss: 0.0369822\tvalid_1's binary_logloss: 0.632828\n",
      "Training until validation scores don't improve for 30 rounds.\n",
      "[50]\tvalid_0's binary_logloss: 0.0314561\tvalid_1's binary_logloss: 0.742052\n",
      "Early stopping, best iteration is:\n",
      "[23]\tvalid_0's binary_logloss: 0.0624507\tvalid_1's binary_logloss: 0.611066\n",
      "Training until validation scores don't improve for 30 rounds.\n",
      "Early stopping, best iteration is:\n",
      "[14]\tvalid_0's binary_logloss: 0.112427\tvalid_1's binary_logloss: 0.633526\n",
      "Training until validation scores don't improve for 30 rounds.\n",
      "[50]\tvalid_0's binary_logloss: 0.0298099\tvalid_1's binary_logloss: 0.62049\n",
      "Early stopping, best iteration is:\n",
      "[47]\tvalid_0's binary_logloss: 0.0309642\tvalid_1's binary_logloss: 0.617078\n",
      "Training until validation scores don't improve for 30 rounds.\n",
      "[50]\tvalid_0's binary_logloss: 0.0314561\tvalid_1's binary_logloss: 0.742052\n",
      "Early stopping, best iteration is:\n",
      "[23]\tvalid_0's binary_logloss: 0.0624507\tvalid_1's binary_logloss: 0.611066\n",
      "Training until validation scores don't improve for 30 rounds.\n",
      "Early stopping, best iteration is:\n",
      "[14]\tvalid_0's binary_logloss: 0.112427\tvalid_1's binary_logloss: 0.633526\n",
      "Training until validation scores don't improve for 30 rounds.\n",
      "[50]\tvalid_0's binary_logloss: 0.0298099\tvalid_1's binary_logloss: 0.62049\n",
      "Early stopping, best iteration is:\n",
      "[47]\tvalid_0's binary_logloss: 0.0309642\tvalid_1's binary_logloss: 0.617078\n",
      "Training until validation scores don't improve for 30 rounds.\n",
      "[50]\tvalid_0's binary_logloss: 0.0314561\tvalid_1's binary_logloss: 0.742052\n",
      "Early stopping, best iteration is:\n",
      "[23]\tvalid_0's binary_logloss: 0.0624507\tvalid_1's binary_logloss: 0.611066\n",
      "Training until validation scores don't improve for 30 rounds.\n",
      "Early stopping, best iteration is:\n",
      "[14]\tvalid_0's binary_logloss: 0.112427\tvalid_1's binary_logloss: 0.633526\n",
      "Training until validation scores don't improve for 30 rounds.\n",
      "[50]\tvalid_0's binary_logloss: 0.0298099\tvalid_1's binary_logloss: 0.62049\n",
      "Early stopping, best iteration is:\n",
      "[47]\tvalid_0's binary_logloss: 0.0309642\tvalid_1's binary_logloss: 0.617078\n",
      "Training until validation scores don't improve for 30 rounds.\n",
      "[50]\tvalid_0's binary_logloss: 0.0286156\tvalid_1's binary_logloss: 0.826008\n",
      "Early stopping, best iteration is:\n",
      "[23]\tvalid_0's binary_logloss: 0.0585736\tvalid_1's binary_logloss: 0.636301\n"
     ]
    },
    {
     "name": "stdout",
     "output_type": "stream",
     "text": [
      "Training until validation scores don't improve for 30 rounds.\n",
      "Early stopping, best iteration is:\n",
      "[14]\tvalid_0's binary_logloss: 0.11073\tvalid_1's binary_logloss: 0.625743\n",
      "Training until validation scores don't improve for 30 rounds.\n",
      "Early stopping, best iteration is:\n",
      "[17]\tvalid_0's binary_logloss: 0.0867545\tvalid_1's binary_logloss: 0.637387\n",
      "Training until validation scores don't improve for 30 rounds.\n",
      "[50]\tvalid_0's binary_logloss: 0.0286156\tvalid_1's binary_logloss: 0.826008\n",
      "Early stopping, best iteration is:\n",
      "[23]\tvalid_0's binary_logloss: 0.0585736\tvalid_1's binary_logloss: 0.636301\n",
      "Training until validation scores don't improve for 30 rounds.\n",
      "Early stopping, best iteration is:\n",
      "[14]\tvalid_0's binary_logloss: 0.11073\tvalid_1's binary_logloss: 0.625743\n",
      "Training until validation scores don't improve for 30 rounds.\n",
      "Early stopping, best iteration is:\n",
      "[17]\tvalid_0's binary_logloss: 0.0867545\tvalid_1's binary_logloss: 0.637387\n",
      "Training until validation scores don't improve for 30 rounds.\n",
      "[50]\tvalid_0's binary_logloss: 0.0286156\tvalid_1's binary_logloss: 0.826008\n",
      "Early stopping, best iteration is:\n",
      "[23]\tvalid_0's binary_logloss: 0.0585736\tvalid_1's binary_logloss: 0.636301\n",
      "Training until validation scores don't improve for 30 rounds.\n",
      "Early stopping, best iteration is:\n",
      "[14]\tvalid_0's binary_logloss: 0.11073\tvalid_1's binary_logloss: 0.625743\n",
      "Training until validation scores don't improve for 30 rounds.\n",
      "Early stopping, best iteration is:\n",
      "[17]\tvalid_0's binary_logloss: 0.0867545\tvalid_1's binary_logloss: 0.637387\n",
      "Training until validation scores don't improve for 30 rounds.\n",
      "[50]\tvalid_0's binary_logloss: 0.0314946\tvalid_1's binary_logloss: 0.74227\n",
      "Early stopping, best iteration is:\n",
      "[23]\tvalid_0's binary_logloss: 0.0624349\tvalid_1's binary_logloss: 0.61086\n",
      "Training until validation scores don't improve for 30 rounds.\n",
      "Early stopping, best iteration is:\n",
      "[14]\tvalid_0's binary_logloss: 0.112411\tvalid_1's binary_logloss: 0.632925\n",
      "Training until validation scores don't improve for 30 rounds.\n",
      "[50]\tvalid_0's binary_logloss: 0.0294145\tvalid_1's binary_logloss: 0.61987\n",
      "Early stopping, best iteration is:\n",
      "[58]\tvalid_0's binary_logloss: 0.027093\tvalid_1's binary_logloss: 0.604112\n",
      "Training until validation scores don't improve for 30 rounds.\n",
      "[50]\tvalid_0's binary_logloss: 0.0314946\tvalid_1's binary_logloss: 0.74227\n",
      "Early stopping, best iteration is:\n",
      "[23]\tvalid_0's binary_logloss: 0.0624349\tvalid_1's binary_logloss: 0.61086\n",
      "Training until validation scores don't improve for 30 rounds.\n",
      "Early stopping, best iteration is:\n",
      "[14]\tvalid_0's binary_logloss: 0.112411\tvalid_1's binary_logloss: 0.632925\n",
      "Training until validation scores don't improve for 30 rounds.\n",
      "[50]\tvalid_0's binary_logloss: 0.0294145\tvalid_1's binary_logloss: 0.61987\n",
      "Early stopping, best iteration is:\n",
      "[58]\tvalid_0's binary_logloss: 0.027093\tvalid_1's binary_logloss: 0.604112\n",
      "Training until validation scores don't improve for 30 rounds.\n",
      "[50]\tvalid_0's binary_logloss: 0.0314946\tvalid_1's binary_logloss: 0.74227\n",
      "Early stopping, best iteration is:\n",
      "[23]\tvalid_0's binary_logloss: 0.0624349\tvalid_1's binary_logloss: 0.61086\n",
      "Training until validation scores don't improve for 30 rounds.\n",
      "Early stopping, best iteration is:\n",
      "[14]\tvalid_0's binary_logloss: 0.112411\tvalid_1's binary_logloss: 0.632925\n",
      "Training until validation scores don't improve for 30 rounds.\n",
      "[50]\tvalid_0's binary_logloss: 0.0294145\tvalid_1's binary_logloss: 0.61987\n",
      "Early stopping, best iteration is:\n",
      "[58]\tvalid_0's binary_logloss: 0.027093\tvalid_1's binary_logloss: 0.604112\n",
      "Training until validation scores don't improve for 30 rounds.\n",
      "[50]\tvalid_0's binary_logloss: 0.0271152\tvalid_1's binary_logloss: 0.841321\n",
      "Early stopping, best iteration is:\n",
      "[26]\tvalid_0's binary_logloss: 0.0510116\tvalid_1's binary_logloss: 0.649536\n",
      "Training until validation scores don't improve for 30 rounds.\n",
      "Early stopping, best iteration is:\n",
      "[15]\tvalid_0's binary_logloss: 0.103694\tvalid_1's binary_logloss: 0.634624\n",
      "Training until validation scores don't improve for 30 rounds.\n",
      "Early stopping, best iteration is:\n",
      "[19]\tvalid_0's binary_logloss: 0.0789609\tvalid_1's binary_logloss: 0.655507\n",
      "Training until validation scores don't improve for 30 rounds.\n",
      "[50]\tvalid_0's binary_logloss: 0.0271152\tvalid_1's binary_logloss: 0.841321\n",
      "Early stopping, best iteration is:\n",
      "[26]\tvalid_0's binary_logloss: 0.0510116\tvalid_1's binary_logloss: 0.649536\n",
      "Training until validation scores don't improve for 30 rounds.\n",
      "Early stopping, best iteration is:\n",
      "[15]\tvalid_0's binary_logloss: 0.103694\tvalid_1's binary_logloss: 0.634624\n",
      "Training until validation scores don't improve for 30 rounds.\n",
      "Early stopping, best iteration is:\n",
      "[19]\tvalid_0's binary_logloss: 0.0789609\tvalid_1's binary_logloss: 0.655507\n",
      "Training until validation scores don't improve for 30 rounds.\n",
      "[50]\tvalid_0's binary_logloss: 0.0271152\tvalid_1's binary_logloss: 0.841321\n",
      "Early stopping, best iteration is:\n",
      "[26]\tvalid_0's binary_logloss: 0.0510116\tvalid_1's binary_logloss: 0.649536\n",
      "Training until validation scores don't improve for 30 rounds.\n",
      "Early stopping, best iteration is:\n",
      "[15]\tvalid_0's binary_logloss: 0.103694\tvalid_1's binary_logloss: 0.634624\n",
      "Training until validation scores don't improve for 30 rounds.\n",
      "Early stopping, best iteration is:\n",
      "[19]\tvalid_0's binary_logloss: 0.0789609\tvalid_1's binary_logloss: 0.655507\n",
      "Training until validation scores don't improve for 30 rounds.\n",
      "[50]\tvalid_0's binary_logloss: 0.0320861\tvalid_1's binary_logloss: 0.735219\n",
      "Early stopping, best iteration is:\n",
      "[28]\tvalid_0's binary_logloss: 0.0497328\tvalid_1's binary_logloss: 0.634388\n",
      "Training until validation scores don't improve for 30 rounds.\n",
      "Early stopping, best iteration is:\n",
      "[12]\tvalid_0's binary_logloss: 0.129282\tvalid_1's binary_logloss: 0.63192\n",
      "Training until validation scores don't improve for 30 rounds.\n",
      "[50]\tvalid_0's binary_logloss: 0.0293437\tvalid_1's binary_logloss: 0.65845\n",
      "Early stopping, best iteration is:\n",
      "[57]\tvalid_0's binary_logloss: 0.0271044\tvalid_1's binary_logloss: 0.626609\n",
      "Training until validation scores don't improve for 30 rounds.\n",
      "[50]\tvalid_0's binary_logloss: 0.0320861\tvalid_1's binary_logloss: 0.735219\n",
      "Early stopping, best iteration is:\n",
      "[28]\tvalid_0's binary_logloss: 0.0497328\tvalid_1's binary_logloss: 0.634388\n",
      "Training until validation scores don't improve for 30 rounds.\n",
      "Early stopping, best iteration is:\n",
      "[12]\tvalid_0's binary_logloss: 0.129282\tvalid_1's binary_logloss: 0.63192\n",
      "Training until validation scores don't improve for 30 rounds.\n",
      "[50]\tvalid_0's binary_logloss: 0.0293437\tvalid_1's binary_logloss: 0.65845\n",
      "Early stopping, best iteration is:\n",
      "[57]\tvalid_0's binary_logloss: 0.0271044\tvalid_1's binary_logloss: 0.626609\n",
      "Training until validation scores don't improve for 30 rounds.\n",
      "[50]\tvalid_0's binary_logloss: 0.0320861\tvalid_1's binary_logloss: 0.735219\n",
      "Early stopping, best iteration is:\n",
      "[28]\tvalid_0's binary_logloss: 0.0497328\tvalid_1's binary_logloss: 0.634388\n",
      "Training until validation scores don't improve for 30 rounds.\n",
      "Early stopping, best iteration is:\n",
      "[12]\tvalid_0's binary_logloss: 0.129282\tvalid_1's binary_logloss: 0.63192\n",
      "Training until validation scores don't improve for 30 rounds.\n",
      "[50]\tvalid_0's binary_logloss: 0.0293437\tvalid_1's binary_logloss: 0.65845\n",
      "Early stopping, best iteration is:\n",
      "[57]\tvalid_0's binary_logloss: 0.0271044\tvalid_1's binary_logloss: 0.626609\n",
      "Training until validation scores don't improve for 30 rounds.\n",
      "[50]\tvalid_0's binary_logloss: 0.0277602\tvalid_1's binary_logloss: 0.813544\n",
      "Early stopping, best iteration is:\n",
      "[30]\tvalid_0's binary_logloss: 0.0412693\tvalid_1's binary_logloss: 0.64136\n",
      "Training until validation scores don't improve for 30 rounds.\n",
      "Early stopping, best iteration is:\n",
      "[15]\tvalid_0's binary_logloss: 0.104102\tvalid_1's binary_logloss: 0.636165\n",
      "Training until validation scores don't improve for 30 rounds.\n",
      "[50]\tvalid_0's binary_logloss: 0.024856\tvalid_1's binary_logloss: 0.632373\n",
      "Early stopping, best iteration is:\n",
      "[46]\tvalid_0's binary_logloss: 0.0258421\tvalid_1's binary_logloss: 0.62042\n",
      "Training until validation scores don't improve for 30 rounds.\n",
      "[50]\tvalid_0's binary_logloss: 0.0277602\tvalid_1's binary_logloss: 0.813544\n",
      "Early stopping, best iteration is:\n",
      "[30]\tvalid_0's binary_logloss: 0.0412693\tvalid_1's binary_logloss: 0.64136\n"
     ]
    },
    {
     "name": "stdout",
     "output_type": "stream",
     "text": [
      "Training until validation scores don't improve for 30 rounds.\n",
      "Early stopping, best iteration is:\n",
      "[15]\tvalid_0's binary_logloss: 0.104102\tvalid_1's binary_logloss: 0.636165\n",
      "Training until validation scores don't improve for 30 rounds.\n",
      "[50]\tvalid_0's binary_logloss: 0.024856\tvalid_1's binary_logloss: 0.632373\n",
      "Early stopping, best iteration is:\n",
      "[46]\tvalid_0's binary_logloss: 0.0258421\tvalid_1's binary_logloss: 0.62042\n",
      "Training until validation scores don't improve for 30 rounds.\n",
      "[50]\tvalid_0's binary_logloss: 0.0277602\tvalid_1's binary_logloss: 0.813544\n",
      "Early stopping, best iteration is:\n",
      "[30]\tvalid_0's binary_logloss: 0.0412693\tvalid_1's binary_logloss: 0.64136\n",
      "Training until validation scores don't improve for 30 rounds.\n",
      "Early stopping, best iteration is:\n",
      "[15]\tvalid_0's binary_logloss: 0.104102\tvalid_1's binary_logloss: 0.636165\n",
      "Training until validation scores don't improve for 30 rounds.\n",
      "[50]\tvalid_0's binary_logloss: 0.024856\tvalid_1's binary_logloss: 0.632373\n",
      "Early stopping, best iteration is:\n",
      "[46]\tvalid_0's binary_logloss: 0.0258421\tvalid_1's binary_logloss: 0.62042\n",
      "Training until validation scores don't improve for 30 rounds.\n",
      "[50]\tvalid_0's binary_logloss: 0.0318417\tvalid_1's binary_logloss: 0.74066\n",
      "Early stopping, best iteration is:\n",
      "[27]\tvalid_0's binary_logloss: 0.0512175\tvalid_1's binary_logloss: 0.647602\n",
      "Training until validation scores don't improve for 30 rounds.\n",
      "Early stopping, best iteration is:\n",
      "[12]\tvalid_0's binary_logloss: 0.128807\tvalid_1's binary_logloss: 0.637667\n",
      "Training until validation scores don't improve for 30 rounds.\n",
      "[50]\tvalid_0's binary_logloss: 0.0289804\tvalid_1's binary_logloss: 0.698863\n",
      "Early stopping, best iteration is:\n",
      "[26]\tvalid_0's binary_logloss: 0.0537993\tvalid_1's binary_logloss: 0.640852\n",
      "Training until validation scores don't improve for 30 rounds.\n",
      "[50]\tvalid_0's binary_logloss: 0.0318417\tvalid_1's binary_logloss: 0.74066\n",
      "Early stopping, best iteration is:\n",
      "[27]\tvalid_0's binary_logloss: 0.0512175\tvalid_1's binary_logloss: 0.647602\n",
      "Training until validation scores don't improve for 30 rounds.\n",
      "Early stopping, best iteration is:\n",
      "[12]\tvalid_0's binary_logloss: 0.128807\tvalid_1's binary_logloss: 0.637667\n",
      "Training until validation scores don't improve for 30 rounds.\n",
      "[50]\tvalid_0's binary_logloss: 0.0289804\tvalid_1's binary_logloss: 0.698863\n",
      "Early stopping, best iteration is:\n",
      "[26]\tvalid_0's binary_logloss: 0.0537993\tvalid_1's binary_logloss: 0.640852\n",
      "Training until validation scores don't improve for 30 rounds.\n",
      "[50]\tvalid_0's binary_logloss: 0.0318417\tvalid_1's binary_logloss: 0.74066\n",
      "Early stopping, best iteration is:\n",
      "[27]\tvalid_0's binary_logloss: 0.0512175\tvalid_1's binary_logloss: 0.647602\n",
      "Training until validation scores don't improve for 30 rounds.\n",
      "Early stopping, best iteration is:\n",
      "[12]\tvalid_0's binary_logloss: 0.128807\tvalid_1's binary_logloss: 0.637667\n",
      "Training until validation scores don't improve for 30 rounds.\n",
      "[50]\tvalid_0's binary_logloss: 0.0289804\tvalid_1's binary_logloss: 0.698863\n",
      "Early stopping, best iteration is:\n",
      "[26]\tvalid_0's binary_logloss: 0.0537993\tvalid_1's binary_logloss: 0.640852\n",
      "Training until validation scores don't improve for 30 rounds.\n",
      "[50]\tvalid_0's binary_logloss: 0.0279267\tvalid_1's binary_logloss: 0.828749\n",
      "Early stopping, best iteration is:\n",
      "[30]\tvalid_0's binary_logloss: 0.0412123\tvalid_1's binary_logloss: 0.64682\n",
      "Training until validation scores don't improve for 30 rounds.\n",
      "Early stopping, best iteration is:\n",
      "[15]\tvalid_0's binary_logloss: 0.103865\tvalid_1's binary_logloss: 0.636023\n",
      "Training until validation scores don't improve for 30 rounds.\n",
      "[50]\tvalid_0's binary_logloss: 0.0247604\tvalid_1's binary_logloss: 0.682426\n",
      "Early stopping, best iteration is:\n",
      "[32]\tvalid_0's binary_logloss: 0.0361969\tvalid_1's binary_logloss: 0.64517\n",
      "Training until validation scores don't improve for 30 rounds.\n",
      "[50]\tvalid_0's binary_logloss: 0.0279267\tvalid_1's binary_logloss: 0.828749\n",
      "Early stopping, best iteration is:\n",
      "[30]\tvalid_0's binary_logloss: 0.0412123\tvalid_1's binary_logloss: 0.64682\n",
      "Training until validation scores don't improve for 30 rounds.\n",
      "Early stopping, best iteration is:\n",
      "[15]\tvalid_0's binary_logloss: 0.103865\tvalid_1's binary_logloss: 0.636023\n",
      "Training until validation scores don't improve for 30 rounds.\n",
      "[50]\tvalid_0's binary_logloss: 0.0247604\tvalid_1's binary_logloss: 0.682426\n",
      "Early stopping, best iteration is:\n",
      "[32]\tvalid_0's binary_logloss: 0.0361969\tvalid_1's binary_logloss: 0.64517\n",
      "Training until validation scores don't improve for 30 rounds.\n",
      "[50]\tvalid_0's binary_logloss: 0.0279267\tvalid_1's binary_logloss: 0.828749\n",
      "Early stopping, best iteration is:\n",
      "[30]\tvalid_0's binary_logloss: 0.0412123\tvalid_1's binary_logloss: 0.64682\n",
      "Training until validation scores don't improve for 30 rounds.\n",
      "Early stopping, best iteration is:\n",
      "[15]\tvalid_0's binary_logloss: 0.103865\tvalid_1's binary_logloss: 0.636023\n",
      "Training until validation scores don't improve for 30 rounds.\n",
      "[50]\tvalid_0's binary_logloss: 0.0247604\tvalid_1's binary_logloss: 0.682426\n",
      "Early stopping, best iteration is:\n",
      "[32]\tvalid_0's binary_logloss: 0.0361969\tvalid_1's binary_logloss: 0.64517\n",
      "Training until validation scores don't improve for 30 rounds.\n",
      "[50]\tvalid_0's binary_logloss: 0.0319053\tvalid_1's binary_logloss: 0.708084\n",
      "Early stopping, best iteration is:\n",
      "[29]\tvalid_0's binary_logloss: 0.0472056\tvalid_1's binary_logloss: 0.64148\n",
      "Training until validation scores don't improve for 30 rounds.\n",
      "Early stopping, best iteration is:\n",
      "[12]\tvalid_0's binary_logloss: 0.128847\tvalid_1's binary_logloss: 0.637633\n",
      "Training until validation scores don't improve for 30 rounds.\n",
      "[50]\tvalid_0's binary_logloss: 0.0292343\tvalid_1's binary_logloss: 0.655952\n",
      "Early stopping, best iteration is:\n",
      "[32]\tvalid_0's binary_logloss: 0.04146\tvalid_1's binary_logloss: 0.624803\n",
      "Training until validation scores don't improve for 30 rounds.\n",
      "[50]\tvalid_0's binary_logloss: 0.0319053\tvalid_1's binary_logloss: 0.708084\n",
      "Early stopping, best iteration is:\n",
      "[29]\tvalid_0's binary_logloss: 0.0472056\tvalid_1's binary_logloss: 0.64148\n",
      "Training until validation scores don't improve for 30 rounds.\n",
      "Early stopping, best iteration is:\n",
      "[12]\tvalid_0's binary_logloss: 0.128847\tvalid_1's binary_logloss: 0.637633\n",
      "Training until validation scores don't improve for 30 rounds.\n",
      "[50]\tvalid_0's binary_logloss: 0.0292343\tvalid_1's binary_logloss: 0.655952\n",
      "Early stopping, best iteration is:\n",
      "[32]\tvalid_0's binary_logloss: 0.04146\tvalid_1's binary_logloss: 0.624803\n",
      "Training until validation scores don't improve for 30 rounds.\n",
      "[50]\tvalid_0's binary_logloss: 0.0319053\tvalid_1's binary_logloss: 0.708084\n",
      "Early stopping, best iteration is:\n",
      "[29]\tvalid_0's binary_logloss: 0.0472056\tvalid_1's binary_logloss: 0.64148\n",
      "Training until validation scores don't improve for 30 rounds.\n",
      "Early stopping, best iteration is:\n",
      "[12]\tvalid_0's binary_logloss: 0.128847\tvalid_1's binary_logloss: 0.637633\n",
      "Training until validation scores don't improve for 30 rounds.\n",
      "[50]\tvalid_0's binary_logloss: 0.0292343\tvalid_1's binary_logloss: 0.655952\n",
      "Early stopping, best iteration is:\n",
      "[32]\tvalid_0's binary_logloss: 0.04146\tvalid_1's binary_logloss: 0.624803\n",
      "Training until validation scores don't improve for 30 rounds.\n",
      "Early stopping, best iteration is:\n",
      "[14]\tvalid_0's binary_logloss: 0.106198\tvalid_1's binary_logloss: 0.675098\n"
     ]
    },
    {
     "data": {
      "text/plain": [
       "GridSearchCV(cv='warn', error_score='raise-deprecating',\n",
       "       estimator=LGBMClassifier(boosting_type='gbdt', class_weight=None, colsample_bytree=1.0,\n",
       "        importance_type='split', learning_rate=0.1, max_depth=-1,\n",
       "        min_child_samples=20, min_child_weight=0.001, min_split_gain=0.0,\n",
       "        n_estimators=100, n_jobs=-1, num_leaves=31, objective=None,\n",
       "        random_state=None, reg_alpha=0.0, reg_lambda=0.0, silent=True,\n",
       "        subsample=1.0, subsample_for_bin=200000, subsample_freq=0,\n",
       "        verbose_eval=10),\n",
       "       fit_params=None, iid='warn', n_jobs=None,\n",
       "       param_grid={'max_depth': [5, 7, 9], 'min_child_weight': [1, 3], 'colsample_bytree': [0.5, 0.75], 'n_estimators': [100, 300, 500]},\n",
       "       pre_dispatch='2*n_jobs', refit=True, return_train_score='warn',\n",
       "       scoring=None, verbose=0)"
      ]
     },
     "execution_count": 84,
     "metadata": {},
     "output_type": "execute_result"
    }
   ],
   "source": [
    "lgb = LGBMClassifier(n_jobs = -1, verbose_eval = 10)\n",
    "\n",
    "params = {\n",
    "    'max_depth' : [5,7,9],\n",
    "    'min_child_weight' : [1,3],\n",
    "    'colsample_bytree' : [0.5,0.75],\n",
    "    'n_estimators' : [100,300,500]\n",
    "}\n",
    "\n",
    "gridcv = GridSearchCV(lgb, param_grid=params)\n",
    "gridcv.fit(X, y, early_stopping_rounds = 30, eval_metric = 'acc',\n",
    "                     eval_set = [(X, y), (urine_X, urine_y)], verbose=50)"
   ]
  },
  {
   "cell_type": "code",
   "execution_count": 85,
   "metadata": {
    "ExecuteTime": {
     "end_time": "2019-04-30T11:19:48.282360Z",
     "start_time": "2019-04-30T11:19:48.275353Z"
    }
   },
   "outputs": [
    {
     "name": "stdout",
     "output_type": "stream",
     "text": [
      "GridSearchCV best parameter :  {'colsample_bytree': 0.75, 'max_depth': 5, 'min_child_weight': 1, 'n_estimators': 100}\n"
     ]
    }
   ],
   "source": [
    "print('GridSearchCV best parameter : ', gridcv.best_params_)"
   ]
  },
  {
   "cell_type": "code",
   "execution_count": 86,
   "metadata": {
    "ExecuteTime": {
     "end_time": "2019-04-30T11:19:57.298062Z",
     "start_time": "2019-04-30T11:19:57.023286Z"
    }
   },
   "outputs": [
    {
     "name": "stdout",
     "output_type": "stream",
     "text": [
      "threshold ;  0.25\n",
      "accuracy : 0.6835 precision : 0.6711 recall : 1.0000 F1 : 0.8031 AUC : 0.5536\n",
      "[[ 3 25]\n",
      " [ 0 51]]\n",
      "\n",
      "\n",
      "threshold ;  0.3\n",
      "accuracy : 0.6962 precision : 0.6800 recall : 1.0000 F1 : 0.8095 AUC : 0.5714\n",
      "[[ 4 24]\n",
      " [ 0 51]]\n",
      "\n",
      "\n",
      "threshold ;  0.35\n",
      "accuracy : 0.6582 precision : 0.6714 recall : 0.9216 F1 : 0.7769 AUC : 0.5501\n",
      "[[ 5 23]\n",
      " [ 4 47]]\n",
      "\n",
      "\n",
      "threshold ;  0.4\n",
      "accuracy : 0.6835 precision : 0.6970 recall : 0.9020 F1 : 0.7863 AUC : 0.5938\n",
      "[[ 8 20]\n",
      " [ 5 46]]\n",
      "\n",
      "\n",
      "threshold ;  0.45\n",
      "accuracy : 0.6076 precision : 0.6667 recall : 0.7843 F1 : 0.7207 AUC : 0.5350\n",
      "[[ 8 20]\n",
      " [11 40]]\n",
      "\n",
      "\n",
      "threshold ;  0.5\n",
      "accuracy : 0.5443 precision : 0.6471 recall : 0.6471 F1 : 0.6471 AUC : 0.5021\n",
      "[[10 18]\n",
      " [18 33]]\n",
      "\n",
      "\n"
     ]
    }
   ],
   "source": [
    "thresholds = [0.25,0.3,0.35,0.4,0.45,0.5]\n",
    "get_eval_by_threshold(urine_y, gridcv.predict_proba(urine_X)[:,1].reshape(-1,1), thresholds)"
   ]
  },
  {
   "cell_type": "markdown",
   "metadata": {},
   "source": [
    "## standardscale"
   ]
  },
  {
   "cell_type": "code",
   "execution_count": 87,
   "metadata": {
    "ExecuteTime": {
     "end_time": "2019-04-30T11:26:23.073178Z",
     "start_time": "2019-04-30T11:20:15.142871Z"
    }
   },
   "outputs": [
    {
     "name": "stdout",
     "output_type": "stream",
     "text": [
      "Training until validation scores don't improve for 30 rounds.\n",
      "[50]\tvalid_0's binary_logloss: 0.0284114\tvalid_1's binary_logloss: 0.765055\n",
      "Early stopping, best iteration is:\n",
      "[27]\tvalid_0's binary_logloss: 0.0496992\tvalid_1's binary_logloss: 0.593888\n",
      "Training until validation scores don't improve for 30 rounds.\n",
      "Early stopping, best iteration is:\n",
      "[13]\tvalid_0's binary_logloss: 0.119025\tvalid_1's binary_logloss: 0.624558\n",
      "Training until validation scores don't improve for 30 rounds.\n",
      "[50]\tvalid_0's binary_logloss: 0.0245067\tvalid_1's binary_logloss: 0.650167\n",
      "Early stopping, best iteration is:\n",
      "[34]\tvalid_0's binary_logloss: 0.0367376\tvalid_1's binary_logloss: 0.622938\n",
      "Training until validation scores don't improve for 30 rounds.\n",
      "[50]\tvalid_0's binary_logloss: 0.0284114\tvalid_1's binary_logloss: 0.765055\n",
      "Early stopping, best iteration is:\n",
      "[27]\tvalid_0's binary_logloss: 0.0496992\tvalid_1's binary_logloss: 0.593888\n",
      "Training until validation scores don't improve for 30 rounds.\n",
      "Early stopping, best iteration is:\n",
      "[13]\tvalid_0's binary_logloss: 0.119025\tvalid_1's binary_logloss: 0.624558\n",
      "Training until validation scores don't improve for 30 rounds.\n",
      "[50]\tvalid_0's binary_logloss: 0.0245067\tvalid_1's binary_logloss: 0.650167\n",
      "Early stopping, best iteration is:\n",
      "[34]\tvalid_0's binary_logloss: 0.0367376\tvalid_1's binary_logloss: 0.622938\n",
      "Training until validation scores don't improve for 30 rounds.\n",
      "[50]\tvalid_0's binary_logloss: 0.0284114\tvalid_1's binary_logloss: 0.765055\n",
      "Early stopping, best iteration is:\n",
      "[27]\tvalid_0's binary_logloss: 0.0496992\tvalid_1's binary_logloss: 0.593888\n",
      "Training until validation scores don't improve for 30 rounds.\n",
      "Early stopping, best iteration is:\n",
      "[13]\tvalid_0's binary_logloss: 0.119025\tvalid_1's binary_logloss: 0.624558\n",
      "Training until validation scores don't improve for 30 rounds.\n",
      "[50]\tvalid_0's binary_logloss: 0.0245067\tvalid_1's binary_logloss: 0.650167\n",
      "Early stopping, best iteration is:\n",
      "[34]\tvalid_0's binary_logloss: 0.0367376\tvalid_1's binary_logloss: 0.622938\n",
      "Training until validation scores don't improve for 30 rounds.\n",
      "[50]\tvalid_0's binary_logloss: 0.0317819\tvalid_1's binary_logloss: 0.664617\n",
      "Early stopping, best iteration is:\n",
      "[27]\tvalid_0's binary_logloss: 0.0521568\tvalid_1's binary_logloss: 0.567349\n",
      "Training until validation scores don't improve for 30 rounds.\n",
      "Early stopping, best iteration is:\n",
      "[13]\tvalid_0's binary_logloss: 0.119453\tvalid_1's binary_logloss: 0.622859\n",
      "Training until validation scores don't improve for 30 rounds.\n",
      "[50]\tvalid_0's binary_logloss: 0.0302238\tvalid_1's binary_logloss: 0.658718\n",
      "Early stopping, best iteration is:\n",
      "[31]\tvalid_0's binary_logloss: 0.0456722\tvalid_1's binary_logloss: 0.624256\n",
      "Training until validation scores don't improve for 30 rounds.\n",
      "[50]\tvalid_0's binary_logloss: 0.0317819\tvalid_1's binary_logloss: 0.664617\n",
      "Early stopping, best iteration is:\n",
      "[27]\tvalid_0's binary_logloss: 0.0521568\tvalid_1's binary_logloss: 0.567349\n",
      "Training until validation scores don't improve for 30 rounds.\n",
      "Early stopping, best iteration is:\n",
      "[13]\tvalid_0's binary_logloss: 0.119453\tvalid_1's binary_logloss: 0.622859\n",
      "Training until validation scores don't improve for 30 rounds.\n",
      "[50]\tvalid_0's binary_logloss: 0.0302238\tvalid_1's binary_logloss: 0.658718\n",
      "Early stopping, best iteration is:\n",
      "[31]\tvalid_0's binary_logloss: 0.0456722\tvalid_1's binary_logloss: 0.624256\n",
      "Training until validation scores don't improve for 30 rounds.\n",
      "[50]\tvalid_0's binary_logloss: 0.0317819\tvalid_1's binary_logloss: 0.664617\n",
      "Early stopping, best iteration is:\n",
      "[27]\tvalid_0's binary_logloss: 0.0521568\tvalid_1's binary_logloss: 0.567349\n",
      "Training until validation scores don't improve for 30 rounds.\n",
      "Early stopping, best iteration is:\n",
      "[13]\tvalid_0's binary_logloss: 0.119453\tvalid_1's binary_logloss: 0.622859\n",
      "Training until validation scores don't improve for 30 rounds.\n",
      "[50]\tvalid_0's binary_logloss: 0.0302238\tvalid_1's binary_logloss: 0.658718\n",
      "Early stopping, best iteration is:\n",
      "[31]\tvalid_0's binary_logloss: 0.0456722\tvalid_1's binary_logloss: 0.624256\n",
      "Training until validation scores don't improve for 30 rounds.\n",
      "[50]\tvalid_0's binary_logloss: 0.0283133\tvalid_1's binary_logloss: 0.827819\n",
      "Early stopping, best iteration is:\n",
      "[22]\tvalid_0's binary_logloss: 0.0632918\tvalid_1's binary_logloss: 0.600363\n",
      "Training until validation scores don't improve for 30 rounds.\n",
      "Early stopping, best iteration is:\n",
      "[15]\tvalid_0's binary_logloss: 0.103306\tvalid_1's binary_logloss: 0.62335\n",
      "Training until validation scores don't improve for 30 rounds.\n",
      "[50]\tvalid_0's binary_logloss: 0.0230097\tvalid_1's binary_logloss: 0.658838\n",
      "Early stopping, best iteration is:\n",
      "[31]\tvalid_0's binary_logloss: 0.0379073\tvalid_1's binary_logloss: 0.632787\n",
      "Training until validation scores don't improve for 30 rounds.\n",
      "[50]\tvalid_0's binary_logloss: 0.0283133\tvalid_1's binary_logloss: 0.827819\n",
      "Early stopping, best iteration is:\n",
      "[22]\tvalid_0's binary_logloss: 0.0632918\tvalid_1's binary_logloss: 0.600363\n",
      "Training until validation scores don't improve for 30 rounds.\n",
      "Early stopping, best iteration is:\n",
      "[15]\tvalid_0's binary_logloss: 0.103306\tvalid_1's binary_logloss: 0.62335\n",
      "Training until validation scores don't improve for 30 rounds.\n",
      "[50]\tvalid_0's binary_logloss: 0.0230097\tvalid_1's binary_logloss: 0.658838\n",
      "Early stopping, best iteration is:\n",
      "[31]\tvalid_0's binary_logloss: 0.0379073\tvalid_1's binary_logloss: 0.632787\n",
      "Training until validation scores don't improve for 30 rounds.\n",
      "[50]\tvalid_0's binary_logloss: 0.0283133\tvalid_1's binary_logloss: 0.827819\n",
      "Early stopping, best iteration is:\n",
      "[22]\tvalid_0's binary_logloss: 0.0632918\tvalid_1's binary_logloss: 0.600363\n",
      "Training until validation scores don't improve for 30 rounds.\n",
      "Early stopping, best iteration is:\n",
      "[15]\tvalid_0's binary_logloss: 0.103306\tvalid_1's binary_logloss: 0.62335\n",
      "Training until validation scores don't improve for 30 rounds.\n",
      "[50]\tvalid_0's binary_logloss: 0.0230097\tvalid_1's binary_logloss: 0.658838\n",
      "Early stopping, best iteration is:\n",
      "[31]\tvalid_0's binary_logloss: 0.0379073\tvalid_1's binary_logloss: 0.632787\n",
      "Training until validation scores don't improve for 30 rounds.\n",
      "[50]\tvalid_0's binary_logloss: 0.0316274\tvalid_1's binary_logloss: 0.631303\n",
      "Early stopping, best iteration is:\n",
      "[28]\tvalid_0's binary_logloss: 0.0496921\tvalid_1's binary_logloss: 0.544447\n",
      "Training until validation scores don't improve for 30 rounds.\n",
      "Early stopping, best iteration is:\n",
      "[12]\tvalid_0's binary_logloss: 0.128996\tvalid_1's binary_logloss: 0.632216\n",
      "Training until validation scores don't improve for 30 rounds.\n",
      "Early stopping, best iteration is:\n",
      "[15]\tvalid_0's binary_logloss: 0.101637\tvalid_1's binary_logloss: 0.657471\n",
      "Training until validation scores don't improve for 30 rounds.\n",
      "[50]\tvalid_0's binary_logloss: 0.0316274\tvalid_1's binary_logloss: 0.631303\n",
      "Early stopping, best iteration is:\n",
      "[28]\tvalid_0's binary_logloss: 0.0496921\tvalid_1's binary_logloss: 0.544447\n",
      "Training until validation scores don't improve for 30 rounds.\n",
      "Early stopping, best iteration is:\n",
      "[12]\tvalid_0's binary_logloss: 0.128996\tvalid_1's binary_logloss: 0.632216\n",
      "Training until validation scores don't improve for 30 rounds.\n",
      "Early stopping, best iteration is:\n",
      "[15]\tvalid_0's binary_logloss: 0.101637\tvalid_1's binary_logloss: 0.657471\n",
      "Training until validation scores don't improve for 30 rounds.\n",
      "[50]\tvalid_0's binary_logloss: 0.0316274\tvalid_1's binary_logloss: 0.631303\n",
      "Early stopping, best iteration is:\n",
      "[28]\tvalid_0's binary_logloss: 0.0496921\tvalid_1's binary_logloss: 0.544447\n",
      "Training until validation scores don't improve for 30 rounds.\n",
      "Early stopping, best iteration is:\n",
      "[12]\tvalid_0's binary_logloss: 0.128996\tvalid_1's binary_logloss: 0.632216\n",
      "Training until validation scores don't improve for 30 rounds.\n",
      "Early stopping, best iteration is:\n",
      "[15]\tvalid_0's binary_logloss: 0.101637\tvalid_1's binary_logloss: 0.657471\n",
      "Training until validation scores don't improve for 30 rounds.\n",
      "[50]\tvalid_0's binary_logloss: 0.0280538\tvalid_1's binary_logloss: 0.810185\n",
      "Early stopping, best iteration is:\n",
      "[22]\tvalid_0's binary_logloss: 0.0632796\tvalid_1's binary_logloss: 0.600367\n",
      "Training until validation scores don't improve for 30 rounds.\n",
      "Early stopping, best iteration is:\n",
      "[15]\tvalid_0's binary_logloss: 0.103086\tvalid_1's binary_logloss: 0.622191\n"
     ]
    },
    {
     "name": "stdout",
     "output_type": "stream",
     "text": [
      "Training until validation scores don't improve for 30 rounds.\n",
      "[50]\tvalid_0's binary_logloss: 0.0233182\tvalid_1's binary_logloss: 0.699412\n",
      "Early stopping, best iteration is:\n",
      "[25]\tvalid_0's binary_logloss: 0.0513789\tvalid_1's binary_logloss: 0.627708\n",
      "Training until validation scores don't improve for 30 rounds.\n",
      "[50]\tvalid_0's binary_logloss: 0.0280538\tvalid_1's binary_logloss: 0.810185\n",
      "Early stopping, best iteration is:\n",
      "[22]\tvalid_0's binary_logloss: 0.0632796\tvalid_1's binary_logloss: 0.600367\n",
      "Training until validation scores don't improve for 30 rounds.\n",
      "Early stopping, best iteration is:\n",
      "[15]\tvalid_0's binary_logloss: 0.103086\tvalid_1's binary_logloss: 0.622191\n",
      "Training until validation scores don't improve for 30 rounds.\n",
      "[50]\tvalid_0's binary_logloss: 0.0233182\tvalid_1's binary_logloss: 0.699412\n",
      "Early stopping, best iteration is:\n",
      "[25]\tvalid_0's binary_logloss: 0.0513789\tvalid_1's binary_logloss: 0.627708\n",
      "Training until validation scores don't improve for 30 rounds.\n",
      "[50]\tvalid_0's binary_logloss: 0.0280538\tvalid_1's binary_logloss: 0.810185\n",
      "Early stopping, best iteration is:\n",
      "[22]\tvalid_0's binary_logloss: 0.0632796\tvalid_1's binary_logloss: 0.600367\n",
      "Training until validation scores don't improve for 30 rounds.\n",
      "Early stopping, best iteration is:\n",
      "[15]\tvalid_0's binary_logloss: 0.103086\tvalid_1's binary_logloss: 0.622191\n",
      "Training until validation scores don't improve for 30 rounds.\n",
      "[50]\tvalid_0's binary_logloss: 0.0233182\tvalid_1's binary_logloss: 0.699412\n",
      "Early stopping, best iteration is:\n",
      "[25]\tvalid_0's binary_logloss: 0.0513789\tvalid_1's binary_logloss: 0.627708\n",
      "Training until validation scores don't improve for 30 rounds.\n",
      "[50]\tvalid_0's binary_logloss: 0.0318569\tvalid_1's binary_logloss: 0.649738\n",
      "Early stopping, best iteration is:\n",
      "[28]\tvalid_0's binary_logloss: 0.0496839\tvalid_1's binary_logloss: 0.544583\n",
      "Training until validation scores don't improve for 30 rounds.\n",
      "Early stopping, best iteration is:\n",
      "[13]\tvalid_0's binary_logloss: 0.119253\tvalid_1's binary_logloss: 0.630113\n",
      "Training until validation scores don't improve for 30 rounds.\n",
      "[50]\tvalid_0's binary_logloss: 0.0293464\tvalid_1's binary_logloss: 0.667726\n",
      "Early stopping, best iteration is:\n",
      "[29]\tvalid_0's binary_logloss: 0.0466831\tvalid_1's binary_logloss: 0.641259\n",
      "Training until validation scores don't improve for 30 rounds.\n",
      "[50]\tvalid_0's binary_logloss: 0.0318569\tvalid_1's binary_logloss: 0.649738\n",
      "Early stopping, best iteration is:\n",
      "[28]\tvalid_0's binary_logloss: 0.0496839\tvalid_1's binary_logloss: 0.544583\n",
      "Training until validation scores don't improve for 30 rounds.\n",
      "Early stopping, best iteration is:\n",
      "[13]\tvalid_0's binary_logloss: 0.119253\tvalid_1's binary_logloss: 0.630113\n",
      "Training until validation scores don't improve for 30 rounds.\n",
      "[50]\tvalid_0's binary_logloss: 0.0293464\tvalid_1's binary_logloss: 0.667726\n",
      "Early stopping, best iteration is:\n",
      "[29]\tvalid_0's binary_logloss: 0.0466831\tvalid_1's binary_logloss: 0.641259\n",
      "Training until validation scores don't improve for 30 rounds.\n",
      "[50]\tvalid_0's binary_logloss: 0.0318569\tvalid_1's binary_logloss: 0.649738\n",
      "Early stopping, best iteration is:\n",
      "[28]\tvalid_0's binary_logloss: 0.0496839\tvalid_1's binary_logloss: 0.544583\n",
      "Training until validation scores don't improve for 30 rounds.\n",
      "Early stopping, best iteration is:\n",
      "[13]\tvalid_0's binary_logloss: 0.119253\tvalid_1's binary_logloss: 0.630113\n",
      "Training until validation scores don't improve for 30 rounds.\n",
      "[50]\tvalid_0's binary_logloss: 0.0293464\tvalid_1's binary_logloss: 0.667726\n",
      "Early stopping, best iteration is:\n",
      "[29]\tvalid_0's binary_logloss: 0.0466831\tvalid_1's binary_logloss: 0.641259\n",
      "Training until validation scores don't improve for 30 rounds.\n",
      "[50]\tvalid_0's binary_logloss: 0.0276613\tvalid_1's binary_logloss: 0.94007\n",
      "Early stopping, best iteration is:\n",
      "[25]\tvalid_0's binary_logloss: 0.053524\tvalid_1's binary_logloss: 0.662471\n",
      "Training until validation scores don't improve for 30 rounds.\n",
      "Early stopping, best iteration is:\n",
      "[14]\tvalid_0's binary_logloss: 0.110908\tvalid_1's binary_logloss: 0.61986\n",
      "Training until validation scores don't improve for 30 rounds.\n",
      "[50]\tvalid_0's binary_logloss: 0.0250094\tvalid_1's binary_logloss: 0.655992\n",
      "Early stopping, best iteration is:\n",
      "[35]\tvalid_0's binary_logloss: 0.0357509\tvalid_1's binary_logloss: 0.615367\n",
      "Training until validation scores don't improve for 30 rounds.\n",
      "[50]\tvalid_0's binary_logloss: 0.0276613\tvalid_1's binary_logloss: 0.94007\n",
      "Early stopping, best iteration is:\n",
      "[25]\tvalid_0's binary_logloss: 0.053524\tvalid_1's binary_logloss: 0.662471\n",
      "Training until validation scores don't improve for 30 rounds.\n",
      "Early stopping, best iteration is:\n",
      "[14]\tvalid_0's binary_logloss: 0.110908\tvalid_1's binary_logloss: 0.61986\n",
      "Training until validation scores don't improve for 30 rounds.\n",
      "[50]\tvalid_0's binary_logloss: 0.0250094\tvalid_1's binary_logloss: 0.655992\n",
      "Early stopping, best iteration is:\n",
      "[35]\tvalid_0's binary_logloss: 0.0357509\tvalid_1's binary_logloss: 0.615367\n",
      "Training until validation scores don't improve for 30 rounds.\n",
      "[50]\tvalid_0's binary_logloss: 0.0276613\tvalid_1's binary_logloss: 0.94007\n",
      "Early stopping, best iteration is:\n",
      "[25]\tvalid_0's binary_logloss: 0.053524\tvalid_1's binary_logloss: 0.662471\n",
      "Training until validation scores don't improve for 30 rounds.\n",
      "Early stopping, best iteration is:\n",
      "[14]\tvalid_0's binary_logloss: 0.110908\tvalid_1's binary_logloss: 0.61986\n",
      "Training until validation scores don't improve for 30 rounds.\n",
      "[50]\tvalid_0's binary_logloss: 0.0250094\tvalid_1's binary_logloss: 0.655992\n",
      "Early stopping, best iteration is:\n",
      "[35]\tvalid_0's binary_logloss: 0.0357509\tvalid_1's binary_logloss: 0.615367\n",
      "Training until validation scores don't improve for 30 rounds.\n",
      "[50]\tvalid_0's binary_logloss: 0.0308063\tvalid_1's binary_logloss: 0.767713\n",
      "Early stopping, best iteration is:\n",
      "[26]\tvalid_0's binary_logloss: 0.0539255\tvalid_1's binary_logloss: 0.661779\n",
      "Training until validation scores don't improve for 30 rounds.\n",
      "Early stopping, best iteration is:\n",
      "[14]\tvalid_0's binary_logloss: 0.110907\tvalid_1's binary_logloss: 0.630407\n",
      "Training until validation scores don't improve for 30 rounds.\n",
      "[50]\tvalid_0's binary_logloss: 0.0292112\tvalid_1's binary_logloss: 0.639776\n",
      "Early stopping, best iteration is:\n",
      "[26]\tvalid_0's binary_logloss: 0.0544313\tvalid_1's binary_logloss: 0.598778\n",
      "Training until validation scores don't improve for 30 rounds.\n",
      "[50]\tvalid_0's binary_logloss: 0.0308063\tvalid_1's binary_logloss: 0.767713\n",
      "Early stopping, best iteration is:\n",
      "[26]\tvalid_0's binary_logloss: 0.0539255\tvalid_1's binary_logloss: 0.661779\n",
      "Training until validation scores don't improve for 30 rounds.\n",
      "Early stopping, best iteration is:\n",
      "[14]\tvalid_0's binary_logloss: 0.110907\tvalid_1's binary_logloss: 0.630407\n",
      "Training until validation scores don't improve for 30 rounds.\n",
      "[50]\tvalid_0's binary_logloss: 0.0292112\tvalid_1's binary_logloss: 0.639776\n",
      "Early stopping, best iteration is:\n",
      "[26]\tvalid_0's binary_logloss: 0.0544313\tvalid_1's binary_logloss: 0.598778\n",
      "Training until validation scores don't improve for 30 rounds.\n",
      "[50]\tvalid_0's binary_logloss: 0.0308063\tvalid_1's binary_logloss: 0.767713\n",
      "Early stopping, best iteration is:\n",
      "[26]\tvalid_0's binary_logloss: 0.0539255\tvalid_1's binary_logloss: 0.661779\n",
      "Training until validation scores don't improve for 30 rounds.\n",
      "Early stopping, best iteration is:\n",
      "[14]\tvalid_0's binary_logloss: 0.110907\tvalid_1's binary_logloss: 0.630407\n",
      "Training until validation scores don't improve for 30 rounds.\n",
      "[50]\tvalid_0's binary_logloss: 0.0292112\tvalid_1's binary_logloss: 0.639776\n",
      "Early stopping, best iteration is:\n",
      "[26]\tvalid_0's binary_logloss: 0.0544313\tvalid_1's binary_logloss: 0.598778\n",
      "Training until validation scores don't improve for 30 rounds.\n",
      "[50]\tvalid_0's binary_logloss: 0.0278124\tvalid_1's binary_logloss: 0.815424\n",
      "Early stopping, best iteration is:\n",
      "[20]\tvalid_0's binary_logloss: 0.0702028\tvalid_1's binary_logloss: 0.675189\n",
      "Training until validation scores don't improve for 30 rounds.\n",
      "Early stopping, best iteration is:\n",
      "[13]\tvalid_0's binary_logloss: 0.118294\tvalid_1's binary_logloss: 0.618907\n",
      "Training until validation scores don't improve for 30 rounds.\n",
      "[50]\tvalid_0's binary_logloss: 0.0240698\tvalid_1's binary_logloss: 0.668566\n",
      "Early stopping, best iteration is:\n",
      "[44]\tvalid_0's binary_logloss: 0.0257899\tvalid_1's binary_logloss: 0.63854\n"
     ]
    },
    {
     "name": "stdout",
     "output_type": "stream",
     "text": [
      "Training until validation scores don't improve for 30 rounds.\n",
      "[50]\tvalid_0's binary_logloss: 0.0278124\tvalid_1's binary_logloss: 0.815424\n",
      "Early stopping, best iteration is:\n",
      "[20]\tvalid_0's binary_logloss: 0.0702028\tvalid_1's binary_logloss: 0.675189\n",
      "Training until validation scores don't improve for 30 rounds.\n",
      "Early stopping, best iteration is:\n",
      "[13]\tvalid_0's binary_logloss: 0.118294\tvalid_1's binary_logloss: 0.618907\n",
      "Training until validation scores don't improve for 30 rounds.\n",
      "[50]\tvalid_0's binary_logloss: 0.0240698\tvalid_1's binary_logloss: 0.668566\n",
      "Early stopping, best iteration is:\n",
      "[44]\tvalid_0's binary_logloss: 0.0257899\tvalid_1's binary_logloss: 0.63854\n",
      "Training until validation scores don't improve for 30 rounds.\n",
      "[50]\tvalid_0's binary_logloss: 0.0278124\tvalid_1's binary_logloss: 0.815424\n",
      "Early stopping, best iteration is:\n",
      "[20]\tvalid_0's binary_logloss: 0.0702028\tvalid_1's binary_logloss: 0.675189\n",
      "Training until validation scores don't improve for 30 rounds.\n",
      "Early stopping, best iteration is:\n",
      "[13]\tvalid_0's binary_logloss: 0.118294\tvalid_1's binary_logloss: 0.618907\n",
      "Training until validation scores don't improve for 30 rounds.\n",
      "[50]\tvalid_0's binary_logloss: 0.0240698\tvalid_1's binary_logloss: 0.668566\n",
      "Early stopping, best iteration is:\n",
      "[44]\tvalid_0's binary_logloss: 0.0257899\tvalid_1's binary_logloss: 0.63854\n",
      "Training until validation scores don't improve for 30 rounds.\n",
      "Early stopping, best iteration is:\n",
      "[19]\tvalid_0's binary_logloss: 0.0775763\tvalid_1's binary_logloss: 0.659034\n",
      "Training until validation scores don't improve for 30 rounds.\n",
      "Early stopping, best iteration is:\n",
      "[13]\tvalid_0's binary_logloss: 0.119622\tvalid_1's binary_logloss: 0.630076\n",
      "Training until validation scores don't improve for 30 rounds.\n",
      "[50]\tvalid_0's binary_logloss: 0.0285292\tvalid_1's binary_logloss: 0.703498\n",
      "Early stopping, best iteration is:\n",
      "[26]\tvalid_0's binary_logloss: 0.0531736\tvalid_1's binary_logloss: 0.627944\n",
      "Training until validation scores don't improve for 30 rounds.\n",
      "Early stopping, best iteration is:\n",
      "[19]\tvalid_0's binary_logloss: 0.0775763\tvalid_1's binary_logloss: 0.659034\n",
      "Training until validation scores don't improve for 30 rounds.\n",
      "Early stopping, best iteration is:\n",
      "[13]\tvalid_0's binary_logloss: 0.119622\tvalid_1's binary_logloss: 0.630076\n",
      "Training until validation scores don't improve for 30 rounds.\n",
      "[50]\tvalid_0's binary_logloss: 0.0285292\tvalid_1's binary_logloss: 0.703498\n",
      "Early stopping, best iteration is:\n",
      "[26]\tvalid_0's binary_logloss: 0.0531736\tvalid_1's binary_logloss: 0.627944\n",
      "Training until validation scores don't improve for 30 rounds.\n",
      "Early stopping, best iteration is:\n",
      "[19]\tvalid_0's binary_logloss: 0.0775763\tvalid_1's binary_logloss: 0.659034\n",
      "Training until validation scores don't improve for 30 rounds.\n",
      "Early stopping, best iteration is:\n",
      "[13]\tvalid_0's binary_logloss: 0.119622\tvalid_1's binary_logloss: 0.630076\n",
      "Training until validation scores don't improve for 30 rounds.\n",
      "[50]\tvalid_0's binary_logloss: 0.0285292\tvalid_1's binary_logloss: 0.703498\n",
      "Early stopping, best iteration is:\n",
      "[26]\tvalid_0's binary_logloss: 0.0531736\tvalid_1's binary_logloss: 0.627944\n",
      "Training until validation scores don't improve for 30 rounds.\n",
      "[50]\tvalid_0's binary_logloss: 0.0277911\tvalid_1's binary_logloss: 0.7921\n",
      "Early stopping, best iteration is:\n",
      "[31]\tvalid_0's binary_logloss: 0.0394633\tvalid_1's binary_logloss: 0.671999\n",
      "Training until validation scores don't improve for 30 rounds.\n",
      "Early stopping, best iteration is:\n",
      "[13]\tvalid_0's binary_logloss: 0.119092\tvalid_1's binary_logloss: 0.613089\n",
      "Training until validation scores don't improve for 30 rounds.\n",
      "[50]\tvalid_0's binary_logloss: 0.0241248\tvalid_1's binary_logloss: 0.708025\n",
      "Early stopping, best iteration is:\n",
      "[35]\tvalid_0's binary_logloss: 0.0312918\tvalid_1's binary_logloss: 0.629113\n",
      "Training until validation scores don't improve for 30 rounds.\n",
      "[50]\tvalid_0's binary_logloss: 0.0277911\tvalid_1's binary_logloss: 0.7921\n",
      "Early stopping, best iteration is:\n",
      "[31]\tvalid_0's binary_logloss: 0.0394633\tvalid_1's binary_logloss: 0.671999\n",
      "Training until validation scores don't improve for 30 rounds.\n",
      "Early stopping, best iteration is:\n",
      "[13]\tvalid_0's binary_logloss: 0.119092\tvalid_1's binary_logloss: 0.613089\n",
      "Training until validation scores don't improve for 30 rounds.\n",
      "[50]\tvalid_0's binary_logloss: 0.0241248\tvalid_1's binary_logloss: 0.708025\n",
      "Early stopping, best iteration is:\n",
      "[35]\tvalid_0's binary_logloss: 0.0312918\tvalid_1's binary_logloss: 0.629113\n",
      "Training until validation scores don't improve for 30 rounds.\n",
      "[50]\tvalid_0's binary_logloss: 0.0277911\tvalid_1's binary_logloss: 0.7921\n",
      "Early stopping, best iteration is:\n",
      "[31]\tvalid_0's binary_logloss: 0.0394633\tvalid_1's binary_logloss: 0.671999\n",
      "Training until validation scores don't improve for 30 rounds.\n",
      "Early stopping, best iteration is:\n",
      "[13]\tvalid_0's binary_logloss: 0.119092\tvalid_1's binary_logloss: 0.613089\n",
      "Training until validation scores don't improve for 30 rounds.\n",
      "[50]\tvalid_0's binary_logloss: 0.0241248\tvalid_1's binary_logloss: 0.708025\n",
      "Early stopping, best iteration is:\n",
      "[35]\tvalid_0's binary_logloss: 0.0312918\tvalid_1's binary_logloss: 0.629113\n",
      "Training until validation scores don't improve for 30 rounds.\n",
      "Early stopping, best iteration is:\n",
      "[19]\tvalid_0's binary_logloss: 0.0775478\tvalid_1's binary_logloss: 0.659063\n",
      "Training until validation scores don't improve for 30 rounds.\n",
      "Early stopping, best iteration is:\n",
      "[13]\tvalid_0's binary_logloss: 0.119632\tvalid_1's binary_logloss: 0.629942\n",
      "Training until validation scores don't improve for 30 rounds.\n",
      "[50]\tvalid_0's binary_logloss: 0.0282379\tvalid_1's binary_logloss: 0.64277\n",
      "Early stopping, best iteration is:\n",
      "[36]\tvalid_0's binary_logloss: 0.0366251\tvalid_1's binary_logloss: 0.616067\n",
      "Training until validation scores don't improve for 30 rounds.\n",
      "Early stopping, best iteration is:\n",
      "[19]\tvalid_0's binary_logloss: 0.0775478\tvalid_1's binary_logloss: 0.659063\n",
      "Training until validation scores don't improve for 30 rounds.\n",
      "Early stopping, best iteration is:\n",
      "[13]\tvalid_0's binary_logloss: 0.119632\tvalid_1's binary_logloss: 0.629942\n",
      "Training until validation scores don't improve for 30 rounds.\n",
      "[50]\tvalid_0's binary_logloss: 0.0282379\tvalid_1's binary_logloss: 0.64277\n",
      "Early stopping, best iteration is:\n",
      "[36]\tvalid_0's binary_logloss: 0.0366251\tvalid_1's binary_logloss: 0.616067\n",
      "Training until validation scores don't improve for 30 rounds.\n",
      "Early stopping, best iteration is:\n",
      "[19]\tvalid_0's binary_logloss: 0.0775478\tvalid_1's binary_logloss: 0.659063\n",
      "Training until validation scores don't improve for 30 rounds.\n",
      "Early stopping, best iteration is:\n",
      "[13]\tvalid_0's binary_logloss: 0.119632\tvalid_1's binary_logloss: 0.629942\n",
      "Training until validation scores don't improve for 30 rounds.\n",
      "[50]\tvalid_0's binary_logloss: 0.0282379\tvalid_1's binary_logloss: 0.64277\n",
      "Early stopping, best iteration is:\n",
      "[36]\tvalid_0's binary_logloss: 0.0366251\tvalid_1's binary_logloss: 0.616067\n",
      "Training until validation scores don't improve for 30 rounds.\n",
      "Early stopping, best iteration is:\n",
      "[14]\tvalid_0's binary_logloss: 0.104682\tvalid_1's binary_logloss: 0.668992\n"
     ]
    },
    {
     "data": {
      "text/plain": [
       "GridSearchCV(cv='warn', error_score='raise-deprecating',\n",
       "       estimator=LGBMClassifier(boosting_type='gbdt', class_weight=None, colsample_bytree=1.0,\n",
       "        importance_type='split', learning_rate=0.1, max_depth=-1,\n",
       "        min_child_samples=20, min_child_weight=0.001, min_split_gain=0.0,\n",
       "        n_estimators=100, n_jobs=-1, num_leaves=31, objective=None,\n",
       "        random_state=None, reg_alpha=0.0, reg_lambda=0.0, silent=True,\n",
       "        subsample=1.0, subsample_for_bin=200000, subsample_freq=0,\n",
       "        verbose_eval=10),\n",
       "       fit_params=None, iid='warn', n_jobs=None,\n",
       "       param_grid={'max_depth': [5, 7, 9], 'min_child_weight': [1, 3], 'colsample_bytree': [0.5, 0.75], 'n_estimators': [100, 300, 500]},\n",
       "       pre_dispatch='2*n_jobs', refit=True, return_train_score='warn',\n",
       "       scoring=None, verbose=0)"
      ]
     },
     "execution_count": 87,
     "metadata": {},
     "output_type": "execute_result"
    }
   ],
   "source": [
    "#속도를 향상시키기 위해 n_estimators = 100으로 감소\n",
    "lgb = LGBMClassifier( n_jobs = -1, verbose_eval = 10)\n",
    "\n",
    "params = {\n",
    "    'max_depth' : [5,7,9],\n",
    "    'min_child_weight' : [1,3],\n",
    "    'colsample_bytree' : [0.5,0.75],\n",
    "    'n_estimators' : [100,300,500]\n",
    "}\n",
    "\n",
    "gridcv = GridSearchCV(lgb, param_grid=params)\n",
    "gridcv.fit(X_standard, y, early_stopping_rounds = 30, eval_metric = 'acc',\n",
    "                     eval_set = [(X_standard, y), (urine_X_standard, urine_y)], verbose=50)"
   ]
  },
  {
   "cell_type": "code",
   "execution_count": 88,
   "metadata": {
    "ExecuteTime": {
     "end_time": "2019-04-30T11:27:29.262037Z",
     "start_time": "2019-04-30T11:27:29.254108Z"
    }
   },
   "outputs": [
    {
     "name": "stdout",
     "output_type": "stream",
     "text": [
      "GridSearchCV best parameter :  {'colsample_bytree': 0.75, 'max_depth': 5, 'min_child_weight': 3, 'n_estimators': 100}\n"
     ]
    }
   ],
   "source": [
    "print('GridSearchCV best parameter : ', gridcv.best_params_)"
   ]
  },
  {
   "cell_type": "code",
   "execution_count": 89,
   "metadata": {
    "ExecuteTime": {
     "end_time": "2019-04-30T11:27:55.470218Z",
     "start_time": "2019-04-30T11:27:55.409699Z"
    }
   },
   "outputs": [
    {
     "name": "stdout",
     "output_type": "stream",
     "text": [
      "threshold ;  0.3\n",
      "accuracy : 0.6835 precision : 0.6711 recall : 1.0000 F1 : 0.8031 AUC : 0.5536\n",
      "[[ 3 25]\n",
      " [ 0 51]]\n",
      "\n",
      "\n",
      "threshold ;  0.4\n",
      "accuracy : 0.6076 precision : 0.6562 recall : 0.8235 F1 : 0.7304 AUC : 0.5189\n",
      "[[ 6 22]\n",
      " [ 9 42]]\n",
      "\n",
      "\n",
      "threshold ;  0.5\n",
      "accuracy : 0.6076 precision : 0.6852 recall : 0.7255 F1 : 0.7048 AUC : 0.5592\n",
      "[[11 17]\n",
      " [14 37]]\n",
      "\n",
      "\n",
      "threshold ;  0.6\n",
      "accuracy : 0.5443 precision : 0.6596 recall : 0.6078 F1 : 0.6327 AUC : 0.5182\n",
      "[[12 16]\n",
      " [20 31]]\n",
      "\n",
      "\n",
      "threshold ;  0.7\n",
      "accuracy : 0.5316 precision : 0.7059 recall : 0.4706 F1 : 0.5647 AUC : 0.5567\n",
      "[[18 10]\n",
      " [27 24]]\n",
      "\n",
      "\n"
     ]
    }
   ],
   "source": [
    "thresholds = [0.3,0.4,0.5,0.6,0.7]\n",
    "get_eval_by_threshold(urine_y, gridcv.predict_proba(urine_X_standard)[:,1].reshape(-1,1), thresholds)"
   ]
  },
  {
   "cell_type": "markdown",
   "metadata": {},
   "source": [
    "## minmaxscale\n",
    "- 똥"
   ]
  },
  {
   "cell_type": "code",
   "execution_count": 94,
   "metadata": {
    "ExecuteTime": {
     "end_time": "2019-04-30T11:53:11.197140Z",
     "start_time": "2019-04-30T11:48:05.094964Z"
    }
   },
   "outputs": [
    {
     "name": "stdout",
     "output_type": "stream",
     "text": [
      "Training until validation scores don't improve for 30 rounds.\n",
      "Early stopping, best iteration is:\n",
      "[18]\tvalid_0's binary_logloss: 0.0823816\tvalid_1's binary_logloss: 0.63433\n",
      "Training until validation scores don't improve for 30 rounds.\n",
      "Early stopping, best iteration is:\n",
      "[11]\tvalid_0's binary_logloss: 0.139827\tvalid_1's binary_logloss: 0.624891\n",
      "Training until validation scores don't improve for 30 rounds.\n",
      "Early stopping, best iteration is:\n",
      "[15]\tvalid_0's binary_logloss: 0.10349\tvalid_1's binary_logloss: 0.624566\n",
      "Training until validation scores don't improve for 30 rounds.\n",
      "Early stopping, best iteration is:\n",
      "[18]\tvalid_0's binary_logloss: 0.0823816\tvalid_1's binary_logloss: 0.63433\n",
      "Training until validation scores don't improve for 30 rounds.\n",
      "Early stopping, best iteration is:\n",
      "[11]\tvalid_0's binary_logloss: 0.139827\tvalid_1's binary_logloss: 0.624891\n",
      "Training until validation scores don't improve for 30 rounds.\n",
      "Early stopping, best iteration is:\n",
      "[15]\tvalid_0's binary_logloss: 0.10349\tvalid_1's binary_logloss: 0.624566\n",
      "Training until validation scores don't improve for 30 rounds.\n",
      "Early stopping, best iteration is:\n",
      "[18]\tvalid_0's binary_logloss: 0.0823816\tvalid_1's binary_logloss: 0.63433\n",
      "Training until validation scores don't improve for 30 rounds.\n",
      "Early stopping, best iteration is:\n",
      "[11]\tvalid_0's binary_logloss: 0.139827\tvalid_1's binary_logloss: 0.624891\n",
      "Training until validation scores don't improve for 30 rounds.\n",
      "Early stopping, best iteration is:\n",
      "[15]\tvalid_0's binary_logloss: 0.10349\tvalid_1's binary_logloss: 0.624566\n",
      "Training until validation scores don't improve for 30 rounds.\n",
      "Early stopping, best iteration is:\n",
      "[24]\tvalid_0's binary_logloss: 0.0602473\tvalid_1's binary_logloss: 0.616843\n",
      "Training until validation scores don't improve for 30 rounds.\n",
      "Early stopping, best iteration is:\n",
      "[11]\tvalid_0's binary_logloss: 0.139882\tvalid_1's binary_logloss: 0.625791\n",
      "Training until validation scores don't improve for 30 rounds.\n",
      "Early stopping, best iteration is:\n",
      "[27]\tvalid_0's binary_logloss: 0.0520495\tvalid_1's binary_logloss: 0.623705\n",
      "Training until validation scores don't improve for 30 rounds.\n",
      "Early stopping, best iteration is:\n",
      "[24]\tvalid_0's binary_logloss: 0.0602473\tvalid_1's binary_logloss: 0.616843\n",
      "Training until validation scores don't improve for 30 rounds.\n",
      "Early stopping, best iteration is:\n",
      "[11]\tvalid_0's binary_logloss: 0.139882\tvalid_1's binary_logloss: 0.625791\n",
      "Training until validation scores don't improve for 30 rounds.\n",
      "Early stopping, best iteration is:\n",
      "[27]\tvalid_0's binary_logloss: 0.0520495\tvalid_1's binary_logloss: 0.623705\n",
      "Training until validation scores don't improve for 30 rounds.\n",
      "Early stopping, best iteration is:\n",
      "[24]\tvalid_0's binary_logloss: 0.0602473\tvalid_1's binary_logloss: 0.616843\n",
      "Training until validation scores don't improve for 30 rounds.\n",
      "Early stopping, best iteration is:\n",
      "[11]\tvalid_0's binary_logloss: 0.139882\tvalid_1's binary_logloss: 0.625791\n",
      "Training until validation scores don't improve for 30 rounds.\n",
      "Early stopping, best iteration is:\n",
      "[27]\tvalid_0's binary_logloss: 0.0520495\tvalid_1's binary_logloss: 0.623705\n",
      "Training until validation scores don't improve for 30 rounds.\n",
      "Early stopping, best iteration is:\n",
      "[27]\tvalid_0's binary_logloss: 0.0476902\tvalid_1's binary_logloss: 0.616206\n",
      "Training until validation scores don't improve for 30 rounds.\n",
      "Early stopping, best iteration is:\n",
      "[13]\tvalid_0's binary_logloss: 0.119235\tvalid_1's binary_logloss: 0.618574\n",
      "Training until validation scores don't improve for 30 rounds.\n",
      "Early stopping, best iteration is:\n",
      "[15]\tvalid_0's binary_logloss: 0.0997895\tvalid_1's binary_logloss: 0.624265\n",
      "Training until validation scores don't improve for 30 rounds.\n",
      "Early stopping, best iteration is:\n",
      "[27]\tvalid_0's binary_logloss: 0.0476902\tvalid_1's binary_logloss: 0.616206\n",
      "Training until validation scores don't improve for 30 rounds.\n",
      "Early stopping, best iteration is:\n",
      "[13]\tvalid_0's binary_logloss: 0.119235\tvalid_1's binary_logloss: 0.618574\n",
      "Training until validation scores don't improve for 30 rounds.\n",
      "Early stopping, best iteration is:\n",
      "[15]\tvalid_0's binary_logloss: 0.0997895\tvalid_1's binary_logloss: 0.624265\n",
      "Training until validation scores don't improve for 30 rounds.\n",
      "Early stopping, best iteration is:\n",
      "[27]\tvalid_0's binary_logloss: 0.0476902\tvalid_1's binary_logloss: 0.616206\n",
      "Training until validation scores don't improve for 30 rounds.\n",
      "Early stopping, best iteration is:\n",
      "[13]\tvalid_0's binary_logloss: 0.119235\tvalid_1's binary_logloss: 0.618574\n",
      "Training until validation scores don't improve for 30 rounds.\n",
      "Early stopping, best iteration is:\n",
      "[15]\tvalid_0's binary_logloss: 0.0997895\tvalid_1's binary_logloss: 0.624265\n",
      "Training until validation scores don't improve for 30 rounds.\n",
      "Early stopping, best iteration is:\n",
      "[24]\tvalid_0's binary_logloss: 0.0598172\tvalid_1's binary_logloss: 0.6171\n",
      "Training until validation scores don't improve for 30 rounds.\n",
      "Early stopping, best iteration is:\n",
      "[12]\tvalid_0's binary_logloss: 0.128823\tvalid_1's binary_logloss: 0.626053\n",
      "Training until validation scores don't improve for 30 rounds.\n",
      "Early stopping, best iteration is:\n",
      "[27]\tvalid_0's binary_logloss: 0.0510165\tvalid_1's binary_logloss: 0.621388\n",
      "Training until validation scores don't improve for 30 rounds.\n",
      "Early stopping, best iteration is:\n",
      "[24]\tvalid_0's binary_logloss: 0.0598172\tvalid_1's binary_logloss: 0.6171\n",
      "Training until validation scores don't improve for 30 rounds.\n",
      "Early stopping, best iteration is:\n",
      "[12]\tvalid_0's binary_logloss: 0.128823\tvalid_1's binary_logloss: 0.626053\n",
      "Training until validation scores don't improve for 30 rounds.\n",
      "Early stopping, best iteration is:\n",
      "[27]\tvalid_0's binary_logloss: 0.0510165\tvalid_1's binary_logloss: 0.621388\n",
      "Training until validation scores don't improve for 30 rounds.\n",
      "Early stopping, best iteration is:\n",
      "[24]\tvalid_0's binary_logloss: 0.0598172\tvalid_1's binary_logloss: 0.6171\n",
      "Training until validation scores don't improve for 30 rounds.\n",
      "Early stopping, best iteration is:\n",
      "[12]\tvalid_0's binary_logloss: 0.128823\tvalid_1's binary_logloss: 0.626053\n",
      "Training until validation scores don't improve for 30 rounds.\n",
      "Early stopping, best iteration is:\n",
      "[27]\tvalid_0's binary_logloss: 0.0510165\tvalid_1's binary_logloss: 0.621388\n",
      "Training until validation scores don't improve for 30 rounds.\n",
      "Early stopping, best iteration is:\n",
      "[27]\tvalid_0's binary_logloss: 0.047673\tvalid_1's binary_logloss: 0.617349\n",
      "Training until validation scores don't improve for 30 rounds.\n",
      "Early stopping, best iteration is:\n",
      "[13]\tvalid_0's binary_logloss: 0.119184\tvalid_1's binary_logloss: 0.618386\n",
      "Training until validation scores don't improve for 30 rounds.\n",
      "Early stopping, best iteration is:\n",
      "[15]\tvalid_0's binary_logloss: 0.0996951\tvalid_1's binary_logloss: 0.620986\n",
      "Training until validation scores don't improve for 30 rounds.\n",
      "Early stopping, best iteration is:\n",
      "[27]\tvalid_0's binary_logloss: 0.047673\tvalid_1's binary_logloss: 0.617349\n",
      "Training until validation scores don't improve for 30 rounds.\n",
      "Early stopping, best iteration is:\n",
      "[13]\tvalid_0's binary_logloss: 0.119184\tvalid_1's binary_logloss: 0.618386\n",
      "Training until validation scores don't improve for 30 rounds.\n",
      "Early stopping, best iteration is:\n",
      "[15]\tvalid_0's binary_logloss: 0.0996951\tvalid_1's binary_logloss: 0.620986\n",
      "Training until validation scores don't improve for 30 rounds.\n",
      "Early stopping, best iteration is:\n",
      "[27]\tvalid_0's binary_logloss: 0.047673\tvalid_1's binary_logloss: 0.617349\n",
      "Training until validation scores don't improve for 30 rounds.\n",
      "Early stopping, best iteration is:\n",
      "[13]\tvalid_0's binary_logloss: 0.119184\tvalid_1's binary_logloss: 0.618386\n",
      "Training until validation scores don't improve for 30 rounds.\n",
      "Early stopping, best iteration is:\n",
      "[15]\tvalid_0's binary_logloss: 0.0996951\tvalid_1's binary_logloss: 0.620986\n",
      "Training until validation scores don't improve for 30 rounds.\n",
      "Early stopping, best iteration is:\n",
      "[23]\tvalid_0's binary_logloss: 0.0629243\tvalid_1's binary_logloss: 0.617253\n",
      "Training until validation scores don't improve for 30 rounds.\n",
      "Early stopping, best iteration is:\n",
      "[12]\tvalid_0's binary_logloss: 0.129016\tvalid_1's binary_logloss: 0.628602\n",
      "Training until validation scores don't improve for 30 rounds.\n",
      "Early stopping, best iteration is:\n",
      "[15]\tvalid_0's binary_logloss: 0.101496\tvalid_1's binary_logloss: 0.621269\n"
     ]
    },
    {
     "name": "stdout",
     "output_type": "stream",
     "text": [
      "Training until validation scores don't improve for 30 rounds.\n",
      "Early stopping, best iteration is:\n",
      "[23]\tvalid_0's binary_logloss: 0.0629243\tvalid_1's binary_logloss: 0.617253\n",
      "Training until validation scores don't improve for 30 rounds.\n",
      "Early stopping, best iteration is:\n",
      "[12]\tvalid_0's binary_logloss: 0.129016\tvalid_1's binary_logloss: 0.628602\n",
      "Training until validation scores don't improve for 30 rounds.\n",
      "Early stopping, best iteration is:\n",
      "[15]\tvalid_0's binary_logloss: 0.101496\tvalid_1's binary_logloss: 0.621269\n",
      "Training until validation scores don't improve for 30 rounds.\n",
      "Early stopping, best iteration is:\n",
      "[23]\tvalid_0's binary_logloss: 0.0629243\tvalid_1's binary_logloss: 0.617253\n",
      "Training until validation scores don't improve for 30 rounds.\n",
      "Early stopping, best iteration is:\n",
      "[12]\tvalid_0's binary_logloss: 0.129016\tvalid_1's binary_logloss: 0.628602\n",
      "Training until validation scores don't improve for 30 rounds.\n",
      "Early stopping, best iteration is:\n",
      "[15]\tvalid_0's binary_logloss: 0.101496\tvalid_1's binary_logloss: 0.621269\n",
      "Training until validation scores don't improve for 30 rounds.\n",
      "Early stopping, best iteration is:\n",
      "[29]\tvalid_0's binary_logloss: 0.0451036\tvalid_1's binary_logloss: 0.631478\n",
      "Training until validation scores don't improve for 30 rounds.\n",
      "Early stopping, best iteration is:\n",
      "[13]\tvalid_0's binary_logloss: 0.119493\tvalid_1's binary_logloss: 0.63642\n",
      "Training until validation scores don't improve for 30 rounds.\n",
      "Early stopping, best iteration is:\n",
      "[18]\tvalid_0's binary_logloss: 0.0839284\tvalid_1's binary_logloss: 0.610847\n",
      "Training until validation scores don't improve for 30 rounds.\n",
      "Early stopping, best iteration is:\n",
      "[29]\tvalid_0's binary_logloss: 0.0451036\tvalid_1's binary_logloss: 0.631478\n",
      "Training until validation scores don't improve for 30 rounds.\n",
      "Early stopping, best iteration is:\n",
      "[13]\tvalid_0's binary_logloss: 0.119493\tvalid_1's binary_logloss: 0.63642\n",
      "Training until validation scores don't improve for 30 rounds.\n",
      "Early stopping, best iteration is:\n",
      "[18]\tvalid_0's binary_logloss: 0.0839284\tvalid_1's binary_logloss: 0.610847\n",
      "Training until validation scores don't improve for 30 rounds.\n",
      "Early stopping, best iteration is:\n",
      "[29]\tvalid_0's binary_logloss: 0.0451036\tvalid_1's binary_logloss: 0.631478\n",
      "Training until validation scores don't improve for 30 rounds.\n",
      "Early stopping, best iteration is:\n",
      "[13]\tvalid_0's binary_logloss: 0.119493\tvalid_1's binary_logloss: 0.63642\n",
      "Training until validation scores don't improve for 30 rounds.\n",
      "Early stopping, best iteration is:\n",
      "[18]\tvalid_0's binary_logloss: 0.0839284\tvalid_1's binary_logloss: 0.610847\n",
      "Training until validation scores don't improve for 30 rounds.\n",
      "Early stopping, best iteration is:\n",
      "[29]\tvalid_0's binary_logloss: 0.0485015\tvalid_1's binary_logloss: 0.631914\n",
      "Training until validation scores don't improve for 30 rounds.\n",
      "Early stopping, best iteration is:\n",
      "[13]\tvalid_0's binary_logloss: 0.119324\tvalid_1's binary_logloss: 0.62277\n",
      "Training until validation scores don't improve for 30 rounds.\n",
      "Early stopping, best iteration is:\n",
      "[39]\tvalid_0's binary_logloss: 0.0366497\tvalid_1's binary_logloss: 0.603617\n",
      "Training until validation scores don't improve for 30 rounds.\n",
      "Early stopping, best iteration is:\n",
      "[29]\tvalid_0's binary_logloss: 0.0485015\tvalid_1's binary_logloss: 0.631914\n",
      "Training until validation scores don't improve for 30 rounds.\n",
      "Early stopping, best iteration is:\n",
      "[13]\tvalid_0's binary_logloss: 0.119324\tvalid_1's binary_logloss: 0.62277\n",
      "Training until validation scores don't improve for 30 rounds.\n",
      "Early stopping, best iteration is:\n",
      "[39]\tvalid_0's binary_logloss: 0.0366497\tvalid_1's binary_logloss: 0.603617\n",
      "Training until validation scores don't improve for 30 rounds.\n",
      "Early stopping, best iteration is:\n",
      "[29]\tvalid_0's binary_logloss: 0.0485015\tvalid_1's binary_logloss: 0.631914\n",
      "Training until validation scores don't improve for 30 rounds.\n",
      "Early stopping, best iteration is:\n",
      "[13]\tvalid_0's binary_logloss: 0.119324\tvalid_1's binary_logloss: 0.62277\n",
      "Training until validation scores don't improve for 30 rounds.\n",
      "Early stopping, best iteration is:\n",
      "[39]\tvalid_0's binary_logloss: 0.0366497\tvalid_1's binary_logloss: 0.603617\n",
      "Training until validation scores don't improve for 30 rounds.\n",
      "Early stopping, best iteration is:\n",
      "[24]\tvalid_0's binary_logloss: 0.0557342\tvalid_1's binary_logloss: 0.645366\n",
      "Training until validation scores don't improve for 30 rounds.\n",
      "Early stopping, best iteration is:\n",
      "[13]\tvalid_0's binary_logloss: 0.119067\tvalid_1's binary_logloss: 0.630011\n",
      "Training until validation scores don't improve for 30 rounds.\n",
      "Early stopping, best iteration is:\n",
      "[33]\tvalid_0's binary_logloss: 0.034875\tvalid_1's binary_logloss: 0.607032\n",
      "Training until validation scores don't improve for 30 rounds.\n",
      "Early stopping, best iteration is:\n",
      "[24]\tvalid_0's binary_logloss: 0.0557342\tvalid_1's binary_logloss: 0.645366\n",
      "Training until validation scores don't improve for 30 rounds.\n",
      "Early stopping, best iteration is:\n",
      "[13]\tvalid_0's binary_logloss: 0.119067\tvalid_1's binary_logloss: 0.630011\n",
      "Training until validation scores don't improve for 30 rounds.\n",
      "Early stopping, best iteration is:\n",
      "[33]\tvalid_0's binary_logloss: 0.034875\tvalid_1's binary_logloss: 0.607032\n",
      "Training until validation scores don't improve for 30 rounds.\n",
      "Early stopping, best iteration is:\n",
      "[24]\tvalid_0's binary_logloss: 0.0557342\tvalid_1's binary_logloss: 0.645366\n",
      "Training until validation scores don't improve for 30 rounds.\n",
      "Early stopping, best iteration is:\n",
      "[13]\tvalid_0's binary_logloss: 0.119067\tvalid_1's binary_logloss: 0.630011\n",
      "Training until validation scores don't improve for 30 rounds.\n",
      "Early stopping, best iteration is:\n",
      "[33]\tvalid_0's binary_logloss: 0.034875\tvalid_1's binary_logloss: 0.607032\n",
      "Training until validation scores don't improve for 30 rounds.\n",
      "Early stopping, best iteration is:\n",
      "[26]\tvalid_0's binary_logloss: 0.0538672\tvalid_1's binary_logloss: 0.617175\n",
      "Training until validation scores don't improve for 30 rounds.\n",
      "Early stopping, best iteration is:\n",
      "[12]\tvalid_0's binary_logloss: 0.12939\tvalid_1's binary_logloss: 0.620217\n",
      "Training until validation scores don't improve for 30 rounds.\n",
      "Early stopping, best iteration is:\n",
      "[33]\tvalid_0's binary_logloss: 0.040221\tvalid_1's binary_logloss: 0.605657\n",
      "Training until validation scores don't improve for 30 rounds.\n",
      "Early stopping, best iteration is:\n",
      "[26]\tvalid_0's binary_logloss: 0.0538672\tvalid_1's binary_logloss: 0.617175\n",
      "Training until validation scores don't improve for 30 rounds.\n",
      "Early stopping, best iteration is:\n",
      "[12]\tvalid_0's binary_logloss: 0.12939\tvalid_1's binary_logloss: 0.620217\n",
      "Training until validation scores don't improve for 30 rounds.\n",
      "Early stopping, best iteration is:\n",
      "[33]\tvalid_0's binary_logloss: 0.040221\tvalid_1's binary_logloss: 0.605657\n",
      "Training until validation scores don't improve for 30 rounds.\n",
      "Early stopping, best iteration is:\n",
      "[26]\tvalid_0's binary_logloss: 0.0538672\tvalid_1's binary_logloss: 0.617175\n",
      "Training until validation scores don't improve for 30 rounds.\n",
      "Early stopping, best iteration is:\n",
      "[12]\tvalid_0's binary_logloss: 0.12939\tvalid_1's binary_logloss: 0.620217\n",
      "Training until validation scores don't improve for 30 rounds.\n",
      "Early stopping, best iteration is:\n",
      "[33]\tvalid_0's binary_logloss: 0.040221\tvalid_1's binary_logloss: 0.605657\n",
      "Training until validation scores don't improve for 30 rounds.\n",
      "Early stopping, best iteration is:\n",
      "[28]\tvalid_0's binary_logloss: 0.0457115\tvalid_1's binary_logloss: 0.599532\n",
      "Training until validation scores don't improve for 30 rounds.\n",
      "Early stopping, best iteration is:\n",
      "[13]\tvalid_0's binary_logloss: 0.119033\tvalid_1's binary_logloss: 0.62996\n",
      "Training until validation scores don't improve for 30 rounds.\n",
      "Early stopping, best iteration is:\n",
      "[33]\tvalid_0's binary_logloss: 0.035197\tvalid_1's binary_logloss: 0.594568\n",
      "Training until validation scores don't improve for 30 rounds.\n",
      "Early stopping, best iteration is:\n",
      "[28]\tvalid_0's binary_logloss: 0.0457115\tvalid_1's binary_logloss: 0.599532\n",
      "Training until validation scores don't improve for 30 rounds.\n",
      "Early stopping, best iteration is:\n",
      "[13]\tvalid_0's binary_logloss: 0.119033\tvalid_1's binary_logloss: 0.62996\n",
      "Training until validation scores don't improve for 30 rounds.\n",
      "Early stopping, best iteration is:\n",
      "[33]\tvalid_0's binary_logloss: 0.035197\tvalid_1's binary_logloss: 0.594568\n"
     ]
    },
    {
     "name": "stdout",
     "output_type": "stream",
     "text": [
      "Training until validation scores don't improve for 30 rounds.\n",
      "Early stopping, best iteration is:\n",
      "[28]\tvalid_0's binary_logloss: 0.0457115\tvalid_1's binary_logloss: 0.599532\n",
      "Training until validation scores don't improve for 30 rounds.\n",
      "Early stopping, best iteration is:\n",
      "[13]\tvalid_0's binary_logloss: 0.119033\tvalid_1's binary_logloss: 0.62996\n",
      "Training until validation scores don't improve for 30 rounds.\n",
      "Early stopping, best iteration is:\n",
      "[33]\tvalid_0's binary_logloss: 0.035197\tvalid_1's binary_logloss: 0.594568\n",
      "Training until validation scores don't improve for 30 rounds.\n",
      "Early stopping, best iteration is:\n",
      "[25]\tvalid_0's binary_logloss: 0.0571256\tvalid_1's binary_logloss: 0.621581\n",
      "Training until validation scores don't improve for 30 rounds.\n",
      "Early stopping, best iteration is:\n",
      "[12]\tvalid_0's binary_logloss: 0.129383\tvalid_1's binary_logloss: 0.620125\n",
      "Training until validation scores don't improve for 30 rounds.\n",
      "Early stopping, best iteration is:\n",
      "[42]\tvalid_0's binary_logloss: 0.0323893\tvalid_1's binary_logloss: 0.581953\n",
      "Training until validation scores don't improve for 30 rounds.\n",
      "Early stopping, best iteration is:\n",
      "[25]\tvalid_0's binary_logloss: 0.0571256\tvalid_1's binary_logloss: 0.621581\n",
      "Training until validation scores don't improve for 30 rounds.\n",
      "Early stopping, best iteration is:\n",
      "[12]\tvalid_0's binary_logloss: 0.129383\tvalid_1's binary_logloss: 0.620125\n",
      "Training until validation scores don't improve for 30 rounds.\n",
      "Early stopping, best iteration is:\n",
      "[42]\tvalid_0's binary_logloss: 0.0323893\tvalid_1's binary_logloss: 0.581953\n",
      "Training until validation scores don't improve for 30 rounds.\n",
      "Early stopping, best iteration is:\n",
      "[25]\tvalid_0's binary_logloss: 0.0571256\tvalid_1's binary_logloss: 0.621581\n",
      "Training until validation scores don't improve for 30 rounds.\n",
      "Early stopping, best iteration is:\n",
      "[12]\tvalid_0's binary_logloss: 0.129383\tvalid_1's binary_logloss: 0.620125\n",
      "Training until validation scores don't improve for 30 rounds.\n",
      "Early stopping, best iteration is:\n",
      "[42]\tvalid_0's binary_logloss: 0.0323893\tvalid_1's binary_logloss: 0.581953\n",
      "Training until validation scores don't improve for 30 rounds.\n",
      "Early stopping, best iteration is:\n",
      "[14]\tvalid_0's binary_logloss: 0.105136\tvalid_1's binary_logloss: 0.646957\n"
     ]
    },
    {
     "data": {
      "text/plain": [
       "GridSearchCV(cv='warn', error_score='raise-deprecating',\n",
       "       estimator=LGBMClassifier(boosting_type='gbdt', class_weight=None, colsample_bytree=1.0,\n",
       "        importance_type='split', learning_rate=0.1, max_depth=-1,\n",
       "        min_child_samples=20, min_child_weight=0.001, min_split_gain=0.0,\n",
       "        n_estimators=100, n_jobs=-1, num_leaves=31, objective=None,\n",
       "        random_state=None, reg_alpha=0.0, reg_lambda=0.0, silent=True,\n",
       "        subsample=1.0, subsample_for_bin=200000, subsample_freq=0,\n",
       "        verbose_eval=10),\n",
       "       fit_params=None, iid='warn', n_jobs=None,\n",
       "       param_grid={'max_depth': [5, 7, 9], 'min_child_weight': [1, 3], 'colsample_bytree': [0.5, 0.75], 'n_estimators': [100, 300, 500]},\n",
       "       pre_dispatch='2*n_jobs', refit=True, return_train_score='warn',\n",
       "       scoring=None, verbose=0)"
      ]
     },
     "execution_count": 94,
     "metadata": {},
     "output_type": "execute_result"
    }
   ],
   "source": [
    "params = {\n",
    "    'max_depth' : [5,7,9],\n",
    "    'min_child_weight' : [1,3],\n",
    "    'colsample_bytree' : [0.5,0.75],\n",
    "    'n_estimators' : [100,300,500]\n",
    "}\n",
    "\n",
    "gridcv = GridSearchCV(lgb, param_grid=params)\n",
    "gridcv.fit(X_mms, y, early_stopping_rounds = 30, eval_metric = 'acc',\n",
    "                     eval_set = [(X_mms, y), (urine_X_mms, urine_y)], verbose=100)"
   ]
  },
  {
   "cell_type": "code",
   "execution_count": 95,
   "metadata": {
    "ExecuteTime": {
     "end_time": "2019-04-30T11:59:11.456683Z",
     "start_time": "2019-04-30T11:59:11.450700Z"
    }
   },
   "outputs": [
    {
     "name": "stdout",
     "output_type": "stream",
     "text": [
      "GridSearchCV best parameter :  {'colsample_bytree': 0.5, 'max_depth': 5, 'min_child_weight': 3, 'n_estimators': 100}\n"
     ]
    }
   ],
   "source": [
    "print('GridSearchCV best parameter : ', gridcv.best_params_)"
   ]
  },
  {
   "cell_type": "code",
   "execution_count": 96,
   "metadata": {
    "ExecuteTime": {
     "end_time": "2019-04-30T11:59:16.299203Z",
     "start_time": "2019-04-30T11:59:16.249340Z"
    }
   },
   "outputs": [
    {
     "name": "stdout",
     "output_type": "stream",
     "text": [
      "threshold ;  0.3\n",
      "accuracy : 0.6456 precision : 0.6494 recall : 0.9804 F1 : 0.7812 AUC : 0.5081\n",
      "[[ 1 27]\n",
      " [ 1 50]]\n",
      "\n",
      "\n",
      "threshold ;  0.4\n",
      "accuracy : 0.6709 precision : 0.6812 recall : 0.9216 F1 : 0.7833 AUC : 0.5679\n",
      "[[ 6 22]\n",
      " [ 4 47]]\n",
      "\n",
      "\n",
      "threshold ;  0.5\n",
      "accuracy : 0.6203 precision : 0.6780 recall : 0.7843 F1 : 0.7273 AUC : 0.5529\n",
      "[[ 9 19]\n",
      " [11 40]]\n",
      "\n",
      "\n",
      "threshold ;  0.6\n",
      "accuracy : 0.5949 precision : 0.7021 recall : 0.6471 F1 : 0.6735 AUC : 0.5735\n",
      "[[14 14]\n",
      " [18 33]]\n",
      "\n",
      "\n",
      "threshold ;  0.7\n",
      "accuracy : 0.4430 precision : 0.6207 recall : 0.3529 F1 : 0.4500 AUC : 0.4800\n",
      "[[17 11]\n",
      " [33 18]]\n",
      "\n",
      "\n"
     ]
    }
   ],
   "source": [
    "thresholds = [0.3,0.4,0.5,0.6,0.7]\n",
    "get_eval_by_threshold(urine_y, gridcv.predict_proba(urine_X_mms)[:,1].reshape(-1,1), thresholds)"
   ]
  },
  {
   "cell_type": "markdown",
   "metadata": {},
   "source": [
    "## mas"
   ]
  },
  {
   "cell_type": "code",
   "execution_count": 97,
   "metadata": {
    "ExecuteTime": {
     "end_time": "2019-04-30T12:02:57.553767Z",
     "start_time": "2019-04-30T11:59:42.243854Z"
    }
   },
   "outputs": [
    {
     "name": "stdout",
     "output_type": "stream",
     "text": [
      "Training until validation scores don't improve for 30 rounds.\n",
      "Early stopping, best iteration is:\n",
      "[23]\tvalid_0's binary_logloss: 0.0609068\tvalid_1's binary_logloss: 0.627913\n",
      "Training until validation scores don't improve for 30 rounds.\n",
      "Early stopping, best iteration is:\n",
      "[14]\tvalid_0's binary_logloss: 0.111846\tvalid_1's binary_logloss: 0.62775\n",
      "Training until validation scores don't improve for 30 rounds.\n",
      "Early stopping, best iteration is:\n",
      "[58]\tvalid_0's binary_logloss: 0.0233345\tvalid_1's binary_logloss: 0.567097\n",
      "Training until validation scores don't improve for 30 rounds.\n",
      "Early stopping, best iteration is:\n",
      "[23]\tvalid_0's binary_logloss: 0.0609068\tvalid_1's binary_logloss: 0.627913\n",
      "Training until validation scores don't improve for 30 rounds.\n",
      "Early stopping, best iteration is:\n",
      "[14]\tvalid_0's binary_logloss: 0.111846\tvalid_1's binary_logloss: 0.62775\n",
      "Training until validation scores don't improve for 30 rounds.\n",
      "Early stopping, best iteration is:\n",
      "[58]\tvalid_0's binary_logloss: 0.0233345\tvalid_1's binary_logloss: 0.567097\n",
      "Training until validation scores don't improve for 30 rounds.\n",
      "Early stopping, best iteration is:\n",
      "[23]\tvalid_0's binary_logloss: 0.0609068\tvalid_1's binary_logloss: 0.627913\n",
      "Training until validation scores don't improve for 30 rounds.\n",
      "Early stopping, best iteration is:\n",
      "[14]\tvalid_0's binary_logloss: 0.111846\tvalid_1's binary_logloss: 0.62775\n",
      "Training until validation scores don't improve for 30 rounds.\n",
      "Early stopping, best iteration is:\n",
      "[58]\tvalid_0's binary_logloss: 0.0233345\tvalid_1's binary_logloss: 0.567097\n",
      "Training until validation scores don't improve for 30 rounds.\n",
      "Early stopping, best iteration is:\n",
      "[22]\tvalid_0's binary_logloss: 0.0659651\tvalid_1's binary_logloss: 0.61535\n",
      "Training until validation scores don't improve for 30 rounds.\n",
      "Early stopping, best iteration is:\n",
      "[15]\tvalid_0's binary_logloss: 0.104421\tvalid_1's binary_logloss: 0.634332\n",
      "Training until validation scores don't improve for 30 rounds.\n",
      "Early stopping, best iteration is:\n",
      "[40]\tvalid_0's binary_logloss: 0.0357543\tvalid_1's binary_logloss: 0.635671\n",
      "Training until validation scores don't improve for 30 rounds.\n",
      "Early stopping, best iteration is:\n",
      "[22]\tvalid_0's binary_logloss: 0.0659651\tvalid_1's binary_logloss: 0.61535\n",
      "Training until validation scores don't improve for 30 rounds.\n",
      "Early stopping, best iteration is:\n",
      "[15]\tvalid_0's binary_logloss: 0.104421\tvalid_1's binary_logloss: 0.634332\n",
      "Training until validation scores don't improve for 30 rounds.\n",
      "Early stopping, best iteration is:\n",
      "[40]\tvalid_0's binary_logloss: 0.0357543\tvalid_1's binary_logloss: 0.635671\n",
      "Training until validation scores don't improve for 30 rounds.\n",
      "Early stopping, best iteration is:\n",
      "[22]\tvalid_0's binary_logloss: 0.0659651\tvalid_1's binary_logloss: 0.61535\n",
      "Training until validation scores don't improve for 30 rounds.\n",
      "Early stopping, best iteration is:\n",
      "[15]\tvalid_0's binary_logloss: 0.104421\tvalid_1's binary_logloss: 0.634332\n",
      "Training until validation scores don't improve for 30 rounds.\n",
      "Early stopping, best iteration is:\n",
      "[40]\tvalid_0's binary_logloss: 0.0357543\tvalid_1's binary_logloss: 0.635671\n",
      "Training until validation scores don't improve for 30 rounds.\n",
      "Early stopping, best iteration is:\n",
      "[23]\tvalid_0's binary_logloss: 0.0585993\tvalid_1's binary_logloss: 0.636081\n",
      "Training until validation scores don't improve for 30 rounds.\n",
      "Early stopping, best iteration is:\n",
      "[14]\tvalid_0's binary_logloss: 0.110911\tvalid_1's binary_logloss: 0.624082\n",
      "Training until validation scores don't improve for 30 rounds.\n",
      "Early stopping, best iteration is:\n",
      "[32]\tvalid_0's binary_logloss: 0.0369822\tvalid_1's binary_logloss: 0.632828\n",
      "Training until validation scores don't improve for 30 rounds.\n",
      "Early stopping, best iteration is:\n",
      "[23]\tvalid_0's binary_logloss: 0.0585993\tvalid_1's binary_logloss: 0.636081\n",
      "Training until validation scores don't improve for 30 rounds.\n",
      "Early stopping, best iteration is:\n",
      "[14]\tvalid_0's binary_logloss: 0.110911\tvalid_1's binary_logloss: 0.624082\n",
      "Training until validation scores don't improve for 30 rounds.\n",
      "Early stopping, best iteration is:\n",
      "[32]\tvalid_0's binary_logloss: 0.0369822\tvalid_1's binary_logloss: 0.632828\n",
      "Training until validation scores don't improve for 30 rounds.\n",
      "Early stopping, best iteration is:\n",
      "[23]\tvalid_0's binary_logloss: 0.0585993\tvalid_1's binary_logloss: 0.636081\n",
      "Training until validation scores don't improve for 30 rounds.\n",
      "Early stopping, best iteration is:\n",
      "[14]\tvalid_0's binary_logloss: 0.110911\tvalid_1's binary_logloss: 0.624082\n",
      "Training until validation scores don't improve for 30 rounds.\n",
      "Early stopping, best iteration is:\n",
      "[32]\tvalid_0's binary_logloss: 0.0369822\tvalid_1's binary_logloss: 0.632828\n",
      "Training until validation scores don't improve for 30 rounds.\n",
      "Early stopping, best iteration is:\n",
      "[23]\tvalid_0's binary_logloss: 0.0624507\tvalid_1's binary_logloss: 0.611066\n",
      "Training until validation scores don't improve for 30 rounds.\n",
      "Early stopping, best iteration is:\n",
      "[14]\tvalid_0's binary_logloss: 0.112427\tvalid_1's binary_logloss: 0.633526\n",
      "Training until validation scores don't improve for 30 rounds.\n",
      "Early stopping, best iteration is:\n",
      "[47]\tvalid_0's binary_logloss: 0.0309642\tvalid_1's binary_logloss: 0.617078\n",
      "Training until validation scores don't improve for 30 rounds.\n",
      "Early stopping, best iteration is:\n",
      "[23]\tvalid_0's binary_logloss: 0.0624507\tvalid_1's binary_logloss: 0.611066\n",
      "Training until validation scores don't improve for 30 rounds.\n",
      "Early stopping, best iteration is:\n",
      "[14]\tvalid_0's binary_logloss: 0.112427\tvalid_1's binary_logloss: 0.633526\n",
      "Training until validation scores don't improve for 30 rounds.\n",
      "Early stopping, best iteration is:\n",
      "[47]\tvalid_0's binary_logloss: 0.0309642\tvalid_1's binary_logloss: 0.617078\n",
      "Training until validation scores don't improve for 30 rounds.\n",
      "Early stopping, best iteration is:\n",
      "[23]\tvalid_0's binary_logloss: 0.0624507\tvalid_1's binary_logloss: 0.611066\n",
      "Training until validation scores don't improve for 30 rounds.\n",
      "Early stopping, best iteration is:\n",
      "[14]\tvalid_0's binary_logloss: 0.112427\tvalid_1's binary_logloss: 0.633526\n",
      "Training until validation scores don't improve for 30 rounds.\n",
      "Early stopping, best iteration is:\n",
      "[47]\tvalid_0's binary_logloss: 0.0309642\tvalid_1's binary_logloss: 0.617078\n",
      "Training until validation scores don't improve for 30 rounds.\n",
      "Early stopping, best iteration is:\n",
      "[23]\tvalid_0's binary_logloss: 0.0585736\tvalid_1's binary_logloss: 0.636301\n",
      "Training until validation scores don't improve for 30 rounds.\n",
      "Early stopping, best iteration is:\n",
      "[14]\tvalid_0's binary_logloss: 0.11073\tvalid_1's binary_logloss: 0.625743\n",
      "Training until validation scores don't improve for 30 rounds.\n",
      "Early stopping, best iteration is:\n",
      "[17]\tvalid_0's binary_logloss: 0.0867545\tvalid_1's binary_logloss: 0.637387\n",
      "Training until validation scores don't improve for 30 rounds.\n",
      "Early stopping, best iteration is:\n",
      "[23]\tvalid_0's binary_logloss: 0.0585736\tvalid_1's binary_logloss: 0.636301\n",
      "Training until validation scores don't improve for 30 rounds.\n",
      "Early stopping, best iteration is:\n",
      "[14]\tvalid_0's binary_logloss: 0.11073\tvalid_1's binary_logloss: 0.625743\n",
      "Training until validation scores don't improve for 30 rounds.\n",
      "Early stopping, best iteration is:\n",
      "[17]\tvalid_0's binary_logloss: 0.0867545\tvalid_1's binary_logloss: 0.637387\n",
      "Training until validation scores don't improve for 30 rounds.\n",
      "Early stopping, best iteration is:\n",
      "[23]\tvalid_0's binary_logloss: 0.0585736\tvalid_1's binary_logloss: 0.636301\n",
      "Training until validation scores don't improve for 30 rounds.\n",
      "Early stopping, best iteration is:\n",
      "[14]\tvalid_0's binary_logloss: 0.11073\tvalid_1's binary_logloss: 0.625743\n",
      "Training until validation scores don't improve for 30 rounds.\n",
      "Early stopping, best iteration is:\n",
      "[17]\tvalid_0's binary_logloss: 0.0867545\tvalid_1's binary_logloss: 0.637387\n",
      "Training until validation scores don't improve for 30 rounds.\n",
      "Early stopping, best iteration is:\n",
      "[23]\tvalid_0's binary_logloss: 0.0624349\tvalid_1's binary_logloss: 0.61086\n",
      "Training until validation scores don't improve for 30 rounds.\n",
      "Early stopping, best iteration is:\n",
      "[14]\tvalid_0's binary_logloss: 0.112411\tvalid_1's binary_logloss: 0.632925\n",
      "Training until validation scores don't improve for 30 rounds.\n",
      "Early stopping, best iteration is:\n",
      "[58]\tvalid_0's binary_logloss: 0.027093\tvalid_1's binary_logloss: 0.604112\n"
     ]
    },
    {
     "name": "stdout",
     "output_type": "stream",
     "text": [
      "Training until validation scores don't improve for 30 rounds.\n",
      "Early stopping, best iteration is:\n",
      "[23]\tvalid_0's binary_logloss: 0.0624349\tvalid_1's binary_logloss: 0.61086\n",
      "Training until validation scores don't improve for 30 rounds.\n",
      "Early stopping, best iteration is:\n",
      "[14]\tvalid_0's binary_logloss: 0.112411\tvalid_1's binary_logloss: 0.632925\n",
      "Training until validation scores don't improve for 30 rounds.\n",
      "Early stopping, best iteration is:\n",
      "[58]\tvalid_0's binary_logloss: 0.027093\tvalid_1's binary_logloss: 0.604112\n",
      "Training until validation scores don't improve for 30 rounds.\n",
      "Early stopping, best iteration is:\n",
      "[23]\tvalid_0's binary_logloss: 0.0624349\tvalid_1's binary_logloss: 0.61086\n",
      "Training until validation scores don't improve for 30 rounds.\n",
      "Early stopping, best iteration is:\n",
      "[14]\tvalid_0's binary_logloss: 0.112411\tvalid_1's binary_logloss: 0.632925\n",
      "Training until validation scores don't improve for 30 rounds.\n",
      "Early stopping, best iteration is:\n",
      "[58]\tvalid_0's binary_logloss: 0.027093\tvalid_1's binary_logloss: 0.604112\n",
      "Training until validation scores don't improve for 30 rounds.\n",
      "Early stopping, best iteration is:\n",
      "[26]\tvalid_0's binary_logloss: 0.0510116\tvalid_1's binary_logloss: 0.649536\n",
      "Training until validation scores don't improve for 30 rounds.\n",
      "Early stopping, best iteration is:\n",
      "[15]\tvalid_0's binary_logloss: 0.103694\tvalid_1's binary_logloss: 0.634624\n",
      "Training until validation scores don't improve for 30 rounds.\n",
      "Early stopping, best iteration is:\n",
      "[19]\tvalid_0's binary_logloss: 0.0789609\tvalid_1's binary_logloss: 0.655507\n",
      "Training until validation scores don't improve for 30 rounds.\n",
      "Early stopping, best iteration is:\n",
      "[26]\tvalid_0's binary_logloss: 0.0510116\tvalid_1's binary_logloss: 0.649536\n",
      "Training until validation scores don't improve for 30 rounds.\n",
      "Early stopping, best iteration is:\n",
      "[15]\tvalid_0's binary_logloss: 0.103694\tvalid_1's binary_logloss: 0.634624\n",
      "Training until validation scores don't improve for 30 rounds.\n",
      "Early stopping, best iteration is:\n",
      "[19]\tvalid_0's binary_logloss: 0.0789609\tvalid_1's binary_logloss: 0.655507\n",
      "Training until validation scores don't improve for 30 rounds.\n",
      "Early stopping, best iteration is:\n",
      "[26]\tvalid_0's binary_logloss: 0.0510116\tvalid_1's binary_logloss: 0.649536\n",
      "Training until validation scores don't improve for 30 rounds.\n",
      "Early stopping, best iteration is:\n",
      "[15]\tvalid_0's binary_logloss: 0.103694\tvalid_1's binary_logloss: 0.634624\n",
      "Training until validation scores don't improve for 30 rounds.\n",
      "Early stopping, best iteration is:\n",
      "[19]\tvalid_0's binary_logloss: 0.0789609\tvalid_1's binary_logloss: 0.655507\n",
      "Training until validation scores don't improve for 30 rounds.\n",
      "Early stopping, best iteration is:\n",
      "[28]\tvalid_0's binary_logloss: 0.0497328\tvalid_1's binary_logloss: 0.634388\n",
      "Training until validation scores don't improve for 30 rounds.\n",
      "Early stopping, best iteration is:\n",
      "[12]\tvalid_0's binary_logloss: 0.129282\tvalid_1's binary_logloss: 0.63192\n",
      "Training until validation scores don't improve for 30 rounds.\n",
      "Early stopping, best iteration is:\n",
      "[57]\tvalid_0's binary_logloss: 0.0271044\tvalid_1's binary_logloss: 0.626609\n",
      "Training until validation scores don't improve for 30 rounds.\n",
      "Early stopping, best iteration is:\n",
      "[28]\tvalid_0's binary_logloss: 0.0497328\tvalid_1's binary_logloss: 0.634388\n",
      "Training until validation scores don't improve for 30 rounds.\n",
      "Early stopping, best iteration is:\n",
      "[12]\tvalid_0's binary_logloss: 0.129282\tvalid_1's binary_logloss: 0.63192\n",
      "Training until validation scores don't improve for 30 rounds.\n",
      "Early stopping, best iteration is:\n",
      "[57]\tvalid_0's binary_logloss: 0.0271044\tvalid_1's binary_logloss: 0.626609\n",
      "Training until validation scores don't improve for 30 rounds.\n",
      "Early stopping, best iteration is:\n",
      "[28]\tvalid_0's binary_logloss: 0.0497328\tvalid_1's binary_logloss: 0.634388\n",
      "Training until validation scores don't improve for 30 rounds.\n",
      "Early stopping, best iteration is:\n",
      "[12]\tvalid_0's binary_logloss: 0.129282\tvalid_1's binary_logloss: 0.63192\n",
      "Training until validation scores don't improve for 30 rounds.\n",
      "Early stopping, best iteration is:\n",
      "[57]\tvalid_0's binary_logloss: 0.0271044\tvalid_1's binary_logloss: 0.626609\n",
      "Training until validation scores don't improve for 30 rounds.\n",
      "Early stopping, best iteration is:\n",
      "[30]\tvalid_0's binary_logloss: 0.0412693\tvalid_1's binary_logloss: 0.64136\n",
      "Training until validation scores don't improve for 30 rounds.\n",
      "Early stopping, best iteration is:\n",
      "[15]\tvalid_0's binary_logloss: 0.104102\tvalid_1's binary_logloss: 0.636165\n",
      "Training until validation scores don't improve for 30 rounds.\n",
      "Early stopping, best iteration is:\n",
      "[46]\tvalid_0's binary_logloss: 0.0258421\tvalid_1's binary_logloss: 0.62042\n",
      "Training until validation scores don't improve for 30 rounds.\n",
      "Early stopping, best iteration is:\n",
      "[30]\tvalid_0's binary_logloss: 0.0412693\tvalid_1's binary_logloss: 0.64136\n",
      "Training until validation scores don't improve for 30 rounds.\n",
      "Early stopping, best iteration is:\n",
      "[15]\tvalid_0's binary_logloss: 0.104102\tvalid_1's binary_logloss: 0.636165\n",
      "Training until validation scores don't improve for 30 rounds.\n",
      "Early stopping, best iteration is:\n",
      "[46]\tvalid_0's binary_logloss: 0.0258421\tvalid_1's binary_logloss: 0.62042\n",
      "Training until validation scores don't improve for 30 rounds.\n",
      "Early stopping, best iteration is:\n",
      "[30]\tvalid_0's binary_logloss: 0.0412693\tvalid_1's binary_logloss: 0.64136\n",
      "Training until validation scores don't improve for 30 rounds.\n",
      "Early stopping, best iteration is:\n",
      "[15]\tvalid_0's binary_logloss: 0.104102\tvalid_1's binary_logloss: 0.636165\n",
      "Training until validation scores don't improve for 30 rounds.\n",
      "Early stopping, best iteration is:\n",
      "[46]\tvalid_0's binary_logloss: 0.0258421\tvalid_1's binary_logloss: 0.62042\n",
      "Training until validation scores don't improve for 30 rounds.\n",
      "Early stopping, best iteration is:\n",
      "[27]\tvalid_0's binary_logloss: 0.0512175\tvalid_1's binary_logloss: 0.647602\n",
      "Training until validation scores don't improve for 30 rounds.\n",
      "Early stopping, best iteration is:\n",
      "[12]\tvalid_0's binary_logloss: 0.128807\tvalid_1's binary_logloss: 0.637667\n",
      "Training until validation scores don't improve for 30 rounds.\n",
      "Early stopping, best iteration is:\n",
      "[26]\tvalid_0's binary_logloss: 0.0537993\tvalid_1's binary_logloss: 0.640852\n",
      "Training until validation scores don't improve for 30 rounds.\n",
      "Early stopping, best iteration is:\n",
      "[27]\tvalid_0's binary_logloss: 0.0512175\tvalid_1's binary_logloss: 0.647602\n",
      "Training until validation scores don't improve for 30 rounds.\n",
      "Early stopping, best iteration is:\n",
      "[12]\tvalid_0's binary_logloss: 0.128807\tvalid_1's binary_logloss: 0.637667\n",
      "Training until validation scores don't improve for 30 rounds.\n",
      "Early stopping, best iteration is:\n",
      "[26]\tvalid_0's binary_logloss: 0.0537993\tvalid_1's binary_logloss: 0.640852\n",
      "Training until validation scores don't improve for 30 rounds.\n",
      "Early stopping, best iteration is:\n",
      "[27]\tvalid_0's binary_logloss: 0.0512175\tvalid_1's binary_logloss: 0.647602\n",
      "Training until validation scores don't improve for 30 rounds.\n",
      "Early stopping, best iteration is:\n",
      "[12]\tvalid_0's binary_logloss: 0.128807\tvalid_1's binary_logloss: 0.637667\n",
      "Training until validation scores don't improve for 30 rounds.\n",
      "Early stopping, best iteration is:\n",
      "[26]\tvalid_0's binary_logloss: 0.0537993\tvalid_1's binary_logloss: 0.640852\n",
      "Training until validation scores don't improve for 30 rounds.\n",
      "Early stopping, best iteration is:\n",
      "[30]\tvalid_0's binary_logloss: 0.0412123\tvalid_1's binary_logloss: 0.64682\n",
      "Training until validation scores don't improve for 30 rounds.\n",
      "Early stopping, best iteration is:\n",
      "[15]\tvalid_0's binary_logloss: 0.103865\tvalid_1's binary_logloss: 0.636023\n",
      "Training until validation scores don't improve for 30 rounds.\n",
      "Early stopping, best iteration is:\n",
      "[32]\tvalid_0's binary_logloss: 0.0361969\tvalid_1's binary_logloss: 0.64517\n",
      "Training until validation scores don't improve for 30 rounds.\n",
      "Early stopping, best iteration is:\n",
      "[30]\tvalid_0's binary_logloss: 0.0412123\tvalid_1's binary_logloss: 0.64682\n",
      "Training until validation scores don't improve for 30 rounds.\n",
      "Early stopping, best iteration is:\n",
      "[15]\tvalid_0's binary_logloss: 0.103865\tvalid_1's binary_logloss: 0.636023\n",
      "Training until validation scores don't improve for 30 rounds.\n",
      "Early stopping, best iteration is:\n",
      "[32]\tvalid_0's binary_logloss: 0.0361969\tvalid_1's binary_logloss: 0.64517\n"
     ]
    },
    {
     "name": "stdout",
     "output_type": "stream",
     "text": [
      "Training until validation scores don't improve for 30 rounds.\n",
      "Early stopping, best iteration is:\n",
      "[30]\tvalid_0's binary_logloss: 0.0412123\tvalid_1's binary_logloss: 0.64682\n",
      "Training until validation scores don't improve for 30 rounds.\n",
      "Early stopping, best iteration is:\n",
      "[15]\tvalid_0's binary_logloss: 0.103865\tvalid_1's binary_logloss: 0.636023\n",
      "Training until validation scores don't improve for 30 rounds.\n",
      "Early stopping, best iteration is:\n",
      "[32]\tvalid_0's binary_logloss: 0.0361969\tvalid_1's binary_logloss: 0.64517\n",
      "Training until validation scores don't improve for 30 rounds.\n",
      "Early stopping, best iteration is:\n",
      "[29]\tvalid_0's binary_logloss: 0.0472056\tvalid_1's binary_logloss: 0.64148\n",
      "Training until validation scores don't improve for 30 rounds.\n",
      "Early stopping, best iteration is:\n",
      "[12]\tvalid_0's binary_logloss: 0.128847\tvalid_1's binary_logloss: 0.637633\n",
      "Training until validation scores don't improve for 30 rounds.\n",
      "Early stopping, best iteration is:\n",
      "[32]\tvalid_0's binary_logloss: 0.04146\tvalid_1's binary_logloss: 0.624803\n",
      "Training until validation scores don't improve for 30 rounds.\n",
      "Early stopping, best iteration is:\n",
      "[29]\tvalid_0's binary_logloss: 0.0472056\tvalid_1's binary_logloss: 0.64148\n",
      "Training until validation scores don't improve for 30 rounds.\n",
      "Early stopping, best iteration is:\n",
      "[12]\tvalid_0's binary_logloss: 0.128847\tvalid_1's binary_logloss: 0.637633\n",
      "Training until validation scores don't improve for 30 rounds.\n",
      "Early stopping, best iteration is:\n",
      "[32]\tvalid_0's binary_logloss: 0.04146\tvalid_1's binary_logloss: 0.624803\n",
      "Training until validation scores don't improve for 30 rounds.\n",
      "Early stopping, best iteration is:\n",
      "[29]\tvalid_0's binary_logloss: 0.0472056\tvalid_1's binary_logloss: 0.64148\n",
      "Training until validation scores don't improve for 30 rounds.\n",
      "Early stopping, best iteration is:\n",
      "[12]\tvalid_0's binary_logloss: 0.128847\tvalid_1's binary_logloss: 0.637633\n",
      "Training until validation scores don't improve for 30 rounds.\n",
      "Early stopping, best iteration is:\n",
      "[32]\tvalid_0's binary_logloss: 0.04146\tvalid_1's binary_logloss: 0.624803\n",
      "Training until validation scores don't improve for 30 rounds.\n",
      "Early stopping, best iteration is:\n",
      "[14]\tvalid_0's binary_logloss: 0.106198\tvalid_1's binary_logloss: 0.675098\n"
     ]
    },
    {
     "data": {
      "text/plain": [
       "GridSearchCV(cv='warn', error_score='raise-deprecating',\n",
       "       estimator=LGBMClassifier(boosting_type='gbdt', class_weight=None, colsample_bytree=1.0,\n",
       "        importance_type='split', learning_rate=0.1, max_depth=-1,\n",
       "        min_child_samples=20, min_child_weight=0.001, min_split_gain=0.0,\n",
       "        n_estimators=100, n_jobs=-1, num_leaves=31, objective=None,\n",
       "        random_state=None, reg_alpha=0.0, reg_lambda=0.0, silent=True,\n",
       "        subsample=1.0, subsample_for_bin=200000, subsample_freq=0,\n",
       "        verbose_eval=10),\n",
       "       fit_params=None, iid='warn', n_jobs=None,\n",
       "       param_grid={'max_depth': [5, 7, 9], 'min_child_weight': [1, 3], 'colsample_bytree': [0.5, 0.75], 'n_estimators': [100, 300, 500]},\n",
       "       pre_dispatch='2*n_jobs', refit=True, return_train_score='warn',\n",
       "       scoring=None, verbose=0)"
      ]
     },
     "execution_count": 97,
     "metadata": {},
     "output_type": "execute_result"
    }
   ],
   "source": [
    "params = {\n",
    "    'max_depth' : [5,7,9],\n",
    "    'min_child_weight' : [1,3],\n",
    "    'colsample_bytree' : [0.5,0.75],\n",
    "    'n_estimators' : [100,300,500]\n",
    "}\n",
    "\n",
    "gridcv = GridSearchCV(lgb, param_grid=params)\n",
    "gridcv.fit(X_mas, y, early_stopping_rounds = 30, eval_metric = 'acc',\n",
    "                     eval_set = [(X_mas, y), (urine_X_mas, urine_y)], verbose=100)"
   ]
  },
  {
   "cell_type": "code",
   "execution_count": 98,
   "metadata": {
    "ExecuteTime": {
     "end_time": "2019-04-30T12:02:57.562741Z",
     "start_time": "2019-04-30T12:02:57.556758Z"
    }
   },
   "outputs": [
    {
     "name": "stdout",
     "output_type": "stream",
     "text": [
      "GridSearchCV best parameter :  {'colsample_bytree': 0.75, 'max_depth': 5, 'min_child_weight': 1, 'n_estimators': 100}\n"
     ]
    }
   ],
   "source": [
    "print('GridSearchCV best parameter : ', gridcv.best_params_)"
   ]
  },
  {
   "cell_type": "code",
   "execution_count": 99,
   "metadata": {
    "ExecuteTime": {
     "end_time": "2019-04-30T12:03:02.389833Z",
     "start_time": "2019-04-30T12:03:02.334018Z"
    }
   },
   "outputs": [
    {
     "name": "stdout",
     "output_type": "stream",
     "text": [
      "threshold ;  0.3\n",
      "accuracy : 0.6962 precision : 0.6800 recall : 1.0000 F1 : 0.8095 AUC : 0.5714\n",
      "[[ 4 24]\n",
      " [ 0 51]]\n",
      "\n",
      "\n",
      "threshold ;  0.4\n",
      "accuracy : 0.6835 precision : 0.6970 recall : 0.9020 F1 : 0.7863 AUC : 0.5938\n",
      "[[ 8 20]\n",
      " [ 5 46]]\n",
      "\n",
      "\n",
      "threshold ;  0.5\n",
      "accuracy : 0.5443 precision : 0.6471 recall : 0.6471 F1 : 0.6471 AUC : 0.5021\n",
      "[[10 18]\n",
      " [18 33]]\n",
      "\n",
      "\n",
      "threshold ;  0.6\n",
      "accuracy : 0.5190 precision : 0.6667 recall : 0.5098 F1 : 0.5778 AUC : 0.5228\n",
      "[[15 13]\n",
      " [25 26]]\n",
      "\n",
      "\n",
      "threshold ;  0.7\n",
      "accuracy : 0.4810 precision : 0.6667 recall : 0.3922 F1 : 0.4938 AUC : 0.5175\n",
      "[[18 10]\n",
      " [31 20]]\n",
      "\n",
      "\n"
     ]
    }
   ],
   "source": [
    "thresholds = [0.3,0.4,0.5,0.6,0.7]\n",
    "get_eval_by_threshold(urine_y, gridcv.predict_proba(urine_X_mas)[:,1].reshape(-1,1), thresholds)"
   ]
  }
 ],
 "metadata": {
  "hide_input": false,
  "kernelspec": {
   "display_name": "Python 3",
   "language": "python",
   "name": "python3"
  },
  "language_info": {
   "codemirror_mode": {
    "name": "ipython",
    "version": 3
   },
   "file_extension": ".py",
   "mimetype": "text/x-python",
   "name": "python",
   "nbconvert_exporter": "python",
   "pygments_lexer": "ipython3",
   "version": "3.7.1"
  },
  "notify_time": "30",
  "toc": {
   "base_numbering": 1,
   "nav_menu": {},
   "number_sections": true,
   "sideBar": true,
   "skip_h1_title": false,
   "title_cell": "Table of Contents",
   "title_sidebar": "Contents",
   "toc_cell": false,
   "toc_position": {
    "height": "calc(100% - 180px)",
    "left": "10px",
    "top": "150px",
    "width": "307.2px"
   },
   "toc_section_display": true,
   "toc_window_display": false
  }
 },
 "nbformat": 4,
 "nbformat_minor": 2
}
