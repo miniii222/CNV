{
 "cells": [
  {
   "cell_type": "code",
   "execution_count": 1,
   "metadata": {
    "ExecuteTime": {
     "end_time": "2019-04-25T05:30:22.891604Z",
     "start_time": "2019-04-25T05:30:18.940824Z"
    }
   },
   "outputs": [
    {
     "data": {
      "text/plain": [
       "['TCGA_binary.csv',\n",
       " 'TCGA_data.csv',\n",
       " 'urine_binary.csv',\n",
       " 'urine_k15_0419.csv',\n",
       " 'urine_K15_0420.csv',\n",
       " 'urine_k15_0423.csv']"
      ]
     },
     "execution_count": 1,
     "metadata": {},
     "output_type": "execute_result"
    }
   ],
   "source": [
    "import pandas as pd\n",
    "import numpy as np\n",
    "import os\n",
    "\n",
    "os.listdir('./data')"
   ]
  },
  {
   "cell_type": "code",
   "execution_count": 2,
   "metadata": {
    "ExecuteTime": {
     "end_time": "2019-04-25T05:30:26.762545Z",
     "start_time": "2019-04-25T05:30:22.893688Z"
    }
   },
   "outputs": [],
   "source": [
    "TCGA = pd.read_csv('./data/TCGA_data.csv')\n",
    "urine = pd.read_csv('./data/urine_k15_0423.csv')\n",
    "#urine = urine.drop(['Unnamed: 0','X'], axis = 1)\n",
    "#urine.to_csv('./data/urine_K15_0420.csv', index = False)"
   ]
  },
  {
   "cell_type": "code",
   "execution_count": 3,
   "metadata": {
    "ExecuteTime": {
     "end_time": "2019-04-25T05:30:26.819238Z",
     "start_time": "2019-04-25T05:30:26.763545Z"
    }
   },
   "outputs": [
    {
     "data": {
      "text/html": [
       "<div>\n",
       "<style scoped>\n",
       "    .dataframe tbody tr th:only-of-type {\n",
       "        vertical-align: middle;\n",
       "    }\n",
       "\n",
       "    .dataframe tbody tr th {\n",
       "        vertical-align: top;\n",
       "    }\n",
       "\n",
       "    .dataframe thead th {\n",
       "        text-align: right;\n",
       "    }\n",
       "</style>\n",
       "<table border=\"1\" class=\"dataframe\">\n",
       "  <thead>\n",
       "    <tr style=\"text-align: right;\">\n",
       "      <th></th>\n",
       "      <th>Unnamed: 0</th>\n",
       "      <th>X</th>\n",
       "      <th>cyto.1p36.33</th>\n",
       "      <th>cyto.1p36.32</th>\n",
       "      <th>cyto.1p36.31</th>\n",
       "      <th>cyto.1p36.23</th>\n",
       "      <th>cyto.1p36.22</th>\n",
       "      <th>cyto.1p36.21</th>\n",
       "      <th>cyto.1p36.13</th>\n",
       "      <th>cyto.1p36.12</th>\n",
       "      <th>...</th>\n",
       "      <th>cyto.9p21.1</th>\n",
       "      <th>cyto.9p13.3</th>\n",
       "      <th>cyto.9p13.2</th>\n",
       "      <th>cyto.9p13.1</th>\n",
       "      <th>cyto.9p12</th>\n",
       "      <th>cyto.9p11.2</th>\n",
       "      <th>cyto.9p11.1</th>\n",
       "      <th>cyto.9q11</th>\n",
       "      <th>cyto.9q12</th>\n",
       "      <th>y</th>\n",
       "    </tr>\n",
       "  </thead>\n",
       "  <tbody>\n",
       "    <tr>\n",
       "      <th>0</th>\n",
       "      <td>1</td>\n",
       "      <td>1</td>\n",
       "      <td>-0.042049</td>\n",
       "      <td>-0.016378</td>\n",
       "      <td>-0.153316</td>\n",
       "      <td>-0.056765</td>\n",
       "      <td>-0.137091</td>\n",
       "      <td>0.178450</td>\n",
       "      <td>0.012607</td>\n",
       "      <td>-0.086320</td>\n",
       "      <td>...</td>\n",
       "      <td>-0.231586</td>\n",
       "      <td>-0.254872</td>\n",
       "      <td>-0.270547</td>\n",
       "      <td>-0.130938</td>\n",
       "      <td>0</td>\n",
       "      <td>0</td>\n",
       "      <td>0</td>\n",
       "      <td>0</td>\n",
       "      <td>0</td>\n",
       "      <td>BLCA_15k</td>\n",
       "    </tr>\n",
       "    <tr>\n",
       "      <th>1</th>\n",
       "      <td>2</td>\n",
       "      <td>2</td>\n",
       "      <td>0.254768</td>\n",
       "      <td>0.280497</td>\n",
       "      <td>0.113957</td>\n",
       "      <td>0.233515</td>\n",
       "      <td>0.315840</td>\n",
       "      <td>0.257673</td>\n",
       "      <td>0.254221</td>\n",
       "      <td>0.268129</td>\n",
       "      <td>...</td>\n",
       "      <td>0.258530</td>\n",
       "      <td>0.163861</td>\n",
       "      <td>0.050568</td>\n",
       "      <td>0.087438</td>\n",
       "      <td>0</td>\n",
       "      <td>0</td>\n",
       "      <td>0</td>\n",
       "      <td>0</td>\n",
       "      <td>0</td>\n",
       "      <td>BLCA_15k</td>\n",
       "    </tr>\n",
       "    <tr>\n",
       "      <th>2</th>\n",
       "      <td>3</td>\n",
       "      <td>3</td>\n",
       "      <td>0.008280</td>\n",
       "      <td>-0.046070</td>\n",
       "      <td>-0.019274</td>\n",
       "      <td>-0.038621</td>\n",
       "      <td>-0.013342</td>\n",
       "      <td>-0.034047</td>\n",
       "      <td>-0.054234</td>\n",
       "      <td>-0.038569</td>\n",
       "      <td>...</td>\n",
       "      <td>-0.004863</td>\n",
       "      <td>0.016083</td>\n",
       "      <td>-0.029978</td>\n",
       "      <td>0.067875</td>\n",
       "      <td>0</td>\n",
       "      <td>0</td>\n",
       "      <td>0</td>\n",
       "      <td>0</td>\n",
       "      <td>0</td>\n",
       "      <td>BLCA_15k</td>\n",
       "    </tr>\n",
       "    <tr>\n",
       "      <th>3</th>\n",
       "      <td>4</td>\n",
       "      <td>4</td>\n",
       "      <td>0.027988</td>\n",
       "      <td>0.009892</td>\n",
       "      <td>-0.039769</td>\n",
       "      <td>-0.036227</td>\n",
       "      <td>-0.055723</td>\n",
       "      <td>-0.064246</td>\n",
       "      <td>-0.051865</td>\n",
       "      <td>-0.062907</td>\n",
       "      <td>...</td>\n",
       "      <td>0.005607</td>\n",
       "      <td>-0.048461</td>\n",
       "      <td>-0.032935</td>\n",
       "      <td>0.043250</td>\n",
       "      <td>0</td>\n",
       "      <td>0</td>\n",
       "      <td>0</td>\n",
       "      <td>0</td>\n",
       "      <td>0</td>\n",
       "      <td>BLCA_15k</td>\n",
       "    </tr>\n",
       "    <tr>\n",
       "      <th>4</th>\n",
       "      <td>5</td>\n",
       "      <td>5</td>\n",
       "      <td>-0.060927</td>\n",
       "      <td>-0.092065</td>\n",
       "      <td>-0.078248</td>\n",
       "      <td>0.335235</td>\n",
       "      <td>0.131411</td>\n",
       "      <td>0.014468</td>\n",
       "      <td>-0.044209</td>\n",
       "      <td>0.038249</td>\n",
       "      <td>...</td>\n",
       "      <td>-0.022414</td>\n",
       "      <td>0.064189</td>\n",
       "      <td>0.128281</td>\n",
       "      <td>-0.113687</td>\n",
       "      <td>0</td>\n",
       "      <td>0</td>\n",
       "      <td>0</td>\n",
       "      <td>0</td>\n",
       "      <td>0</td>\n",
       "      <td>BLCA_15k</td>\n",
       "    </tr>\n",
       "  </tbody>\n",
       "</table>\n",
       "<p>5 rows × 789 columns</p>\n",
       "</div>"
      ],
      "text/plain": [
       "   Unnamed: 0  X  cyto.1p36.33  cyto.1p36.32  cyto.1p36.31  cyto.1p36.23  \\\n",
       "0           1  1     -0.042049     -0.016378     -0.153316     -0.056765   \n",
       "1           2  2      0.254768      0.280497      0.113957      0.233515   \n",
       "2           3  3      0.008280     -0.046070     -0.019274     -0.038621   \n",
       "3           4  4      0.027988      0.009892     -0.039769     -0.036227   \n",
       "4           5  5     -0.060927     -0.092065     -0.078248      0.335235   \n",
       "\n",
       "   cyto.1p36.22  cyto.1p36.21  cyto.1p36.13  cyto.1p36.12    ...     \\\n",
       "0     -0.137091      0.178450      0.012607     -0.086320    ...      \n",
       "1      0.315840      0.257673      0.254221      0.268129    ...      \n",
       "2     -0.013342     -0.034047     -0.054234     -0.038569    ...      \n",
       "3     -0.055723     -0.064246     -0.051865     -0.062907    ...      \n",
       "4      0.131411      0.014468     -0.044209      0.038249    ...      \n",
       "\n",
       "   cyto.9p21.1  cyto.9p13.3  cyto.9p13.2  cyto.9p13.1  cyto.9p12  cyto.9p11.2  \\\n",
       "0    -0.231586    -0.254872    -0.270547    -0.130938          0            0   \n",
       "1     0.258530     0.163861     0.050568     0.087438          0            0   \n",
       "2    -0.004863     0.016083    -0.029978     0.067875          0            0   \n",
       "3     0.005607    -0.048461    -0.032935     0.043250          0            0   \n",
       "4    -0.022414     0.064189     0.128281    -0.113687          0            0   \n",
       "\n",
       "   cyto.9p11.1  cyto.9q11  cyto.9q12         y  \n",
       "0            0          0          0  BLCA_15k  \n",
       "1            0          0          0  BLCA_15k  \n",
       "2            0          0          0  BLCA_15k  \n",
       "3            0          0          0  BLCA_15k  \n",
       "4            0          0          0  BLCA_15k  \n",
       "\n",
       "[5 rows x 789 columns]"
      ]
     },
     "execution_count": 3,
     "metadata": {},
     "output_type": "execute_result"
    }
   ],
   "source": [
    "urine.head()"
   ]
  },
  {
   "cell_type": "code",
   "execution_count": 4,
   "metadata": {
    "ExecuteTime": {
     "end_time": "2019-04-25T05:33:07.224304Z",
     "start_time": "2019-04-25T05:33:07.212732Z"
    }
   },
   "outputs": [
    {
     "data": {
      "text/plain": [
       "Normal    1706\n",
       "KIRC       528\n",
       "PRAD       492\n",
       "BLCA       408\n",
       "KIRP       288\n",
       "KICH        66\n",
       "Name: y, dtype: int64"
      ]
     },
     "execution_count": 4,
     "metadata": {},
     "output_type": "execute_result"
    }
   ],
   "source": [
    "TCGA.y.value_counts()"
   ]
  },
  {
   "cell_type": "code",
   "execution_count": 5,
   "metadata": {
    "ExecuteTime": {
     "end_time": "2019-04-25T05:33:07.789975Z",
     "start_time": "2019-04-25T05:33:07.781812Z"
    }
   },
   "outputs": [
    {
     "name": "stdout",
     "output_type": "stream",
     "text": [
      "TCGA shape (3488, 787)\n",
      "urine shape (116, 789)\n"
     ]
    }
   ],
   "source": [
    "print('TCGA shape', TCGA.shape)\n",
    "print('urine shape', urine.shape)"
   ]
  },
  {
   "cell_type": "code",
   "execution_count": 6,
   "metadata": {
    "ExecuteTime": {
     "end_time": "2019-04-25T05:33:08.710032Z",
     "start_time": "2019-04-25T05:33:08.339328Z"
    }
   },
   "outputs": [],
   "source": [
    "TCGA = TCGA[(TCGA.y == 'BLCA') | (TCGA.y == 'Normal')]\n",
    "TCGA = TCGA.replace(['BLCA','Normal'],[ 1,0 ])\n",
    "TCGA = TCGA.reset_index(drop = True)"
   ]
  },
  {
   "cell_type": "code",
   "execution_count": 7,
   "metadata": {
    "ExecuteTime": {
     "end_time": "2019-04-25T05:33:10.277196Z",
     "start_time": "2019-04-25T05:33:10.269384Z"
    }
   },
   "outputs": [
    {
     "data": {
      "text/plain": [
       "(2114, 787)"
      ]
     },
     "execution_count": 7,
     "metadata": {},
     "output_type": "execute_result"
    }
   ],
   "source": [
    "TCGA.shape"
   ]
  },
  {
   "cell_type": "code",
   "execution_count": 8,
   "metadata": {
    "ExecuteTime": {
     "end_time": "2019-04-25T05:33:10.792778Z",
     "start_time": "2019-04-25T05:33:10.782956Z"
    }
   },
   "outputs": [
    {
     "data": {
      "text/plain": [
       "0    1706\n",
       "1     408\n",
       "Name: y, dtype: int64"
      ]
     },
     "execution_count": 8,
     "metadata": {},
     "output_type": "execute_result"
    }
   ],
   "source": [
    "TCGA.y.value_counts()"
   ]
  },
  {
   "cell_type": "code",
   "execution_count": 9,
   "metadata": {
    "ExecuteTime": {
     "end_time": "2019-04-25T05:33:11.500323Z",
     "start_time": "2019-04-25T05:33:11.455409Z"
    }
   },
   "outputs": [
    {
     "data": {
      "text/plain": [
       "0"
      ]
     },
     "execution_count": 9,
     "metadata": {},
     "output_type": "execute_result"
    }
   ],
   "source": [
    "#NA 없음\n",
    "TCGA.isnull().sum().sum()"
   ]
  },
  {
   "cell_type": "code",
   "execution_count": 10,
   "metadata": {
    "ExecuteTime": {
     "end_time": "2019-04-25T05:33:13.003138Z",
     "start_time": "2019-04-25T05:33:12.993286Z"
    }
   },
   "outputs": [
    {
     "data": {
      "text/plain": [
       "BLCA_15k    42\n",
       "NL_15k      28\n",
       "RCC_100k    23\n",
       "PRAD_15k    23\n",
       "Name: y, dtype: int64"
      ]
     },
     "execution_count": 10,
     "metadata": {},
     "output_type": "execute_result"
    }
   ],
   "source": [
    "urine.y.value_counts()"
   ]
  },
  {
   "cell_type": "code",
   "execution_count": 11,
   "metadata": {
    "ExecuteTime": {
     "end_time": "2019-04-25T05:33:15.109174Z",
     "start_time": "2019-04-25T05:33:15.088587Z"
    }
   },
   "outputs": [],
   "source": [
    "urine = urine[(urine.y == 'BLCA_15k') | (urine.y == 'NL_15k')]\n",
    "urine = urine.replace(['BLCA_15k','NL_15k'],[ 1,0 ])\n",
    "urine = urine.reset_index(drop = True)"
   ]
  },
  {
   "cell_type": "code",
   "execution_count": 12,
   "metadata": {
    "ExecuteTime": {
     "end_time": "2019-04-25T05:33:15.684974Z",
     "start_time": "2019-04-25T05:33:15.677420Z"
    }
   },
   "outputs": [],
   "source": [
    "urine = urine.drop(['Unnamed: 0','X'], axis = 1)"
   ]
  },
  {
   "cell_type": "code",
   "execution_count": 13,
   "metadata": {
    "ExecuteTime": {
     "end_time": "2019-04-25T05:33:16.245161Z",
     "start_time": "2019-04-25T05:33:16.235525Z"
    }
   },
   "outputs": [
    {
     "data": {
      "text/plain": [
       "1    42\n",
       "0    28\n",
       "Name: y, dtype: int64"
      ]
     },
     "execution_count": 13,
     "metadata": {},
     "output_type": "execute_result"
    }
   ],
   "source": [
    "urine.y.value_counts()"
   ]
  },
  {
   "cell_type": "code",
   "execution_count": 20,
   "metadata": {
    "ExecuteTime": {
     "end_time": "2019-04-23T04:33:57.691169Z",
     "start_time": "2019-04-23T04:33:55.827471Z"
    }
   },
   "outputs": [],
   "source": [
    "#TCGA.to_csv('./data/TCGA_binary.csv', index = False)\n",
    "#urine.to_csv('./data/urine_binary.csv', index = False)"
   ]
  },
  {
   "cell_type": "markdown",
   "metadata": {},
   "source": [
    "# scaling"
   ]
  },
  {
   "cell_type": "code",
   "execution_count": 14,
   "metadata": {
    "ExecuteTime": {
     "end_time": "2019-04-25T05:33:19.784688Z",
     "start_time": "2019-04-25T05:33:19.769162Z"
    }
   },
   "outputs": [],
   "source": [
    "X = TCGA.drop('y', axis = 1)\n",
    "y = TCGA['y']\n",
    "\n",
    "urine_X = urine.drop('y', axis = 1)\n",
    "urine_y = urine['y']"
   ]
  },
  {
   "cell_type": "code",
   "execution_count": 15,
   "metadata": {
    "ExecuteTime": {
     "end_time": "2019-04-25T05:33:23.523949Z",
     "start_time": "2019-04-25T05:33:20.199791Z"
    }
   },
   "outputs": [],
   "source": [
    "from sklearn.preprocessing import StandardScaler\n",
    "from sklearn.preprocessing import MinMaxScaler\n",
    "from sklearn.preprocessing import MaxAbsScaler\n",
    "\n",
    "standardsc = StandardScaler()\n",
    "mms = MinMaxScaler()\n",
    "mas = MaxAbsScaler()"
   ]
  },
  {
   "cell_type": "code",
   "execution_count": 16,
   "metadata": {
    "ExecuteTime": {
     "end_time": "2019-04-25T05:33:42.901945Z",
     "start_time": "2019-04-25T05:33:42.753109Z"
    }
   },
   "outputs": [
    {
     "name": "stderr",
     "output_type": "stream",
     "text": [
      "C:\\Users\\wjssm\\Anaconda3\\lib\\site-packages\\sklearn\\preprocessing\\data.py:625: DataConversionWarning: Data with input dtype int64, float64 were all converted to float64 by StandardScaler.\n",
      "  return self.partial_fit(X, y)\n",
      "C:\\Users\\wjssm\\Anaconda3\\lib\\site-packages\\sklearn\\base.py:462: DataConversionWarning: Data with input dtype int64, float64 were all converted to float64 by StandardScaler.\n",
      "  return self.fit(X, **fit_params).transform(X)\n",
      "C:\\Users\\wjssm\\Anaconda3\\lib\\site-packages\\sklearn\\preprocessing\\data.py:323: DataConversionWarning: Data with input dtype int64, float64 were all converted to float64 by MinMaxScaler.\n",
      "  return self.partial_fit(X, y)\n"
     ]
    }
   ],
   "source": [
    "X_standard = standardsc.fit_transform(X)\n",
    "X_mms = mms.fit_transform(X)\n",
    "X_mas = mas.fit_transform(X)\n",
    "\n",
    "urine_X_standard = standardsc.fit_transform(urine_X)\n",
    "urine_X_mms = mms.fit_transform(urine_X)\n",
    "urine_X_mas = mas.fit_transform(urine_X)"
   ]
  },
  {
   "cell_type": "code",
   "execution_count": 31,
   "metadata": {
    "ExecuteTime": {
     "end_time": "2019-04-25T05:51:22.227085Z",
     "start_time": "2019-04-25T05:51:22.213804Z"
    }
   },
   "outputs": [],
   "source": [
    "from sklearn.metrics import accuracy_score\n",
    "from sklearn.metrics import recall_score\n",
    "from sklearn.metrics import precision_score\n",
    "from sklearn.metrics import confusion_matrix\n",
    "from sklearn.metrics import f1_score\n",
    "from sklearn.metrics import roc_auc_score\n",
    "from sklearn.metrics import classification_report\n",
    "from sklearn.metrics import roc_curve\n",
    "\n",
    "def get_eval(y_test, pred) :\n",
    "    \n",
    "    print('accuracy : {0:.4f} precision : {1:.4f} recall : {2:.4f} F1 : {3:.4f} AUC : {4:.4f}'.format(\n",
    "                                                        accuracy_score(y_test, pred), \n",
    "                                                        precision_score(y_test, pred),\n",
    "                                                        recall_score(y_test, pred),\n",
    "                                                        f1_score(y_test,pred),\n",
    "                                                        roc_auc_score(y_test, pred)\n",
    "                                                                      ))\n",
    "    \n",
    "    \n",
    "    \n",
    "    #print('accuracy : {0:.4f}'.format(accuracy_score(y_test,pred)), 'roc_auc_score : ', roc_auc_score(y_test,pred))\n",
    "    #print(classification_report(y_test, pred))\n",
    "    print(confusion_matrix(y_test, pred))"
   ]
  },
  {
   "cell_type": "code",
   "execution_count": 33,
   "metadata": {
    "ExecuteTime": {
     "end_time": "2019-04-25T05:52:14.265970Z",
     "start_time": "2019-04-25T05:52:14.257491Z"
    }
   },
   "outputs": [],
   "source": [
    "from sklearn.preprocessing import Binarizer\n",
    "\n",
    "def get_eval_by_threshold(y_test, pred_prba_c1, thresholds) :\n",
    "    \n",
    "    for custom_threshold in thresholds :\n",
    "        binarizer = Binarizer(threshold=custom_threshold).fit(pred_prba_c1)\n",
    "        custom_predict = binarizer.transform(pred_prba_c1)\n",
    "        \n",
    "        print('threshold ; ', custom_threshold)\n",
    "        get_eval(y_test, custom_predict)\n",
    "        print('\\n')"
   ]
  },
  {
   "cell_type": "code",
   "execution_count": 18,
   "metadata": {
    "ExecuteTime": {
     "end_time": "2019-04-25T05:36:10.163727Z",
     "start_time": "2019-04-25T05:36:10.138630Z"
    }
   },
   "outputs": [],
   "source": [
    "from sklearn.model_selection import StratifiedKFold\n",
    "\n",
    "skf = StratifiedKFold(n_splits = 5, random_state=0, shuffle = True)"
   ]
  },
  {
   "cell_type": "markdown",
   "metadata": {},
   "source": [
    "# logistic regression"
   ]
  },
  {
   "cell_type": "code",
   "execution_count": 19,
   "metadata": {
    "ExecuteTime": {
     "end_time": "2019-04-25T05:36:17.627581Z",
     "start_time": "2019-04-25T05:36:17.393823Z"
    }
   },
   "outputs": [],
   "source": [
    "from sklearn.pipeline import Pipeline\n",
    "from sklearn.linear_model import LogisticRegression\n",
    "\n",
    "lr = LogisticRegression()\n",
    "import warnings\n",
    "warnings.filterwarnings('ignore')\n",
    "\n",
    "from sklearn.pipeline import Pipeline"
   ]
  },
  {
   "cell_type": "code",
   "execution_count": 20,
   "metadata": {
    "ExecuteTime": {
     "end_time": "2019-04-25T05:46:55.032514Z",
     "start_time": "2019-04-25T05:46:55.018541Z"
    },
    "scrolled": false
   },
   "outputs": [],
   "source": [
    "def model_pipeline(model) :\n",
    "    pipeline1 = Pipeline([('StandardScaler', standardsc), ('Logistic', model)])\n",
    "    pipeline2 = Pipeline([('MinMaxScaler', mms), ('Logistic', model)])\n",
    "    pipeline3 = Pipeline([('MaxAbsScaler', mas), ('Logistic', model)])\n",
    "\n",
    "    cv_acc = []\n",
    "    pip1_acc = []\n",
    "    pip2_acc = []\n",
    "    pip3_acc = []\n",
    "\n",
    "    for i, (tr_ind, te_ind) in enumerate(skf.split(X,y)) :\n",
    "\n",
    "        X_train, X_test = X.iloc[tr_ind], X.iloc[te_ind]\n",
    "        y_train, y_test = y[tr_ind], y[te_ind]\n",
    "\n",
    "        model.fit(X_train, y_train)\n",
    "        pipeline1.fit(X_train, y_train)\n",
    "        pipeline2.fit(X_train, y_train)\n",
    "        pipeline3.fit(X_train, y_train)\n",
    "\n",
    "        cv_acc.append(accuracy_score(y[te_ind], model.predict(X_test)))\n",
    "        pip1_acc.append(accuracy_score(y[te_ind], pipeline1.predict(X_test)))\n",
    "        pip2_acc.append(accuracy_score(y[te_ind], pipeline2.predict(X_test)))\n",
    "        pip3_acc.append(accuracy_score(y[te_ind], pipeline3.predict(X_test)))\n",
    "\n",
    "        print('{0} 번째 accuracy non_scale : {1:.4f}% StandardScale : {2:.4f}% MinMax : {3:.4f}% MaxAbs : {4:.4f}%'.format(i,cv_acc[i],pip1_acc[i],pip2_acc[i],pip3_acc[i]))\n",
    "\n",
    "    print('\\n mean accuracy non_scale : {0:.4f}% StandardScale : {1:.4f}% MinMax : {2:.4f}% MaxAbs : {3:.4f}%'.format(np.mean(cv_acc),np.mean(pip1_acc),np.mean(pip2_acc),np.mean(pip3_acc)))"
   ]
  },
  {
   "cell_type": "code",
   "execution_count": 21,
   "metadata": {
    "ExecuteTime": {
     "end_time": "2019-04-25T05:46:56.409425Z",
     "start_time": "2019-04-25T05:46:56.396070Z"
    }
   },
   "outputs": [],
   "source": [
    "#predict urine data using pipeline\n",
    "\n",
    "def pipeline_urine(model) :\n",
    "    \n",
    "    pipeline1 = Pipeline([('StandardScaler', standardsc), (model.__class__.__name__, model)])\n",
    "    pipeline2 = Pipeline([('MinMaxScaler', mms), (model.__class__.__name__, model)])\n",
    "    pipeline3 = Pipeline([('MaxAbsScaler', mas), (model.__class__.__name__, model)])\n",
    "    \n",
    "    model.fit(X,y)\n",
    "    pipeline1.fit(X,y)\n",
    "    pipeline2.fit(X,y)\n",
    "    pipeline3.fit(X,y)\n",
    "    \n",
    "    print('###non-scaled###')\n",
    "    get_eval(urine_y, model.predict(urine_X))\n",
    "    print('###StandardScaler###')\n",
    "    get_eval(urine_y, pipeline1.predict(urine_X))\n",
    "    print('###MinMaxScaler###')\n",
    "    get_eval(urine_y, pipeline2.predict(urine_X))\n",
    "    print('###MaxAbsScaler###')\n",
    "    get_eval(urine_y, pipeline3.predict(urine_X))"
   ]
  },
  {
   "cell_type": "code",
   "execution_count": 22,
   "metadata": {
    "ExecuteTime": {
     "end_time": "2019-04-25T05:47:12.128750Z",
     "start_time": "2019-04-25T05:47:01.290704Z"
    }
   },
   "outputs": [
    {
     "name": "stdout",
     "output_type": "stream",
     "text": [
      "0 번째 accuracy non_scale : 0.9788% StandardScale : 0.9764% MinMax : 0.8137% MaxAbs : 0.9741%\n",
      "1 번째 accuracy non_scale : 0.9905% StandardScale : 0.9882% MinMax : 0.8132% MaxAbs : 0.9905%\n",
      "2 번째 accuracy non_scale : 0.9787% StandardScale : 0.9787% MinMax : 0.8132% MaxAbs : 0.9716%\n",
      "3 번째 accuracy non_scale : 0.9858% StandardScale : 0.9858% MinMax : 0.8128% MaxAbs : 0.9834%\n",
      "4 번째 accuracy non_scale : 0.9763% StandardScale : 0.9787% MinMax : 0.8128% MaxAbs : 0.9739%\n",
      "\n",
      " mean accuracy non_scale : 0.9820% StandardScale : 0.9816% MinMax : 0.8131% MaxAbs : 0.9787%\n"
     ]
    }
   ],
   "source": [
    "model_pipeline(lr)"
   ]
  },
  {
   "cell_type": "code",
   "execution_count": 117,
   "metadata": {
    "ExecuteTime": {
     "end_time": "2019-04-23T05:27:41.727742Z",
     "start_time": "2019-04-23T05:27:40.239325Z"
    },
    "scrolled": false
   },
   "outputs": [
    {
     "name": "stdout",
     "output_type": "stream",
     "text": [
      "###non-scaled###\n",
      "accuracy : 0.4571 precision : 0.8333 recall : 0.1190 F1 : 0.2083 AUC : 0.5417\n",
      "[[27  1]\n",
      " [37  5]]\n",
      "###StandardScaler###\n",
      "accuracy : 0.4714 precision : 0.8571 recall : 0.1429 F1 : 0.2449 AUC : 0.5536\n",
      "[[27  1]\n",
      " [36  6]]\n",
      "###MinMaxScaler###\n",
      "accuracy : 0.4000 precision : 0.0000 recall : 0.0000 F1 : 0.0000 AUC : 0.5000\n",
      "[[28  0]\n",
      " [42  0]]\n",
      "###MaxAbsScaler###\n",
      "accuracy : 0.4857 precision : 0.8000 recall : 0.1905 F1 : 0.3077 AUC : 0.5595\n",
      "[[26  2]\n",
      " [34  8]]\n"
     ]
    }
   ],
   "source": [
    "pipeline_urine(lr)"
   ]
  },
  {
   "cell_type": "code",
   "execution_count": 118,
   "metadata": {
    "ExecuteTime": {
     "end_time": "2019-04-23T05:27:43.757472Z",
     "start_time": "2019-04-23T05:27:43.495222Z"
    }
   },
   "outputs": [
    {
     "name": "stdout",
     "output_type": "stream",
     "text": [
      "threshold ;  0.3\n",
      "accuracy : 0.4000 precision : 0.0000 recall : 0.0000 F1 : 0.0000 AUC : 0.5000\n",
      "[[28  0]\n",
      " [42  0]]\n",
      "\n",
      "\n",
      "threshold ;  0.4\n",
      "accuracy : 0.4000 precision : 0.0000 recall : 0.0000 F1 : 0.0000 AUC : 0.5000\n",
      "[[28  0]\n",
      " [42  0]]\n",
      "\n",
      "\n",
      "threshold ;  0.5\n",
      "accuracy : 0.4000 precision : 0.0000 recall : 0.0000 F1 : 0.0000 AUC : 0.5000\n",
      "[[28  0]\n",
      " [42  0]]\n",
      "\n",
      "\n",
      "threshold ;  0.6\n",
      "accuracy : 0.4000 precision : 0.0000 recall : 0.0000 F1 : 0.0000 AUC : 0.5000\n",
      "[[28  0]\n",
      " [42  0]]\n",
      "\n",
      "\n",
      "threshold ;  0.7\n",
      "accuracy : 0.4000 precision : 0.0000 recall : 0.0000 F1 : 0.0000 AUC : 0.5000\n",
      "[[28  0]\n",
      " [42  0]]\n",
      "\n",
      "\n"
     ]
    }
   ],
   "source": [
    "lr.fit(X_mas,y)\n",
    "thresholds = [0.3,0.4,0.5,0.6,0.7]\n",
    "get_eval_by_threshold(urine_y, lr.predict_proba(urine_X_mas)[:,1].reshape(-1,1), thresholds)"
   ]
  },
  {
   "cell_type": "markdown",
   "metadata": {},
   "source": [
    "# randomforest"
   ]
  },
  {
   "cell_type": "code",
   "execution_count": 23,
   "metadata": {
    "ExecuteTime": {
     "end_time": "2019-04-25T05:47:52.466689Z",
     "start_time": "2019-04-25T05:47:52.400027Z"
    }
   },
   "outputs": [],
   "source": [
    "from sklearn.ensemble import RandomForestClassifier\n",
    "rf = RandomForestClassifier()"
   ]
  },
  {
   "cell_type": "code",
   "execution_count": 37,
   "metadata": {
    "ExecuteTime": {
     "end_time": "2019-04-25T05:53:44.456060Z",
     "start_time": "2019-04-25T05:53:44.451111Z"
    }
   },
   "outputs": [],
   "source": [
    "rf = RandomForestClassifier(n_estimators=20, random_state=0)"
   ]
  },
  {
   "cell_type": "code",
   "execution_count": 38,
   "metadata": {
    "ExecuteTime": {
     "end_time": "2019-04-25T05:53:58.384407Z",
     "start_time": "2019-04-25T05:53:45.085242Z"
    },
    "scrolled": true
   },
   "outputs": [
    {
     "name": "stdout",
     "output_type": "stream",
     "text": [
      "0 번째 accuracy non_scale : 0.9858% StandardScale : 0.1981% MinMax : 0.1934% MaxAbs : 0.9835%\n",
      "1 번째 accuracy non_scale : 0.9905% StandardScale : 0.9574% MinMax : 0.1939% MaxAbs : 0.9905%\n",
      "2 번째 accuracy non_scale : 0.9835% StandardScale : 0.9291% MinMax : 0.1939% MaxAbs : 0.9835%\n",
      "3 번째 accuracy non_scale : 0.9858% StandardScale : 0.9739% MinMax : 0.1919% MaxAbs : 0.9858%\n",
      "4 번째 accuracy non_scale : 0.9763% StandardScale : 0.8389% MinMax : 0.1919% MaxAbs : 0.9787%\n",
      "\n",
      " mean accuracy non_scale : 0.9844% StandardScale : 0.7795% MinMax : 0.1930% MaxAbs : 0.9844%\n"
     ]
    }
   ],
   "source": [
    "model_pipeline(rf)"
   ]
  },
  {
   "cell_type": "code",
   "execution_count": 39,
   "metadata": {
    "ExecuteTime": {
     "end_time": "2019-04-25T05:54:02.063951Z",
     "start_time": "2019-04-25T05:53:58.387515Z"
    }
   },
   "outputs": [
    {
     "name": "stdout",
     "output_type": "stream",
     "text": [
      "###non-scaled###\n",
      "accuracy : 0.6143 precision : 0.6087 recall : 1.0000 F1 : 0.7568 AUC : 0.5179\n",
      "[[ 1 27]\n",
      " [ 0 42]]\n",
      "###StandardScaler###\n",
      "accuracy : 0.6429 precision : 0.6308 recall : 0.9762 F1 : 0.7664 AUC : 0.5595\n",
      "[[ 4 24]\n",
      " [ 1 41]]\n",
      "###MinMaxScaler###\n",
      "accuracy : 0.6000 precision : 0.6000 recall : 1.0000 F1 : 0.7500 AUC : 0.5000\n",
      "[[ 0 28]\n",
      " [ 0 42]]\n",
      "###MaxAbsScaler###\n",
      "accuracy : 0.6000 precision : 0.6061 recall : 0.9524 F1 : 0.7407 AUC : 0.5119\n",
      "[[ 2 26]\n",
      " [ 2 40]]\n"
     ]
    }
   ],
   "source": [
    "pipeline_urine(rf)"
   ]
  },
  {
   "cell_type": "code",
   "execution_count": 41,
   "metadata": {
    "ExecuteTime": {
     "end_time": "2019-04-25T05:54:35.875996Z",
     "start_time": "2019-04-25T05:54:35.021224Z"
    }
   },
   "outputs": [
    {
     "name": "stdout",
     "output_type": "stream",
     "text": [
      "threshold ;  0.3\n",
      "accuracy : 0.6000 precision : 0.6000 recall : 1.0000 F1 : 0.7500 AUC : 0.5000\n",
      "[[ 0 28]\n",
      " [ 0 42]]\n",
      "\n",
      "\n",
      "threshold ;  0.4\n",
      "accuracy : 0.6000 precision : 0.6000 recall : 1.0000 F1 : 0.7500 AUC : 0.5000\n",
      "[[ 0 28]\n",
      " [ 0 42]]\n",
      "\n",
      "\n",
      "threshold ;  0.5\n",
      "accuracy : 0.6000 precision : 0.6000 recall : 1.0000 F1 : 0.7500 AUC : 0.5000\n",
      "[[ 0 28]\n",
      " [ 0 42]]\n",
      "\n",
      "\n",
      "threshold ;  0.6\n",
      "accuracy : 0.6000 precision : 0.6000 recall : 1.0000 F1 : 0.7500 AUC : 0.5000\n",
      "[[ 0 28]\n",
      " [ 0 42]]\n",
      "\n",
      "\n",
      "threshold ;  0.7\n",
      "accuracy : 0.5714 precision : 0.5882 recall : 0.9524 F1 : 0.7273 AUC : 0.4762\n",
      "[[ 0 28]\n",
      " [ 2 40]]\n",
      "\n",
      "\n"
     ]
    }
   ],
   "source": [
    "rf.fit(X_standard,y)\n",
    "thresholds = [0.3,0.4,0.5,0.6,0.7]\n",
    "get_eval_by_threshold(urine_y, rf.predict_proba(urine_X_standard)[:,1].reshape(-1,1), thresholds)"
   ]
  },
  {
   "cell_type": "code",
   "execution_count": 120,
   "metadata": {
    "ExecuteTime": {
     "end_time": "2019-04-23T05:29:10.428233Z",
     "start_time": "2019-04-23T05:29:10.183322Z"
    }
   },
   "outputs": [
    {
     "name": "stdout",
     "output_type": "stream",
     "text": [
      "threshold ;  0.3\n",
      "accuracy : 0.6000 precision : 0.6000 recall : 1.0000 F1 : 0.7500 AUC : 0.5000\n",
      "[[ 0 28]\n",
      " [ 0 42]]\n",
      "\n",
      "\n",
      "threshold ;  0.4\n",
      "accuracy : 0.6143 precision : 0.6087 recall : 1.0000 F1 : 0.7568 AUC : 0.5179\n",
      "[[ 1 27]\n",
      " [ 0 42]]\n",
      "\n",
      "\n",
      "threshold ;  0.5\n",
      "accuracy : 0.5857 precision : 0.6000 recall : 0.9286 F1 : 0.7290 AUC : 0.5000\n",
      "[[ 2 26]\n",
      " [ 3 39]]\n",
      "\n",
      "\n",
      "threshold ;  0.6\n",
      "accuracy : 0.6000 precision : 0.6167 recall : 0.8810 F1 : 0.7255 AUC : 0.5298\n",
      "[[ 5 23]\n",
      " [ 5 37]]\n",
      "\n",
      "\n",
      "threshold ;  0.7\n",
      "accuracy : 0.6143 precision : 0.6415 recall : 0.8095 F1 : 0.7158 AUC : 0.5655\n",
      "[[ 9 19]\n",
      " [ 8 34]]\n",
      "\n",
      "\n"
     ]
    }
   ],
   "source": [
    "rf.fit(X,y)\n",
    "thresholds = [0.3,0.4,0.5,0.6,0.7]\n",
    "get_eval_by_threshold(urine_y, rf.predict_proba(urine_X)[:,1].reshape(-1,1), thresholds)"
   ]
  },
  {
   "cell_type": "markdown",
   "metadata": {},
   "source": [
    "# adaboost"
   ]
  },
  {
   "cell_type": "code",
   "execution_count": 42,
   "metadata": {
    "ExecuteTime": {
     "end_time": "2019-04-25T05:55:24.141571Z",
     "start_time": "2019-04-25T05:55:24.133932Z"
    }
   },
   "outputs": [],
   "source": [
    "from sklearn.ensemble import AdaBoostClassifier\n",
    "ada = AdaBoostClassifier()"
   ]
  },
  {
   "cell_type": "code",
   "execution_count": 61,
   "metadata": {
    "ExecuteTime": {
     "end_time": "2019-04-23T02:34:59.116734Z",
     "start_time": "2019-04-23T02:31:57.022128Z"
    }
   },
   "outputs": [
    {
     "name": "stdout",
     "output_type": "stream",
     "text": [
      "0 번째 accuracy non_scale : 0.9788% StandardScale : 0.8703% MinMax : 0.1934% MaxAbs : 0.9858%\n",
      "1 번째 accuracy non_scale : 0.9905% StandardScale : 0.9811% MinMax : 0.1939% MaxAbs : 0.9882%\n",
      "2 번째 accuracy non_scale : 0.9693% StandardScale : 0.9740% MinMax : 0.1939% MaxAbs : 0.9716%\n",
      "3 번째 accuracy non_scale : 0.9787% StandardScale : 0.2133% MinMax : 0.1919% MaxAbs : 0.9787%\n",
      "4 번째 accuracy non_scale : 0.9882% StandardScale : 0.9739% MinMax : 0.1919% MaxAbs : 0.9834%\n",
      "\n",
      " mean accuracy non_scale : 0.9811% StandardScale : 0.8025% MinMax : 0.1930% MaxAbs : 0.9815%\n"
     ]
    }
   ],
   "source": [
    "model_pipeline(ada)"
   ]
  },
  {
   "cell_type": "code",
   "execution_count": 121,
   "metadata": {
    "ExecuteTime": {
     "end_time": "2019-04-23T05:29:43.799383Z",
     "start_time": "2019-04-23T05:29:22.839331Z"
    }
   },
   "outputs": [
    {
     "name": "stdout",
     "output_type": "stream",
     "text": [
      "###non-scaled###\n",
      "accuracy : 0.6286 precision : 0.6481 recall : 0.8333 F1 : 0.7292 AUC : 0.5774\n",
      "[[ 9 19]\n",
      " [ 7 35]]\n",
      "###StandardScaler###\n",
      "accuracy : 0.6714 precision : 0.6610 recall : 0.9286 F1 : 0.7723 AUC : 0.6071\n",
      "[[ 8 20]\n",
      " [ 3 39]]\n",
      "###MinMaxScaler###\n",
      "accuracy : 0.6000 precision : 0.6000 recall : 1.0000 F1 : 0.7500 AUC : 0.5000\n",
      "[[ 0 28]\n",
      " [ 0 42]]\n",
      "###MaxAbsScaler###\n",
      "accuracy : 0.6714 precision : 0.7021 recall : 0.7857 F1 : 0.7416 AUC : 0.6429\n",
      "[[14 14]\n",
      " [ 9 33]]\n"
     ]
    }
   ],
   "source": [
    "pipeline_urine(ada)"
   ]
  },
  {
   "cell_type": "code",
   "execution_count": 43,
   "metadata": {
    "ExecuteTime": {
     "end_time": "2019-04-25T05:55:48.249697Z",
     "start_time": "2019-04-25T05:55:37.099174Z"
    }
   },
   "outputs": [
    {
     "name": "stdout",
     "output_type": "stream",
     "text": [
      "threshold ;  0.4\n",
      "accuracy : 0.5857 precision : 0.5942 recall : 0.9762 F1 : 0.7387 AUC : 0.4881\n",
      "[[ 0 28]\n",
      " [ 1 41]]\n",
      "\n",
      "\n",
      "threshold ;  0.45\n",
      "accuracy : 0.7000 precision : 0.7333 recall : 0.7857 F1 : 0.7586 AUC : 0.6786\n",
      "[[16 12]\n",
      " [ 9 33]]\n",
      "\n",
      "\n",
      "threshold ;  0.5\n",
      "accuracy : 0.6429 precision : 0.8696 recall : 0.4762 F1 : 0.6154 AUC : 0.6845\n",
      "[[25  3]\n",
      " [22 20]]\n",
      "\n",
      "\n",
      "threshold ;  0.55\n",
      "accuracy : 0.5429 precision : 0.8125 recall : 0.3095 F1 : 0.4483 AUC : 0.6012\n",
      "[[25  3]\n",
      " [29 13]]\n",
      "\n",
      "\n",
      "threshold ;  0.6\n",
      "accuracy : 0.4286 precision : 0.6667 recall : 0.0952 F1 : 0.1667 AUC : 0.5119\n",
      "[[26  2]\n",
      " [38  4]]\n",
      "\n",
      "\n"
     ]
    }
   ],
   "source": [
    "#best\n",
    "ada.fit(X_mas,y)\n",
    "thresholds = [0.4,0.45,0.5,0.55,0.6]\n",
    "get_eval_by_threshold(urine_y, ada.predict_proba(urine_X_mas)[:,1].reshape(-1,1), thresholds)"
   ]
  },
  {
   "cell_type": "markdown",
   "metadata": {},
   "source": [
    "# decision tree"
   ]
  },
  {
   "cell_type": "code",
   "execution_count": 45,
   "metadata": {
    "ExecuteTime": {
     "end_time": "2019-04-25T05:57:30.587174Z",
     "start_time": "2019-04-25T05:57:30.580095Z"
    }
   },
   "outputs": [],
   "source": [
    "from sklearn.tree import DecisionTreeClassifier\n",
    "tree = DecisionTreeClassifier()"
   ]
  },
  {
   "cell_type": "code",
   "execution_count": 189,
   "metadata": {
    "ExecuteTime": {
     "end_time": "2019-04-20T12:07:57.043387Z",
     "start_time": "2019-04-20T12:07:41.144368Z"
    }
   },
   "outputs": [
    {
     "name": "stdout",
     "output_type": "stream",
     "text": [
      "0 번째 accuracy non_scale : 0.9670% StandardScale : 0.1580% MinMax : 0.1934% MaxAbs : 0.9646%\n",
      "1 번째 accuracy non_scale : 0.9551% StandardScale : 0.9409% MinMax : 0.1939% MaxAbs : 0.9740%\n",
      "2 번째 accuracy non_scale : 0.9456% StandardScale : 0.1939% MinMax : 0.1939% MaxAbs : 0.9811%\n",
      "3 번째 accuracy non_scale : 0.9123% StandardScale : 0.1635% MinMax : 0.1919% MaxAbs : 0.9645%\n",
      "4 번째 accuracy non_scale : 0.9431% StandardScale : 0.2014% MinMax : 0.1919% MaxAbs : 0.9645%\n",
      "\n",
      " mean accuracy non_scale : 0.9446% StandardScale : 0.3315% MinMax : 0.1930% MaxAbs : 0.9697%\n"
     ]
    }
   ],
   "source": [
    "model_pipeline(tree)"
   ]
  },
  {
   "cell_type": "code",
   "execution_count": 46,
   "metadata": {
    "ExecuteTime": {
     "end_time": "2019-04-25T05:57:43.316379Z",
     "start_time": "2019-04-25T05:57:34.154502Z"
    }
   },
   "outputs": [
    {
     "name": "stdout",
     "output_type": "stream",
     "text": [
      "###non-scaled###\n",
      "accuracy : 0.5571 precision : 0.5965 recall : 0.8095 F1 : 0.6869 AUC : 0.4940\n",
      "[[ 5 23]\n",
      " [ 8 34]]\n",
      "###StandardScaler###\n",
      "accuracy : 0.5857 precision : 0.6140 recall : 0.8333 F1 : 0.7071 AUC : 0.5238\n",
      "[[ 6 22]\n",
      " [ 7 35]]\n",
      "###MinMaxScaler###\n",
      "accuracy : 0.6000 precision : 0.6000 recall : 1.0000 F1 : 0.7500 AUC : 0.5000\n",
      "[[ 0 28]\n",
      " [ 0 42]]\n",
      "###MaxAbsScaler###\n",
      "accuracy : 0.5714 precision : 0.6111 recall : 0.7857 F1 : 0.6875 AUC : 0.5179\n",
      "[[ 7 21]\n",
      " [ 9 33]]\n"
     ]
    }
   ],
   "source": [
    "pipeline_urine(tree)"
   ]
  },
  {
   "cell_type": "code",
   "execution_count": 48,
   "metadata": {
    "ExecuteTime": {
     "end_time": "2019-04-25T05:58:15.003252Z",
     "start_time": "2019-04-25T05:58:12.805520Z"
    }
   },
   "outputs": [
    {
     "name": "stdout",
     "output_type": "stream",
     "text": [
      "threshold ;  0.4\n",
      "accuracy : 0.6286 precision : 0.6481 recall : 0.8333 F1 : 0.7292 AUC : 0.5774\n",
      "[[ 9 19]\n",
      " [ 7 35]]\n",
      "\n",
      "\n",
      "threshold ;  0.45\n",
      "accuracy : 0.6286 precision : 0.6481 recall : 0.8333 F1 : 0.7292 AUC : 0.5774\n",
      "[[ 9 19]\n",
      " [ 7 35]]\n",
      "\n",
      "\n",
      "threshold ;  0.5\n",
      "accuracy : 0.6286 precision : 0.6481 recall : 0.8333 F1 : 0.7292 AUC : 0.5774\n",
      "[[ 9 19]\n",
      " [ 7 35]]\n",
      "\n",
      "\n",
      "threshold ;  0.55\n",
      "accuracy : 0.6286 precision : 0.6481 recall : 0.8333 F1 : 0.7292 AUC : 0.5774\n",
      "[[ 9 19]\n",
      " [ 7 35]]\n",
      "\n",
      "\n",
      "threshold ;  0.6\n",
      "accuracy : 0.6286 precision : 0.6481 recall : 0.8333 F1 : 0.7292 AUC : 0.5774\n",
      "[[ 9 19]\n",
      " [ 7 35]]\n",
      "\n",
      "\n"
     ]
    }
   ],
   "source": [
    "tree.fit(X_mas,y)\n",
    "thresholds = [0.4,0.45,0.5,0.55,0.6]\n",
    "get_eval_by_threshold(urine_y, tree.predict_proba(urine_X_mas)[:,1].reshape(-1,1), thresholds)"
   ]
  },
  {
   "cell_type": "markdown",
   "metadata": {},
   "source": [
    "# GradientBoostingClassifier"
   ]
  },
  {
   "cell_type": "code",
   "execution_count": 50,
   "metadata": {
    "ExecuteTime": {
     "end_time": "2019-04-25T05:58:43.536683Z",
     "start_time": "2019-04-25T05:58:43.532190Z"
    }
   },
   "outputs": [],
   "source": [
    "from sklearn.ensemble import GradientBoostingClassifier\n",
    "gb = GradientBoostingClassifier()"
   ]
  },
  {
   "cell_type": "code",
   "execution_count": 192,
   "metadata": {
    "ExecuteTime": {
     "end_time": "2019-04-20T12:11:08.835955Z",
     "start_time": "2019-04-20T12:09:18.336598Z"
    }
   },
   "outputs": [
    {
     "name": "stdout",
     "output_type": "stream",
     "text": [
      "0 번째 accuracy non_scale : 0.9835% StandardScale : 0.9741% MinMax : 0.1934% MaxAbs : 0.9858%\n",
      "1 번째 accuracy non_scale : 0.9835% StandardScale : 0.9551% MinMax : 0.1939% MaxAbs : 0.9882%\n",
      "2 번째 accuracy non_scale : 0.9764% StandardScale : 0.9787% MinMax : 0.1939% MaxAbs : 0.9764%\n",
      "3 번째 accuracy non_scale : 0.9810% StandardScale : 0.9834% MinMax : 0.1919% MaxAbs : 0.9858%\n",
      "4 번째 accuracy non_scale : 0.9787% StandardScale : 0.9716% MinMax : 0.1919% MaxAbs : 0.9858%\n",
      "\n",
      " mean accuracy non_scale : 0.9806% StandardScale : 0.9726% MinMax : 0.1930% MaxAbs : 0.9844%\n"
     ]
    }
   ],
   "source": [
    "model_pipeline(gb)"
   ]
  },
  {
   "cell_type": "code",
   "execution_count": 51,
   "metadata": {
    "ExecuteTime": {
     "end_time": "2019-04-25T05:59:40.944111Z",
     "start_time": "2019-04-25T05:58:47.870162Z"
    }
   },
   "outputs": [
    {
     "name": "stdout",
     "output_type": "stream",
     "text": [
      "###non-scaled###\n",
      "accuracy : 0.6143 precision : 0.6119 recall : 0.9762 F1 : 0.7523 AUC : 0.5238\n",
      "[[ 2 26]\n",
      " [ 1 41]]\n",
      "###StandardScaler###\n",
      "accuracy : 0.6714 precision : 0.6667 recall : 0.9048 F1 : 0.7677 AUC : 0.6131\n",
      "[[ 9 19]\n",
      " [ 4 38]]\n",
      "###MinMaxScaler###\n",
      "accuracy : 0.6000 precision : 0.6000 recall : 1.0000 F1 : 0.7500 AUC : 0.5000\n",
      "[[ 0 28]\n",
      " [ 0 42]]\n",
      "###MaxAbsScaler###\n",
      "accuracy : 0.6286 precision : 0.6250 recall : 0.9524 F1 : 0.7547 AUC : 0.5476\n",
      "[[ 4 24]\n",
      " [ 2 40]]\n"
     ]
    }
   ],
   "source": [
    "pipeline_urine(gb)"
   ]
  },
  {
   "cell_type": "code",
   "execution_count": 52,
   "metadata": {
    "ExecuteTime": {
     "end_time": "2019-04-25T06:01:15.977326Z",
     "start_time": "2019-04-25T06:01:02.918787Z"
    }
   },
   "outputs": [
    {
     "name": "stdout",
     "output_type": "stream",
     "text": [
      "threshold ;  0.35\n",
      "accuracy : 0.6143 precision : 0.6154 recall : 0.9524 F1 : 0.7477 AUC : 0.5298\n",
      "[[ 3 25]\n",
      " [ 2 40]]\n",
      "\n",
      "\n",
      "threshold ;  0.4\n",
      "accuracy : 0.6286 precision : 0.6250 recall : 0.9524 F1 : 0.7547 AUC : 0.5476\n",
      "[[ 4 24]\n",
      " [ 2 40]]\n",
      "\n",
      "\n",
      "threshold ;  0.5\n",
      "accuracy : 0.6286 precision : 0.6250 recall : 0.9524 F1 : 0.7547 AUC : 0.5476\n",
      "[[ 4 24]\n",
      " [ 2 40]]\n",
      "\n",
      "\n",
      "threshold ;  0.6\n",
      "accuracy : 0.6286 precision : 0.6250 recall : 0.9524 F1 : 0.7547 AUC : 0.5476\n",
      "[[ 4 24]\n",
      " [ 2 40]]\n",
      "\n",
      "\n",
      "threshold ;  0.7\n",
      "accuracy : 0.6429 precision : 0.6349 recall : 0.9524 F1 : 0.7619 AUC : 0.5655\n",
      "[[ 5 23]\n",
      " [ 2 40]]\n",
      "\n",
      "\n"
     ]
    }
   ],
   "source": [
    "gb.fit(X,y)\n",
    "thresholds = [0.35,0.4,0.5,0.6,0.7]\n",
    "get_eval_by_threshold(urine_y, gb.predict_proba(urine_X)[:,1].reshape(-1,1), thresholds)"
   ]
  },
  {
   "cell_type": "code",
   "execution_count": 54,
   "metadata": {
    "ExecuteTime": {
     "end_time": "2019-04-25T06:13:34.897625Z",
     "start_time": "2019-04-25T06:13:21.426954Z"
    }
   },
   "outputs": [
    {
     "name": "stdout",
     "output_type": "stream",
     "text": [
      "threshold ;  0.35\n",
      "accuracy : 0.6429 precision : 0.6889 recall : 0.7381 F1 : 0.7126 AUC : 0.6190\n",
      "[[14 14]\n",
      " [11 31]]\n",
      "\n",
      "\n",
      "threshold ;  0.4\n",
      "accuracy : 0.6714 precision : 0.7209 recall : 0.7381 F1 : 0.7294 AUC : 0.6548\n",
      "[[16 12]\n",
      " [11 31]]\n",
      "\n",
      "\n",
      "threshold ;  0.5\n",
      "accuracy : 0.7000 precision : 0.7692 recall : 0.7143 F1 : 0.7407 AUC : 0.6964\n",
      "[[19  9]\n",
      " [12 30]]\n",
      "\n",
      "\n",
      "threshold ;  0.6\n",
      "accuracy : 0.6857 precision : 0.7941 recall : 0.6429 F1 : 0.7105 AUC : 0.6964\n",
      "[[21  7]\n",
      " [15 27]]\n",
      "\n",
      "\n",
      "threshold ;  0.7\n",
      "accuracy : 0.6429 precision : 0.7931 recall : 0.5476 F1 : 0.6479 AUC : 0.6667\n",
      "[[22  6]\n",
      " [19 23]]\n",
      "\n",
      "\n"
     ]
    }
   ],
   "source": [
    "gb.fit(X_mas,y)\n",
    "thresholds = [0.35,0.4,0.5,0.6,0.7]\n",
    "get_eval_by_threshold(urine_y, gb.predict_proba(urine_X_mas)[:,1].reshape(-1,1), thresholds)"
   ]
  },
  {
   "cell_type": "markdown",
   "metadata": {},
   "source": [
    "# SVM"
   ]
  },
  {
   "cell_type": "code",
   "execution_count": 59,
   "metadata": {
    "ExecuteTime": {
     "end_time": "2019-04-25T06:14:50.486105Z",
     "start_time": "2019-04-25T06:14:50.482716Z"
    }
   },
   "outputs": [],
   "source": [
    "from sklearn.svm import SVC\n",
    "svm = SVC(probability=True)"
   ]
  },
  {
   "cell_type": "code",
   "execution_count": 199,
   "metadata": {
    "ExecuteTime": {
     "end_time": "2019-04-20T12:41:22.035242Z",
     "start_time": "2019-04-20T12:40:45.290470Z"
    }
   },
   "outputs": [
    {
     "name": "stdout",
     "output_type": "stream",
     "text": [
      "0 번째 accuracy non_scale : 0.9693% StandardScale : 0.9858% MinMax : 0.8986% MaxAbs : 0.9599%\n",
      "1 번째 accuracy non_scale : 0.9764% StandardScale : 0.9882% MinMax : 0.8889% MaxAbs : 0.9669%\n",
      "2 번째 accuracy non_scale : 0.9551% StandardScale : 0.9787% MinMax : 0.8629% MaxAbs : 0.9504%\n",
      "3 번째 accuracy non_scale : 0.9668% StandardScale : 0.9882% MinMax : 0.8815% MaxAbs : 0.9597%\n",
      "4 번째 accuracy non_scale : 0.9692% StandardScale : 0.9810% MinMax : 0.9005% MaxAbs : 0.9645%\n",
      "\n",
      " mean accuracy non_scale : 0.9674% StandardScale : 0.9844% MinMax : 0.8865% MaxAbs : 0.9603%\n"
     ]
    }
   ],
   "source": [
    "model_pipeline(svm)"
   ]
  },
  {
   "cell_type": "code",
   "execution_count": 60,
   "metadata": {
    "ExecuteTime": {
     "end_time": "2019-04-25T06:15:39.537013Z",
     "start_time": "2019-04-25T06:14:52.748819Z"
    }
   },
   "outputs": [
    {
     "name": "stdout",
     "output_type": "stream",
     "text": [
      "###non-scaled###\n",
      "accuracy : 0.5571 precision : 0.8235 recall : 0.3333 F1 : 0.4746 AUC : 0.6131\n",
      "[[25  3]\n",
      " [28 14]]\n",
      "###StandardScaler###\n",
      "accuracy : 0.6429 precision : 0.6441 recall : 0.9048 F1 : 0.7525 AUC : 0.5774\n",
      "[[ 7 21]\n",
      " [ 4 38]]\n",
      "###MinMaxScaler###\n",
      "accuracy : 0.5286 precision : 0.8000 recall : 0.2857 F1 : 0.4211 AUC : 0.5893\n",
      "[[25  3]\n",
      " [30 12]]\n",
      "###MaxAbsScaler###\n",
      "accuracy : 0.5143 precision : 0.7857 recall : 0.2619 F1 : 0.3929 AUC : 0.5774\n",
      "[[25  3]\n",
      " [31 11]]\n"
     ]
    }
   ],
   "source": [
    "pipeline_urine(svm)"
   ]
  },
  {
   "cell_type": "code",
   "execution_count": 64,
   "metadata": {
    "ExecuteTime": {
     "end_time": "2019-04-25T06:17:04.252427Z",
     "start_time": "2019-04-25T06:16:59.632059Z"
    }
   },
   "outputs": [
    {
     "name": "stdout",
     "output_type": "stream",
     "text": [
      "threshold ;  0.35\n",
      "accuracy : 0.5857 precision : 0.7407 recall : 0.4762 F1 : 0.5797 AUC : 0.6131\n",
      "[[21  7]\n",
      " [22 20]]\n",
      "\n",
      "\n",
      "threshold ;  0.4\n",
      "accuracy : 0.6143 precision : 0.8261 recall : 0.4524 F1 : 0.5846 AUC : 0.6548\n",
      "[[24  4]\n",
      " [23 19]]\n",
      "\n",
      "\n",
      "threshold ;  0.45\n",
      "accuracy : 0.5571 precision : 0.8235 recall : 0.3333 F1 : 0.4746 AUC : 0.6131\n",
      "[[25  3]\n",
      " [28 14]]\n",
      "\n",
      "\n",
      "threshold ;  0.5\n",
      "accuracy : 0.5571 precision : 0.8235 recall : 0.3333 F1 : 0.4746 AUC : 0.6131\n",
      "[[25  3]\n",
      " [28 14]]\n",
      "\n",
      "\n",
      "threshold ;  0.55\n",
      "accuracy : 0.5143 precision : 0.7857 recall : 0.2619 F1 : 0.3929 AUC : 0.5774\n",
      "[[25  3]\n",
      " [31 11]]\n",
      "\n",
      "\n"
     ]
    }
   ],
   "source": [
    "svm.fit(X_standard,y)\n",
    "thresholds = [0.35,0.4,0.45,0.5,0.55]\n",
    "get_eval_by_threshold(urine_y, svm.predict_proba(urine_X_standard)[:,1].reshape(-1,1), thresholds)"
   ]
  },
  {
   "cell_type": "markdown",
   "metadata": {},
   "source": [
    "# ligthGBM"
   ]
  },
  {
   "cell_type": "code",
   "execution_count": 86,
   "metadata": {
    "ExecuteTime": {
     "end_time": "2019-04-23T05:07:13.114895Z",
     "start_time": "2019-04-23T05:07:13.110908Z"
    }
   },
   "outputs": [],
   "source": [
    "from lightgbm import LGBMClassifier\n",
    "lgb = LGBMClassifier()"
   ]
  },
  {
   "cell_type": "code",
   "execution_count": 74,
   "metadata": {
    "ExecuteTime": {
     "end_time": "2019-04-23T02:46:24.645858Z",
     "start_time": "2019-04-23T02:42:18.725157Z"
    }
   },
   "outputs": [
    {
     "name": "stdout",
     "output_type": "stream",
     "text": [
      "0 번째 accuracy non_scale : 0.9858% StandardScale : 0.9788% MinMax : 0.1934% MaxAbs : 0.9835%\n",
      "1 번째 accuracy non_scale : 0.9858% StandardScale : 0.9905% MinMax : 0.1939% MaxAbs : 0.9882%\n",
      "2 번째 accuracy non_scale : 0.9835% StandardScale : 0.9764% MinMax : 0.1939% MaxAbs : 0.9787%\n",
      "3 번째 accuracy non_scale : 0.9834% StandardScale : 0.9834% MinMax : 0.1919% MaxAbs : 0.9882%\n",
      "4 번째 accuracy non_scale : 0.9810% StandardScale : 0.9858% MinMax : 0.1919% MaxAbs : 0.9858%\n",
      "\n",
      " mean accuracy non_scale : 0.9839% StandardScale : 0.9830% MinMax : 0.1930% MaxAbs : 0.9849%\n"
     ]
    }
   ],
   "source": [
    "model_pipeline(lgb)"
   ]
  },
  {
   "cell_type": "code",
   "execution_count": 87,
   "metadata": {
    "ExecuteTime": {
     "end_time": "2019-04-23T05:07:36.153441Z",
     "start_time": "2019-04-23T05:07:17.182572Z"
    }
   },
   "outputs": [
    {
     "name": "stdout",
     "output_type": "stream",
     "text": [
      "accuracy : 0.6286 precision : 0.6250 recall : 0.9524 F1 : 0.7547 AUC : 0.5476\n",
      "[[ 4 24]\n",
      " [ 2 40]]\n",
      "accuracy : 0.6000 precision : 0.6000 recall : 1.0000 F1 : 0.7500 AUC : 0.5000\n",
      "[[ 0 28]\n",
      " [ 0 42]]\n",
      "accuracy : 0.6286 precision : 0.6212 recall : 0.9762 F1 : 0.7593 AUC : 0.5417\n",
      "[[ 3 25]\n",
      " [ 1 41]]\n"
     ]
    }
   ],
   "source": [
    "pipeline_urine(lgb)"
   ]
  },
  {
   "cell_type": "markdown",
   "metadata": {},
   "source": [
    "## not scaled"
   ]
  },
  {
   "cell_type": "code",
   "execution_count": 48,
   "metadata": {
    "ExecuteTime": {
     "end_time": "2019-04-23T04:50:47.020745Z",
     "start_time": "2019-04-23T04:50:33.149788Z"
    }
   },
   "outputs": [
    {
     "name": "stdout",
     "output_type": "stream",
     "text": [
      "Training until validation scores don't improve for 100 rounds.\n",
      "[50]\tvalid_0's binary_logloss: 0.735598\tvalid_0's binary_logloss: 0.735598\n",
      "[100]\tvalid_0's binary_logloss: 0.701504\tvalid_0's binary_logloss: 0.701504\n",
      "[150]\tvalid_0's binary_logloss: 0.735156\tvalid_0's binary_logloss: 0.735156\n",
      "[200]\tvalid_0's binary_logloss: 0.788854\tvalid_0's binary_logloss: 0.788854\n",
      "Early stopping, best iteration is:\n",
      "[100]\tvalid_0's binary_logloss: 0.701504\tvalid_0's binary_logloss: 0.701504\n"
     ]
    },
    {
     "data": {
      "text/plain": [
       "LGBMClassifier(boosting_type='gbdt', class_weight=None, colsample_bytree=1.0,\n",
       "        importance_type='split', learning_rate=0.01, max_depth=-1,\n",
       "        min_child_samples=20, min_child_weight=0.001, min_split_gain=0.0,\n",
       "        n_estimators=400, n_jobs=-1, num_leaves=31, objective=None,\n",
       "        random_state=None, reg_alpha=0.0, reg_lambda=0.0, silent=True,\n",
       "        subsample=1.0, subsample_for_bin=200000, subsample_freq=0)"
      ]
     },
     "execution_count": 48,
     "metadata": {},
     "output_type": "execute_result"
    }
   ],
   "source": [
    "lgb = LGBMClassifier(n_estimators=400, learning_rate=0.01)\n",
    "evals = [(urine_X, urine_y)]\n",
    "\n",
    "lgb.fit(X ,y, early_stopping_rounds = 100, eval_metric = 'logloss', eval_set = evals, verbose = 50)"
   ]
  },
  {
   "cell_type": "code",
   "execution_count": 49,
   "metadata": {
    "ExecuteTime": {
     "end_time": "2019-04-23T04:50:47.172739Z",
     "start_time": "2019-04-23T04:50:47.023134Z"
    }
   },
   "outputs": [
    {
     "name": "stdout",
     "output_type": "stream",
     "text": [
      "accuracy : 0.5143 precision : 0.5870 recall : 0.6429 F1 : 0.6136 AUC : 0.4821\n",
      "[[ 9 19]\n",
      " [15 27]]\n"
     ]
    }
   ],
   "source": [
    "pred = lgb.predict(urine_X)\n",
    "get_eval(urine_y, pred)"
   ]
  },
  {
   "cell_type": "code",
   "execution_count": 51,
   "metadata": {
    "ExecuteTime": {
     "end_time": "2019-04-23T04:51:41.334961Z",
     "start_time": "2019-04-23T04:51:41.180558Z"
    }
   },
   "outputs": [
    {
     "name": "stdout",
     "output_type": "stream",
     "text": [
      "threshold ;  0.5\n",
      "accuracy : 0.5143 precision : 0.5870 recall : 0.6429 F1 : 0.6136 AUC : 0.4821\n",
      "[[ 9 19]\n",
      " [15 27]]\n",
      "\n",
      "\n",
      "threshold ;  0.55\n",
      "accuracy : 0.5714 precision : 0.6579 recall : 0.5952 F1 : 0.6250 AUC : 0.5655\n",
      "[[15 13]\n",
      " [17 25]]\n",
      "\n",
      "\n",
      "threshold ;  0.6\n",
      "accuracy : 0.5714 precision : 0.6667 recall : 0.5714 F1 : 0.6154 AUC : 0.5714\n",
      "[[16 12]\n",
      " [18 24]]\n",
      "\n",
      "\n",
      "threshold ;  0.65\n",
      "accuracy : 0.5857 precision : 0.8421 recall : 0.3810 F1 : 0.5246 AUC : 0.6369\n",
      "[[25  3]\n",
      " [26 16]]\n",
      "\n",
      "\n",
      "threshold ;  0.7\n",
      "accuracy : 0.5429 precision : 0.9167 recall : 0.2619 F1 : 0.4074 AUC : 0.6131\n",
      "[[27  1]\n",
      " [31 11]]\n",
      "\n",
      "\n",
      "threshold ;  0\n",
      "accuracy : 0.6000 precision : 0.6000 recall : 1.0000 F1 : 0.7500 AUC : 0.5000\n",
      "[[ 0 28]\n",
      " [ 0 42]]\n",
      "\n",
      "\n"
     ]
    }
   ],
   "source": [
    "thresholds = [0.5,0.55,0.6,0.65,0.7,0]\n",
    "get_eval_by_threshold(urine_y, lgb.predict_proba(urine_X)[:,1].reshape(-1,1), thresholds)"
   ]
  },
  {
   "cell_type": "markdown",
   "metadata": {},
   "source": [
    "## standard"
   ]
  },
  {
   "cell_type": "code",
   "execution_count": 64,
   "metadata": {
    "ExecuteTime": {
     "end_time": "2019-04-23T04:57:04.125699Z",
     "start_time": "2019-04-23T04:56:52.341996Z"
    }
   },
   "outputs": [
    {
     "name": "stdout",
     "output_type": "stream",
     "text": [
      "Training until validation scores don't improve for 100 rounds.\n",
      "[50]\tvalid_0's binary_logloss: 0.705152\tvalid_0's binary_logloss: 0.705152\n",
      "[100]\tvalid_0's binary_logloss: 0.718558\tvalid_0's binary_logloss: 0.718558\n",
      "[150]\tvalid_0's binary_logloss: 0.821201\tvalid_0's binary_logloss: 0.821201\n",
      "Early stopping, best iteration is:\n",
      "[68]\tvalid_0's binary_logloss: 0.692048\tvalid_0's binary_logloss: 0.692048\n"
     ]
    },
    {
     "data": {
      "text/plain": [
       "LGBMClassifier(boosting_type='gbdt', class_weight=None, colsample_bytree=1.0,\n",
       "        importance_type='split', learning_rate=0.01, max_depth=-1,\n",
       "        min_child_samples=20, min_child_weight=0.001, min_split_gain=0.0,\n",
       "        n_estimators=400, n_jobs=-1, num_leaves=31, objective=None,\n",
       "        random_state=None, reg_alpha=0.0, reg_lambda=0.0, silent=True,\n",
       "        subsample=1.0, subsample_for_bin=200000, subsample_freq=0)"
      ]
     },
     "execution_count": 64,
     "metadata": {},
     "output_type": "execute_result"
    }
   ],
   "source": [
    "lgb = LGBMClassifier(n_estimators=400, learning_rate=0.01)\n",
    "evals = [(urine_X_standard, urine_y)]\n",
    "\n",
    "lgb.fit(X_standard ,y, early_stopping_rounds = 100, eval_metric = 'logloss', eval_set = evals, verbose = 50)"
   ]
  },
  {
   "cell_type": "code",
   "execution_count": 56,
   "metadata": {
    "ExecuteTime": {
     "end_time": "2019-04-23T04:54:44.710250Z",
     "start_time": "2019-04-23T04:54:44.696287Z"
    }
   },
   "outputs": [
    {
     "name": "stdout",
     "output_type": "stream",
     "text": [
      "accuracy : 0.5429 precision : 0.5758 recall : 0.9048 F1 : 0.7037 AUC : 0.4524\n",
      "[[ 0 28]\n",
      " [ 4 38]]\n"
     ]
    }
   ],
   "source": [
    "pred = lgb.predict(urine_X_standard)\n",
    "get_eval(urine_y, pred) #똥"
   ]
  },
  {
   "cell_type": "markdown",
   "metadata": {},
   "source": [
    "## minmax"
   ]
  },
  {
   "cell_type": "code",
   "execution_count": 65,
   "metadata": {
    "ExecuteTime": {
     "end_time": "2019-04-23T04:57:23.973974Z",
     "start_time": "2019-04-23T04:57:13.350616Z"
    }
   },
   "outputs": [
    {
     "name": "stdout",
     "output_type": "stream",
     "text": [
      "Training until validation scores don't improve for 100 rounds.\n",
      "[50]\tvalid_0's binary_logloss: 0.689839\tvalid_0's binary_logloss: 0.689839\n",
      "[100]\tvalid_0's binary_logloss: 0.695689\tvalid_0's binary_logloss: 0.695689\n",
      "[150]\tvalid_0's binary_logloss: 0.800281\tvalid_0's binary_logloss: 0.800281\n",
      "Early stopping, best iteration is:\n",
      "[71]\tvalid_0's binary_logloss: 0.673253\tvalid_0's binary_logloss: 0.673253\n"
     ]
    },
    {
     "data": {
      "text/plain": [
       "LGBMClassifier(boosting_type='gbdt', class_weight=None, colsample_bytree=1.0,\n",
       "        importance_type='split', learning_rate=0.01, max_depth=-1,\n",
       "        min_child_samples=20, min_child_weight=0.001, min_split_gain=0.0,\n",
       "        n_estimators=500, n_jobs=-1, num_leaves=31, objective=None,\n",
       "        random_state=None, reg_alpha=0.0, reg_lambda=0.0, silent=True,\n",
       "        subsample=1.0, subsample_for_bin=200000, subsample_freq=0)"
      ]
     },
     "execution_count": 65,
     "metadata": {},
     "output_type": "execute_result"
    }
   ],
   "source": [
    "lgb = LGBMClassifier(n_estimators=500, learning_rate=0.01)\n",
    "evals = [(urine_X_mms, urine_y)]\n",
    "\n",
    "lgb.fit(X_mms ,y, early_stopping_rounds = 100, eval_metric = 'logloss', eval_set = evals, verbose = 50)"
   ]
  },
  {
   "cell_type": "code",
   "execution_count": 66,
   "metadata": {
    "ExecuteTime": {
     "end_time": "2019-04-23T04:57:24.030821Z",
     "start_time": "2019-04-23T04:57:23.976970Z"
    }
   },
   "outputs": [
    {
     "name": "stdout",
     "output_type": "stream",
     "text": [
      "threshold ;  0.3\n",
      "accuracy : 0.6000 precision : 0.6000 recall : 1.0000 F1 : 0.7500 AUC : 0.5000\n",
      "[[ 0 28]\n",
      " [ 0 42]]\n",
      "\n",
      "\n",
      "threshold ;  0.4\n",
      "accuracy : 0.6000 precision : 0.6000 recall : 1.0000 F1 : 0.7500 AUC : 0.5000\n",
      "[[ 0 28]\n",
      " [ 0 42]]\n",
      "\n",
      "\n",
      "threshold ;  0.5\n",
      "accuracy : 0.6000 precision : 0.6000 recall : 1.0000 F1 : 0.7500 AUC : 0.5000\n",
      "[[ 0 28]\n",
      " [ 0 42]]\n",
      "\n",
      "\n",
      "threshold ;  0.6\n",
      "accuracy : 0.5714 precision : 0.5938 recall : 0.9048 F1 : 0.7170 AUC : 0.4881\n",
      "[[ 2 26]\n",
      " [ 4 38]]\n",
      "\n",
      "\n",
      "threshold ;  0.7\n",
      "accuracy : 0.4000 precision : 0.0000 recall : 0.0000 F1 : 0.0000 AUC : 0.5000\n",
      "[[28  0]\n",
      " [42  0]]\n",
      "\n",
      "\n"
     ]
    }
   ],
   "source": [
    "thresholds = [0.3,0.4,0.5,0.6,0.7]\n",
    "get_eval_by_threshold(urine_y, lgb.predict_proba(urine_X_mms)[:,1].reshape(-1,1), thresholds)"
   ]
  },
  {
   "cell_type": "markdown",
   "metadata": {},
   "source": [
    "## maxabs"
   ]
  },
  {
   "cell_type": "code",
   "execution_count": 67,
   "metadata": {
    "ExecuteTime": {
     "end_time": "2019-04-23T04:58:08.930512Z",
     "start_time": "2019-04-23T04:57:56.183006Z"
    }
   },
   "outputs": [
    {
     "name": "stdout",
     "output_type": "stream",
     "text": [
      "Training until validation scores don't improve for 100 rounds.\n",
      "[50]\tvalid_0's binary_logloss: 0.835623\tvalid_0's binary_logloss: 0.835623\n",
      "[100]\tvalid_0's binary_logloss: 0.829883\tvalid_0's binary_logloss: 0.829883\n",
      "[150]\tvalid_0's binary_logloss: 0.845839\tvalid_0's binary_logloss: 0.845839\n",
      "Early stopping, best iteration is:\n",
      "[77]\tvalid_0's binary_logloss: 0.82165\tvalid_0's binary_logloss: 0.82165\n"
     ]
    },
    {
     "data": {
      "text/plain": [
       "LGBMClassifier(boosting_type='gbdt', class_weight=None, colsample_bytree=1.0,\n",
       "        importance_type='split', learning_rate=0.01, max_depth=-1,\n",
       "        min_child_samples=20, min_child_weight=0.001, min_split_gain=0.0,\n",
       "        n_estimators=500, n_jobs=-1, num_leaves=31, objective=None,\n",
       "        random_state=None, reg_alpha=0.0, reg_lambda=0.0, silent=True,\n",
       "        subsample=1.0, subsample_for_bin=200000, subsample_freq=0)"
      ]
     },
     "execution_count": 67,
     "metadata": {},
     "output_type": "execute_result"
    }
   ],
   "source": [
    "lgb = LGBMClassifier(n_estimators=500, learning_rate=0.01)\n",
    "evals = [(urine_X_mas, urine_y)]\n",
    "\n",
    "lgb.fit(X_mas ,y, early_stopping_rounds = 100, eval_metric = 'logloss', eval_set = evals, verbose = 50)"
   ]
  },
  {
   "cell_type": "code",
   "execution_count": 68,
   "metadata": {
    "ExecuteTime": {
     "end_time": "2019-04-23T04:58:09.243387Z",
     "start_time": "2019-04-23T04:58:09.183549Z"
    }
   },
   "outputs": [
    {
     "name": "stdout",
     "output_type": "stream",
     "text": [
      "threshold ;  0.3\n",
      "accuracy : 0.5286 precision : 0.6098 recall : 0.5952 F1 : 0.6024 AUC : 0.5119\n",
      "[[12 16]\n",
      " [17 25]]\n",
      "\n",
      "\n",
      "threshold ;  0.4\n",
      "accuracy : 0.5429 precision : 0.6667 recall : 0.4762 F1 : 0.5556 AUC : 0.5595\n",
      "[[18 10]\n",
      " [22 20]]\n",
      "\n",
      "\n",
      "threshold ;  0.5\n",
      "accuracy : 0.5286 precision : 0.7368 recall : 0.3333 F1 : 0.4590 AUC : 0.5774\n",
      "[[23  5]\n",
      " [28 14]]\n",
      "\n",
      "\n",
      "threshold ;  0.6\n",
      "accuracy : 0.4143 precision : 0.6667 recall : 0.0476 F1 : 0.0889 AUC : 0.5060\n",
      "[[27  1]\n",
      " [40  2]]\n",
      "\n",
      "\n",
      "threshold ;  0.7\n",
      "accuracy : 0.4000 precision : 0.0000 recall : 0.0000 F1 : 0.0000 AUC : 0.5000\n",
      "[[28  0]\n",
      " [42  0]]\n",
      "\n",
      "\n"
     ]
    }
   ],
   "source": [
    "thresholds = [0.3,0.4,0.5,0.6,0.7]\n",
    "get_eval_by_threshold(urine_y, lgb.predict_proba(urine_X_mas)[:,1].reshape(-1,1), thresholds)"
   ]
  }
 ],
 "metadata": {
  "hide_input": false,
  "kernelspec": {
   "display_name": "Python 3",
   "language": "python",
   "name": "python3"
  },
  "language_info": {
   "codemirror_mode": {
    "name": "ipython",
    "version": 3
   },
   "file_extension": ".py",
   "mimetype": "text/x-python",
   "name": "python",
   "nbconvert_exporter": "python",
   "pygments_lexer": "ipython3",
   "version": "3.7.1"
  },
  "toc": {
   "base_numbering": 1,
   "nav_menu": {},
   "number_sections": true,
   "sideBar": true,
   "skip_h1_title": false,
   "title_cell": "Table of Contents",
   "title_sidebar": "Contents",
   "toc_cell": false,
   "toc_position": {},
   "toc_section_display": true,
   "toc_window_display": true
  }
 },
 "nbformat": 4,
 "nbformat_minor": 2
}
