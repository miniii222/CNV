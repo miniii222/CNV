{
 "cells": [
  {
   "cell_type": "code",
   "execution_count": 2,
   "metadata": {
    "ExecuteTime": {
     "end_time": "2019-05-10T00:33:08.220957Z",
     "start_time": "2019-05-10T00:33:08.200643Z"
    }
   },
   "outputs": [
    {
     "data": {
      "text/plain": [
       "['TCGA_binary.csv',\n",
       " 'TCGA_data.csv',\n",
       " 'urine_binary.csv',\n",
       " 'urine_k15_0419.csv',\n",
       " 'urine_K15_0420.csv',\n",
       " 'urine_k15_0423.csv',\n",
       " 'urine_k15_0428.csv',\n",
       " 'urine_k15_120cases.csv']"
      ]
     },
     "execution_count": 2,
     "metadata": {},
     "output_type": "execute_result"
    }
   ],
   "source": [
    "import pandas as pd\n",
    "import numpy as np\n",
    "import os\n",
    "\n",
    "os.listdir('./data')"
   ]
  },
  {
   "cell_type": "code",
   "execution_count": 34,
   "metadata": {
    "ExecuteTime": {
     "end_time": "2019-05-10T00:46:24.832363Z",
     "start_time": "2019-05-10T00:46:19.272481Z"
    }
   },
   "outputs": [],
   "source": [
    "TCGA = pd.read_csv('./data/TCGA_data.csv')\n",
    "urine = pd.read_csv('./data/urine_k15_120cases.csv')"
   ]
  },
  {
   "cell_type": "code",
   "execution_count": 35,
   "metadata": {
    "ExecuteTime": {
     "end_time": "2019-05-10T00:46:24.850752Z",
     "start_time": "2019-05-10T00:46:24.837742Z"
    }
   },
   "outputs": [
    {
     "data": {
      "text/plain": [
       "(116, 789)"
      ]
     },
     "execution_count": 35,
     "metadata": {},
     "output_type": "execute_result"
    }
   ],
   "source": [
    "urine.shape"
   ]
  },
  {
   "cell_type": "code",
   "execution_count": 29,
   "metadata": {
    "ExecuteTime": {
     "end_time": "2019-05-10T00:43:30.443026Z",
     "start_time": "2019-05-10T00:43:30.412351Z"
    }
   },
   "outputs": [
    {
     "data": {
      "text/plain": [
       "BLCA_15k    42\n",
       "NL_15k      28\n",
       "PRAD_15k    23\n",
       "RCC_100k    23\n",
       "Name: y, dtype: int64"
      ]
     },
     "execution_count": 29,
     "metadata": {},
     "output_type": "execute_result"
    }
   ],
   "source": [
    "urine.y.value_counts()"
   ]
  },
  {
   "cell_type": "code",
   "execution_count": 36,
   "metadata": {
    "ExecuteTime": {
     "end_time": "2019-05-10T00:46:26.472714Z",
     "start_time": "2019-05-10T00:46:25.996086Z"
    }
   },
   "outputs": [],
   "source": [
    "TCGA = TCGA[(TCGA.y == 'BLCA') | (TCGA.y == 'Normal')]\n",
    "TCGA = TCGA.replace(['BLCA','Normal'],[ 1,0 ])\n",
    "TCGA = TCGA.reset_index(drop = True)"
   ]
  },
  {
   "cell_type": "code",
   "execution_count": null,
   "metadata": {},
   "outputs": [],
   "source": [
    "urine = urine[(urine.y == 'BLCA_15k') | (urine.y == 'NL_15k')]\n",
    "urine = urine.replace(['BLCA_15k','NL_15k'],[ 1,0 ])\n",
    "urine = urine.reset_index(drop = True)"
   ]
  },
  {
   "cell_type": "markdown",
   "metadata": {},
   "source": [
    "# wrong index"
   ]
  },
  {
   "cell_type": "code",
   "execution_count": 40,
   "metadata": {
    "ExecuteTime": {
     "end_time": "2019-05-10T00:46:45.894603Z",
     "start_time": "2019-05-10T00:46:45.865462Z"
    }
   },
   "outputs": [],
   "source": [
    "urine = urine.replace(['BLCA_15k','NL_15k','PRAD_15k','RCC_100k'],[ 1,0,2,3])"
   ]
  },
  {
   "cell_type": "code",
   "execution_count": 41,
   "metadata": {
    "ExecuteTime": {
     "end_time": "2019-05-10T00:46:47.319644Z",
     "start_time": "2019-05-10T00:46:47.307666Z"
    }
   },
   "outputs": [
    {
     "data": {
      "text/plain": [
       "1    42\n",
       "0    28\n",
       "3    23\n",
       "2    23\n",
       "Name: y, dtype: int64"
      ]
     },
     "execution_count": 41,
     "metadata": {},
     "output_type": "execute_result"
    }
   ],
   "source": [
    "urine.y.value_counts()"
   ]
  },
  {
   "cell_type": "code",
   "execution_count": 42,
   "metadata": {
    "ExecuteTime": {
     "end_time": "2019-05-10T00:46:56.928782Z",
     "start_time": "2019-05-10T00:46:56.920523Z"
    }
   },
   "outputs": [],
   "source": [
    "urine = urine.drop(['Unnamed: 0','X'], axis = 1)"
   ]
  },
  {
   "cell_type": "markdown",
   "metadata": {},
   "source": [
    "# Scaling"
   ]
  },
  {
   "cell_type": "code",
   "execution_count": 43,
   "metadata": {
    "ExecuteTime": {
     "end_time": "2019-05-10T00:47:01.475791Z",
     "start_time": "2019-05-10T00:47:01.457864Z"
    }
   },
   "outputs": [],
   "source": [
    "X = TCGA.drop('y', axis = 1)\n",
    "y = TCGA['y']\n",
    "\n",
    "urine_X = urine.drop('y', axis = 1)\n",
    "urine_y = urine['y']"
   ]
  },
  {
   "cell_type": "code",
   "execution_count": 44,
   "metadata": {
    "ExecuteTime": {
     "end_time": "2019-05-10T00:47:02.377979Z",
     "start_time": "2019-05-10T00:47:02.233169Z"
    }
   },
   "outputs": [
    {
     "name": "stderr",
     "output_type": "stream",
     "text": [
      "C:\\Users\\wjssm\\Anaconda3\\lib\\site-packages\\ipykernel_launcher.py:17: DataConversionWarning: Data with input dtype int64, float64 were all converted to float64 by StandardScaler.\n"
     ]
    }
   ],
   "source": [
    "from sklearn.preprocessing import StandardScaler\n",
    "from sklearn.preprocessing import MinMaxScaler\n",
    "from sklearn.preprocessing import MaxAbsScaler\n",
    "\n",
    "standardsc = StandardScaler()\n",
    "mms = MinMaxScaler()\n",
    "mas = MaxAbsScaler()\n",
    "\n",
    "standardsc.fit(X)\n",
    "mms.fit(X)\n",
    "mas.fit(X)\n",
    "\n",
    "X_standard = pd.DataFrame(standardsc.transform(X), columns = X.columns)\n",
    "X_mms = pd.DataFrame(mms.transform(X), columns = X.columns)\n",
    "X_mas = pd.DataFrame(mas.transform(X), columns = X.columns)\n",
    "\n",
    "urine_X_standard = standardsc.transform(urine_X)\n",
    "urine_X_mms = mms.transform(urine_X)\n",
    "urine_X_mas = mas.transform(urine_X)"
   ]
  },
  {
   "cell_type": "code",
   "execution_count": 45,
   "metadata": {
    "ExecuteTime": {
     "end_time": "2019-05-10T00:47:02.915169Z",
     "start_time": "2019-05-10T00:47:02.905671Z"
    }
   },
   "outputs": [],
   "source": [
    "from sklearn.metrics import accuracy_score\n",
    "from sklearn.metrics import recall_score\n",
    "from sklearn.metrics import precision_score\n",
    "from sklearn.metrics import confusion_matrix\n",
    "from sklearn.metrics import f1_score\n",
    "from sklearn.metrics import roc_auc_score\n",
    "from sklearn.metrics import classification_report\n",
    "from sklearn.metrics import roc_curve\n",
    "\n",
    "def get_eval(y_test, pred) :\n",
    "    \n",
    "    print('accuracy : {0:.4f} precision : {1:.4f} recall : {2:.4f} F1 : {3:.4f} AUC : {4:.4f}'.format(\n",
    "                                                        accuracy_score(y_test, pred), \n",
    "                                                        precision_score(y_test, pred),\n",
    "                                                        recall_score(y_test, pred),\n",
    "                                                        f1_score(y_test,pred),\n",
    "                                                        roc_auc_score(y_test, pred)\n",
    "                                                                      ))\n",
    "    \n",
    "    \n",
    "    \n",
    "    #print('accuracy : {0:.4f}'.format(accuracy_score(y_test,pred)), 'roc_auc_score : ', roc_auc_score(y_test,pred))\n",
    "    #print(classification_report(y_test, pred))\n",
    "    print(confusion_matrix(y_test, pred))"
   ]
  },
  {
   "cell_type": "code",
   "execution_count": 46,
   "metadata": {
    "ExecuteTime": {
     "end_time": "2019-05-10T00:47:03.973067Z",
     "start_time": "2019-05-10T00:47:03.961591Z"
    }
   },
   "outputs": [],
   "source": [
    "from sklearn.preprocessing import Binarizer\n",
    "\n",
    "def get_eval_by_threshold(y_test, pred_prba_c1, thresholds) :\n",
    "    \n",
    "    for custom_threshold in thresholds :\n",
    "        binarizer = Binarizer(threshold=custom_threshold).fit(pred_prba_c1)\n",
    "        custom_predict = binarizer.transform(pred_prba_c1)\n",
    "        \n",
    "        print('threshold ; ', custom_threshold)\n",
    "        get_eval(y_test, custom_predict)\n",
    "        print('\\n')"
   ]
  },
  {
   "cell_type": "code",
   "execution_count": 47,
   "metadata": {
    "ExecuteTime": {
     "end_time": "2019-05-10T00:47:04.286664Z",
     "start_time": "2019-05-10T00:47:04.280215Z"
    }
   },
   "outputs": [],
   "source": [
    "from sklearn.model_selection import StratifiedKFold\n",
    "\n",
    "skf = StratifiedKFold(n_splits = 5, random_state=0, shuffle = True)"
   ]
  },
  {
   "cell_type": "code",
   "execution_count": 48,
   "metadata": {
    "ExecuteTime": {
     "end_time": "2019-05-10T00:47:05.013549Z",
     "start_time": "2019-05-10T00:47:04.991583Z"
    }
   },
   "outputs": [],
   "source": [
    "def model_pipeline_2(model) :\n",
    "    \n",
    "    cv_acc = []\n",
    "    cv_acc_sc = []\n",
    "    cv_acc_mms = []\n",
    "    cv_acc_mas = []\n",
    "\n",
    "    for i, (tr_ind, te_ind) in enumerate(skf.split(X,y)) :\n",
    "\n",
    "        X_train, X_test = X.iloc[tr_ind], X.iloc[te_ind]\n",
    "        X_train_sc, X_test_sc = X_standard.iloc[tr_ind], X_standard.iloc[te_ind]\n",
    "        X_train_mms, X_test_mms = X_mms.iloc[tr_ind], X_mms.iloc[te_ind]\n",
    "        X_train_mas, X_test_mas = X_mas.iloc[tr_ind], X_mas.iloc[te_ind]\n",
    "        \n",
    "        y_train, y_test = y[tr_ind], y[te_ind]\n",
    "\n",
    "        model.fit(X_train, y_train)\n",
    "        cv_acc.append(accuracy_score(y[te_ind], model.predict(X_test)))\n",
    "        \n",
    "        model.fit(X_train_sc, y_train)\n",
    "        cv_acc_sc.append(accuracy_score(y[te_ind], model.predict(standardsc.transform(X_test_sc))))\n",
    "        \n",
    "        model.fit(X_train_mms, y_train)\n",
    "        cv_acc_mms.append(accuracy_score(y[te_ind], model.predict(mms.transform(X_test_mms))))\n",
    "        \n",
    "        model.fit(X_train_mas, y_train)\n",
    "        cv_acc_mas.append(accuracy_score(y[te_ind], model.predict(mas.transform(X_test_mas))))\n",
    "        \n",
    "        print('{0} 번째 accuracy non_scale : {1:.4f}% StandardScale : {2:.4f}% MinMax : {3:.4f}% MaxAbs : {4:.4f}%'.format(i,cv_acc[i],cv_acc_sc[i],cv_acc_mms[i],cv_acc_mas[i]))\n",
    "\n",
    "    print('\\n mean accuracy non_scale : {0:.4f}% StandardScale : {1:.4f}% MinMax : {2:.4f}% MaxAbs : {3:.4f}%'.format(np.mean(cv_acc),np.mean(cv_acc_sc),np.mean(cv_acc_mms),np.mean(cv_acc_mas)))"
   ]
  },
  {
   "cell_type": "code",
   "execution_count": 49,
   "metadata": {
    "ExecuteTime": {
     "end_time": "2019-05-10T00:47:06.253736Z",
     "start_time": "2019-05-10T00:47:06.237250Z"
    }
   },
   "outputs": [],
   "source": [
    "#predict urine data using pipeline\n",
    "\n",
    "def pipeline_urine(model) :\n",
    "    \n",
    "    model.fit(X,y)\n",
    "    print('###non-scaled###')\n",
    "    get_eval(urine_y, model.predict(urine_X))\n",
    "\n",
    "    model.fit(X_standard,y)\n",
    "    print('###StandardScaler###')\n",
    "    get_eval(urine_y, model.predict(urine_X_standard))\n",
    "    \n",
    "    model.fit(X_mms,y)\n",
    "    print('###MinMaxScaler###')\n",
    "    get_eval(urine_y, model.predict(urine_X_mms))\n",
    "    \n",
    "    model.fit(X_mas,y)\n",
    "    print('###MaxAbsScaler###')\n",
    "    get_eval(urine_y, model.predict(urine_X_mas))"
   ]
  },
  {
   "cell_type": "markdown",
   "metadata": {},
   "source": [
    "# logistic regression"
   ]
  },
  {
   "cell_type": "code",
   "execution_count": 27,
   "metadata": {
    "ExecuteTime": {
     "end_time": "2019-05-09T12:06:37.875850Z",
     "start_time": "2019-05-09T12:06:37.701252Z"
    }
   },
   "outputs": [],
   "source": [
    "from sklearn.linear_model import LogisticRegression\n",
    "\n",
    "lr = LogisticRegression()\n",
    "import warnings\n",
    "warnings.filterwarnings('ignore')"
   ]
  },
  {
   "cell_type": "code",
   "execution_count": 28,
   "metadata": {
    "ExecuteTime": {
     "end_time": "2019-05-09T12:06:47.755274Z",
     "start_time": "2019-05-09T12:06:38.039032Z"
    }
   },
   "outputs": [
    {
     "name": "stdout",
     "output_type": "stream",
     "text": [
      "0 번째 accuracy non_scale : 0.9764% StandardScale : 0.9575% MinMax : 0.8868% MaxAbs : 0.9717%\n",
      "1 번째 accuracy non_scale : 0.9905% StandardScale : 0.9693% MinMax : 0.8913% MaxAbs : 0.9882%\n",
      "2 번째 accuracy non_scale : 0.9764% StandardScale : 0.9645% MinMax : 0.8700% MaxAbs : 0.9716%\n",
      "3 번째 accuracy non_scale : 0.9834% StandardScale : 0.9597% MinMax : 0.8863% MaxAbs : 0.9810%\n",
      "4 번째 accuracy non_scale : 0.9763% StandardScale : 0.9787% MinMax : 0.8981% MaxAbs : 0.9739%\n",
      "\n",
      " mean accuracy non_scale : 0.9806% StandardScale : 0.9659% MinMax : 0.8865% MaxAbs : 0.9773%\n"
     ]
    }
   ],
   "source": [
    "model_pipeline_2(lr)"
   ]
  },
  {
   "cell_type": "code",
   "execution_count": 30,
   "metadata": {
    "ExecuteTime": {
     "end_time": "2019-05-09T12:07:13.532152Z",
     "start_time": "2019-05-09T12:07:11.105884Z"
    }
   },
   "outputs": [
    {
     "name": "stdout",
     "output_type": "stream",
     "text": [
      "###non-scaled###\n",
      "accuracy : 0.5000 precision : 1.0000 recall : 0.1667 F1 : 0.2857 AUC : 0.5833\n",
      "[[28  0]\n",
      " [35  7]]\n",
      "###StandardScaler###\n",
      "accuracy : 0.5429 precision : 0.8571 recall : 0.2857 F1 : 0.4286 AUC : 0.6071\n",
      "[[26  2]\n",
      " [30 12]]\n",
      "###MinMaxScaler###\n",
      "accuracy : 0.5714 precision : 0.9286 recall : 0.3095 F1 : 0.4643 AUC : 0.6369\n",
      "[[27  1]\n",
      " [29 13]]\n",
      "###MaxAbsScaler###\n",
      "accuracy : 0.4857 precision : 0.8000 recall : 0.1905 F1 : 0.3077 AUC : 0.5595\n",
      "[[26  2]\n",
      " [34  8]]\n"
     ]
    }
   ],
   "source": [
    "pipeline_urine(lr)"
   ]
  },
  {
   "cell_type": "markdown",
   "metadata": {},
   "source": [
    "# randomforest"
   ]
  },
  {
   "cell_type": "code",
   "execution_count": 31,
   "metadata": {
    "ExecuteTime": {
     "end_time": "2019-05-09T12:08:14.718026Z",
     "start_time": "2019-05-09T12:08:14.676809Z"
    }
   },
   "outputs": [],
   "source": [
    "from sklearn.ensemble import RandomForestClassifier\n",
    "rf = RandomForestClassifier(n_estimators=20, random_state = 10)"
   ]
  },
  {
   "cell_type": "code",
   "execution_count": 38,
   "metadata": {
    "ExecuteTime": {
     "end_time": "2019-05-09T12:11:15.388772Z",
     "start_time": "2019-05-09T12:11:05.556070Z"
    }
   },
   "outputs": [
    {
     "name": "stdout",
     "output_type": "stream",
     "text": [
      "0 번째 accuracy non_scale : 0.9764% StandardScale : 0.9575% MinMax : 0.8868% MaxAbs : 0.9717%\n",
      "1 번째 accuracy non_scale : 0.9905% StandardScale : 0.9693% MinMax : 0.8913% MaxAbs : 0.9882%\n",
      "2 번째 accuracy non_scale : 0.9764% StandardScale : 0.9645% MinMax : 0.8700% MaxAbs : 0.9716%\n",
      "3 번째 accuracy non_scale : 0.9834% StandardScale : 0.9597% MinMax : 0.8863% MaxAbs : 0.9810%\n",
      "4 번째 accuracy non_scale : 0.9763% StandardScale : 0.9787% MinMax : 0.8981% MaxAbs : 0.9739%\n",
      "\n",
      " mean accuracy non_scale : 0.9806% StandardScale : 0.9659% MinMax : 0.8865% MaxAbs : 0.9773%\n"
     ]
    }
   ],
   "source": [
    "model_pipeline_2(lr)"
   ]
  },
  {
   "cell_type": "code",
   "execution_count": 34,
   "metadata": {
    "ExecuteTime": {
     "end_time": "2019-05-09T12:09:10.432266Z",
     "start_time": "2019-05-09T12:09:07.189923Z"
    }
   },
   "outputs": [
    {
     "name": "stdout",
     "output_type": "stream",
     "text": [
      "###non-scaled###\n",
      "accuracy : 0.6714 precision : 0.6508 recall : 0.9762 F1 : 0.7810 AUC : 0.5952\n",
      "[[ 6 22]\n",
      " [ 1 41]]\n",
      "###StandardScaler###\n",
      "accuracy : 0.6714 precision : 0.6508 recall : 0.9762 F1 : 0.7810 AUC : 0.5952\n",
      "[[ 6 22]\n",
      " [ 1 41]]\n",
      "###MinMaxScaler###\n",
      "accuracy : 0.6714 precision : 0.6508 recall : 0.9762 F1 : 0.7810 AUC : 0.5952\n",
      "[[ 6 22]\n",
      " [ 1 41]]\n",
      "###MaxAbsScaler###\n",
      "accuracy : 0.6714 precision : 0.6508 recall : 0.9762 F1 : 0.7810 AUC : 0.5952\n",
      "[[ 6 22]\n",
      " [ 1 41]]\n"
     ]
    }
   ],
   "source": [
    "rf = RandomForestClassifier(n_estimators=20, random_state = 10)\n",
    "pipeline_urine(rf)"
   ]
  },
  {
   "cell_type": "markdown",
   "metadata": {},
   "source": [
    "# SVM"
   ]
  },
  {
   "cell_type": "code",
   "execution_count": 36,
   "metadata": {
    "ExecuteTime": {
     "end_time": "2019-05-09T12:10:15.749654Z",
     "start_time": "2019-05-09T12:10:15.745201Z"
    }
   },
   "outputs": [],
   "source": [
    "from sklearn.svm import SVC\n",
    "svm = SVC(probability=True)"
   ]
  },
  {
   "cell_type": "code",
   "execution_count": 39,
   "metadata": {
    "ExecuteTime": {
     "end_time": "2019-05-09T12:13:47.998624Z",
     "start_time": "2019-05-09T12:11:15.392760Z"
    }
   },
   "outputs": [
    {
     "name": "stdout",
     "output_type": "stream",
     "text": [
      "0 번째 accuracy non_scale : 0.9623% StandardScale : 0.1934% MinMax : 0.8066% MaxAbs : 0.9505%\n",
      "1 번째 accuracy non_scale : 0.9740% StandardScale : 0.1939% MinMax : 0.8085% MaxAbs : 0.9574%\n",
      "2 번째 accuracy non_scale : 0.9527% StandardScale : 0.1939% MinMax : 0.8109% MaxAbs : 0.9385%\n",
      "3 번째 accuracy non_scale : 0.9645% StandardScale : 0.1919% MinMax : 0.8128% MaxAbs : 0.9526%\n",
      "4 번째 accuracy non_scale : 0.9692% StandardScale : 0.1919% MinMax : 0.8081% MaxAbs : 0.9550%\n",
      "\n",
      " mean accuracy non_scale : 0.9645% StandardScale : 0.1930% MinMax : 0.8094% MaxAbs : 0.9508%\n"
     ]
    }
   ],
   "source": [
    "model_pipeline_2(svm)"
   ]
  },
  {
   "cell_type": "code",
   "execution_count": 37,
   "metadata": {
    "ExecuteTime": {
     "end_time": "2019-05-09T12:11:05.550083Z",
     "start_time": "2019-05-09T12:10:21.953930Z"
    }
   },
   "outputs": [
    {
     "name": "stdout",
     "output_type": "stream",
     "text": [
      "###non-scaled###\n",
      "accuracy : 0.5286 precision : 0.8000 recall : 0.2857 F1 : 0.4211 AUC : 0.5893\n",
      "[[25  3]\n",
      " [30 12]]\n",
      "###StandardScaler###\n",
      "accuracy : 0.6000 precision : 0.6250 recall : 0.8333 F1 : 0.7143 AUC : 0.5417\n",
      "[[ 7 21]\n",
      " [ 7 35]]\n",
      "###MinMaxScaler###\n",
      "accuracy : 0.4286 precision : 0.6667 recall : 0.0952 F1 : 0.1667 AUC : 0.5119\n",
      "[[26  2]\n",
      " [38  4]]\n",
      "###MaxAbsScaler###\n",
      "accuracy : 0.5143 precision : 0.7857 recall : 0.2619 F1 : 0.3929 AUC : 0.5774\n",
      "[[25  3]\n",
      " [31 11]]\n"
     ]
    }
   ],
   "source": [
    "pipeline_urine(svm)"
   ]
  },
  {
   "cell_type": "markdown",
   "metadata": {},
   "source": [
    "# adaboost"
   ]
  },
  {
   "cell_type": "code",
   "execution_count": 40,
   "metadata": {
    "ExecuteTime": {
     "end_time": "2019-05-09T12:13:48.008925Z",
     "start_time": "2019-05-09T12:13:48.004607Z"
    }
   },
   "outputs": [],
   "source": [
    "from sklearn.ensemble import AdaBoostClassifier\n",
    "ada = AdaBoostClassifier()"
   ]
  },
  {
   "cell_type": "code",
   "execution_count": 41,
   "metadata": {
    "ExecuteTime": {
     "end_time": "2019-05-09T12:16:46.432411Z",
     "start_time": "2019-05-09T12:13:48.013583Z"
    }
   },
   "outputs": [
    {
     "name": "stdout",
     "output_type": "stream",
     "text": [
      "0 번째 accuracy non_scale : 0.9858% StandardScale : 0.7736% MinMax : 0.1934% MaxAbs : 0.9670%\n",
      "1 번째 accuracy non_scale : 0.9882% StandardScale : 0.9835% MinMax : 0.1939% MaxAbs : 0.9882%\n",
      "2 번째 accuracy non_scale : 0.9716% StandardScale : 0.9716% MinMax : 0.1939% MaxAbs : 0.9740%\n",
      "3 번째 accuracy non_scale : 0.9787% StandardScale : 0.1943% MinMax : 0.1919% MaxAbs : 0.9763%\n",
      "4 번째 accuracy non_scale : 0.9834% StandardScale : 0.9692% MinMax : 0.1919% MaxAbs : 0.9858%\n",
      "\n",
      " mean accuracy non_scale : 0.9815% StandardScale : 0.7784% MinMax : 0.1930% MaxAbs : 0.9782%\n"
     ]
    }
   ],
   "source": [
    "model_pipeline_2(ada)"
   ]
  },
  {
   "cell_type": "code",
   "execution_count": 42,
   "metadata": {
    "ExecuteTime": {
     "end_time": "2019-05-09T12:16:57.771091Z",
     "start_time": "2019-05-09T12:16:46.436400Z"
    }
   },
   "outputs": [
    {
     "name": "stdout",
     "output_type": "stream",
     "text": [
      "threshold ;  0.3\n",
      "accuracy : 0.6000 precision : 0.6000 recall : 1.0000 F1 : 0.7500 AUC : 0.5000\n",
      "[[ 0 28]\n",
      " [ 0 42]]\n",
      "\n",
      "\n",
      "threshold ;  0.4\n",
      "accuracy : 0.6000 precision : 0.6000 recall : 1.0000 F1 : 0.7500 AUC : 0.5000\n",
      "[[ 0 28]\n",
      " [ 0 42]]\n",
      "\n",
      "\n",
      "threshold ;  0.45\n",
      "accuracy : 0.6143 precision : 0.6154 recall : 0.9524 F1 : 0.7477 AUC : 0.5298\n",
      "[[ 3 25]\n",
      " [ 2 40]]\n",
      "\n",
      "\n",
      "threshold ;  0.47\n",
      "accuracy : 0.6714 precision : 0.6610 recall : 0.9286 F1 : 0.7723 AUC : 0.6071\n",
      "[[ 8 20]\n",
      " [ 3 39]]\n",
      "\n",
      "\n",
      "threshold ;  0.5\n",
      "accuracy : 0.6857 precision : 0.7083 recall : 0.8095 F1 : 0.7556 AUC : 0.6548\n",
      "[[14 14]\n",
      " [ 8 34]]\n",
      "\n",
      "\n",
      "threshold ;  0.55\n",
      "accuracy : 0.5429 precision : 0.6667 recall : 0.4762 F1 : 0.5556 AUC : 0.5595\n",
      "[[18 10]\n",
      " [22 20]]\n",
      "\n",
      "\n",
      "threshold ;  0.6\n",
      "accuracy : 0.3571 precision : 0.3846 recall : 0.1190 F1 : 0.1818 AUC : 0.4167\n",
      "[[20  8]\n",
      " [37  5]]\n",
      "\n",
      "\n"
     ]
    }
   ],
   "source": [
    "ada.fit(X_mas,y)\n",
    "thresholds = [0.3,0.4,0.45,0.47,0.5,0.55,0.6]\n",
    "get_eval_by_threshold(urine_y, ada.predict_proba(urine_X_mas)[:,1].reshape(-1,1), thresholds)"
   ]
  },
  {
   "cell_type": "markdown",
   "metadata": {},
   "source": [
    "# GBM"
   ]
  },
  {
   "cell_type": "code",
   "execution_count": 43,
   "metadata": {
    "ExecuteTime": {
     "end_time": "2019-05-09T12:16:57.781783Z",
     "start_time": "2019-05-09T12:16:57.775075Z"
    }
   },
   "outputs": [],
   "source": [
    "from sklearn.ensemble import GradientBoostingClassifier\n",
    "gb = GradientBoostingClassifier()"
   ]
  },
  {
   "cell_type": "code",
   "execution_count": 44,
   "metadata": {
    "ExecuteTime": {
     "end_time": "2019-05-09T12:20:38.037039Z",
     "start_time": "2019-05-09T12:16:57.784369Z"
    }
   },
   "outputs": [
    {
     "name": "stdout",
     "output_type": "stream",
     "text": [
      "0 번째 accuracy non_scale : 0.9858% StandardScale : 0.9717% MinMax : 0.1934% MaxAbs : 0.9764%\n",
      "1 번째 accuracy non_scale : 0.9882% StandardScale : 0.9622% MinMax : 0.1939% MaxAbs : 0.9882%\n",
      "2 번째 accuracy non_scale : 0.9764% StandardScale : 0.9716% MinMax : 0.1915% MaxAbs : 0.9716%\n",
      "3 번째 accuracy non_scale : 0.9858% StandardScale : 0.9858% MinMax : 0.1919% MaxAbs : 0.9810%\n",
      "4 번째 accuracy non_scale : 0.9834% StandardScale : 0.9550% MinMax : 0.1919% MaxAbs : 0.9882%\n",
      "\n",
      " mean accuracy non_scale : 0.9839% StandardScale : 0.9693% MinMax : 0.1925% MaxAbs : 0.9811%\n"
     ]
    }
   ],
   "source": [
    "model_pipeline_2(gb)"
   ]
  },
  {
   "cell_type": "code",
   "execution_count": 45,
   "metadata": {
    "ExecuteTime": {
     "end_time": "2019-05-09T12:21:30.406141Z",
     "start_time": "2019-05-09T12:20:38.042982Z"
    }
   },
   "outputs": [
    {
     "name": "stdout",
     "output_type": "stream",
     "text": [
      "###non-scaled###\n",
      "accuracy : 0.6286 precision : 0.6250 recall : 0.9524 F1 : 0.7547 AUC : 0.5476\n",
      "[[ 4 24]\n",
      " [ 2 40]]\n",
      "###StandardScaler###\n",
      "accuracy : 0.6286 precision : 0.6250 recall : 0.9524 F1 : 0.7547 AUC : 0.5476\n",
      "[[ 4 24]\n",
      " [ 2 40]]\n",
      "###MinMaxScaler###\n",
      "accuracy : 0.6286 precision : 0.6250 recall : 0.9524 F1 : 0.7547 AUC : 0.5476\n",
      "[[ 4 24]\n",
      " [ 2 40]]\n",
      "###MaxAbsScaler###\n",
      "accuracy : 0.6286 precision : 0.6250 recall : 0.9524 F1 : 0.7547 AUC : 0.5476\n",
      "[[ 4 24]\n",
      " [ 2 40]]\n"
     ]
    }
   ],
   "source": [
    "pipeline_urine(gb)"
   ]
  },
  {
   "cell_type": "markdown",
   "metadata": {},
   "source": [
    "# XGBoost"
   ]
  },
  {
   "cell_type": "code",
   "execution_count": null,
   "metadata": {},
   "outputs": [],
   "source": []
  },
  {
   "cell_type": "markdown",
   "metadata": {},
   "source": [
    "# LightGBM"
   ]
  },
  {
   "cell_type": "code",
   "execution_count": 1,
   "metadata": {
    "ExecuteTime": {
     "end_time": "2019-05-10T00:33:02.978929Z",
     "start_time": "2019-05-10T00:33:02.971041Z"
    }
   },
   "outputs": [],
   "source": [
    "from lightgbm import LGBMClassifier\n",
    "lgb = LGBMClassifier()"
   ]
  },
  {
   "cell_type": "code",
   "execution_count": 16,
   "metadata": {
    "ExecuteTime": {
     "end_time": "2019-05-10T00:34:19.933134Z",
     "start_time": "2019-05-10T00:33:29.391436Z"
    }
   },
   "outputs": [
    {
     "name": "stdout",
     "output_type": "stream",
     "text": [
      "###non-scaled###\n",
      "accuracy : 0.6286 precision : 0.6212 recall : 0.9762 F1 : 0.7593 AUC : 0.5417\n",
      "[[ 3 25]\n",
      " [ 1 41]]\n",
      "###StandardScaler###\n",
      "accuracy : 0.6571 precision : 0.6364 recall : 1.0000 F1 : 0.7778 AUC : 0.5714\n",
      "[[ 4 24]\n",
      " [ 0 42]]\n",
      "###MinMaxScaler###\n",
      "accuracy : 0.6286 precision : 0.6212 recall : 0.9762 F1 : 0.7593 AUC : 0.5417\n",
      "[[ 3 25]\n",
      " [ 1 41]]\n",
      "###MaxAbsScaler###\n",
      "accuracy : 0.6286 precision : 0.6212 recall : 0.9762 F1 : 0.7593 AUC : 0.5417\n",
      "[[ 3 25]\n",
      " [ 1 41]]\n"
     ]
    }
   ],
   "source": [
    "pipeline_urine(lgb)"
   ]
  },
  {
   "cell_type": "code",
   "execution_count": 50,
   "metadata": {
    "ExecuteTime": {
     "end_time": "2019-05-10T00:47:35.611818Z",
     "start_time": "2019-05-10T00:47:20.591839Z"
    }
   },
   "outputs": [],
   "source": [
    "lgb.fit(X_standard, y)\n",
    "lgb_pred = lgb.predict(urine_X_standard)"
   ]
  },
  {
   "cell_type": "markdown",
   "metadata": {},
   "source": [
    "## wrong predict id"
   ]
  },
  {
   "cell_type": "markdown",
   "metadata": {},
   "source": [
    "실제 BC중에"
   ]
  },
  {
   "cell_type": "code",
   "execution_count": 61,
   "metadata": {
    "ExecuteTime": {
     "end_time": "2019-05-10T00:49:41.048332Z",
     "start_time": "2019-05-10T00:49:41.040981Z"
    }
   },
   "outputs": [
    {
     "data": {
      "text/plain": [
       "array([1, 1, 1, 1, 1, 1, 1, 1, 1, 1, 1, 1, 1, 1, 1, 1, 1, 1, 1, 1, 1, 1,\n",
       "       1, 1, 1, 1, 1, 1, 1, 1, 1, 1, 1, 1, 1, 1, 1, 1, 1, 1, 1, 1],\n",
       "      dtype=int64)"
      ]
     },
     "execution_count": 61,
     "metadata": {},
     "output_type": "execute_result"
    }
   ],
   "source": [
    "lgb_pred[:42]"
   ]
  }
 ],
 "metadata": {
  "hide_input": false,
  "kernelspec": {
   "display_name": "Python 3",
   "language": "python",
   "name": "python3"
  },
  "language_info": {
   "codemirror_mode": {
    "name": "ipython",
    "version": 3
   },
   "file_extension": ".py",
   "mimetype": "text/x-python",
   "name": "python",
   "nbconvert_exporter": "python",
   "pygments_lexer": "ipython3",
   "version": "3.7.1"
  },
  "toc": {
   "base_numbering": 1,
   "nav_menu": {},
   "number_sections": true,
   "sideBar": true,
   "skip_h1_title": false,
   "title_cell": "Table of Contents",
   "title_sidebar": "Contents",
   "toc_cell": false,
   "toc_position": {},
   "toc_section_display": true,
   "toc_window_display": true
  }
 },
 "nbformat": 4,
 "nbformat_minor": 2
}
