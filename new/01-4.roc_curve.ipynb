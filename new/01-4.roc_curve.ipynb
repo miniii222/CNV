{
 "cells": [
  {
   "cell_type": "code",
   "execution_count": 1,
   "metadata": {
    "ExecuteTime": {
     "end_time": "2019-05-16T07:38:50.309839Z",
     "start_time": "2019-05-16T07:38:49.305172Z"
    }
   },
   "outputs": [
    {
     "data": {
      "text/plain": [
       "['TCGA_binary.csv',\n",
       " 'TCGA_data.csv',\n",
       " 'urine_binary.csv',\n",
       " 'urine_k15_0419.csv',\n",
       " 'urine_K15_0420.csv',\n",
       " 'urine_k15_0423.csv',\n",
       " 'urine_k15_0428.csv',\n",
       " 'urine_k15_120cases.csv']"
      ]
     },
     "execution_count": 1,
     "metadata": {},
     "output_type": "execute_result"
    }
   ],
   "source": [
    "import pandas as pd\n",
    "import numpy as np\n",
    "import os\n",
    "\n",
    "os.listdir('./data')"
   ]
  },
  {
   "cell_type": "code",
   "execution_count": 2,
   "metadata": {
    "ExecuteTime": {
     "end_time": "2019-05-16T07:38:54.272790Z",
     "start_time": "2019-05-16T07:38:50.313125Z"
    }
   },
   "outputs": [],
   "source": [
    "TCGA = pd.read_csv('./data/TCGA_data.csv')\n",
    "urine = pd.read_csv('./data/urine_k15_0428.csv')"
   ]
  },
  {
   "cell_type": "code",
   "execution_count": 3,
   "metadata": {
    "ExecuteTime": {
     "end_time": "2019-05-16T07:38:54.620589Z",
     "start_time": "2019-05-16T07:38:54.277353Z"
    }
   },
   "outputs": [],
   "source": [
    "TCGA = TCGA[(TCGA.y == 'BLCA') | (TCGA.y == 'Normal')]\n",
    "TCGA = TCGA.replace(['BLCA','Normal'],[ 1,0 ])\n",
    "TCGA = TCGA.reset_index(drop = True)"
   ]
  },
  {
   "cell_type": "code",
   "execution_count": 4,
   "metadata": {
    "ExecuteTime": {
     "end_time": "2019-05-16T07:38:54.652966Z",
     "start_time": "2019-05-16T07:38:54.628193Z"
    }
   },
   "outputs": [],
   "source": [
    "urine = urine[(urine.y == 'BLCA') | (urine.y == 'NL')]\n",
    "urine = urine.replace(['BLCA','NL'],[ 1,0 ])\n",
    "urine = urine.reset_index(drop = True)"
   ]
  },
  {
   "cell_type": "code",
   "execution_count": 5,
   "metadata": {
    "ExecuteTime": {
     "end_time": "2019-05-16T07:38:54.666404Z",
     "start_time": "2019-05-16T07:38:54.655855Z"
    }
   },
   "outputs": [],
   "source": [
    "urine = urine.drop(['Unnamed: 0','X'], axis = 1)"
   ]
  },
  {
   "cell_type": "code",
   "execution_count": 6,
   "metadata": {
    "ExecuteTime": {
     "end_time": "2019-05-16T07:38:54.687595Z",
     "start_time": "2019-05-16T07:38:54.668400Z"
    }
   },
   "outputs": [],
   "source": [
    "X = TCGA.drop('y', axis = 1)\n",
    "y = TCGA['y']\n",
    "\n",
    "urine_X = urine.drop('y', axis = 1)\n",
    "urine_y = urine['y']"
   ]
  },
  {
   "cell_type": "code",
   "execution_count": 7,
   "metadata": {
    "ExecuteTime": {
     "end_time": "2019-05-16T07:38:54.703102Z",
     "start_time": "2019-05-16T07:38:54.690300Z"
    }
   },
   "outputs": [
    {
     "data": {
      "text/plain": [
       "1    51\n",
       "0    28\n",
       "Name: y, dtype: int64"
      ]
     },
     "execution_count": 7,
     "metadata": {},
     "output_type": "execute_result"
    }
   ],
   "source": [
    "urine_y.value_counts()"
   ]
  },
  {
   "cell_type": "code",
   "execution_count": 8,
   "metadata": {
    "ExecuteTime": {
     "end_time": "2019-05-16T07:38:57.591603Z",
     "start_time": "2019-05-16T07:38:54.705895Z"
    }
   },
   "outputs": [
    {
     "data": {
      "text/plain": [
       "MaxAbsScaler(copy=True)"
      ]
     },
     "execution_count": 8,
     "metadata": {},
     "output_type": "execute_result"
    }
   ],
   "source": [
    "from sklearn.preprocessing import StandardScaler\n",
    "from sklearn.preprocessing import MinMaxScaler\n",
    "from sklearn.preprocessing import MaxAbsScaler\n",
    "\n",
    "standardsc = StandardScaler()\n",
    "mms = MinMaxScaler()\n",
    "mas = MaxAbsScaler()\n",
    "\n",
    "standardsc.fit(X)\n",
    "mms.fit(X)\n",
    "mas.fit(X)"
   ]
  },
  {
   "cell_type": "code",
   "execution_count": 9,
   "metadata": {
    "ExecuteTime": {
     "end_time": "2019-05-16T07:38:57.658332Z",
     "start_time": "2019-05-16T07:38:57.592601Z"
    }
   },
   "outputs": [
    {
     "name": "stderr",
     "output_type": "stream",
     "text": [
      "C:\\Users\\wjssm\\Anaconda3\\lib\\site-packages\\ipykernel_launcher.py:5: DataConversionWarning: Data with input dtype int64, float64 were all converted to float64 by StandardScaler.\n",
      "  \"\"\"\n"
     ]
    }
   ],
   "source": [
    "X_standard = pd.DataFrame(standardsc.transform(X), columns = X.columns)\n",
    "X_mms = pd.DataFrame(mms.transform(X), columns = X.columns)\n",
    "X_mas = pd.DataFrame(mas.transform(X), columns = X.columns)\n",
    "\n",
    "urine_X_standard = standardsc.transform(urine_X)\n",
    "urine_X_mms = mms.transform(urine_X)\n",
    "urine_X_mas = mas.transform(urine_X)"
   ]
  },
  {
   "cell_type": "code",
   "execution_count": 10,
   "metadata": {
    "ExecuteTime": {
     "end_time": "2019-05-16T07:38:57.700744Z",
     "start_time": "2019-05-16T07:38:57.658332Z"
    }
   },
   "outputs": [],
   "source": [
    "from sklearn.metrics import accuracy_score\n",
    "from sklearn.metrics import recall_score\n",
    "from sklearn.metrics import precision_score\n",
    "from sklearn.metrics import confusion_matrix\n",
    "from sklearn.metrics import f1_score\n",
    "from sklearn.metrics import roc_auc_score\n",
    "from sklearn.metrics import classification_report\n",
    "from sklearn.metrics import roc_curve\n",
    "\n",
    "def get_eval(y_test, pred) :\n",
    "    \n",
    "    print('accuracy : {0:.4f} precision : {1:.4f} recall : {2:.4f} F1 : {3:.4f} AUC : {4:.4f}'.format(\n",
    "                                                        accuracy_score(y_test, pred), \n",
    "                                                        precision_score(y_test, pred),\n",
    "                                                        recall_score(y_test, pred),\n",
    "                                                        f1_score(y_test,pred),\n",
    "                                                        roc_auc_score(y_test, pred)\n",
    "                                                                      ))\n",
    "    \n",
    "    \n",
    "    \n",
    "    #print('accuracy : {0:.4f}'.format(accuracy_score(y_test,pred)), 'roc_auc_score : ', roc_auc_score(y_test,pred))\n",
    "    #print(classification_report(y_test, pred))\n",
    "    print(confusion_matrix(y_test, pred))"
   ]
  },
  {
   "cell_type": "code",
   "execution_count": 11,
   "metadata": {
    "ExecuteTime": {
     "end_time": "2019-05-16T07:38:57.713696Z",
     "start_time": "2019-05-16T07:38:57.703736Z"
    }
   },
   "outputs": [],
   "source": [
    "def roc_curve_plot(y_test, pred_proba_c1) :\n",
    "    \n",
    "    fpr, tpr, threshold = roc_curve(y_test, pred_proba_c1)\n",
    "    \n",
    "    #ROC curve\n",
    "    plt.plot(fpr, tpr, label = 'ROC')\n",
    "    #대각선 직선\n",
    "    plt.plot([0,1],[0,1], 'k--', label = 'Random')\n",
    "    \n",
    "    start, end = plt.xlim()\n",
    "    plt.xticks(np.round(np.arange(start, end,0.1),2))\n",
    "    plt.xlim(0,1)\n",
    "    plt.ylim(0,1)\n",
    "    \n",
    "    plt.xlabel('1-Specifity')\n",
    "    plt.ylabel('Sensitivity')\n",
    "    \n",
    "    plt.legend()\n"
   ]
  },
  {
   "cell_type": "code",
   "execution_count": 12,
   "metadata": {
    "ExecuteTime": {
     "end_time": "2019-05-16T07:38:58.158417Z",
     "start_time": "2019-05-16T07:38:57.720533Z"
    }
   },
   "outputs": [],
   "source": [
    "import matplotlib.pyplot as plt"
   ]
  },
  {
   "cell_type": "markdown",
   "metadata": {},
   "source": [
    "# logistic regression\n",
    "- maxabs"
   ]
  },
  {
   "cell_type": "code",
   "execution_count": 12,
   "metadata": {
    "ExecuteTime": {
     "end_time": "2019-05-09T11:27:27.392249Z",
     "start_time": "2019-05-09T11:27:27.193783Z"
    }
   },
   "outputs": [],
   "source": [
    "from sklearn.linear_model import LogisticRegression\n",
    "lr = LogisticRegression()\n",
    "import warnings\n",
    "warnings.filterwarnings('ignore')"
   ]
  },
  {
   "cell_type": "code",
   "execution_count": 13,
   "metadata": {
    "ExecuteTime": {
     "end_time": "2019-05-09T11:27:28.916058Z",
     "start_time": "2019-05-09T11:27:28.677695Z"
    }
   },
   "outputs": [
    {
     "name": "stdout",
     "output_type": "stream",
     "text": [
      "accuracy : 0.5063 precision : 0.8750 recall : 0.2745 F1 : 0.4179 AUC : 0.6015\n",
      "[[26  2]\n",
      " [37 14]]\n"
     ]
    }
   ],
   "source": [
    "lr.fit(X_mas, y)\n",
    "get_eval(urine_y, lr.predict(urine_X_mas))"
   ]
  },
  {
   "cell_type": "code",
   "execution_count": 17,
   "metadata": {
    "ExecuteTime": {
     "end_time": "2019-05-09T11:30:31.241651Z",
     "start_time": "2019-05-09T11:30:31.053156Z"
    }
   },
   "outputs": [
    {
     "name": "stdout",
     "output_type": "stream",
     "text": [
      "sample 10 thresholds :  [2.   1.   0.03 0.02 0.02 0.01 0.01 0.01 0.01 0.01 0.  ]\n",
      "sample FPR(1-specifity) :  [0.    0.071 0.107 0.179 0.286 0.5   0.536 0.679 0.786 0.857 0.929]\n",
      "sample TPR(sensitivity) :  [0.    0.098 0.392 0.431 0.49  0.51  0.549 0.569 0.608 0.667 0.882]\n"
     ]
    },
    {
     "data": {
      "image/png": "[encoded data removed]",
      "text/plain": [
       "<Figure size 432x288 with 1 Axes>"
      ]
     },
     "metadata": {
      "needs_background": "light"
     },
     "output_type": "display_data"
    }
   ],
   "source": [
    "pred_proba = lr.predict_proba(urine_X_mas)[:,1]\n",
    "roc_curve_plot(urine_y, pred_proba)\n",
    "\n",
    "fpr, tpr, threshold = roc_curve(urine_y, pred_proba)\n",
    "\n",
    "thr_index = np.arange(0, threshold.shape[0], 3)\n",
    "print('sample 10 thresholds : ', np.round(threshold[thr_index],2))\n",
    "print('sample FPR(1-specifity) : ', np.round(fpr[thr_index],3))\n",
    "print('sample TPR(sensitivity) : ', np.round(tpr[thr_index],3))"
   ]
  },
  {
   "cell_type": "code",
   "execution_count": 22,
   "metadata": {
    "ExecuteTime": {
     "end_time": "2019-05-09T11:59:04.192179Z",
     "start_time": "2019-05-09T11:59:04.186195Z"
    }
   },
   "outputs": [],
   "source": [
    "def roc_info_print(fpr, tpr) :\n",
    "    \n",
    "    mysum = 1 - fpr + tpr\n",
    "    max_sum_ind = np.argmax(mysum)\n",
    "    \n",
    "    print('max sum : ', np.max(mysum))\n",
    "    print('specifity : ', 1 - fpr[max_sum_ind])\n",
    "    print('sensitivity : ', tpr[max_sum_ind])"
   ]
  },
  {
   "cell_type": "code",
   "execution_count": 20,
   "metadata": {
    "ExecuteTime": {
     "end_time": "2019-05-09T11:31:08.938588Z",
     "start_time": "2019-05-09T11:31:08.932605Z"
    }
   },
   "outputs": [
    {
     "name": "stdout",
     "output_type": "stream",
     "text": [
      "max sum :  1.288515406162465\n",
      "specifity :  0.8571428571428572\n",
      "sensitivity :  0.43137254901960786\n"
     ]
    }
   ],
   "source": [
    "roc_info_print(fpr, tpr)"
   ]
  },
  {
   "cell_type": "markdown",
   "metadata": {},
   "source": [
    "# random forest"
   ]
  },
  {
   "cell_type": "code",
   "execution_count": 30,
   "metadata": {
    "ExecuteTime": {
     "end_time": "2019-05-09T11:36:45.542679Z",
     "start_time": "2019-05-09T11:36:45.537691Z"
    }
   },
   "outputs": [],
   "source": [
    "from sklearn.ensemble import RandomForestClassifier\n",
    "rf = RandomForestClassifier(n_estimators=20, random_state = 0)"
   ]
  },
  {
   "cell_type": "code",
   "execution_count": 31,
   "metadata": {
    "ExecuteTime": {
     "end_time": "2019-05-09T11:36:46.170742Z",
     "start_time": "2019-05-09T11:36:45.742923Z"
    }
   },
   "outputs": [
    {
     "name": "stdout",
     "output_type": "stream",
     "text": [
      "accuracy : 0.6709 precision : 0.6712 recall : 0.9608 F1 : 0.7903 AUC : 0.5518\n",
      "[[ 4 24]\n",
      " [ 2 49]]\n"
     ]
    }
   ],
   "source": [
    "rf.fit(X, y)\n",
    "get_eval(urine_y, rf.predict(urine_X))"
   ]
  },
  {
   "cell_type": "code",
   "execution_count": 32,
   "metadata": {
    "ExecuteTime": {
     "end_time": "2019-05-09T11:36:46.352258Z",
     "start_time": "2019-05-09T11:36:46.173735Z"
    }
   },
   "outputs": [
    {
     "name": "stdout",
     "output_type": "stream",
     "text": [
      "sample 10 thresholds :  [1.95 0.95 0.9  0.85 0.8  0.75 0.7  0.65 0.6  0.55 0.5  0.45 0.4  0.35\n",
      " 0.25]\n",
      "sample FPR :  [0.    0.036 0.107 0.143 0.179 0.321 0.429 0.571 0.75  0.786 0.821 0.857\n",
      " 0.893 0.964 1.   ]\n",
      "sample TPR :  [0.    0.059 0.118 0.196 0.431 0.588 0.667 0.745 0.784 0.882 0.941 0.98\n",
      " 0.98  1.    1.   ]\n"
     ]
    },
    {
     "data": {
      "image/png": "[encoded data removed]",
      "text/plain": [
       "<Figure size 432x288 with 1 Axes>"
      ]
     },
     "metadata": {
      "needs_background": "light"
     },
     "output_type": "display_data"
    }
   ],
   "source": [
    "pred_proba = rf.predict_proba(urine_X_mas)[:,1]\n",
    "roc_curve_plot(urine_y, pred_proba)\n",
    "\n",
    "fpr, tpr, threshold = roc_curve(urine_y, pred_proba)\n",
    "\n",
    "#5step으로 추출\n",
    "thr_index = np.arange(0, threshold.shape[0], 1)\n",
    "print('sample 10 thresholds : ', np.round(threshold[thr_index],2))\n",
    "print('sample FPR : ', np.round(fpr[thr_index],3))\n",
    "print('sample TPR : ', np.round(tpr[thr_index],3))"
   ]
  },
  {
   "cell_type": "code",
   "execution_count": 33,
   "metadata": {
    "ExecuteTime": {
     "end_time": "2019-05-09T11:36:47.108712Z",
     "start_time": "2019-05-09T11:36:47.103724Z"
    }
   },
   "outputs": [
    {
     "name": "stdout",
     "output_type": "stream",
     "text": [
      "max sum :  1.2668067226890756\n",
      "specifity :  0.6785714285714286\n",
      "sensitivity :  0.5882352941176471\n"
     ]
    }
   ],
   "source": [
    "roc_info_print(fpr, tpr)"
   ]
  },
  {
   "cell_type": "markdown",
   "metadata": {},
   "source": [
    "# SVM"
   ]
  },
  {
   "cell_type": "code",
   "execution_count": 34,
   "metadata": {
    "ExecuteTime": {
     "end_time": "2019-05-09T11:37:55.603060Z",
     "start_time": "2019-05-09T11:37:55.598072Z"
    }
   },
   "outputs": [],
   "source": [
    "from sklearn.svm import SVC\n",
    "svm = SVC(probability=True)"
   ]
  },
  {
   "cell_type": "code",
   "execution_count": 35,
   "metadata": {
    "ExecuteTime": {
     "end_time": "2019-05-09T11:38:01.312321Z",
     "start_time": "2019-05-09T11:37:55.934704Z"
    }
   },
   "outputs": [
    {
     "name": "stdout",
     "output_type": "stream",
     "text": [
      "accuracy : 0.6203 precision : 0.8182 recall : 0.5294 F1 : 0.6429 AUC : 0.6576\n",
      "[[22  6]\n",
      " [24 27]]\n"
     ]
    }
   ],
   "source": [
    "svm.fit(X, y)\n",
    "get_eval(urine_y, svm.predict(urine_X))"
   ]
  },
  {
   "cell_type": "code",
   "execution_count": 39,
   "metadata": {
    "ExecuteTime": {
     "end_time": "2019-05-09T11:38:21.310539Z",
     "start_time": "2019-05-09T11:38:21.117057Z"
    }
   },
   "outputs": [
    {
     "name": "stdout",
     "output_type": "stream",
     "text": [
      "sample 10 thresholds :  [2.   0.96 0.28 0.09 0.07 0.06 0.02 0.01 0.01 0.01 0.01 0.01 0.  ]\n",
      "sample FPR :  [0.    0.214 0.25  0.286 0.321 0.393 0.429 0.536 0.571 0.857 0.893 0.929\n",
      " 1.   ]\n",
      "sample TPR :  [0.    0.569 0.608 0.725 0.745 0.765 0.804 0.843 0.882 0.902 0.922 0.961\n",
      " 1.   ]\n"
     ]
    },
    {
     "data": {
      "image/png": "[encoded data removed]",
      "text/plain": [
       "<Figure size 432x288 with 1 Axes>"
      ]
     },
     "metadata": {
      "needs_background": "light"
     },
     "output_type": "display_data"
    }
   ],
   "source": [
    "pred_proba = svm.predict_proba(urine_X_mas)[:,1]\n",
    "roc_curve_plot(urine_y, pred_proba)\n",
    "\n",
    "fpr, tpr, threshold = roc_curve(urine_y, pred_proba)\n",
    "\n",
    "#5step으로 추출\n",
    "thr_index = np.arange(0, threshold.shape[0], 2)\n",
    "print('sample 10 thresholds : ', np.round(threshold[thr_index],2))\n",
    "print('sample FPR : ', np.round(fpr[thr_index],3))\n",
    "print('sample TPR : ', np.round(tpr[thr_index],3))"
   ]
  },
  {
   "cell_type": "code",
   "execution_count": 40,
   "metadata": {
    "ExecuteTime": {
     "end_time": "2019-05-09T11:38:31.399628Z",
     "start_time": "2019-05-09T11:38:31.394681Z"
    }
   },
   "outputs": [
    {
     "name": "stdout",
     "output_type": "stream",
     "text": [
      "max sum :  1.4397759103641457\n",
      "specifity :  0.7142857142857143\n",
      "sensitivity :  0.7254901960784313\n"
     ]
    }
   ],
   "source": [
    "roc_info_print(fpr, tpr)"
   ]
  },
  {
   "cell_type": "markdown",
   "metadata": {},
   "source": [
    "# adaboost\n",
    "- maxabs"
   ]
  },
  {
   "cell_type": "code",
   "execution_count": 15,
   "metadata": {
    "ExecuteTime": {
     "end_time": "2019-05-09T11:55:54.938460Z",
     "start_time": "2019-05-09T11:55:54.934435Z"
    }
   },
   "outputs": [],
   "source": [
    "from sklearn.ensemble import AdaBoostClassifier\n",
    "ada = AdaBoostClassifier()"
   ]
  },
  {
   "cell_type": "code",
   "execution_count": 19,
   "metadata": {
    "ExecuteTime": {
     "end_time": "2019-05-09T11:58:36.448477Z",
     "start_time": "2019-05-09T11:58:31.204502Z"
    }
   },
   "outputs": [
    {
     "name": "stdout",
     "output_type": "stream",
     "text": [
      "accuracy : 0.6962 precision : 0.8293 recall : 0.6667 F1 : 0.7391 AUC : 0.7083\n",
      "[[21  7]\n",
      " [17 34]]\n"
     ]
    }
   ],
   "source": [
    "ada.fit(X_mas, y)\n",
    "get_eval(urine_y, ada.predict(urine_X_mas))"
   ]
  },
  {
   "cell_type": "code",
   "execution_count": 20,
   "metadata": {
    "ExecuteTime": {
     "end_time": "2019-05-09T11:58:51.402224Z",
     "start_time": "2019-05-09T11:58:51.219714Z"
    }
   },
   "outputs": [
    {
     "name": "stdout",
     "output_type": "stream",
     "text": [
      "sample 10 thresholds :  [1.73 0.63 0.51 0.5  0.5  0.5  0.49 0.48 0.47 0.46 0.45 0.44]\n",
      "sample FPR :  [0.    0.036 0.071 0.143 0.25  0.286 0.464 0.536 0.643 0.679 0.893 0.929]\n",
      "sample TPR :  [0.    0.137 0.529 0.608 0.647 0.686 0.706 0.824 0.843 0.902 0.922 0.98 ]\n"
     ]
    },
    {
     "data": {
      "image/png": "[encoded data removed]",
      "text/plain": [
       "<Figure size 432x288 with 1 Axes>"
      ]
     },
     "metadata": {
      "needs_background": "light"
     },
     "output_type": "display_data"
    }
   ],
   "source": [
    "pred_proba = ada.predict_proba(urine_X_mas)[:,1]\n",
    "roc_curve_plot(urine_y, pred_proba)\n",
    "\n",
    "fpr, tpr, threshold = roc_curve(urine_y, pred_proba)\n",
    "\n",
    "#5step으로 추출\n",
    "thr_index = np.arange(0, threshold.shape[0], 3)\n",
    "print('sample 10 thresholds : ', np.round(threshold[thr_index],2))\n",
    "print('sample FPR : ', np.round(fpr[thr_index],3))\n",
    "print('sample TPR : ', np.round(tpr[thr_index],3))"
   ]
  },
  {
   "cell_type": "code",
   "execution_count": 24,
   "metadata": {
    "ExecuteTime": {
     "end_time": "2019-05-09T12:00:07.017750Z",
     "start_time": "2019-05-09T12:00:07.012760Z"
    }
   },
   "outputs": [
    {
     "name": "stdout",
     "output_type": "stream",
     "text": [
      "max sum :  1.4649859943977592\n",
      "specifity :  0.8571428571428572\n",
      "sensitivity :  0.6078431372549019\n"
     ]
    }
   ],
   "source": [
    "roc_info_print(fpr, tpr)"
   ]
  },
  {
   "cell_type": "markdown",
   "metadata": {},
   "source": [
    "# GBM"
   ]
  },
  {
   "cell_type": "code",
   "execution_count": 47,
   "metadata": {
    "ExecuteTime": {
     "end_time": "2019-05-09T11:40:29.711599Z",
     "start_time": "2019-05-09T11:40:29.706609Z"
    }
   },
   "outputs": [],
   "source": [
    "from sklearn.ensemble import GradientBoostingClassifier\n",
    "gb = GradientBoostingClassifier()"
   ]
  },
  {
   "cell_type": "code",
   "execution_count": 48,
   "metadata": {
    "ExecuteTime": {
     "end_time": "2019-05-09T11:40:36.751915Z",
     "start_time": "2019-05-09T11:40:30.556518Z"
    }
   },
   "outputs": [
    {
     "name": "stdout",
     "output_type": "stream",
     "text": [
      "accuracy : 0.6709 precision : 0.6812 recall : 0.9216 F1 : 0.7833 AUC : 0.5679\n",
      "[[ 6 22]\n",
      " [ 4 47]]\n"
     ]
    }
   ],
   "source": [
    "gb.fit(X, y)\n",
    "get_eval(urine_y, gb.predict(urine_X))"
   ]
  },
  {
   "cell_type": "code",
   "execution_count": 49,
   "metadata": {
    "ExecuteTime": {
     "end_time": "2019-05-09T11:40:36.951380Z",
     "start_time": "2019-05-09T11:40:36.754910Z"
    }
   },
   "outputs": [
    {
     "name": "stdout",
     "output_type": "stream",
     "text": [
      "sample 10 thresholds :  [2.   0.98 0.95 0.85 0.75 0.65 0.39 0.06]\n",
      "sample FPR :  [0.    0.143 0.214 0.429 0.5   0.714 0.786 0.929]\n",
      "sample TPR :  [0.    0.216 0.49  0.627 0.725 0.804 0.922 0.961]\n"
     ]
    },
    {
     "data": {
      "image/png": "[encoded data removed]",
      "text/plain": [
       "<Figure size 432x288 with 1 Axes>"
      ]
     },
     "metadata": {
      "needs_background": "light"
     },
     "output_type": "display_data"
    }
   ],
   "source": [
    "pred_proba = gb.predict_proba(urine_X_mas)[:,1]\n",
    "roc_curve_plot(urine_y, pred_proba)\n",
    "\n",
    "fpr, tpr, threshold = roc_curve(urine_y, pred_proba)\n",
    "\n",
    "#5step으로 추출\n",
    "thr_index = np.arange(0, threshold.shape[0], 5)\n",
    "print('sample 10 thresholds : ', np.round(threshold[thr_index],2))\n",
    "print('sample FPR : ', np.round(fpr[thr_index],3))\n",
    "print('sample TPR : ', np.round(tpr[thr_index],3))"
   ]
  },
  {
   "cell_type": "code",
   "execution_count": 51,
   "metadata": {
    "ExecuteTime": {
     "end_time": "2019-05-09T11:40:54.970577Z",
     "start_time": "2019-05-09T11:40:54.965594Z"
    }
   },
   "outputs": [
    {
     "name": "stdout",
     "output_type": "stream",
     "text": [
      "max sum :  1.2829131652661063\n",
      "specifity :  0.7142857142857143\n",
      "sensitivity :  0.5686274509803921\n"
     ]
    }
   ],
   "source": [
    "roc_info_print(fpr, tpr)"
   ]
  },
  {
   "cell_type": "markdown",
   "metadata": {},
   "source": [
    "# xgboost"
   ]
  },
  {
   "cell_type": "code",
   "execution_count": 13,
   "metadata": {
    "ExecuteTime": {
     "end_time": "2019-05-16T07:39:02.081109Z",
     "start_time": "2019-05-16T07:39:02.008126Z"
    }
   },
   "outputs": [],
   "source": [
    "from xgboost import XGBClassifier\n",
    "params = {'colsample_bytree': 0.3,\n",
    " 'max_depth': 7,\n",
    " 'min_child_weight': 1,\n",
    " 'n_estimators': 200}\n",
    "\n",
    "xgb = XGBClassifier(params = params)"
   ]
  },
  {
   "cell_type": "code",
   "execution_count": 14,
   "metadata": {
    "ExecuteTime": {
     "end_time": "2019-05-16T07:39:19.435044Z",
     "start_time": "2019-05-16T07:39:02.472104Z"
    }
   },
   "outputs": [
    {
     "name": "stderr",
     "output_type": "stream",
     "text": [
      "C:\\Users\\wjssm\\Anaconda3\\lib\\site-packages\\ipykernel_launcher.py:1: FutureWarning: Method .as_matrix will be removed in a future version. Use .values instead.\n",
      "  \"\"\"Entry point for launching an IPython kernel.\n"
     ]
    },
    {
     "data": {
      "text/plain": [
       "XGBClassifier(base_score=0.5, booster='gbtree', colsample_bylevel=1,\n",
       "       colsample_bytree=1, gamma=0, learning_rate=0.1, max_delta_step=0,\n",
       "       max_depth=3, min_child_weight=1, missing=None, n_estimators=100,\n",
       "       n_jobs=1, nthread=None, objective='binary:logistic',\n",
       "       params={'colsample_bytree': 0.3, 'max_depth': 7, 'min_child_weight': 1, 'n_estimators': 200},\n",
       "       random_state=0, reg_alpha=0, reg_lambda=1, scale_pos_weight=1,\n",
       "       seed=None, silent=True, subsample=1)"
      ]
     },
     "execution_count": 14,
     "metadata": {},
     "output_type": "execute_result"
    }
   ],
   "source": [
    "xgb.fit(X.as_matrix(), y)"
   ]
  },
  {
   "cell_type": "code",
   "execution_count": 54,
   "metadata": {
    "ExecuteTime": {
     "end_time": "2019-05-09T11:41:23.241307Z",
     "start_time": "2019-05-09T11:41:23.228341Z"
    }
   },
   "outputs": [
    {
     "name": "stdout",
     "output_type": "stream",
     "text": [
      "accuracy : 0.6456 precision : 0.6716 recall : 0.8824 F1 : 0.7627 AUC : 0.5483\n",
      "[[ 6 22]\n",
      " [ 6 45]]\n"
     ]
    }
   ],
   "source": [
    "get_eval(urine_y, xgb.predict(urine_X.as_matrix()))"
   ]
  },
  {
   "cell_type": "code",
   "execution_count": 15,
   "metadata": {
    "ExecuteTime": {
     "end_time": "2019-05-16T07:39:23.579192Z",
     "start_time": "2019-05-16T07:39:23.569518Z"
    }
   },
   "outputs": [],
   "source": [
    "def roc_curve_plot(y_test, pred_proba_c1) :\n",
    "    \n",
    "    fpr, tpr, threshold = roc_curve(y_test, pred_proba_c1)\n",
    "    \n",
    "    #ROC curve\n",
    "    plt.plot(fpr, tpr, label = 'ROC')\n",
    "    #대각선 직선\n",
    "    plt.plot([0,1],[0,1], 'k--', label = 'Random')\n",
    "    \n",
    "    start, end = plt.xlim()\n",
    "    plt.xticks(np.round(np.arange(start, end,0.1),2))\n",
    "    plt.xlim(0,1)\n",
    "    plt.ylim(0,1)\n",
    "    \n",
    "    plt.xlabel('1-Specifity', fontsize = 16)\n",
    "    plt.ylabel('Sensitivity',fontsize = 16)\n",
    "    \n",
    "    plt.legend(prop={'size': 15})"
   ]
  },
  {
   "cell_type": "code",
   "execution_count": 18,
   "metadata": {
    "ExecuteTime": {
     "end_time": "2019-05-16T07:40:04.194846Z",
     "start_time": "2019-05-16T07:40:02.818558Z"
    }
   },
   "outputs": [
    {
     "name": "stderr",
     "output_type": "stream",
     "text": [
      "C:\\Users\\wjssm\\Anaconda3\\lib\\site-packages\\ipykernel_launcher.py:1: FutureWarning: Method .as_matrix will be removed in a future version. Use .values instead.\n",
      "  \"\"\"Entry point for launching an IPython kernel.\n"
     ]
    },
    {
     "name": "stdout",
     "output_type": "stream",
     "text": [
      "sample 10 thresholds :  [1.99 0.98 0.98 0.97 0.94 0.92 0.84 0.78 0.7  0.65 0.48]\n",
      "sample FPR :  [0.    0.071 0.179 0.25  0.321 0.357 0.5   0.536 0.607 0.643 0.821]\n",
      "sample TPR :  [0.    0.137 0.157 0.255 0.412 0.51  0.686 0.784 0.843 0.882 0.902]\n"
     ]
    },
    {
     "data": {
      "image/png": "[encoded data removed]",
      "text/plain": [
       "<Figure size 936x504 with 1 Axes>"
      ]
     },
     "metadata": {
      "needs_background": "light"
     },
     "output_type": "display_data"
    }
   ],
   "source": [
    "pred_proba = xgb.predict_proba(urine_X.as_matrix())[:,1]\n",
    "plt.figure(figsize = (13,7))\n",
    "roc_curve_plot(urine_y, pred_proba)\n",
    "plt.savefig(\"./xgb_roc.png\",dpi=300)\n",
    "fpr, tpr, threshold = roc_curve(urine_y, pred_proba)\n",
    "\n",
    "#5step으로 추출\n",
    "thr_index = np.arange(0, threshold.shape[0], 3)\n",
    "print('sample 10 thresholds : ', np.round(threshold[thr_index],2))\n",
    "print('sample FPR : ', np.round(fpr[thr_index],3))\n",
    "print('sample TPR : ', np.round(tpr[thr_index],3))"
   ]
  },
  {
   "cell_type": "code",
   "execution_count": 58,
   "metadata": {
    "ExecuteTime": {
     "end_time": "2019-05-09T11:41:49.655082Z",
     "start_time": "2019-05-09T11:41:49.649100Z"
    }
   },
   "outputs": [
    {
     "name": "stdout",
     "output_type": "stream",
     "text": [
      "max sum :  1.2934173669467788\n",
      "specifity :  0.6071428571428572\n",
      "sensitivity :  0.6862745098039216\n"
     ]
    }
   ],
   "source": [
    "roc_info_print(fpr, tpr)"
   ]
  },
  {
   "cell_type": "markdown",
   "metadata": {},
   "source": [
    "# lighGBM"
   ]
  },
  {
   "cell_type": "code",
   "execution_count": 63,
   "metadata": {
    "ExecuteTime": {
     "end_time": "2019-05-09T11:44:43.077177Z",
     "start_time": "2019-05-09T11:44:43.072225Z"
    }
   },
   "outputs": [],
   "source": [
    "from lightgbm import LGBMClassifier\n",
    "lgb = LGBMClassifier()"
   ]
  },
  {
   "cell_type": "code",
   "execution_count": 64,
   "metadata": {
    "ExecuteTime": {
     "end_time": "2019-05-09T11:44:57.248041Z",
     "start_time": "2019-05-09T11:44:43.436016Z"
    }
   },
   "outputs": [
    {
     "data": {
      "text/plain": [
       "LGBMClassifier(boosting_type='gbdt', class_weight=None, colsample_bytree=1.0,\n",
       "        importance_type='split', learning_rate=0.1, max_depth=-1,\n",
       "        min_child_samples=20, min_child_weight=0.001, min_split_gain=0.0,\n",
       "        n_estimators=100, n_jobs=-1, num_leaves=31, objective=None,\n",
       "        random_state=None, reg_alpha=0.0, reg_lambda=0.0, silent=True,\n",
       "        subsample=1.0, subsample_for_bin=200000, subsample_freq=0)"
      ]
     },
     "execution_count": 64,
     "metadata": {},
     "output_type": "execute_result"
    }
   ],
   "source": [
    "lgb.fit(X_standard, y)"
   ]
  },
  {
   "cell_type": "code",
   "execution_count": 66,
   "metadata": {
    "ExecuteTime": {
     "end_time": "2019-05-09T11:45:25.527708Z",
     "start_time": "2019-05-09T11:45:25.514743Z"
    }
   },
   "outputs": [
    {
     "name": "stdout",
     "output_type": "stream",
     "text": [
      "accuracy : 0.6962 precision : 0.6800 recall : 1.0000 F1 : 0.8095 AUC : 0.5714\n",
      "[[ 4 24]\n",
      " [ 0 51]]\n"
     ]
    }
   ],
   "source": [
    "get_eval(urine_y, lgb.predict(urine_X_standard))"
   ]
  },
  {
   "cell_type": "code",
   "execution_count": 68,
   "metadata": {
    "ExecuteTime": {
     "end_time": "2019-05-09T11:45:51.063061Z",
     "start_time": "2019-05-09T11:45:50.872388Z"
    }
   },
   "outputs": [
    {
     "name": "stdout",
     "output_type": "stream",
     "text": [
      "sample 10 thresholds :  [2.   1.   1.   1.   1.   1.   0.99 0.99 0.97 0.71 0.59 0.01]\n",
      "sample FPR :  [0.    0.071 0.107 0.179 0.25  0.321 0.393 0.536 0.643 0.75  0.786 1.   ]\n",
      "sample TPR :  [0.    0.157 0.255 0.412 0.51  0.549 0.686 0.706 0.765 0.902 0.98  1.   ]\n"
     ]
    },
    {
     "data": {
      "image/png": "[encoded data removed]",
      "text/plain": [
       "<Figure size 432x288 with 1 Axes>"
      ]
     },
     "metadata": {
      "needs_background": "light"
     },
     "output_type": "display_data"
    }
   ],
   "source": [
    "pred_proba = lgb.predict_proba(urine_X_standard)[:,1]\n",
    "roc_curve_plot(urine_y, pred_proba)\n",
    "\n",
    "fpr, tpr, threshold = roc_curve(urine_y, pred_proba)\n",
    "\n",
    "#5step으로 추출\n",
    "thr_index = np.arange(0, threshold.shape[0], 3)\n",
    "print('sample 10 thresholds : ', np.round(threshold[thr_index],2))\n",
    "print('sample FPR : ', np.round(fpr[thr_index],3))\n",
    "print('sample TPR : ', np.round(tpr[thr_index],3))"
   ]
  },
  {
   "cell_type": "code",
   "execution_count": 70,
   "metadata": {
    "ExecuteTime": {
     "end_time": "2019-05-09T11:46:42.620998Z",
     "start_time": "2019-05-09T11:46:42.615013Z"
    }
   },
   "outputs": [
    {
     "name": "stdout",
     "output_type": "stream",
     "text": [
      "max sum :  1.3256302521008405\n",
      "specifity :  0.6785714285714286\n",
      "sensitivity :  0.6470588235294118\n"
     ]
    }
   ],
   "source": [
    "roc_info_print(fpr, tpr)"
   ]
  }
 ],
 "metadata": {
  "hide_input": false,
  "kernelspec": {
   "display_name": "Python 3",
   "language": "python",
   "name": "python3"
  },
  "language_info": {
   "codemirror_mode": {
    "name": "ipython",
    "version": 3
   },
   "file_extension": ".py",
   "mimetype": "text/x-python",
   "name": "python",
   "nbconvert_exporter": "python",
   "pygments_lexer": "ipython3",
   "version": "3.7.1"
  },
  "notify_time": "30",
  "toc": {
   "base_numbering": 1,
   "nav_menu": {},
   "number_sections": true,
   "sideBar": true,
   "skip_h1_title": false,
   "title_cell": "Table of Contents",
   "title_sidebar": "Contents",
   "toc_cell": false,
   "toc_position": {
    "height": "calc(100% - 180px)",
    "left": "10px",
    "top": "150px",
    "width": "307.2px"
   },
   "toc_section_display": true,
   "toc_window_display": true
  }
 },
 "nbformat": 4,
 "nbformat_minor": 2
}
