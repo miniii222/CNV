{
 "cells": [
  {
   "cell_type": "code",
   "execution_count": 1,
   "metadata": {
    "ExecuteTime": {
     "end_time": "2019-05-09T04:45:53.815520Z",
     "start_time": "2019-05-09T04:45:49.497089Z"
    }
   },
   "outputs": [
    {
     "data": {
      "text/plain": [
       "['seungmina_haejyo.csv',\n",
       " 'TCGA_binary.csv',\n",
       " 'TCGA_data.csv',\n",
       " 'urine_binary.csv',\n",
       " 'urine_k15_0419.csv',\n",
       " 'urine_K15_0420.csv',\n",
       " 'urine_k15_0423.csv',\n",
       " 'urine_k15_0428.csv']"
      ]
     },
     "execution_count": 1,
     "metadata": {},
     "output_type": "execute_result"
    }
   ],
   "source": [
    "import pandas as pd\n",
    "import numpy as np\n",
    "import os\n",
    "\n",
    "os.listdir('./data')"
   ]
  },
  {
   "cell_type": "code",
   "execution_count": 3,
   "metadata": {
    "ExecuteTime": {
     "end_time": "2019-05-09T04:52:05.827019Z",
     "start_time": "2019-05-09T04:52:01.695218Z"
    }
   },
   "outputs": [],
   "source": [
    "TCGA = pd.read_csv('./data/TCGA_data.csv')\n",
    "urine = pd.read_csv('./data/urine_k15_0428.csv')"
   ]
  },
  {
   "cell_type": "code",
   "execution_count": 4,
   "metadata": {
    "ExecuteTime": {
     "end_time": "2019-05-09T04:52:17.851233Z",
     "start_time": "2019-05-09T04:52:17.490546Z"
    }
   },
   "outputs": [],
   "source": [
    "TCGA = TCGA[(TCGA.y == 'BLCA') | (TCGA.y == 'Normal')]\n",
    "TCGA = TCGA.replace(['BLCA','Normal'],[ 1,0 ])\n",
    "TCGA = TCGA.reset_index(drop = True)"
   ]
  },
  {
   "cell_type": "code",
   "execution_count": 5,
   "metadata": {
    "ExecuteTime": {
     "end_time": "2019-05-09T04:52:26.851631Z",
     "start_time": "2019-05-09T04:52:26.827508Z"
    }
   },
   "outputs": [],
   "source": [
    "urine = urine[(urine.y == 'BLCA') | (urine.y == 'NL')]\n",
    "urine = urine.replace(['BLCA','NL'],[ 1,0 ])\n",
    "urine = urine.reset_index(drop = True)"
   ]
  },
  {
   "cell_type": "code",
   "execution_count": 6,
   "metadata": {
    "ExecuteTime": {
     "end_time": "2019-05-09T04:52:42.968406Z",
     "start_time": "2019-05-09T04:52:42.956969Z"
    }
   },
   "outputs": [],
   "source": [
    "urine = urine.drop(['Unnamed: 0','X'], axis = 1)"
   ]
  },
  {
   "cell_type": "code",
   "execution_count": 7,
   "metadata": {
    "ExecuteTime": {
     "end_time": "2019-05-09T04:53:15.889267Z",
     "start_time": "2019-05-09T04:53:15.870348Z"
    }
   },
   "outputs": [],
   "source": [
    "X = TCGA.drop('y', axis = 1)\n",
    "y = TCGA['y']\n",
    "\n",
    "urine_X = urine.drop('y', axis = 1)\n",
    "urine_y = urine['y']"
   ]
  },
  {
   "cell_type": "code",
   "execution_count": 8,
   "metadata": {
    "ExecuteTime": {
     "end_time": "2019-05-09T04:53:25.109595Z",
     "start_time": "2019-05-09T04:53:24.968407Z"
    }
   },
   "outputs": [
    {
     "data": {
      "text/plain": [
       "MaxAbsScaler(copy=True)"
      ]
     },
     "execution_count": 8,
     "metadata": {},
     "output_type": "execute_result"
    }
   ],
   "source": [
    "from sklearn.preprocessing import StandardScaler\n",
    "from sklearn.preprocessing import MinMaxScaler\n",
    "from sklearn.preprocessing import MaxAbsScaler\n",
    "\n",
    "standardsc = StandardScaler()\n",
    "mms = MinMaxScaler()\n",
    "mas = MaxAbsScaler()\n",
    "\n",
    "standardsc.fit(X)\n",
    "mms.fit(X)\n",
    "mas.fit(X)"
   ]
  },
  {
   "cell_type": "code",
   "execution_count": 9,
   "metadata": {
    "ExecuteTime": {
     "end_time": "2019-05-09T04:53:32.087293Z",
     "start_time": "2019-05-09T04:53:32.018228Z"
    }
   },
   "outputs": [
    {
     "name": "stderr",
     "output_type": "stream",
     "text": [
      "C:\\Users\\wjssm\\Anaconda3\\lib\\site-packages\\ipykernel_launcher.py:5: DataConversionWarning: Data with input dtype int64, float64 were all converted to float64 by StandardScaler.\n",
      "  \"\"\"\n"
     ]
    }
   ],
   "source": [
    "X_standard = pd.DataFrame(standardsc.transform(X), columns = X.columns)\n",
    "X_mms = pd.DataFrame(mms.transform(X), columns = X.columns)\n",
    "X_mas = pd.DataFrame(mas.transform(X), columns = X.columns)\n",
    "\n",
    "urine_X_standard = standardsc.transform(urine_X)\n",
    "urine_X_mms = mms.transform(urine_X)\n",
    "urine_X_mas = mas.transform(urine_X)"
   ]
  },
  {
   "cell_type": "code",
   "execution_count": 11,
   "metadata": {
    "ExecuteTime": {
     "end_time": "2019-05-09T04:59:23.735350Z",
     "start_time": "2019-05-09T04:59:23.723480Z"
    }
   },
   "outputs": [],
   "source": [
    "from sklearn.metrics import accuracy_score\n",
    "from sklearn.metrics import recall_score\n",
    "from sklearn.metrics import precision_score\n",
    "from sklearn.metrics import confusion_matrix\n",
    "from sklearn.metrics import f1_score\n",
    "from sklearn.metrics import roc_auc_score\n",
    "from sklearn.metrics import classification_report\n",
    "from sklearn.metrics import roc_curve\n",
    "\n",
    "def get_eval(y_test, pred) :\n",
    "    \n",
    "    print('accuracy : {0:.4f} precision : {1:.4f} recall : {2:.4f} F1 : {3:.4f} AUC : {4:.4f}'.format(\n",
    "                                                        accuracy_score(y_test, pred), \n",
    "                                                        precision_score(y_test, pred),\n",
    "                                                        recall_score(y_test, pred),\n",
    "                                                        f1_score(y_test,pred),\n",
    "                                                        roc_auc_score(y_test, pred)\n",
    "                                                                      ))\n",
    "    \n",
    "    \n",
    "    \n",
    "    #print('accuracy : {0:.4f}'.format(accuracy_score(y_test,pred)), 'roc_auc_score : ', roc_auc_score(y_test,pred))\n",
    "    #print(classification_report(y_test, pred))\n",
    "    print(confusion_matrix(y_test, pred))"
   ]
  },
  {
   "cell_type": "code",
   "execution_count": 67,
   "metadata": {
    "ExecuteTime": {
     "end_time": "2019-05-09T08:17:22.898682Z",
     "start_time": "2019-05-09T08:17:22.890704Z"
    }
   },
   "outputs": [],
   "source": [
    "def roc_curve_plot(y_test, pred_proba_c1) :\n",
    "    \n",
    "    fpr, tpr, threshold = roc_curve(y_test, pred_proba_c1)\n",
    "    \n",
    "    #ROC curve\n",
    "    plt.plot(fpr, tpr, label = 'ROC')\n",
    "    #대각선 직선\n",
    "    plt.plot([0,1],[0,1], 'k--', label = 'Random')\n",
    "    \n",
    "    start, end = plt.xlim()\n",
    "    plt.xticks(np.round(np.arange(start, end,0.1),2))\n",
    "    plt.xlim(0,1)\n",
    "    plt.ylim(0,1)\n",
    "    \n",
    "    plt.xlabel('1-Specifity')\n",
    "    plt.ylabel('Sensitivity')\n",
    "    \n",
    "    plt.legend()\n"
   ]
  },
  {
   "cell_type": "code",
   "execution_count": 21,
   "metadata": {
    "ExecuteTime": {
     "end_time": "2019-05-09T05:02:53.904769Z",
     "start_time": "2019-05-09T05:02:53.105238Z"
    }
   },
   "outputs": [],
   "source": [
    "import matplotlib.pyplot as plt"
   ]
  },
  {
   "cell_type": "markdown",
   "metadata": {},
   "source": [
    "# logistic regression\n",
    "- maxabs"
   ]
  },
  {
   "cell_type": "code",
   "execution_count": 68,
   "metadata": {
    "ExecuteTime": {
     "end_time": "2019-05-09T08:17:27.395551Z",
     "start_time": "2019-05-09T08:17:27.389600Z"
    }
   },
   "outputs": [],
   "source": [
    "from sklearn.linear_model import LogisticRegression\n",
    "lr = LogisticRegression()\n",
    "import warnings\n",
    "warnings.filterwarnings('ignore')"
   ]
  },
  {
   "cell_type": "code",
   "execution_count": 69,
   "metadata": {
    "ExecuteTime": {
     "end_time": "2019-05-09T08:17:28.105653Z",
     "start_time": "2019-05-09T08:17:27.855321Z"
    }
   },
   "outputs": [
    {
     "name": "stdout",
     "output_type": "stream",
     "text": [
      "accuracy : 0.5063 precision : 0.8750 recall : 0.2745 F1 : 0.4179 AUC : 0.6015\n",
      "[[26  2]\n",
      " [37 14]]\n"
     ]
    }
   ],
   "source": [
    "lr.fit(X_mas, y)\n",
    "get_eval(urine_y, lr.predict(urine_X_mas))"
   ]
  },
  {
   "cell_type": "code",
   "execution_count": 75,
   "metadata": {
    "ExecuteTime": {
     "end_time": "2019-05-09T08:30:04.836223Z",
     "start_time": "2019-05-09T08:30:04.532041Z"
    }
   },
   "outputs": [
    {
     "name": "stdout",
     "output_type": "stream",
     "text": [
      "sample 10 thresholds :  [2.   1.   0.03 0.02 0.02 0.01 0.01 0.01 0.01 0.01 0.  ]\n",
      "sample FPR(1-specifity) :  [0.    0.071 0.107 0.179 0.286 0.5   0.536 0.679 0.786 0.857 0.929]\n",
      "sample TPR(sensitivity) :  [0.    0.098 0.392 0.431 0.49  0.51  0.549 0.569 0.608 0.667 0.882]\n"
     ]
    },
    {
     "data": {
      "image/png": "[encoded data removed]",
      "text/plain": [
       "<Figure size 432x288 with 1 Axes>"
      ]
     },
     "metadata": {
      "needs_background": "light"
     },
     "output_type": "display_data"
    }
   ],
   "source": [
    "pred_proba = lr.predict_proba(urine_X_mas)[:,1]\n",
    "roc_curve_plot(urine_y, pred_proba)\n",
    "\n",
    "fpr, tpr, threshold = roc_curve(urine_y, pred_proba)\n",
    "\n",
    "thr_index = np.arange(0, threshold.shape[0], 3)\n",
    "print('sample 10 thresholds : ', np.round(threshold[thr_index],2))\n",
    "print('sample FPR(1-specifity) : ', np.round(fpr[thr_index],3))\n",
    "print('sample TPR(sensitivity) : ', np.round(tpr[thr_index],3))"
   ]
  },
  {
   "cell_type": "code",
   "execution_count": 76,
   "metadata": {
    "ExecuteTime": {
     "end_time": "2019-05-09T08:30:13.740616Z",
     "start_time": "2019-05-09T08:30:13.731605Z"
    }
   },
   "outputs": [
    {
     "data": {
      "text/plain": [
       "array([1.   , 1.027, 1.285, 1.252, 1.204, 1.01 , 1.013, 0.89 , 0.822,\n",
       "       0.81 , 0.953])"
      ]
     },
     "execution_count": 76,
     "metadata": {},
     "output_type": "execute_result"
    }
   ],
   "source": [
    "1-np.round(fpr[thr_index],3) + np.round(tpr[thr_index],3)"
   ]
  },
  {
   "cell_type": "markdown",
   "metadata": {},
   "source": [
    "# random forest"
   ]
  },
  {
   "cell_type": "code",
   "execution_count": 30,
   "metadata": {
    "ExecuteTime": {
     "end_time": "2019-05-09T05:08:42.361201Z",
     "start_time": "2019-05-09T05:08:42.351312Z"
    }
   },
   "outputs": [],
   "source": [
    "from sklearn.ensemble import RandomForestClassifier\n",
    "rf = RandomForestClassifier(n_estimators=20, random_state = 0)"
   ]
  },
  {
   "cell_type": "code",
   "execution_count": 31,
   "metadata": {
    "ExecuteTime": {
     "end_time": "2019-05-09T05:08:43.763453Z",
     "start_time": "2019-05-09T05:08:42.880383Z"
    }
   },
   "outputs": [
    {
     "name": "stdout",
     "output_type": "stream",
     "text": [
      "accuracy : 0.6709 precision : 0.6712 recall : 0.9608 F1 : 0.7903 AUC : 0.5518\n",
      "[[ 4 24]\n",
      " [ 2 49]]\n"
     ]
    }
   ],
   "source": [
    "rf.fit(X, y)\n",
    "get_eval(urine_y, rf.predict(urine_X))"
   ]
  },
  {
   "cell_type": "code",
   "execution_count": 32,
   "metadata": {
    "ExecuteTime": {
     "end_time": "2019-05-09T05:09:32.428632Z",
     "start_time": "2019-05-09T05:09:32.105409Z"
    }
   },
   "outputs": [
    {
     "name": "stdout",
     "output_type": "stream",
     "text": [
      "sample 10 thresholds :  [1.95 0.75 0.5 ]\n",
      "sample FPR :  [0.    0.321 0.821]\n",
      "sample TPR :  [0.    0.588 0.941]\n"
     ]
    },
    {
     "data": {
      "image/png": "[encoded data removed]",
      "text/plain": [
       "<Figure size 432x288 with 1 Axes>"
      ]
     },
     "metadata": {
      "needs_background": "light"
     },
     "output_type": "display_data"
    }
   ],
   "source": [
    "pred_proba = rf.predict_proba(urine_X_mas)[:,1]\n",
    "roc_curve_plot(urine_y, pred_proba)\n",
    "\n",
    "fpr, tpr, threshold = roc_curve(urine_y, pred_proba)\n",
    "\n",
    "#5step으로 추출\n",
    "thr_index = np.arange(0, threshold.shape[0], 5)\n",
    "print('sample 10 thresholds : ', np.round(threshold[thr_index],2))\n",
    "print('sample FPR : ', np.round(fpr[thr_index],3))\n",
    "print('sample TPR : ', np.round(tpr[thr_index],3))"
   ]
  },
  {
   "cell_type": "markdown",
   "metadata": {},
   "source": [
    "# SVM"
   ]
  },
  {
   "cell_type": "code",
   "execution_count": 33,
   "metadata": {
    "ExecuteTime": {
     "end_time": "2019-05-09T05:10:41.437817Z",
     "start_time": "2019-05-09T05:10:41.429697Z"
    }
   },
   "outputs": [],
   "source": [
    "from sklearn.svm import SVC\n",
    "svm = SVC(probability=True)"
   ]
  },
  {
   "cell_type": "code",
   "execution_count": 34,
   "metadata": {
    "ExecuteTime": {
     "end_time": "2019-05-09T05:11:19.628205Z",
     "start_time": "2019-05-09T05:11:09.090316Z"
    }
   },
   "outputs": [
    {
     "name": "stdout",
     "output_type": "stream",
     "text": [
      "accuracy : 0.6203 precision : 0.8182 recall : 0.5294 F1 : 0.6429 AUC : 0.6576\n",
      "[[22  6]\n",
      " [24 27]]\n"
     ]
    }
   ],
   "source": [
    "svm.fit(X, y)\n",
    "get_eval(urine_y, svm.predict(urine_X))"
   ]
  },
  {
   "cell_type": "code",
   "execution_count": 35,
   "metadata": {
    "ExecuteTime": {
     "end_time": "2019-05-09T05:11:19.993411Z",
     "start_time": "2019-05-09T05:11:19.630752Z"
    }
   },
   "outputs": [
    {
     "name": "stdout",
     "output_type": "stream",
     "text": [
      "sample 10 thresholds :  [2.   0.28 0.06 0.01 0.01]\n",
      "sample FPR :  [0.    0.286 0.393 0.571 0.893]\n",
      "sample TPR :  [0.    0.608 0.765 0.843 0.922]\n"
     ]
    },
    {
     "data": {
      "image/png": "[encoded data removed]",
      "text/plain": [
       "<Figure size 432x288 with 1 Axes>"
      ]
     },
     "metadata": {
      "needs_background": "light"
     },
     "output_type": "display_data"
    }
   ],
   "source": [
    "pred_proba = svm.predict_proba(urine_X_mas)[:,1]\n",
    "roc_curve_plot(urine_y, pred_proba)\n",
    "\n",
    "fpr, tpr, threshold = roc_curve(urine_y, pred_proba)\n",
    "\n",
    "#5step으로 추출\n",
    "thr_index = np.arange(0, threshold.shape[0], 5)\n",
    "print('sample 10 thresholds : ', np.round(threshold[thr_index],2))\n",
    "print('sample FPR : ', np.round(fpr[thr_index],3))\n",
    "print('sample TPR : ', np.round(tpr[thr_index],3))"
   ]
  },
  {
   "cell_type": "markdown",
   "metadata": {},
   "source": [
    "# adaboost\n",
    "- maxabs"
   ]
  },
  {
   "cell_type": "code",
   "execution_count": 36,
   "metadata": {
    "ExecuteTime": {
     "end_time": "2019-05-09T05:12:34.403197Z",
     "start_time": "2019-05-09T05:12:34.399196Z"
    }
   },
   "outputs": [],
   "source": [
    "from sklearn.ensemble import AdaBoostClassifier\n",
    "ada = AdaBoostClassifier()"
   ]
  },
  {
   "cell_type": "code",
   "execution_count": 37,
   "metadata": {
    "ExecuteTime": {
     "end_time": "2019-05-09T05:13:00.859977Z",
     "start_time": "2019-05-09T05:12:50.479365Z"
    }
   },
   "outputs": [
    {
     "name": "stdout",
     "output_type": "stream",
     "text": [
      "accuracy : 0.6962 precision : 0.8293 recall : 0.6667 F1 : 0.7391 AUC : 0.7083\n",
      "[[21  7]\n",
      " [17 34]]\n"
     ]
    }
   ],
   "source": [
    "ada.fit(X_mas, y)\n",
    "get_eval(urine_y, ada.predict(urine_X_mas))"
   ]
  },
  {
   "cell_type": "code",
   "execution_count": 38,
   "metadata": {
    "ExecuteTime": {
     "end_time": "2019-05-09T05:13:06.270312Z",
     "start_time": "2019-05-09T05:13:05.948860Z"
    }
   },
   "outputs": [
    {
     "name": "stdout",
     "output_type": "stream",
     "text": [
      "sample 10 thresholds :  [1.73 0.54 0.5  0.5  0.49 0.47 0.45 0.4 ]\n",
      "sample FPR :  [0.    0.071 0.214 0.286 0.536 0.643 0.893 1.   ]\n",
      "sample TPR :  [0.    0.294 0.608 0.686 0.745 0.882 0.922 1.   ]\n"
     ]
    },
    {
     "data": {
      "image/png": "[encoded data removed]",
      "text/plain": [
       "<Figure size 432x288 with 1 Axes>"
      ]
     },
     "metadata": {
      "needs_background": "light"
     },
     "output_type": "display_data"
    }
   ],
   "source": [
    "pred_proba = ada.predict_proba(urine_X_mas)[:,1]\n",
    "roc_curve_plot(urine_y, pred_proba)\n",
    "\n",
    "fpr, tpr, threshold = roc_curve(urine_y, pred_proba)\n",
    "\n",
    "#5step으로 추출\n",
    "thr_index = np.arange(0, threshold.shape[0], 5)\n",
    "print('sample 10 thresholds : ', np.round(threshold[thr_index],2))\n",
    "print('sample FPR : ', np.round(fpr[thr_index],3))\n",
    "print('sample TPR : ', np.round(tpr[thr_index],3))"
   ]
  },
  {
   "cell_type": "markdown",
   "metadata": {},
   "source": [
    "# GBM"
   ]
  },
  {
   "cell_type": "code",
   "execution_count": 39,
   "metadata": {
    "ExecuteTime": {
     "end_time": "2019-05-09T05:14:15.117788Z",
     "start_time": "2019-05-09T05:14:15.112949Z"
    }
   },
   "outputs": [],
   "source": [
    "from sklearn.ensemble import GradientBoostingClassifier\n",
    "gb = GradientBoostingClassifier()"
   ]
  },
  {
   "cell_type": "code",
   "execution_count": 40,
   "metadata": {
    "ExecuteTime": {
     "end_time": "2019-05-09T05:14:46.208688Z",
     "start_time": "2019-05-09T05:14:33.561132Z"
    }
   },
   "outputs": [
    {
     "name": "stdout",
     "output_type": "stream",
     "text": [
      "accuracy : 0.6456 precision : 0.6667 recall : 0.9020 F1 : 0.7667 AUC : 0.5403\n",
      "[[ 5 23]\n",
      " [ 5 46]]\n"
     ]
    }
   ],
   "source": [
    "gb.fit(X, y)\n",
    "get_eval(urine_y, gb.predict(urine_X))"
   ]
  },
  {
   "cell_type": "code",
   "execution_count": 41,
   "metadata": {
    "ExecuteTime": {
     "end_time": "2019-05-09T05:14:46.655193Z",
     "start_time": "2019-05-09T05:14:46.212681Z"
    }
   },
   "outputs": [
    {
     "name": "stdout",
     "output_type": "stream",
     "text": [
      "sample 10 thresholds :  [2.   0.98 0.89 0.8  0.69 0.53 0.14]\n",
      "sample FPR :  [0.    0.107 0.321 0.429 0.571 0.714 0.821]\n",
      "sample TPR :  [0.    0.235 0.549 0.647 0.784 0.843 0.961]\n"
     ]
    },
    {
     "data": {
      "image/png": "[encoded data removed]",
      "text/plain": [
       "<Figure size 432x288 with 1 Axes>"
      ]
     },
     "metadata": {
      "needs_background": "light"
     },
     "output_type": "display_data"
    }
   ],
   "source": [
    "pred_proba = gb.predict_proba(urine_X_mas)[:,1]\n",
    "roc_curve_plot(urine_y, pred_proba)\n",
    "\n",
    "fpr, tpr, threshold = roc_curve(urine_y, pred_proba)\n",
    "\n",
    "#5step으로 추출\n",
    "thr_index = np.arange(0, threshold.shape[0], 5)\n",
    "print('sample 10 thresholds : ', np.round(threshold[thr_index],2))\n",
    "print('sample FPR : ', np.round(fpr[thr_index],3))\n",
    "print('sample TPR : ', np.round(tpr[thr_index],3))"
   ]
  },
  {
   "cell_type": "markdown",
   "metadata": {},
   "source": [
    "# xgboost"
   ]
  },
  {
   "cell_type": "code",
   "execution_count": 49,
   "metadata": {
    "ExecuteTime": {
     "end_time": "2019-05-09T06:42:15.694106Z",
     "start_time": "2019-05-09T06:42:15.688121Z"
    }
   },
   "outputs": [],
   "source": [
    "from xgboost import XGBClassifier\n",
    "params = {'colsample_bytree': 0.3,\n",
    " 'max_depth': 7,\n",
    " 'min_child_weight': 1,\n",
    " 'n_estimators': 200}\n",
    "\n",
    "xgb = XGBClassifier(params = params)"
   ]
  },
  {
   "cell_type": "code",
   "execution_count": 50,
   "metadata": {
    "ExecuteTime": {
     "end_time": "2019-05-09T06:42:27.661101Z",
     "start_time": "2019-05-09T06:42:17.712707Z"
    }
   },
   "outputs": [
    {
     "data": {
      "text/plain": [
       "XGBClassifier(base_score=0.5, booster='gbtree', colsample_bylevel=1,\n",
       "       colsample_bytree=1, gamma=0, learning_rate=0.1, max_delta_step=0,\n",
       "       max_depth=3, min_child_weight=1, missing=None, n_estimators=100,\n",
       "       n_jobs=1, nthread=None, objective='binary:logistic',\n",
       "       params={'colsample_bytree': 0.3, 'max_depth': 7, 'min_child_weight': 1, 'n_estimators': 200},\n",
       "       random_state=0, reg_alpha=0, reg_lambda=1, scale_pos_weight=1,\n",
       "       seed=None, silent=True, subsample=1)"
      ]
     },
     "execution_count": 50,
     "metadata": {},
     "output_type": "execute_result"
    }
   ],
   "source": [
    "xgb.fit(X.as_matrix(), y)"
   ]
  },
  {
   "cell_type": "code",
   "execution_count": 52,
   "metadata": {
    "ExecuteTime": {
     "end_time": "2019-05-09T06:42:41.114802Z",
     "start_time": "2019-05-09T06:42:41.098844Z"
    }
   },
   "outputs": [
    {
     "name": "stdout",
     "output_type": "stream",
     "text": [
      "accuracy : 0.6456 precision : 0.6716 recall : 0.8824 F1 : 0.7627 AUC : 0.5483\n",
      "[[ 6 22]\n",
      " [ 6 45]]\n"
     ]
    }
   ],
   "source": [
    "get_eval(urine_y, xgb.predict(urine_X.as_matrix()))"
   ]
  },
  {
   "cell_type": "code",
   "execution_count": 54,
   "metadata": {
    "ExecuteTime": {
     "end_time": "2019-05-09T06:42:56.058522Z",
     "start_time": "2019-05-09T06:42:55.845091Z"
    }
   },
   "outputs": [
    {
     "name": "stdout",
     "output_type": "stream",
     "text": [
      "sample 10 thresholds :  [1.99 0.98 0.96 0.92 0.83 0.69 0.48]\n",
      "sample FPR :  [0.    0.107 0.286 0.357 0.536 0.607 0.821]\n",
      "sample TPR :  [0.    0.157 0.255 0.51  0.706 0.863 0.902]\n"
     ]
    },
    {
     "data": {
      "image/png": "[encoded data removed]",
      "text/plain": [
       "<Figure size 432x288 with 1 Axes>"
      ]
     },
     "metadata": {
      "needs_background": "light"
     },
     "output_type": "display_data"
    }
   ],
   "source": [
    "pred_proba = xgb.predict_proba(urine_X.as_matrix())[:,1]\n",
    "roc_curve_plot(urine_y, pred_proba)\n",
    "\n",
    "fpr, tpr, threshold = roc_curve(urine_y, pred_proba)\n",
    "\n",
    "#5step으로 추출\n",
    "thr_index = np.arange(0, threshold.shape[0], 5)\n",
    "print('sample 10 thresholds : ', np.round(threshold[thr_index],2))\n",
    "print('sample FPR : ', np.round(fpr[thr_index],3))\n",
    "print('sample TPR : ', np.round(tpr[thr_index],3))"
   ]
  },
  {
   "cell_type": "code",
   "execution_count": 56,
   "metadata": {
    "ExecuteTime": {
     "end_time": "2019-05-09T08:05:37.069724Z",
     "start_time": "2019-05-09T08:05:37.062742Z"
    }
   },
   "outputs": [
    {
     "data": {
      "text/plain": [
       "array([0.   , 0.264, 0.541, 0.867, 1.242, 1.47 , 1.723])"
      ]
     },
     "execution_count": 56,
     "metadata": {},
     "output_type": "execute_result"
    }
   ],
   "source": [
    "np.round(fpr[thr_index],3) + np.round(tpr[thr_index],3)"
   ]
  }
 ],
 "metadata": {
  "hide_input": false,
  "kernelspec": {
   "display_name": "Python 3",
   "language": "python",
   "name": "python3"
  },
  "language_info": {
   "codemirror_mode": {
    "name": "ipython",
    "version": 3
   },
   "file_extension": ".py",
   "mimetype": "text/x-python",
   "name": "python",
   "nbconvert_exporter": "python",
   "pygments_lexer": "ipython3",
   "version": "3.7.1"
  },
  "notify_time": "30",
  "toc": {
   "base_numbering": 1,
   "nav_menu": {},
   "number_sections": true,
   "sideBar": true,
   "skip_h1_title": false,
   "title_cell": "Table of Contents",
   "title_sidebar": "Contents",
   "toc_cell": false,
   "toc_position": {
    "height": "calc(100% - 180px)",
    "left": "10px",
    "top": "150px",
    "width": "307.2px"
   },
   "toc_section_display": true,
   "toc_window_display": true
  }
 },
 "nbformat": 4,
 "nbformat_minor": 2
}
