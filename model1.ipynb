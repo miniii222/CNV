{
 "cells": [
  {
   "cell_type": "code",
   "execution_count": 1,
   "metadata": {
    "ExecuteTime": {
     "end_time": "2019-02-19T10:27:02.898823Z",
     "start_time": "2019-02-19T10:27:00.902795Z"
    }
   },
   "outputs": [],
   "source": [
    "import numpy as np\n",
    "import pandas as pd\n",
    "from matplotlib import pyplot as plt"
   ]
  },
  {
   "cell_type": "markdown",
   "metadata": {},
   "source": [
    "## K100"
   ]
  },
  {
   "cell_type": "code",
   "execution_count": 20,
   "metadata": {
    "ExecuteTime": {
     "end_time": "2019-02-19T12:11:21.344940Z",
     "start_time": "2019-02-19T12:11:21.064707Z"
    }
   },
   "outputs": [],
   "source": [
    "BC_100 = pd.read_csv('BC_32ea_k100_cyto.csv')\n",
    "Normal_100 = pd.read_csv('Normal_21ea_k100_cyto.csv')\n",
    "PC_100 = pd.read_csv('PC_20ea_k100_cyto.csv')\n",
    "RC_100 = pd.read_csv('RC_20ea_k100_cyto.csv')"
   ]
  },
  {
   "cell_type": "code",
   "execution_count": 21,
   "metadata": {
    "ExecuteTime": {
     "end_time": "2019-02-19T12:11:25.738509Z",
     "start_time": "2019-02-19T12:11:21.832413Z"
    }
   },
   "outputs": [
    {
     "data": {
      "text/html": [
       "<div>\n",
       "<style scoped>\n",
       "    .dataframe tbody tr th:only-of-type {\n",
       "        vertical-align: middle;\n",
       "    }\n",
       "\n",
       "    .dataframe tbody tr th {\n",
       "        vertical-align: top;\n",
       "    }\n",
       "\n",
       "    .dataframe thead th {\n",
       "        text-align: right;\n",
       "    }\n",
       "</style>\n",
       "<table border=\"1\" class=\"dataframe\">\n",
       "  <thead>\n",
       "    <tr style=\"text-align: right;\">\n",
       "      <th></th>\n",
       "      <th>Unnamed: 0</th>\n",
       "      <th>cyto.10p11.1</th>\n",
       "      <th>cyto.10p11.21</th>\n",
       "      <th>cyto.10p11.22</th>\n",
       "      <th>cyto.10p11.23</th>\n",
       "      <th>cyto.10p12.1</th>\n",
       "      <th>cyto.10p12.2</th>\n",
       "      <th>cyto.10p12.31</th>\n",
       "      <th>cyto.10p12.32</th>\n",
       "      <th>cyto.10p12.33</th>\n",
       "      <th>...</th>\n",
       "      <th>cyto.9q32</th>\n",
       "      <th>cyto.9q33.1</th>\n",
       "      <th>cyto.9q33.2</th>\n",
       "      <th>cyto.9q33.3</th>\n",
       "      <th>cyto.9q34.11</th>\n",
       "      <th>cyto.9q34.12</th>\n",
       "      <th>cyto.9q34.13</th>\n",
       "      <th>cyto.9q34.2</th>\n",
       "      <th>cyto.9q34.3</th>\n",
       "      <th>&lt;NA&gt;</th>\n",
       "    </tr>\n",
       "  </thead>\n",
       "  <tbody>\n",
       "    <tr>\n",
       "      <th>count</th>\n",
       "      <td>21.000000</td>\n",
       "      <td>18.000000</td>\n",
       "      <td>18.000000</td>\n",
       "      <td>21.000000</td>\n",
       "      <td>18.000000</td>\n",
       "      <td>21.000000</td>\n",
       "      <td>21.000000</td>\n",
       "      <td>21.000000</td>\n",
       "      <td>18.000000</td>\n",
       "      <td>19.000000</td>\n",
       "      <td>...</td>\n",
       "      <td>20.000000</td>\n",
       "      <td>21.000000</td>\n",
       "      <td>21.000000</td>\n",
       "      <td>21.000000</td>\n",
       "      <td>19.000000</td>\n",
       "      <td>19.000000</td>\n",
       "      <td>20.000000</td>\n",
       "      <td>19.000000</td>\n",
       "      <td>21.000000</td>\n",
       "      <td>16.000000</td>\n",
       "    </tr>\n",
       "    <tr>\n",
       "      <th>mean</th>\n",
       "      <td>11.000000</td>\n",
       "      <td>0.106019</td>\n",
       "      <td>0.111346</td>\n",
       "      <td>-25.043430</td>\n",
       "      <td>0.129841</td>\n",
       "      <td>-3.731343</td>\n",
       "      <td>0.463900</td>\n",
       "      <td>-25.005939</td>\n",
       "      <td>0.144833</td>\n",
       "      <td>0.140782</td>\n",
       "      <td>...</td>\n",
       "      <td>0.148059</td>\n",
       "      <td>-16.479859</td>\n",
       "      <td>0.502576</td>\n",
       "      <td>0.444790</td>\n",
       "      <td>0.381377</td>\n",
       "      <td>0.126926</td>\n",
       "      <td>-26.371799</td>\n",
       "      <td>0.334325</td>\n",
       "      <td>-25.100993</td>\n",
       "      <td>-0.063500</td>\n",
       "    </tr>\n",
       "    <tr>\n",
       "      <th>std</th>\n",
       "      <td>6.204837</td>\n",
       "      <td>0.339468</td>\n",
       "      <td>0.359183</td>\n",
       "      <td>116.595136</td>\n",
       "      <td>0.418884</td>\n",
       "      <td>19.391819</td>\n",
       "      <td>1.209047</td>\n",
       "      <td>116.606264</td>\n",
       "      <td>0.340895</td>\n",
       "      <td>0.391903</td>\n",
       "      <td>...</td>\n",
       "      <td>0.438473</td>\n",
       "      <td>77.713848</td>\n",
       "      <td>1.495606</td>\n",
       "      <td>1.214966</td>\n",
       "      <td>1.245519</td>\n",
       "      <td>0.319330</td>\n",
       "      <td>119.462963</td>\n",
       "      <td>0.968549</td>\n",
       "      <td>116.581000</td>\n",
       "      <td>0.413005</td>\n",
       "    </tr>\n",
       "    <tr>\n",
       "      <th>min</th>\n",
       "      <td>1.000000</td>\n",
       "      <td>-0.222000</td>\n",
       "      <td>-0.196567</td>\n",
       "      <td>-533.888000</td>\n",
       "      <td>-0.080133</td>\n",
       "      <td>-88.148000</td>\n",
       "      <td>-0.068500</td>\n",
       "      <td>-533.888000</td>\n",
       "      <td>-0.340000</td>\n",
       "      <td>-0.272000</td>\n",
       "      <td>...</td>\n",
       "      <td>-0.129250</td>\n",
       "      <td>-355.592000</td>\n",
       "      <td>-0.127333</td>\n",
       "      <td>-0.102250</td>\n",
       "      <td>-0.071367</td>\n",
       "      <td>-0.100600</td>\n",
       "      <td>-533.888000</td>\n",
       "      <td>-0.090357</td>\n",
       "      <td>-533.888000</td>\n",
       "      <td>-1.037000</td>\n",
       "    </tr>\n",
       "    <tr>\n",
       "      <th>25%</th>\n",
       "      <td>6.000000</td>\n",
       "      <td>-0.074250</td>\n",
       "      <td>-0.030008</td>\n",
       "      <td>0.014714</td>\n",
       "      <td>-0.046933</td>\n",
       "      <td>-0.003891</td>\n",
       "      <td>0.015600</td>\n",
       "      <td>-0.007278</td>\n",
       "      <td>-0.017750</td>\n",
       "      <td>-0.048357</td>\n",
       "      <td>...</td>\n",
       "      <td>-0.088464</td>\n",
       "      <td>-0.021739</td>\n",
       "      <td>-0.023576</td>\n",
       "      <td>-0.002159</td>\n",
       "      <td>-0.000300</td>\n",
       "      <td>-0.050400</td>\n",
       "      <td>-0.012079</td>\n",
       "      <td>-0.034714</td>\n",
       "      <td>-0.016097</td>\n",
       "      <td>-0.219375</td>\n",
       "    </tr>\n",
       "    <tr>\n",
       "      <th>50%</th>\n",
       "      <td>11.000000</td>\n",
       "      <td>0.018000</td>\n",
       "      <td>0.017800</td>\n",
       "      <td>0.043357</td>\n",
       "      <td>0.004733</td>\n",
       "      <td>0.014065</td>\n",
       "      <td>0.030650</td>\n",
       "      <td>0.016167</td>\n",
       "      <td>0.081000</td>\n",
       "      <td>-0.005571</td>\n",
       "      <td>...</td>\n",
       "      <td>-0.054232</td>\n",
       "      <td>0.000848</td>\n",
       "      <td>0.011455</td>\n",
       "      <td>0.017205</td>\n",
       "      <td>0.018833</td>\n",
       "      <td>0.018000</td>\n",
       "      <td>0.013579</td>\n",
       "      <td>0.008500</td>\n",
       "      <td>0.015839</td>\n",
       "      <td>0.038250</td>\n",
       "    </tr>\n",
       "    <tr>\n",
       "      <th>75%</th>\n",
       "      <td>16.000000</td>\n",
       "      <td>0.055167</td>\n",
       "      <td>0.032100</td>\n",
       "      <td>0.069607</td>\n",
       "      <td>0.042067</td>\n",
       "      <td>0.046391</td>\n",
       "      <td>0.066850</td>\n",
       "      <td>0.025861</td>\n",
       "      <td>0.195750</td>\n",
       "      <td>0.054786</td>\n",
       "      <td>...</td>\n",
       "      <td>0.001277</td>\n",
       "      <td>0.046283</td>\n",
       "      <td>0.046333</td>\n",
       "      <td>0.047818</td>\n",
       "      <td>0.029767</td>\n",
       "      <td>0.132100</td>\n",
       "      <td>0.029526</td>\n",
       "      <td>0.052429</td>\n",
       "      <td>0.032581</td>\n",
       "      <td>0.092625</td>\n",
       "    </tr>\n",
       "    <tr>\n",
       "      <th>max</th>\n",
       "      <td>21.000000</td>\n",
       "      <td>1.000000</td>\n",
       "      <td>1.166667</td>\n",
       "      <td>4.441000</td>\n",
       "      <td>1.500000</td>\n",
       "      <td>6.249200</td>\n",
       "      <td>5.452500</td>\n",
       "      <td>5.678200</td>\n",
       "      <td>1.000000</td>\n",
       "      <td>1.000000</td>\n",
       "      <td>...</td>\n",
       "      <td>1.000000</td>\n",
       "      <td>6.567833</td>\n",
       "      <td>6.783000</td>\n",
       "      <td>5.463000</td>\n",
       "      <td>5.385600</td>\n",
       "      <td>1.000000</td>\n",
       "      <td>5.346500</td>\n",
       "      <td>3.965667</td>\n",
       "      <td>3.799600</td>\n",
       "      <td>0.700500</td>\n",
       "    </tr>\n",
       "  </tbody>\n",
       "</table>\n",
       "<p>8 rows × 766 columns</p>\n",
       "</div>"
      ],
      "text/plain": [
       "       Unnamed: 0  cyto.10p11.1  cyto.10p11.21  cyto.10p11.22  cyto.10p11.23  \\\n",
       "count   21.000000     18.000000      18.000000      21.000000      18.000000   \n",
       "mean    11.000000      0.106019       0.111346     -25.043430       0.129841   \n",
       "std      6.204837      0.339468       0.359183     116.595136       0.418884   \n",
       "min      1.000000     -0.222000      -0.196567    -533.888000      -0.080133   \n",
       "25%      6.000000     -0.074250      -0.030008       0.014714      -0.046933   \n",
       "50%     11.000000      0.018000       0.017800       0.043357       0.004733   \n",
       "75%     16.000000      0.055167       0.032100       0.069607       0.042067   \n",
       "max     21.000000      1.000000       1.166667       4.441000       1.500000   \n",
       "\n",
       "       cyto.10p12.1  cyto.10p12.2  cyto.10p12.31  cyto.10p12.32  \\\n",
       "count     21.000000     21.000000      21.000000      18.000000   \n",
       "mean      -3.731343      0.463900     -25.005939       0.144833   \n",
       "std       19.391819      1.209047     116.606264       0.340895   \n",
       "min      -88.148000     -0.068500    -533.888000      -0.340000   \n",
       "25%       -0.003891      0.015600      -0.007278      -0.017750   \n",
       "50%        0.014065      0.030650       0.016167       0.081000   \n",
       "75%        0.046391      0.066850       0.025861       0.195750   \n",
       "max        6.249200      5.452500       5.678200       1.000000   \n",
       "\n",
       "       cyto.10p12.33    ...      cyto.9q32  cyto.9q33.1  cyto.9q33.2  \\\n",
       "count      19.000000    ...      20.000000    21.000000    21.000000   \n",
       "mean        0.140782    ...       0.148059   -16.479859     0.502576   \n",
       "std         0.391903    ...       0.438473    77.713848     1.495606   \n",
       "min        -0.272000    ...      -0.129250  -355.592000    -0.127333   \n",
       "25%        -0.048357    ...      -0.088464    -0.021739    -0.023576   \n",
       "50%        -0.005571    ...      -0.054232     0.000848     0.011455   \n",
       "75%         0.054786    ...       0.001277     0.046283     0.046333   \n",
       "max         1.000000    ...       1.000000     6.567833     6.783000   \n",
       "\n",
       "       cyto.9q33.3  cyto.9q34.11  cyto.9q34.12  cyto.9q34.13  cyto.9q34.2  \\\n",
       "count    21.000000     19.000000     19.000000     20.000000    19.000000   \n",
       "mean      0.444790      0.381377      0.126926    -26.371799     0.334325   \n",
       "std       1.214966      1.245519      0.319330    119.462963     0.968549   \n",
       "min      -0.102250     -0.071367     -0.100600   -533.888000    -0.090357   \n",
       "25%      -0.002159     -0.000300     -0.050400     -0.012079    -0.034714   \n",
       "50%       0.017205      0.018833      0.018000      0.013579     0.008500   \n",
       "75%       0.047818      0.029767      0.132100      0.029526     0.052429   \n",
       "max       5.463000      5.385600      1.000000      5.346500     3.965667   \n",
       "\n",
       "       cyto.9q34.3       <NA>  \n",
       "count    21.000000  16.000000  \n",
       "mean    -25.100993  -0.063500  \n",
       "std     116.581000   0.413005  \n",
       "min    -533.888000  -1.037000  \n",
       "25%      -0.016097  -0.219375  \n",
       "50%       0.015839   0.038250  \n",
       "75%       0.032581   0.092625  \n",
       "max       3.799600   0.700500  \n",
       "\n",
       "[8 rows x 766 columns]"
      ]
     },
     "execution_count": 21,
     "metadata": {},
     "output_type": "execute_result"
    }
   ],
   "source": [
    "RC_100.describe()"
   ]
  },
  {
   "cell_type": "code",
   "execution_count": 23,
   "metadata": {
    "ExecuteTime": {
     "end_time": "2019-02-19T12:12:02.221280Z",
     "start_time": "2019-02-19T12:12:02.208259Z"
    }
   },
   "outputs": [],
   "source": [
    "#drop person id\n",
    "BC_100.drop('Unnamed: 0', axis = 1, inplace = True)\n",
    "Normal_100.drop('Unnamed: 0', axis = 1, inplace = True)\n",
    "PC_100.drop('Unnamed: 0', axis = 1, inplace = True)\n",
    "RC_100.drop('Unnamed: 0', axis = 1, inplace = True)"
   ]
  },
  {
   "cell_type": "code",
   "execution_count": 24,
   "metadata": {
    "ExecuteTime": {
     "end_time": "2019-02-19T12:12:03.438467Z",
     "start_time": "2019-02-19T12:12:03.421571Z"
    }
   },
   "outputs": [],
   "source": [
    "BC_100['cancer'] = 'BC'\n",
    "Normal_100['cancer'] = 'normal'\n",
    "PC_100['cancer'] = 'PC'\n",
    "RC_100['cancer'] = \"RC\"\n",
    "\n",
    "K100 = pd.concat([BC_100,Normal_100,PC_100,RC_100], axis = 0)"
   ]
  },
  {
   "cell_type": "code",
   "execution_count": 25,
   "metadata": {
    "ExecuteTime": {
     "end_time": "2019-02-19T12:12:08.850821Z",
     "start_time": "2019-02-19T12:12:05.311975Z"
    }
   },
   "outputs": [
    {
     "data": {
      "text/html": [
       "<div>\n",
       "<style scoped>\n",
       "    .dataframe tbody tr th:only-of-type {\n",
       "        vertical-align: middle;\n",
       "    }\n",
       "\n",
       "    .dataframe tbody tr th {\n",
       "        vertical-align: top;\n",
       "    }\n",
       "\n",
       "    .dataframe thead th {\n",
       "        text-align: right;\n",
       "    }\n",
       "</style>\n",
       "<table border=\"1\" class=\"dataframe\">\n",
       "  <thead>\n",
       "    <tr style=\"text-align: right;\">\n",
       "      <th></th>\n",
       "      <th>cyto.10p11.1</th>\n",
       "      <th>cyto.10p11.21</th>\n",
       "      <th>cyto.10p11.22</th>\n",
       "      <th>cyto.10p11.23</th>\n",
       "      <th>cyto.10p12.1</th>\n",
       "      <th>cyto.10p12.2</th>\n",
       "      <th>cyto.10p12.31</th>\n",
       "      <th>cyto.10p12.32</th>\n",
       "      <th>cyto.10p12.33</th>\n",
       "      <th>cyto.10p13</th>\n",
       "      <th>...</th>\n",
       "      <th>cyto.9q32</th>\n",
       "      <th>cyto.9q33.1</th>\n",
       "      <th>cyto.9q33.2</th>\n",
       "      <th>cyto.9q33.3</th>\n",
       "      <th>cyto.9q34.11</th>\n",
       "      <th>cyto.9q34.12</th>\n",
       "      <th>cyto.9q34.13</th>\n",
       "      <th>cyto.9q34.2</th>\n",
       "      <th>cyto.9q34.3</th>\n",
       "      <th>&lt;NA&gt;</th>\n",
       "    </tr>\n",
       "  </thead>\n",
       "  <tbody>\n",
       "    <tr>\n",
       "      <th>count</th>\n",
       "      <td>90.000000</td>\n",
       "      <td>91.000000</td>\n",
       "      <td>94.000000</td>\n",
       "      <td>90.000000</td>\n",
       "      <td>94.000000</td>\n",
       "      <td>94.000000</td>\n",
       "      <td>94.000000</td>\n",
       "      <td>90.000000</td>\n",
       "      <td>92.000000</td>\n",
       "      <td>94.000000</td>\n",
       "      <td>...</td>\n",
       "      <td>93.000000</td>\n",
       "      <td>94.000000</td>\n",
       "      <td>94.000000</td>\n",
       "      <td>94.000000</td>\n",
       "      <td>92.000000</td>\n",
       "      <td>91.000000</td>\n",
       "      <td>92.000000</td>\n",
       "      <td>92.000000</td>\n",
       "      <td>94.000000</td>\n",
       "      <td>88.000000</td>\n",
       "    </tr>\n",
       "    <tr>\n",
       "      <th>mean</th>\n",
       "      <td>0.015100</td>\n",
       "      <td>-5.777142</td>\n",
       "      <td>-5.570560</td>\n",
       "      <td>0.025739</td>\n",
       "      <td>-0.808171</td>\n",
       "      <td>0.130032</td>\n",
       "      <td>-7.435664</td>\n",
       "      <td>0.063378</td>\n",
       "      <td>0.016652</td>\n",
       "      <td>-2.673678</td>\n",
       "      <td>...</td>\n",
       "      <td>-0.019566</td>\n",
       "      <td>-9.335994</td>\n",
       "      <td>0.081217</td>\n",
       "      <td>0.093858</td>\n",
       "      <td>0.080733</td>\n",
       "      <td>0.031769</td>\n",
       "      <td>-5.755158</td>\n",
       "      <td>0.052611</td>\n",
       "      <td>-5.607174</td>\n",
       "      <td>-0.031824</td>\n",
       "    </tr>\n",
       "    <tr>\n",
       "      <th>std</th>\n",
       "      <td>0.216330</td>\n",
       "      <td>55.339250</td>\n",
       "      <td>55.079973</td>\n",
       "      <td>0.206025</td>\n",
       "      <td>9.130563</td>\n",
       "      <td>0.601444</td>\n",
       "      <td>57.791089</td>\n",
       "      <td>0.249833</td>\n",
       "      <td>0.231308</td>\n",
       "      <td>19.180859</td>\n",
       "      <td>...</td>\n",
       "      <td>0.267657</td>\n",
       "      <td>65.332375</td>\n",
       "      <td>0.745791</td>\n",
       "      <td>0.608748</td>\n",
       "      <td>0.590584</td>\n",
       "      <td>0.192361</td>\n",
       "      <td>55.669711</td>\n",
       "      <td>0.475925</td>\n",
       "      <td>55.075937</td>\n",
       "      <td>0.347456</td>\n",
       "    </tr>\n",
       "    <tr>\n",
       "      <th>min</th>\n",
       "      <td>-0.518000</td>\n",
       "      <td>-527.876000</td>\n",
       "      <td>-533.888000</td>\n",
       "      <td>-0.222600</td>\n",
       "      <td>-88.148000</td>\n",
       "      <td>-0.250300</td>\n",
       "      <td>-533.888000</td>\n",
       "      <td>-0.528000</td>\n",
       "      <td>-0.285429</td>\n",
       "      <td>-132.722000</td>\n",
       "      <td>...</td>\n",
       "      <td>-0.797393</td>\n",
       "      <td>-527.876000</td>\n",
       "      <td>-0.765303</td>\n",
       "      <td>-0.435227</td>\n",
       "      <td>-0.444300</td>\n",
       "      <td>-0.465200</td>\n",
       "      <td>-533.888000</td>\n",
       "      <td>-0.451857</td>\n",
       "      <td>-533.888000</td>\n",
       "      <td>-1.037000</td>\n",
       "    </tr>\n",
       "    <tr>\n",
       "      <th>25%</th>\n",
       "      <td>-0.067667</td>\n",
       "      <td>-0.034633</td>\n",
       "      <td>-0.000125</td>\n",
       "      <td>-0.050667</td>\n",
       "      <td>-0.008380</td>\n",
       "      <td>-0.014025</td>\n",
       "      <td>-0.003535</td>\n",
       "      <td>-0.070750</td>\n",
       "      <td>-0.074679</td>\n",
       "      <td>-0.005690</td>\n",
       "      <td>...</td>\n",
       "      <td>-0.089214</td>\n",
       "      <td>-0.044049</td>\n",
       "      <td>-0.048189</td>\n",
       "      <td>-0.026670</td>\n",
       "      <td>-0.009342</td>\n",
       "      <td>-0.051800</td>\n",
       "      <td>-0.048803</td>\n",
       "      <td>-0.044536</td>\n",
       "      <td>-0.030081</td>\n",
       "      <td>-0.215875</td>\n",
       "    </tr>\n",
       "    <tr>\n",
       "      <th>50%</th>\n",
       "      <td>0.001833</td>\n",
       "      <td>0.006333</td>\n",
       "      <td>0.020875</td>\n",
       "      <td>0.002700</td>\n",
       "      <td>0.014543</td>\n",
       "      <td>0.021675</td>\n",
       "      <td>0.011153</td>\n",
       "      <td>0.052500</td>\n",
       "      <td>-0.030786</td>\n",
       "      <td>0.014550</td>\n",
       "      <td>...</td>\n",
       "      <td>-0.054393</td>\n",
       "      <td>-0.012163</td>\n",
       "      <td>-0.019394</td>\n",
       "      <td>-0.000239</td>\n",
       "      <td>0.010200</td>\n",
       "      <td>0.024400</td>\n",
       "      <td>-0.002184</td>\n",
       "      <td>-0.008857</td>\n",
       "      <td>0.001710</td>\n",
       "      <td>-0.046250</td>\n",
       "    </tr>\n",
       "    <tr>\n",
       "      <th>75%</th>\n",
       "      <td>0.080917</td>\n",
       "      <td>0.028233</td>\n",
       "      <td>0.042607</td>\n",
       "      <td>0.042067</td>\n",
       "      <td>0.049130</td>\n",
       "      <td>0.050212</td>\n",
       "      <td>0.030319</td>\n",
       "      <td>0.156000</td>\n",
       "      <td>0.030821</td>\n",
       "      <td>0.032145</td>\n",
       "      <td>...</td>\n",
       "      <td>-0.019107</td>\n",
       "      <td>0.014984</td>\n",
       "      <td>0.010750</td>\n",
       "      <td>0.027540</td>\n",
       "      <td>0.031908</td>\n",
       "      <td>0.117300</td>\n",
       "      <td>0.027908</td>\n",
       "      <td>0.027804</td>\n",
       "      <td>0.030774</td>\n",
       "      <td>0.168875</td>\n",
       "    </tr>\n",
       "    <tr>\n",
       "      <th>max</th>\n",
       "      <td>1.000000</td>\n",
       "      <td>1.166667</td>\n",
       "      <td>4.441000</td>\n",
       "      <td>1.500000</td>\n",
       "      <td>6.249200</td>\n",
       "      <td>5.452500</td>\n",
       "      <td>5.678200</td>\n",
       "      <td>1.000000</td>\n",
       "      <td>1.000000</td>\n",
       "      <td>7.035667</td>\n",
       "      <td>...</td>\n",
       "      <td>1.000000</td>\n",
       "      <td>6.567833</td>\n",
       "      <td>6.783000</td>\n",
       "      <td>5.463000</td>\n",
       "      <td>5.385600</td>\n",
       "      <td>1.000000</td>\n",
       "      <td>5.346500</td>\n",
       "      <td>3.965667</td>\n",
       "      <td>3.799600</td>\n",
       "      <td>0.880500</td>\n",
       "    </tr>\n",
       "  </tbody>\n",
       "</table>\n",
       "<p>8 rows × 765 columns</p>\n",
       "</div>"
      ],
      "text/plain": [
       "       cyto.10p11.1  cyto.10p11.21  cyto.10p11.22  cyto.10p11.23  \\\n",
       "count     90.000000      91.000000      94.000000      90.000000   \n",
       "mean       0.015100      -5.777142      -5.570560       0.025739   \n",
       "std        0.216330      55.339250      55.079973       0.206025   \n",
       "min       -0.518000    -527.876000    -533.888000      -0.222600   \n",
       "25%       -0.067667      -0.034633      -0.000125      -0.050667   \n",
       "50%        0.001833       0.006333       0.020875       0.002700   \n",
       "75%        0.080917       0.028233       0.042607       0.042067   \n",
       "max        1.000000       1.166667       4.441000       1.500000   \n",
       "\n",
       "       cyto.10p12.1  cyto.10p12.2  cyto.10p12.31  cyto.10p12.32  \\\n",
       "count     94.000000     94.000000      94.000000      90.000000   \n",
       "mean      -0.808171      0.130032      -7.435664       0.063378   \n",
       "std        9.130563      0.601444      57.791089       0.249833   \n",
       "min      -88.148000     -0.250300    -533.888000      -0.528000   \n",
       "25%       -0.008380     -0.014025      -0.003535      -0.070750   \n",
       "50%        0.014543      0.021675       0.011153       0.052500   \n",
       "75%        0.049130      0.050212       0.030319       0.156000   \n",
       "max        6.249200      5.452500       5.678200       1.000000   \n",
       "\n",
       "       cyto.10p12.33  cyto.10p13    ...      cyto.9q32  cyto.9q33.1  \\\n",
       "count      92.000000   94.000000    ...      93.000000    94.000000   \n",
       "mean        0.016652   -2.673678    ...      -0.019566    -9.335994   \n",
       "std         0.231308   19.180859    ...       0.267657    65.332375   \n",
       "min        -0.285429 -132.722000    ...      -0.797393  -527.876000   \n",
       "25%        -0.074679   -0.005690    ...      -0.089214    -0.044049   \n",
       "50%        -0.030786    0.014550    ...      -0.054393    -0.012163   \n",
       "75%         0.030821    0.032145    ...      -0.019107     0.014984   \n",
       "max         1.000000    7.035667    ...       1.000000     6.567833   \n",
       "\n",
       "       cyto.9q33.2  cyto.9q33.3  cyto.9q34.11  cyto.9q34.12  cyto.9q34.13  \\\n",
       "count    94.000000    94.000000     92.000000     91.000000     92.000000   \n",
       "mean      0.081217     0.093858      0.080733      0.031769     -5.755158   \n",
       "std       0.745791     0.608748      0.590584      0.192361     55.669711   \n",
       "min      -0.765303    -0.435227     -0.444300     -0.465200   -533.888000   \n",
       "25%      -0.048189    -0.026670     -0.009342     -0.051800     -0.048803   \n",
       "50%      -0.019394    -0.000239      0.010200      0.024400     -0.002184   \n",
       "75%       0.010750     0.027540      0.031908      0.117300      0.027908   \n",
       "max       6.783000     5.463000      5.385600      1.000000      5.346500   \n",
       "\n",
       "       cyto.9q34.2  cyto.9q34.3       <NA>  \n",
       "count    92.000000    94.000000  88.000000  \n",
       "mean      0.052611    -5.607174  -0.031824  \n",
       "std       0.475925    55.075937   0.347456  \n",
       "min      -0.451857  -533.888000  -1.037000  \n",
       "25%      -0.044536    -0.030081  -0.215875  \n",
       "50%      -0.008857     0.001710  -0.046250  \n",
       "75%       0.027804     0.030774   0.168875  \n",
       "max       3.965667     3.799600   0.880500  \n",
       "\n",
       "[8 rows x 765 columns]"
      ]
     },
     "execution_count": 25,
     "metadata": {},
     "output_type": "execute_result"
    }
   ],
   "source": [
    "K100.describe()"
   ]
  },
  {
   "cell_type": "code",
   "execution_count": 26,
   "metadata": {
    "ExecuteTime": {
     "end_time": "2019-02-19T12:12:12.523407Z",
     "start_time": "2019-02-19T12:12:12.510090Z"
    },
    "scrolled": true
   },
   "outputs": [
    {
     "data": {
      "text/plain": [
       "id               0\n",
       "cyto.10p11.1     4\n",
       "cyto.10p11.21    3\n",
       "cyto.10p11.22    0\n",
       "cyto.10p11.23    4\n",
       "cyto.10p12.1     0\n",
       "cyto.10p12.2     0\n",
       "cyto.10p12.31    0\n",
       "cyto.10p12.32    4\n",
       "cyto.10p12.33    2\n",
       "cyto.10p13       0\n",
       "cyto.10p14       0\n",
       "cyto.10p15.1     1\n",
       "cyto.10p15.2     4\n",
       "cyto.10p15.3     2\n",
       "cyto.10q11.21    0\n",
       "cyto.10q11.22    1\n",
       "cyto.10q11.23    2\n",
       "cyto.10q21.1     0\n",
       "cyto.10q21.2     0\n",
       "cyto.10q21.3     0\n",
       "cyto.10q22.1     0\n",
       "cyto.10q22.2     0\n",
       "cyto.10q22.3     0\n",
       "cyto.10q23.1     0\n",
       "cyto.10q23.2     3\n",
       "cyto.10q23.31    0\n",
       "cyto.10q23.32    3\n",
       "cyto.10q23.33    0\n",
       "cyto.10q24.1     0\n",
       "                ..\n",
       "cyto.9p23        0\n",
       "cyto.9p24.1      0\n",
       "cyto.9p24.2      0\n",
       "cyto.9p24.3      1\n",
       "cyto.9q21.11     0\n",
       "cyto.9q21.12     2\n",
       "cyto.9q21.13     0\n",
       "cyto.9q21.2      2\n",
       "cyto.9q21.31     0\n",
       "cyto.9q21.32     0\n",
       "cyto.9q21.33     0\n",
       "cyto.9q22.1      2\n",
       "cyto.9q22.2      1\n",
       "cyto.9q22.31     0\n",
       "cyto.9q22.32     0\n",
       "cyto.9q22.33     0\n",
       "cyto.9q31.1      0\n",
       "cyto.9q31.2      0\n",
       "cyto.9q31.3      2\n",
       "cyto.9q32        1\n",
       "cyto.9q33.1      0\n",
       "cyto.9q33.2      0\n",
       "cyto.9q33.3      0\n",
       "cyto.9q34.11     2\n",
       "cyto.9q34.12     3\n",
       "cyto.9q34.13     2\n",
       "cyto.9q34.2      2\n",
       "cyto.9q34.3      0\n",
       "<NA>             6\n",
       "cancer           0\n",
       "Length: 767, dtype: int64"
      ]
     },
     "execution_count": 26,
     "metadata": {},
     "output_type": "execute_result"
    }
   ],
   "source": [
    "K100.isnull().sum()"
   ]
  },
  {
   "cell_type": "code",
   "execution_count": 27,
   "metadata": {
    "ExecuteTime": {
     "end_time": "2019-02-19T12:13:33.884028Z",
     "start_time": "2019-02-19T12:13:33.874533Z"
    }
   },
   "outputs": [
    {
     "data": {
      "text/plain": [
       "(94, 767)"
      ]
     },
     "execution_count": 27,
     "metadata": {},
     "output_type": "execute_result"
    }
   ],
   "source": [
    "K100.shape"
   ]
  },
  {
   "cell_type": "code",
   "execution_count": 28,
   "metadata": {
    "ExecuteTime": {
     "end_time": "2019-02-19T12:14:47.118017Z",
     "start_time": "2019-02-19T12:14:47.112152Z"
    }
   },
   "outputs": [],
   "source": [
    "from sklearn.ensemble import RandomForestClassifier\n",
    "rf1 = RandomForestClassifier()\n",
    "from sklearn.svm import SVC\n",
    "svm1 = SVC()"
   ]
  },
  {
   "cell_type": "code",
   "execution_count": 29,
   "metadata": {
    "ExecuteTime": {
     "end_time": "2019-02-19T12:14:47.631294Z",
     "start_time": "2019-02-19T12:14:47.623409Z"
    }
   },
   "outputs": [],
   "source": [
    "from sklearn.metrics import accuracy_score\n",
    "from sklearn.model_selection import KFold\n",
    "cv = KFold(5, shuffle=True, random_state=0)"
   ]
  },
  {
   "cell_type": "code",
   "execution_count": 34,
   "metadata": {
    "ExecuteTime": {
     "end_time": "2019-02-19T12:15:23.992606Z",
     "start_time": "2019-02-19T12:15:23.983992Z"
    }
   },
   "outputs": [],
   "source": [
    "K100.dropna(inplace=True)"
   ]
  },
  {
   "cell_type": "code",
   "execution_count": 35,
   "metadata": {
    "ExecuteTime": {
     "end_time": "2019-02-19T12:15:26.961121Z",
     "start_time": "2019-02-19T12:15:26.599076Z"
    }
   },
   "outputs": [
    {
     "name": "stdout",
     "output_type": "stream",
     "text": [
      "[K = 0 ]\n",
      "-----------svm2-----------\n",
      "train accurcacy = 0.34285714285714286, cv accurcacy = 0.4444444444444444\n",
      "--------rf2--------\n",
      "train accurcacy = 1.0, cv accurcacy = 0.3333333333333333\n",
      "[K = 1 ]\n",
      "-----------svm2-----------\n",
      "train accurcacy = 0.38571428571428573, cv accurcacy = 0.2777777777777778\n",
      "--------rf2--------\n",
      "train accurcacy = 0.9857142857142858, cv accurcacy = 0.2222222222222222\n",
      "[K = 2 ]\n",
      "-----------svm2-----------\n",
      "train accurcacy = 0.34285714285714286, cv accurcacy = 0.4444444444444444\n",
      "--------rf2--------\n",
      "train accurcacy = 0.9857142857142858, cv accurcacy = 0.5\n",
      "[K = 3 ]\n",
      "-----------svm2-----------\n",
      "train accurcacy = 0.352112676056338, cv accurcacy = 0.4117647058823529\n",
      "--------rf2--------\n",
      "train accurcacy = 1.0, cv accurcacy = 0.5294117647058824\n",
      "[K = 4 ]\n",
      "-----------svm2-----------\n",
      "train accurcacy = 0.39436619718309857, cv accurcacy = 0.23529411764705882\n",
      "--------rf2--------\n",
      "train accurcacy = 0.9577464788732394, cv accurcacy = 0.17647058823529413\n"
     ]
    }
   ],
   "source": [
    "for i, (idx_train, idx_cv) in enumerate(cv.split(K100)):\n",
    "    df_train = K100.iloc[idx_train]\n",
    "    df_cv = K100.iloc[idx_cv]\n",
    "    \n",
    "    x_train = df_train.drop(['cancer','id','<NA>'], axis=1)\n",
    "    y_train = df_train['cancer']\n",
    "    \n",
    "    x_cv = df_cv.drop(['cancer','id','<NA>'], axis=1)\n",
    "    y_cv = df_cv['cancer']\n",
    "    \n",
    "    print('[K =',i,']')\n",
    "    print('-----------svm2-----------')\n",
    "    svm1.fit(x_train, y_train)\n",
    "    print(\"train accurcacy = {}, cv accurcacy = {}\".format(accuracy_score(y_train, svm1.predict(x_train)), accuracy_score(y_cv, svm1.predict(x_cv))))\n",
    "    \n",
    "    print('--------rf2--------')\n",
    "    rf1.fit(x_train, y_train)\n",
    "    print(\"train accurcacy = {}, cv accurcacy = {}\".format(accuracy_score(y_train, rf1.predict(x_train)), accuracy_score(y_cv, rf1.predict(x_cv))))\n",
    "    "
   ]
  },
  {
   "cell_type": "code",
   "execution_count": 119,
   "metadata": {
    "ExecuteTime": {
     "end_time": "2019-02-19T09:13:24.597108Z",
     "start_time": "2019-02-19T09:13:24.335722Z"
    }
   },
   "outputs": [
    {
     "data": {
      "text/plain": [
       "<matplotlib.axes._subplots.AxesSubplot at 0x1b44d34e2b0>"
      ]
     },
     "execution_count": 119,
     "metadata": {},
     "output_type": "execute_result"
    },
    {
     "data": {
      "image/png": "[encoded data removed]",
      "text/plain": [
       "<Figure size 432x288 with 1 Axes>"
      ]
     },
     "metadata": {},
     "output_type": "display_data"
    }
   ],
   "source": [
    "feat_importances = pd.Series(rf1.feature_importances_, index=x_train.columns)\n",
    "feat_importances.nlargest(30).plot(kind='barh')"
   ]
  },
  {
   "cell_type": "code",
   "execution_count": 34,
   "metadata": {
    "ExecuteTime": {
     "end_time": "2019-02-19T07:01:36.939057Z",
     "start_time": "2019-02-19T07:01:36.926882Z"
    },
    "scrolled": true
   },
   "outputs": [
    {
     "data": {
      "text/plain": [
       "cyto.1q21.3      0.022905\n",
       "cyto.1q24.3      0.019142\n",
       "cyto.3q27.1      0.018994\n",
       "cyto.16p13.12    0.017302\n",
       "cyto.15q22.31    0.016987\n",
       "cyto.7q21.3      0.015238\n",
       "cyto.11q25       0.015184\n",
       "cyto.2p24.2      0.014943\n",
       "cyto.9p21.1      0.014750\n",
       "cyto.8p21.2      0.014435\n",
       "cyto.2p13.3      0.013437\n",
       "cyto.4q28.3      0.013046\n",
       "cyto.2p16.3      0.012831\n",
       "cyto.18q22.3     0.012507\n",
       "cyto.2q11.2      0.011686\n",
       "cyto.10q21.2     0.011313\n",
       "cyto.15q13.3     0.011250\n",
       "cyto.15q11.2     0.011053\n",
       "cyto.11q12.3     0.010872\n",
       "cyto.15q25.3     0.010678\n",
       "cyto.22q11.23    0.010508\n",
       "cyto.22q11.1     0.010274\n",
       "cyto.4q32.1      0.010185\n",
       "cyto.11q11       0.010128\n",
       "cyto.10q23.33    0.010111\n",
       "cyto.5q12.1      0.009408\n",
       "cyto.3q12.1      0.009047\n",
       "cyto.9q33.3      0.009047\n",
       "cyto.18q21.32    0.008780\n",
       "cyto.13q33.2     0.008741\n",
       "                   ...   \n",
       "cyto.3p12.2      0.000000\n",
       "cyto.3p12.1      0.000000\n",
       "cyto.3p11.2      0.000000\n",
       "cyto.3p11.1      0.000000\n",
       "cyto.2q37.3      0.000000\n",
       "cyto.2q37.2      0.000000\n",
       "cyto.2q37.1      0.000000\n",
       "cyto.2q36.3      0.000000\n",
       "cyto.2q36.2      0.000000\n",
       "cyto.3p25.1      0.000000\n",
       "cyto.3p25.2      0.000000\n",
       "cyto.3p25.3      0.000000\n",
       "cyto.3q13.32     0.000000\n",
       "cyto.3q22.3      0.000000\n",
       "cyto.3q22.2      0.000000\n",
       "cyto.3q22.1      0.000000\n",
       "cyto.3q21.3      0.000000\n",
       "cyto.3q21.2      0.000000\n",
       "cyto.3q21.1      0.000000\n",
       "cyto.3q13.33     0.000000\n",
       "cyto.3q13.31     0.000000\n",
       "cyto.3p26.1      0.000000\n",
       "cyto.3q13.13     0.000000\n",
       "cyto.3q13.11     0.000000\n",
       "cyto.3q12.3      0.000000\n",
       "cyto.3q12.2      0.000000\n",
       "cyto.3q11.2      0.000000\n",
       "cyto.3q11.1      0.000000\n",
       "cyto.3p26.3      0.000000\n",
       "cyto.10p11.1     0.000000\n",
       "Length: 768, dtype: float64"
      ]
     },
     "execution_count": 34,
     "metadata": {},
     "output_type": "execute_result"
    }
   ],
   "source": [
    "feat_importances.sort_values(ascending=False)"
   ]
  },
  {
   "cell_type": "markdown",
   "metadata": {},
   "source": [
    "##### 중요변수 살펴보기"
   ]
  },
  {
   "cell_type": "code",
   "execution_count": 48,
   "metadata": {
    "ExecuteTime": {
     "end_time": "2019-02-19T07:10:21.639971Z",
     "start_time": "2019-02-19T07:10:21.627242Z"
    }
   },
   "outputs": [
    {
     "data": {
      "text/plain": [
       "cancer\n",
       "BC       -0.009128\n",
       "PC       -5.588989\n",
       "RC       -5.152228\n",
       "normal   -0.009246\n",
       "Name: cyto.1q21.3, dtype: float64"
      ]
     },
     "execution_count": 48,
     "metadata": {},
     "output_type": "execute_result"
    }
   ],
   "source": [
    "K100.groupby('cancer')['cyto.1q21.3'].mean()"
   ]
  },
  {
   "cell_type": "code",
   "execution_count": 47,
   "metadata": {
    "ExecuteTime": {
     "end_time": "2019-02-19T07:10:11.457301Z",
     "start_time": "2019-02-19T07:10:11.281143Z"
    }
   },
   "outputs": [
    {
     "data": {
      "text/plain": [
       "<matplotlib.axes._subplots.AxesSubplot at 0x1b44c89eb70>"
      ]
     },
     "execution_count": 47,
     "metadata": {},
     "output_type": "execute_result"
    },
    {
     "data": {
      "image/png": "[encoded data removed]",
      "text/plain": [
       "<Figure size 432x288 with 1 Axes>"
      ]
     },
     "metadata": {},
     "output_type": "display_data"
    }
   ],
   "source": [
    "K100.groupby('cancer')['cyto.1q21.3'].mean().plot.bar()"
   ]
  },
  {
   "cell_type": "code",
   "execution_count": 58,
   "metadata": {
    "ExecuteTime": {
     "end_time": "2019-02-19T07:17:09.711962Z",
     "start_time": "2019-02-19T07:17:09.671160Z"
    }
   },
   "outputs": [
    {
     "data": {
      "text/html": [
       "<div>\n",
       "<style scoped>\n",
       "    .dataframe tbody tr th:only-of-type {\n",
       "        vertical-align: middle;\n",
       "    }\n",
       "\n",
       "    .dataframe tbody tr th {\n",
       "        vertical-align: top;\n",
       "    }\n",
       "\n",
       "    .dataframe thead th {\n",
       "        text-align: right;\n",
       "    }\n",
       "</style>\n",
       "<table border=\"1\" class=\"dataframe\">\n",
       "  <thead>\n",
       "    <tr style=\"text-align: right;\">\n",
       "      <th></th>\n",
       "      <th>cyto.10p11.1</th>\n",
       "      <th>cyto.10p11.21</th>\n",
       "      <th>cyto.10p11.22</th>\n",
       "      <th>cyto.10p11.23</th>\n",
       "      <th>cyto.10p12.1</th>\n",
       "      <th>cyto.10p12.2</th>\n",
       "      <th>cyto.10p12.31</th>\n",
       "      <th>cyto.10p12.32</th>\n",
       "      <th>cyto.10p12.33</th>\n",
       "      <th>cyto.10p13</th>\n",
       "      <th>...</th>\n",
       "      <th>cyto.9q33.1</th>\n",
       "      <th>cyto.9q33.2</th>\n",
       "      <th>cyto.9q33.3</th>\n",
       "      <th>cyto.9q34.11</th>\n",
       "      <th>cyto.9q34.12</th>\n",
       "      <th>cyto.9q34.13</th>\n",
       "      <th>cyto.9q34.2</th>\n",
       "      <th>cyto.9q34.3</th>\n",
       "      <th>X.NA.</th>\n",
       "      <th>cancer</th>\n",
       "    </tr>\n",
       "  </thead>\n",
       "  <tbody>\n",
       "    <tr>\n",
       "      <th>0</th>\n",
       "      <td>0.002976</td>\n",
       "      <td>0.002976</td>\n",
       "      <td>0.002976</td>\n",
       "      <td>0.002976</td>\n",
       "      <td>0.002976</td>\n",
       "      <td>0.002976</td>\n",
       "      <td>0.002976</td>\n",
       "      <td>0.002976</td>\n",
       "      <td>0.002976</td>\n",
       "      <td>0.002976</td>\n",
       "      <td>...</td>\n",
       "      <td>0.002976</td>\n",
       "      <td>0.002976</td>\n",
       "      <td>0.002976</td>\n",
       "      <td>0.002976</td>\n",
       "      <td>0.002976</td>\n",
       "      <td>0.002976</td>\n",
       "      <td>0.002976</td>\n",
       "      <td>0.002976</td>\n",
       "      <td>0.002976</td>\n",
       "      <td>BC</td>\n",
       "    </tr>\n",
       "    <tr>\n",
       "      <th>1</th>\n",
       "      <td>-0.015198</td>\n",
       "      <td>-0.015198</td>\n",
       "      <td>-0.015198</td>\n",
       "      <td>-0.015198</td>\n",
       "      <td>-0.015198</td>\n",
       "      <td>-0.015198</td>\n",
       "      <td>-0.015198</td>\n",
       "      <td>-0.015198</td>\n",
       "      <td>-0.015198</td>\n",
       "      <td>-0.015198</td>\n",
       "      <td>...</td>\n",
       "      <td>-0.015198</td>\n",
       "      <td>-0.015198</td>\n",
       "      <td>-0.015198</td>\n",
       "      <td>-0.015198</td>\n",
       "      <td>-0.015198</td>\n",
       "      <td>-0.015198</td>\n",
       "      <td>-0.015198</td>\n",
       "      <td>-0.015198</td>\n",
       "      <td>-0.015198</td>\n",
       "      <td>BC</td>\n",
       "    </tr>\n",
       "    <tr>\n",
       "      <th>2</th>\n",
       "      <td>0.005953</td>\n",
       "      <td>0.005953</td>\n",
       "      <td>0.005953</td>\n",
       "      <td>0.005953</td>\n",
       "      <td>0.005953</td>\n",
       "      <td>0.005953</td>\n",
       "      <td>0.005953</td>\n",
       "      <td>0.005953</td>\n",
       "      <td>0.005953</td>\n",
       "      <td>0.005953</td>\n",
       "      <td>...</td>\n",
       "      <td>0.005953</td>\n",
       "      <td>0.005953</td>\n",
       "      <td>0.005953</td>\n",
       "      <td>0.005953</td>\n",
       "      <td>0.005953</td>\n",
       "      <td>0.005953</td>\n",
       "      <td>0.005953</td>\n",
       "      <td>0.005953</td>\n",
       "      <td>0.005953</td>\n",
       "      <td>BC</td>\n",
       "    </tr>\n",
       "    <tr>\n",
       "      <th>3</th>\n",
       "      <td>-0.002653</td>\n",
       "      <td>-0.002653</td>\n",
       "      <td>-0.002653</td>\n",
       "      <td>-0.002653</td>\n",
       "      <td>-0.002653</td>\n",
       "      <td>-0.002653</td>\n",
       "      <td>-0.002653</td>\n",
       "      <td>-0.002653</td>\n",
       "      <td>-0.002653</td>\n",
       "      <td>-0.002653</td>\n",
       "      <td>...</td>\n",
       "      <td>-0.002653</td>\n",
       "      <td>-0.002653</td>\n",
       "      <td>-0.002653</td>\n",
       "      <td>-0.002653</td>\n",
       "      <td>-0.002653</td>\n",
       "      <td>-0.002653</td>\n",
       "      <td>-0.002653</td>\n",
       "      <td>-0.002653</td>\n",
       "      <td>-0.002653</td>\n",
       "      <td>BC</td>\n",
       "    </tr>\n",
       "    <tr>\n",
       "      <th>4</th>\n",
       "      <td>-0.001986</td>\n",
       "      <td>-0.001986</td>\n",
       "      <td>-0.001986</td>\n",
       "      <td>-0.001986</td>\n",
       "      <td>-0.001986</td>\n",
       "      <td>-0.001986</td>\n",
       "      <td>-0.001986</td>\n",
       "      <td>-0.001986</td>\n",
       "      <td>-0.001986</td>\n",
       "      <td>-0.001986</td>\n",
       "      <td>...</td>\n",
       "      <td>-0.001986</td>\n",
       "      <td>-0.001986</td>\n",
       "      <td>-0.001986</td>\n",
       "      <td>-0.001986</td>\n",
       "      <td>-0.001986</td>\n",
       "      <td>-0.001986</td>\n",
       "      <td>-0.001986</td>\n",
       "      <td>-0.001986</td>\n",
       "      <td>-0.001986</td>\n",
       "      <td>BC</td>\n",
       "    </tr>\n",
       "  </tbody>\n",
       "</table>\n",
       "<p>5 rows × 766 columns</p>\n",
       "</div>"
      ],
      "text/plain": [
       "   cyto.10p11.1  cyto.10p11.21  cyto.10p11.22  cyto.10p11.23  cyto.10p12.1  \\\n",
       "0      0.002976       0.002976       0.002976       0.002976      0.002976   \n",
       "1     -0.015198      -0.015198      -0.015198      -0.015198     -0.015198   \n",
       "2      0.005953       0.005953       0.005953       0.005953      0.005953   \n",
       "3     -0.002653      -0.002653      -0.002653      -0.002653     -0.002653   \n",
       "4     -0.001986      -0.001986      -0.001986      -0.001986     -0.001986   \n",
       "\n",
       "   cyto.10p12.2  cyto.10p12.31  cyto.10p12.32  cyto.10p12.33  cyto.10p13  \\\n",
       "0      0.002976       0.002976       0.002976       0.002976    0.002976   \n",
       "1     -0.015198      -0.015198      -0.015198      -0.015198   -0.015198   \n",
       "2      0.005953       0.005953       0.005953       0.005953    0.005953   \n",
       "3     -0.002653      -0.002653      -0.002653      -0.002653   -0.002653   \n",
       "4     -0.001986      -0.001986      -0.001986      -0.001986   -0.001986   \n",
       "\n",
       "    ...    cyto.9q33.1  cyto.9q33.2  cyto.9q33.3  cyto.9q34.11  cyto.9q34.12  \\\n",
       "0   ...       0.002976     0.002976     0.002976      0.002976      0.002976   \n",
       "1   ...      -0.015198    -0.015198    -0.015198     -0.015198     -0.015198   \n",
       "2   ...       0.005953     0.005953     0.005953      0.005953      0.005953   \n",
       "3   ...      -0.002653    -0.002653    -0.002653     -0.002653     -0.002653   \n",
       "4   ...      -0.001986    -0.001986    -0.001986     -0.001986     -0.001986   \n",
       "\n",
       "   cyto.9q34.13  cyto.9q34.2  cyto.9q34.3     X.NA.  cancer  \n",
       "0      0.002976     0.002976     0.002976  0.002976      BC  \n",
       "1     -0.015198    -0.015198    -0.015198 -0.015198      BC  \n",
       "2      0.005953     0.005953     0.005953  0.005953      BC  \n",
       "3     -0.002653    -0.002653    -0.002653 -0.002653      BC  \n",
       "4     -0.001986    -0.001986    -0.001986 -0.001986      BC  \n",
       "\n",
       "[5 rows x 766 columns]"
      ]
     },
     "execution_count": 58,
     "metadata": {},
     "output_type": "execute_result"
    }
   ],
   "source": [
    "K100.head()"
   ]
  },
  {
   "cell_type": "code",
   "execution_count": 66,
   "metadata": {
    "ExecuteTime": {
     "end_time": "2019-02-19T07:19:58.904739Z",
     "start_time": "2019-02-19T07:19:58.887893Z"
    }
   },
   "outputs": [
    {
     "data": {
      "text/plain": [
       "count     94.000000\n",
       "mean      -2.345350\n",
       "std       16.595804\n",
       "min     -116.752007\n",
       "25%       -0.012202\n",
       "50%       -0.007741\n",
       "75%       -0.004630\n",
       "max        5.467535\n",
       "Name: cyto.1q21.3, dtype: float64"
      ]
     },
     "execution_count": 66,
     "metadata": {},
     "output_type": "execute_result"
    }
   ],
   "source": [
    "K100['cyto.1q21.3'].describe()"
   ]
  },
  {
   "cell_type": "code",
   "execution_count": 63,
   "metadata": {
    "ExecuteTime": {
     "end_time": "2019-02-19T07:19:14.728955Z",
     "start_time": "2019-02-19T07:19:14.418075Z"
    }
   },
   "outputs": [
    {
     "data": {
      "text/plain": [
       "<matplotlib.axes._subplots.AxesSubplot at 0x1b44cefeba8>"
      ]
     },
     "execution_count": 63,
     "metadata": {},
     "output_type": "execute_result"
    },
    {
     "data": {
      "image/png": "[encoded data removed]",
      "text/plain": [
       "<Figure size 432x288 with 1 Axes>"
      ]
     },
     "metadata": {},
     "output_type": "display_data"
    }
   ],
   "source": [
    "K100.boxplot(column = 'cyto.1q21.3', by = 'cancer')"
   ]
  },
  {
   "cell_type": "code",
   "execution_count": 49,
   "metadata": {
    "ExecuteTime": {
     "end_time": "2019-02-19T07:11:02.447948Z",
     "start_time": "2019-02-19T07:11:02.236089Z"
    }
   },
   "outputs": [
    {
     "data": {
      "text/plain": [
       "<matplotlib.axes._subplots.AxesSubplot at 0x1b44c913828>"
      ]
     },
     "execution_count": 49,
     "metadata": {},
     "output_type": "execute_result"
    },
    {
     "data": {
      "image/png": "[encoded data removed]",
      "text/plain": [
       "<Figure size 432x288 with 1 Axes>"
      ]
     },
     "metadata": {},
     "output_type": "display_data"
    }
   ],
   "source": [
    "K100.groupby('cancer')['cyto.1q24.3'].mean().plot('bar')"
   ]
  },
  {
   "cell_type": "code",
   "execution_count": 50,
   "metadata": {
    "ExecuteTime": {
     "end_time": "2019-02-19T07:11:33.498850Z",
     "start_time": "2019-02-19T07:11:33.359966Z"
    }
   },
   "outputs": [
    {
     "data": {
      "text/plain": [
       "<matplotlib.axes._subplots.AxesSubplot at 0x1b44c9701d0>"
      ]
     },
     "execution_count": 50,
     "metadata": {},
     "output_type": "execute_result"
    },
    {
     "data": {
      "image/png": "[encoded data removed]",
      "text/plain": [
       "<Figure size 432x288 with 1 Axes>"
      ]
     },
     "metadata": {},
     "output_type": "display_data"
    }
   ],
   "source": [
    "K100.groupby('cancer')['cyto.3q27.1'].mean().plot('bar')\n"
   ]
  },
  {
   "cell_type": "markdown",
   "metadata": {},
   "source": [
    "# K15"
   ]
  },
  {
   "cell_type": "code",
   "execution_count": 36,
   "metadata": {
    "ExecuteTime": {
     "end_time": "2019-02-19T12:15:42.416074Z",
     "start_time": "2019-02-19T12:15:42.240385Z"
    }
   },
   "outputs": [],
   "source": [
    "BC_15 = pd.read_csv('BC_32ea_k15_cyto.csv')\n",
    "Normal_15 = pd.read_csv('Normal_21ea_k15_cyto.csv')\n",
    "PC_15 = pd.read_csv('PC_20ea_k15_cyto.csv')"
   ]
  },
  {
   "cell_type": "code",
   "execution_count": 37,
   "metadata": {
    "ExecuteTime": {
     "end_time": "2019-02-19T12:15:42.835438Z",
     "start_time": "2019-02-19T12:15:42.823122Z"
    }
   },
   "outputs": [],
   "source": [
    "#drop person id\n",
    "BC_15.drop('Unnamed: 0', axis = 1, inplace = True)\n",
    "Normal_15.drop('Unnamed: 0', axis = 1, inplace = True)\n",
    "PC_15.drop('Unnamed: 0', axis = 1, inplace = True)"
   ]
  },
  {
   "cell_type": "code",
   "execution_count": 38,
   "metadata": {
    "ExecuteTime": {
     "end_time": "2019-02-19T12:15:43.332466Z",
     "start_time": "2019-02-19T12:15:43.320332Z"
    }
   },
   "outputs": [],
   "source": [
    "BC_15['cancer'] = 'BC'\n",
    "Normal_15['cancer'] = 'normal'\n",
    "PC_15['cancer'] = 'PC'\n",
    "\n",
    "K15 = pd.concat([BC_15,Normal_15,PC_15], axis = 0)"
   ]
  },
  {
   "cell_type": "code",
   "execution_count": 39,
   "metadata": {
    "ExecuteTime": {
     "end_time": "2019-02-19T12:15:43.759300Z",
     "start_time": "2019-02-19T12:15:43.752143Z"
    }
   },
   "outputs": [],
   "source": [
    "rf2 = RandomForestClassifier()\n",
    "svm2 = SVC()"
   ]
  },
  {
   "cell_type": "code",
   "execution_count": 41,
   "metadata": {
    "ExecuteTime": {
     "end_time": "2019-02-19T12:15:57.113620Z",
     "start_time": "2019-02-19T12:15:57.102976Z"
    }
   },
   "outputs": [],
   "source": [
    "K15.dropna(inplace=True)"
   ]
  },
  {
   "cell_type": "code",
   "execution_count": 43,
   "metadata": {
    "ExecuteTime": {
     "end_time": "2019-02-19T12:16:06.178215Z",
     "start_time": "2019-02-19T12:16:06.167202Z"
    }
   },
   "outputs": [
    {
     "data": {
      "text/plain": [
       "Index(['id', 'cyto.10p11.1', 'cyto.10p11.21', 'cyto.10p11.22', 'cyto.10p11.23',\n",
       "       'cyto.10p12.1', 'cyto.10p12.2', 'cyto.10p12.31', 'cyto.10p12.32',\n",
       "       'cyto.10p12.33',\n",
       "       ...\n",
       "       'cyto.9q33.1', 'cyto.9q33.2', 'cyto.9q33.3', 'cyto.9q34.11',\n",
       "       'cyto.9q34.12', 'cyto.9q34.13', 'cyto.9q34.2', 'cyto.9q34.3', '<NA>',\n",
       "       'cancer'],\n",
       "      dtype='object', length=770)"
      ]
     },
     "execution_count": 43,
     "metadata": {},
     "output_type": "execute_result"
    }
   ],
   "source": [
    "K15.columns"
   ]
  },
  {
   "cell_type": "code",
   "execution_count": 44,
   "metadata": {
    "ExecuteTime": {
     "end_time": "2019-02-19T12:16:35.861097Z",
     "start_time": "2019-02-19T12:16:35.577262Z"
    }
   },
   "outputs": [
    {
     "name": "stdout",
     "output_type": "stream",
     "text": [
      "[K = 0 ]\n",
      "-----------svm2-----------\n",
      "train accurcacy = 0.43859649122807015, cv accurcacy = 0.4666666666666667\n",
      "--------rf2--------\n",
      "train accurcacy = 0.9824561403508771, cv accurcacy = 0.6\n",
      "[K = 1 ]\n",
      "-----------svm2-----------\n",
      "train accurcacy = 0.47368421052631576, cv accurcacy = 0.3333333333333333\n",
      "--------rf2--------\n",
      "train accurcacy = 0.9824561403508771, cv accurcacy = 0.5333333333333333\n",
      "[K = 2 ]\n",
      "-----------svm2-----------\n",
      "train accurcacy = 0.43103448275862066, cv accurcacy = 0.5\n",
      "--------rf2--------\n",
      "train accurcacy = 1.0, cv accurcacy = 0.5714285714285714\n",
      "[K = 3 ]\n",
      "-----------svm2-----------\n",
      "train accurcacy = 0.43103448275862066, cv accurcacy = 0.5\n",
      "--------rf2--------\n",
      "train accurcacy = 0.9655172413793104, cv accurcacy = 0.5\n",
      "[K = 4 ]\n",
      "-----------svm2-----------\n",
      "train accurcacy = 0.4482758620689655, cv accurcacy = 0.42857142857142855\n",
      "--------rf2--------\n",
      "train accurcacy = 1.0, cv accurcacy = 0.35714285714285715\n"
     ]
    }
   ],
   "source": [
    "for i, (idx_train, idx_cv) in enumerate(cv.split(K15)):\n",
    "    df_train = K15.iloc[idx_train]\n",
    "    df_cv = K15.iloc[idx_cv]\n",
    "    \n",
    "    x_train = df_train.drop(['cancer','id','<NA>'], axis=1)\n",
    "    y_train = df_train['cancer']\n",
    "    \n",
    "    x_cv = df_cv.drop(['cancer','id','<NA>'], axis=1)\n",
    "    y_cv = df_cv['cancer']\n",
    "    \n",
    "    print('[K =',i,']')\n",
    "    print('-----------svm2-----------')\n",
    "    svm2.fit(x_train, y_train)\n",
    "    print(\"train accurcacy = {}, cv accurcacy = {}\".format(accuracy_score(y_train, svm2.predict(x_train)), accuracy_score(y_cv, svm2.predict(x_cv))))\n",
    "    \n",
    "    print('--------rf2--------')\n",
    "    rf2.fit(x_train, y_train)\n",
    "    print(\"train accurcacy = {}, cv accurcacy = {}\".format(accuracy_score(y_train, rf2.predict(x_train)), accuracy_score(y_cv, rf2.predict(x_cv))))\n",
    "    "
   ]
  },
  {
   "cell_type": "code",
   "execution_count": 45,
   "metadata": {
    "ExecuteTime": {
     "end_time": "2019-02-19T12:16:42.593837Z",
     "start_time": "2019-02-19T12:16:40.263750Z"
    }
   },
   "outputs": [
    {
     "data": {
      "text/plain": [
       "<matplotlib.axes._subplots.AxesSubplot at 0x2ac58ac0e10>"
      ]
     },
     "execution_count": 45,
     "metadata": {},
     "output_type": "execute_result"
    },
    {
     "data": {
      "image/png": "[encoded data removed]",
      "text/plain": [
       "<Figure size 432x288 with 1 Axes>"
      ]
     },
     "metadata": {},
     "output_type": "display_data"
    }
   ],
   "source": [
    "feat_importances = pd.Series(rf2.feature_importances_, index=x_train.columns)\n",
    "feat_importances.nlargest(30).plot(kind='barh')"
   ]
  }
 ],
 "metadata": {
  "kernelspec": {
   "display_name": "Python 3",
   "language": "python",
   "name": "python3"
  },
  "language_info": {
   "codemirror_mode": {
    "name": "ipython",
    "version": 3
   },
   "file_extension": ".py",
   "mimetype": "text/x-python",
   "name": "python",
   "nbconvert_exporter": "python",
   "pygments_lexer": "ipython3",
   "version": "3.6.5"
  }
 },
 "nbformat": 4,
 "nbformat_minor": 2
}
