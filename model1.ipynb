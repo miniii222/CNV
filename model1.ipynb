{
 "cells": [
  {
   "cell_type": "code",
   "execution_count": 1,
   "metadata": {
    "ExecuteTime": {
     "end_time": "2019-02-21T14:20:26.998042Z",
     "start_time": "2019-02-21T14:20:24.772877Z"
    }
   },
   "outputs": [],
   "source": [
    "import numpy as np\n",
    "import pandas as pd\n",
    "from matplotlib import pyplot as plt"
   ]
  },
  {
   "cell_type": "markdown",
   "metadata": {},
   "source": [
    "## K100"
   ]
  },
  {
   "cell_type": "code",
   "execution_count": 2,
   "metadata": {
    "ExecuteTime": {
     "end_time": "2019-02-21T14:20:27.282911Z",
     "start_time": "2019-02-21T14:20:27.004028Z"
    }
   },
   "outputs": [],
   "source": [
    "BC_100 = pd.read_csv('BC_32ea_k100_cyto.csv')\n",
    "Normal_100 = pd.read_csv('Normal_21ea_k100_cyto.csv')\n",
    "PC_100 = pd.read_csv('PC_20ea_k100_cyto.csv')\n",
    "RC_100 = pd.read_csv('RC_20ea_k100_cyto.csv')"
   ]
  },
  {
   "cell_type": "code",
   "execution_count": 3,
   "metadata": {
    "ExecuteTime": {
     "end_time": "2019-02-21T14:20:27.306806Z",
     "start_time": "2019-02-21T14:20:27.286513Z"
    }
   },
   "outputs": [],
   "source": [
    "#drop person id\n",
    "BC_100.drop('Unnamed: 0', axis = 1, inplace = True)\n",
    "Normal_100.drop('Unnamed: 0', axis = 1, inplace = True)\n",
    "PC_100.drop('Unnamed: 0', axis = 1, inplace = True)\n",
    "RC_100.drop('Unnamed: 0', axis = 1, inplace = True)"
   ]
  },
  {
   "cell_type": "code",
   "execution_count": 4,
   "metadata": {
    "ExecuteTime": {
     "end_time": "2019-02-21T14:20:27.327635Z",
     "start_time": "2019-02-21T14:20:27.311772Z"
    }
   },
   "outputs": [],
   "source": [
    "BC_100['cancer'] = 'BC'\n",
    "Normal_100['cancer'] = 'normal'\n",
    "PC_100['cancer'] = 'PC'\n",
    "RC_100['cancer'] = \"RC\"\n",
    "\n",
    "K100 = pd.concat([BC_100,Normal_100,PC_100,RC_100], axis = 0)"
   ]
  },
  {
   "cell_type": "code",
   "execution_count": 5,
   "metadata": {
    "ExecuteTime": {
     "end_time": "2019-02-21T14:20:27.382050Z",
     "start_time": "2019-02-21T14:20:27.331779Z"
    }
   },
   "outputs": [
    {
     "data": {
      "text/html": [
       "<div>\n",
       "<style scoped>\n",
       "    .dataframe tbody tr th:only-of-type {\n",
       "        vertical-align: middle;\n",
       "    }\n",
       "\n",
       "    .dataframe tbody tr th {\n",
       "        vertical-align: top;\n",
       "    }\n",
       "\n",
       "    .dataframe thead th {\n",
       "        text-align: right;\n",
       "    }\n",
       "</style>\n",
       "<table border=\"1\" class=\"dataframe\">\n",
       "  <thead>\n",
       "    <tr style=\"text-align: right;\">\n",
       "      <th></th>\n",
       "      <th>id</th>\n",
       "      <th>cyto.10p11.1</th>\n",
       "      <th>cyto.10p11.21</th>\n",
       "      <th>cyto.10p11.22</th>\n",
       "      <th>cyto.10p11.23</th>\n",
       "      <th>cyto.10p12.1</th>\n",
       "      <th>cyto.10p12.2</th>\n",
       "      <th>cyto.10p12.31</th>\n",
       "      <th>cyto.10p12.32</th>\n",
       "      <th>cyto.10p12.33</th>\n",
       "      <th>...</th>\n",
       "      <th>cyto.9q33.1</th>\n",
       "      <th>cyto.9q33.2</th>\n",
       "      <th>cyto.9q33.3</th>\n",
       "      <th>cyto.9q34.11</th>\n",
       "      <th>cyto.9q34.12</th>\n",
       "      <th>cyto.9q34.13</th>\n",
       "      <th>cyto.9q34.2</th>\n",
       "      <th>cyto.9q34.3</th>\n",
       "      <th>&lt;NA&gt;</th>\n",
       "      <th>cancer</th>\n",
       "    </tr>\n",
       "  </thead>\n",
       "  <tbody>\n",
       "    <tr>\n",
       "      <th>0</th>\n",
       "      <td>B001</td>\n",
       "      <td>0.181000</td>\n",
       "      <td>-0.019967</td>\n",
       "      <td>0.044536</td>\n",
       "      <td>-0.026000</td>\n",
       "      <td>0.018065</td>\n",
       "      <td>0.00490</td>\n",
       "      <td>0.048000</td>\n",
       "      <td>0.084</td>\n",
       "      <td>-0.042857</td>\n",
       "      <td>...</td>\n",
       "      <td>0.015217</td>\n",
       "      <td>-0.044152</td>\n",
       "      <td>-0.004636</td>\n",
       "      <td>0.014333</td>\n",
       "      <td>0.0116</td>\n",
       "      <td>-0.004737</td>\n",
       "      <td>-0.019571</td>\n",
       "      <td>-0.022065</td>\n",
       "      <td>-0.7450</td>\n",
       "      <td>BC</td>\n",
       "    </tr>\n",
       "    <tr>\n",
       "      <th>1</th>\n",
       "      <td>B002</td>\n",
       "      <td>0.127000</td>\n",
       "      <td>0.010733</td>\n",
       "      <td>0.031250</td>\n",
       "      <td>0.048600</td>\n",
       "      <td>0.084413</td>\n",
       "      <td>0.05160</td>\n",
       "      <td>0.092889</td>\n",
       "      <td>0.102</td>\n",
       "      <td>-0.012857</td>\n",
       "      <td>...</td>\n",
       "      <td>-0.043478</td>\n",
       "      <td>-0.046000</td>\n",
       "      <td>-0.007386</td>\n",
       "      <td>-0.009233</td>\n",
       "      <td>-0.0136</td>\n",
       "      <td>-0.060474</td>\n",
       "      <td>0.027714</td>\n",
       "      <td>0.002290</td>\n",
       "      <td>0.2550</td>\n",
       "      <td>BC</td>\n",
       "    </tr>\n",
       "    <tr>\n",
       "      <th>2</th>\n",
       "      <td>B003</td>\n",
       "      <td>0.004000</td>\n",
       "      <td>0.007567</td>\n",
       "      <td>0.024964</td>\n",
       "      <td>0.081200</td>\n",
       "      <td>-0.011391</td>\n",
       "      <td>0.03605</td>\n",
       "      <td>-0.050194</td>\n",
       "      <td>-0.093</td>\n",
       "      <td>-0.059857</td>\n",
       "      <td>...</td>\n",
       "      <td>-0.158783</td>\n",
       "      <td>-0.193576</td>\n",
       "      <td>-0.075977</td>\n",
       "      <td>-0.106667</td>\n",
       "      <td>-0.0114</td>\n",
       "      <td>-0.072421</td>\n",
       "      <td>-0.127714</td>\n",
       "      <td>-0.168903</td>\n",
       "      <td>-0.1360</td>\n",
       "      <td>BC</td>\n",
       "    </tr>\n",
       "    <tr>\n",
       "      <th>3</th>\n",
       "      <td>B004</td>\n",
       "      <td>0.135667</td>\n",
       "      <td>0.061467</td>\n",
       "      <td>-0.061286</td>\n",
       "      <td>-0.071733</td>\n",
       "      <td>0.070522</td>\n",
       "      <td>0.06270</td>\n",
       "      <td>0.020556</td>\n",
       "      <td>-0.002</td>\n",
       "      <td>0.050857</td>\n",
       "      <td>...</td>\n",
       "      <td>-0.019326</td>\n",
       "      <td>0.012515</td>\n",
       "      <td>-0.009591</td>\n",
       "      <td>0.016667</td>\n",
       "      <td>0.0438</td>\n",
       "      <td>0.019947</td>\n",
       "      <td>0.011500</td>\n",
       "      <td>0.031387</td>\n",
       "      <td>0.0100</td>\n",
       "      <td>BC</td>\n",
       "    </tr>\n",
       "    <tr>\n",
       "      <th>4</th>\n",
       "      <td>B006</td>\n",
       "      <td>-0.251000</td>\n",
       "      <td>-0.134700</td>\n",
       "      <td>-0.175750</td>\n",
       "      <td>-0.165800</td>\n",
       "      <td>-0.112522</td>\n",
       "      <td>-0.06670</td>\n",
       "      <td>-0.127972</td>\n",
       "      <td>0.026</td>\n",
       "      <td>-0.198429</td>\n",
       "      <td>...</td>\n",
       "      <td>-0.074109</td>\n",
       "      <td>0.024758</td>\n",
       "      <td>0.097000</td>\n",
       "      <td>0.018667</td>\n",
       "      <td>0.1170</td>\n",
       "      <td>0.058368</td>\n",
       "      <td>0.038571</td>\n",
       "      <td>0.020065</td>\n",
       "      <td>-0.4595</td>\n",
       "      <td>BC</td>\n",
       "    </tr>\n",
       "  </tbody>\n",
       "</table>\n",
       "<p>5 rows × 767 columns</p>\n",
       "</div>"
      ],
      "text/plain": [
       "     id  cyto.10p11.1  cyto.10p11.21  cyto.10p11.22  cyto.10p11.23  \\\n",
       "0  B001      0.181000      -0.019967       0.044536      -0.026000   \n",
       "1  B002      0.127000       0.010733       0.031250       0.048600   \n",
       "2  B003      0.004000       0.007567       0.024964       0.081200   \n",
       "3  B004      0.135667       0.061467      -0.061286      -0.071733   \n",
       "4  B006     -0.251000      -0.134700      -0.175750      -0.165800   \n",
       "\n",
       "   cyto.10p12.1  cyto.10p12.2  cyto.10p12.31  cyto.10p12.32  cyto.10p12.33  \\\n",
       "0      0.018065       0.00490       0.048000          0.084      -0.042857   \n",
       "1      0.084413       0.05160       0.092889          0.102      -0.012857   \n",
       "2     -0.011391       0.03605      -0.050194         -0.093      -0.059857   \n",
       "3      0.070522       0.06270       0.020556         -0.002       0.050857   \n",
       "4     -0.112522      -0.06670      -0.127972          0.026      -0.198429   \n",
       "\n",
       "    ...    cyto.9q33.1  cyto.9q33.2  cyto.9q33.3  cyto.9q34.11  cyto.9q34.12  \\\n",
       "0   ...       0.015217    -0.044152    -0.004636      0.014333        0.0116   \n",
       "1   ...      -0.043478    -0.046000    -0.007386     -0.009233       -0.0136   \n",
       "2   ...      -0.158783    -0.193576    -0.075977     -0.106667       -0.0114   \n",
       "3   ...      -0.019326     0.012515    -0.009591      0.016667        0.0438   \n",
       "4   ...      -0.074109     0.024758     0.097000      0.018667        0.1170   \n",
       "\n",
       "   cyto.9q34.13  cyto.9q34.2  cyto.9q34.3    <NA>  cancer  \n",
       "0     -0.004737    -0.019571    -0.022065 -0.7450      BC  \n",
       "1     -0.060474     0.027714     0.002290  0.2550      BC  \n",
       "2     -0.072421    -0.127714    -0.168903 -0.1360      BC  \n",
       "3      0.019947     0.011500     0.031387  0.0100      BC  \n",
       "4      0.058368     0.038571     0.020065 -0.4595      BC  \n",
       "\n",
       "[5 rows x 767 columns]"
      ]
     },
     "execution_count": 5,
     "metadata": {},
     "output_type": "execute_result"
    }
   ],
   "source": [
    "K100.head()"
   ]
  },
  {
   "cell_type": "code",
   "execution_count": 6,
   "metadata": {
    "ExecuteTime": {
     "end_time": "2019-02-21T14:20:29.463606Z",
     "start_time": "2019-02-21T14:20:29.454987Z"
    }
   },
   "outputs": [
    {
     "data": {
      "text/plain": [
       "(94, 767)"
      ]
     },
     "execution_count": 6,
     "metadata": {},
     "output_type": "execute_result"
    }
   ],
   "source": [
    "K100.shape"
   ]
  },
  {
   "cell_type": "code",
   "execution_count": 7,
   "metadata": {
    "ExecuteTime": {
     "end_time": "2019-02-21T14:20:35.501489Z",
     "start_time": "2019-02-21T14:20:32.032960Z"
    }
   },
   "outputs": [
    {
     "data": {
      "text/html": [
       "<div>\n",
       "<style scoped>\n",
       "    .dataframe tbody tr th:only-of-type {\n",
       "        vertical-align: middle;\n",
       "    }\n",
       "\n",
       "    .dataframe tbody tr th {\n",
       "        vertical-align: top;\n",
       "    }\n",
       "\n",
       "    .dataframe thead th {\n",
       "        text-align: right;\n",
       "    }\n",
       "</style>\n",
       "<table border=\"1\" class=\"dataframe\">\n",
       "  <thead>\n",
       "    <tr style=\"text-align: right;\">\n",
       "      <th></th>\n",
       "      <th>cyto.10p11.1</th>\n",
       "      <th>cyto.10p11.21</th>\n",
       "      <th>cyto.10p11.22</th>\n",
       "      <th>cyto.10p11.23</th>\n",
       "      <th>cyto.10p12.1</th>\n",
       "      <th>cyto.10p12.2</th>\n",
       "      <th>cyto.10p12.31</th>\n",
       "      <th>cyto.10p12.32</th>\n",
       "      <th>cyto.10p12.33</th>\n",
       "      <th>cyto.10p13</th>\n",
       "      <th>...</th>\n",
       "      <th>cyto.9q32</th>\n",
       "      <th>cyto.9q33.1</th>\n",
       "      <th>cyto.9q33.2</th>\n",
       "      <th>cyto.9q33.3</th>\n",
       "      <th>cyto.9q34.11</th>\n",
       "      <th>cyto.9q34.12</th>\n",
       "      <th>cyto.9q34.13</th>\n",
       "      <th>cyto.9q34.2</th>\n",
       "      <th>cyto.9q34.3</th>\n",
       "      <th>&lt;NA&gt;</th>\n",
       "    </tr>\n",
       "  </thead>\n",
       "  <tbody>\n",
       "    <tr>\n",
       "      <th>count</th>\n",
       "      <td>90.000000</td>\n",
       "      <td>91.000000</td>\n",
       "      <td>94.000000</td>\n",
       "      <td>90.000000</td>\n",
       "      <td>94.000000</td>\n",
       "      <td>94.000000</td>\n",
       "      <td>94.000000</td>\n",
       "      <td>90.000000</td>\n",
       "      <td>92.000000</td>\n",
       "      <td>94.000000</td>\n",
       "      <td>...</td>\n",
       "      <td>93.000000</td>\n",
       "      <td>94.000000</td>\n",
       "      <td>94.000000</td>\n",
       "      <td>94.000000</td>\n",
       "      <td>92.000000</td>\n",
       "      <td>91.000000</td>\n",
       "      <td>92.000000</td>\n",
       "      <td>92.000000</td>\n",
       "      <td>94.000000</td>\n",
       "      <td>88.000000</td>\n",
       "    </tr>\n",
       "    <tr>\n",
       "      <th>mean</th>\n",
       "      <td>0.015100</td>\n",
       "      <td>-5.777142</td>\n",
       "      <td>-5.570560</td>\n",
       "      <td>0.025739</td>\n",
       "      <td>-0.808171</td>\n",
       "      <td>0.130032</td>\n",
       "      <td>-7.435664</td>\n",
       "      <td>0.063378</td>\n",
       "      <td>0.016652</td>\n",
       "      <td>-2.673678</td>\n",
       "      <td>...</td>\n",
       "      <td>-0.019566</td>\n",
       "      <td>-9.335994</td>\n",
       "      <td>0.081217</td>\n",
       "      <td>0.093858</td>\n",
       "      <td>0.080733</td>\n",
       "      <td>0.031769</td>\n",
       "      <td>-5.755158</td>\n",
       "      <td>0.052611</td>\n",
       "      <td>-5.607174</td>\n",
       "      <td>-0.031824</td>\n",
       "    </tr>\n",
       "    <tr>\n",
       "      <th>std</th>\n",
       "      <td>0.216330</td>\n",
       "      <td>55.339250</td>\n",
       "      <td>55.079973</td>\n",
       "      <td>0.206025</td>\n",
       "      <td>9.130563</td>\n",
       "      <td>0.601444</td>\n",
       "      <td>57.791089</td>\n",
       "      <td>0.249833</td>\n",
       "      <td>0.231308</td>\n",
       "      <td>19.180859</td>\n",
       "      <td>...</td>\n",
       "      <td>0.267657</td>\n",
       "      <td>65.332375</td>\n",
       "      <td>0.745791</td>\n",
       "      <td>0.608748</td>\n",
       "      <td>0.590584</td>\n",
       "      <td>0.192361</td>\n",
       "      <td>55.669711</td>\n",
       "      <td>0.475925</td>\n",
       "      <td>55.075937</td>\n",
       "      <td>0.347456</td>\n",
       "    </tr>\n",
       "    <tr>\n",
       "      <th>min</th>\n",
       "      <td>-0.518000</td>\n",
       "      <td>-527.876000</td>\n",
       "      <td>-533.888000</td>\n",
       "      <td>-0.222600</td>\n",
       "      <td>-88.148000</td>\n",
       "      <td>-0.250300</td>\n",
       "      <td>-533.888000</td>\n",
       "      <td>-0.528000</td>\n",
       "      <td>-0.285429</td>\n",
       "      <td>-132.722000</td>\n",
       "      <td>...</td>\n",
       "      <td>-0.797393</td>\n",
       "      <td>-527.876000</td>\n",
       "      <td>-0.765303</td>\n",
       "      <td>-0.435227</td>\n",
       "      <td>-0.444300</td>\n",
       "      <td>-0.465200</td>\n",
       "      <td>-533.888000</td>\n",
       "      <td>-0.451857</td>\n",
       "      <td>-533.888000</td>\n",
       "      <td>-1.037000</td>\n",
       "    </tr>\n",
       "    <tr>\n",
       "      <th>25%</th>\n",
       "      <td>-0.067667</td>\n",
       "      <td>-0.034633</td>\n",
       "      <td>-0.000125</td>\n",
       "      <td>-0.050667</td>\n",
       "      <td>-0.008380</td>\n",
       "      <td>-0.014025</td>\n",
       "      <td>-0.003535</td>\n",
       "      <td>-0.070750</td>\n",
       "      <td>-0.074679</td>\n",
       "      <td>-0.005690</td>\n",
       "      <td>...</td>\n",
       "      <td>-0.089214</td>\n",
       "      <td>-0.044049</td>\n",
       "      <td>-0.048189</td>\n",
       "      <td>-0.026670</td>\n",
       "      <td>-0.009342</td>\n",
       "      <td>-0.051800</td>\n",
       "      <td>-0.048803</td>\n",
       "      <td>-0.044536</td>\n",
       "      <td>-0.030081</td>\n",
       "      <td>-0.215875</td>\n",
       "    </tr>\n",
       "    <tr>\n",
       "      <th>50%</th>\n",
       "      <td>0.001833</td>\n",
       "      <td>0.006333</td>\n",
       "      <td>0.020875</td>\n",
       "      <td>0.002700</td>\n",
       "      <td>0.014543</td>\n",
       "      <td>0.021675</td>\n",
       "      <td>0.011153</td>\n",
       "      <td>0.052500</td>\n",
       "      <td>-0.030786</td>\n",
       "      <td>0.014550</td>\n",
       "      <td>...</td>\n",
       "      <td>-0.054393</td>\n",
       "      <td>-0.012163</td>\n",
       "      <td>-0.019394</td>\n",
       "      <td>-0.000239</td>\n",
       "      <td>0.010200</td>\n",
       "      <td>0.024400</td>\n",
       "      <td>-0.002184</td>\n",
       "      <td>-0.008857</td>\n",
       "      <td>0.001710</td>\n",
       "      <td>-0.046250</td>\n",
       "    </tr>\n",
       "    <tr>\n",
       "      <th>75%</th>\n",
       "      <td>0.080917</td>\n",
       "      <td>0.028233</td>\n",
       "      <td>0.042607</td>\n",
       "      <td>0.042067</td>\n",
       "      <td>0.049130</td>\n",
       "      <td>0.050212</td>\n",
       "      <td>0.030319</td>\n",
       "      <td>0.156000</td>\n",
       "      <td>0.030821</td>\n",
       "      <td>0.032145</td>\n",
       "      <td>...</td>\n",
       "      <td>-0.019107</td>\n",
       "      <td>0.014984</td>\n",
       "      <td>0.010750</td>\n",
       "      <td>0.027540</td>\n",
       "      <td>0.031908</td>\n",
       "      <td>0.117300</td>\n",
       "      <td>0.027908</td>\n",
       "      <td>0.027804</td>\n",
       "      <td>0.030774</td>\n",
       "      <td>0.168875</td>\n",
       "    </tr>\n",
       "    <tr>\n",
       "      <th>max</th>\n",
       "      <td>1.000000</td>\n",
       "      <td>1.166667</td>\n",
       "      <td>4.441000</td>\n",
       "      <td>1.500000</td>\n",
       "      <td>6.249200</td>\n",
       "      <td>5.452500</td>\n",
       "      <td>5.678200</td>\n",
       "      <td>1.000000</td>\n",
       "      <td>1.000000</td>\n",
       "      <td>7.035667</td>\n",
       "      <td>...</td>\n",
       "      <td>1.000000</td>\n",
       "      <td>6.567833</td>\n",
       "      <td>6.783000</td>\n",
       "      <td>5.463000</td>\n",
       "      <td>5.385600</td>\n",
       "      <td>1.000000</td>\n",
       "      <td>5.346500</td>\n",
       "      <td>3.965667</td>\n",
       "      <td>3.799600</td>\n",
       "      <td>0.880500</td>\n",
       "    </tr>\n",
       "  </tbody>\n",
       "</table>\n",
       "<p>8 rows × 765 columns</p>\n",
       "</div>"
      ],
      "text/plain": [
       "       cyto.10p11.1  cyto.10p11.21  cyto.10p11.22  cyto.10p11.23  \\\n",
       "count     90.000000      91.000000      94.000000      90.000000   \n",
       "mean       0.015100      -5.777142      -5.570560       0.025739   \n",
       "std        0.216330      55.339250      55.079973       0.206025   \n",
       "min       -0.518000    -527.876000    -533.888000      -0.222600   \n",
       "25%       -0.067667      -0.034633      -0.000125      -0.050667   \n",
       "50%        0.001833       0.006333       0.020875       0.002700   \n",
       "75%        0.080917       0.028233       0.042607       0.042067   \n",
       "max        1.000000       1.166667       4.441000       1.500000   \n",
       "\n",
       "       cyto.10p12.1  cyto.10p12.2  cyto.10p12.31  cyto.10p12.32  \\\n",
       "count     94.000000     94.000000      94.000000      90.000000   \n",
       "mean      -0.808171      0.130032      -7.435664       0.063378   \n",
       "std        9.130563      0.601444      57.791089       0.249833   \n",
       "min      -88.148000     -0.250300    -533.888000      -0.528000   \n",
       "25%       -0.008380     -0.014025      -0.003535      -0.070750   \n",
       "50%        0.014543      0.021675       0.011153       0.052500   \n",
       "75%        0.049130      0.050212       0.030319       0.156000   \n",
       "max        6.249200      5.452500       5.678200       1.000000   \n",
       "\n",
       "       cyto.10p12.33  cyto.10p13    ...      cyto.9q32  cyto.9q33.1  \\\n",
       "count      92.000000   94.000000    ...      93.000000    94.000000   \n",
       "mean        0.016652   -2.673678    ...      -0.019566    -9.335994   \n",
       "std         0.231308   19.180859    ...       0.267657    65.332375   \n",
       "min        -0.285429 -132.722000    ...      -0.797393  -527.876000   \n",
       "25%        -0.074679   -0.005690    ...      -0.089214    -0.044049   \n",
       "50%        -0.030786    0.014550    ...      -0.054393    -0.012163   \n",
       "75%         0.030821    0.032145    ...      -0.019107     0.014984   \n",
       "max         1.000000    7.035667    ...       1.000000     6.567833   \n",
       "\n",
       "       cyto.9q33.2  cyto.9q33.3  cyto.9q34.11  cyto.9q34.12  cyto.9q34.13  \\\n",
       "count    94.000000    94.000000     92.000000     91.000000     92.000000   \n",
       "mean      0.081217     0.093858      0.080733      0.031769     -5.755158   \n",
       "std       0.745791     0.608748      0.590584      0.192361     55.669711   \n",
       "min      -0.765303    -0.435227     -0.444300     -0.465200   -533.888000   \n",
       "25%      -0.048189    -0.026670     -0.009342     -0.051800     -0.048803   \n",
       "50%      -0.019394    -0.000239      0.010200      0.024400     -0.002184   \n",
       "75%       0.010750     0.027540      0.031908      0.117300      0.027908   \n",
       "max       6.783000     5.463000      5.385600      1.000000      5.346500   \n",
       "\n",
       "       cyto.9q34.2  cyto.9q34.3       <NA>  \n",
       "count    92.000000    94.000000  88.000000  \n",
       "mean      0.052611    -5.607174  -0.031824  \n",
       "std       0.475925    55.075937   0.347456  \n",
       "min      -0.451857  -533.888000  -1.037000  \n",
       "25%      -0.044536    -0.030081  -0.215875  \n",
       "50%      -0.008857     0.001710  -0.046250  \n",
       "75%       0.027804     0.030774   0.168875  \n",
       "max       3.965667     3.799600   0.880500  \n",
       "\n",
       "[8 rows x 765 columns]"
      ]
     },
     "execution_count": 7,
     "metadata": {},
     "output_type": "execute_result"
    }
   ],
   "source": [
    "K100.describe()"
   ]
  },
  {
   "cell_type": "code",
   "execution_count": 8,
   "metadata": {
    "ExecuteTime": {
     "end_time": "2019-02-21T14:20:40.597462Z",
     "start_time": "2019-02-21T14:20:40.587001Z"
    }
   },
   "outputs": [],
   "source": [
    "K100.dropna(inplace=True)"
   ]
  },
  {
   "cell_type": "code",
   "execution_count": 9,
   "metadata": {
    "ExecuteTime": {
     "end_time": "2019-02-21T14:20:41.192984Z",
     "start_time": "2019-02-21T14:20:41.186461Z"
    }
   },
   "outputs": [
    {
     "data": {
      "text/plain": [
       "(88, 767)"
      ]
     },
     "execution_count": 9,
     "metadata": {},
     "output_type": "execute_result"
    }
   ],
   "source": [
    "K100.shape"
   ]
  },
  {
   "cell_type": "code",
   "execution_count": 29,
   "metadata": {
    "ExecuteTime": {
     "end_time": "2019-02-21T14:33:29.824037Z",
     "start_time": "2019-02-21T14:33:29.819050Z"
    }
   },
   "outputs": [],
   "source": [
    "from sklearn.ensemble import RandomForestClassifier\n",
    "rf1 = RandomForestClassifier()\n",
    "from sklearn.svm import SVC\n",
    "svm1 = SVC()"
   ]
  },
  {
   "cell_type": "code",
   "execution_count": 30,
   "metadata": {
    "ExecuteTime": {
     "end_time": "2019-02-21T14:33:30.165124Z",
     "start_time": "2019-02-21T14:33:30.161137Z"
    }
   },
   "outputs": [],
   "source": [
    "from sklearn.metrics import accuracy_score\n",
    "from sklearn.model_selection import KFold\n",
    "cv = KFold(5, shuffle=True, random_state=0)"
   ]
  },
  {
   "cell_type": "code",
   "execution_count": 31,
   "metadata": {
    "ExecuteTime": {
     "end_time": "2019-02-21T14:33:30.743036Z",
     "start_time": "2019-02-21T14:33:30.548101Z"
    },
    "scrolled": false
   },
   "outputs": [
    {
     "name": "stdout",
     "output_type": "stream",
     "text": [
      "[K = 0 ]\n",
      "-----------svm2-----------\n",
      "train accurcacy = 0.34285714285714286, cv accurcacy = 0.4444444444444444\n",
      "--------rf2--------\n",
      "train accurcacy = 1.0, cv accurcacy = 0.4444444444444444\n",
      "[K = 1 ]\n",
      "-----------svm2-----------\n",
      "train accurcacy = 0.38571428571428573, cv accurcacy = 0.2777777777777778\n",
      "--------rf2--------\n",
      "train accurcacy = 0.9714285714285714, cv accurcacy = 0.3333333333333333\n",
      "[K = 2 ]\n",
      "-----------svm2-----------\n",
      "train accurcacy = 0.34285714285714286, cv accurcacy = 0.4444444444444444\n",
      "--------rf2--------\n",
      "train accurcacy = 1.0, cv accurcacy = 0.3888888888888889\n",
      "[K = 3 ]\n",
      "-----------svm2-----------\n",
      "train accurcacy = 0.352112676056338, cv accurcacy = 0.4117647058823529\n",
      "--------rf2--------\n",
      "train accurcacy = 1.0, cv accurcacy = 0.4117647058823529\n",
      "[K = 4 ]\n",
      "-----------svm2-----------\n",
      "train accurcacy = 0.39436619718309857, cv accurcacy = 0.23529411764705882\n",
      "--------rf2--------\n",
      "train accurcacy = 1.0, cv accurcacy = 0.29411764705882354\n"
     ]
    }
   ],
   "source": [
    "for i, (idx_train, idx_cv) in enumerate(cv.split(K100)):\n",
    "    df_train = K100.iloc[idx_train]\n",
    "    df_cv = K100.iloc[idx_cv]\n",
    "    \n",
    "    x_train = df_train.drop(['cancer','id','<NA>'], axis=1)\n",
    "    y_train = df_train['cancer']\n",
    "    \n",
    "    x_cv = df_cv.drop(['cancer','id','<NA>'], axis=1)\n",
    "    y_cv = df_cv['cancer']\n",
    "    \n",
    "    print('[K =',i,']')\n",
    "    print('-----------svm2-----------')\n",
    "    svm1.fit(x_train, y_train)\n",
    "    print(\"train accurcacy = {}, cv accurcacy = {}\".format(accuracy_score(y_train, svm1.predict(x_train)), accuracy_score(y_cv, svm1.predict(x_cv))))\n",
    "    \n",
    "    print('--------rf2--------')\n",
    "    rf1.fit(x_train, y_train)\n",
    "    print(\"train accurcacy = {}, cv accurcacy = {}\".format(accuracy_score(y_train, rf1.predict(x_train)), accuracy_score(y_cv, rf1.predict(x_cv))))\n",
    "    "
   ]
  },
  {
   "cell_type": "code",
   "execution_count": 13,
   "metadata": {
    "ExecuteTime": {
     "end_time": "2019-02-21T14:20:56.486040Z",
     "start_time": "2019-02-21T14:20:56.125201Z"
    }
   },
   "outputs": [],
   "source": [
    "import seaborn as sns"
   ]
  },
  {
   "cell_type": "code",
   "execution_count": 32,
   "metadata": {
    "ExecuteTime": {
     "end_time": "2019-02-21T14:33:34.834855Z",
     "start_time": "2019-02-21T14:33:34.612473Z"
    }
   },
   "outputs": [
    {
     "data": {
      "text/plain": [
       "<matplotlib.axes._subplots.AxesSubplot at 0x179bcf8a518>"
      ]
     },
     "execution_count": 32,
     "metadata": {},
     "output_type": "execute_result"
    },
    {
     "data": {
      "image/png": "[encoded data removed]",
      "text/plain": [
       "<Figure size 504x720 with 1 Axes>"
      ]
     },
     "metadata": {},
     "output_type": "display_data"
    }
   ],
   "source": [
    "plt.figure(figsize = (7,10))\n",
    "feat_importances = pd.Series(rf1.feature_importances_, index=x_train.columns)\n",
    "feat_importances.nlargest(20).plot(kind='barh')"
   ]
  },
  {
   "cell_type": "code",
   "execution_count": 33,
   "metadata": {
    "ExecuteTime": {
     "end_time": "2019-02-21T14:33:41.240120Z",
     "start_time": "2019-02-21T14:33:41.229150Z"
    },
    "scrolled": true
   },
   "outputs": [
    {
     "data": {
      "text/plain": [
       "cyto.3q13.13     0.022150\n",
       "cyto.20q13.32    0.021383\n",
       "cyto.8p12        0.020226\n",
       "cyto.3q26.32     0.019872\n",
       "cyto.2p12        0.019755\n",
       "cyto.9q34.13     0.018047\n",
       "cyto.9p22.2      0.017890\n",
       "cyto.16p13.11    0.017602\n",
       "cyto.4p15.2      0.017552\n",
       "cyto.4q22.3      0.017498\n",
       "cyto.20q13.13    0.017069\n",
       "cyto.8q13.1      0.016985\n",
       "cyto.10q26.11    0.016623\n",
       "cyto.7p12.3      0.015654\n",
       "cyto.15q24.2     0.014940\n",
       "cyto.2p14        0.014777\n",
       "cyto.5q34        0.014330\n",
       "cyto.15q21.3     0.014310\n",
       "cyto.4q31.22     0.013923\n",
       "cyto.8p21.2      0.013697\n",
       "cyto.8q24.21     0.013569\n",
       "cyto.16q23.2     0.013495\n",
       "cyto.13q31.2     0.013196\n",
       "cyto.9p24.3      0.013171\n",
       "cyto.5q33.2      0.012939\n",
       "cyto.17p11.2     0.012575\n",
       "cyto.11p14.1     0.012523\n",
       "cyto.3q27.1      0.012162\n",
       "cyto.2p11.2      0.012082\n",
       "cyto.2p22.3      0.012052\n",
       "                   ...   \n",
       "cyto.3p24.2      0.000000\n",
       "cyto.3p23        0.000000\n",
       "cyto.3p22.3      0.000000\n",
       "cyto.3p22.2      0.000000\n",
       "cyto.3p22.1      0.000000\n",
       "cyto.3p21.33     0.000000\n",
       "cyto.3p21.32     0.000000\n",
       "cyto.3p21.31     0.000000\n",
       "cyto.3q12.3      0.000000\n",
       "cyto.3q13.11     0.000000\n",
       "cyto.3q13.12     0.000000\n",
       "cyto.3q13.2      0.000000\n",
       "cyto.3q26.2      0.000000\n",
       "cyto.3q26.1      0.000000\n",
       "cyto.3q25.33     0.000000\n",
       "cyto.3q25.32     0.000000\n",
       "cyto.3q25.31     0.000000\n",
       "cyto.3q25.2      0.000000\n",
       "cyto.3q25.1      0.000000\n",
       "cyto.3q24        0.000000\n",
       "cyto.3q23        0.000000\n",
       "cyto.3q22.3      0.000000\n",
       "cyto.3q22.2      0.000000\n",
       "cyto.3q22.1      0.000000\n",
       "cyto.3q21.3      0.000000\n",
       "cyto.3q21.2      0.000000\n",
       "cyto.3q21.1      0.000000\n",
       "cyto.3q13.32     0.000000\n",
       "cyto.3q13.31     0.000000\n",
       "cyto.10p11.1     0.000000\n",
       "Length: 764, dtype: float64"
      ]
     },
     "execution_count": 33,
     "metadata": {},
     "output_type": "execute_result"
    }
   ],
   "source": [
    "feat_importances.sort_values(ascending=False)"
   ]
  },
  {
   "cell_type": "markdown",
   "metadata": {},
   "source": [
    "# K15"
   ]
  },
  {
   "cell_type": "code",
   "execution_count": 34,
   "metadata": {
    "ExecuteTime": {
     "end_time": "2019-02-21T14:43:29.605982Z",
     "start_time": "2019-02-21T14:43:29.506497Z"
    }
   },
   "outputs": [],
   "source": [
    "BC_15 = pd.read_csv('BC_32ea_k15_cyto.csv')\n",
    "Normal_15 = pd.read_csv('Normal_21ea_k15_cyto.csv')\n",
    "PC_15 = pd.read_csv('PC_20ea_k15_cyto.csv')"
   ]
  },
  {
   "cell_type": "code",
   "execution_count": 35,
   "metadata": {
    "ExecuteTime": {
     "end_time": "2019-02-21T14:43:29.757445Z",
     "start_time": "2019-02-21T14:43:29.748470Z"
    }
   },
   "outputs": [],
   "source": [
    "#drop person id\n",
    "BC_15.drop('Unnamed: 0', axis = 1, inplace = True)\n",
    "Normal_15.drop('Unnamed: 0', axis = 1, inplace = True)\n",
    "PC_15.drop('Unnamed: 0', axis = 1, inplace = True)"
   ]
  },
  {
   "cell_type": "code",
   "execution_count": 36,
   "metadata": {
    "ExecuteTime": {
     "end_time": "2019-02-21T14:43:29.994790Z",
     "start_time": "2019-02-21T14:43:29.980820Z"
    }
   },
   "outputs": [],
   "source": [
    "BC_15['cancer'] = 'BC'\n",
    "Normal_15['cancer'] = 'normal'\n",
    "PC_15['cancer'] = 'PC'\n",
    "\n",
    "K15 = pd.concat([BC_15,Normal_15,PC_15], axis = 0)"
   ]
  },
  {
   "cell_type": "code",
   "execution_count": 37,
   "metadata": {
    "ExecuteTime": {
     "end_time": "2019-02-21T14:43:30.209575Z",
     "start_time": "2019-02-21T14:43:30.198605Z"
    }
   },
   "outputs": [],
   "source": [
    "K15.dropna(inplace=True)"
   ]
  },
  {
   "cell_type": "code",
   "execution_count": 38,
   "metadata": {
    "ExecuteTime": {
     "end_time": "2019-02-21T14:43:30.504731Z",
     "start_time": "2019-02-21T14:43:30.498745Z"
    }
   },
   "outputs": [
    {
     "data": {
      "text/plain": [
       "(72, 770)"
      ]
     },
     "execution_count": 38,
     "metadata": {},
     "output_type": "execute_result"
    }
   ],
   "source": [
    "K15.shape"
   ]
  },
  {
   "cell_type": "code",
   "execution_count": 39,
   "metadata": {
    "ExecuteTime": {
     "end_time": "2019-02-21T14:43:31.032599Z",
     "start_time": "2019-02-21T14:43:31.025616Z"
    }
   },
   "outputs": [
    {
     "data": {
      "text/plain": [
       "BC        32\n",
       "normal    21\n",
       "PC        19\n",
       "Name: cancer, dtype: int64"
      ]
     },
     "execution_count": 39,
     "metadata": {},
     "output_type": "execute_result"
    }
   ],
   "source": [
    "K15.cancer.value_counts()"
   ]
  },
  {
   "cell_type": "code",
   "execution_count": 40,
   "metadata": {
    "ExecuteTime": {
     "end_time": "2019-02-21T14:43:33.727694Z",
     "start_time": "2019-02-21T14:43:33.724700Z"
    }
   },
   "outputs": [],
   "source": [
    "rf2 = RandomForestClassifier()\n",
    "svm2 = SVC()"
   ]
  },
  {
   "cell_type": "code",
   "execution_count": 41,
   "metadata": {
    "ExecuteTime": {
     "end_time": "2019-02-21T14:43:34.551180Z",
     "start_time": "2019-02-21T14:43:34.545199Z"
    }
   },
   "outputs": [
    {
     "data": {
      "text/plain": [
       "Index(['id', 'cyto.10p11.1', 'cyto.10p11.21', 'cyto.10p11.22', 'cyto.10p11.23',\n",
       "       'cyto.10p12.1', 'cyto.10p12.2', 'cyto.10p12.31', 'cyto.10p12.32',\n",
       "       'cyto.10p12.33',\n",
       "       ...\n",
       "       'cyto.9q33.1', 'cyto.9q33.2', 'cyto.9q33.3', 'cyto.9q34.11',\n",
       "       'cyto.9q34.12', 'cyto.9q34.13', 'cyto.9q34.2', 'cyto.9q34.3', '<NA>',\n",
       "       'cancer'],\n",
       "      dtype='object', length=770)"
      ]
     },
     "execution_count": 41,
     "metadata": {},
     "output_type": "execute_result"
    }
   ],
   "source": [
    "K15.columns"
   ]
  },
  {
   "cell_type": "code",
   "execution_count": 42,
   "metadata": {
    "ExecuteTime": {
     "end_time": "2019-02-21T14:43:35.148972Z",
     "start_time": "2019-02-21T14:43:34.987489Z"
    }
   },
   "outputs": [
    {
     "name": "stdout",
     "output_type": "stream",
     "text": [
      "[K = 0 ]\n",
      "-----------svm2-----------\n",
      "train accurcacy = 0.43859649122807015, cv accurcacy = 0.4666666666666667\n",
      "--------rf2--------\n",
      "train accurcacy = 1.0, cv accurcacy = 0.4\n",
      "[K = 1 ]\n",
      "-----------svm2-----------\n",
      "train accurcacy = 0.47368421052631576, cv accurcacy = 0.3333333333333333\n",
      "--------rf2--------\n",
      "train accurcacy = 1.0, cv accurcacy = 0.5333333333333333\n",
      "[K = 2 ]\n",
      "-----------svm2-----------\n",
      "train accurcacy = 0.43103448275862066, cv accurcacy = 0.5\n",
      "--------rf2--------\n",
      "train accurcacy = 1.0, cv accurcacy = 0.7857142857142857\n",
      "[K = 3 ]\n",
      "-----------svm2-----------\n",
      "train accurcacy = 0.43103448275862066, cv accurcacy = 0.5\n",
      "--------rf2--------\n",
      "train accurcacy = 1.0, cv accurcacy = 0.7142857142857143\n",
      "[K = 4 ]\n",
      "-----------svm2-----------\n",
      "train accurcacy = 0.4482758620689655, cv accurcacy = 0.42857142857142855\n",
      "--------rf2--------\n",
      "train accurcacy = 0.9827586206896551, cv accurcacy = 0.2857142857142857\n"
     ]
    }
   ],
   "source": [
    "for i, (idx_train, idx_cv) in enumerate(cv.split(K15)):\n",
    "    df_train = K15.iloc[idx_train]\n",
    "    df_cv = K15.iloc[idx_cv]\n",
    "    \n",
    "    x_train = df_train.drop(['cancer','id','<NA>'], axis=1)\n",
    "    y_train = df_train['cancer']\n",
    "    \n",
    "    x_cv = df_cv.drop(['cancer','id','<NA>'], axis=1)\n",
    "    y_cv = df_cv['cancer']\n",
    "    \n",
    "    print('[K =',i,']')\n",
    "    print('-----------svm2-----------')\n",
    "    svm2.fit(x_train, y_train)\n",
    "    print(\"train accurcacy = {}, cv accurcacy = {}\".format(accuracy_score(y_train, svm2.predict(x_train)), accuracy_score(y_cv, svm2.predict(x_cv))))\n",
    "    \n",
    "    print('--------rf2--------')\n",
    "    rf2.fit(x_train, y_train)\n",
    "    print(\"train accurcacy = {}, cv accurcacy = {}\".format(accuracy_score(y_train, rf2.predict(x_train)), accuracy_score(y_cv, rf2.predict(x_cv))))\n",
    "    "
   ]
  },
  {
   "cell_type": "code",
   "execution_count": 43,
   "metadata": {
    "ExecuteTime": {
     "end_time": "2019-02-21T14:43:36.755312Z",
     "start_time": "2019-02-21T14:43:36.519246Z"
    }
   },
   "outputs": [
    {
     "data": {
      "text/plain": [
       "<matplotlib.axes._subplots.AxesSubplot at 0x179bce6d3c8>"
      ]
     },
     "execution_count": 43,
     "metadata": {},
     "output_type": "execute_result"
    },
    {
     "data": {
      "image/png": "[encoded data removed]",
      "text/plain": [
       "<Figure size 504x720 with 1 Axes>"
      ]
     },
     "metadata": {},
     "output_type": "display_data"
    }
   ],
   "source": [
    "plt.figure(figsize = (7,10))\n",
    "feat_importances = pd.Series(rf2.feature_importances_, index=x_train.columns)\n",
    "feat_importances.nlargest(20).plot(kind='barh')"
   ]
  },
  {
   "cell_type": "code",
   "execution_count": 45,
   "metadata": {
    "ExecuteTime": {
     "end_time": "2019-02-21T14:44:48.942011Z",
     "start_time": "2019-02-21T14:44:48.932038Z"
    }
   },
   "outputs": [
    {
     "data": {
      "text/plain": [
       "cyto.3p25.1      0.054586\n",
       "cyto.10q21.1     0.046556\n",
       "cyto.8p21.2      0.032252\n",
       "cyto.6q14.2      0.028440\n",
       "cyto.1q23.3      0.027927\n",
       "cyto.11q22.3     0.027689\n",
       "cyto.9p24.1      0.027131\n",
       "cyto.14q31.1     0.026653\n",
       "cyto.8q22.1      0.024328\n",
       "cyto.11p15.5     0.023955\n",
       "cyto.16q24.1     0.023634\n",
       "cyto.18q11.2     0.023451\n",
       "cyto.2p16.2      0.020995\n",
       "cyto.18q21.31    0.020587\n",
       "cyto.9p13.3      0.020142\n",
       "cyto.12q24.12    0.019903\n",
       "cyto.3p23        0.018864\n",
       "cyto.18q21.2     0.017400\n",
       "cyto.2p22.3      0.017265\n",
       "cyto.13q21.2     0.017074\n",
       "dtype: float64"
      ]
     },
     "execution_count": 45,
     "metadata": {},
     "output_type": "execute_result"
    }
   ],
   "source": [
    "feat_importances.sort_values(ascending=False)[:20]"
   ]
  }
 ],
 "metadata": {
  "kernelspec": {
   "display_name": "Python 3",
   "language": "python",
   "name": "python3"
  },
  "language_info": {
   "codemirror_mode": {
    "name": "ipython",
    "version": 3
   },
   "file_extension": ".py",
   "mimetype": "text/x-python",
   "name": "python",
   "nbconvert_exporter": "python",
   "pygments_lexer": "ipython3",
   "version": "3.6.5"
  }
 },
 "nbformat": 4,
 "nbformat_minor": 2
}
