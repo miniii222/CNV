{
 "cells": [
  {
   "cell_type": "code",
   "execution_count": 1,
   "metadata": {
    "ExecuteTime": {
     "end_time": "2019-04-03T05:23:34.148936Z",
     "start_time": "2019-04-03T05:23:32.789963Z"
    }
   },
   "outputs": [
    {
     "data": {
      "text/plain": [
       "['BC_1022.csv',\n",
       " 'BC_32ea_k100_cyto.csv',\n",
       " 'BC_32ea_k15_cyto.csv',\n",
       " 'K15_1022.csv',\n",
       " 'K15_common.csv',\n",
       " 'normal_1022.csv',\n",
       " 'Normal_21ea_k100_cyto.csv',\n",
       " 'Normal_21ea_k15_cyto.csv',\n",
       " 'PC_1022.csv',\n",
       " 'PC_20ea_k100_cyto.csv',\n",
       " 'PC_20ea_k15_cyto.csv',\n",
       " 'RC_20ea_k100_cyto.csv',\n",
       " 'TCGA_common.csv',\n",
       " 'TCGA_data.csv']"
      ]
     },
     "execution_count": 1,
     "metadata": {},
     "output_type": "execute_result"
    }
   ],
   "source": [
    "import pandas as pd\n",
    "import numpy as np\n",
    "import os\n",
    "os.listdir('../my/data')"
   ]
  },
  {
   "cell_type": "code",
   "execution_count": 2,
   "metadata": {
    "ExecuteTime": {
     "end_time": "2019-04-03T05:23:36.963399Z",
     "start_time": "2019-04-03T05:23:34.151559Z"
    }
   },
   "outputs": [
    {
     "name": "stdout",
     "output_type": "stream",
     "text": [
      "X_train shape : ,  (2114, 763) y_train :  (2114,)\n",
      "X_test shape : ,  (53, 763) y_test :  (53,)\n"
     ]
    }
   ],
   "source": [
    "#NA\n",
    "tcga = pd.read_csv('../my/data/TCGA_common.csv')\n",
    "urine = pd.read_csv('../my/data/K15_common.csv')\n",
    "\n",
    "urine_BC_Norm=urine.loc[urine['cancer'].isin(['Normal','BC'])]\n",
    "tcga_BC_Norm=tcga.loc[tcga['y'].isin(['Normal','BC'])]\n",
    "X_train = tcga_BC_Norm.drop('y', axis = 1)\n",
    "y_train = tcga_BC_Norm['y']\n",
    "X_test = urine_BC_Norm.drop('cancer',axis=1)\n",
    "y_test= urine_BC_Norm['cancer']\n",
    "\n",
    "print('X_train shape : , ', X_train.shape, 'y_train : ', y_train.shape)\n",
    "print('X_test shape : , ', X_test.shape, 'y_test : ', y_test.shape)"
   ]
  },
  {
   "cell_type": "code",
   "execution_count": 3,
   "metadata": {
    "ExecuteTime": {
     "end_time": "2019-04-03T05:23:37.306069Z",
     "start_time": "2019-04-03T05:23:36.966312Z"
    }
   },
   "outputs": [
    {
     "name": "stderr",
     "output_type": "stream",
     "text": [
      "C:\\Users\\wjssm\\Anaconda3\\lib\\site-packages\\ipykernel_launcher.py:1: SettingWithCopyWarning: \n",
      "A value is trying to be set on a copy of a slice from a DataFrame\n",
      "\n",
      "See the caveats in the documentation: http://pandas.pydata.org/pandas-docs/stable/indexing.html#indexing-view-versus-copy\n",
      "  \"\"\"Entry point for launching an IPython kernel.\n",
      "C:\\Users\\wjssm\\Anaconda3\\lib\\site-packages\\pandas\\core\\generic.py:7626: SettingWithCopyWarning: \n",
      "A value is trying to be set on a copy of a slice from a DataFrame\n",
      "\n",
      "See the caveats in the documentation: http://pandas.pydata.org/pandas-docs/stable/indexing.html#indexing-view-versus-copy\n",
      "  self._update_inplace(new_data)\n",
      "C:\\Users\\wjssm\\Anaconda3\\lib\\site-packages\\IPython\\core\\interactiveshell.py:3267: SettingWithCopyWarning: \n",
      "A value is trying to be set on a copy of a slice from a DataFrame\n",
      "\n",
      "See the caveats in the documentation: http://pandas.pydata.org/pandas-docs/stable/indexing.html#indexing-view-versus-copy\n",
      "  exec(code_obj, self.user_global_ns, self.user_ns)\n",
      "C:\\Users\\wjssm\\Anaconda3\\lib\\site-packages\\ipykernel_launcher.py:2: SettingWithCopyWarning: \n",
      "A value is trying to be set on a copy of a slice from a DataFrame\n",
      "\n",
      "See the caveats in the documentation: http://pandas.pydata.org/pandas-docs/stable/indexing.html#indexing-view-versus-copy\n",
      "  \n",
      "C:\\Users\\wjssm\\Anaconda3\\lib\\site-packages\\ipykernel_launcher.py:4: SettingWithCopyWarning: \n",
      "A value is trying to be set on a copy of a slice from a DataFrame\n",
      "\n",
      "See the caveats in the documentation: http://pandas.pydata.org/pandas-docs/stable/indexing.html#indexing-view-versus-copy\n",
      "  after removing the cwd from sys.path.\n",
      "C:\\Users\\wjssm\\Anaconda3\\lib\\site-packages\\ipykernel_launcher.py:5: SettingWithCopyWarning: \n",
      "A value is trying to be set on a copy of a slice from a DataFrame\n",
      "\n",
      "See the caveats in the documentation: http://pandas.pydata.org/pandas-docs/stable/indexing.html#indexing-view-versus-copy\n",
      "  \"\"\"\n"
     ]
    }
   ],
   "source": [
    "y_train[y_train == 'BC'] = 1\n",
    "y_train[y_train == 'Normal'] = 0\n",
    "\n",
    "y_test[y_test == 'BC'] = 1\n",
    "y_test[y_test == 'Normal'] = 0\n",
    "\n",
    "y_train = y_train.astype('int')\n",
    "y_test = y_test.astype('int')"
   ]
  },
  {
   "cell_type": "code",
   "execution_count": 4,
   "metadata": {
    "ExecuteTime": {
     "end_time": "2019-04-03T05:23:37.341547Z",
     "start_time": "2019-04-03T05:23:37.310910Z"
    }
   },
   "outputs": [
    {
     "data": {
      "text/html": [
       "<div>\n",
       "<style scoped>\n",
       "    .dataframe tbody tr th:only-of-type {\n",
       "        vertical-align: middle;\n",
       "    }\n",
       "\n",
       "    .dataframe tbody tr th {\n",
       "        vertical-align: top;\n",
       "    }\n",
       "\n",
       "    .dataframe thead th {\n",
       "        text-align: right;\n",
       "    }\n",
       "</style>\n",
       "<table border=\"1\" class=\"dataframe\">\n",
       "  <thead>\n",
       "    <tr style=\"text-align: right;\">\n",
       "      <th></th>\n",
       "      <th>cyto.1p36.32</th>\n",
       "      <th>cyto.1p36.31</th>\n",
       "      <th>cyto.1p36.23</th>\n",
       "      <th>cyto.1p36.22</th>\n",
       "      <th>cyto.1p36.21</th>\n",
       "      <th>cyto.1p36.13</th>\n",
       "      <th>cyto.1p36.12</th>\n",
       "      <th>cyto.1p36.11</th>\n",
       "      <th>cyto.1p35.3</th>\n",
       "      <th>cyto.1p35.2</th>\n",
       "      <th>...</th>\n",
       "      <th>cyto.9q32</th>\n",
       "      <th>cyto.9q33.1</th>\n",
       "      <th>cyto.9q33.2</th>\n",
       "      <th>cyto.9q33.3</th>\n",
       "      <th>cyto.9q34.11</th>\n",
       "      <th>cyto.9q34.12</th>\n",
       "      <th>cyto.9q34.13</th>\n",
       "      <th>cyto.9q34.2</th>\n",
       "      <th>cyto.9q34.3</th>\n",
       "      <th>y</th>\n",
       "    </tr>\n",
       "  </thead>\n",
       "  <tbody>\n",
       "    <tr>\n",
       "      <th>0</th>\n",
       "      <td>-0.1624</td>\n",
       "      <td>-0.1624</td>\n",
       "      <td>-0.1624</td>\n",
       "      <td>-0.1624</td>\n",
       "      <td>-0.1624</td>\n",
       "      <td>-0.1624</td>\n",
       "      <td>-0.1624</td>\n",
       "      <td>-0.1624</td>\n",
       "      <td>-0.1624</td>\n",
       "      <td>-0.1624</td>\n",
       "      <td>...</td>\n",
       "      <td>-0.1732</td>\n",
       "      <td>-0.1732</td>\n",
       "      <td>-0.1732</td>\n",
       "      <td>-0.1732</td>\n",
       "      <td>-0.1732</td>\n",
       "      <td>-0.1732</td>\n",
       "      <td>-0.1732</td>\n",
       "      <td>-0.1732</td>\n",
       "      <td>-0.1732</td>\n",
       "      <td>BC</td>\n",
       "    </tr>\n",
       "    <tr>\n",
       "      <th>1</th>\n",
       "      <td>0.0015</td>\n",
       "      <td>0.0015</td>\n",
       "      <td>0.0015</td>\n",
       "      <td>0.0015</td>\n",
       "      <td>0.0015</td>\n",
       "      <td>0.0015</td>\n",
       "      <td>0.0015</td>\n",
       "      <td>0.0015</td>\n",
       "      <td>0.0015</td>\n",
       "      <td>0.0015</td>\n",
       "      <td>...</td>\n",
       "      <td>0.0009</td>\n",
       "      <td>0.0009</td>\n",
       "      <td>0.0009</td>\n",
       "      <td>0.0009</td>\n",
       "      <td>0.0009</td>\n",
       "      <td>0.0009</td>\n",
       "      <td>0.0009</td>\n",
       "      <td>0.0009</td>\n",
       "      <td>0.0009</td>\n",
       "      <td>Normal</td>\n",
       "    </tr>\n",
       "    <tr>\n",
       "      <th>2</th>\n",
       "      <td>0.4150</td>\n",
       "      <td>0.4150</td>\n",
       "      <td>0.4150</td>\n",
       "      <td>0.4150</td>\n",
       "      <td>0.4150</td>\n",
       "      <td>0.4150</td>\n",
       "      <td>0.4150</td>\n",
       "      <td>-0.2961</td>\n",
       "      <td>0.9639</td>\n",
       "      <td>-0.2736</td>\n",
       "      <td>...</td>\n",
       "      <td>-0.2716</td>\n",
       "      <td>-0.2716</td>\n",
       "      <td>-0.2716</td>\n",
       "      <td>-0.2716</td>\n",
       "      <td>-0.3456</td>\n",
       "      <td>-0.3456</td>\n",
       "      <td>0.2685</td>\n",
       "      <td>-0.3587</td>\n",
       "      <td>-0.3587</td>\n",
       "      <td>BC</td>\n",
       "    </tr>\n",
       "    <tr>\n",
       "      <th>3</th>\n",
       "      <td>-0.0006</td>\n",
       "      <td>-0.0006</td>\n",
       "      <td>-0.0006</td>\n",
       "      <td>-0.0006</td>\n",
       "      <td>0.0033</td>\n",
       "      <td>0.0033</td>\n",
       "      <td>0.0033</td>\n",
       "      <td>0.0033</td>\n",
       "      <td>0.0033</td>\n",
       "      <td>0.0033</td>\n",
       "      <td>...</td>\n",
       "      <td>0.0015</td>\n",
       "      <td>0.0015</td>\n",
       "      <td>0.0015</td>\n",
       "      <td>0.0015</td>\n",
       "      <td>0.0015</td>\n",
       "      <td>0.0015</td>\n",
       "      <td>0.0015</td>\n",
       "      <td>0.0015</td>\n",
       "      <td>0.0015</td>\n",
       "      <td>Normal</td>\n",
       "    </tr>\n",
       "    <tr>\n",
       "      <th>4</th>\n",
       "      <td>-0.0130</td>\n",
       "      <td>0.0030</td>\n",
       "      <td>0.0030</td>\n",
       "      <td>0.0030</td>\n",
       "      <td>0.0030</td>\n",
       "      <td>0.0030</td>\n",
       "      <td>0.0030</td>\n",
       "      <td>0.0030</td>\n",
       "      <td>0.0030</td>\n",
       "      <td>0.0030</td>\n",
       "      <td>...</td>\n",
       "      <td>-0.0024</td>\n",
       "      <td>-0.0024</td>\n",
       "      <td>-0.0024</td>\n",
       "      <td>-0.0024</td>\n",
       "      <td>-0.0024</td>\n",
       "      <td>-0.0024</td>\n",
       "      <td>-0.0024</td>\n",
       "      <td>-0.0024</td>\n",
       "      <td>-0.0024</td>\n",
       "      <td>Normal</td>\n",
       "    </tr>\n",
       "  </tbody>\n",
       "</table>\n",
       "<p>5 rows × 764 columns</p>\n",
       "</div>"
      ],
      "text/plain": [
       "   cyto.1p36.32  cyto.1p36.31  cyto.1p36.23  cyto.1p36.22  cyto.1p36.21  \\\n",
       "0       -0.1624       -0.1624       -0.1624       -0.1624       -0.1624   \n",
       "1        0.0015        0.0015        0.0015        0.0015        0.0015   \n",
       "2        0.4150        0.4150        0.4150        0.4150        0.4150   \n",
       "3       -0.0006       -0.0006       -0.0006       -0.0006        0.0033   \n",
       "4       -0.0130        0.0030        0.0030        0.0030        0.0030   \n",
       "\n",
       "   cyto.1p36.13  cyto.1p36.12  cyto.1p36.11  cyto.1p35.3  cyto.1p35.2   ...    \\\n",
       "0       -0.1624       -0.1624       -0.1624      -0.1624      -0.1624   ...     \n",
       "1        0.0015        0.0015        0.0015       0.0015       0.0015   ...     \n",
       "2        0.4150        0.4150       -0.2961       0.9639      -0.2736   ...     \n",
       "3        0.0033        0.0033        0.0033       0.0033       0.0033   ...     \n",
       "4        0.0030        0.0030        0.0030       0.0030       0.0030   ...     \n",
       "\n",
       "   cyto.9q32  cyto.9q33.1  cyto.9q33.2  cyto.9q33.3  cyto.9q34.11  \\\n",
       "0    -0.1732      -0.1732      -0.1732      -0.1732       -0.1732   \n",
       "1     0.0009       0.0009       0.0009       0.0009        0.0009   \n",
       "2    -0.2716      -0.2716      -0.2716      -0.2716       -0.3456   \n",
       "3     0.0015       0.0015       0.0015       0.0015        0.0015   \n",
       "4    -0.0024      -0.0024      -0.0024      -0.0024       -0.0024   \n",
       "\n",
       "   cyto.9q34.12  cyto.9q34.13  cyto.9q34.2  cyto.9q34.3       y  \n",
       "0       -0.1732       -0.1732      -0.1732      -0.1732      BC  \n",
       "1        0.0009        0.0009       0.0009       0.0009  Normal  \n",
       "2       -0.3456        0.2685      -0.3587      -0.3587      BC  \n",
       "3        0.0015        0.0015       0.0015       0.0015  Normal  \n",
       "4       -0.0024       -0.0024      -0.0024      -0.0024  Normal  \n",
       "\n",
       "[5 rows x 764 columns]"
      ]
     },
     "execution_count": 4,
     "metadata": {},
     "output_type": "execute_result"
    }
   ],
   "source": [
    "tcga.head()"
   ]
  },
  {
   "cell_type": "code",
   "execution_count": 5,
   "metadata": {
    "ExecuteTime": {
     "end_time": "2019-04-03T05:23:40.118600Z",
     "start_time": "2019-04-03T05:23:37.344539Z"
    }
   },
   "outputs": [],
   "source": [
    "from sklearn.metrics import accuracy_score\n",
    "from sklearn.metrics import recall_score\n",
    "from sklearn.metrics import precision_score\n",
    "from sklearn.metrics import confusion_matrix\n",
    "from sklearn.metrics import f1_score\n",
    "from sklearn.metrics import roc_auc_score\n",
    "from sklearn.metrics import classification_report\n",
    "from sklearn.metrics import roc_curve\n",
    "\n",
    "def get_eval(y_test, pred) :\n",
    "    \n",
    "    print('accuracy : {0:.4f} precision : {1:.4f} recall : {2:.4f} F1 : {3:.4f} AUC : {4:.4f}'.format(\n",
    "                                                        accuracy_score(y_test, pred), \n",
    "                                                        precision_score(y_test, pred),\n",
    "                                                        recall_score(y_test, pred),\n",
    "                                                        f1_score(y_test,pred),\n",
    "                                                        roc_auc_score(y_test, pred)\n",
    "                                                                      ))\n",
    "    \n",
    "    \n",
    "    \n",
    "    #print('accuracy : {0:.4f}'.format(accuracy_score(y_test,pred)), 'roc_auc_score : ', roc_auc_score(y_test,pred))\n",
    "    #print(classification_report(y_test, pred))\n",
    "    print(confusion_matrix(y_test, pred))"
   ]
  },
  {
   "cell_type": "code",
   "execution_count": 6,
   "metadata": {
    "ExecuteTime": {
     "end_time": "2019-04-03T05:23:40.611842Z",
     "start_time": "2019-04-03T05:23:40.124615Z"
    }
   },
   "outputs": [],
   "source": [
    "import matplotlib.pyplot as plt"
   ]
  },
  {
   "cell_type": "code",
   "execution_count": 7,
   "metadata": {
    "ExecuteTime": {
     "end_time": "2019-04-03T05:23:40.625705Z",
     "start_time": "2019-04-03T05:23:40.611842Z"
    }
   },
   "outputs": [],
   "source": [
    "#draw roc curve\n",
    "def roc_curve_plot(y_test, pred_proba) :\n",
    "    \n",
    "    fpr, tpr, threshold = roc_curve(y_test, pred_proba)\n",
    "    plt.plot(fpr, tpr, label = 'ROC')\n",
    "    plt.plot([0,1],[0,1],'k--', label = 'Random')\n",
    "    \n",
    "    start, end = plt.xlim()\n",
    "    plt.xticks(np.round(np.arange(start, end, 0.1),2))\n",
    "    plt.xlim(0,1)\n",
    "    plt.ylim(0,1)\n",
    "    \n",
    "    plt.xlabel('FPR(1-Sensitivity)')\n",
    "    plt.ylabel('TPR(Recall)')\n",
    "    plt.legend()"
   ]
  },
  {
   "cell_type": "markdown",
   "metadata": {},
   "source": [
    "# scaling"
   ]
  },
  {
   "cell_type": "code",
   "execution_count": 8,
   "metadata": {
    "ExecuteTime": {
     "end_time": "2019-04-03T05:23:41.251217Z",
     "start_time": "2019-04-03T05:23:41.100296Z"
    }
   },
   "outputs": [],
   "source": [
    "X_test = X_test[X_train.columns]\n",
    "from sklearn.preprocessing import MinMaxScaler,MaxAbsScaler\n",
    "#MinMaxScaler\n",
    "X_train_mms = MinMaxScaler().fit_transform(X_train)\n",
    "X_test_mms = MinMaxScaler().fit_transform(X_test)\n",
    "\n",
    "#MaxAbsScaler\n",
    "X_train_mas = MaxAbsScaler().fit_transform(X_train)\n",
    "X_test_mas = MaxAbsScaler().fit_transform(X_test)"
   ]
  },
  {
   "cell_type": "markdown",
   "metadata": {},
   "source": [
    "# Decision_Tree"
   ]
  },
  {
   "cell_type": "code",
   "execution_count": 173,
   "metadata": {
    "ExecuteTime": {
     "end_time": "2019-03-28T04:13:47.408050Z",
     "start_time": "2019-03-28T04:13:40.742073Z"
    }
   },
   "outputs": [
    {
     "name": "stdout",
     "output_type": "stream",
     "text": [
      "###original data result###\n",
      "accuracy : 0.6226 precision : 0.6429 recall : 0.8438 F1 : 0.7297 AUC : 0.5647\n",
      "[[ 6 15]\n",
      " [ 5 27]]\n",
      "\n",
      "\n",
      "###MinMaxScaler data result###\n",
      "accuracy : 0.6038 precision : 0.6078 recall : 0.9688 F1 : 0.7470 AUC : 0.5082\n",
      "[[ 1 20]\n",
      " [ 1 31]]\n",
      "\n",
      "\n",
      "###MaxAbsScaler data result###\n",
      "accuracy : 0.5849 precision : 0.5962 recall : 0.9688 F1 : 0.7381 AUC : 0.4844\n",
      "[[ 0 21]\n",
      " [ 1 31]]\n"
     ]
    }
   ],
   "source": [
    "from sklearn.tree import DecisionTreeClassifier\n",
    "dt = DecisionTreeClassifier()\n",
    "\n",
    "print('###original data result###')\n",
    "dt.fit(X_train, y_train)\n",
    "get_eval(y_test, dt.predict(X_test))\n",
    "print('\\n')\n",
    "print('###MinMaxScaler data result###')\n",
    "dt.fit(X_train_mms, y_train)\n",
    "get_eval(y_test, dt.predict(X_test_mms))\n",
    "print('\\n')\n",
    "print('###MaxAbsScaler data result###')\n",
    "dt.fit(X_train_mas, y_train)\n",
    "get_eval(y_test, dt.predict(X_test_mas))"
   ]
  },
  {
   "cell_type": "code",
   "execution_count": 174,
   "metadata": {
    "ExecuteTime": {
     "end_time": "2019-03-28T04:14:08.410374Z",
     "start_time": "2019-03-28T04:13:47.425255Z"
    }
   },
   "outputs": [
    {
     "name": "stdout",
     "output_type": "stream",
     "text": [
      "GridSearchCV best accuracy : 0.9730\n",
      "GridSearchCV best hyperparameter {'max_depth': 8}\n"
     ]
    }
   ],
   "source": [
    "from sklearn.model_selection import GridSearchCV\n",
    "\n",
    "prams = {\n",
    "    'max_depth' : [6,8,10,12,16,20,24]\n",
    "}\n",
    "\n",
    "grid_cv = GridSearchCV(dt, param_grid = prams, scoring = 'accuracy', cv = 3)\n",
    "grid_cv.fit(X_train_mas, y_train)\n",
    "print('GridSearchCV best accuracy : {0:.4f}'.format(grid_cv.best_score_))\n",
    "print('GridSearchCV best hyperparameter', grid_cv.best_params_)"
   ]
  },
  {
   "cell_type": "code",
   "execution_count": 175,
   "metadata": {
    "ExecuteTime": {
     "end_time": "2019-03-28T04:14:14.374587Z",
     "start_time": "2019-03-28T04:14:08.459603Z"
    }
   },
   "outputs": [
    {
     "name": "stdout",
     "output_type": "stream",
     "text": [
      "max_depth = 4 accuracy : 0.4301\n",
      "max_depth = 5 accuracy : 0.4226\n",
      "max_depth = 6 accuracy : 0.4546\n",
      "max_depth = 7 accuracy : 0.4688\n",
      "max_depth = 8 accuracy : 0.5082\n",
      "max_depth = 9 accuracy : 0.4702\n",
      "max_depth = 10 accuracy : 0.4621\n"
     ]
    }
   ],
   "source": [
    "max_depth = [4,5,6,7,8,9,10]\n",
    "\n",
    "for depth in max_depth :\n",
    "    dt = DecisionTreeClassifier(random_state = 156, max_depth = depth)\n",
    "    dt.fit(X_train_mas, y_train)\n",
    "    pred = dt.predict(X_test_mas)\n",
    "    auc = roc_auc_score(y_test, pred)\n",
    "    print('max_depth = {0} accuracy : {1:.4f}'.format(depth, auc))"
   ]
  },
  {
   "cell_type": "code",
   "execution_count": 176,
   "metadata": {
    "ExecuteTime": {
     "end_time": "2019-03-28T04:19:14.588173Z",
     "start_time": "2019-03-28T04:19:13.408506Z"
    }
   },
   "outputs": [
    {
     "name": "stdout",
     "output_type": "stream",
     "text": [
      "accuracy : 0.6038 precision : 0.6078 recall : 0.9688 F1 : 0.7470 AUC : 0.5082\n",
      "[[ 1 20]\n",
      " [ 1 31]]\n"
     ]
    }
   ],
   "source": [
    "# max_depth = 7 - MaxAbsScaler\n",
    "dt = DecisionTreeClassifier(random_state = 156, max_depth = 8)\n",
    "dt.fit(X_train_mas, y_train)\n",
    "pred = dt.predict(X_test_mas)\n",
    "\n",
    "get_eval(y_test, pred)"
   ]
  },
  {
   "cell_type": "code",
   "execution_count": 177,
   "metadata": {
    "ExecuteTime": {
     "end_time": "2019-03-28T04:21:18.145942Z",
     "start_time": "2019-03-28T04:21:16.932362Z"
    }
   },
   "outputs": [
    {
     "name": "stdout",
     "output_type": "stream",
     "text": [
      "accuracy : 0.6038 precision : 0.6078 recall : 0.9688 F1 : 0.7470 AUC : 0.5082\n",
      "[[ 1 20]\n",
      " [ 1 31]]\n"
     ]
    }
   ],
   "source": [
    "# max_depth = 7 - MinMaxScaler\n",
    "dt = DecisionTreeClassifier(random_state = 156, max_depth = 8)\n",
    "dt.fit(X_train_mms, y_train)\n",
    "pred = dt.predict(X_test_mms)\n",
    "\n",
    "get_eval(y_test, pred)"
   ]
  },
  {
   "cell_type": "code",
   "execution_count": 178,
   "metadata": {
    "ExecuteTime": {
     "end_time": "2019-03-28T04:21:27.072665Z",
     "start_time": "2019-03-28T04:21:25.845078Z"
    }
   },
   "outputs": [
    {
     "name": "stdout",
     "output_type": "stream",
     "text": [
      "accuracy : 0.5660 precision : 0.5957 recall : 0.8750 F1 : 0.7089 AUC : 0.4851\n",
      "[[ 2 19]\n",
      " [ 4 28]]\n"
     ]
    }
   ],
   "source": [
    "# max_depth = 7 - Original data\n",
    "dt = DecisionTreeClassifier(random_state = 156, max_depth = 8)\n",
    "dt.fit(X_train, y_train)\n",
    "pred = dt.predict(X_test)\n",
    "\n",
    "get_eval(y_test, pred)"
   ]
  },
  {
   "cell_type": "code",
   "execution_count": 180,
   "metadata": {},
   "outputs": [
    {
     "data": {
      "image/png": "[encoded data removed]",
      "text/plain": [
       "<Figure size 432x288 with 1 Axes>"
      ]
     },
     "metadata": {
      "needs_background": "light"
     },
     "output_type": "display_data"
    }
   ],
   "source": [
    "dt = DecisionTreeClassifier(random_state = 156, max_depth = 8)\n",
    "dt.fit(X_train_mas, y_train)\n",
    "pred = dt.predict(X_test_mas)\n",
    "pred_proba = dt.predict_proba(X_test_mas)\n",
    "\n",
    "roc_curve_plot(y_test, pred_proba[:,1])"
   ]
  },
  {
   "cell_type": "code",
   "execution_count": 20,
   "metadata": {
    "ExecuteTime": {
     "end_time": "2019-04-03T05:41:07.352642Z",
     "start_time": "2019-04-03T05:41:07.340836Z"
    }
   },
   "outputs": [],
   "source": [
    "from sklearn.preprocessing import Binarizer\n",
    "\n",
    "def get_eval_by_threshold(y_test, pred_prba_c1, thresholds) :\n",
    "    \n",
    "    for custom_threshold in thresholds :\n",
    "        binarizer = Binarizer(threshold=custom_threshold).fit(pred_prba_c1)\n",
    "        custom_predict = binarizer.transform(pred_prba_c1)\n",
    "        \n",
    "        print('threshold ; ', custom_threshold)\n",
    "        get_eval(y_test, custom_predict)\n",
    "        print('\\n')"
   ]
  },
  {
   "cell_type": "code",
   "execution_count": 181,
   "metadata": {},
   "outputs": [
    {
     "name": "stdout",
     "output_type": "stream",
     "text": [
      "threshold ;  0.5\n",
      "accuracy : 0.6038 precision : 0.6078 recall : 0.9688 F1 : 0.7470 AUC : 0.5082\n",
      "[[ 1 20]\n",
      " [ 1 31]]\n",
      "\n",
      "\n",
      "threshold ;  0.9\n",
      "accuracy : 0.6038 precision : 0.6078 recall : 0.9688 F1 : 0.7470 AUC : 0.5082\n",
      "[[ 1 20]\n",
      " [ 1 31]]\n",
      "\n",
      "\n"
     ]
    }
   ],
   "source": [
    "#decision tree predict proba return only class\n",
    "thresholds = [0.50,0.9]\n",
    "get_eval_by_threshold(y_test, pred_proba[:,1].reshape(-1,1), thresholds)"
   ]
  },
  {
   "cell_type": "markdown",
   "metadata": {},
   "source": [
    "# Randomforest"
   ]
  },
  {
   "cell_type": "code",
   "execution_count": 17,
   "metadata": {},
   "outputs": [],
   "source": [
    "from sklearn.ensemble import RandomForestClassifier"
   ]
  },
  {
   "cell_type": "markdown",
   "metadata": {},
   "source": [
    "## MinMaxScale"
   ]
  },
  {
   "cell_type": "code",
   "execution_count": 182,
   "metadata": {},
   "outputs": [
    {
     "name": "stdout",
     "output_type": "stream",
     "text": [
      "best hyperparameter :  {'max_depth': 7, 'min_samples_leaf': 8, 'min_samples_split': 16, 'n_estimators': 200}\n",
      "best accuray : 0.9849\n"
     ]
    }
   ],
   "source": [
    "params = {\n",
    "    'n_estimators' : [100,200],\n",
    "    'max_depth' : [6,7,8,9,10,11,12],\n",
    "    'min_samples_leaf' : [8,12,18],\n",
    "    'min_samples_split' : [8,16,20]\n",
    "}\n",
    "\n",
    "rf = RandomForestClassifier(n_jobs = -1)\n",
    "grid_cv = GridSearchCV(rf, param_grid=params, cv = 2, n_jobs = -1)\n",
    "grid_cv.fit(X_train_mms, y_train)\n",
    "\n",
    "print('best hyperparameter : ', grid_cv.best_params_)\n",
    "print('best accuray : {0:.4f}'.format(grid_cv.best_score_))"
   ]
  },
  {
   "cell_type": "code",
   "execution_count": 193,
   "metadata": {},
   "outputs": [
    {
     "name": "stdout",
     "output_type": "stream",
     "text": [
      "accuracy : 0.6038 precision : 0.6038 recall : 1.0000 F1 : 0.7529 AUC : 0.5000\n",
      "[[ 0 21]\n",
      " [ 0 32]]\n"
     ]
    }
   ],
   "source": [
    "rf_best = RandomForestClassifier(n_jobs = -1, max_depth=7, min_samples_leaf=8, min_samples_split=16,\n",
    "                                n_estimators = 200)\n",
    "rf_best.fit(X_train_mms, y_train)\n",
    "pred = rf_best.predict(X_test_mms)\n",
    "pred_proba = rf_best.predict_proba(X_test_mms)\n",
    "get_eval(y_test, pred)\n",
    "#bad"
   ]
  },
  {
   "cell_type": "code",
   "execution_count": 194,
   "metadata": {},
   "outputs": [
    {
     "data": {
      "image/png": "[encoded data removed]",
      "text/plain": [
       "<Figure size 432x288 with 1 Axes>"
      ]
     },
     "metadata": {
      "needs_background": "light"
     },
     "output_type": "display_data"
    }
   ],
   "source": [
    "roc_curve_plot(y_test, pred_proba[:,1])"
   ]
  },
  {
   "cell_type": "code",
   "execution_count": 199,
   "metadata": {},
   "outputs": [
    {
     "name": "stdout",
     "output_type": "stream",
     "text": [
      "threshold ;  0.575\n",
      "accuracy : 0.6038 precision : 0.6774 recall : 0.6562 F1 : 0.6667 AUC : 0.5900\n",
      "[[11 10]\n",
      " [11 21]]\n",
      "\n",
      "\n",
      "threshold ;  0.6\n",
      "accuracy : 0.6415 precision : 0.7600 recall : 0.5938 F1 : 0.6667 AUC : 0.6540\n",
      "[[15  6]\n",
      " [13 19]]\n",
      "\n",
      "\n",
      "threshold ;  0.625\n",
      "accuracy : 0.6981 precision : 0.9000 recall : 0.5625 F1 : 0.6923 AUC : 0.7336\n",
      "[[19  2]\n",
      " [14 18]]\n",
      "\n",
      "\n",
      "threshold ;  0.65\n",
      "accuracy : 0.7170 precision : 0.9474 recall : 0.5625 F1 : 0.7059 AUC : 0.7574\n",
      "[[20  1]\n",
      " [14 18]]\n",
      "\n",
      "\n",
      "threshold ;  0.675\n",
      "accuracy : 0.6415 precision : 0.9333 recall : 0.4375 F1 : 0.5957 AUC : 0.6949\n",
      "[[20  1]\n",
      " [18 14]]\n",
      "\n",
      "\n",
      "threshold ;  0.7\n",
      "accuracy : 0.6415 precision : 1.0000 recall : 0.4062 F1 : 0.5778 AUC : 0.7031\n",
      "[[21  0]\n",
      " [19 13]]\n",
      "\n",
      "\n"
     ]
    }
   ],
   "source": [
    "thresholds = [0.575,0.6,0.625,0.65,0.675,0.7]\n",
    "get_eval_by_threshold(y_test, pred_proba[:,1].reshape(-1,1), thresholds)"
   ]
  },
  {
   "cell_type": "markdown",
   "metadata": {},
   "source": [
    "## MaxAbsScaler"
   ]
  },
  {
   "cell_type": "code",
   "execution_count": 200,
   "metadata": {},
   "outputs": [
    {
     "name": "stdout",
     "output_type": "stream",
     "text": [
      "best hyperparameter :  {'max_depth': 8, 'min_samples_leaf': 8, 'min_samples_split': 8, 'n_estimators': 200}\n",
      "best accuray : 0.9853\n"
     ]
    }
   ],
   "source": [
    "rf = RandomForestClassifier(n_jobs = -1)\n",
    "grid_cv = GridSearchCV(rf, param_grid=params, cv = 2, n_jobs = -1)\n",
    "grid_cv.fit(X_train_mas, y_train)\n",
    "\n",
    "print('best hyperparameter : ', grid_cv.best_params_)\n",
    "print('best accuray : {0:.4f}'.format(grid_cv.best_score_))"
   ]
  },
  {
   "cell_type": "code",
   "execution_count": 201,
   "metadata": {},
   "outputs": [
    {
     "name": "stdout",
     "output_type": "stream",
     "text": [
      "accuracy : 0.6038 precision : 0.6038 recall : 1.0000 F1 : 0.7529 AUC : 0.5000\n",
      "[[ 0 21]\n",
      " [ 0 32]]\n"
     ]
    }
   ],
   "source": [
    "rf_best = RandomForestClassifier(n_jobs = -1, max_depth=8, min_samples_leaf=8, min_samples_split=8,\n",
    "                                n_estimators = 200)\n",
    "rf_best.fit(X_train_mas, y_train)\n",
    "pred = rf_best.predict(X_test_mas)\n",
    "pred_proba = rf_best.predict_proba(X_test_mas)\n",
    "\n",
    "get_eval(y_test, pred)"
   ]
  },
  {
   "cell_type": "code",
   "execution_count": 202,
   "metadata": {},
   "outputs": [
    {
     "data": {
      "image/png": "[encoded data removed]",
      "text/plain": [
       "<Figure size 432x288 with 1 Axes>"
      ]
     },
     "metadata": {
      "needs_background": "light"
     },
     "output_type": "display_data"
    }
   ],
   "source": [
    "roc_curve_plot(y_test, pred_proba[:,1])"
   ]
  },
  {
   "cell_type": "code",
   "execution_count": 206,
   "metadata": {},
   "outputs": [
    {
     "name": "stdout",
     "output_type": "stream",
     "text": [
      "threshold ;  0.7\n",
      "accuracy : 0.5660 precision : 0.5882 recall : 0.9375 F1 : 0.7229 AUC : 0.4688\n",
      "[[ 0 21]\n",
      " [ 2 30]]\n",
      "\n",
      "\n",
      "threshold ;  0.75\n",
      "accuracy : 0.5283 precision : 0.5778 recall : 0.8125 F1 : 0.6753 AUC : 0.4539\n",
      "[[ 2 19]\n",
      " [ 6 26]]\n",
      "\n",
      "\n",
      "threshold ;  0.8\n",
      "accuracy : 0.6604 precision : 0.7333 recall : 0.6875 F1 : 0.7097 AUC : 0.6533\n",
      "[[13  8]\n",
      " [10 22]]\n",
      "\n",
      "\n",
      "threshold ;  0.85\n",
      "accuracy : 0.6792 precision : 1.0000 recall : 0.4688 F1 : 0.6383 AUC : 0.7344\n",
      "[[21  0]\n",
      " [17 15]]\n",
      "\n",
      "\n",
      "threshold ;  0.9\n",
      "accuracy : 0.5849 precision : 1.0000 recall : 0.3125 F1 : 0.4762 AUC : 0.6562\n",
      "[[21  0]\n",
      " [22 10]]\n",
      "\n",
      "\n"
     ]
    }
   ],
   "source": [
    "thresholds = [0.7,0.75,0.8,0.85,0.9]\n",
    "get_eval_by_threshold(y_test, pred_proba[:,1].reshape(-1,1), thresholds)"
   ]
  },
  {
   "cell_type": "markdown",
   "metadata": {},
   "source": [
    "# GBM"
   ]
  },
  {
   "cell_type": "code",
   "execution_count": 27,
   "metadata": {},
   "outputs": [],
   "source": [
    "from sklearn.ensemble import GradientBoostingClassifier\n",
    "import warnings\n",
    "warnings.filterwarnings('ignore')"
   ]
  },
  {
   "cell_type": "code",
   "execution_count": 67,
   "metadata": {},
   "outputs": [
    {
     "name": "stdout",
     "output_type": "stream",
     "text": [
      "###original data result###\n",
      "accuracy : 0.6038 precision : 0.6038 recall : 1.0000 F1 : 0.7529 AUC : 0.5000\n",
      "[[ 0 21]\n",
      " [ 0 32]]\n",
      "\n",
      "\n",
      "###MinMaxScaler data result###\n",
      "accuracy : 0.6038 precision : 0.6038 recall : 1.0000 F1 : 0.7529 AUC : 0.5000\n",
      "[[ 0 21]\n",
      " [ 0 32]]\n",
      "\n",
      "\n",
      "###MaxAbsScaler data result###\n",
      "accuracy : 0.6038 precision : 0.6038 recall : 1.0000 F1 : 0.7529 AUC : 0.5000\n",
      "[[ 0 21]\n",
      " [ 0 32]]\n"
     ]
    }
   ],
   "source": [
    "print('###original data result###')\n",
    "gb.fit(X_train, y_train)\n",
    "get_eval(y_test, gb.predict(X_test))\n",
    "print('\\n')\n",
    "print('###MinMaxScaler data result###')\n",
    "gb.fit(X_train_mms, y_train)\n",
    "get_eval(y_test, gb.predict(X_test_mms))\n",
    "print('\\n')\n",
    "print('###MaxAbsScaler data result###')\n",
    "gb.fit(X_train_mas, y_train)\n",
    "get_eval(y_test, gb.predict(X_test_mas))"
   ]
  },
  {
   "cell_type": "code",
   "execution_count": null,
   "metadata": {},
   "outputs": [],
   "source": []
  },
  {
   "cell_type": "markdown",
   "metadata": {},
   "source": [
    "# svm"
   ]
  },
  {
   "cell_type": "code",
   "execution_count": 79,
   "metadata": {},
   "outputs": [],
   "source": [
    "from sklearn.svm import SVC\n",
    "svc = SVC(kernel='rbf')"
   ]
  },
  {
   "cell_type": "code",
   "execution_count": 234,
   "metadata": {
    "scrolled": true
   },
   "outputs": [
    {
     "name": "stdout",
     "output_type": "stream",
     "text": [
      "###original data result###\n",
      "accuracy : 0.6415 precision : 1.0000 recall : 0.4062 F1 : 0.5778 AUC : 0.7031\n",
      "[[21  0]\n",
      " [19 13]]\n",
      "\n",
      "\n",
      "###MinMaxScaler data result###\n",
      "accuracy : 0.5472 precision : 1.0000 recall : 0.2500 F1 : 0.4000 AUC : 0.6250\n",
      "[[21  0]\n",
      " [24  8]]\n",
      "\n",
      "\n",
      "###MaxAbsScaler data result###\n",
      "accuracy : 0.6415 precision : 1.0000 recall : 0.4062 F1 : 0.5778 AUC : 0.7031\n",
      "[[21  0]\n",
      " [19 13]]\n"
     ]
    }
   ],
   "source": [
    "print('###original data result###')\n",
    "svc.fit(X_train, y_train)\n",
    "get_eval(y_test, svc.predict(X_test))\n",
    "print('\\n')\n",
    "print('###MinMaxScaler data result###')\n",
    "svc.fit(X_train_mms, y_train)\n",
    "get_eval(y_test, svc.predict(X_test_mms))\n",
    "print('\\n')\n",
    "print('###MaxAbsScaler data result###')\n",
    "svc.fit(X_train_mas, y_train)\n",
    "get_eval(y_test, svc.predict(X_test_mas))"
   ]
  },
  {
   "cell_type": "code",
   "execution_count": 236,
   "metadata": {},
   "outputs": [],
   "source": [
    "svc = SVC(kernel='rbf', probability=True)"
   ]
  },
  {
   "cell_type": "code",
   "execution_count": 237,
   "metadata": {},
   "outputs": [],
   "source": [
    "#original data\n",
    "svc.fit(X_train, y_train)\n",
    "pred = svc.predict(X_test)\n",
    "svc_proba = svc.predict_proba(X_test)"
   ]
  },
  {
   "cell_type": "code",
   "execution_count": 238,
   "metadata": {},
   "outputs": [
    {
     "name": "stdout",
     "output_type": "stream",
     "text": [
      "threshold ;  0.7\n",
      "accuracy : 0.5660 precision : 0.5882 recall : 0.9375 F1 : 0.7229 AUC : 0.4688\n",
      "[[ 0 21]\n",
      " [ 2 30]]\n",
      "\n",
      "\n",
      "threshold ;  0.75\n",
      "accuracy : 0.5283 precision : 0.5778 recall : 0.8125 F1 : 0.6753 AUC : 0.4539\n",
      "[[ 2 19]\n",
      " [ 6 26]]\n",
      "\n",
      "\n",
      "threshold ;  0.8\n",
      "accuracy : 0.6604 precision : 0.7333 recall : 0.6875 F1 : 0.7097 AUC : 0.6533\n",
      "[[13  8]\n",
      " [10 22]]\n",
      "\n",
      "\n",
      "threshold ;  0.85\n",
      "accuracy : 0.6792 precision : 1.0000 recall : 0.4688 F1 : 0.6383 AUC : 0.7344\n",
      "[[21  0]\n",
      " [17 15]]\n",
      "\n",
      "\n",
      "threshold ;  0.9\n",
      "accuracy : 0.5849 precision : 1.0000 recall : 0.3125 F1 : 0.4762 AUC : 0.6562\n",
      "[[21  0]\n",
      " [22 10]]\n",
      "\n",
      "\n"
     ]
    }
   ],
   "source": [
    "thresholds = [0.7,0.75,0.8,0.85,0.9]\n",
    "get_eval_by_threshold(y_test, pred_proba[:,1].reshape(-1,1), thresholds)\n"
   ]
  },
  {
   "cell_type": "code",
   "execution_count": 239,
   "metadata": {},
   "outputs": [],
   "source": [
    "#minmaxsclae\n",
    "svc.fit(X_train_mms, y_train)\n",
    "pred = svc.predict(X_test_mms)\n",
    "svc_proba = svc.predict_proba(X_test_mms)"
   ]
  },
  {
   "cell_type": "code",
   "execution_count": 240,
   "metadata": {},
   "outputs": [
    {
     "name": "stdout",
     "output_type": "stream",
     "text": [
      "threshold ;  0.7\n",
      "accuracy : 0.5660 precision : 0.5882 recall : 0.9375 F1 : 0.7229 AUC : 0.4688\n",
      "[[ 0 21]\n",
      " [ 2 30]]\n",
      "\n",
      "\n",
      "threshold ;  0.75\n",
      "accuracy : 0.5283 precision : 0.5778 recall : 0.8125 F1 : 0.6753 AUC : 0.4539\n",
      "[[ 2 19]\n",
      " [ 6 26]]\n",
      "\n",
      "\n",
      "threshold ;  0.8\n",
      "accuracy : 0.6604 precision : 0.7333 recall : 0.6875 F1 : 0.7097 AUC : 0.6533\n",
      "[[13  8]\n",
      " [10 22]]\n",
      "\n",
      "\n",
      "threshold ;  0.85\n",
      "accuracy : 0.6792 precision : 1.0000 recall : 0.4688 F1 : 0.6383 AUC : 0.7344\n",
      "[[21  0]\n",
      " [17 15]]\n",
      "\n",
      "\n",
      "threshold ;  0.9\n",
      "accuracy : 0.5849 precision : 1.0000 recall : 0.3125 F1 : 0.4762 AUC : 0.6562\n",
      "[[21  0]\n",
      " [22 10]]\n",
      "\n",
      "\n"
     ]
    }
   ],
   "source": [
    "thresholds = [0.7,0.75,0.8,0.85,0.9]\n",
    "get_eval_by_threshold(y_test, pred_proba[:,1].reshape(-1,1), thresholds)\n"
   ]
  },
  {
   "cell_type": "code",
   "execution_count": 241,
   "metadata": {},
   "outputs": [],
   "source": [
    "#maxabsscale\n",
    "svc.fit(X_train_mas, y_train)\n",
    "pred = svc.predict(X_test_mas)\n",
    "svc_proba = svc.predict_proba(X_test_mas)"
   ]
  },
  {
   "cell_type": "code",
   "execution_count": 242,
   "metadata": {},
   "outputs": [
    {
     "name": "stdout",
     "output_type": "stream",
     "text": [
      "threshold ;  0.7\n",
      "accuracy : 0.5660 precision : 0.5882 recall : 0.9375 F1 : 0.7229 AUC : 0.4688\n",
      "[[ 0 21]\n",
      " [ 2 30]]\n",
      "\n",
      "\n",
      "threshold ;  0.75\n",
      "accuracy : 0.5283 precision : 0.5778 recall : 0.8125 F1 : 0.6753 AUC : 0.4539\n",
      "[[ 2 19]\n",
      " [ 6 26]]\n",
      "\n",
      "\n",
      "threshold ;  0.8\n",
      "accuracy : 0.6604 precision : 0.7333 recall : 0.6875 F1 : 0.7097 AUC : 0.6533\n",
      "[[13  8]\n",
      " [10 22]]\n",
      "\n",
      "\n",
      "threshold ;  0.85\n",
      "accuracy : 0.6792 precision : 1.0000 recall : 0.4688 F1 : 0.6383 AUC : 0.7344\n",
      "[[21  0]\n",
      " [17 15]]\n",
      "\n",
      "\n",
      "threshold ;  0.9\n",
      "accuracy : 0.5849 precision : 1.0000 recall : 0.3125 F1 : 0.4762 AUC : 0.6562\n",
      "[[21  0]\n",
      " [22 10]]\n",
      "\n",
      "\n"
     ]
    }
   ],
   "source": [
    "thresholds = [0.7,0.75,0.8,0.85,0.9]\n",
    "get_eval_by_threshold(y_test, pred_proba[:,1].reshape(-1,1), thresholds)"
   ]
  },
  {
   "cell_type": "markdown",
   "metadata": {},
   "source": [
    "# logisticRegression\n",
    "- standardScaler"
   ]
  },
  {
   "cell_type": "code",
   "execution_count": 97,
   "metadata": {},
   "outputs": [],
   "source": [
    "from sklearn.preprocessing import StandardScaler\n",
    "from sklearn.linear_model import LogisticRegression\n",
    "ss = StandardScaler()\n",
    "lr = LogisticRegression()"
   ]
  },
  {
   "cell_type": "code",
   "execution_count": 98,
   "metadata": {},
   "outputs": [],
   "source": [
    "X_train_ss = ss.fit_transform(X_train)\n",
    "X_test_ss = ss.fit_transform(X_test)"
   ]
  },
  {
   "cell_type": "code",
   "execution_count": 135,
   "metadata": {},
   "outputs": [
    {
     "name": "stdout",
     "output_type": "stream",
     "text": [
      "accuracy : 0.5472 precision : 0.6818 recall : 0.4688 F1 : 0.5556 AUC : 0.5677\n",
      "[[14  7]\n",
      " [17 15]]\n"
     ]
    }
   ],
   "source": [
    "lr.fit(X_train_ss, y_train)\n",
    "pred = lr.predict(X_test_ss)\n",
    "pred_proba = lr.predict_proba(X_test_ss)\n",
    "get_eval(y_test, pred)"
   ]
  },
  {
   "cell_type": "code",
   "execution_count": 136,
   "metadata": {},
   "outputs": [
    {
     "data": {
      "image/png": "[encoded data removed]",
      "text/plain": [
       "<Figure size 432x288 with 1 Axes>"
      ]
     },
     "metadata": {
      "needs_background": "light"
     },
     "output_type": "display_data"
    }
   ],
   "source": [
    "roc_curve_plot(y_test, pred_proba[:,1])"
   ]
  },
  {
   "cell_type": "code",
   "execution_count": 138,
   "metadata": {},
   "outputs": [
    {
     "name": "stdout",
     "output_type": "stream",
     "text": [
      "threshold ;  0.7\n",
      "accuracy : 0.6038 precision : 0.7895 recall : 0.4688 F1 : 0.5882 AUC : 0.6391\n",
      "[[17  4]\n",
      " [17 15]]\n",
      "\n",
      "\n",
      "threshold ;  0.75\n",
      "accuracy : 0.6226 precision : 0.8333 recall : 0.4688 F1 : 0.6000 AUC : 0.6629\n",
      "[[18  3]\n",
      " [17 15]]\n",
      "\n",
      "\n",
      "threshold ;  0.8\n",
      "accuracy : 0.6226 precision : 0.8750 recall : 0.4375 F1 : 0.5833 AUC : 0.6711\n",
      "[[19  2]\n",
      " [18 14]]\n",
      "\n",
      "\n",
      "threshold ;  0.85\n",
      "accuracy : 0.6038 precision : 0.9231 recall : 0.3750 F1 : 0.5333 AUC : 0.6637\n",
      "[[20  1]\n",
      " [20 12]]\n",
      "\n",
      "\n",
      "threshold ;  0.9\n",
      "accuracy : 0.6038 precision : 1.0000 recall : 0.3438 F1 : 0.5116 AUC : 0.6719\n",
      "[[21  0]\n",
      " [21 11]]\n",
      "\n",
      "\n"
     ]
    }
   ],
   "source": [
    "thresholds = [0.7,0.75,0.8,0.85,0.9]\n",
    "get_eval_by_threshold(y_test, pred_proba[:,1].reshape(-1,1), thresholds)\n",
    "#best : 0.75"
   ]
  },
  {
   "cell_type": "markdown",
   "metadata": {},
   "source": [
    "# XGBoost"
   ]
  },
  {
   "cell_type": "code",
   "execution_count": 148,
   "metadata": {},
   "outputs": [],
   "source": [
    "from xgboost import XGBClassifier\n"
   ]
  },
  {
   "cell_type": "code",
   "execution_count": 154,
   "metadata": {},
   "outputs": [
    {
     "name": "stdout",
     "output_type": "stream",
     "text": [
      "(2114, 763)\n",
      "(53, 763)\n"
     ]
    }
   ],
   "source": [
    "print(X_train.shape)\n",
    "print(X_test.shape)"
   ]
  },
  {
   "cell_type": "code",
   "execution_count": 225,
   "metadata": {},
   "outputs": [
    {
     "name": "stdout",
     "output_type": "stream",
     "text": [
      "[0]\tvalidation_0-logloss:0.692979\n",
      "Will train until validation_0-logloss hasn't improved in 100 rounds.\n",
      "[50]\tvalidation_0-logloss:0.685458\n",
      "[100]\tvalidation_0-logloss:0.679325\n",
      "[150]\tvalidation_0-logloss:0.674503\n",
      "[200]\tvalidation_0-logloss:0.670786\n",
      "[250]\tvalidation_0-logloss:0.668171\n",
      "[300]\tvalidation_0-logloss:0.666476\n",
      "[350]\tvalidation_0-logloss:0.665627\n",
      "[399]\tvalidation_0-logloss:0.665521\n"
     ]
    },
    {
     "data": {
      "text/plain": [
       "XGBClassifier(base_score=0.5, booster='gbtree', colsample_bylevel=1,\n",
       "       colsample_bytree=1, gamma=0, learning_rate=0.001, max_delta_step=0,\n",
       "       max_depth=7, min_child_weight=1, missing=None, n_estimators=400,\n",
       "       n_jobs=-1, nthread=None, objective='binary:logistic',\n",
       "       random_state=0, reg_alpha=0, reg_lambda=1, scale_pos_weight=1,\n",
       "       seed=None, silent=True, subsample=1)"
      ]
     },
     "execution_count": 225,
     "metadata": {},
     "output_type": "execute_result"
    }
   ],
   "source": [
    "#original data\n",
    "xgb = XGBClassifier(learning_rate=0.001, n_estimators=400, n_jobs=-1, max_depth = 7)\n",
    "evals = [(X_test, y_test)]\n",
    "xgb.fit(X_train, y_train ,eval_set = evals, verbose = 50, early_stopping_rounds = 100, eval_metric = 'logloss')"
   ]
  },
  {
   "cell_type": "code",
   "execution_count": 226,
   "metadata": {},
   "outputs": [
    {
     "name": "stdout",
     "output_type": "stream",
     "text": [
      "accuracy : 0.5660 precision : 0.6216 recall : 0.7188 F1 : 0.6667 AUC : 0.5260\n",
      "[[ 7 14]\n",
      " [ 9 23]]\n"
     ]
    }
   ],
   "source": [
    "xgb_pred = xgb.predict(X_test)\n",
    "get_eval(y_test, xgb_pred)\n",
    "xgb_proba = xgb.predict_proba(X_test)"
   ]
  },
  {
   "cell_type": "code",
   "execution_count": 227,
   "metadata": {},
   "outputs": [
    {
     "name": "stdout",
     "output_type": "stream",
     "text": [
      "threshold ;  0.7\n",
      "accuracy : 0.5660 precision : 0.5882 recall : 0.9375 F1 : 0.7229 AUC : 0.4688\n",
      "[[ 0 21]\n",
      " [ 2 30]]\n",
      "\n",
      "\n",
      "threshold ;  0.75\n",
      "accuracy : 0.5283 precision : 0.5778 recall : 0.8125 F1 : 0.6753 AUC : 0.4539\n",
      "[[ 2 19]\n",
      " [ 6 26]]\n",
      "\n",
      "\n",
      "threshold ;  0.8\n",
      "accuracy : 0.6604 precision : 0.7333 recall : 0.6875 F1 : 0.7097 AUC : 0.6533\n",
      "[[13  8]\n",
      " [10 22]]\n",
      "\n",
      "\n",
      "threshold ;  0.85\n",
      "accuracy : 0.6792 precision : 1.0000 recall : 0.4688 F1 : 0.6383 AUC : 0.7344\n",
      "[[21  0]\n",
      " [17 15]]\n",
      "\n",
      "\n",
      "threshold ;  0.9\n",
      "accuracy : 0.5849 precision : 1.0000 recall : 0.3125 F1 : 0.4762 AUC : 0.6562\n",
      "[[21  0]\n",
      " [22 10]]\n",
      "\n",
      "\n"
     ]
    }
   ],
   "source": [
    "thresholds = [0.7,0.75,0.8,0.85,0.9]\n",
    "get_eval_by_threshold(y_test, pred_proba[:,1].reshape(-1,1), thresholds)\n"
   ]
  },
  {
   "cell_type": "code",
   "execution_count": 228,
   "metadata": {},
   "outputs": [
    {
     "name": "stdout",
     "output_type": "stream",
     "text": [
      "[0]\tvalidation_0-logloss:0.692969\n",
      "Will train until validation_0-logloss hasn't improved in 100 rounds.\n",
      "[50]\tvalidation_0-logloss:0.684518\n",
      "[100]\tvalidation_0-logloss:0.678019\n",
      "[150]\tvalidation_0-logloss:0.673086\n",
      "[200]\tvalidation_0-logloss:0.669515\n",
      "[250]\tvalidation_0-logloss:0.667155\n",
      "[300]\tvalidation_0-logloss:0.665881\n",
      "[350]\tvalidation_0-logloss:0.66558\n",
      "[399]\tvalidation_0-logloss:0.666121\n"
     ]
    },
    {
     "data": {
      "text/plain": [
       "XGBClassifier(base_score=0.5, booster='gbtree', colsample_bylevel=1,\n",
       "       colsample_bytree=1, gamma=0, learning_rate=0.001, max_delta_step=0,\n",
       "       max_depth=10, min_child_weight=1, missing=None, n_estimators=400,\n",
       "       n_jobs=-1, nthread=None, objective='binary:logistic',\n",
       "       random_state=0, reg_alpha=0, reg_lambda=1, scale_pos_weight=1,\n",
       "       seed=None, silent=True, subsample=1)"
      ]
     },
     "execution_count": 228,
     "metadata": {},
     "output_type": "execute_result"
    }
   ],
   "source": [
    "#MinMAxScale\n",
    "xgb = XGBClassifier(learning_rate=0.001, n_estimators=400, n_jobs=-1, max_depth = 10)\n",
    "evals = [(X_test_mms, y_test)]\n",
    "xgb.fit(X_train_mms, y_train ,eval_set = evals, verbose = 50, early_stopping_rounds = 100, eval_metric = 'logloss')"
   ]
  },
  {
   "cell_type": "code",
   "execution_count": 229,
   "metadata": {},
   "outputs": [
    {
     "name": "stdout",
     "output_type": "stream",
     "text": [
      "accuracy : 0.6038 precision : 0.6122 recall : 0.9375 F1 : 0.7407 AUC : 0.5164\n",
      "[[ 2 19]\n",
      " [ 2 30]]\n"
     ]
    }
   ],
   "source": [
    "xgb_pred = xgb.predict(X_test_mms)\n",
    "get_eval(y_test, xgb_pred)\n",
    "xgb_proba = xgb.predict_proba(X_test_mms)"
   ]
  },
  {
   "cell_type": "code",
   "execution_count": 230,
   "metadata": {},
   "outputs": [
    {
     "name": "stdout",
     "output_type": "stream",
     "text": [
      "threshold ;  0.7\n",
      "accuracy : 0.5660 precision : 0.5882 recall : 0.9375 F1 : 0.7229 AUC : 0.4688\n",
      "[[ 0 21]\n",
      " [ 2 30]]\n",
      "\n",
      "\n",
      "threshold ;  0.75\n",
      "accuracy : 0.5283 precision : 0.5778 recall : 0.8125 F1 : 0.6753 AUC : 0.4539\n",
      "[[ 2 19]\n",
      " [ 6 26]]\n",
      "\n",
      "\n",
      "threshold ;  0.8\n",
      "accuracy : 0.6604 precision : 0.7333 recall : 0.6875 F1 : 0.7097 AUC : 0.6533\n",
      "[[13  8]\n",
      " [10 22]]\n",
      "\n",
      "\n",
      "threshold ;  0.85\n",
      "accuracy : 0.6792 precision : 1.0000 recall : 0.4688 F1 : 0.6383 AUC : 0.7344\n",
      "[[21  0]\n",
      " [17 15]]\n",
      "\n",
      "\n",
      "threshold ;  0.9\n",
      "accuracy : 0.5849 precision : 1.0000 recall : 0.3125 F1 : 0.4762 AUC : 0.6562\n",
      "[[21  0]\n",
      " [22 10]]\n",
      "\n",
      "\n"
     ]
    }
   ],
   "source": [
    "thresholds = [0.7,0.75,0.8,0.85,0.9]\n",
    "get_eval_by_threshold(y_test, pred_proba[:,1].reshape(-1,1), thresholds)\n"
   ]
  },
  {
   "cell_type": "code",
   "execution_count": 231,
   "metadata": {},
   "outputs": [
    {
     "name": "stdout",
     "output_type": "stream",
     "text": [
      "[0]\tvalidation_0-logloss:0.693011\n",
      "Will train until validation_0-logloss hasn't improved in 100 rounds.\n",
      "[50]\tvalidation_0-logloss:0.686535\n",
      "[100]\tvalidation_0-logloss:0.681947\n",
      "[150]\tvalidation_0-logloss:0.678803\n",
      "[200]\tvalidation_0-logloss:0.676817\n",
      "[250]\tvalidation_0-logloss:0.675865\n",
      "[300]\tvalidation_0-logloss:0.675835\n",
      "[350]\tvalidation_0-logloss:0.676616\n",
      "Stopping. Best iteration:\n",
      "[277]\tvalidation_0-logloss:0.675739\n",
      "\n"
     ]
    },
    {
     "data": {
      "text/plain": [
       "XGBClassifier(base_score=0.5, booster='gbtree', colsample_bylevel=1,\n",
       "       colsample_bytree=1, gamma=0, learning_rate=0.001, max_delta_step=0,\n",
       "       max_depth=10, min_child_weight=1, missing=None, n_estimators=400,\n",
       "       n_jobs=-1, nthread=None, objective='binary:logistic',\n",
       "       random_state=0, reg_alpha=0, reg_lambda=1, scale_pos_weight=1,\n",
       "       seed=None, silent=True, subsample=1)"
      ]
     },
     "execution_count": 231,
     "metadata": {},
     "output_type": "execute_result"
    }
   ],
   "source": [
    "#MinMAxScale\n",
    "xgb = XGBClassifier(learning_rate=0.001, n_estimators=400, n_jobs=-1, max_depth = 10)\n",
    "evals = [(X_test_mas, y_test)]\n",
    "xgb.fit(X_train_mas, y_train ,eval_set = evals, verbose = 50, early_stopping_rounds = 100, eval_metric = 'logloss')"
   ]
  },
  {
   "cell_type": "code",
   "execution_count": 232,
   "metadata": {},
   "outputs": [
    {
     "name": "stdout",
     "output_type": "stream",
     "text": [
      "accuracy : 0.5283 precision : 0.5814 recall : 0.7812 F1 : 0.6667 AUC : 0.4621\n",
      "[[ 3 18]\n",
      " [ 7 25]]\n"
     ]
    }
   ],
   "source": [
    "xgb_pred = xgb.predict(X_test_mas)\n",
    "get_eval(y_test, xgb_pred)\n",
    "xgb_proba = xgb.predict_proba(X_test_mas)"
   ]
  },
  {
   "cell_type": "code",
   "execution_count": 233,
   "metadata": {},
   "outputs": [
    {
     "name": "stdout",
     "output_type": "stream",
     "text": [
      "threshold ;  0.7\n",
      "accuracy : 0.5660 precision : 0.5882 recall : 0.9375 F1 : 0.7229 AUC : 0.4688\n",
      "[[ 0 21]\n",
      " [ 2 30]]\n",
      "\n",
      "\n",
      "threshold ;  0.75\n",
      "accuracy : 0.5283 precision : 0.5778 recall : 0.8125 F1 : 0.6753 AUC : 0.4539\n",
      "[[ 2 19]\n",
      " [ 6 26]]\n",
      "\n",
      "\n",
      "threshold ;  0.8\n",
      "accuracy : 0.6604 precision : 0.7333 recall : 0.6875 F1 : 0.7097 AUC : 0.6533\n",
      "[[13  8]\n",
      " [10 22]]\n",
      "\n",
      "\n",
      "threshold ;  0.85\n",
      "accuracy : 0.6792 precision : 1.0000 recall : 0.4688 F1 : 0.6383 AUC : 0.7344\n",
      "[[21  0]\n",
      " [17 15]]\n",
      "\n",
      "\n",
      "threshold ;  0.9\n",
      "accuracy : 0.5849 precision : 1.0000 recall : 0.3125 F1 : 0.4762 AUC : 0.6562\n",
      "[[21  0]\n",
      " [22 10]]\n",
      "\n",
      "\n"
     ]
    }
   ],
   "source": [
    "thresholds = [0.7,0.75,0.8,0.85,0.9]\n",
    "get_eval_by_threshold(y_test, pred_proba[:,1].reshape(-1,1), thresholds)\n"
   ]
  },
  {
   "cell_type": "markdown",
   "metadata": {},
   "source": [
    "# lightgbm"
   ]
  },
  {
   "cell_type": "code",
   "execution_count": 9,
   "metadata": {
    "ExecuteTime": {
     "end_time": "2019-04-03T05:25:29.147383Z",
     "start_time": "2019-04-03T05:25:29.139221Z"
    }
   },
   "outputs": [],
   "source": [
    "from lightgbm import LGBMClassifier"
   ]
  },
  {
   "cell_type": "code",
   "execution_count": 14,
   "metadata": {
    "ExecuteTime": {
     "end_time": "2019-04-03T05:28:54.473935Z",
     "start_time": "2019-04-03T05:28:24.780847Z"
    }
   },
   "outputs": [
    {
     "name": "stdout",
     "output_type": "stream",
     "text": [
      "Training until validation scores don't improve for 100 rounds.\n",
      "[50]\tvalid_0's binary_logloss: 0.708923\tvalid_0's binary_logloss: 0.708923\n",
      "[100]\tvalid_0's binary_logloss: 0.642708\tvalid_0's binary_logloss: 0.642708\n",
      "[150]\tvalid_0's binary_logloss: 0.64509\tvalid_0's binary_logloss: 0.64509\n",
      "[200]\tvalid_0's binary_logloss: 0.678437\tvalid_0's binary_logloss: 0.678437\n",
      "Early stopping, best iteration is:\n",
      "[127]\tvalid_0's binary_logloss: 0.637873\tvalid_0's binary_logloss: 0.637873\n"
     ]
    },
    {
     "data": {
      "text/plain": [
       "LGBMClassifier(boosting_type='gbdt', class_weight=None, colsample_bytree=1.0,\n",
       "        importance_type='split', learning_rate=0.01, max_depth=-1,\n",
       "        min_child_samples=20, min_child_weight=0.001, min_split_gain=0.0,\n",
       "        n_estimators=400, n_jobs=-1, num_leaves=31, objective=None,\n",
       "        random_state=None, reg_alpha=0.0, reg_lambda=0.0, silent=True,\n",
       "        subsample=1.0, subsample_for_bin=200000, subsample_freq=0)"
      ]
     },
     "execution_count": 14,
     "metadata": {},
     "output_type": "execute_result"
    }
   ],
   "source": [
    "lgbm = LGBMClassifier(n_estimators=400, learning_rate=0.01)\n",
    "evals = [(X_test, y_test)]\n",
    "\n",
    "lgbm.fit(X_train ,y_train, early_stopping_rounds = 100, eval_metric = 'logloss', eval_set = evals, verbose = 50)"
   ]
  },
  {
   "cell_type": "code",
   "execution_count": 15,
   "metadata": {
    "ExecuteTime": {
     "end_time": "2019-04-03T05:30:05.605764Z",
     "start_time": "2019-04-03T05:30:05.417101Z"
    }
   },
   "outputs": [
    {
     "name": "stdout",
     "output_type": "stream",
     "text": [
      "accuracy : 0.5849 precision : 0.6190 recall : 0.8125 F1 : 0.7027 AUC : 0.5253\n",
      "[[ 5 16]\n",
      " [ 6 26]]\n"
     ]
    }
   ],
   "source": [
    "pred = lgbm.predict(X_test)\n",
    "get_eval(y_test, pred)"
   ]
  },
  {
   "cell_type": "code",
   "execution_count": 16,
   "metadata": {
    "ExecuteTime": {
     "end_time": "2019-04-03T05:36:30.158676Z",
     "start_time": "2019-04-03T05:35:57.175388Z"
    }
   },
   "outputs": [
    {
     "name": "stdout",
     "output_type": "stream",
     "text": [
      "Training until validation scores don't improve for 100 rounds.\n",
      "[50]\tvalid_0's binary_logloss: 0.742225\tvalid_0's binary_logloss: 0.742225\n",
      "[100]\tvalid_0's binary_logloss: 0.662305\tvalid_0's binary_logloss: 0.662305\n",
      "[150]\tvalid_0's binary_logloss: 0.643509\tvalid_0's binary_logloss: 0.643509\n",
      "[200]\tvalid_0's binary_logloss: 0.642075\tvalid_0's binary_logloss: 0.642075\n",
      "[250]\tvalid_0's binary_logloss: 0.667928\tvalid_0's binary_logloss: 0.667928\n",
      "Early stopping, best iteration is:\n",
      "[177]\tvalid_0's binary_logloss: 0.639454\tvalid_0's binary_logloss: 0.639454\n",
      "accuracy : 0.5849 precision : 0.6190 recall : 0.8125 F1 : 0.7027 AUC : 0.5253\n",
      "[[ 5 16]\n",
      " [ 6 26]]\n"
     ]
    }
   ],
   "source": [
    "#minmaxscale\n",
    "lgbm = LGBMClassifier(n_estimators=400, learning_rate=0.01)\n",
    "evals = [(X_test_mms, y_test)]\n",
    "\n",
    "lgbm.fit(X_train_mms ,y_train, early_stopping_rounds = 100, eval_metric = 'logloss', eval_set = evals, verbose = 50)\n",
    "pred = lgbm.predict(X_test_mms)\n",
    "get_eval(y_test, pred)"
   ]
  },
  {
   "cell_type": "code",
   "execution_count": 17,
   "metadata": {
    "ExecuteTime": {
     "end_time": "2019-04-03T05:37:35.899000Z",
     "start_time": "2019-04-03T05:37:08.265927Z"
    }
   },
   "outputs": [
    {
     "name": "stdout",
     "output_type": "stream",
     "text": [
      "Training until validation scores don't improve for 100 rounds.\n",
      "[50]\tvalid_0's binary_logloss: 0.700912\tvalid_0's binary_logloss: 0.700912\n",
      "[100]\tvalid_0's binary_logloss: 0.616291\tvalid_0's binary_logloss: 0.616291\n",
      "[150]\tvalid_0's binary_logloss: 0.643785\tvalid_0's binary_logloss: 0.643785\n",
      "[200]\tvalid_0's binary_logloss: 0.704194\tvalid_0's binary_logloss: 0.704194\n",
      "Early stopping, best iteration is:\n",
      "[110]\tvalid_0's binary_logloss: 0.613479\tvalid_0's binary_logloss: 0.613479\n",
      "accuracy : 0.6604 precision : 0.6667 recall : 0.8750 F1 : 0.7568 AUC : 0.6042\n",
      "[[ 7 14]\n",
      " [ 4 28]]\n"
     ]
    }
   ],
   "source": [
    "#maxabsscale\n",
    "lgbm = LGBMClassifier(n_estimators=400, learning_rate=0.01)\n",
    "evals = [(X_test_mas, y_test)]\n",
    "\n",
    "lgbm.fit(X_train_mas ,y_train, early_stopping_rounds = 100, eval_metric = 'logloss', eval_set = evals, verbose = 50)\n",
    "pred = lgbm.predict(X_test_mas)\n",
    "get_eval(y_test, pred)#maxabsscale"
   ]
  },
  {
   "cell_type": "code",
   "execution_count": 27,
   "metadata": {
    "ExecuteTime": {
     "end_time": "2019-04-03T05:44:16.322944Z",
     "start_time": "2019-04-03T05:44:16.048368Z"
    }
   },
   "outputs": [
    {
     "name": "stdout",
     "output_type": "stream",
     "text": [
      "threshold ;  0.5\n",
      "accuracy : 0.6604 precision : 0.6750 recall : 0.8438 F1 : 0.7500 AUC : 0.6124\n",
      "[[ 8 13]\n",
      " [ 5 27]]\n",
      "\n",
      "\n",
      "threshold ;  0.55\n",
      "accuracy : 0.6415 precision : 0.6857 recall : 0.7500 F1 : 0.7164 AUC : 0.6131\n",
      "[[10 11]\n",
      " [ 8 24]]\n",
      "\n",
      "\n",
      "threshold ;  0.6\n",
      "accuracy : 0.7358 precision : 0.8000 recall : 0.7500 F1 : 0.7742 AUC : 0.7321\n",
      "[[15  6]\n",
      " [ 8 24]]\n",
      "\n",
      "\n",
      "threshold ;  0.65\n",
      "accuracy : 0.6792 precision : 0.7778 recall : 0.6562 F1 : 0.7119 AUC : 0.6853\n",
      "[[15  6]\n",
      " [11 21]]\n",
      "\n",
      "\n"
     ]
    }
   ],
   "source": [
    "pred_proba = lgbm.predict_proba(X_test)\n",
    "thresholds = [0.5,0.55,0.6,0.65]\n",
    "get_eval_by_threshold(y_test, pred_proba[:,1].reshape(-1,1), thresholds)\n"
   ]
  }
 ],
 "metadata": {
  "hide_input": false,
  "kernelspec": {
   "display_name": "Python 3",
   "language": "python",
   "name": "python3"
  },
  "language_info": {
   "codemirror_mode": {
    "name": "ipython",
    "version": 3
   },
   "file_extension": ".py",
   "mimetype": "text/x-python",
   "name": "python",
   "nbconvert_exporter": "python",
   "pygments_lexer": "ipython3",
   "version": "3.7.1"
  },
  "toc": {
   "base_numbering": 1,
   "nav_menu": {},
   "number_sections": true,
   "sideBar": true,
   "skip_h1_title": false,
   "title_cell": "Table of Contents",
   "title_sidebar": "Contents",
   "toc_cell": false,
   "toc_position": {},
   "toc_section_display": true,
   "toc_window_display": true
  }
 },
 "nbformat": 4,
 "nbformat_minor": 2
}
