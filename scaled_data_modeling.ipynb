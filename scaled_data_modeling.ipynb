{
 "cells": [
  {
   "cell_type": "code",
   "execution_count": 1,
   "metadata": {
    "ExecuteTime": {
     "end_time": "2019-03-27T11:41:21.329302Z",
     "start_time": "2019-03-27T11:41:20.225391Z"
    }
   },
   "outputs": [],
   "source": [
    "import pandas as pd\n",
    "import numpy as np"
   ]
  },
  {
   "cell_type": "code",
   "execution_count": 2,
   "metadata": {
    "ExecuteTime": {
     "end_time": "2019-03-27T11:41:23.323182Z",
     "start_time": "2019-03-27T11:41:23.305428Z"
    }
   },
   "outputs": [
    {
     "data": {
      "text/plain": [
       "['BC_32ea_k100_cyto.csv',\n",
       " 'BC_32ea_k15_cyto.csv',\n",
       " 'K15_common.csv',\n",
       " 'Normal_21ea_k100_cyto.csv',\n",
       " 'Normal_21ea_k15_cyto.csv',\n",
       " 'PC_20ea_k100_cyto.csv',\n",
       " 'PC_20ea_k15_cyto.csv',\n",
       " 'RC_20ea_k100_cyto.csv',\n",
       " 'TCGA_common.csv',\n",
       " 'TCGA_data.csv']"
      ]
     },
     "execution_count": 2,
     "metadata": {},
     "output_type": "execute_result"
    }
   ],
   "source": [
    "import os\n",
    "os.listdir('../my/data')"
   ]
  },
  {
   "cell_type": "code",
   "execution_count": 4,
   "metadata": {
    "ExecuteTime": {
     "end_time": "2019-03-27T11:41:42.090030Z",
     "start_time": "2019-03-27T11:41:38.873554Z"
    }
   },
   "outputs": [],
   "source": [
    "tcga = pd.read_csv('../my/data/TCGA_common.csv')\n",
    "urine = pd.read_csv('../my/data/K15_common.csv')"
   ]
  },
  {
   "cell_type": "code",
   "execution_count": 5,
   "metadata": {
    "ExecuteTime": {
     "end_time": "2019-03-27T11:41:42.109438Z",
     "start_time": "2019-03-27T11:41:42.097192Z"
    }
   },
   "outputs": [
    {
     "name": "stdout",
     "output_type": "stream",
     "text": [
      "(2606, 764)\n",
      "(72, 764)\n"
     ]
    }
   ],
   "source": [
    "print(tcga.shape)\n",
    "print(urine.shape)"
   ]
  },
  {
   "cell_type": "code",
   "execution_count": 7,
   "metadata": {
    "ExecuteTime": {
     "end_time": "2019-03-27T11:42:40.024949Z",
     "start_time": "2019-03-27T11:42:40.008528Z"
    }
   },
   "outputs": [
    {
     "data": {
      "text/plain": [
       "Normal    1706\n",
       "PC         492\n",
       "BC         408\n",
       "Name: y, dtype: int64"
      ]
     },
     "execution_count": 7,
     "metadata": {},
     "output_type": "execute_result"
    }
   ],
   "source": [
    "tcga.y.value_counts()"
   ]
  },
  {
   "cell_type": "code",
   "execution_count": 8,
   "metadata": {
    "ExecuteTime": {
     "end_time": "2019-03-27T11:42:51.832070Z",
     "start_time": "2019-03-27T11:42:51.822989Z"
    }
   },
   "outputs": [
    {
     "data": {
      "text/plain": [
       "BC        32\n",
       "Normal    21\n",
       "PC        19\n",
       "Name: cancer, dtype: int64"
      ]
     },
     "execution_count": 8,
     "metadata": {},
     "output_type": "execute_result"
    }
   ],
   "source": [
    "urine.cancer.value_counts()"
   ]
  },
  {
   "cell_type": "markdown",
   "metadata": {},
   "source": [
    "# BC-Normal"
   ]
  },
  {
   "cell_type": "code",
   "execution_count": 9,
   "metadata": {
    "ExecuteTime": {
     "end_time": "2019-03-27T11:43:49.689525Z",
     "start_time": "2019-03-27T11:43:49.671780Z"
    }
   },
   "outputs": [],
   "source": [
    "urine_BC_Norm=urine.loc[urine['cancer'].isin(['Normal','BC'])]\n",
    "tcga_BC_Norm=tcga.loc[tcga['y'].isin(['Normal','BC'])]"
   ]
  },
  {
   "cell_type": "code",
   "execution_count": 10,
   "metadata": {
    "ExecuteTime": {
     "end_time": "2019-03-27T11:43:50.231676Z",
     "start_time": "2019-03-27T11:43:50.223620Z"
    }
   },
   "outputs": [
    {
     "name": "stdout",
     "output_type": "stream",
     "text": [
      "(2114, 764)\n",
      "(53, 764)\n"
     ]
    }
   ],
   "source": [
    "print(tcga_BC_Norm.shape)\n",
    "print(urine_BC_Norm.shape)"
   ]
  },
  {
   "cell_type": "code",
   "execution_count": 11,
   "metadata": {
    "ExecuteTime": {
     "end_time": "2019-03-27T11:44:35.891393Z",
     "start_time": "2019-03-27T11:44:35.873289Z"
    }
   },
   "outputs": [],
   "source": [
    "X_train = tcga_BC_Norm.drop('y', axis = 1)\n",
    "y_train = tcga_BC_Norm['y']\n",
    "X_test = urine_BC_Norm.drop('cancer',axis=1)\n",
    "y_test= urine_BC_Norm['cancer']"
   ]
  },
  {
   "cell_type": "code",
   "execution_count": 12,
   "metadata": {
    "ExecuteTime": {
     "end_time": "2019-03-27T11:45:16.861601Z",
     "start_time": "2019-03-27T11:45:16.856348Z"
    }
   },
   "outputs": [
    {
     "name": "stdout",
     "output_type": "stream",
     "text": [
      "X_train shape : ,  (2114, 763) y_train :  (2114,)\n",
      "X_test shape : ,  (53, 763) y_test :  (53,)\n"
     ]
    }
   ],
   "source": [
    "print('X_train shape : , ', X_train.shape, 'y_train : ', y_train.shape)\n",
    "print('X_test shape : , ', X_test.shape, 'y_test : ', y_test.shape)"
   ]
  },
  {
   "cell_type": "markdown",
   "metadata": {},
   "source": [
    "# Scaling\n",
    "## MaxAbsScaler"
   ]
  },
  {
   "cell_type": "code",
   "execution_count": 37,
   "metadata": {
    "ExecuteTime": {
     "end_time": "2019-03-27T12:05:57.366970Z",
     "start_time": "2019-03-27T12:05:43.896604Z"
    }
   },
   "outputs": [],
   "source": [
    "from sklearn.pipeline import Pipeline\n",
    "from sklearn.preprocessing import StandardScaler,MinMaxScaler,MaxAbsScaler\n",
    "from sklearn.ensemble import AdaBoostClassifier\n",
    "from sklearn.tree import DecisionTreeClassifier\n",
    "\n",
    "pipeline_ada = Pipeline([('scaler', MaxAbsScaler()), ('classifier', AdaBoostClassifier())])\n",
    "pipeline_tree = Pipeline([('scaler', MaxAbsScaler()), ('classifier', DecisionTreeClassifier())])\n",
    "\n",
    "pipeline_ada.fit(X_train, y_train)\n",
    "pipeline_tree.fit(X_train, y_train)\n",
    "\n",
    "ada_pred = pipeline_ada.predict(X_test)\n",
    "tree_pred = pipeline_tree.predict(X_test)"
   ]
  },
  {
   "cell_type": "code",
   "execution_count": 38,
   "metadata": {
    "ExecuteTime": {
     "end_time": "2019-03-27T12:05:57.386682Z",
     "start_time": "2019-03-27T12:05:57.372712Z"
    }
   },
   "outputs": [
    {
     "name": "stdout",
     "output_type": "stream",
     "text": [
      "adaboost Accuracy 62.264150943396224 %\n",
      "tree Accuracy 56.60377358490566 %\n"
     ]
    }
   ],
   "source": [
    "print(\"adaboost Accuracy\",(accuracy_score(y_test, ada_pred))*100,\"%\")\n",
    "print(\"tree Accuracy\",(accuracy_score(y_test, tree_pred))*100,\"%\")"
   ]
  },
  {
   "cell_type": "code",
   "execution_count": 39,
   "metadata": {
    "ExecuteTime": {
     "end_time": "2019-03-27T12:06:05.209164Z",
     "start_time": "2019-03-27T12:06:05.198823Z"
    }
   },
   "outputs": [],
   "source": [
    "from sklearn.metrics import accuracy_score\n",
    "from sklearn.metrics import recall_score\n",
    "from sklearn.metrics import precision_score\n",
    "from sklearn.metrics import confusion_matrix\n",
    "from sklearn.metrics import f1_score\n",
    "from sklearn.metrics import roc_auc_score\n",
    "from sklearn.metrics import classification_report\n",
    "\n",
    "def get_eval(y_test, pred) :\n",
    "    '''\n",
    "    print('accuracy : {0:.4f} precision : {1:.4f} recall : {2:.4f} F1 : {3:.4f} AUC : {4:.4f}'.format(\n",
    "                                                        accuracy_score(y_test, pred), \n",
    "                                                        precision_score(y_test, pred),\n",
    "                                                        recall_score(y_test, pred),\n",
    "                                                        f1_score(y_test,pred),\n",
    "                                                        roc_auc_score(y_test, pred)\n",
    "                                                                      ))\n",
    "    '''\n",
    "    \n",
    "    print('accuracy : {0:.4f}'.format(accuracy_score(y_test,pred)))\n",
    "    print(classification_report(y_test, pred))\n",
    "    print(confusion_matrix(y_test, pred))"
   ]
  },
  {
   "cell_type": "code",
   "execution_count": 40,
   "metadata": {
    "ExecuteTime": {
     "end_time": "2019-03-27T12:06:14.696147Z",
     "start_time": "2019-03-27T12:06:14.673385Z"
    }
   },
   "outputs": [
    {
     "name": "stdout",
     "output_type": "stream",
     "text": [
      "accuracy : 0.6226\n",
      "              precision    recall  f1-score   support\n",
      "\n",
      "          BC       0.66      0.78      0.71        32\n",
      "      Normal       0.53      0.38      0.44        21\n",
      "\n",
      "   micro avg       0.62      0.62      0.62        53\n",
      "   macro avg       0.60      0.58      0.58        53\n",
      "weighted avg       0.61      0.62      0.61        53\n",
      "\n",
      "[[25  7]\n",
      " [13  8]]\n",
      "accuracy : 0.5660\n",
      "              precision    recall  f1-score   support\n",
      "\n",
      "          BC       0.62      0.75      0.68        32\n",
      "      Normal       0.43      0.29      0.34        21\n",
      "\n",
      "   micro avg       0.57      0.57      0.57        53\n",
      "   macro avg       0.52      0.52      0.51        53\n",
      "weighted avg       0.54      0.57      0.54        53\n",
      "\n",
      "[[24  8]\n",
      " [15  6]]\n"
     ]
    }
   ],
   "source": [
    "get_eval(y_test, ada_pred)\n",
    "get_eval(y_test, tree_pred)"
   ]
  },
  {
   "cell_type": "markdown",
   "metadata": {},
   "source": [
    "## MinMaxScaler"
   ]
  },
  {
   "cell_type": "code",
   "execution_count": 41,
   "metadata": {
    "ExecuteTime": {
     "end_time": "2019-03-27T12:07:04.562130Z",
     "start_time": "2019-03-27T12:06:51.326344Z"
    }
   },
   "outputs": [],
   "source": [
    "pipeline_ada = Pipeline([('scaler', MinMaxScaler()), ('classifier', AdaBoostClassifier())])\n",
    "pipeline_tree = Pipeline([('scaler', MinMaxScaler()), ('classifier', DecisionTreeClassifier())])\n",
    "\n",
    "pipeline_ada.fit(X_train, y_train)\n",
    "pipeline_tree.fit(X_train, y_train)\n",
    "\n",
    "ada_pred = pipeline_ada.predict(X_test)\n",
    "tree_pred = pipeline_tree.predict(X_test)"
   ]
  },
  {
   "cell_type": "code",
   "execution_count": 42,
   "metadata": {
    "ExecuteTime": {
     "end_time": "2019-03-27T12:07:04.591843Z",
     "start_time": "2019-03-27T12:07:04.567561Z"
    }
   },
   "outputs": [
    {
     "name": "stdout",
     "output_type": "stream",
     "text": [
      "accuracy : 0.6038\n",
      "              precision    recall  f1-score   support\n",
      "\n",
      "          BC       0.63      0.81      0.71        32\n",
      "      Normal       0.50      0.29      0.36        21\n",
      "\n",
      "   micro avg       0.60      0.60      0.60        53\n",
      "   macro avg       0.57      0.55      0.54        53\n",
      "weighted avg       0.58      0.60      0.57        53\n",
      "\n",
      "[[26  6]\n",
      " [15  6]]\n",
      "accuracy : 0.5849\n",
      "              precision    recall  f1-score   support\n",
      "\n",
      "          BC       0.61      0.88      0.72        32\n",
      "      Normal       0.43      0.14      0.21        21\n",
      "\n",
      "   micro avg       0.58      0.58      0.58        53\n",
      "   macro avg       0.52      0.51      0.47        53\n",
      "weighted avg       0.54      0.58      0.52        53\n",
      "\n",
      "[[28  4]\n",
      " [18  3]]\n"
     ]
    }
   ],
   "source": [
    "get_eval(y_test, ada_pred)\n",
    "get_eval(y_test, tree_pred)"
   ]
  }
 ],
 "metadata": {
  "hide_input": false,
  "kernelspec": {
   "display_name": "Python 3",
   "language": "python",
   "name": "python3"
  },
  "language_info": {
   "codemirror_mode": {
    "name": "ipython",
    "version": 3
   },
   "file_extension": ".py",
   "mimetype": "text/x-python",
   "name": "python",
   "nbconvert_exporter": "python",
   "pygments_lexer": "ipython3",
   "version": "3.7.1"
  },
  "toc": {
   "base_numbering": 1,
   "nav_menu": {},
   "number_sections": true,
   "sideBar": true,
   "skip_h1_title": false,
   "title_cell": "Table of Contents",
   "title_sidebar": "Contents",
   "toc_cell": false,
   "toc_position": {},
   "toc_section_display": true,
   "toc_window_display": true
  }
 },
 "nbformat": 4,
 "nbformat_minor": 2
}
